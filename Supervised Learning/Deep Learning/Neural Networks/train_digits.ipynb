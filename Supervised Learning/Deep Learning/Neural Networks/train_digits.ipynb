{
 "cells": [
  {
   "cell_type": "code",
   "execution_count": null,
   "metadata": {},
   "outputs": [],
   "source": [
    "import numpy as np\n",
    "import matplotlib.pyplot as plt\n",
    "from sklearn.datasets import load_digits\n",
    "from sklearn.model_selection import train_test_split\n",
    "\n",
    "import utils\n",
    "import layers\n",
    "import metrics\n",
    "import optimizers\n",
    "from activations import *\n",
    "from loss_functions import *\n",
    "from neural_network import FeedForwardNeuralNetwork"
   ]
  },
  {
   "cell_type": "markdown",
   "metadata": {},
   "source": [
    "### Constants and Hyperparameters"
   ]
  },
  {
   "cell_type": "code",
   "execution_count": 2,
   "metadata": {},
   "outputs": [],
   "source": [
    "train_test_split_pct = 0.2 # Percentage of samples to use for testing\n",
    "train_valid_split = 0.2 # Percentage of samples to use for validation\n",
    "learning_rate = 1e-4 # Learning rate for the optimizer\n",
    "batch_size = 16 # Number of samples to use for each batch\n",
    "epochs = 300 # Number of epochs to train the model\n",
    "seed = 1234 # Seed for reproducibility"
   ]
  },
  {
   "cell_type": "code",
   "execution_count": 3,
   "metadata": {},
   "outputs": [],
   "source": [
    "# Set the seed for reproducibility\n",
    "np.random.seed(seed)"
   ]
  },
  {
   "cell_type": "markdown",
   "metadata": {},
   "source": [
    "### Data loading"
   ]
  },
  {
   "cell_type": "code",
   "execution_count": null,
   "metadata": {},
   "outputs": [
    {
     "name": "stdout",
     "output_type": "stream",
     "text": [
      "Number of classes: 10\n",
      "Training set shape: (1149, 64)\n",
      "Validation set shape: (288, 64)\n",
      "Testing set shape: (360, 64)\n"
     ]
    }
   ],
   "source": [
    "# Load the digits dataset\n",
    "digits = load_digits()\n",
    "\n",
    "# Extract the number of classes in the dataset\n",
    "num_classes = len(np.unique(digits.target)) # type: ignore\n",
    "\n",
    "# Split the dataset into training and testing sets\n",
    "X_train, X_test, y_train, y_test = train_test_split(digits.data, digits.target, test_size=train_test_split_pct, random_state=seed) # type: ignore\n",
    "\n",
    "# Split the training set into training and validation sets\n",
    "X_train, X_valid, y_train, y_valid = train_test_split(X_train, y_train, test_size=train_valid_split, random_state=seed) # type: ignore\n",
    "\n",
    "# Print the dataset information\n",
    "print(\"Number of classes:\", num_classes)\n",
    "print('Training set:', X_train.shape, y_train.shape)\n",
    "print('Validation set:', X_valid.shape, y_valid.shape)\n",
    "print('Testing set:', X_test.shape, y_test.shape)"
   ]
  },
  {
   "cell_type": "markdown",
   "metadata": {},
   "source": [
    "### Data Preprocessing"
   ]
  },
  {
   "cell_type": "code",
   "execution_count": 5,
   "metadata": {},
   "outputs": [],
   "source": [
    "# Normalization\n",
    "def normalize(X: np.ndarray) -> np.ndarray:\n",
    "    \"\"\"\n",
    "    Normalize the input data by dividing by the maximum value in the training set.\n",
    "    \n",
    "    Parameters:\n",
    "    - X (np.ndarray): The input data to normalize\n",
    "    \n",
    "    Returns:\n",
    "    - np.ndarray: The normalized input data\n",
    "    \"\"\"\n",
    "    \n",
    "    # Normalize the input data\n",
    "    return X / 255.0\n",
    "\n",
    "\n",
    "# Normalize the input data\n",
    "X_train = normalize(X_train)\n",
    "X_valid = normalize(X_valid)\n",
    "X_test = normalize(X_test)"
   ]
  },
  {
   "cell_type": "code",
   "execution_count": 6,
   "metadata": {},
   "outputs": [
    {
     "name": "stdout",
     "output_type": "stream",
     "text": [
      "Sample target value: 1\n",
      "One-hot encoded value: [0 1 0 0 0 0 0 0 0 0]\n"
     ]
    }
   ],
   "source": [
    "# Convert the target values to one-hot encoded vectors\n",
    "y_train_encoded = utils.one_hot_encoding(y=y_train, n_classes=num_classes)\n",
    "y_valid_encoded = utils.one_hot_encoding(y=y_valid, n_classes=num_classes)\n",
    "\n",
    "# Print one sample encoding\n",
    "print(\"Sample target value:\", y_train[0])\n",
    "print(\"One-hot encoded value:\", y_train_encoded[0])"
   ]
  },
  {
   "cell_type": "markdown",
   "metadata": {},
   "source": [
    "### Data visualization"
   ]
  },
  {
   "cell_type": "code",
   "execution_count": 7,
   "metadata": {},
   "outputs": [
    {
     "data": {
      "image/png": "[encoded data removed]",
      "text/plain": [
       "<Figure size 2000x500 with 10 Axes>"
      ]
     },
     "metadata": {},
     "output_type": "display_data"
    }
   ],
   "source": [
    "def plot_samples(samples: list[np.ndarray], labels: list[np.ndarray]) -> None:\n",
    "    \"\"\"\n",
    "    Plot the samples in a grid.\n",
    "    \n",
    "    Parameters:\n",
    "    - samples (list[np.ndarray]): The samples to plot\n",
    "    - labels (list[np.ndarray]): The labels of the samples\n",
    "    \"\"\"\n",
    "    \n",
    "    reshaped_samples = []\n",
    "    # Iterate over the samples\n",
    "    for sample in samples:\n",
    "        # Compute the new shape\n",
    "        new_shape = np.sqrt(sample.shape).astype(int)[0]\n",
    "        \n",
    "        # Reshape the sample\n",
    "        sample = sample.reshape(new_shape, new_shape)\n",
    "        \n",
    "        # Append the reshaped sample\n",
    "        reshaped_samples.append(sample)\n",
    "        \n",
    "    # Plot the samples in a grid\n",
    "    fig, axes = plt.subplots(1, len(samples), figsize=(20, 5))\n",
    "    for i, ax in enumerate(axes):\n",
    "        ax.imshow(reshaped_samples[i], cmap='gray')\n",
    "        ax.set_title(f'Label: {labels[i]}')\n",
    "        ax.axis('off')\n",
    "        \n",
    "        \n",
    "# Plot the first 10 samples\n",
    "plot_samples(X_train[:10], y_train[:10])"
   ]
  },
  {
   "cell_type": "markdown",
   "metadata": {},
   "source": [
    "### Building the model"
   ]
  },
  {
   "cell_type": "code",
   "execution_count": null,
   "metadata": {},
   "outputs": [],
   "source": [
    "model = FeedForwardNeuralNetwork([\n",
    "    layers.Dense(num_units=24, activation=ReLU()),\n",
    "    layers.BatchNormalization1D(),\n",
    "    layers.Dropout(rate=0.1),\n",
    "    layers.Dense(num_units=32, activation=ReLU()),\n",
    "    layers.Dropout(rate=0.1),\n",
    "    layers.Dense(num_units=12, activation=Tanh()),\n",
    "    layers.Dropout(rate=0.1),\n",
    "    layers.Dense(num_units=num_classes, activation=Softmax())\n",
    "])\n",
    "\n",
    "# Initialize the optimizer\n",
    "optimizer = optimizers.Adam(learning_rate=learning_rate)\n",
    "\n",
    "# Initialize the loss function\n",
    "loss_fn = CrossEntropy()"
   ]
  },
  {
   "cell_type": "code",
   "execution_count": 9,
   "metadata": {},
   "outputs": [],
   "source": [
    "# Set the input shape of the model\n",
    "model.set_input_shape(batch_size=batch_size, n_features=X_train.shape[-1])"
   ]
  },
  {
   "cell_type": "code",
   "execution_count": 10,
   "metadata": {},
   "outputs": [
    {
     "name": "stdout",
     "output_type": "stream",
     "text": [
      "\n",
      "Neural Network (ID: 0)\n",
      "\n",
      "--------------------------------------------------------------------------------\n",
      "Layer (type)                            Output Shape        Trainable params #  \n",
      "================================================================================\n",
      "dense_1 (Dense)                         (16, 24)            1560                \n",
      "--------------------------------------------------------------------------------\n",
      "batch_normalization1_d_2                \n",
      "(BatchNormalization1D)                  (16, 24)            48                  \n",
      "--------------------------------------------------------------------------------\n",
      "dropout_3 (Dropout)                     (16, 24)            0                   \n",
      "--------------------------------------------------------------------------------\n",
      "dense_4 (Dense)                         (16, 32)            800                 \n",
      "--------------------------------------------------------------------------------\n",
      "dropout_5 (Dropout)                     (16, 32)            0                   \n",
      "--------------------------------------------------------------------------------\n",
      "dense_6 (Dense)                         (16, 12)            396                 \n",
      "--------------------------------------------------------------------------------\n",
      "dropout_7 (Dropout)                     (16, 12)            0                   \n",
      "--------------------------------------------------------------------------------\n",
      "dense_8 (Dense)                         (16, 10)            130                 \n",
      "================================================================================\n",
      "Total trainable parameters: 2934\n",
      "--------------------------------------------------------------------------------\n"
     ]
    }
   ],
   "source": [
    "# Display the model summary\n",
    "model.summary()"
   ]
  },
  {
   "cell_type": "markdown",
   "metadata": {},
   "source": [
    "### Training the model"
   ]
  },
  {
   "cell_type": "code",
   "execution_count": 11,
   "metadata": {},
   "outputs": [
    {
     "name": "stdout",
     "output_type": "stream",
     "text": [
      "Epoch 1/300 --> Training loss: 2.2724 - Training accuracy: 0.3621 | Validation loss: 2.2745 - Validation accuracy: 0.3542\n",
      "Epoch 2/300 --> Training loss: 2.1789 - Training accuracy: 0.4421 | Validation loss: 2.1103 - Validation accuracy: 0.4167\n",
      "Epoch 3/300 --> Training loss: 2.0885 - Training accuracy: 0.4735 | Validation loss: 1.9877 - Validation accuracy: 0.4618\n",
      "Epoch 4/300 --> Training loss: 1.9687 - Training accuracy: 0.4648 | Validation loss: 1.8746 - Validation accuracy: 0.4688\n",
      "Epoch 5/300 --> Training loss: 1.8686 - Training accuracy: 0.5274 | Validation loss: 1.7605 - Validation accuracy: 0.5208\n",
      "Epoch 6/300 --> Training loss: 1.7749 - Training accuracy: 0.5918 | Validation loss: 1.6500 - Validation accuracy: 0.5938\n",
      "Epoch 7/300 --> Training loss: 1.6653 - Training accuracy: 0.6336 | Validation loss: 1.5403 - Validation accuracy: 0.6389\n",
      "Epoch 8/300 --> Training loss: 1.5869 - Training accuracy: 0.7137 | Validation loss: 1.4373 - Validation accuracy: 0.7222\n",
      "Epoch 9/300 --> Training loss: 1.5043 - Training accuracy: 0.7441 | Validation loss: 1.3408 - Validation accuracy: 0.7639\n",
      "Epoch 10/300 --> Training loss: 1.4175 - Training accuracy: 0.7781 | Validation loss: 1.2540 - Validation accuracy: 0.7778\n",
      "Epoch 11/300 --> Training loss: 1.3423 - Training accuracy: 0.7963 | Validation loss: 1.1832 - Validation accuracy: 0.7917\n",
      "Epoch 12/300 --> Training loss: 1.2905 - Training accuracy: 0.8016 | Validation loss: 1.1212 - Validation accuracy: 0.7917\n",
      "Epoch 13/300 --> Training loss: 1.2394 - Training accuracy: 0.8190 | Validation loss: 1.0579 - Validation accuracy: 0.8125\n",
      "Epoch 14/300 --> Training loss: 1.1784 - Training accuracy: 0.8312 | Validation loss: 1.0038 - Validation accuracy: 0.8160\n",
      "Epoch 15/300 --> Training loss: 1.1317 - Training accuracy: 0.8294 | Validation loss: 0.9599 - Validation accuracy: 0.8264\n",
      "Epoch 16/300 --> Training loss: 1.0869 - Training accuracy: 0.8486 | Validation loss: 0.9100 - Validation accuracy: 0.8438\n",
      "Epoch 17/300 --> Training loss: 1.0401 - Training accuracy: 0.8616 | Validation loss: 0.8676 - Validation accuracy: 0.8646\n",
      "Epoch 18/300 --> Training loss: 1.0069 - Training accuracy: 0.8625 | Validation loss: 0.8433 - Validation accuracy: 0.8646\n",
      "Epoch 19/300 --> Training loss: 0.9983 - Training accuracy: 0.8729 | Validation loss: 0.8098 - Validation accuracy: 0.8611\n",
      "Epoch 20/300 --> Training loss: 0.9482 - Training accuracy: 0.8808 | Validation loss: 0.7747 - Validation accuracy: 0.8854\n",
      "Epoch 21/300 --> Training loss: 0.8993 - Training accuracy: 0.8808 | Validation loss: 0.7540 - Validation accuracy: 0.8785\n",
      "Epoch 22/300 --> Training loss: 0.8826 - Training accuracy: 0.8930 | Validation loss: 0.7248 - Validation accuracy: 0.8854\n",
      "Epoch 23/300 --> Training loss: 0.8634 - Training accuracy: 0.8947 | Validation loss: 0.6996 - Validation accuracy: 0.8819\n",
      "Epoch 24/300 --> Training loss: 0.8671 - Training accuracy: 0.9034 | Validation loss: 0.6759 - Validation accuracy: 0.8958\n",
      "Epoch 25/300 --> Training loss: 0.8284 - Training accuracy: 0.9051 | Validation loss: 0.6586 - Validation accuracy: 0.8924\n",
      "Epoch 26/300 --> Training loss: 0.7959 - Training accuracy: 0.9086 | Validation loss: 0.6451 - Validation accuracy: 0.8924\n",
      "Epoch 27/300 --> Training loss: 0.7882 - Training accuracy: 0.9138 | Validation loss: 0.6300 - Validation accuracy: 0.8889\n",
      "Epoch 28/300 --> Training loss: 0.7611 - Training accuracy: 0.9234 | Validation loss: 0.6054 - Validation accuracy: 0.9028\n",
      "Epoch 29/300 --> Training loss: 0.7486 - Training accuracy: 0.9260 | Validation loss: 0.5903 - Validation accuracy: 0.9028\n",
      "Epoch 30/300 --> Training loss: 0.7231 - Training accuracy: 0.9330 | Validation loss: 0.5750 - Validation accuracy: 0.9028\n",
      "Epoch 31/300 --> Training loss: 0.7279 - Training accuracy: 0.9330 | Validation loss: 0.5611 - Validation accuracy: 0.9062\n",
      "Epoch 32/300 --> Training loss: 0.7033 - Training accuracy: 0.9339 | Validation loss: 0.5436 - Validation accuracy: 0.9167\n",
      "Epoch 33/300 --> Training loss: 0.6826 - Training accuracy: 0.9382 | Validation loss: 0.5244 - Validation accuracy: 0.9236\n",
      "Epoch 34/300 --> Training loss: 0.6681 - Training accuracy: 0.9399 | Validation loss: 0.5140 - Validation accuracy: 0.9132\n",
      "Epoch 35/300 --> Training loss: 0.6487 - Training accuracy: 0.9504 | Validation loss: 0.5093 - Validation accuracy: 0.9306\n",
      "Epoch 36/300 --> Training loss: 0.6354 - Training accuracy: 0.9469 | Validation loss: 0.5081 - Validation accuracy: 0.9167\n",
      "Epoch 37/300 --> Training loss: 0.6368 - Training accuracy: 0.9460 | Validation loss: 0.4839 - Validation accuracy: 0.9236\n",
      "Epoch 38/300 --> Training loss: 0.6173 - Training accuracy: 0.9434 | Validation loss: 0.4902 - Validation accuracy: 0.9132\n",
      "Epoch 39/300 --> Training loss: 0.6125 - Training accuracy: 0.9565 | Validation loss: 0.4644 - Validation accuracy: 0.9340\n",
      "Epoch 40/300 --> Training loss: 0.6006 - Training accuracy: 0.9539 | Validation loss: 0.4587 - Validation accuracy: 0.9375\n",
      "Epoch 41/300 --> Training loss: 0.5972 - Training accuracy: 0.9547 | Validation loss: 0.4534 - Validation accuracy: 0.9340\n",
      "Epoch 42/300 --> Training loss: 0.5766 - Training accuracy: 0.9582 | Validation loss: 0.4483 - Validation accuracy: 0.9271\n",
      "Epoch 43/300 --> Training loss: 0.5580 - Training accuracy: 0.9547 | Validation loss: 0.4320 - Validation accuracy: 0.9444\n",
      "Epoch 44/300 --> Training loss: 0.5438 - Training accuracy: 0.9556 | Validation loss: 0.4175 - Validation accuracy: 0.9375\n",
      "Epoch 45/300 --> Training loss: 0.5292 - Training accuracy: 0.9608 | Validation loss: 0.4139 - Validation accuracy: 0.9375\n",
      "Epoch 46/300 --> Training loss: 0.5361 - Training accuracy: 0.9600 | Validation loss: 0.4118 - Validation accuracy: 0.9375\n",
      "Epoch 47/300 --> Training loss: 0.5425 - Training accuracy: 0.9608 | Validation loss: 0.3886 - Validation accuracy: 0.9444\n",
      "Epoch 48/300 --> Training loss: 0.5163 - Training accuracy: 0.9626 | Validation loss: 0.3924 - Validation accuracy: 0.9375\n",
      "Epoch 49/300 --> Training loss: 0.5183 - Training accuracy: 0.9608 | Validation loss: 0.3793 - Validation accuracy: 0.9375\n",
      "Epoch 50/300 --> Training loss: 0.4897 - Training accuracy: 0.9643 | Validation loss: 0.3853 - Validation accuracy: 0.9410\n",
      "Epoch 51/300 --> Training loss: 0.4933 - Training accuracy: 0.9617 | Validation loss: 0.3655 - Validation accuracy: 0.9375\n",
      "Epoch 52/300 --> Training loss: 0.4889 - Training accuracy: 0.9617 | Validation loss: 0.3651 - Validation accuracy: 0.9410\n",
      "Epoch 53/300 --> Training loss: 0.4764 - Training accuracy: 0.9617 | Validation loss: 0.3624 - Validation accuracy: 0.9410\n",
      "Epoch 54/300 --> Training loss: 0.4835 - Training accuracy: 0.9661 | Validation loss: 0.3557 - Validation accuracy: 0.9410\n",
      "Epoch 55/300 --> Training loss: 0.4869 - Training accuracy: 0.9661 | Validation loss: 0.3419 - Validation accuracy: 0.9444\n",
      "Epoch 56/300 --> Training loss: 0.4669 - Training accuracy: 0.9669 | Validation loss: 0.3374 - Validation accuracy: 0.9444\n",
      "Epoch 57/300 --> Training loss: 0.4465 - Training accuracy: 0.9678 | Validation loss: 0.3367 - Validation accuracy: 0.9375\n",
      "Epoch 58/300 --> Training loss: 0.4564 - Training accuracy: 0.9678 | Validation loss: 0.3300 - Validation accuracy: 0.9410\n",
      "Epoch 59/300 --> Training loss: 0.4409 - Training accuracy: 0.9669 | Validation loss: 0.3217 - Validation accuracy: 0.9514\n",
      "Epoch 60/300 --> Training loss: 0.4426 - Training accuracy: 0.9704 | Validation loss: 0.3244 - Validation accuracy: 0.9549\n",
      "Epoch 61/300 --> Training loss: 0.4289 - Training accuracy: 0.9695 | Validation loss: 0.3112 - Validation accuracy: 0.9479\n",
      "Epoch 62/300 --> Training loss: 0.4248 - Training accuracy: 0.9695 | Validation loss: 0.3095 - Validation accuracy: 0.9479\n",
      "Epoch 63/300 --> Training loss: 0.4287 - Training accuracy: 0.9704 | Validation loss: 0.3035 - Validation accuracy: 0.9514\n",
      "Epoch 64/300 --> Training loss: 0.4225 - Training accuracy: 0.9678 | Validation loss: 0.3009 - Validation accuracy: 0.9410\n",
      "Epoch 65/300 --> Training loss: 0.4020 - Training accuracy: 0.9713 | Validation loss: 0.2944 - Validation accuracy: 0.9514\n",
      "Epoch 66/300 --> Training loss: 0.4192 - Training accuracy: 0.9695 | Validation loss: 0.2938 - Validation accuracy: 0.9583\n",
      "Epoch 67/300 --> Training loss: 0.4034 - Training accuracy: 0.9704 | Validation loss: 0.2892 - Validation accuracy: 0.9479\n",
      "Epoch 68/300 --> Training loss: 0.4046 - Training accuracy: 0.9713 | Validation loss: 0.2790 - Validation accuracy: 0.9479\n",
      "Epoch 69/300 --> Training loss: 0.3837 - Training accuracy: 0.9713 | Validation loss: 0.2856 - Validation accuracy: 0.9444\n",
      "Epoch 70/300 --> Training loss: 0.3691 - Training accuracy: 0.9748 | Validation loss: 0.2771 - Validation accuracy: 0.9653\n",
      "Epoch 71/300 --> Training loss: 0.3585 - Training accuracy: 0.9739 | Validation loss: 0.2677 - Validation accuracy: 0.9583\n",
      "Epoch 72/300 --> Training loss: 0.3663 - Training accuracy: 0.9739 | Validation loss: 0.2658 - Validation accuracy: 0.9549\n",
      "Epoch 73/300 --> Training loss: 0.3818 - Training accuracy: 0.9748 | Validation loss: 0.2657 - Validation accuracy: 0.9549\n",
      "Epoch 74/300 --> Training loss: 0.3633 - Training accuracy: 0.9748 | Validation loss: 0.2592 - Validation accuracy: 0.9583\n",
      "Epoch 75/300 --> Training loss: 0.3310 - Training accuracy: 0.9756 | Validation loss: 0.2581 - Validation accuracy: 0.9549\n",
      "Epoch 76/300 --> Training loss: 0.3396 - Training accuracy: 0.9739 | Validation loss: 0.2567 - Validation accuracy: 0.9549\n",
      "Epoch 77/300 --> Training loss: 0.3327 - Training accuracy: 0.9739 | Validation loss: 0.2452 - Validation accuracy: 0.9583\n",
      "Epoch 78/300 --> Training loss: 0.3687 - Training accuracy: 0.9748 | Validation loss: 0.2448 - Validation accuracy: 0.9549\n",
      "Epoch 79/300 --> Training loss: 0.3376 - Training accuracy: 0.9756 | Validation loss: 0.2427 - Validation accuracy: 0.9583\n",
      "Epoch 80/300 --> Training loss: 0.3556 - Training accuracy: 0.9774 | Validation loss: 0.2372 - Validation accuracy: 0.9618\n",
      "Epoch 81/300 --> Training loss: 0.3420 - Training accuracy: 0.9765 | Validation loss: 0.2423 - Validation accuracy: 0.9583\n",
      "Epoch 82/300 --> Training loss: 0.3400 - Training accuracy: 0.9774 | Validation loss: 0.2349 - Validation accuracy: 0.9688\n",
      "Epoch 83/300 --> Training loss: 0.3287 - Training accuracy: 0.9748 | Validation loss: 0.2343 - Validation accuracy: 0.9514\n",
      "Epoch 84/300 --> Training loss: 0.3331 - Training accuracy: 0.9765 | Validation loss: 0.2297 - Validation accuracy: 0.9583\n",
      "Epoch 85/300 --> Training loss: 0.3456 - Training accuracy: 0.9774 | Validation loss: 0.2322 - Validation accuracy: 0.9549\n",
      "Epoch 86/300 --> Training loss: 0.3208 - Training accuracy: 0.9765 | Validation loss: 0.2333 - Validation accuracy: 0.9549\n",
      "Epoch 87/300 --> Training loss: 0.3113 - Training accuracy: 0.9756 | Validation loss: 0.2338 - Validation accuracy: 0.9549\n",
      "Epoch 88/300 --> Training loss: 0.3415 - Training accuracy: 0.9774 | Validation loss: 0.2240 - Validation accuracy: 0.9618\n",
      "Epoch 89/300 --> Training loss: 0.2977 - Training accuracy: 0.9774 | Validation loss: 0.2217 - Validation accuracy: 0.9583\n",
      "Epoch 90/300 --> Training loss: 0.3025 - Training accuracy: 0.9774 | Validation loss: 0.2222 - Validation accuracy: 0.9549\n",
      "Epoch 91/300 --> Training loss: 0.3222 - Training accuracy: 0.9765 | Validation loss: 0.2227 - Validation accuracy: 0.9618\n",
      "Epoch 92/300 --> Training loss: 0.3005 - Training accuracy: 0.9774 | Validation loss: 0.2172 - Validation accuracy: 0.9653\n",
      "Epoch 93/300 --> Training loss: 0.3051 - Training accuracy: 0.9800 | Validation loss: 0.2202 - Validation accuracy: 0.9653\n",
      "Epoch 94/300 --> Training loss: 0.3005 - Training accuracy: 0.9809 | Validation loss: 0.2192 - Validation accuracy: 0.9618\n",
      "Epoch 95/300 --> Training loss: 0.3024 - Training accuracy: 0.9782 | Validation loss: 0.2047 - Validation accuracy: 0.9549\n",
      "Epoch 96/300 --> Training loss: 0.2947 - Training accuracy: 0.9809 | Validation loss: 0.2112 - Validation accuracy: 0.9549\n",
      "Epoch 97/300 --> Training loss: 0.2994 - Training accuracy: 0.9800 | Validation loss: 0.2056 - Validation accuracy: 0.9688\n",
      "Epoch 98/300 --> Training loss: 0.2870 - Training accuracy: 0.9800 | Validation loss: 0.2071 - Validation accuracy: 0.9549\n",
      "Epoch 99/300 --> Training loss: 0.2932 - Training accuracy: 0.9800 | Validation loss: 0.2067 - Validation accuracy: 0.9583\n",
      "Epoch 100/300 --> Training loss: 0.2675 - Training accuracy: 0.9800 | Validation loss: 0.2027 - Validation accuracy: 0.9549\n",
      "Epoch 101/300 --> Training loss: 0.2730 - Training accuracy: 0.9809 | Validation loss: 0.1975 - Validation accuracy: 0.9583\n",
      "Epoch 102/300 --> Training loss: 0.2793 - Training accuracy: 0.9800 | Validation loss: 0.2028 - Validation accuracy: 0.9514\n",
      "Epoch 103/300 --> Training loss: 0.2672 - Training accuracy: 0.9817 | Validation loss: 0.2060 - Validation accuracy: 0.9618\n",
      "Epoch 104/300 --> Training loss: 0.2557 - Training accuracy: 0.9809 | Validation loss: 0.1998 - Validation accuracy: 0.9514\n",
      "Epoch 105/300 --> Training loss: 0.2909 - Training accuracy: 0.9817 | Validation loss: 0.2002 - Validation accuracy: 0.9688\n",
      "Epoch 106/300 --> Training loss: 0.2473 - Training accuracy: 0.9817 | Validation loss: 0.2038 - Validation accuracy: 0.9549\n",
      "Epoch 107/300 --> Training loss: 0.2626 - Training accuracy: 0.9817 | Validation loss: 0.1997 - Validation accuracy: 0.9618\n",
      "Epoch 108/300 --> Training loss: 0.2716 - Training accuracy: 0.9835 | Validation loss: 0.1876 - Validation accuracy: 0.9688\n",
      "Epoch 109/300 --> Training loss: 0.2610 - Training accuracy: 0.9843 | Validation loss: 0.1939 - Validation accuracy: 0.9618\n",
      "Epoch 110/300 --> Training loss: 0.2664 - Training accuracy: 0.9852 | Validation loss: 0.1858 - Validation accuracy: 0.9653\n",
      "Epoch 111/300 --> Training loss: 0.2475 - Training accuracy: 0.9800 | Validation loss: 0.1856 - Validation accuracy: 0.9688\n",
      "Epoch 112/300 --> Training loss: 0.2574 - Training accuracy: 0.9817 | Validation loss: 0.2033 - Validation accuracy: 0.9514\n",
      "Epoch 113/300 --> Training loss: 0.2627 - Training accuracy: 0.9817 | Validation loss: 0.1796 - Validation accuracy: 0.9688\n",
      "Epoch 114/300 --> Training loss: 0.2556 - Training accuracy: 0.9835 | Validation loss: 0.1851 - Validation accuracy: 0.9688\n",
      "Epoch 115/300 --> Training loss: 0.2725 - Training accuracy: 0.9835 | Validation loss: 0.1846 - Validation accuracy: 0.9549\n",
      "Epoch 116/300 --> Training loss: 0.2578 - Training accuracy: 0.9826 | Validation loss: 0.1758 - Validation accuracy: 0.9688\n",
      "Epoch 117/300 --> Training loss: 0.2434 - Training accuracy: 0.9852 | Validation loss: 0.1805 - Validation accuracy: 0.9583\n",
      "Epoch 118/300 --> Training loss: 0.2483 - Training accuracy: 0.9852 | Validation loss: 0.1911 - Validation accuracy: 0.9653\n",
      "Epoch 119/300 --> Training loss: 0.2325 - Training accuracy: 0.9861 | Validation loss: 0.1808 - Validation accuracy: 0.9618\n",
      "Epoch 120/300 --> Training loss: 0.2465 - Training accuracy: 0.9861 | Validation loss: 0.1772 - Validation accuracy: 0.9618\n",
      "Epoch 121/300 --> Training loss: 0.2555 - Training accuracy: 0.9843 | Validation loss: 0.1797 - Validation accuracy: 0.9653\n",
      "Epoch 122/300 --> Training loss: 0.2494 - Training accuracy: 0.9852 | Validation loss: 0.1817 - Validation accuracy: 0.9583\n",
      "Epoch 123/300 --> Training loss: 0.2424 - Training accuracy: 0.9843 | Validation loss: 0.1832 - Validation accuracy: 0.9549\n",
      "Epoch 124/300 --> Training loss: 0.2395 - Training accuracy: 0.9852 | Validation loss: 0.1819 - Validation accuracy: 0.9583\n",
      "Epoch 125/300 --> Training loss: 0.2505 - Training accuracy: 0.9852 | Validation loss: 0.1742 - Validation accuracy: 0.9688\n",
      "Epoch 126/300 --> Training loss: 0.2443 - Training accuracy: 0.9878 | Validation loss: 0.1682 - Validation accuracy: 0.9722\n",
      "Epoch 127/300 --> Training loss: 0.2489 - Training accuracy: 0.9869 | Validation loss: 0.1661 - Validation accuracy: 0.9653\n",
      "Epoch 128/300 --> Training loss: 0.2422 - Training accuracy: 0.9861 | Validation loss: 0.1796 - Validation accuracy: 0.9618\n",
      "Epoch 129/300 --> Training loss: 0.2236 - Training accuracy: 0.9869 | Validation loss: 0.1733 - Validation accuracy: 0.9722\n",
      "Epoch 130/300 --> Training loss: 0.2286 - Training accuracy: 0.9861 | Validation loss: 0.1704 - Validation accuracy: 0.9722\n",
      "Epoch 131/300 --> Training loss: 0.2348 - Training accuracy: 0.9878 | Validation loss: 0.1654 - Validation accuracy: 0.9722\n",
      "Epoch 132/300 --> Training loss: 0.2248 - Training accuracy: 0.9878 | Validation loss: 0.1667 - Validation accuracy: 0.9688\n",
      "Epoch 133/300 --> Training loss: 0.2351 - Training accuracy: 0.9869 | Validation loss: 0.1731 - Validation accuracy: 0.9722\n",
      "Epoch 134/300 --> Training loss: 0.2239 - Training accuracy: 0.9887 | Validation loss: 0.1609 - Validation accuracy: 0.9722\n",
      "Epoch 135/300 --> Training loss: 0.2207 - Training accuracy: 0.9878 | Validation loss: 0.1624 - Validation accuracy: 0.9653\n",
      "Epoch 136/300 --> Training loss: 0.2243 - Training accuracy: 0.9878 | Validation loss: 0.1570 - Validation accuracy: 0.9722\n",
      "Epoch 137/300 --> Training loss: 0.2418 - Training accuracy: 0.9887 | Validation loss: 0.1650 - Validation accuracy: 0.9688\n",
      "Epoch 138/300 --> Training loss: 0.2147 - Training accuracy: 0.9887 | Validation loss: 0.1653 - Validation accuracy: 0.9688\n",
      "Epoch 139/300 --> Training loss: 0.2054 - Training accuracy: 0.9896 | Validation loss: 0.1638 - Validation accuracy: 0.9618\n",
      "Epoch 140/300 --> Training loss: 0.2232 - Training accuracy: 0.9887 | Validation loss: 0.1540 - Validation accuracy: 0.9722\n",
      "Epoch 141/300 --> Training loss: 0.2228 - Training accuracy: 0.9887 | Validation loss: 0.1574 - Validation accuracy: 0.9757\n",
      "Epoch 142/300 --> Training loss: 0.2186 - Training accuracy: 0.9878 | Validation loss: 0.1603 - Validation accuracy: 0.9688\n",
      "Epoch 143/300 --> Training loss: 0.2288 - Training accuracy: 0.9878 | Validation loss: 0.1514 - Validation accuracy: 0.9722\n",
      "Epoch 144/300 --> Training loss: 0.2104 - Training accuracy: 0.9878 | Validation loss: 0.1513 - Validation accuracy: 0.9653\n",
      "Epoch 145/300 --> Training loss: 0.2070 - Training accuracy: 0.9904 | Validation loss: 0.1545 - Validation accuracy: 0.9653\n",
      "Epoch 146/300 --> Training loss: 0.1911 - Training accuracy: 0.9869 | Validation loss: 0.1533 - Validation accuracy: 0.9653\n",
      "Epoch 147/300 --> Training loss: 0.2127 - Training accuracy: 0.9869 | Validation loss: 0.1493 - Validation accuracy: 0.9722\n",
      "Epoch 148/300 --> Training loss: 0.2039 - Training accuracy: 0.9878 | Validation loss: 0.1484 - Validation accuracy: 0.9757\n",
      "Epoch 149/300 --> Training loss: 0.2126 - Training accuracy: 0.9896 | Validation loss: 0.1529 - Validation accuracy: 0.9688\n",
      "Epoch 150/300 --> Training loss: 0.2069 - Training accuracy: 0.9887 | Validation loss: 0.1497 - Validation accuracy: 0.9618\n",
      "Epoch 151/300 --> Training loss: 0.1857 - Training accuracy: 0.9878 | Validation loss: 0.1478 - Validation accuracy: 0.9757\n",
      "Epoch 152/300 --> Training loss: 0.1975 - Training accuracy: 0.9913 | Validation loss: 0.1519 - Validation accuracy: 0.9688\n",
      "Epoch 153/300 --> Training loss: 0.1924 - Training accuracy: 0.9896 | Validation loss: 0.1597 - Validation accuracy: 0.9618\n",
      "Epoch 154/300 --> Training loss: 0.1989 - Training accuracy: 0.9887 | Validation loss: 0.1499 - Validation accuracy: 0.9653\n",
      "Epoch 155/300 --> Training loss: 0.1884 - Training accuracy: 0.9896 | Validation loss: 0.1461 - Validation accuracy: 0.9688\n",
      "Epoch 156/300 --> Training loss: 0.2004 - Training accuracy: 0.9896 | Validation loss: 0.1645 - Validation accuracy: 0.9583\n",
      "Epoch 157/300 --> Training loss: 0.2019 - Training accuracy: 0.9896 | Validation loss: 0.1450 - Validation accuracy: 0.9688\n",
      "Epoch 158/300 --> Training loss: 0.1886 - Training accuracy: 0.9922 | Validation loss: 0.1506 - Validation accuracy: 0.9618\n",
      "Epoch 159/300 --> Training loss: 0.1807 - Training accuracy: 0.9913 | Validation loss: 0.1580 - Validation accuracy: 0.9583\n",
      "Epoch 160/300 --> Training loss: 0.1969 - Training accuracy: 0.9930 | Validation loss: 0.1477 - Validation accuracy: 0.9653\n",
      "Epoch 161/300 --> Training loss: 0.1975 - Training accuracy: 0.9913 | Validation loss: 0.1424 - Validation accuracy: 0.9653\n",
      "Epoch 162/300 --> Training loss: 0.1914 - Training accuracy: 0.9887 | Validation loss: 0.1458 - Validation accuracy: 0.9688\n",
      "Epoch 163/300 --> Training loss: 0.1774 - Training accuracy: 0.9913 | Validation loss: 0.1395 - Validation accuracy: 0.9688\n",
      "Epoch 164/300 --> Training loss: 0.1880 - Training accuracy: 0.9922 | Validation loss: 0.1490 - Validation accuracy: 0.9688\n",
      "Epoch 165/300 --> Training loss: 0.1987 - Training accuracy: 0.9904 | Validation loss: 0.1464 - Validation accuracy: 0.9653\n",
      "Epoch 166/300 --> Training loss: 0.1830 - Training accuracy: 0.9913 | Validation loss: 0.1455 - Validation accuracy: 0.9722\n",
      "Epoch 167/300 --> Training loss: 0.1993 - Training accuracy: 0.9904 | Validation loss: 0.1380 - Validation accuracy: 0.9722\n",
      "Epoch 168/300 --> Training loss: 0.2098 - Training accuracy: 0.9922 | Validation loss: 0.1370 - Validation accuracy: 0.9688\n",
      "Epoch 169/300 --> Training loss: 0.1926 - Training accuracy: 0.9930 | Validation loss: 0.1331 - Validation accuracy: 0.9757\n",
      "Epoch 170/300 --> Training loss: 0.1664 - Training accuracy: 0.9913 | Validation loss: 0.1368 - Validation accuracy: 0.9757\n",
      "Epoch 171/300 --> Training loss: 0.1703 - Training accuracy: 0.9922 | Validation loss: 0.1362 - Validation accuracy: 0.9722\n",
      "Epoch 172/300 --> Training loss: 0.1780 - Training accuracy: 0.9904 | Validation loss: 0.1424 - Validation accuracy: 0.9653\n",
      "Epoch 173/300 --> Training loss: 0.2276 - Training accuracy: 0.9913 | Validation loss: 0.1489 - Validation accuracy: 0.9653\n",
      "Epoch 174/300 --> Training loss: 0.1880 - Training accuracy: 0.9904 | Validation loss: 0.1411 - Validation accuracy: 0.9688\n",
      "Epoch 175/300 --> Training loss: 0.1549 - Training accuracy: 0.9922 | Validation loss: 0.1374 - Validation accuracy: 0.9653\n",
      "Epoch 176/300 --> Training loss: 0.1762 - Training accuracy: 0.9930 | Validation loss: 0.1521 - Validation accuracy: 0.9653\n",
      "Epoch 177/300 --> Training loss: 0.1882 - Training accuracy: 0.9878 | Validation loss: 0.1321 - Validation accuracy: 0.9757\n",
      "Epoch 178/300 --> Training loss: 0.1759 - Training accuracy: 0.9922 | Validation loss: 0.1416 - Validation accuracy: 0.9653\n",
      "Epoch 179/300 --> Training loss: 0.1622 - Training accuracy: 0.9930 | Validation loss: 0.1339 - Validation accuracy: 0.9792\n",
      "Epoch 180/300 --> Training loss: 0.1629 - Training accuracy: 0.9922 | Validation loss: 0.1453 - Validation accuracy: 0.9653\n",
      "Epoch 181/300 --> Training loss: 0.1652 - Training accuracy: 0.9930 | Validation loss: 0.1416 - Validation accuracy: 0.9583\n",
      "Epoch 182/300 --> Training loss: 0.1948 - Training accuracy: 0.9922 | Validation loss: 0.1401 - Validation accuracy: 0.9688\n",
      "Epoch 183/300 --> Training loss: 0.1743 - Training accuracy: 0.9913 | Validation loss: 0.1373 - Validation accuracy: 0.9722\n",
      "Epoch 184/300 --> Training loss: 0.1721 - Training accuracy: 0.9922 | Validation loss: 0.1411 - Validation accuracy: 0.9653\n",
      "Epoch 185/300 --> Training loss: 0.1724 - Training accuracy: 0.9930 | Validation loss: 0.1313 - Validation accuracy: 0.9722\n",
      "Epoch 186/300 --> Training loss: 0.2014 - Training accuracy: 0.9930 | Validation loss: 0.1352 - Validation accuracy: 0.9688\n",
      "Epoch 187/300 --> Training loss: 0.1557 - Training accuracy: 0.9922 | Validation loss: 0.1385 - Validation accuracy: 0.9653\n",
      "Epoch 188/300 --> Training loss: 0.1840 - Training accuracy: 0.9922 | Validation loss: 0.1392 - Validation accuracy: 0.9688\n",
      "Epoch 189/300 --> Training loss: 0.1881 - Training accuracy: 0.9904 | Validation loss: 0.1364 - Validation accuracy: 0.9688\n",
      "Epoch 190/300 --> Training loss: 0.1658 - Training accuracy: 0.9939 | Validation loss: 0.1469 - Validation accuracy: 0.9618\n",
      "Epoch 191/300 --> Training loss: 0.1702 - Training accuracy: 0.9930 | Validation loss: 0.1455 - Validation accuracy: 0.9618\n",
      "Epoch 192/300 --> Training loss: 0.1714 - Training accuracy: 0.9930 | Validation loss: 0.1443 - Validation accuracy: 0.9653\n",
      "Epoch 193/300 --> Training loss: 0.1690 - Training accuracy: 0.9896 | Validation loss: 0.1496 - Validation accuracy: 0.9583\n",
      "Epoch 194/300 --> Training loss: 0.1928 - Training accuracy: 0.9922 | Validation loss: 0.1305 - Validation accuracy: 0.9722\n",
      "Epoch 195/300 --> Training loss: 0.1675 - Training accuracy: 0.9896 | Validation loss: 0.1286 - Validation accuracy: 0.9757\n",
      "Epoch 196/300 --> Training loss: 0.1599 - Training accuracy: 0.9904 | Validation loss: 0.1341 - Validation accuracy: 0.9618\n",
      "Epoch 197/300 --> Training loss: 0.1470 - Training accuracy: 0.9930 | Validation loss: 0.1300 - Validation accuracy: 0.9653\n",
      "Epoch 198/300 --> Training loss: 0.1670 - Training accuracy: 0.9922 | Validation loss: 0.1321 - Validation accuracy: 0.9722\n",
      "Epoch 199/300 --> Training loss: 0.1655 - Training accuracy: 0.9939 | Validation loss: 0.1312 - Validation accuracy: 0.9688\n",
      "Epoch 200/300 --> Training loss: 0.1517 - Training accuracy: 0.9922 | Validation loss: 0.1216 - Validation accuracy: 0.9757\n",
      "Epoch 201/300 --> Training loss: 0.1532 - Training accuracy: 0.9922 | Validation loss: 0.1319 - Validation accuracy: 0.9688\n",
      "Epoch 202/300 --> Training loss: 0.1564 - Training accuracy: 0.9922 | Validation loss: 0.1323 - Validation accuracy: 0.9722\n",
      "Epoch 203/300 --> Training loss: 0.1690 - Training accuracy: 0.9930 | Validation loss: 0.1301 - Validation accuracy: 0.9722\n",
      "Epoch 204/300 --> Training loss: 0.1741 - Training accuracy: 0.9939 | Validation loss: 0.1393 - Validation accuracy: 0.9618\n",
      "Epoch 205/300 --> Training loss: 0.1881 - Training accuracy: 0.9930 | Validation loss: 0.1431 - Validation accuracy: 0.9653\n",
      "Epoch 206/300 --> Training loss: 0.1658 - Training accuracy: 0.9939 | Validation loss: 0.1385 - Validation accuracy: 0.9653\n",
      "Epoch 207/300 --> Training loss: 0.1462 - Training accuracy: 0.9930 | Validation loss: 0.1284 - Validation accuracy: 0.9722\n",
      "Epoch 208/300 --> Training loss: 0.1476 - Training accuracy: 0.9922 | Validation loss: 0.1297 - Validation accuracy: 0.9757\n",
      "Epoch 209/300 --> Training loss: 0.1621 - Training accuracy: 0.9930 | Validation loss: 0.1289 - Validation accuracy: 0.9722\n",
      "Epoch 210/300 --> Training loss: 0.1598 - Training accuracy: 0.9930 | Validation loss: 0.1262 - Validation accuracy: 0.9722\n",
      "Epoch 211/300 --> Training loss: 0.1733 - Training accuracy: 0.9930 | Validation loss: 0.1235 - Validation accuracy: 0.9688\n",
      "Epoch 212/300 --> Training loss: 0.1826 - Training accuracy: 0.9939 | Validation loss: 0.1231 - Validation accuracy: 0.9722\n",
      "Epoch 213/300 --> Training loss: 0.1495 - Training accuracy: 0.9939 | Validation loss: 0.1216 - Validation accuracy: 0.9653\n",
      "Epoch 214/300 --> Training loss: 0.1617 - Training accuracy: 0.9939 | Validation loss: 0.1283 - Validation accuracy: 0.9653\n",
      "Epoch 215/300 --> Training loss: 0.1766 - Training accuracy: 0.9922 | Validation loss: 0.1303 - Validation accuracy: 0.9722\n",
      "Epoch 216/300 --> Training loss: 0.1510 - Training accuracy: 0.9922 | Validation loss: 0.1147 - Validation accuracy: 0.9722\n",
      "Epoch 217/300 --> Training loss: 0.1625 - Training accuracy: 0.9939 | Validation loss: 0.1168 - Validation accuracy: 0.9688\n",
      "Epoch 218/300 --> Training loss: 0.1703 - Training accuracy: 0.9913 | Validation loss: 0.1174 - Validation accuracy: 0.9688\n",
      "Epoch 219/300 --> Training loss: 0.1546 - Training accuracy: 0.9922 | Validation loss: 0.1262 - Validation accuracy: 0.9688\n",
      "Epoch 220/300 --> Training loss: 0.1484 - Training accuracy: 0.9930 | Validation loss: 0.1211 - Validation accuracy: 0.9722\n",
      "Epoch 221/300 --> Training loss: 0.1494 - Training accuracy: 0.9922 | Validation loss: 0.1082 - Validation accuracy: 0.9757\n",
      "Epoch 222/300 --> Training loss: 0.1352 - Training accuracy: 0.9922 | Validation loss: 0.1118 - Validation accuracy: 0.9722\n",
      "Epoch 223/300 --> Training loss: 0.1503 - Training accuracy: 0.9913 | Validation loss: 0.1184 - Validation accuracy: 0.9757\n",
      "Epoch 224/300 --> Training loss: 0.1742 - Training accuracy: 0.9939 | Validation loss: 0.1222 - Validation accuracy: 0.9688\n",
      "Epoch 225/300 --> Training loss: 0.1469 - Training accuracy: 0.9939 | Validation loss: 0.1235 - Validation accuracy: 0.9618\n",
      "Epoch 226/300 --> Training loss: 0.1388 - Training accuracy: 0.9939 | Validation loss: 0.1185 - Validation accuracy: 0.9757\n",
      "Epoch 227/300 --> Training loss: 0.1477 - Training accuracy: 0.9939 | Validation loss: 0.1146 - Validation accuracy: 0.9722\n",
      "Epoch 228/300 --> Training loss: 0.1601 - Training accuracy: 0.9939 | Validation loss: 0.1226 - Validation accuracy: 0.9722\n",
      "Epoch 229/300 --> Training loss: 0.1511 - Training accuracy: 0.9939 | Validation loss: 0.1286 - Validation accuracy: 0.9688\n",
      "Epoch 230/300 --> Training loss: 0.1507 - Training accuracy: 0.9930 | Validation loss: 0.1118 - Validation accuracy: 0.9757\n",
      "Epoch 231/300 --> Training loss: 0.1451 - Training accuracy: 0.9930 | Validation loss: 0.1361 - Validation accuracy: 0.9653\n",
      "Epoch 232/300 --> Training loss: 0.1516 - Training accuracy: 0.9930 | Validation loss: 0.1204 - Validation accuracy: 0.9757\n",
      "Epoch 233/300 --> Training loss: 0.1494 - Training accuracy: 0.9930 | Validation loss: 0.1207 - Validation accuracy: 0.9722\n",
      "Epoch 234/300 --> Training loss: 0.1465 - Training accuracy: 0.9930 | Validation loss: 0.1195 - Validation accuracy: 0.9722\n",
      "Epoch 235/300 --> Training loss: 0.1537 - Training accuracy: 0.9930 | Validation loss: 0.1194 - Validation accuracy: 0.9688\n",
      "Epoch 236/300 --> Training loss: 0.1484 - Training accuracy: 0.9930 | Validation loss: 0.1183 - Validation accuracy: 0.9688\n",
      "Epoch 237/300 --> Training loss: 0.1699 - Training accuracy: 0.9922 | Validation loss: 0.1238 - Validation accuracy: 0.9757\n",
      "Epoch 238/300 --> Training loss: 0.1522 - Training accuracy: 0.9930 | Validation loss: 0.1310 - Validation accuracy: 0.9618\n",
      "Epoch 239/300 --> Training loss: 0.1456 - Training accuracy: 0.9922 | Validation loss: 0.1258 - Validation accuracy: 0.9653\n",
      "Epoch 240/300 --> Training loss: 0.1529 - Training accuracy: 0.9948 | Validation loss: 0.1271 - Validation accuracy: 0.9653\n",
      "Epoch 241/300 --> Training loss: 0.1511 - Training accuracy: 0.9930 | Validation loss: 0.1193 - Validation accuracy: 0.9722\n",
      "Epoch 242/300 --> Training loss: 0.1429 - Training accuracy: 0.9922 | Validation loss: 0.1131 - Validation accuracy: 0.9722\n",
      "Epoch 243/300 --> Training loss: 0.1469 - Training accuracy: 0.9913 | Validation loss: 0.1260 - Validation accuracy: 0.9757\n",
      "Epoch 244/300 --> Training loss: 0.1336 - Training accuracy: 0.9939 | Validation loss: 0.1207 - Validation accuracy: 0.9688\n",
      "Epoch 245/300 --> Training loss: 0.1431 - Training accuracy: 0.9930 | Validation loss: 0.1212 - Validation accuracy: 0.9688\n",
      "Epoch 246/300 --> Training loss: 0.1332 - Training accuracy: 0.9930 | Validation loss: 0.1252 - Validation accuracy: 0.9653\n",
      "Epoch 247/300 --> Training loss: 0.1276 - Training accuracy: 0.9948 | Validation loss: 0.1290 - Validation accuracy: 0.9653\n",
      "Epoch 248/300 --> Training loss: 0.1351 - Training accuracy: 0.9930 | Validation loss: 0.1126 - Validation accuracy: 0.9688\n",
      "Epoch 249/300 --> Training loss: 0.1222 - Training accuracy: 0.9939 | Validation loss: 0.1136 - Validation accuracy: 0.9722\n",
      "Epoch 250/300 --> Training loss: 0.1539 - Training accuracy: 0.9948 | Validation loss: 0.1137 - Validation accuracy: 0.9653\n",
      "Epoch 251/300 --> Training loss: 0.1325 - Training accuracy: 0.9930 | Validation loss: 0.1278 - Validation accuracy: 0.9583\n",
      "Epoch 252/300 --> Training loss: 0.1503 - Training accuracy: 0.9922 | Validation loss: 0.1143 - Validation accuracy: 0.9653\n",
      "Epoch 253/300 --> Training loss: 0.1555 - Training accuracy: 0.9930 | Validation loss: 0.1057 - Validation accuracy: 0.9792\n",
      "Epoch 254/300 --> Training loss: 0.1402 - Training accuracy: 0.9939 | Validation loss: 0.1190 - Validation accuracy: 0.9688\n",
      "Epoch 255/300 --> Training loss: 0.1264 - Training accuracy: 0.9939 | Validation loss: 0.1259 - Validation accuracy: 0.9653\n",
      "Epoch 256/300 --> Training loss: 0.1442 - Training accuracy: 0.9939 | Validation loss: 0.1120 - Validation accuracy: 0.9722\n",
      "Epoch 257/300 --> Training loss: 0.1272 - Training accuracy: 0.9939 | Validation loss: 0.1115 - Validation accuracy: 0.9688\n",
      "Epoch 258/300 --> Training loss: 0.1318 - Training accuracy: 0.9939 | Validation loss: 0.1134 - Validation accuracy: 0.9688\n",
      "Epoch 259/300 --> Training loss: 0.1483 - Training accuracy: 0.9930 | Validation loss: 0.1200 - Validation accuracy: 0.9688\n",
      "Epoch 260/300 --> Training loss: 0.1682 - Training accuracy: 0.9939 | Validation loss: 0.1222 - Validation accuracy: 0.9688\n",
      "Epoch 261/300 --> Training loss: 0.1282 - Training accuracy: 0.9939 | Validation loss: 0.1104 - Validation accuracy: 0.9653\n",
      "Epoch 262/300 --> Training loss: 0.1347 - Training accuracy: 0.9948 | Validation loss: 0.1377 - Validation accuracy: 0.9618\n",
      "Epoch 263/300 --> Training loss: 0.1277 - Training accuracy: 0.9956 | Validation loss: 0.1274 - Validation accuracy: 0.9583\n",
      "Epoch 264/300 --> Training loss: 0.1236 - Training accuracy: 0.9939 | Validation loss: 0.1146 - Validation accuracy: 0.9722\n",
      "Epoch 265/300 --> Training loss: 0.1282 - Training accuracy: 0.9939 | Validation loss: 0.1314 - Validation accuracy: 0.9583\n",
      "Epoch 266/300 --> Training loss: 0.1295 - Training accuracy: 0.9948 | Validation loss: 0.1233 - Validation accuracy: 0.9688\n",
      "Epoch 267/300 --> Training loss: 0.1256 - Training accuracy: 0.9948 | Validation loss: 0.1303 - Validation accuracy: 0.9618\n",
      "Epoch 268/300 --> Training loss: 0.1278 - Training accuracy: 0.9939 | Validation loss: 0.1180 - Validation accuracy: 0.9688\n",
      "Epoch 269/300 --> Training loss: 0.1350 - Training accuracy: 0.9956 | Validation loss: 0.1146 - Validation accuracy: 0.9653\n",
      "Epoch 270/300 --> Training loss: 0.1274 - Training accuracy: 0.9956 | Validation loss: 0.1105 - Validation accuracy: 0.9688\n",
      "Epoch 271/300 --> Training loss: 0.1241 - Training accuracy: 0.9948 | Validation loss: 0.1147 - Validation accuracy: 0.9618\n",
      "Epoch 272/300 --> Training loss: 0.1419 - Training accuracy: 0.9939 | Validation loss: 0.1321 - Validation accuracy: 0.9514\n",
      "Epoch 273/300 --> Training loss: 0.1312 - Training accuracy: 0.9930 | Validation loss: 0.1091 - Validation accuracy: 0.9757\n",
      "Epoch 274/300 --> Training loss: 0.1301 - Training accuracy: 0.9956 | Validation loss: 0.1175 - Validation accuracy: 0.9618\n",
      "Epoch 275/300 --> Training loss: 0.1320 - Training accuracy: 0.9948 | Validation loss: 0.1141 - Validation accuracy: 0.9653\n",
      "Epoch 276/300 --> Training loss: 0.1240 - Training accuracy: 0.9939 | Validation loss: 0.1182 - Validation accuracy: 0.9722\n",
      "Epoch 277/300 --> Training loss: 0.1133 - Training accuracy: 0.9948 | Validation loss: 0.1160 - Validation accuracy: 0.9688\n",
      "Epoch 278/300 --> Training loss: 0.1259 - Training accuracy: 0.9948 | Validation loss: 0.1114 - Validation accuracy: 0.9757\n",
      "Epoch 279/300 --> Training loss: 0.1282 - Training accuracy: 0.9948 | Validation loss: 0.1225 - Validation accuracy: 0.9688\n",
      "Epoch 280/300 --> Training loss: 0.1098 - Training accuracy: 0.9956 | Validation loss: 0.1228 - Validation accuracy: 0.9653\n",
      "Epoch 281/300 --> Training loss: 0.1318 - Training accuracy: 0.9939 | Validation loss: 0.1099 - Validation accuracy: 0.9757\n",
      "Epoch 282/300 --> Training loss: 0.1236 - Training accuracy: 0.9948 | Validation loss: 0.1120 - Validation accuracy: 0.9618\n",
      "Epoch 283/300 --> Training loss: 0.1221 - Training accuracy: 0.9956 | Validation loss: 0.1139 - Validation accuracy: 0.9618\n",
      "Epoch 284/300 --> Training loss: 0.1207 - Training accuracy: 0.9965 | Validation loss: 0.1145 - Validation accuracy: 0.9688\n",
      "Epoch 285/300 --> Training loss: 0.1417 - Training accuracy: 0.9956 | Validation loss: 0.1079 - Validation accuracy: 0.9688\n",
      "Epoch 286/300 --> Training loss: 0.1165 - Training accuracy: 0.9965 | Validation loss: 0.1158 - Validation accuracy: 0.9653\n",
      "Epoch 287/300 --> Training loss: 0.1445 - Training accuracy: 0.9948 | Validation loss: 0.1081 - Validation accuracy: 0.9792\n",
      "Epoch 288/300 --> Training loss: 0.1260 - Training accuracy: 0.9956 | Validation loss: 0.1264 - Validation accuracy: 0.9583\n",
      "Epoch 289/300 --> Training loss: 0.1233 - Training accuracy: 0.9965 | Validation loss: 0.1380 - Validation accuracy: 0.9583\n",
      "Epoch 290/300 --> Training loss: 0.1293 - Training accuracy: 0.9948 | Validation loss: 0.1250 - Validation accuracy: 0.9653\n",
      "Epoch 291/300 --> Training loss: 0.1207 - Training accuracy: 0.9948 | Validation loss: 0.1069 - Validation accuracy: 0.9757\n",
      "Epoch 292/300 --> Training loss: 0.1102 - Training accuracy: 0.9956 | Validation loss: 0.1114 - Validation accuracy: 0.9618\n",
      "Epoch 293/300 --> Training loss: 0.1287 - Training accuracy: 0.9965 | Validation loss: 0.0995 - Validation accuracy: 0.9688\n",
      "Epoch 294/300 --> Training loss: 0.1138 - Training accuracy: 0.9956 | Validation loss: 0.0996 - Validation accuracy: 0.9722\n",
      "Epoch 295/300 --> Training loss: 0.1273 - Training accuracy: 0.9965 | Validation loss: 0.1131 - Validation accuracy: 0.9618\n",
      "Epoch 296/300 --> Training loss: 0.1118 - Training accuracy: 0.9956 | Validation loss: 0.1066 - Validation accuracy: 0.9757\n",
      "Epoch 297/300 --> Training loss: 0.1216 - Training accuracy: 0.9965 | Validation loss: 0.1233 - Validation accuracy: 0.9583\n",
      "Epoch 298/300 --> Training loss: 0.1228 - Training accuracy: 0.9965 | Validation loss: 0.1033 - Validation accuracy: 0.9688\n",
      "Epoch 299/300 --> Training loss: 0.1204 - Training accuracy: 0.9965 | Validation loss: 0.1058 - Validation accuracy: 0.9757\n",
      "Epoch 300/300 --> Training loss: 0.1249 - Training accuracy: 0.9965 | Validation loss: 0.1033 - Validation accuracy: 0.9653\n"
     ]
    }
   ],
   "source": [
    "history = model.fit(\n",
    "    X_train = X_train, \n",
    "    y_train = y_train_encoded,\n",
    "    optimizer = optimizer,\n",
    "    loss_fn = loss_fn,\n",
    "    X_valid = X_valid,\n",
    "    y_valid = y_valid_encoded,\n",
    "    batch_size = batch_size,\n",
    "    epochs = epochs,\n",
    "    metrics=[metrics.accuracy]\n",
    ")"
   ]
  },
  {
   "cell_type": "code",
   "execution_count": 12,
   "metadata": {},
   "outputs": [
    {
     "data": {
      "image/png": "[encoded data removed]",
      "text/plain": [
       "<Figure size 1000x600 with 1 Axes>"
      ]
     },
     "metadata": {},
     "output_type": "display_data"
    }
   ],
   "source": [
    "# Plot the training and validation loss\n",
    "utils.plot_history(history[\"train\"][\"loss\"], history[\"valid\"][\"loss\"], \"Training and Validation Loss\", \"Epoch\", \"Loss\")"
   ]
  },
  {
   "cell_type": "markdown",
   "metadata": {},
   "source": [
    "### Model evaluation"
   ]
  },
  {
   "cell_type": "code",
   "execution_count": 13,
   "metadata": {},
   "outputs": [],
   "source": [
    "# Set the model to evaluation mode\n",
    "model.eval()\n",
    "\n",
    "# Predict the labels\n",
    "predictions = model.forward(X_test)\n",
    "\n",
    "# Apply the argmax function to the predictions\n",
    "predictions = np.argmax(predictions, axis=1)"
   ]
  },
  {
   "cell_type": "code",
   "execution_count": 14,
   "metadata": {},
   "outputs": [
    {
     "name": "stdout",
     "output_type": "stream",
     "text": [
      "Accuracy: 0.97\n"
     ]
    }
   ],
   "source": [
    "# Compute the accuracy\n",
    "accuracy = metrics.accuracy(predictions, y_test)\n",
    "\n",
    "# Print the accuracy\n",
    "print(f\"Accuracy: {accuracy:.2f}\")"
   ]
  }
 ],
 "metadata": {
  "kernelspec": {
   "display_name": "venv",
   "language": "python",
   "name": "python3"
  },
  "language_info": {
   "codemirror_mode": {
    "name": "ipython",
    "version": 3
   },
   "file_extension": ".py",
   "mimetype": "text/x-python",
   "name": "python",
   "nbconvert_exporter": "python",
   "pygments_lexer": "ipython3",
   "version": "3.12.7"
  }
 },
 "nbformat": 4,
 "nbformat_minor": 2
}
