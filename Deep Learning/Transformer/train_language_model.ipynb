{
 "cells": [
  {
   "cell_type": "code",
   "execution_count": 1,
   "metadata": {},
   "outputs": [],
   "source": [
    "import os\n",
    "import sys\n",
    "import numpy as np\n",
    "\n",
    "# Add the path to the custom library to the system path\n",
    "sys.path.append('..')\n",
    "\n",
    "# Import custom modules\n",
    "from src import Tensor, loss_functions, optimizers, metrics\n",
    "from src.architectures.transformer import Tokenizer, DecoderTransformer\n",
    "from src.core.utils import data_analysis, data_processing, context_manager"
   ]
  },
  {
   "cell_type": "markdown",
   "metadata": {},
   "source": [
    "### Constants and hyperparameters"
   ]
  },
  {
   "cell_type": "code",
   "execution_count": 2,
   "metadata": {},
   "outputs": [],
   "source": [
    "# Constants\n",
    "dataset_path = os.path.join(os.getcwd(), 'dataset', 'divina_commedia.txt')\n",
    "tokenizer_path = os.path.join(os.getcwd(), 'checkpoints', 'tokenizer.json')\n",
    "model_path = os.path.join(os.getcwd(), 'checkpoints', 'language_model')"
   ]
  },
  {
   "cell_type": "code",
   "execution_count": 3,
   "metadata": {},
   "outputs": [],
   "source": [
    "# Hyperparameters\n",
    "dropout = 0.1 # The dropout rate\n",
    "maximum_samples = 19840 # The maximum number of samples to use from the dataset\n",
    "train_test_split_pct = 0.1 # 90% of the data will be used for training, 10% for testing\n",
    "train_valid_split_pct = 0.1 # 90% of the training data will be used for training, 10% for validation\n",
    "batch_size = 32 # The number of samples to use for each batch\n",
    "grad_accumulation_steps = 1 # The number of steps to accumulate gradients before updating the model\n",
    "sequence_length = 256 # The size of the sequence length (the context window)\n",
    "learning_rate = 1e-3 # The learning rate for the optimizer\n",
    "weight_decay = 0.01 # The weight decay for the optimizer\n",
    "epochs = 1 # The number of epochs to train the model for\n",
    "n_embed = 384 # The size of the token embeddings (the dimensionality of the embeddings)\n",
    "n_attention_heads = 6 # The number of attention heads in the multi-head attention mechanism\n",
    "n_decoder_blocks = 6 # The number of transformer'decoder blocks in the model"
   ]
  },
  {
   "cell_type": "markdown",
   "metadata": {},
   "source": [
    "### Data loading"
   ]
  },
  {
   "cell_type": "code",
   "execution_count": 4,
   "metadata": {},
   "outputs": [],
   "source": [
    "def load_txt_file(path: str) -> str:\n",
    "    \"\"\"\n",
    "    Load a text file from the specified path.\n",
    "    \n",
    "    Parameters:\n",
    "    - path (str): The path to the text file.\n",
    "    \n",
    "    Returns:\n",
    "    - str: The contents of the text file.\n",
    "    \"\"\"\n",
    "    \n",
    "    # Check if the file exists\n",
    "    if not os.path.exists(path):\n",
    "        raise FileNotFoundError(f'The file \"{path}\" does not exist.')\n",
    "    \n",
    "    # Read the file\n",
    "    with open(path, 'r', encoding='utf-8') as file:\n",
    "        return file.read()"
   ]
  },
  {
   "cell_type": "code",
   "execution_count": 5,
   "metadata": {},
   "outputs": [],
   "source": [
    "# Instantiate the tokenizer\n",
    "tokenizer = Tokenizer()\n",
    "\n",
    "# Load the state of the tokenizer\n",
    "tokenizer.load(tokenizer_path)\n",
    "\n",
    "# Extract the vocabulary size\n",
    "vocab_size = tokenizer.get_vocab_size()"
   ]
  },
  {
   "cell_type": "code",
   "execution_count": 6,
   "metadata": {},
   "outputs": [],
   "source": [
    "# Load the text file\n",
    "text = load_txt_file(dataset_path)\n",
    "\n",
    "# Encode the text using the tokenizer\n",
    "encoded_text = tokenizer.encode(text)\n",
    "\n",
    "# Convert the data to a tensor\n",
    "data = np.array(encoded_text)"
   ]
  },
  {
   "cell_type": "markdown",
   "metadata": {},
   "source": [
    "### Data preprocessing"
   ]
  },
  {
   "cell_type": "code",
   "execution_count": null,
   "metadata": {},
   "outputs": [],
   "source": [
    "def build_sequences(input_data: np.ndarray, seq_length: int, num_samples: int) -> tuple[Tensor, Tensor]:\n",
    "    \"\"\"\n",
    "    Build sequences\n",
    "    \n",
    "    Parameters:\n",
    "    - input_data: np.ndarray, input features\n",
    "    - seq_length: int, length of input sequences\n",
    "    - num_samples: int, number of sequences to generate\n",
    "    \n",
    "    Returns:\n",
    "    - tuple[Tensor, Tensor], input sequences and targets\n",
    "    \"\"\"\n",
    "    \n",
    "    # Initialize lists to hold sequences and targets\n",
    "    X, y = [], []\n",
    "    n = len(input_data)\n",
    "    \n",
    "    # Iterate over the number of samples to create\n",
    "    for _ in range(num_samples):\n",
    "        # Generate a random starting index for the sequence\n",
    "        start_idx = np.random.randint(0, n - seq_length - 1)\n",
    "        \n",
    "        # Extract the input and target sequences\n",
    "        # The input sequence is the current sequence of length seq_length\n",
    "        # The target sequence is the next sequence of length seq_length (shifted by one)\n",
    "        input_sequence = input_data[start_idx : start_idx + seq_length]\n",
    "        target_sequence = input_data[start_idx + 1 : start_idx + seq_length + 1]\n",
    "        \n",
    "        # Aggiungi le sequenze alle liste\n",
    "        X.append(input_sequence)\n",
    "        y.append(target_sequence)\n",
    "    \n",
    "    # Convert the lists to numpy arrays and return as Tensors\n",
    "    return Tensor(np.array(X, dtype=np.int32)), Tensor(np.array(y, dtype=np.int32))"
   ]
  },
  {
   "cell_type": "code",
   "execution_count": 8,
   "metadata": {},
   "outputs": [],
   "source": [
    "# Build sequences from the encoded text data\n",
    "X, y = build_sequences(data, sequence_length, maximum_samples)\n",
    "\n",
    "# Shuffle the data\n",
    "X_shuffled, y_shuffled = data_processing.shuffle_data((X, y))[0]"
   ]
  },
  {
   "cell_type": "markdown",
   "metadata": {},
   "source": [
    "### Data splitting"
   ]
  },
  {
   "cell_type": "code",
   "execution_count": 9,
   "metadata": {},
   "outputs": [
    {
     "name": "stdout",
     "output_type": "stream",
     "text": [
      "Training set: (16071, 256) (16071, 256)\n",
      "Validation set: (1785, 256) (1785, 256)\n",
      "Testing set: (1984, 256) (1984, 256)\n"
     ]
    }
   ],
   "source": [
    "# Split the dataset into training, validation, and testing sets\n",
    "X_train, X_test, y_train, y_test = data_processing.split_data((X_shuffled, y_shuffled), train_test_split_pct, shuffle=True)[0]\n",
    "X_train, X_valid, y_train, y_valid = data_processing.split_data((X_train, y_train), train_valid_split_pct, shuffle=True)[0]\n",
    "\n",
    "# Print the dataset information\n",
    "print('Training set:', X_train.shape(), y_train.shape())\n",
    "print('Validation set:', X_valid.shape(), y_valid.shape())\n",
    "print('Testing set:', X_test.shape(), y_test.shape())"
   ]
  },
  {
   "cell_type": "markdown",
   "metadata": {},
   "source": [
    "### Building the model"
   ]
  },
  {
   "cell_type": "code",
   "execution_count": 10,
   "metadata": {},
   "outputs": [],
   "source": [
    "# Create the language model\n",
    "language_model = DecoderTransformer(\n",
    "    name = \"Language Model\",\n",
    "    input_dim = vocab_size,\n",
    "    sequence_length = sequence_length,\n",
    "    n_embed = n_embed,\n",
    "    return_sequence = True,\n",
    "    n_attention_heads = n_attention_heads,\n",
    "    n_decoder_blocks = n_decoder_blocks,\n",
    "    dropout = dropout,\n",
    "    positional_encoding_type = 'learned'\n",
    ")\n",
    "\n",
    "# Initialize the optimizer\n",
    "optimizer = optimizers.Adam(learning_rate=learning_rate, weight_decay=weight_decay)\n",
    "\n",
    "# Initialize the loss function\n",
    "loss_fn = loss_functions.CrossEntropy(from_sequence=True)"
   ]
  },
  {
   "cell_type": "markdown",
   "metadata": {},
   "source": [
    "### Initializing the model"
   ]
  },
  {
   "cell_type": "code",
   "execution_count": 11,
   "metadata": {},
   "outputs": [],
   "source": [
    "# Call the model with a first batch to initialize the weights\n",
    "# This is not necessary, but it is useful to know the input size\n",
    "\n",
    "# Disable gradient computation\n",
    "with context_manager.no_grad():\n",
    "    # Set the model in evaluation mode\n",
    "    language_model.eval()\n",
    "    \n",
    "    # Call the model with a batch of data to initialize it\n",
    "    language_model(X_train[:batch_size])"
   ]
  },
  {
   "cell_type": "code",
   "execution_count": 12,
   "metadata": {},
   "outputs": [
    {
     "name": "stdout",
     "output_type": "stream",
     "text": [
      "Language Model (DecoderTransformer) [output_shape=(32, 256, 1024), params=11526400]\n",
      "└── language_model.modules (ModuleList) [output_shape=(32, 256, 1024), params=11526400]\n",
      "    └── module_list.0 (Decoder) [output_shape=(32, 256, 1024), params=11526400]\n",
      "        ├── decoder.input_proj (Embedding) [output_shape=(32, 256, 384), params=393216]\n",
      "        ├── decoder.positional_encoding (Embedding) [output_shape=(256, 384), params=98304]\n",
      "        ├── decoder.decoder_blocks (ModuleList) [output_shape=?, params=10639872]\n",
      "        │   ├── module_list.0 (Block) [output_shape=(32, 256, 384), params=1773312]\n",
      "        │   │   ├── block.layer_norm_1 (LayerNormalization) [output_shape=(32, 256, 384), params=768]\n",
      "        │   │   ├── block.mlp (MLP) [output_shape=(32, 256, 384), params=1181568]\n",
      "        │   │   │   ├── mlp.dropout (Dropout) [output_shape=(32, 256, 384), params=0]\n",
      "        │   │   │   ├── block.mlp.input_dense (Dense) [output_shape=(32, 256, 1536), params=591360]\n",
      "        │   │   │   └── block.mlp.output_dense (Dense) [output_shape=(32, 256, 384), params=590208]\n",
      "        │   │   ├── block.layer_norm_2 (LayerNormalization) [output_shape=(32, 256, 384), params=768]\n",
      "        │   │   └── module_list.0.self_attention_heads (SelfMultiHeadAttention) [output_shape=(32, 256, 384), params=590208]\n",
      "        │   │       ├── self_multi_head_attention.heads (ModuleList) [output_shape=?, params=442368]\n",
      "        │   │       │   ├── module_list.0 (SelfSingleHeadAttention) [output_shape=(32, 256, 64), params=73728]\n",
      "        │   │       │   │   ├── self_single_head_attention.key (Dense) [output_shape=(32, 256, 64), params=24576]\n",
      "        │   │       │   │   ├── self_single_head_attention.query (Dense) [output_shape=(32, 256, 64), params=24576]\n",
      "        │   │       │   │   ├── self_single_head_attention.value (Dense) [output_shape=(32, 256, 64), params=24576]\n",
      "        │   │       │   │   └── self_single_head_attention.dropout (Dropout) [output_shape=(32, 256, 256), params=0]\n",
      "        │   │       │   ├── module_list.1 (SelfSingleHeadAttention) [output_shape=(32, 256, 64), params=73728]\n",
      "        │   │       │   │   ├── self_single_head_attention.key (Dense) [output_shape=(32, 256, 64), params=24576]\n",
      "        │   │       │   │   ├── self_single_head_attention.query (Dense) [output_shape=(32, 256, 64), params=24576]\n",
      "        │   │       │   │   ├── self_single_head_attention.value (Dense) [output_shape=(32, 256, 64), params=24576]\n",
      "        │   │       │   │   └── self_single_head_attention.dropout (Dropout) [output_shape=(32, 256, 256), params=0]\n",
      "        │   │       │   ├── module_list.2 (SelfSingleHeadAttention) [output_shape=(32, 256, 64), params=73728]\n",
      "        │   │       │   │   ├── self_single_head_attention.key (Dense) [output_shape=(32, 256, 64), params=24576]\n",
      "        │   │       │   │   ├── self_single_head_attention.query (Dense) [output_shape=(32, 256, 64), params=24576]\n",
      "        │   │       │   │   ├── self_single_head_attention.value (Dense) [output_shape=(32, 256, 64), params=24576]\n",
      "        │   │       │   │   └── self_single_head_attention.dropout (Dropout) [output_shape=(32, 256, 256), params=0]\n",
      "        │   │       │   ├── module_list.3 (SelfSingleHeadAttention) [output_shape=(32, 256, 64), params=73728]\n",
      "        │   │       │   │   ├── self_single_head_attention.key (Dense) [output_shape=(32, 256, 64), params=24576]\n",
      "        │   │       │   │   ├── self_single_head_attention.query (Dense) [output_shape=(32, 256, 64), params=24576]\n",
      "        │   │       │   │   ├── self_single_head_attention.value (Dense) [output_shape=(32, 256, 64), params=24576]\n",
      "        │   │       │   │   └── self_single_head_attention.dropout (Dropout) [output_shape=(32, 256, 256), params=0]\n",
      "        │   │       │   ├── module_list.4 (SelfSingleHeadAttention) [output_shape=(32, 256, 64), params=73728]\n",
      "        │   │       │   │   ├── self_single_head_attention.key (Dense) [output_shape=(32, 256, 64), params=24576]\n",
      "        │   │       │   │   ├── self_single_head_attention.query (Dense) [output_shape=(32, 256, 64), params=24576]\n",
      "        │   │       │   │   ├── self_single_head_attention.value (Dense) [output_shape=(32, 256, 64), params=24576]\n",
      "        │   │       │   │   └── self_single_head_attention.dropout (Dropout) [output_shape=(32, 256, 256), params=0]\n",
      "        │   │       │   └── module_list.5 (SelfSingleHeadAttention) [output_shape=(32, 256, 64), params=73728]\n",
      "        │   │       │       ├── self_single_head_attention.key (Dense) [output_shape=(32, 256, 64), params=24576]\n",
      "        │   │       │       ├── self_single_head_attention.query (Dense) [output_shape=(32, 256, 64), params=24576]\n",
      "        │   │       │       ├── self_single_head_attention.value (Dense) [output_shape=(32, 256, 64), params=24576]\n",
      "        │   │       │       └── self_single_head_attention.dropout (Dropout) [output_shape=(32, 256, 256), params=0]\n",
      "        │   │       ├── self_multi_head_attention.dropout (Dropout) [output_shape=(32, 256, 384), params=0]\n",
      "        │   │       └── module_list.0.self_attention_heads.output_linear (Dense) [output_shape=(32, 256, 384), params=147840]\n",
      "        │   ├── module_list.1 (Block) [output_shape=(32, 256, 384), params=1773312]\n",
      "        │   │   ├── block.layer_norm_1 (LayerNormalization) [output_shape=(32, 256, 384), params=768]\n",
      "        │   │   ├── block.mlp (MLP) [output_shape=(32, 256, 384), params=1181568]\n",
      "        │   │   │   ├── mlp.dropout (Dropout) [output_shape=(32, 256, 384), params=0]\n",
      "        │   │   │   ├── block.mlp.input_dense (Dense) [output_shape=(32, 256, 1536), params=591360]\n",
      "        │   │   │   └── block.mlp.output_dense (Dense) [output_shape=(32, 256, 384), params=590208]\n",
      "        │   │   ├── block.layer_norm_2 (LayerNormalization) [output_shape=(32, 256, 384), params=768]\n",
      "        │   │   └── module_list.1.self_attention_heads (SelfMultiHeadAttention) [output_shape=(32, 256, 384), params=590208]\n",
      "        │   │       ├── self_multi_head_attention.heads (ModuleList) [output_shape=?, params=442368]\n",
      "        │   │       │   ├── module_list.0 (SelfSingleHeadAttention) [output_shape=(32, 256, 64), params=73728]\n",
      "        │   │       │   │   ├── self_single_head_attention.key (Dense) [output_shape=(32, 256, 64), params=24576]\n",
      "        │   │       │   │   ├── self_single_head_attention.query (Dense) [output_shape=(32, 256, 64), params=24576]\n",
      "        │   │       │   │   ├── self_single_head_attention.value (Dense) [output_shape=(32, 256, 64), params=24576]\n",
      "        │   │       │   │   └── self_single_head_attention.dropout (Dropout) [output_shape=(32, 256, 256), params=0]\n",
      "        │   │       │   ├── module_list.1 (SelfSingleHeadAttention) [output_shape=(32, 256, 64), params=73728]\n",
      "        │   │       │   │   ├── self_single_head_attention.key (Dense) [output_shape=(32, 256, 64), params=24576]\n",
      "        │   │       │   │   ├── self_single_head_attention.query (Dense) [output_shape=(32, 256, 64), params=24576]\n",
      "        │   │       │   │   ├── self_single_head_attention.value (Dense) [output_shape=(32, 256, 64), params=24576]\n",
      "        │   │       │   │   └── self_single_head_attention.dropout (Dropout) [output_shape=(32, 256, 256), params=0]\n",
      "        │   │       │   ├── module_list.2 (SelfSingleHeadAttention) [output_shape=(32, 256, 64), params=73728]\n",
      "        │   │       │   │   ├── self_single_head_attention.key (Dense) [output_shape=(32, 256, 64), params=24576]\n",
      "        │   │       │   │   ├── self_single_head_attention.query (Dense) [output_shape=(32, 256, 64), params=24576]\n",
      "        │   │       │   │   ├── self_single_head_attention.value (Dense) [output_shape=(32, 256, 64), params=24576]\n",
      "        │   │       │   │   └── self_single_head_attention.dropout (Dropout) [output_shape=(32, 256, 256), params=0]\n",
      "        │   │       │   ├── module_list.3 (SelfSingleHeadAttention) [output_shape=(32, 256, 64), params=73728]\n",
      "        │   │       │   │   ├── self_single_head_attention.key (Dense) [output_shape=(32, 256, 64), params=24576]\n",
      "        │   │       │   │   ├── self_single_head_attention.query (Dense) [output_shape=(32, 256, 64), params=24576]\n",
      "        │   │       │   │   ├── self_single_head_attention.value (Dense) [output_shape=(32, 256, 64), params=24576]\n",
      "        │   │       │   │   └── self_single_head_attention.dropout (Dropout) [output_shape=(32, 256, 256), params=0]\n",
      "        │   │       │   ├── module_list.4 (SelfSingleHeadAttention) [output_shape=(32, 256, 64), params=73728]\n",
      "        │   │       │   │   ├── self_single_head_attention.key (Dense) [output_shape=(32, 256, 64), params=24576]\n",
      "        │   │       │   │   ├── self_single_head_attention.query (Dense) [output_shape=(32, 256, 64), params=24576]\n",
      "        │   │       │   │   ├── self_single_head_attention.value (Dense) [output_shape=(32, 256, 64), params=24576]\n",
      "        │   │       │   │   └── self_single_head_attention.dropout (Dropout) [output_shape=(32, 256, 256), params=0]\n",
      "        │   │       │   └── module_list.5 (SelfSingleHeadAttention) [output_shape=(32, 256, 64), params=73728]\n",
      "        │   │       │       ├── self_single_head_attention.key (Dense) [output_shape=(32, 256, 64), params=24576]\n",
      "        │   │       │       ├── self_single_head_attention.query (Dense) [output_shape=(32, 256, 64), params=24576]\n",
      "        │   │       │       ├── self_single_head_attention.value (Dense) [output_shape=(32, 256, 64), params=24576]\n",
      "        │   │       │       └── self_single_head_attention.dropout (Dropout) [output_shape=(32, 256, 256), params=0]\n",
      "        │   │       ├── self_multi_head_attention.dropout (Dropout) [output_shape=(32, 256, 384), params=0]\n",
      "        │   │       └── module_list.1.self_attention_heads.output_linear (Dense) [output_shape=(32, 256, 384), params=147840]\n",
      "        │   ├── module_list.2 (Block) [output_shape=(32, 256, 384), params=1773312]\n",
      "        │   │   ├── block.layer_norm_1 (LayerNormalization) [output_shape=(32, 256, 384), params=768]\n",
      "        │   │   ├── block.mlp (MLP) [output_shape=(32, 256, 384), params=1181568]\n",
      "        │   │   │   ├── mlp.dropout (Dropout) [output_shape=(32, 256, 384), params=0]\n",
      "        │   │   │   ├── block.mlp.input_dense (Dense) [output_shape=(32, 256, 1536), params=591360]\n",
      "        │   │   │   └── block.mlp.output_dense (Dense) [output_shape=(32, 256, 384), params=590208]\n",
      "        │   │   ├── block.layer_norm_2 (LayerNormalization) [output_shape=(32, 256, 384), params=768]\n",
      "        │   │   └── module_list.2.self_attention_heads (SelfMultiHeadAttention) [output_shape=(32, 256, 384), params=590208]\n",
      "        │   │       ├── self_multi_head_attention.heads (ModuleList) [output_shape=?, params=442368]\n",
      "        │   │       │   ├── module_list.0 (SelfSingleHeadAttention) [output_shape=(32, 256, 64), params=73728]\n",
      "        │   │       │   │   ├── self_single_head_attention.key (Dense) [output_shape=(32, 256, 64), params=24576]\n",
      "        │   │       │   │   ├── self_single_head_attention.query (Dense) [output_shape=(32, 256, 64), params=24576]\n",
      "        │   │       │   │   ├── self_single_head_attention.value (Dense) [output_shape=(32, 256, 64), params=24576]\n",
      "        │   │       │   │   └── self_single_head_attention.dropout (Dropout) [output_shape=(32, 256, 256), params=0]\n",
      "        │   │       │   ├── module_list.1 (SelfSingleHeadAttention) [output_shape=(32, 256, 64), params=73728]\n",
      "        │   │       │   │   ├── self_single_head_attention.key (Dense) [output_shape=(32, 256, 64), params=24576]\n",
      "        │   │       │   │   ├── self_single_head_attention.query (Dense) [output_shape=(32, 256, 64), params=24576]\n",
      "        │   │       │   │   ├── self_single_head_attention.value (Dense) [output_shape=(32, 256, 64), params=24576]\n",
      "        │   │       │   │   └── self_single_head_attention.dropout (Dropout) [output_shape=(32, 256, 256), params=0]\n",
      "        │   │       │   ├── module_list.2 (SelfSingleHeadAttention) [output_shape=(32, 256, 64), params=73728]\n",
      "        │   │       │   │   ├── self_single_head_attention.key (Dense) [output_shape=(32, 256, 64), params=24576]\n",
      "        │   │       │   │   ├── self_single_head_attention.query (Dense) [output_shape=(32, 256, 64), params=24576]\n",
      "        │   │       │   │   ├── self_single_head_attention.value (Dense) [output_shape=(32, 256, 64), params=24576]\n",
      "        │   │       │   │   └── self_single_head_attention.dropout (Dropout) [output_shape=(32, 256, 256), params=0]\n",
      "        │   │       │   ├── module_list.3 (SelfSingleHeadAttention) [output_shape=(32, 256, 64), params=73728]\n",
      "        │   │       │   │   ├── self_single_head_attention.key (Dense) [output_shape=(32, 256, 64), params=24576]\n",
      "        │   │       │   │   ├── self_single_head_attention.query (Dense) [output_shape=(32, 256, 64), params=24576]\n",
      "        │   │       │   │   ├── self_single_head_attention.value (Dense) [output_shape=(32, 256, 64), params=24576]\n",
      "        │   │       │   │   └── self_single_head_attention.dropout (Dropout) [output_shape=(32, 256, 256), params=0]\n",
      "        │   │       │   ├── module_list.4 (SelfSingleHeadAttention) [output_shape=(32, 256, 64), params=73728]\n",
      "        │   │       │   │   ├── self_single_head_attention.key (Dense) [output_shape=(32, 256, 64), params=24576]\n",
      "        │   │       │   │   ├── self_single_head_attention.query (Dense) [output_shape=(32, 256, 64), params=24576]\n",
      "        │   │       │   │   ├── self_single_head_attention.value (Dense) [output_shape=(32, 256, 64), params=24576]\n",
      "        │   │       │   │   └── self_single_head_attention.dropout (Dropout) [output_shape=(32, 256, 256), params=0]\n",
      "        │   │       │   └── module_list.5 (SelfSingleHeadAttention) [output_shape=(32, 256, 64), params=73728]\n",
      "        │   │       │       ├── self_single_head_attention.key (Dense) [output_shape=(32, 256, 64), params=24576]\n",
      "        │   │       │       ├── self_single_head_attention.query (Dense) [output_shape=(32, 256, 64), params=24576]\n",
      "        │   │       │       ├── self_single_head_attention.value (Dense) [output_shape=(32, 256, 64), params=24576]\n",
      "        │   │       │       └── self_single_head_attention.dropout (Dropout) [output_shape=(32, 256, 256), params=0]\n",
      "        │   │       ├── self_multi_head_attention.dropout (Dropout) [output_shape=(32, 256, 384), params=0]\n",
      "        │   │       └── module_list.2.self_attention_heads.output_linear (Dense) [output_shape=(32, 256, 384), params=147840]\n",
      "        │   ├── module_list.3 (Block) [output_shape=(32, 256, 384), params=1773312]\n",
      "        │   │   ├── block.layer_norm_1 (LayerNormalization) [output_shape=(32, 256, 384), params=768]\n",
      "        │   │   ├── block.mlp (MLP) [output_shape=(32, 256, 384), params=1181568]\n",
      "        │   │   │   ├── mlp.dropout (Dropout) [output_shape=(32, 256, 384), params=0]\n",
      "        │   │   │   ├── block.mlp.input_dense (Dense) [output_shape=(32, 256, 1536), params=591360]\n",
      "        │   │   │   └── block.mlp.output_dense (Dense) [output_shape=(32, 256, 384), params=590208]\n",
      "        │   │   ├── block.layer_norm_2 (LayerNormalization) [output_shape=(32, 256, 384), params=768]\n",
      "        │   │   └── module_list.3.self_attention_heads (SelfMultiHeadAttention) [output_shape=(32, 256, 384), params=590208]\n",
      "        │   │       ├── self_multi_head_attention.heads (ModuleList) [output_shape=?, params=442368]\n",
      "        │   │       │   ├── module_list.0 (SelfSingleHeadAttention) [output_shape=(32, 256, 64), params=73728]\n",
      "        │   │       │   │   ├── self_single_head_attention.key (Dense) [output_shape=(32, 256, 64), params=24576]\n",
      "        │   │       │   │   ├── self_single_head_attention.query (Dense) [output_shape=(32, 256, 64), params=24576]\n",
      "        │   │       │   │   ├── self_single_head_attention.value (Dense) [output_shape=(32, 256, 64), params=24576]\n",
      "        │   │       │   │   └── self_single_head_attention.dropout (Dropout) [output_shape=(32, 256, 256), params=0]\n",
      "        │   │       │   ├── module_list.1 (SelfSingleHeadAttention) [output_shape=(32, 256, 64), params=73728]\n",
      "        │   │       │   │   ├── self_single_head_attention.key (Dense) [output_shape=(32, 256, 64), params=24576]\n",
      "        │   │       │   │   ├── self_single_head_attention.query (Dense) [output_shape=(32, 256, 64), params=24576]\n",
      "        │   │       │   │   ├── self_single_head_attention.value (Dense) [output_shape=(32, 256, 64), params=24576]\n",
      "        │   │       │   │   └── self_single_head_attention.dropout (Dropout) [output_shape=(32, 256, 256), params=0]\n",
      "        │   │       │   ├── module_list.2 (SelfSingleHeadAttention) [output_shape=(32, 256, 64), params=73728]\n",
      "        │   │       │   │   ├── self_single_head_attention.key (Dense) [output_shape=(32, 256, 64), params=24576]\n",
      "        │   │       │   │   ├── self_single_head_attention.query (Dense) [output_shape=(32, 256, 64), params=24576]\n",
      "        │   │       │   │   ├── self_single_head_attention.value (Dense) [output_shape=(32, 256, 64), params=24576]\n",
      "        │   │       │   │   └── self_single_head_attention.dropout (Dropout) [output_shape=(32, 256, 256), params=0]\n",
      "        │   │       │   ├── module_list.3 (SelfSingleHeadAttention) [output_shape=(32, 256, 64), params=73728]\n",
      "        │   │       │   │   ├── self_single_head_attention.key (Dense) [output_shape=(32, 256, 64), params=24576]\n",
      "        │   │       │   │   ├── self_single_head_attention.query (Dense) [output_shape=(32, 256, 64), params=24576]\n",
      "        │   │       │   │   ├── self_single_head_attention.value (Dense) [output_shape=(32, 256, 64), params=24576]\n",
      "        │   │       │   │   └── self_single_head_attention.dropout (Dropout) [output_shape=(32, 256, 256), params=0]\n",
      "        │   │       │   ├── module_list.4 (SelfSingleHeadAttention) [output_shape=(32, 256, 64), params=73728]\n",
      "        │   │       │   │   ├── self_single_head_attention.key (Dense) [output_shape=(32, 256, 64), params=24576]\n",
      "        │   │       │   │   ├── self_single_head_attention.query (Dense) [output_shape=(32, 256, 64), params=24576]\n",
      "        │   │       │   │   ├── self_single_head_attention.value (Dense) [output_shape=(32, 256, 64), params=24576]\n",
      "        │   │       │   │   └── self_single_head_attention.dropout (Dropout) [output_shape=(32, 256, 256), params=0]\n",
      "        │   │       │   └── module_list.5 (SelfSingleHeadAttention) [output_shape=(32, 256, 64), params=73728]\n",
      "        │   │       │       ├── self_single_head_attention.key (Dense) [output_shape=(32, 256, 64), params=24576]\n",
      "        │   │       │       ├── self_single_head_attention.query (Dense) [output_shape=(32, 256, 64), params=24576]\n",
      "        │   │       │       ├── self_single_head_attention.value (Dense) [output_shape=(32, 256, 64), params=24576]\n",
      "        │   │       │       └── self_single_head_attention.dropout (Dropout) [output_shape=(32, 256, 256), params=0]\n",
      "        │   │       ├── self_multi_head_attention.dropout (Dropout) [output_shape=(32, 256, 384), params=0]\n",
      "        │   │       └── module_list.3.self_attention_heads.output_linear (Dense) [output_shape=(32, 256, 384), params=147840]\n",
      "        │   ├── module_list.4 (Block) [output_shape=(32, 256, 384), params=1773312]\n",
      "        │   │   ├── block.layer_norm_1 (LayerNormalization) [output_shape=(32, 256, 384), params=768]\n",
      "        │   │   ├── block.mlp (MLP) [output_shape=(32, 256, 384), params=1181568]\n",
      "        │   │   │   ├── mlp.dropout (Dropout) [output_shape=(32, 256, 384), params=0]\n",
      "        │   │   │   ├── block.mlp.input_dense (Dense) [output_shape=(32, 256, 1536), params=591360]\n",
      "        │   │   │   └── block.mlp.output_dense (Dense) [output_shape=(32, 256, 384), params=590208]\n",
      "        │   │   ├── block.layer_norm_2 (LayerNormalization) [output_shape=(32, 256, 384), params=768]\n",
      "        │   │   └── module_list.4.self_attention_heads (SelfMultiHeadAttention) [output_shape=(32, 256, 384), params=590208]\n",
      "        │   │       ├── self_multi_head_attention.heads (ModuleList) [output_shape=?, params=442368]\n",
      "        │   │       │   ├── module_list.0 (SelfSingleHeadAttention) [output_shape=(32, 256, 64), params=73728]\n",
      "        │   │       │   │   ├── self_single_head_attention.key (Dense) [output_shape=(32, 256, 64), params=24576]\n",
      "        │   │       │   │   ├── self_single_head_attention.query (Dense) [output_shape=(32, 256, 64), params=24576]\n",
      "        │   │       │   │   ├── self_single_head_attention.value (Dense) [output_shape=(32, 256, 64), params=24576]\n",
      "        │   │       │   │   └── self_single_head_attention.dropout (Dropout) [output_shape=(32, 256, 256), params=0]\n",
      "        │   │       │   ├── module_list.1 (SelfSingleHeadAttention) [output_shape=(32, 256, 64), params=73728]\n",
      "        │   │       │   │   ├── self_single_head_attention.key (Dense) [output_shape=(32, 256, 64), params=24576]\n",
      "        │   │       │   │   ├── self_single_head_attention.query (Dense) [output_shape=(32, 256, 64), params=24576]\n",
      "        │   │       │   │   ├── self_single_head_attention.value (Dense) [output_shape=(32, 256, 64), params=24576]\n",
      "        │   │       │   │   └── self_single_head_attention.dropout (Dropout) [output_shape=(32, 256, 256), params=0]\n",
      "        │   │       │   ├── module_list.2 (SelfSingleHeadAttention) [output_shape=(32, 256, 64), params=73728]\n",
      "        │   │       │   │   ├── self_single_head_attention.key (Dense) [output_shape=(32, 256, 64), params=24576]\n",
      "        │   │       │   │   ├── self_single_head_attention.query (Dense) [output_shape=(32, 256, 64), params=24576]\n",
      "        │   │       │   │   ├── self_single_head_attention.value (Dense) [output_shape=(32, 256, 64), params=24576]\n",
      "        │   │       │   │   └── self_single_head_attention.dropout (Dropout) [output_shape=(32, 256, 256), params=0]\n",
      "        │   │       │   ├── module_list.3 (SelfSingleHeadAttention) [output_shape=(32, 256, 64), params=73728]\n",
      "        │   │       │   │   ├── self_single_head_attention.key (Dense) [output_shape=(32, 256, 64), params=24576]\n",
      "        │   │       │   │   ├── self_single_head_attention.query (Dense) [output_shape=(32, 256, 64), params=24576]\n",
      "        │   │       │   │   ├── self_single_head_attention.value (Dense) [output_shape=(32, 256, 64), params=24576]\n",
      "        │   │       │   │   └── self_single_head_attention.dropout (Dropout) [output_shape=(32, 256, 256), params=0]\n",
      "        │   │       │   ├── module_list.4 (SelfSingleHeadAttention) [output_shape=(32, 256, 64), params=73728]\n",
      "        │   │       │   │   ├── self_single_head_attention.key (Dense) [output_shape=(32, 256, 64), params=24576]\n",
      "        │   │       │   │   ├── self_single_head_attention.query (Dense) [output_shape=(32, 256, 64), params=24576]\n",
      "        │   │       │   │   ├── self_single_head_attention.value (Dense) [output_shape=(32, 256, 64), params=24576]\n",
      "        │   │       │   │   └── self_single_head_attention.dropout (Dropout) [output_shape=(32, 256, 256), params=0]\n",
      "        │   │       │   └── module_list.5 (SelfSingleHeadAttention) [output_shape=(32, 256, 64), params=73728]\n",
      "        │   │       │       ├── self_single_head_attention.key (Dense) [output_shape=(32, 256, 64), params=24576]\n",
      "        │   │       │       ├── self_single_head_attention.query (Dense) [output_shape=(32, 256, 64), params=24576]\n",
      "        │   │       │       ├── self_single_head_attention.value (Dense) [output_shape=(32, 256, 64), params=24576]\n",
      "        │   │       │       └── self_single_head_attention.dropout (Dropout) [output_shape=(32, 256, 256), params=0]\n",
      "        │   │       ├── self_multi_head_attention.dropout (Dropout) [output_shape=(32, 256, 384), params=0]\n",
      "        │   │       └── module_list.4.self_attention_heads.output_linear (Dense) [output_shape=(32, 256, 384), params=147840]\n",
      "        │   └── module_list.5 (Block) [output_shape=(32, 256, 384), params=1773312]\n",
      "        │       ├── block.layer_norm_1 (LayerNormalization) [output_shape=(32, 256, 384), params=768]\n",
      "        │       ├── block.mlp (MLP) [output_shape=(32, 256, 384), params=1181568]\n",
      "        │       │   ├── mlp.dropout (Dropout) [output_shape=(32, 256, 384), params=0]\n",
      "        │       │   ├── block.mlp.input_dense (Dense) [output_shape=(32, 256, 1536), params=591360]\n",
      "        │       │   └── block.mlp.output_dense (Dense) [output_shape=(32, 256, 384), params=590208]\n",
      "        │       ├── block.layer_norm_2 (LayerNormalization) [output_shape=(32, 256, 384), params=768]\n",
      "        │       └── module_list.5.self_attention_heads (SelfMultiHeadAttention) [output_shape=(32, 256, 384), params=590208]\n",
      "        │           ├── self_multi_head_attention.heads (ModuleList) [output_shape=?, params=442368]\n",
      "        │           │   ├── module_list.0 (SelfSingleHeadAttention) [output_shape=(32, 256, 64), params=73728]\n",
      "        │           │   │   ├── self_single_head_attention.key (Dense) [output_shape=(32, 256, 64), params=24576]\n",
      "        │           │   │   ├── self_single_head_attention.query (Dense) [output_shape=(32, 256, 64), params=24576]\n",
      "        │           │   │   ├── self_single_head_attention.value (Dense) [output_shape=(32, 256, 64), params=24576]\n",
      "        │           │   │   └── self_single_head_attention.dropout (Dropout) [output_shape=(32, 256, 256), params=0]\n",
      "        │           │   ├── module_list.1 (SelfSingleHeadAttention) [output_shape=(32, 256, 64), params=73728]\n",
      "        │           │   │   ├── self_single_head_attention.key (Dense) [output_shape=(32, 256, 64), params=24576]\n",
      "        │           │   │   ├── self_single_head_attention.query (Dense) [output_shape=(32, 256, 64), params=24576]\n",
      "        │           │   │   ├── self_single_head_attention.value (Dense) [output_shape=(32, 256, 64), params=24576]\n",
      "        │           │   │   └── self_single_head_attention.dropout (Dropout) [output_shape=(32, 256, 256), params=0]\n",
      "        │           │   ├── module_list.2 (SelfSingleHeadAttention) [output_shape=(32, 256, 64), params=73728]\n",
      "        │           │   │   ├── self_single_head_attention.key (Dense) [output_shape=(32, 256, 64), params=24576]\n",
      "        │           │   │   ├── self_single_head_attention.query (Dense) [output_shape=(32, 256, 64), params=24576]\n",
      "        │           │   │   ├── self_single_head_attention.value (Dense) [output_shape=(32, 256, 64), params=24576]\n",
      "        │           │   │   └── self_single_head_attention.dropout (Dropout) [output_shape=(32, 256, 256), params=0]\n",
      "        │           │   ├── module_list.3 (SelfSingleHeadAttention) [output_shape=(32, 256, 64), params=73728]\n",
      "        │           │   │   ├── self_single_head_attention.key (Dense) [output_shape=(32, 256, 64), params=24576]\n",
      "        │           │   │   ├── self_single_head_attention.query (Dense) [output_shape=(32, 256, 64), params=24576]\n",
      "        │           │   │   ├── self_single_head_attention.value (Dense) [output_shape=(32, 256, 64), params=24576]\n",
      "        │           │   │   └── self_single_head_attention.dropout (Dropout) [output_shape=(32, 256, 256), params=0]\n",
      "        │           │   ├── module_list.4 (SelfSingleHeadAttention) [output_shape=(32, 256, 64), params=73728]\n",
      "        │           │   │   ├── self_single_head_attention.key (Dense) [output_shape=(32, 256, 64), params=24576]\n",
      "        │           │   │   ├── self_single_head_attention.query (Dense) [output_shape=(32, 256, 64), params=24576]\n",
      "        │           │   │   ├── self_single_head_attention.value (Dense) [output_shape=(32, 256, 64), params=24576]\n",
      "        │           │   │   └── self_single_head_attention.dropout (Dropout) [output_shape=(32, 256, 256), params=0]\n",
      "        │           │   └── module_list.5 (SelfSingleHeadAttention) [output_shape=(32, 256, 64), params=73728]\n",
      "        │           │       ├── self_single_head_attention.key (Dense) [output_shape=(32, 256, 64), params=24576]\n",
      "        │           │       ├── self_single_head_attention.query (Dense) [output_shape=(32, 256, 64), params=24576]\n",
      "        │           │       ├── self_single_head_attention.value (Dense) [output_shape=(32, 256, 64), params=24576]\n",
      "        │           │       └── self_single_head_attention.dropout (Dropout) [output_shape=(32, 256, 256), params=0]\n",
      "        │           ├── self_multi_head_attention.dropout (Dropout) [output_shape=(32, 256, 384), params=0]\n",
      "        │           └── module_list.5.self_attention_heads.output_linear (Dense) [output_shape=(32, 256, 384), params=147840]\n",
      "        ├── decoder.layer_norm (LayerNormalization) [output_shape=(32, 256, 384), params=768]\n",
      "        └── decoder.output_layer (Dense) [output_shape=(32, 256, 1024), params=394240]\n"
     ]
    }
   ],
   "source": [
    "# Display the model summary in tree format.\n",
    "# This is useful since the whole model is composed of submodules,\n",
    "# therefore, the model summary will be displayed recursively\n",
    "language_model.summary(recursive=True)"
   ]
  },
  {
   "cell_type": "markdown",
   "metadata": {},
   "source": [
    "### Training the model"
   ]
  },
  {
   "cell_type": "code",
   "execution_count": 13,
   "metadata": {},
   "outputs": [
    {
     "name": "stdout",
     "output_type": "stream",
     "text": [
      "Epoch 1/1 --> loss: 3.1886 - accuracy: 0.33335 | Valid loss: 3.0003 - Valid accuracy: 0.34247                        \n"
     ]
    }
   ],
   "source": [
    "# Train the model\n",
    "history = language_model.fit(\n",
    "    X_train = X_train,\n",
    "    y_train = y_train,\n",
    "    X_valid = X_valid,\n",
    "    y_valid = y_valid,\n",
    "    optimizer = optimizer,\n",
    "    loss_fn = loss_fn,\n",
    "    batch_size = batch_size,\n",
    "    epochs = epochs,\n",
    "    metrics = [metrics.accuracy],\n",
    "    gradient_accumulation_steps = grad_accumulation_steps\n",
    ")"
   ]
  },
  {
   "cell_type": "code",
   "execution_count": 14,
   "metadata": {},
   "outputs": [],
   "source": [
    "# Save the model \n",
    "language_model.save(model_path)"
   ]
  },
  {
   "cell_type": "code",
   "execution_count": 15,
   "metadata": {},
   "outputs": [
    {
     "data": {
      "image/png": "[encoded data removed]",
      "text/plain": [
       "<Figure size 800x400 with 1 Axes>"
      ]
     },
     "metadata": {},
     "output_type": "display_data"
    }
   ],
   "source": [
    "# Plot the training and validation loss\n",
    "data_analysis.plot_history(\n",
    "    train_loss = language_model.history[\"loss\"], \n",
    "    valid_loss = language_model.history[\"val_loss\"], \n",
    "    title = \"Training and Validation Loss\", \n",
    "    xlabel = \"Eval iter\",\n",
    "    ylabel = \"Loss\"\n",
    ")"
   ]
  },
  {
   "cell_type": "markdown",
   "metadata": {},
   "source": [
    "### Evaluation"
   ]
  },
  {
   "cell_type": "code",
   "execution_count": 16,
   "metadata": {},
   "outputs": [
    {
     "name": "stdout",
     "output_type": "stream",
     "text": [
      "Processing batch 8/8 - 2240.97 ms/step"
     ]
    }
   ],
   "source": [
    "# Disable gradient computation\n",
    "with context_manager.no_grad():\n",
    "    # Set the model in evaluation mode\n",
    "    language_model.eval()\n",
    "    \n",
    "    # Compute the predictions\n",
    "    predictions = language_model(X_test[:256], batch_size=batch_size, verbose=True)\n",
    "\n",
    "# Apply the argmax function to the predictions\n",
    "predictions = Tensor(np.argmax(predictions.data, axis=1), dtype=np.int8)"
   ]
  },
  {
   "cell_type": "code",
   "execution_count": 17,
   "metadata": {},
   "outputs": [
    {
     "name": "stdout",
     "output_type": "stream",
     "text": [
      "Accuracy: 0.00\n"
     ]
    }
   ],
   "source": [
    "# Compute the accuracy\n",
    "accuracy = metrics.accuracy(y_test[:256], predictions)\n",
    "\n",
    "# Print the accuracy\n",
    "print(f\"Accuracy: {accuracy.data:.2f}\")"
   ]
  },
  {
   "cell_type": "markdown",
   "metadata": {},
   "source": [
    "### Inference"
   ]
  },
  {
   "cell_type": "code",
   "execution_count": 18,
   "metadata": {},
   "outputs": [
    {
     "name": "stdout",
     "output_type": "stream",
     "text": [
      "o, qui lor che tal scuomi;\n",
      "con vallil ha di di della\n",
      "prende cera , sito tugio luce me di discrimai.\n",
      "pugnor ripa e presenza gran la e ntra che P, la al me la sempre ina sazi chee 'io ro\n",
      "connon per ai virquella s'ambua in secondo per ve scendel'acqui naturammo cielo la a lucesi daldi parere ia queston dell'imagino tra fire famir cher al"
     ]
    }
   ],
   "source": [
    "# Generate some text context from the trained model\n",
    "context = Tensor(np.zeros((1, 1), dtype=np.int32))\n",
    "\n",
    "# Iterate over the tokens generated by the transformer\n",
    "for token in language_model.autoregressive_generation(x=context, num_steps=200, stream=True):\n",
    "    # Decode the token\n",
    "    decoded_token = tokenizer.decode([token.data.squeeze().tolist()])\n",
    "\n",
    "    # Print the decoded token\n",
    "    print(decoded_token, end='', flush=True)"
   ]
  }
 ],
 "metadata": {
  "kernelspec": {
   "display_name": "venv",
   "language": "python",
   "name": "python3"
  },
  "language_info": {
   "codemirror_mode": {
    "name": "ipython",
    "version": 3
   },
   "file_extension": ".py",
   "mimetype": "text/x-python",
   "name": "python",
   "nbconvert_exporter": "python",
   "pygments_lexer": "ipython3",
   "version": "3.11.13"
  }
 },
 "nbformat": 4,
 "nbformat_minor": 2
}
