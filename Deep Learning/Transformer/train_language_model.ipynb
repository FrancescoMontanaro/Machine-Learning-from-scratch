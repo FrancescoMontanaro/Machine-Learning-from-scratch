{
 "cells": [
  {
   "cell_type": "code",
   "execution_count": 1,
   "metadata": {},
   "outputs": [],
   "source": [
    "import os\n",
    "import sys\n",
    "import numpy as np\n",
    "\n",
    "# Add the path to the custom library to the system path\n",
    "sys.path.append('..')\n",
    "\n",
    "# Import custom modules\n",
    "from src import Tensor\n",
    "from src.core.utils import data_analysis, context_manager\n",
    "from src.architectures.transformer import Tokenizer, Transformer, DataLoader"
   ]
  },
  {
   "cell_type": "markdown",
   "metadata": {},
   "source": [
    "### Constants and hyperparameters"
   ]
  },
  {
   "cell_type": "code",
   "execution_count": 2,
   "metadata": {},
   "outputs": [],
   "source": [
    "# Constants\n",
    "dataset_path = os.path.join(os.getcwd(), 'dataset', 'divina_commedia.txt')\n",
    "tokenizer_path = os.path.join(os.getcwd(), 'checkpoints', 'tokenizer.json')\n",
    "model_path = os.path.join(os.getcwd(), 'checkpoints', 'language_model')"
   ]
  },
  {
   "cell_type": "code",
   "execution_count": 3,
   "metadata": {},
   "outputs": [],
   "source": [
    "# Hyperparameters\n",
    "dropout = 0.2 # The dropout rate\n",
    "train_val_split = 0.9 # 90% of the data will be used for training, 10% for validation\n",
    "batch_size = 32 # The number of samples to use for each batch\n",
    "grad_accumulation_steps = 1 # The number of steps to accumulate gradients before updating the model\n",
    "sequence_length = 256 # The size of the sequence length (the context window)\n",
    "learning_rate = 1e-3 # The learning rate for the optimizer\n",
    "training_steps = 1 # The number of steps to train the model for\n",
    "n_embed = 384 # The size of the token embeddings (the dimensionality of the embeddings)\n",
    "eval_iters = 1 # The number of iterations to evaluate the model\n",
    "n_attention_heads = 6 # The number of attention heads in the multi-head attention mechanism\n",
    "n_decoder_blocks = 6 # The number of transformer'decoder blocks in the model"
   ]
  },
  {
   "cell_type": "markdown",
   "metadata": {},
   "source": [
    "### Data loading"
   ]
  },
  {
   "cell_type": "code",
   "execution_count": 4,
   "metadata": {},
   "outputs": [],
   "source": [
    "def load_txt_file(path: str) -> str:\n",
    "    \"\"\"\n",
    "    Load a text file from the specified path.\n",
    "    \n",
    "    Parameters:\n",
    "    - path (str): The path to the text file.\n",
    "    \n",
    "    Returns:\n",
    "    - str: The contents of the text file.\n",
    "    \"\"\"\n",
    "    \n",
    "    # Check if the file exists\n",
    "    if not os.path.exists(path):\n",
    "        raise FileNotFoundError(f'The file \"{path}\" does not exist.')\n",
    "    \n",
    "    # Read the file\n",
    "    with open(path, 'r', encoding='utf-8') as file:\n",
    "        return file.read()"
   ]
  },
  {
   "cell_type": "code",
   "execution_count": 5,
   "metadata": {},
   "outputs": [],
   "source": [
    "# Instantiate the tokenizer\n",
    "tokenizer = Tokenizer()\n",
    "\n",
    "# Load the state of the tokenizer\n",
    "tokenizer.load(tokenizer_path)\n",
    "\n",
    "# Extract the vocabulary size\n",
    "vocab_size = tokenizer.get_vocab_size()"
   ]
  },
  {
   "cell_type": "code",
   "execution_count": 6,
   "metadata": {},
   "outputs": [],
   "source": [
    "# Load the text file\n",
    "text = load_txt_file(dataset_path)\n",
    "\n",
    "# Encode the text using the tokenizer\n",
    "encoded_text = tokenizer.encode(text)\n",
    "\n",
    "# Convert the data to a tensor\n",
    "data = Tensor(np.array(encoded_text), dtype=np.int32)"
   ]
  },
  {
   "cell_type": "code",
   "execution_count": 7,
   "metadata": {},
   "outputs": [],
   "source": [
    "# Instantiate the data loader\n",
    "data_loader = DataLoader(\n",
    "    data = data, \n",
    "    train_val_split = train_val_split\n",
    ")"
   ]
  },
  {
   "cell_type": "markdown",
   "metadata": {},
   "source": [
    "### Building the model"
   ]
  },
  {
   "cell_type": "code",
   "execution_count": 8,
   "metadata": {},
   "outputs": [],
   "source": [
    "# Create the language model\n",
    "language_model = Transformer(\n",
    "    name = \"Language Model\",\n",
    "    vocab_size = vocab_size,\n",
    "    n_embed = n_embed,\n",
    "    n_attention_heads = n_attention_heads,\n",
    "    sequence_length = sequence_length,\n",
    "    n_decoder_blocks = n_decoder_blocks,\n",
    "    dropout = dropout\n",
    ")"
   ]
  },
  {
   "cell_type": "markdown",
   "metadata": {},
   "source": [
    "### Initializing the model"
   ]
  },
  {
   "cell_type": "code",
   "execution_count": 9,
   "metadata": {},
   "outputs": [],
   "source": [
    "# Call the model with a first batch to initialize the weights\n",
    "# This is not necessary, but it is useful to know the input size\n",
    "\n",
    "# Disable gradient computation\n",
    "with context_manager.no_grad():\n",
    "    # Set the model in evaluation mode\n",
    "    language_model.eval()\n",
    "    \n",
    "    # Get a batch of data\n",
    "    x, _ = data_loader.get_batch(\n",
    "        batch_size = batch_size,\n",
    "        sequence_length = sequence_length\n",
    "    )\n",
    "    \n",
    "    # Call the model with a batch of data to initialize it\n",
    "    language_model(x)"
   ]
  },
  {
   "cell_type": "code",
   "execution_count": 10,
   "metadata": {},
   "outputs": [
    {
     "name": "stdout",
     "output_type": "stream",
     "text": [
      "Language Model (Transformer) [output_shape=(32, 256, 1024), params=11526400]\n",
      "└── language_model.decoder (Decoder) [output_shape=(32, 256, 1024), params=11526400]\n",
      "    ├── decoder.embedding (Embedding) [output_shape=(32, 256, 384), params=393216]\n",
      "    ├── decoder.positional_embedding (Embedding) [output_shape=(256, 384), params=98304]\n",
      "    ├── decoder.decoder_blocks (ModuleList) [output_shape=?, params=10639872]\n",
      "    │   ├── module_list.0 (DecoderBlock) [output_shape=(32, 256, 384), params=1773312]\n",
      "    │   │   ├── decoder_block.layer_norm_1 (LayerNormalization) [output_shape=(32, 256, 384), params=768]\n",
      "    │   │   ├── decoder_block.mlp (MLP) [output_shape=(32, 256, 384), params=1181568]\n",
      "    │   │   │   ├── mlp.dropout (Dropout) [output_shape=(32, 256, 384), params=0]\n",
      "    │   │   │   ├── decoder_block.mlp.input_dense (Dense) [output_shape=(32, 256, 1536), params=591360]\n",
      "    │   │   │   └── decoder_block.mlp.output_dense (Dense) [output_shape=(32, 256, 384), params=590208]\n",
      "    │   │   ├── decoder_block.layer_norm_2 (LayerNormalization) [output_shape=(32, 256, 384), params=768]\n",
      "    │   │   └── module_list.0.attention_heads (MultiHeadAttention) [output_shape=(32, 256, 384), params=590208]\n",
      "    │   │       ├── multi_head_attention.heads (ModuleList) [output_shape=?, params=442368]\n",
      "    │   │       │   ├── module_list.0 (SingleHeadAttention) [output_shape=(32, 256, 64), params=73728]\n",
      "    │   │       │   │   ├── single_head_attention.key (Dense) [output_shape=(32, 256, 64), params=24576]\n",
      "    │   │       │   │   ├── single_head_attention.query (Dense) [output_shape=(32, 256, 64), params=24576]\n",
      "    │   │       │   │   ├── single_head_attention.value (Dense) [output_shape=(32, 256, 64), params=24576]\n",
      "    │   │       │   │   └── single_head_attention.dropout (Dropout) [output_shape=(32, 256, 256), params=0]\n",
      "    │   │       │   ├── module_list.1 (SingleHeadAttention) [output_shape=(32, 256, 64), params=73728]\n",
      "    │   │       │   │   ├── single_head_attention.key (Dense) [output_shape=(32, 256, 64), params=24576]\n",
      "    │   │       │   │   ├── single_head_attention.query (Dense) [output_shape=(32, 256, 64), params=24576]\n",
      "    │   │       │   │   ├── single_head_attention.value (Dense) [output_shape=(32, 256, 64), params=24576]\n",
      "    │   │       │   │   └── single_head_attention.dropout (Dropout) [output_shape=(32, 256, 256), params=0]\n",
      "    │   │       │   ├── module_list.2 (SingleHeadAttention) [output_shape=(32, 256, 64), params=73728]\n",
      "    │   │       │   │   ├── single_head_attention.key (Dense) [output_shape=(32, 256, 64), params=24576]\n",
      "    │   │       │   │   ├── single_head_attention.query (Dense) [output_shape=(32, 256, 64), params=24576]\n",
      "    │   │       │   │   ├── single_head_attention.value (Dense) [output_shape=(32, 256, 64), params=24576]\n",
      "    │   │       │   │   └── single_head_attention.dropout (Dropout) [output_shape=(32, 256, 256), params=0]\n",
      "    │   │       │   ├── module_list.3 (SingleHeadAttention) [output_shape=(32, 256, 64), params=73728]\n",
      "    │   │       │   │   ├── single_head_attention.key (Dense) [output_shape=(32, 256, 64), params=24576]\n",
      "    │   │       │   │   ├── single_head_attention.query (Dense) [output_shape=(32, 256, 64), params=24576]\n",
      "    │   │       │   │   ├── single_head_attention.value (Dense) [output_shape=(32, 256, 64), params=24576]\n",
      "    │   │       │   │   └── single_head_attention.dropout (Dropout) [output_shape=(32, 256, 256), params=0]\n",
      "    │   │       │   ├── module_list.4 (SingleHeadAttention) [output_shape=(32, 256, 64), params=73728]\n",
      "    │   │       │   │   ├── single_head_attention.key (Dense) [output_shape=(32, 256, 64), params=24576]\n",
      "    │   │       │   │   ├── single_head_attention.query (Dense) [output_shape=(32, 256, 64), params=24576]\n",
      "    │   │       │   │   ├── single_head_attention.value (Dense) [output_shape=(32, 256, 64), params=24576]\n",
      "    │   │       │   │   └── single_head_attention.dropout (Dropout) [output_shape=(32, 256, 256), params=0]\n",
      "    │   │       │   └── module_list.5 (SingleHeadAttention) [output_shape=(32, 256, 64), params=73728]\n",
      "    │   │       │       ├── single_head_attention.key (Dense) [output_shape=(32, 256, 64), params=24576]\n",
      "    │   │       │       ├── single_head_attention.query (Dense) [output_shape=(32, 256, 64), params=24576]\n",
      "    │   │       │       ├── single_head_attention.value (Dense) [output_shape=(32, 256, 64), params=24576]\n",
      "    │   │       │       └── single_head_attention.dropout (Dropout) [output_shape=(32, 256, 256), params=0]\n",
      "    │   │       ├── multi_head_attention.dropout (Dropout) [output_shape=(32, 256, 384), params=0]\n",
      "    │   │       └── module_list.0.attention_heads.output_linear (Dense) [output_shape=(32, 256, 384), params=147840]\n",
      "    │   ├── module_list.1 (DecoderBlock) [output_shape=(32, 256, 384), params=1773312]\n",
      "    │   │   ├── decoder_block.layer_norm_1 (LayerNormalization) [output_shape=(32, 256, 384), params=768]\n",
      "    │   │   ├── decoder_block.mlp (MLP) [output_shape=(32, 256, 384), params=1181568]\n",
      "    │   │   │   ├── mlp.dropout (Dropout) [output_shape=(32, 256, 384), params=0]\n",
      "    │   │   │   ├── decoder_block.mlp.input_dense (Dense) [output_shape=(32, 256, 1536), params=591360]\n",
      "    │   │   │   └── decoder_block.mlp.output_dense (Dense) [output_shape=(32, 256, 384), params=590208]\n",
      "    │   │   ├── decoder_block.layer_norm_2 (LayerNormalization) [output_shape=(32, 256, 384), params=768]\n",
      "    │   │   └── module_list.1.attention_heads (MultiHeadAttention) [output_shape=(32, 256, 384), params=590208]\n",
      "    │   │       ├── multi_head_attention.heads (ModuleList) [output_shape=?, params=442368]\n",
      "    │   │       │   ├── module_list.0 (SingleHeadAttention) [output_shape=(32, 256, 64), params=73728]\n",
      "    │   │       │   │   ├── single_head_attention.key (Dense) [output_shape=(32, 256, 64), params=24576]\n",
      "    │   │       │   │   ├── single_head_attention.query (Dense) [output_shape=(32, 256, 64), params=24576]\n",
      "    │   │       │   │   ├── single_head_attention.value (Dense) [output_shape=(32, 256, 64), params=24576]\n",
      "    │   │       │   │   └── single_head_attention.dropout (Dropout) [output_shape=(32, 256, 256), params=0]\n",
      "    │   │       │   ├── module_list.1 (SingleHeadAttention) [output_shape=(32, 256, 64), params=73728]\n",
      "    │   │       │   │   ├── single_head_attention.key (Dense) [output_shape=(32, 256, 64), params=24576]\n",
      "    │   │       │   │   ├── single_head_attention.query (Dense) [output_shape=(32, 256, 64), params=24576]\n",
      "    │   │       │   │   ├── single_head_attention.value (Dense) [output_shape=(32, 256, 64), params=24576]\n",
      "    │   │       │   │   └── single_head_attention.dropout (Dropout) [output_shape=(32, 256, 256), params=0]\n",
      "    │   │       │   ├── module_list.2 (SingleHeadAttention) [output_shape=(32, 256, 64), params=73728]\n",
      "    │   │       │   │   ├── single_head_attention.key (Dense) [output_shape=(32, 256, 64), params=24576]\n",
      "    │   │       │   │   ├── single_head_attention.query (Dense) [output_shape=(32, 256, 64), params=24576]\n",
      "    │   │       │   │   ├── single_head_attention.value (Dense) [output_shape=(32, 256, 64), params=24576]\n",
      "    │   │       │   │   └── single_head_attention.dropout (Dropout) [output_shape=(32, 256, 256), params=0]\n",
      "    │   │       │   ├── module_list.3 (SingleHeadAttention) [output_shape=(32, 256, 64), params=73728]\n",
      "    │   │       │   │   ├── single_head_attention.key (Dense) [output_shape=(32, 256, 64), params=24576]\n",
      "    │   │       │   │   ├── single_head_attention.query (Dense) [output_shape=(32, 256, 64), params=24576]\n",
      "    │   │       │   │   ├── single_head_attention.value (Dense) [output_shape=(32, 256, 64), params=24576]\n",
      "    │   │       │   │   └── single_head_attention.dropout (Dropout) [output_shape=(32, 256, 256), params=0]\n",
      "    │   │       │   ├── module_list.4 (SingleHeadAttention) [output_shape=(32, 256, 64), params=73728]\n",
      "    │   │       │   │   ├── single_head_attention.key (Dense) [output_shape=(32, 256, 64), params=24576]\n",
      "    │   │       │   │   ├── single_head_attention.query (Dense) [output_shape=(32, 256, 64), params=24576]\n",
      "    │   │       │   │   ├── single_head_attention.value (Dense) [output_shape=(32, 256, 64), params=24576]\n",
      "    │   │       │   │   └── single_head_attention.dropout (Dropout) [output_shape=(32, 256, 256), params=0]\n",
      "    │   │       │   └── module_list.5 (SingleHeadAttention) [output_shape=(32, 256, 64), params=73728]\n",
      "    │   │       │       ├── single_head_attention.key (Dense) [output_shape=(32, 256, 64), params=24576]\n",
      "    │   │       │       ├── single_head_attention.query (Dense) [output_shape=(32, 256, 64), params=24576]\n",
      "    │   │       │       ├── single_head_attention.value (Dense) [output_shape=(32, 256, 64), params=24576]\n",
      "    │   │       │       └── single_head_attention.dropout (Dropout) [output_shape=(32, 256, 256), params=0]\n",
      "    │   │       ├── multi_head_attention.dropout (Dropout) [output_shape=(32, 256, 384), params=0]\n",
      "    │   │       └── module_list.1.attention_heads.output_linear (Dense) [output_shape=(32, 256, 384), params=147840]\n",
      "    │   ├── module_list.2 (DecoderBlock) [output_shape=(32, 256, 384), params=1773312]\n",
      "    │   │   ├── decoder_block.layer_norm_1 (LayerNormalization) [output_shape=(32, 256, 384), params=768]\n",
      "    │   │   ├── decoder_block.mlp (MLP) [output_shape=(32, 256, 384), params=1181568]\n",
      "    │   │   │   ├── mlp.dropout (Dropout) [output_shape=(32, 256, 384), params=0]\n",
      "    │   │   │   ├── decoder_block.mlp.input_dense (Dense) [output_shape=(32, 256, 1536), params=591360]\n",
      "    │   │   │   └── decoder_block.mlp.output_dense (Dense) [output_shape=(32, 256, 384), params=590208]\n",
      "    │   │   ├── decoder_block.layer_norm_2 (LayerNormalization) [output_shape=(32, 256, 384), params=768]\n",
      "    │   │   └── module_list.2.attention_heads (MultiHeadAttention) [output_shape=(32, 256, 384), params=590208]\n",
      "    │   │       ├── multi_head_attention.heads (ModuleList) [output_shape=?, params=442368]\n",
      "    │   │       │   ├── module_list.0 (SingleHeadAttention) [output_shape=(32, 256, 64), params=73728]\n",
      "    │   │       │   │   ├── single_head_attention.key (Dense) [output_shape=(32, 256, 64), params=24576]\n",
      "    │   │       │   │   ├── single_head_attention.query (Dense) [output_shape=(32, 256, 64), params=24576]\n",
      "    │   │       │   │   ├── single_head_attention.value (Dense) [output_shape=(32, 256, 64), params=24576]\n",
      "    │   │       │   │   └── single_head_attention.dropout (Dropout) [output_shape=(32, 256, 256), params=0]\n",
      "    │   │       │   ├── module_list.1 (SingleHeadAttention) [output_shape=(32, 256, 64), params=73728]\n",
      "    │   │       │   │   ├── single_head_attention.key (Dense) [output_shape=(32, 256, 64), params=24576]\n",
      "    │   │       │   │   ├── single_head_attention.query (Dense) [output_shape=(32, 256, 64), params=24576]\n",
      "    │   │       │   │   ├── single_head_attention.value (Dense) [output_shape=(32, 256, 64), params=24576]\n",
      "    │   │       │   │   └── single_head_attention.dropout (Dropout) [output_shape=(32, 256, 256), params=0]\n",
      "    │   │       │   ├── module_list.2 (SingleHeadAttention) [output_shape=(32, 256, 64), params=73728]\n",
      "    │   │       │   │   ├── single_head_attention.key (Dense) [output_shape=(32, 256, 64), params=24576]\n",
      "    │   │       │   │   ├── single_head_attention.query (Dense) [output_shape=(32, 256, 64), params=24576]\n",
      "    │   │       │   │   ├── single_head_attention.value (Dense) [output_shape=(32, 256, 64), params=24576]\n",
      "    │   │       │   │   └── single_head_attention.dropout (Dropout) [output_shape=(32, 256, 256), params=0]\n",
      "    │   │       │   ├── module_list.3 (SingleHeadAttention) [output_shape=(32, 256, 64), params=73728]\n",
      "    │   │       │   │   ├── single_head_attention.key (Dense) [output_shape=(32, 256, 64), params=24576]\n",
      "    │   │       │   │   ├── single_head_attention.query (Dense) [output_shape=(32, 256, 64), params=24576]\n",
      "    │   │       │   │   ├── single_head_attention.value (Dense) [output_shape=(32, 256, 64), params=24576]\n",
      "    │   │       │   │   └── single_head_attention.dropout (Dropout) [output_shape=(32, 256, 256), params=0]\n",
      "    │   │       │   ├── module_list.4 (SingleHeadAttention) [output_shape=(32, 256, 64), params=73728]\n",
      "    │   │       │   │   ├── single_head_attention.key (Dense) [output_shape=(32, 256, 64), params=24576]\n",
      "    │   │       │   │   ├── single_head_attention.query (Dense) [output_shape=(32, 256, 64), params=24576]\n",
      "    │   │       │   │   ├── single_head_attention.value (Dense) [output_shape=(32, 256, 64), params=24576]\n",
      "    │   │       │   │   └── single_head_attention.dropout (Dropout) [output_shape=(32, 256, 256), params=0]\n",
      "    │   │       │   └── module_list.5 (SingleHeadAttention) [output_shape=(32, 256, 64), params=73728]\n",
      "    │   │       │       ├── single_head_attention.key (Dense) [output_shape=(32, 256, 64), params=24576]\n",
      "    │   │       │       ├── single_head_attention.query (Dense) [output_shape=(32, 256, 64), params=24576]\n",
      "    │   │       │       ├── single_head_attention.value (Dense) [output_shape=(32, 256, 64), params=24576]\n",
      "    │   │       │       └── single_head_attention.dropout (Dropout) [output_shape=(32, 256, 256), params=0]\n",
      "    │   │       ├── multi_head_attention.dropout (Dropout) [output_shape=(32, 256, 384), params=0]\n",
      "    │   │       └── module_list.2.attention_heads.output_linear (Dense) [output_shape=(32, 256, 384), params=147840]\n",
      "    │   ├── module_list.3 (DecoderBlock) [output_shape=(32, 256, 384), params=1773312]\n",
      "    │   │   ├── decoder_block.layer_norm_1 (LayerNormalization) [output_shape=(32, 256, 384), params=768]\n",
      "    │   │   ├── decoder_block.mlp (MLP) [output_shape=(32, 256, 384), params=1181568]\n",
      "    │   │   │   ├── mlp.dropout (Dropout) [output_shape=(32, 256, 384), params=0]\n",
      "    │   │   │   ├── decoder_block.mlp.input_dense (Dense) [output_shape=(32, 256, 1536), params=591360]\n",
      "    │   │   │   └── decoder_block.mlp.output_dense (Dense) [output_shape=(32, 256, 384), params=590208]\n",
      "    │   │   ├── decoder_block.layer_norm_2 (LayerNormalization) [output_shape=(32, 256, 384), params=768]\n",
      "    │   │   └── module_list.3.attention_heads (MultiHeadAttention) [output_shape=(32, 256, 384), params=590208]\n",
      "    │   │       ├── multi_head_attention.heads (ModuleList) [output_shape=?, params=442368]\n",
      "    │   │       │   ├── module_list.0 (SingleHeadAttention) [output_shape=(32, 256, 64), params=73728]\n",
      "    │   │       │   │   ├── single_head_attention.key (Dense) [output_shape=(32, 256, 64), params=24576]\n",
      "    │   │       │   │   ├── single_head_attention.query (Dense) [output_shape=(32, 256, 64), params=24576]\n",
      "    │   │       │   │   ├── single_head_attention.value (Dense) [output_shape=(32, 256, 64), params=24576]\n",
      "    │   │       │   │   └── single_head_attention.dropout (Dropout) [output_shape=(32, 256, 256), params=0]\n",
      "    │   │       │   ├── module_list.1 (SingleHeadAttention) [output_shape=(32, 256, 64), params=73728]\n",
      "    │   │       │   │   ├── single_head_attention.key (Dense) [output_shape=(32, 256, 64), params=24576]\n",
      "    │   │       │   │   ├── single_head_attention.query (Dense) [output_shape=(32, 256, 64), params=24576]\n",
      "    │   │       │   │   ├── single_head_attention.value (Dense) [output_shape=(32, 256, 64), params=24576]\n",
      "    │   │       │   │   └── single_head_attention.dropout (Dropout) [output_shape=(32, 256, 256), params=0]\n",
      "    │   │       │   ├── module_list.2 (SingleHeadAttention) [output_shape=(32, 256, 64), params=73728]\n",
      "    │   │       │   │   ├── single_head_attention.key (Dense) [output_shape=(32, 256, 64), params=24576]\n",
      "    │   │       │   │   ├── single_head_attention.query (Dense) [output_shape=(32, 256, 64), params=24576]\n",
      "    │   │       │   │   ├── single_head_attention.value (Dense) [output_shape=(32, 256, 64), params=24576]\n",
      "    │   │       │   │   └── single_head_attention.dropout (Dropout) [output_shape=(32, 256, 256), params=0]\n",
      "    │   │       │   ├── module_list.3 (SingleHeadAttention) [output_shape=(32, 256, 64), params=73728]\n",
      "    │   │       │   │   ├── single_head_attention.key (Dense) [output_shape=(32, 256, 64), params=24576]\n",
      "    │   │       │   │   ├── single_head_attention.query (Dense) [output_shape=(32, 256, 64), params=24576]\n",
      "    │   │       │   │   ├── single_head_attention.value (Dense) [output_shape=(32, 256, 64), params=24576]\n",
      "    │   │       │   │   └── single_head_attention.dropout (Dropout) [output_shape=(32, 256, 256), params=0]\n",
      "    │   │       │   ├── module_list.4 (SingleHeadAttention) [output_shape=(32, 256, 64), params=73728]\n",
      "    │   │       │   │   ├── single_head_attention.key (Dense) [output_shape=(32, 256, 64), params=24576]\n",
      "    │   │       │   │   ├── single_head_attention.query (Dense) [output_shape=(32, 256, 64), params=24576]\n",
      "    │   │       │   │   ├── single_head_attention.value (Dense) [output_shape=(32, 256, 64), params=24576]\n",
      "    │   │       │   │   └── single_head_attention.dropout (Dropout) [output_shape=(32, 256, 256), params=0]\n",
      "    │   │       │   └── module_list.5 (SingleHeadAttention) [output_shape=(32, 256, 64), params=73728]\n",
      "    │   │       │       ├── single_head_attention.key (Dense) [output_shape=(32, 256, 64), params=24576]\n",
      "    │   │       │       ├── single_head_attention.query (Dense) [output_shape=(32, 256, 64), params=24576]\n",
      "    │   │       │       ├── single_head_attention.value (Dense) [output_shape=(32, 256, 64), params=24576]\n",
      "    │   │       │       └── single_head_attention.dropout (Dropout) [output_shape=(32, 256, 256), params=0]\n",
      "    │   │       ├── multi_head_attention.dropout (Dropout) [output_shape=(32, 256, 384), params=0]\n",
      "    │   │       └── module_list.3.attention_heads.output_linear (Dense) [output_shape=(32, 256, 384), params=147840]\n",
      "    │   ├── module_list.4 (DecoderBlock) [output_shape=(32, 256, 384), params=1773312]\n",
      "    │   │   ├── decoder_block.layer_norm_1 (LayerNormalization) [output_shape=(32, 256, 384), params=768]\n",
      "    │   │   ├── decoder_block.mlp (MLP) [output_shape=(32, 256, 384), params=1181568]\n",
      "    │   │   │   ├── mlp.dropout (Dropout) [output_shape=(32, 256, 384), params=0]\n",
      "    │   │   │   ├── decoder_block.mlp.input_dense (Dense) [output_shape=(32, 256, 1536), params=591360]\n",
      "    │   │   │   └── decoder_block.mlp.output_dense (Dense) [output_shape=(32, 256, 384), params=590208]\n",
      "    │   │   ├── decoder_block.layer_norm_2 (LayerNormalization) [output_shape=(32, 256, 384), params=768]\n",
      "    │   │   └── module_list.4.attention_heads (MultiHeadAttention) [output_shape=(32, 256, 384), params=590208]\n",
      "    │   │       ├── multi_head_attention.heads (ModuleList) [output_shape=?, params=442368]\n",
      "    │   │       │   ├── module_list.0 (SingleHeadAttention) [output_shape=(32, 256, 64), params=73728]\n",
      "    │   │       │   │   ├── single_head_attention.key (Dense) [output_shape=(32, 256, 64), params=24576]\n",
      "    │   │       │   │   ├── single_head_attention.query (Dense) [output_shape=(32, 256, 64), params=24576]\n",
      "    │   │       │   │   ├── single_head_attention.value (Dense) [output_shape=(32, 256, 64), params=24576]\n",
      "    │   │       │   │   └── single_head_attention.dropout (Dropout) [output_shape=(32, 256, 256), params=0]\n",
      "    │   │       │   ├── module_list.1 (SingleHeadAttention) [output_shape=(32, 256, 64), params=73728]\n",
      "    │   │       │   │   ├── single_head_attention.key (Dense) [output_shape=(32, 256, 64), params=24576]\n",
      "    │   │       │   │   ├── single_head_attention.query (Dense) [output_shape=(32, 256, 64), params=24576]\n",
      "    │   │       │   │   ├── single_head_attention.value (Dense) [output_shape=(32, 256, 64), params=24576]\n",
      "    │   │       │   │   └── single_head_attention.dropout (Dropout) [output_shape=(32, 256, 256), params=0]\n",
      "    │   │       │   ├── module_list.2 (SingleHeadAttention) [output_shape=(32, 256, 64), params=73728]\n",
      "    │   │       │   │   ├── single_head_attention.key (Dense) [output_shape=(32, 256, 64), params=24576]\n",
      "    │   │       │   │   ├── single_head_attention.query (Dense) [output_shape=(32, 256, 64), params=24576]\n",
      "    │   │       │   │   ├── single_head_attention.value (Dense) [output_shape=(32, 256, 64), params=24576]\n",
      "    │   │       │   │   └── single_head_attention.dropout (Dropout) [output_shape=(32, 256, 256), params=0]\n",
      "    │   │       │   ├── module_list.3 (SingleHeadAttention) [output_shape=(32, 256, 64), params=73728]\n",
      "    │   │       │   │   ├── single_head_attention.key (Dense) [output_shape=(32, 256, 64), params=24576]\n",
      "    │   │       │   │   ├── single_head_attention.query (Dense) [output_shape=(32, 256, 64), params=24576]\n",
      "    │   │       │   │   ├── single_head_attention.value (Dense) [output_shape=(32, 256, 64), params=24576]\n",
      "    │   │       │   │   └── single_head_attention.dropout (Dropout) [output_shape=(32, 256, 256), params=0]\n",
      "    │   │       │   ├── module_list.4 (SingleHeadAttention) [output_shape=(32, 256, 64), params=73728]\n",
      "    │   │       │   │   ├── single_head_attention.key (Dense) [output_shape=(32, 256, 64), params=24576]\n",
      "    │   │       │   │   ├── single_head_attention.query (Dense) [output_shape=(32, 256, 64), params=24576]\n",
      "    │   │       │   │   ├── single_head_attention.value (Dense) [output_shape=(32, 256, 64), params=24576]\n",
      "    │   │       │   │   └── single_head_attention.dropout (Dropout) [output_shape=(32, 256, 256), params=0]\n",
      "    │   │       │   └── module_list.5 (SingleHeadAttention) [output_shape=(32, 256, 64), params=73728]\n",
      "    │   │       │       ├── single_head_attention.key (Dense) [output_shape=(32, 256, 64), params=24576]\n",
      "    │   │       │       ├── single_head_attention.query (Dense) [output_shape=(32, 256, 64), params=24576]\n",
      "    │   │       │       ├── single_head_attention.value (Dense) [output_shape=(32, 256, 64), params=24576]\n",
      "    │   │       │       └── single_head_attention.dropout (Dropout) [output_shape=(32, 256, 256), params=0]\n",
      "    │   │       ├── multi_head_attention.dropout (Dropout) [output_shape=(32, 256, 384), params=0]\n",
      "    │   │       └── module_list.4.attention_heads.output_linear (Dense) [output_shape=(32, 256, 384), params=147840]\n",
      "    │   └── module_list.5 (DecoderBlock) [output_shape=(32, 256, 384), params=1773312]\n",
      "    │       ├── decoder_block.layer_norm_1 (LayerNormalization) [output_shape=(32, 256, 384), params=768]\n",
      "    │       ├── decoder_block.mlp (MLP) [output_shape=(32, 256, 384), params=1181568]\n",
      "    │       │   ├── mlp.dropout (Dropout) [output_shape=(32, 256, 384), params=0]\n",
      "    │       │   ├── decoder_block.mlp.input_dense (Dense) [output_shape=(32, 256, 1536), params=591360]\n",
      "    │       │   └── decoder_block.mlp.output_dense (Dense) [output_shape=(32, 256, 384), params=590208]\n",
      "    │       ├── decoder_block.layer_norm_2 (LayerNormalization) [output_shape=(32, 256, 384), params=768]\n",
      "    │       └── module_list.5.attention_heads (MultiHeadAttention) [output_shape=(32, 256, 384), params=590208]\n",
      "    │           ├── multi_head_attention.heads (ModuleList) [output_shape=?, params=442368]\n",
      "    │           │   ├── module_list.0 (SingleHeadAttention) [output_shape=(32, 256, 64), params=73728]\n",
      "    │           │   │   ├── single_head_attention.key (Dense) [output_shape=(32, 256, 64), params=24576]\n",
      "    │           │   │   ├── single_head_attention.query (Dense) [output_shape=(32, 256, 64), params=24576]\n",
      "    │           │   │   ├── single_head_attention.value (Dense) [output_shape=(32, 256, 64), params=24576]\n",
      "    │           │   │   └── single_head_attention.dropout (Dropout) [output_shape=(32, 256, 256), params=0]\n",
      "    │           │   ├── module_list.1 (SingleHeadAttention) [output_shape=(32, 256, 64), params=73728]\n",
      "    │           │   │   ├── single_head_attention.key (Dense) [output_shape=(32, 256, 64), params=24576]\n",
      "    │           │   │   ├── single_head_attention.query (Dense) [output_shape=(32, 256, 64), params=24576]\n",
      "    │           │   │   ├── single_head_attention.value (Dense) [output_shape=(32, 256, 64), params=24576]\n",
      "    │           │   │   └── single_head_attention.dropout (Dropout) [output_shape=(32, 256, 256), params=0]\n",
      "    │           │   ├── module_list.2 (SingleHeadAttention) [output_shape=(32, 256, 64), params=73728]\n",
      "    │           │   │   ├── single_head_attention.key (Dense) [output_shape=(32, 256, 64), params=24576]\n",
      "    │           │   │   ├── single_head_attention.query (Dense) [output_shape=(32, 256, 64), params=24576]\n",
      "    │           │   │   ├── single_head_attention.value (Dense) [output_shape=(32, 256, 64), params=24576]\n",
      "    │           │   │   └── single_head_attention.dropout (Dropout) [output_shape=(32, 256, 256), params=0]\n",
      "    │           │   ├── module_list.3 (SingleHeadAttention) [output_shape=(32, 256, 64), params=73728]\n",
      "    │           │   │   ├── single_head_attention.key (Dense) [output_shape=(32, 256, 64), params=24576]\n",
      "    │           │   │   ├── single_head_attention.query (Dense) [output_shape=(32, 256, 64), params=24576]\n",
      "    │           │   │   ├── single_head_attention.value (Dense) [output_shape=(32, 256, 64), params=24576]\n",
      "    │           │   │   └── single_head_attention.dropout (Dropout) [output_shape=(32, 256, 256), params=0]\n",
      "    │           │   ├── module_list.4 (SingleHeadAttention) [output_shape=(32, 256, 64), params=73728]\n",
      "    │           │   │   ├── single_head_attention.key (Dense) [output_shape=(32, 256, 64), params=24576]\n",
      "    │           │   │   ├── single_head_attention.query (Dense) [output_shape=(32, 256, 64), params=24576]\n",
      "    │           │   │   ├── single_head_attention.value (Dense) [output_shape=(32, 256, 64), params=24576]\n",
      "    │           │   │   └── single_head_attention.dropout (Dropout) [output_shape=(32, 256, 256), params=0]\n",
      "    │           │   └── module_list.5 (SingleHeadAttention) [output_shape=(32, 256, 64), params=73728]\n",
      "    │           │       ├── single_head_attention.key (Dense) [output_shape=(32, 256, 64), params=24576]\n",
      "    │           │       ├── single_head_attention.query (Dense) [output_shape=(32, 256, 64), params=24576]\n",
      "    │           │       ├── single_head_attention.value (Dense) [output_shape=(32, 256, 64), params=24576]\n",
      "    │           │       └── single_head_attention.dropout (Dropout) [output_shape=(32, 256, 256), params=0]\n",
      "    │           ├── multi_head_attention.dropout (Dropout) [output_shape=(32, 256, 384), params=0]\n",
      "    │           └── module_list.5.attention_heads.output_linear (Dense) [output_shape=(32, 256, 384), params=147840]\n",
      "    ├── decoder.layer_norm (LayerNormalization) [output_shape=(32, 256, 384), params=768]\n",
      "    └── decoder.output_layer (Dense) [output_shape=(32, 256, 1024), params=394240]\n"
     ]
    }
   ],
   "source": [
    "# Display the model summary in tree format.\n",
    "# This is useful since the whole model is composed of submodules,\n",
    "# therefore, the model summary will be displayed recursively\n",
    "language_model.summary(recursive=True)"
   ]
  },
  {
   "cell_type": "markdown",
   "metadata": {},
   "source": [
    "### Training the model"
   ]
  },
  {
   "cell_type": "code",
   "execution_count": 11,
   "metadata": {},
   "outputs": [
    {
     "name": "stdout",
     "output_type": "stream",
     "text": [
      "Step 1/1 | 217 tensors in memory | 4403.66 ms/step - Train Loss: 7.1187 | Validation loss: 7.1240\n"
     ]
    }
   ],
   "source": [
    "# Train the model\n",
    "history = language_model.fit(\n",
    "    data_loader = data_loader,\n",
    "    steps = training_steps,\n",
    "    lr = learning_rate,\n",
    "    batch_size = batch_size,\n",
    "    eval_iters = eval_iters,\n",
    "    grad_accumulation_steps = grad_accumulation_steps,\n",
    ")"
   ]
  },
  {
   "cell_type": "code",
   "execution_count": 12,
   "metadata": {},
   "outputs": [],
   "source": [
    "# Save the model\n",
    "language_model.save(model_path)"
   ]
  },
  {
   "cell_type": "code",
   "execution_count": 13,
   "metadata": {},
   "outputs": [
    {
     "data": {
      "image/png": "[encoded data removed]",
      "text/plain": [
       "<Figure size 800x400 with 1 Axes>"
      ]
     },
     "metadata": {},
     "output_type": "display_data"
    }
   ],
   "source": [
    "# Plot the training and validation loss\n",
    "data_analysis.plot_history(history[\"loss\"].data, history[\"val_loss\"].data, \"Training and Validation Loss\", \"Eval iter\", \"Loss\")"
   ]
  },
  {
   "cell_type": "markdown",
   "metadata": {},
   "source": [
    "### Inference"
   ]
  },
  {
   "cell_type": "code",
   "execution_count": 14,
   "metadata": {},
   "outputs": [
    {
     "name": "stdout",
     "output_type": "stream",
     "text": [
      "a,\n",
      "e  pi       � Qudue   quin     glio   lla   ti,\n",
      "     ea     sen   ciasc� per lo   i  �       qui fre om    dell  qual ren  quanto    ate  una           tuo  fin     ,\n",
      "  oco �  � ta   dolce     g � ,        bisa  |    ce     cor          ch'viso mal 'l  \u0016    poi camvi            ani      ch'a     con la �          "
     ]
    }
   ],
   "source": [
    "# Generate some text context from the trained model\n",
    "context = Tensor(np.zeros((1, 1), dtype=np.int32))\n",
    "\n",
    "# Iterate over the tokens generated by the transformer\n",
    "for token in language_model.generate(context, max_new_tokens=200, stream=True):\n",
    "    # Decode the token\n",
    "    decoded_token = tokenizer.decode([token.data.squeeze().tolist()])\n",
    "\n",
    "    # Print the decoded token\n",
    "    print(decoded_token, end='', flush=True)"
   ]
  }
 ],
 "metadata": {
  "kernelspec": {
   "display_name": "venv",
   "language": "python",
   "name": "python3"
  },
  "language_info": {
   "codemirror_mode": {
    "name": "ipython",
    "version": 3
   },
   "file_extension": ".py",
   "mimetype": "text/x-python",
   "name": "python",
   "nbconvert_exporter": "python",
   "pygments_lexer": "ipython3",
   "version": "3.11.11"
  }
 },
 "nbformat": 4,
 "nbformat_minor": 2
}
