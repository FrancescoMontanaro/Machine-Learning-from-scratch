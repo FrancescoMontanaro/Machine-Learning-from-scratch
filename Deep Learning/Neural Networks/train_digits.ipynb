{
 "cells": [
  {
   "cell_type": "code",
   "execution_count": 1,
   "metadata": {},
   "outputs": [],
   "source": [
    "import os\n",
    "import sys\n",
    "import numpy as np\n",
    "import matplotlib.pyplot as plt\n",
    "from sklearn.datasets import load_digits\n",
    "from sklearn.model_selection import train_test_split\n",
    "\n",
    "# Add the parent directory to the system path\n",
    "sys.path.append(os.path.abspath(\"..\"))\n",
    "\n",
    "# Import the module from the custom library\n",
    "from _lib import utils\n",
    "from _lib import layers\n",
    "from _lib import metrics\n",
    "from _lib import optimizers\n",
    "from _lib import activations\n",
    "from _lib import loss_functions\n",
    "from _lib import FeedForward"
   ]
  },
  {
   "cell_type": "markdown",
   "metadata": {},
   "source": [
    "### Constants and Hyperparameters"
   ]
  },
  {
   "cell_type": "code",
   "execution_count": 2,
   "metadata": {},
   "outputs": [],
   "source": [
    "train_test_split_pct = 0.2 # Percentage of samples to use for testing\n",
    "train_valid_split = 0.2 # Percentage of samples to use for validation\n",
    "learning_rate = 1e-4 # Learning rate for the optimizer\n",
    "batch_size = 16 # Number of samples to use for each batch\n",
    "epochs = 300 # Number of epochs to train the model\n",
    "seed = 1234 # Seed for reproducibility"
   ]
  },
  {
   "cell_type": "code",
   "execution_count": 3,
   "metadata": {},
   "outputs": [],
   "source": [
    "# Set the seed for reproducibility\n",
    "np.random.seed(seed)"
   ]
  },
  {
   "cell_type": "markdown",
   "metadata": {},
   "source": [
    "### Data loading"
   ]
  },
  {
   "cell_type": "code",
   "execution_count": 4,
   "metadata": {},
   "outputs": [
    {
     "name": "stdout",
     "output_type": "stream",
     "text": [
      "Number of classes: 10\n",
      "Training set: (1149, 64) (1149,)\n",
      "Validation set: (288, 64) (288,)\n",
      "Testing set: (360, 64) (360,)\n"
     ]
    }
   ],
   "source": [
    "# Load the digits dataset\n",
    "digits = load_digits()\n",
    "\n",
    "# Extract the number of classes in the dataset\n",
    "num_classes = len(np.unique(digits.target)) # type: ignore\n",
    "\n",
    "# Split the dataset into training and testing sets\n",
    "X_train, X_test, y_train, y_test = train_test_split(digits.data, digits.target, test_size=train_test_split_pct, random_state=seed) # type: ignore\n",
    "\n",
    "# Split the training set into training and validation sets\n",
    "X_train, X_valid, y_train, y_valid = train_test_split(X_train, y_train, test_size=train_valid_split, random_state=seed) # type: ignore\n",
    "\n",
    "# Print the dataset information\n",
    "print(\"Number of classes:\", num_classes)\n",
    "print('Training set:', X_train.shape, y_train.shape)\n",
    "print('Validation set:', X_valid.shape, y_valid.shape)\n",
    "print('Testing set:', X_test.shape, y_test.shape)"
   ]
  },
  {
   "cell_type": "markdown",
   "metadata": {},
   "source": [
    "### Data Preprocessing"
   ]
  },
  {
   "cell_type": "code",
   "execution_count": 5,
   "metadata": {},
   "outputs": [],
   "source": [
    "# Normalization\n",
    "def normalize(X: np.ndarray) -> np.ndarray:\n",
    "    \"\"\"\n",
    "    Normalize the input data by dividing by the maximum value in the training set.\n",
    "    \n",
    "    Parameters:\n",
    "    - X (np.ndarray): The input data to normalize\n",
    "    \n",
    "    Returns:\n",
    "    - np.ndarray: The normalized input data\n",
    "    \"\"\"\n",
    "    \n",
    "    # Normalize the input data\n",
    "    return X / 255.0\n",
    "\n",
    "# Normalize the input data\n",
    "X_train = normalize(X_train)\n",
    "X_valid = normalize(X_valid)\n",
    "X_test = normalize(X_test)"
   ]
  },
  {
   "cell_type": "code",
   "execution_count": 6,
   "metadata": {},
   "outputs": [
    {
     "name": "stdout",
     "output_type": "stream",
     "text": [
      "Sample target value: 1\n",
      "One-hot encoded value: 1\n"
     ]
    }
   ],
   "source": [
    "# Convert the target values to one-hot encoded vectors\n",
    "y_train_encoded = utils.one_hot_encoding(y=y_train, n_classes=num_classes)\n",
    "y_valid_encoded = utils.one_hot_encoding(y=y_valid, n_classes=num_classes)\n",
    "\n",
    "# Print one sample encoding\n",
    "print(\"Sample target value:\", y_train[0])\n",
    "print(\"One-hot encoded value:\", y_train[0])"
   ]
  },
  {
   "cell_type": "markdown",
   "metadata": {},
   "source": [
    "### Data visualization"
   ]
  },
  {
   "cell_type": "code",
   "execution_count": 7,
   "metadata": {},
   "outputs": [
    {
     "data": {
      "image/png": "[encoded data removed]",
      "text/plain": [
       "<Figure size 2000x500 with 10 Axes>"
      ]
     },
     "metadata": {},
     "output_type": "display_data"
    }
   ],
   "source": [
    "def plot_samples(samples: list[np.ndarray], labels: list[np.ndarray]) -> None:\n",
    "    \"\"\"\n",
    "    Plot the samples in a grid.\n",
    "    \n",
    "    Parameters:\n",
    "    - samples (list[np.ndarray]): The samples to plot\n",
    "    - labels (list[np.ndarray]): The labels of the samples\n",
    "    \"\"\"\n",
    "    \n",
    "    reshaped_samples = []\n",
    "    # Iterate over the samples\n",
    "    for sample in samples:\n",
    "        # Compute the new shape\n",
    "        new_shape = np.sqrt(sample.shape).astype(int)[0]\n",
    "        \n",
    "        # Reshape the sample\n",
    "        sample = sample.reshape(new_shape, new_shape)\n",
    "        \n",
    "        # Append the reshaped sample\n",
    "        reshaped_samples.append(sample)\n",
    "        \n",
    "    # Plot the samples in a grid\n",
    "    fig, axes = plt.subplots(1, len(samples), figsize=(20, 5))\n",
    "    for i, ax in enumerate(axes):\n",
    "        ax.imshow(reshaped_samples[i], cmap='gray')\n",
    "        ax.set_title(f'Label: {labels[i]}')\n",
    "        ax.axis('off')\n",
    "        \n",
    "        \n",
    "# Plot the first 10 samples\n",
    "plot_samples(list(X_train[:10]), y_train[:10])"
   ]
  },
  {
   "cell_type": "markdown",
   "metadata": {},
   "source": [
    "### Building the model"
   ]
  },
  {
   "cell_type": "code",
   "execution_count": 8,
   "metadata": {},
   "outputs": [],
   "source": [
    "\n",
    "model = FeedForward([\n",
    "    layers.Dense(num_units=24, activation=activations.ReLU()),\n",
    "    layers.BatchNormalization1D(momentum=0.9),\n",
    "    layers.Dropout(rate=0.1),\n",
    "    layers.Dense(num_units=32, activation=activations.ReLU()),\n",
    "    layers.Dropout(rate=0.1),\n",
    "    layers.Dense(num_units=12, activation=activations.Tanh()),\n",
    "    layers.Dropout(rate=0.1),\n",
    "    layers.Dense(num_units=num_classes, activation=activations.Softmax())\n",
    "])\n",
    "\n",
    "# Initialize the optimizer\n",
    "optimizer = optimizers.Adam(learning_rate=learning_rate)\n",
    "\n",
    "# Initialize the loss function\n",
    "loss_fn = loss_functions.CrossEntropy()"
   ]
  },
  {
   "cell_type": "code",
   "execution_count": 9,
   "metadata": {},
   "outputs": [
    {
     "data": {
      "text/plain": [
       "array([[0.09970879, 0.09986895, 0.10006468, 0.10002721, 0.10000913,\n",
       "        0.10007504, 0.10026007, 0.10003908, 0.09988873, 0.10005833]])"
      ]
     },
     "execution_count": 9,
     "metadata": {},
     "output_type": "execute_result"
    }
   ],
   "source": [
    "# Call the model with a first batch to initialize the weights\n",
    "# This is not necessary, but it is useful to know the input size\n",
    "model(X_train[:1])"
   ]
  },
  {
   "cell_type": "code",
   "execution_count": 10,
   "metadata": {},
   "outputs": [
    {
     "name": "stdout",
     "output_type": "stream",
     "text": [
      "\n",
      "Neural Network (ID: 0)\n",
      "\n",
      "--------------------------------------------------------------------------------\n",
      "Layer (type)                            Output Shape        Trainable params #  \n",
      "================================================================================\n",
      "dense_1 (Dense)                         (1, 24)             1560                \n",
      "--------------------------------------------------------------------------------\n",
      "batch_normalization_1_d_2               \n",
      "(BatchNormalization1D)                  (1, 24)             48                  \n",
      "--------------------------------------------------------------------------------\n",
      "dropout_3 (Dropout)                     (1, 24)             ?                   \n",
      "--------------------------------------------------------------------------------\n",
      "dense_4 (Dense)                         (1, 32)             800                 \n",
      "--------------------------------------------------------------------------------\n",
      "dropout_5 (Dropout)                     (1, 32)             ?                   \n",
      "--------------------------------------------------------------------------------\n",
      "dense_6 (Dense)                         (1, 12)             396                 \n",
      "--------------------------------------------------------------------------------\n",
      "dropout_7 (Dropout)                     (1, 12)             ?                   \n",
      "--------------------------------------------------------------------------------\n",
      "dense_8 (Dense)                         (1, 10)             130                 \n",
      "================================================================================\n",
      "Total trainable parameters: ?\n",
      "--------------------------------------------------------------------------------\n"
     ]
    }
   ],
   "source": [
    "# Display the model summary\n",
    "model.summary()"
   ]
  },
  {
   "cell_type": "markdown",
   "metadata": {},
   "source": [
    "### Training the model"
   ]
  },
  {
   "cell_type": "code",
   "execution_count": 11,
   "metadata": {},
   "outputs": [
    {
     "name": "stdout",
     "output_type": "stream",
     "text": [
      "Epoch 1/300 --> Training loss: 2.2842 - Training accuracy: 0.2567 | Validation loss: 2.2815 - Validation accuracy: 0.3194\n",
      "Epoch 2/300 --> Training loss: 2.2429 - Training accuracy: 0.3699 | Validation loss: 2.1920 - Validation accuracy: 0.4757\n",
      "Epoch 3/300 --> Training loss: 2.2053 - Training accuracy: 0.4386 | Validation loss: 2.1384 - Validation accuracy: 0.5625\n",
      "Epoch 4/300 --> Training loss: 2.1602 - Training accuracy: 0.4822 | Validation loss: 2.0894 - Validation accuracy: 0.6146\n",
      "Epoch 5/300 --> Training loss: 2.1099 - Training accuracy: 0.5039 | Validation loss: 2.0257 - Validation accuracy: 0.6111\n",
      "Epoch 6/300 --> Training loss: 2.0540 - Training accuracy: 0.5144 | Validation loss: 1.9496 - Validation accuracy: 0.6146\n",
      "Epoch 7/300 --> Training loss: 2.0089 - Training accuracy: 0.5379 | Validation loss: 1.8787 - Validation accuracy: 0.6181\n",
      "Epoch 8/300 --> Training loss: 1.9423 - Training accuracy: 0.5257 | Validation loss: 1.7920 - Validation accuracy: 0.6042\n",
      "Epoch 9/300 --> Training loss: 1.8874 - Training accuracy: 0.5396 | Validation loss: 1.7205 - Validation accuracy: 0.6146\n",
      "Epoch 10/300 --> Training loss: 1.8182 - Training accuracy: 0.5466 | Validation loss: 1.6514 - Validation accuracy: 0.6250\n",
      "Epoch 11/300 --> Training loss: 1.7679 - Training accuracy: 0.5579 | Validation loss: 1.5861 - Validation accuracy: 0.6146\n",
      "Epoch 12/300 --> Training loss: 1.7200 - Training accuracy: 0.5683 | Validation loss: 1.5151 - Validation accuracy: 0.6319\n",
      "Epoch 13/300 --> Training loss: 1.6668 - Training accuracy: 0.5701 | Validation loss: 1.4574 - Validation accuracy: 0.6250\n",
      "Epoch 14/300 --> Training loss: 1.6317 - Training accuracy: 0.5683 | Validation loss: 1.4074 - Validation accuracy: 0.6354\n",
      "Epoch 15/300 --> Training loss: 1.5743 - Training accuracy: 0.6040 | Validation loss: 1.3719 - Validation accuracy: 0.6493\n",
      "Epoch 16/300 --> Training loss: 1.5386 - Training accuracy: 0.6136 | Validation loss: 1.3184 - Validation accuracy: 0.6597\n",
      "Epoch 17/300 --> Training loss: 1.4949 - Training accuracy: 0.6258 | Validation loss: 1.2682 - Validation accuracy: 0.6840\n",
      "Epoch 18/300 --> Training loss: 1.4412 - Training accuracy: 0.6536 | Validation loss: 1.2365 - Validation accuracy: 0.7083\n",
      "Epoch 19/300 --> Training loss: 1.4021 - Training accuracy: 0.6701 | Validation loss: 1.1931 - Validation accuracy: 0.7257\n",
      "Epoch 20/300 --> Training loss: 1.3661 - Training accuracy: 0.6910 | Validation loss: 1.1511 - Validation accuracy: 0.7361\n",
      "Epoch 21/300 --> Training loss: 1.3429 - Training accuracy: 0.7006 | Validation loss: 1.1211 - Validation accuracy: 0.7396\n",
      "Epoch 22/300 --> Training loss: 1.2921 - Training accuracy: 0.7189 | Validation loss: 1.0884 - Validation accuracy: 0.7569\n",
      "Epoch 23/300 --> Training loss: 1.2839 - Training accuracy: 0.7198 | Validation loss: 1.0594 - Validation accuracy: 0.7535\n",
      "Epoch 24/300 --> Training loss: 1.2384 - Training accuracy: 0.7485 | Validation loss: 1.0259 - Validation accuracy: 0.7743\n",
      "Epoch 25/300 --> Training loss: 1.2044 - Training accuracy: 0.7598 | Validation loss: 0.9964 - Validation accuracy: 0.7847\n",
      "Epoch 26/300 --> Training loss: 1.1674 - Training accuracy: 0.7737 | Validation loss: 0.9731 - Validation accuracy: 0.7951\n",
      "Epoch 27/300 --> Training loss: 1.1518 - Training accuracy: 0.7955 | Validation loss: 0.9494 - Validation accuracy: 0.7986\n",
      "Epoch 28/300 --> Training loss: 1.1232 - Training accuracy: 0.8120 | Validation loss: 0.9211 - Validation accuracy: 0.8229\n",
      "Epoch 29/300 --> Training loss: 1.0954 - Training accuracy: 0.8103 | Validation loss: 0.8963 - Validation accuracy: 0.8194\n",
      "Epoch 30/300 --> Training loss: 1.0745 - Training accuracy: 0.8138 | Validation loss: 0.8741 - Validation accuracy: 0.8299\n",
      "Epoch 31/300 --> Training loss: 1.0443 - Training accuracy: 0.8381 | Validation loss: 0.8465 - Validation accuracy: 0.8333\n",
      "Epoch 32/300 --> Training loss: 1.0200 - Training accuracy: 0.8355 | Validation loss: 0.8276 - Validation accuracy: 0.8472\n",
      "Epoch 33/300 --> Training loss: 0.9862 - Training accuracy: 0.8520 | Validation loss: 0.8132 - Validation accuracy: 0.8507\n",
      "Epoch 34/300 --> Training loss: 0.9855 - Training accuracy: 0.8573 | Validation loss: 0.7896 - Validation accuracy: 0.8507\n",
      "Epoch 35/300 --> Training loss: 0.9382 - Training accuracy: 0.8651 | Validation loss: 0.7653 - Validation accuracy: 0.8646\n",
      "Epoch 36/300 --> Training loss: 0.9384 - Training accuracy: 0.8590 | Validation loss: 0.7504 - Validation accuracy: 0.8507\n",
      "Epoch 37/300 --> Training loss: 0.9311 - Training accuracy: 0.8755 | Validation loss: 0.7297 - Validation accuracy: 0.8750\n",
      "Epoch 38/300 --> Training loss: 0.8780 - Training accuracy: 0.8808 | Validation loss: 0.7142 - Validation accuracy: 0.8785\n",
      "Epoch 39/300 --> Training loss: 0.8676 - Training accuracy: 0.8842 | Validation loss: 0.6988 - Validation accuracy: 0.8889\n",
      "Epoch 40/300 --> Training loss: 0.8644 - Training accuracy: 0.8895 | Validation loss: 0.6791 - Validation accuracy: 0.8819\n",
      "Epoch 41/300 --> Training loss: 0.8558 - Training accuracy: 0.8982 | Validation loss: 0.6651 - Validation accuracy: 0.8785\n",
      "Epoch 42/300 --> Training loss: 0.8156 - Training accuracy: 0.8964 | Validation loss: 0.6504 - Validation accuracy: 0.8819\n",
      "Epoch 43/300 --> Training loss: 0.8003 - Training accuracy: 0.9069 | Validation loss: 0.6353 - Validation accuracy: 0.8958\n",
      "Epoch 44/300 --> Training loss: 0.7883 - Training accuracy: 0.9112 | Validation loss: 0.6241 - Validation accuracy: 0.8924\n",
      "Epoch 45/300 --> Training loss: 0.7798 - Training accuracy: 0.9077 | Validation loss: 0.6102 - Validation accuracy: 0.9028\n",
      "Epoch 46/300 --> Training loss: 0.7373 - Training accuracy: 0.9104 | Validation loss: 0.5963 - Validation accuracy: 0.8958\n",
      "Epoch 47/300 --> Training loss: 0.7576 - Training accuracy: 0.9138 | Validation loss: 0.5829 - Validation accuracy: 0.8993\n",
      "Epoch 48/300 --> Training loss: 0.7269 - Training accuracy: 0.9147 | Validation loss: 0.5658 - Validation accuracy: 0.8958\n",
      "Epoch 49/300 --> Training loss: 0.7377 - Training accuracy: 0.9130 | Validation loss: 0.5644 - Validation accuracy: 0.8889\n",
      "Epoch 50/300 --> Training loss: 0.7014 - Training accuracy: 0.9269 | Validation loss: 0.5508 - Validation accuracy: 0.8924\n",
      "Epoch 51/300 --> Training loss: 0.6910 - Training accuracy: 0.9260 | Validation loss: 0.5386 - Validation accuracy: 0.8993\n",
      "Epoch 52/300 --> Training loss: 0.6832 - Training accuracy: 0.9252 | Validation loss: 0.5356 - Validation accuracy: 0.9028\n",
      "Epoch 53/300 --> Training loss: 0.6434 - Training accuracy: 0.9295 | Validation loss: 0.5199 - Validation accuracy: 0.9028\n",
      "Epoch 54/300 --> Training loss: 0.6595 - Training accuracy: 0.9356 | Validation loss: 0.5106 - Validation accuracy: 0.9097\n",
      "Epoch 55/300 --> Training loss: 0.6586 - Training accuracy: 0.9373 | Validation loss: 0.5082 - Validation accuracy: 0.8958\n",
      "Epoch 56/300 --> Training loss: 0.6386 - Training accuracy: 0.9347 | Validation loss: 0.4986 - Validation accuracy: 0.9062\n",
      "Epoch 57/300 --> Training loss: 0.6311 - Training accuracy: 0.9426 | Validation loss: 0.4832 - Validation accuracy: 0.9062\n",
      "Epoch 58/300 --> Training loss: 0.6283 - Training accuracy: 0.9417 | Validation loss: 0.4795 - Validation accuracy: 0.9097\n",
      "Epoch 59/300 --> Training loss: 0.6083 - Training accuracy: 0.9434 | Validation loss: 0.4691 - Validation accuracy: 0.9097\n",
      "Epoch 60/300 --> Training loss: 0.5870 - Training accuracy: 0.9399 | Validation loss: 0.4631 - Validation accuracy: 0.9132\n",
      "Epoch 61/300 --> Training loss: 0.6070 - Training accuracy: 0.9452 | Validation loss: 0.4489 - Validation accuracy: 0.9132\n",
      "Epoch 62/300 --> Training loss: 0.5698 - Training accuracy: 0.9452 | Validation loss: 0.4427 - Validation accuracy: 0.9271\n",
      "Epoch 63/300 --> Training loss: 0.5567 - Training accuracy: 0.9434 | Validation loss: 0.4379 - Validation accuracy: 0.9132\n",
      "Epoch 64/300 --> Training loss: 0.5703 - Training accuracy: 0.9443 | Validation loss: 0.4293 - Validation accuracy: 0.9097\n",
      "Epoch 65/300 --> Training loss: 0.5886 - Training accuracy: 0.9469 | Validation loss: 0.4231 - Validation accuracy: 0.9201\n",
      "Epoch 66/300 --> Training loss: 0.5364 - Training accuracy: 0.9521 | Validation loss: 0.4168 - Validation accuracy: 0.9236\n",
      "Epoch 67/300 --> Training loss: 0.5543 - Training accuracy: 0.9513 | Validation loss: 0.4101 - Validation accuracy: 0.9306\n",
      "Epoch 68/300 --> Training loss: 0.5353 - Training accuracy: 0.9504 | Validation loss: 0.4036 - Validation accuracy: 0.9236\n",
      "Epoch 69/300 --> Training loss: 0.5312 - Training accuracy: 0.9530 | Validation loss: 0.3968 - Validation accuracy: 0.9236\n",
      "Epoch 70/300 --> Training loss: 0.5049 - Training accuracy: 0.9539 | Validation loss: 0.3968 - Validation accuracy: 0.9306\n",
      "Epoch 71/300 --> Training loss: 0.5148 - Training accuracy: 0.9574 | Validation loss: 0.3904 - Validation accuracy: 0.9271\n",
      "Epoch 72/300 --> Training loss: 0.4977 - Training accuracy: 0.9600 | Validation loss: 0.3830 - Validation accuracy: 0.9236\n",
      "Epoch 73/300 --> Training loss: 0.4993 - Training accuracy: 0.9556 | Validation loss: 0.3869 - Validation accuracy: 0.9340\n",
      "Epoch 74/300 --> Training loss: 0.4861 - Training accuracy: 0.9582 | Validation loss: 0.3773 - Validation accuracy: 0.9271\n",
      "Epoch 75/300 --> Training loss: 0.4931 - Training accuracy: 0.9582 | Validation loss: 0.3740 - Validation accuracy: 0.9236\n",
      "Epoch 76/300 --> Training loss: 0.4676 - Training accuracy: 0.9634 | Validation loss: 0.3604 - Validation accuracy: 0.9236\n",
      "Epoch 77/300 --> Training loss: 0.4625 - Training accuracy: 0.9661 | Validation loss: 0.3520 - Validation accuracy: 0.9306\n",
      "Epoch 78/300 --> Training loss: 0.4566 - Training accuracy: 0.9652 | Validation loss: 0.3490 - Validation accuracy: 0.9375\n",
      "Epoch 79/300 --> Training loss: 0.4589 - Training accuracy: 0.9687 | Validation loss: 0.3451 - Validation accuracy: 0.9375\n",
      "Epoch 80/300 --> Training loss: 0.4380 - Training accuracy: 0.9678 | Validation loss: 0.3486 - Validation accuracy: 0.9306\n",
      "Epoch 81/300 --> Training loss: 0.4549 - Training accuracy: 0.9678 | Validation loss: 0.3447 - Validation accuracy: 0.9410\n",
      "Epoch 82/300 --> Training loss: 0.4515 - Training accuracy: 0.9678 | Validation loss: 0.3342 - Validation accuracy: 0.9410\n",
      "Epoch 83/300 --> Training loss: 0.4419 - Training accuracy: 0.9687 | Validation loss: 0.3282 - Validation accuracy: 0.9340\n",
      "Epoch 84/300 --> Training loss: 0.4266 - Training accuracy: 0.9695 | Validation loss: 0.3238 - Validation accuracy: 0.9375\n",
      "Epoch 85/300 --> Training loss: 0.4444 - Training accuracy: 0.9721 | Validation loss: 0.3245 - Validation accuracy: 0.9410\n",
      "Epoch 86/300 --> Training loss: 0.4281 - Training accuracy: 0.9695 | Validation loss: 0.3177 - Validation accuracy: 0.9444\n",
      "Epoch 87/300 --> Training loss: 0.4204 - Training accuracy: 0.9704 | Validation loss: 0.3140 - Validation accuracy: 0.9410\n",
      "Epoch 88/300 --> Training loss: 0.4198 - Training accuracy: 0.9713 | Validation loss: 0.3045 - Validation accuracy: 0.9410\n",
      "Epoch 89/300 --> Training loss: 0.3968 - Training accuracy: 0.9713 | Validation loss: 0.3081 - Validation accuracy: 0.9444\n",
      "Epoch 90/300 --> Training loss: 0.4039 - Training accuracy: 0.9704 | Validation loss: 0.3045 - Validation accuracy: 0.9444\n",
      "Epoch 91/300 --> Training loss: 0.4004 - Training accuracy: 0.9730 | Validation loss: 0.3009 - Validation accuracy: 0.9444\n",
      "Epoch 92/300 --> Training loss: 0.4092 - Training accuracy: 0.9748 | Validation loss: 0.3030 - Validation accuracy: 0.9340\n",
      "Epoch 93/300 --> Training loss: 0.3808 - Training accuracy: 0.9756 | Validation loss: 0.2987 - Validation accuracy: 0.9410\n",
      "Epoch 94/300 --> Training loss: 0.3853 - Training accuracy: 0.9756 | Validation loss: 0.2940 - Validation accuracy: 0.9479\n",
      "Epoch 95/300 --> Training loss: 0.3866 - Training accuracy: 0.9739 | Validation loss: 0.2900 - Validation accuracy: 0.9410\n",
      "Epoch 96/300 --> Training loss: 0.3756 - Training accuracy: 0.9756 | Validation loss: 0.2832 - Validation accuracy: 0.9444\n",
      "Epoch 97/300 --> Training loss: 0.3978 - Training accuracy: 0.9756 | Validation loss: 0.2755 - Validation accuracy: 0.9479\n",
      "Epoch 98/300 --> Training loss: 0.3671 - Training accuracy: 0.9739 | Validation loss: 0.2767 - Validation accuracy: 0.9479\n",
      "Epoch 99/300 --> Training loss: 0.3611 - Training accuracy: 0.9756 | Validation loss: 0.2754 - Validation accuracy: 0.9444\n",
      "Epoch 100/300 --> Training loss: 0.3591 - Training accuracy: 0.9748 | Validation loss: 0.2831 - Validation accuracy: 0.9375\n",
      "Epoch 101/300 --> Training loss: 0.3652 - Training accuracy: 0.9756 | Validation loss: 0.2676 - Validation accuracy: 0.9549\n",
      "Epoch 102/300 --> Training loss: 0.3531 - Training accuracy: 0.9791 | Validation loss: 0.2697 - Validation accuracy: 0.9444\n",
      "Epoch 103/300 --> Training loss: 0.3508 - Training accuracy: 0.9800 | Validation loss: 0.2688 - Validation accuracy: 0.9444\n",
      "Epoch 104/300 --> Training loss: 0.3451 - Training accuracy: 0.9791 | Validation loss: 0.2633 - Validation accuracy: 0.9479\n",
      "Epoch 105/300 --> Training loss: 0.3463 - Training accuracy: 0.9800 | Validation loss: 0.2585 - Validation accuracy: 0.9549\n",
      "Epoch 106/300 --> Training loss: 0.3294 - Training accuracy: 0.9782 | Validation loss: 0.2626 - Validation accuracy: 0.9514\n",
      "Epoch 107/300 --> Training loss: 0.3414 - Training accuracy: 0.9791 | Validation loss: 0.2565 - Validation accuracy: 0.9549\n",
      "Epoch 108/300 --> Training loss: 0.3350 - Training accuracy: 0.9800 | Validation loss: 0.2528 - Validation accuracy: 0.9549\n",
      "Epoch 109/300 --> Training loss: 0.3267 - Training accuracy: 0.9826 | Validation loss: 0.2488 - Validation accuracy: 0.9514\n",
      "Epoch 110/300 --> Training loss: 0.3356 - Training accuracy: 0.9809 | Validation loss: 0.2521 - Validation accuracy: 0.9549\n",
      "Epoch 111/300 --> Training loss: 0.3262 - Training accuracy: 0.9800 | Validation loss: 0.2486 - Validation accuracy: 0.9583\n",
      "Epoch 112/300 --> Training loss: 0.3263 - Training accuracy: 0.9782 | Validation loss: 0.2491 - Validation accuracy: 0.9583\n",
      "Epoch 113/300 --> Training loss: 0.3317 - Training accuracy: 0.9809 | Validation loss: 0.2393 - Validation accuracy: 0.9583\n",
      "Epoch 114/300 --> Training loss: 0.3085 - Training accuracy: 0.9817 | Validation loss: 0.2375 - Validation accuracy: 0.9583\n",
      "Epoch 115/300 --> Training loss: 0.3136 - Training accuracy: 0.9817 | Validation loss: 0.2350 - Validation accuracy: 0.9583\n",
      "Epoch 116/300 --> Training loss: 0.3271 - Training accuracy: 0.9730 | Validation loss: 0.2440 - Validation accuracy: 0.9549\n",
      "Epoch 117/300 --> Training loss: 0.3368 - Training accuracy: 0.9817 | Validation loss: 0.2274 - Validation accuracy: 0.9618\n",
      "Epoch 118/300 --> Training loss: 0.3238 - Training accuracy: 0.9809 | Validation loss: 0.2316 - Validation accuracy: 0.9514\n",
      "Epoch 119/300 --> Training loss: 0.2897 - Training accuracy: 0.9817 | Validation loss: 0.2281 - Validation accuracy: 0.9514\n",
      "Epoch 120/300 --> Training loss: 0.3086 - Training accuracy: 0.9800 | Validation loss: 0.2268 - Validation accuracy: 0.9549\n",
      "Epoch 121/300 --> Training loss: 0.2854 - Training accuracy: 0.9817 | Validation loss: 0.2242 - Validation accuracy: 0.9549\n",
      "Epoch 122/300 --> Training loss: 0.2854 - Training accuracy: 0.9826 | Validation loss: 0.2221 - Validation accuracy: 0.9549\n",
      "Epoch 123/300 --> Training loss: 0.3261 - Training accuracy: 0.9817 | Validation loss: 0.2207 - Validation accuracy: 0.9549\n",
      "Epoch 124/300 --> Training loss: 0.2843 - Training accuracy: 0.9809 | Validation loss: 0.2316 - Validation accuracy: 0.9479\n",
      "Epoch 125/300 --> Training loss: 0.3178 - Training accuracy: 0.9835 | Validation loss: 0.2190 - Validation accuracy: 0.9549\n",
      "Epoch 126/300 --> Training loss: 0.2921 - Training accuracy: 0.9826 | Validation loss: 0.2207 - Validation accuracy: 0.9549\n",
      "Epoch 127/300 --> Training loss: 0.2956 - Training accuracy: 0.9826 | Validation loss: 0.2149 - Validation accuracy: 0.9583\n",
      "Epoch 128/300 --> Training loss: 0.3117 - Training accuracy: 0.9843 | Validation loss: 0.2185 - Validation accuracy: 0.9549\n",
      "Epoch 129/300 --> Training loss: 0.2832 - Training accuracy: 0.9887 | Validation loss: 0.2143 - Validation accuracy: 0.9583\n",
      "Epoch 130/300 --> Training loss: 0.2775 - Training accuracy: 0.9817 | Validation loss: 0.2199 - Validation accuracy: 0.9583\n",
      "Epoch 131/300 --> Training loss: 0.2669 - Training accuracy: 0.9861 | Validation loss: 0.2125 - Validation accuracy: 0.9583\n",
      "Epoch 132/300 --> Training loss: 0.2873 - Training accuracy: 0.9835 | Validation loss: 0.2129 - Validation accuracy: 0.9549\n",
      "Epoch 133/300 --> Training loss: 0.2797 - Training accuracy: 0.9878 | Validation loss: 0.2126 - Validation accuracy: 0.9549\n",
      "Epoch 134/300 --> Training loss: 0.2778 - Training accuracy: 0.9843 | Validation loss: 0.2103 - Validation accuracy: 0.9618\n",
      "Epoch 135/300 --> Training loss: 0.2634 - Training accuracy: 0.9861 | Validation loss: 0.2042 - Validation accuracy: 0.9618\n",
      "Epoch 136/300 --> Training loss: 0.2670 - Training accuracy: 0.9843 | Validation loss: 0.2018 - Validation accuracy: 0.9653\n",
      "Epoch 137/300 --> Training loss: 0.2657 - Training accuracy: 0.9861 | Validation loss: 0.2064 - Validation accuracy: 0.9583\n",
      "Epoch 138/300 --> Training loss: 0.2610 - Training accuracy: 0.9869 | Validation loss: 0.2026 - Validation accuracy: 0.9583\n",
      "Epoch 139/300 --> Training loss: 0.2615 - Training accuracy: 0.9852 | Validation loss: 0.2035 - Validation accuracy: 0.9583\n",
      "Epoch 140/300 --> Training loss: 0.2778 - Training accuracy: 0.9843 | Validation loss: 0.1965 - Validation accuracy: 0.9653\n",
      "Epoch 141/300 --> Training loss: 0.2650 - Training accuracy: 0.9843 | Validation loss: 0.1959 - Validation accuracy: 0.9653\n",
      "Epoch 142/300 --> Training loss: 0.2613 - Training accuracy: 0.9843 | Validation loss: 0.1942 - Validation accuracy: 0.9583\n",
      "Epoch 143/300 --> Training loss: 0.2625 - Training accuracy: 0.9843 | Validation loss: 0.1935 - Validation accuracy: 0.9618\n",
      "Epoch 144/300 --> Training loss: 0.2420 - Training accuracy: 0.9869 | Validation loss: 0.1860 - Validation accuracy: 0.9688\n",
      "Epoch 145/300 --> Training loss: 0.2571 - Training accuracy: 0.9896 | Validation loss: 0.1946 - Validation accuracy: 0.9618\n",
      "Epoch 146/300 --> Training loss: 0.2613 - Training accuracy: 0.9887 | Validation loss: 0.1963 - Validation accuracy: 0.9583\n",
      "Epoch 147/300 --> Training loss: 0.2673 - Training accuracy: 0.9869 | Validation loss: 0.1886 - Validation accuracy: 0.9549\n",
      "Epoch 148/300 --> Training loss: 0.2201 - Training accuracy: 0.9843 | Validation loss: 0.1855 - Validation accuracy: 0.9618\n",
      "Epoch 149/300 --> Training loss: 0.2587 - Training accuracy: 0.9869 | Validation loss: 0.1860 - Validation accuracy: 0.9618\n",
      "Epoch 150/300 --> Training loss: 0.2437 - Training accuracy: 0.9887 | Validation loss: 0.1879 - Validation accuracy: 0.9653\n",
      "Epoch 151/300 --> Training loss: 0.2379 - Training accuracy: 0.9852 | Validation loss: 0.1851 - Validation accuracy: 0.9618\n",
      "Epoch 152/300 --> Training loss: 0.2269 - Training accuracy: 0.9878 | Validation loss: 0.1855 - Validation accuracy: 0.9653\n",
      "Epoch 153/300 --> Training loss: 0.2389 - Training accuracy: 0.9878 | Validation loss: 0.1953 - Validation accuracy: 0.9549\n",
      "Epoch 154/300 --> Training loss: 0.2517 - Training accuracy: 0.9878 | Validation loss: 0.1844 - Validation accuracy: 0.9583\n",
      "Epoch 155/300 --> Training loss: 0.2339 - Training accuracy: 0.9896 | Validation loss: 0.1834 - Validation accuracy: 0.9618\n",
      "Epoch 156/300 --> Training loss: 0.2276 - Training accuracy: 0.9896 | Validation loss: 0.1963 - Validation accuracy: 0.9583\n",
      "Epoch 157/300 --> Training loss: 0.2315 - Training accuracy: 0.9896 | Validation loss: 0.1825 - Validation accuracy: 0.9618\n",
      "Epoch 158/300 --> Training loss: 0.2186 - Training accuracy: 0.9878 | Validation loss: 0.1856 - Validation accuracy: 0.9549\n",
      "Epoch 159/300 --> Training loss: 0.2538 - Training accuracy: 0.9896 | Validation loss: 0.1853 - Validation accuracy: 0.9618\n",
      "Epoch 160/300 --> Training loss: 0.2313 - Training accuracy: 0.9896 | Validation loss: 0.1815 - Validation accuracy: 0.9583\n",
      "Epoch 161/300 --> Training loss: 0.2405 - Training accuracy: 0.9896 | Validation loss: 0.1809 - Validation accuracy: 0.9583\n",
      "Epoch 162/300 --> Training loss: 0.2319 - Training accuracy: 0.9904 | Validation loss: 0.1804 - Validation accuracy: 0.9618\n",
      "Epoch 163/300 --> Training loss: 0.2224 - Training accuracy: 0.9896 | Validation loss: 0.1758 - Validation accuracy: 0.9618\n",
      "Epoch 164/300 --> Training loss: 0.2356 - Training accuracy: 0.9904 | Validation loss: 0.1731 - Validation accuracy: 0.9583\n",
      "Epoch 165/300 --> Training loss: 0.2209 - Training accuracy: 0.9887 | Validation loss: 0.1797 - Validation accuracy: 0.9653\n",
      "Epoch 166/300 --> Training loss: 0.2069 - Training accuracy: 0.9887 | Validation loss: 0.1741 - Validation accuracy: 0.9618\n",
      "Epoch 167/300 --> Training loss: 0.2245 - Training accuracy: 0.9887 | Validation loss: 0.1739 - Validation accuracy: 0.9653\n",
      "Epoch 168/300 --> Training loss: 0.2196 - Training accuracy: 0.9904 | Validation loss: 0.1737 - Validation accuracy: 0.9688\n",
      "Epoch 169/300 --> Training loss: 0.2267 - Training accuracy: 0.9896 | Validation loss: 0.1730 - Validation accuracy: 0.9583\n",
      "Epoch 170/300 --> Training loss: 0.2157 - Training accuracy: 0.9896 | Validation loss: 0.1700 - Validation accuracy: 0.9688\n",
      "Epoch 171/300 --> Training loss: 0.1978 - Training accuracy: 0.9904 | Validation loss: 0.1717 - Validation accuracy: 0.9653\n",
      "Epoch 172/300 --> Training loss: 0.2104 - Training accuracy: 0.9913 | Validation loss: 0.1677 - Validation accuracy: 0.9583\n",
      "Epoch 173/300 --> Training loss: 0.2375 - Training accuracy: 0.9904 | Validation loss: 0.1691 - Validation accuracy: 0.9618\n",
      "Epoch 174/300 --> Training loss: 0.2146 - Training accuracy: 0.9904 | Validation loss: 0.1727 - Validation accuracy: 0.9583\n",
      "Epoch 175/300 --> Training loss: 0.1917 - Training accuracy: 0.9913 | Validation loss: 0.1696 - Validation accuracy: 0.9583\n",
      "Epoch 176/300 --> Training loss: 0.2098 - Training accuracy: 0.9913 | Validation loss: 0.1695 - Validation accuracy: 0.9549\n",
      "Epoch 177/300 --> Training loss: 0.2057 - Training accuracy: 0.9887 | Validation loss: 0.1695 - Validation accuracy: 0.9653\n",
      "Epoch 178/300 --> Training loss: 0.2052 - Training accuracy: 0.9913 | Validation loss: 0.1708 - Validation accuracy: 0.9618\n",
      "Epoch 179/300 --> Training loss: 0.2118 - Training accuracy: 0.9904 | Validation loss: 0.1677 - Validation accuracy: 0.9618\n",
      "Epoch 180/300 --> Training loss: 0.1979 - Training accuracy: 0.9904 | Validation loss: 0.1690 - Validation accuracy: 0.9583\n",
      "Epoch 181/300 --> Training loss: 0.2040 - Training accuracy: 0.9913 | Validation loss: 0.1643 - Validation accuracy: 0.9653\n",
      "Epoch 182/300 --> Training loss: 0.2242 - Training accuracy: 0.9913 | Validation loss: 0.1638 - Validation accuracy: 0.9688\n",
      "Epoch 183/300 --> Training loss: 0.2171 - Training accuracy: 0.9913 | Validation loss: 0.1641 - Validation accuracy: 0.9653\n",
      "Epoch 184/300 --> Training loss: 0.1945 - Training accuracy: 0.9913 | Validation loss: 0.1607 - Validation accuracy: 0.9688\n",
      "Epoch 185/300 --> Training loss: 0.2091 - Training accuracy: 0.9904 | Validation loss: 0.1580 - Validation accuracy: 0.9688\n",
      "Epoch 186/300 --> Training loss: 0.2142 - Training accuracy: 0.9913 | Validation loss: 0.1554 - Validation accuracy: 0.9722\n",
      "Epoch 187/300 --> Training loss: 0.1855 - Training accuracy: 0.9904 | Validation loss: 0.1600 - Validation accuracy: 0.9653\n",
      "Epoch 188/300 --> Training loss: 0.1802 - Training accuracy: 0.9913 | Validation loss: 0.1636 - Validation accuracy: 0.9653\n",
      "Epoch 189/300 --> Training loss: 0.1891 - Training accuracy: 0.9904 | Validation loss: 0.1610 - Validation accuracy: 0.9653\n",
      "Epoch 190/300 --> Training loss: 0.1889 - Training accuracy: 0.9913 | Validation loss: 0.1575 - Validation accuracy: 0.9688\n",
      "Epoch 191/300 --> Training loss: 0.1966 - Training accuracy: 0.9913 | Validation loss: 0.1535 - Validation accuracy: 0.9653\n",
      "Epoch 192/300 --> Training loss: 0.2118 - Training accuracy: 0.9922 | Validation loss: 0.1641 - Validation accuracy: 0.9583\n",
      "Epoch 193/300 --> Training loss: 0.2054 - Training accuracy: 0.9922 | Validation loss: 0.1675 - Validation accuracy: 0.9583\n",
      "Epoch 194/300 --> Training loss: 0.1949 - Training accuracy: 0.9922 | Validation loss: 0.1578 - Validation accuracy: 0.9618\n",
      "Epoch 195/300 --> Training loss: 0.1963 - Training accuracy: 0.9922 | Validation loss: 0.1621 - Validation accuracy: 0.9618\n",
      "Epoch 196/300 --> Training loss: 0.1910 - Training accuracy: 0.9913 | Validation loss: 0.1557 - Validation accuracy: 0.9688\n",
      "Epoch 197/300 --> Training loss: 0.1928 - Training accuracy: 0.9922 | Validation loss: 0.1536 - Validation accuracy: 0.9618\n",
      "Epoch 198/300 --> Training loss: 0.1973 - Training accuracy: 0.9913 | Validation loss: 0.1512 - Validation accuracy: 0.9618\n",
      "Epoch 199/300 --> Training loss: 0.1982 - Training accuracy: 0.9922 | Validation loss: 0.1653 - Validation accuracy: 0.9583\n",
      "Epoch 200/300 --> Training loss: 0.1653 - Training accuracy: 0.9913 | Validation loss: 0.1478 - Validation accuracy: 0.9688\n",
      "Epoch 201/300 --> Training loss: 0.1788 - Training accuracy: 0.9913 | Validation loss: 0.1470 - Validation accuracy: 0.9757\n",
      "Epoch 202/300 --> Training loss: 0.1591 - Training accuracy: 0.9913 | Validation loss: 0.1560 - Validation accuracy: 0.9618\n",
      "Epoch 203/300 --> Training loss: 0.1745 - Training accuracy: 0.9913 | Validation loss: 0.1470 - Validation accuracy: 0.9653\n",
      "Epoch 204/300 --> Training loss: 0.1810 - Training accuracy: 0.9922 | Validation loss: 0.1540 - Validation accuracy: 0.9653\n",
      "Epoch 205/300 --> Training loss: 0.1931 - Training accuracy: 0.9913 | Validation loss: 0.1483 - Validation accuracy: 0.9653\n",
      "Epoch 206/300 --> Training loss: 0.1771 - Training accuracy: 0.9913 | Validation loss: 0.1460 - Validation accuracy: 0.9653\n",
      "Epoch 207/300 --> Training loss: 0.1679 - Training accuracy: 0.9939 | Validation loss: 0.1425 - Validation accuracy: 0.9722\n",
      "Epoch 208/300 --> Training loss: 0.1677 - Training accuracy: 0.9913 | Validation loss: 0.1462 - Validation accuracy: 0.9688\n",
      "Epoch 209/300 --> Training loss: 0.1779 - Training accuracy: 0.9913 | Validation loss: 0.1436 - Validation accuracy: 0.9722\n",
      "Epoch 210/300 --> Training loss: 0.1604 - Training accuracy: 0.9930 | Validation loss: 0.1492 - Validation accuracy: 0.9653\n",
      "Epoch 211/300 --> Training loss: 0.1808 - Training accuracy: 0.9922 | Validation loss: 0.1378 - Validation accuracy: 0.9722\n",
      "Epoch 212/300 --> Training loss: 0.2111 - Training accuracy: 0.9930 | Validation loss: 0.1386 - Validation accuracy: 0.9688\n",
      "Epoch 213/300 --> Training loss: 0.1868 - Training accuracy: 0.9922 | Validation loss: 0.1454 - Validation accuracy: 0.9653\n",
      "Epoch 214/300 --> Training loss: 0.1712 - Training accuracy: 0.9930 | Validation loss: 0.1520 - Validation accuracy: 0.9618\n",
      "Epoch 215/300 --> Training loss: 0.1811 - Training accuracy: 0.9913 | Validation loss: 0.1557 - Validation accuracy: 0.9549\n",
      "Epoch 216/300 --> Training loss: 0.1675 - Training accuracy: 0.9930 | Validation loss: 0.1440 - Validation accuracy: 0.9688\n",
      "Epoch 217/300 --> Training loss: 0.1586 - Training accuracy: 0.9930 | Validation loss: 0.1438 - Validation accuracy: 0.9688\n",
      "Epoch 218/300 --> Training loss: 0.1749 - Training accuracy: 0.9922 | Validation loss: 0.1383 - Validation accuracy: 0.9722\n",
      "Epoch 219/300 --> Training loss: 0.1698 - Training accuracy: 0.9904 | Validation loss: 0.1346 - Validation accuracy: 0.9653\n",
      "Epoch 220/300 --> Training loss: 0.1680 - Training accuracy: 0.9930 | Validation loss: 0.1355 - Validation accuracy: 0.9688\n",
      "Epoch 221/300 --> Training loss: 0.1612 - Training accuracy: 0.9922 | Validation loss: 0.1324 - Validation accuracy: 0.9722\n",
      "Epoch 222/300 --> Training loss: 0.1671 - Training accuracy: 0.9939 | Validation loss: 0.1414 - Validation accuracy: 0.9688\n",
      "Epoch 223/300 --> Training loss: 0.1593 - Training accuracy: 0.9922 | Validation loss: 0.1444 - Validation accuracy: 0.9722\n",
      "Epoch 224/300 --> Training loss: 0.1901 - Training accuracy: 0.9922 | Validation loss: 0.1468 - Validation accuracy: 0.9653\n",
      "Epoch 225/300 --> Training loss: 0.1547 - Training accuracy: 0.9922 | Validation loss: 0.1395 - Validation accuracy: 0.9688\n",
      "Epoch 226/300 --> Training loss: 0.1768 - Training accuracy: 0.9930 | Validation loss: 0.1391 - Validation accuracy: 0.9722\n",
      "Epoch 227/300 --> Training loss: 0.1657 - Training accuracy: 0.9913 | Validation loss: 0.1389 - Validation accuracy: 0.9722\n",
      "Epoch 228/300 --> Training loss: 0.1601 - Training accuracy: 0.9922 | Validation loss: 0.1371 - Validation accuracy: 0.9688\n",
      "Epoch 229/300 --> Training loss: 0.1628 - Training accuracy: 0.9930 | Validation loss: 0.1467 - Validation accuracy: 0.9583\n",
      "Epoch 230/300 --> Training loss: 0.1748 - Training accuracy: 0.9930 | Validation loss: 0.1258 - Validation accuracy: 0.9757\n",
      "Epoch 231/300 --> Training loss: 0.1678 - Training accuracy: 0.9930 | Validation loss: 0.1332 - Validation accuracy: 0.9688\n",
      "Epoch 232/300 --> Training loss: 0.1655 - Training accuracy: 0.9930 | Validation loss: 0.1331 - Validation accuracy: 0.9688\n",
      "Epoch 233/300 --> Training loss: 0.1563 - Training accuracy: 0.9922 | Validation loss: 0.1367 - Validation accuracy: 0.9757\n",
      "Epoch 234/300 --> Training loss: 0.1610 - Training accuracy: 0.9939 | Validation loss: 0.1394 - Validation accuracy: 0.9688\n",
      "Epoch 235/300 --> Training loss: 0.1582 - Training accuracy: 0.9939 | Validation loss: 0.1325 - Validation accuracy: 0.9722\n",
      "Epoch 236/300 --> Training loss: 0.1568 - Training accuracy: 0.9922 | Validation loss: 0.1341 - Validation accuracy: 0.9722\n",
      "Epoch 237/300 --> Training loss: 0.1644 - Training accuracy: 0.9939 | Validation loss: 0.1317 - Validation accuracy: 0.9757\n",
      "Epoch 238/300 --> Training loss: 0.1664 - Training accuracy: 0.9930 | Validation loss: 0.1349 - Validation accuracy: 0.9722\n",
      "Epoch 239/300 --> Training loss: 0.1405 - Training accuracy: 0.9939 | Validation loss: 0.1479 - Validation accuracy: 0.9618\n",
      "Epoch 240/300 --> Training loss: 0.1543 - Training accuracy: 0.9939 | Validation loss: 0.1382 - Validation accuracy: 0.9688\n",
      "Epoch 241/300 --> Training loss: 0.1545 - Training accuracy: 0.9930 | Validation loss: 0.1271 - Validation accuracy: 0.9792\n",
      "Epoch 242/300 --> Training loss: 0.1446 - Training accuracy: 0.9930 | Validation loss: 0.1297 - Validation accuracy: 0.9757\n",
      "Epoch 243/300 --> Training loss: 0.1672 - Training accuracy: 0.9930 | Validation loss: 0.1291 - Validation accuracy: 0.9722\n",
      "Epoch 244/300 --> Training loss: 0.1662 - Training accuracy: 0.9948 | Validation loss: 0.1255 - Validation accuracy: 0.9722\n",
      "Epoch 245/300 --> Training loss: 0.1547 - Training accuracy: 0.9930 | Validation loss: 0.1264 - Validation accuracy: 0.9757\n",
      "Epoch 246/300 --> Training loss: 0.1504 - Training accuracy: 0.9948 | Validation loss: 0.1280 - Validation accuracy: 0.9757\n",
      "Epoch 247/300 --> Training loss: 0.1470 - Training accuracy: 0.9948 | Validation loss: 0.1301 - Validation accuracy: 0.9722\n",
      "Epoch 248/300 --> Training loss: 0.1436 - Training accuracy: 0.9930 | Validation loss: 0.1255 - Validation accuracy: 0.9757\n",
      "Epoch 249/300 --> Training loss: 0.1505 - Training accuracy: 0.9930 | Validation loss: 0.1261 - Validation accuracy: 0.9792\n",
      "Epoch 250/300 --> Training loss: 0.1543 - Training accuracy: 0.9948 | Validation loss: 0.1406 - Validation accuracy: 0.9688\n",
      "Epoch 251/300 --> Training loss: 0.1552 - Training accuracy: 0.9930 | Validation loss: 0.1343 - Validation accuracy: 0.9722\n",
      "Epoch 252/300 --> Training loss: 0.1622 - Training accuracy: 0.9948 | Validation loss: 0.1429 - Validation accuracy: 0.9653\n",
      "Epoch 253/300 --> Training loss: 0.1481 - Training accuracy: 0.9939 | Validation loss: 0.1321 - Validation accuracy: 0.9722\n",
      "Epoch 254/300 --> Training loss: 0.1207 - Training accuracy: 0.9939 | Validation loss: 0.1317 - Validation accuracy: 0.9722\n",
      "Epoch 255/300 --> Training loss: 0.1470 - Training accuracy: 0.9930 | Validation loss: 0.1269 - Validation accuracy: 0.9653\n",
      "Epoch 256/300 --> Training loss: 0.1544 - Training accuracy: 0.9948 | Validation loss: 0.1255 - Validation accuracy: 0.9757\n",
      "Epoch 257/300 --> Training loss: 0.1440 - Training accuracy: 0.9948 | Validation loss: 0.1210 - Validation accuracy: 0.9792\n",
      "Epoch 258/300 --> Training loss: 0.1466 - Training accuracy: 0.9948 | Validation loss: 0.1206 - Validation accuracy: 0.9757\n",
      "Epoch 259/300 --> Training loss: 0.1509 - Training accuracy: 0.9948 | Validation loss: 0.1354 - Validation accuracy: 0.9653\n",
      "Epoch 260/300 --> Training loss: 0.1564 - Training accuracy: 0.9948 | Validation loss: 0.1319 - Validation accuracy: 0.9688\n",
      "Epoch 261/300 --> Training loss: 0.1649 - Training accuracy: 0.9939 | Validation loss: 0.1272 - Validation accuracy: 0.9722\n",
      "Epoch 262/300 --> Training loss: 0.1440 - Training accuracy: 0.9939 | Validation loss: 0.1406 - Validation accuracy: 0.9653\n",
      "Epoch 263/300 --> Training loss: 0.1447 - Training accuracy: 0.9939 | Validation loss: 0.1364 - Validation accuracy: 0.9722\n",
      "Epoch 264/300 --> Training loss: 0.1413 - Training accuracy: 0.9930 | Validation loss: 0.1264 - Validation accuracy: 0.9688\n",
      "Epoch 265/300 --> Training loss: 0.1433 - Training accuracy: 0.9930 | Validation loss: 0.1272 - Validation accuracy: 0.9722\n",
      "Epoch 266/300 --> Training loss: 0.1469 - Training accuracy: 0.9913 | Validation loss: 0.1279 - Validation accuracy: 0.9792\n",
      "Epoch 267/300 --> Training loss: 0.1202 - Training accuracy: 0.9948 | Validation loss: 0.1261 - Validation accuracy: 0.9722\n",
      "Epoch 268/300 --> Training loss: 0.1505 - Training accuracy: 0.9930 | Validation loss: 0.1227 - Validation accuracy: 0.9688\n",
      "Epoch 269/300 --> Training loss: 0.1366 - Training accuracy: 0.9939 | Validation loss: 0.1233 - Validation accuracy: 0.9722\n",
      "Epoch 270/300 --> Training loss: 0.1451 - Training accuracy: 0.9939 | Validation loss: 0.1219 - Validation accuracy: 0.9757\n",
      "Epoch 271/300 --> Training loss: 0.1320 - Training accuracy: 0.9939 | Validation loss: 0.1158 - Validation accuracy: 0.9757\n",
      "Epoch 272/300 --> Training loss: 0.1528 - Training accuracy: 0.9948 | Validation loss: 0.1364 - Validation accuracy: 0.9653\n",
      "Epoch 273/300 --> Training loss: 0.1479 - Training accuracy: 0.9922 | Validation loss: 0.1239 - Validation accuracy: 0.9722\n",
      "Epoch 274/300 --> Training loss: 0.1342 - Training accuracy: 0.9948 | Validation loss: 0.1183 - Validation accuracy: 0.9688\n",
      "Epoch 275/300 --> Training loss: 0.1421 - Training accuracy: 0.9956 | Validation loss: 0.1155 - Validation accuracy: 0.9757\n",
      "Epoch 276/300 --> Training loss: 0.1380 - Training accuracy: 0.9939 | Validation loss: 0.1210 - Validation accuracy: 0.9722\n",
      "Epoch 277/300 --> Training loss: 0.1480 - Training accuracy: 0.9965 | Validation loss: 0.1266 - Validation accuracy: 0.9653\n",
      "Epoch 278/300 --> Training loss: 0.1432 - Training accuracy: 0.9948 | Validation loss: 0.1263 - Validation accuracy: 0.9722\n",
      "Epoch 279/300 --> Training loss: 0.1314 - Training accuracy: 0.9948 | Validation loss: 0.1213 - Validation accuracy: 0.9722\n",
      "Epoch 280/300 --> Training loss: 0.1271 - Training accuracy: 0.9965 | Validation loss: 0.1228 - Validation accuracy: 0.9653\n",
      "Epoch 281/300 --> Training loss: 0.1266 - Training accuracy: 0.9956 | Validation loss: 0.1164 - Validation accuracy: 0.9757\n",
      "Epoch 282/300 --> Training loss: 0.1271 - Training accuracy: 0.9956 | Validation loss: 0.1164 - Validation accuracy: 0.9757\n",
      "Epoch 283/300 --> Training loss: 0.1281 - Training accuracy: 0.9965 | Validation loss: 0.1127 - Validation accuracy: 0.9722\n",
      "Epoch 284/300 --> Training loss: 0.1161 - Training accuracy: 0.9965 | Validation loss: 0.1239 - Validation accuracy: 0.9722\n",
      "Epoch 285/300 --> Training loss: 0.1306 - Training accuracy: 0.9956 | Validation loss: 0.1168 - Validation accuracy: 0.9722\n",
      "Epoch 286/300 --> Training loss: 0.1325 - Training accuracy: 0.9965 | Validation loss: 0.1175 - Validation accuracy: 0.9792\n",
      "Epoch 287/300 --> Training loss: 0.1561 - Training accuracy: 0.9956 | Validation loss: 0.1169 - Validation accuracy: 0.9757\n",
      "Epoch 288/300 --> Training loss: 0.1146 - Training accuracy: 0.9965 | Validation loss: 0.1150 - Validation accuracy: 0.9757\n",
      "Epoch 289/300 --> Training loss: 0.1316 - Training accuracy: 0.9956 | Validation loss: 0.1236 - Validation accuracy: 0.9722\n",
      "Epoch 290/300 --> Training loss: 0.1220 - Training accuracy: 0.9965 | Validation loss: 0.1175 - Validation accuracy: 0.9757\n",
      "Epoch 291/300 --> Training loss: 0.1181 - Training accuracy: 0.9956 | Validation loss: 0.1138 - Validation accuracy: 0.9757\n",
      "Epoch 292/300 --> Training loss: 0.1168 - Training accuracy: 0.9956 | Validation loss: 0.1142 - Validation accuracy: 0.9757\n",
      "Epoch 293/300 --> Training loss: 0.1152 - Training accuracy: 0.9956 | Validation loss: 0.1196 - Validation accuracy: 0.9757\n",
      "Epoch 294/300 --> Training loss: 0.1307 - Training accuracy: 0.9956 | Validation loss: 0.1202 - Validation accuracy: 0.9792\n",
      "Epoch 295/300 --> Training loss: 0.1206 - Training accuracy: 0.9965 | Validation loss: 0.1240 - Validation accuracy: 0.9688\n",
      "Epoch 296/300 --> Training loss: 0.1316 - Training accuracy: 0.9965 | Validation loss: 0.1201 - Validation accuracy: 0.9722\n",
      "Epoch 297/300 --> Training loss: 0.1040 - Training accuracy: 0.9965 | Validation loss: 0.1257 - Validation accuracy: 0.9653\n",
      "Epoch 298/300 --> Training loss: 0.1185 - Training accuracy: 0.9965 | Validation loss: 0.1107 - Validation accuracy: 0.9757\n",
      "Epoch 299/300 --> Training loss: 0.1103 - Training accuracy: 0.9965 | Validation loss: 0.1132 - Validation accuracy: 0.9722\n",
      "Epoch 300/300 --> Training loss: 0.1575 - Training accuracy: 0.9965 | Validation loss: 0.1016 - Validation accuracy: 0.9792\n"
     ]
    }
   ],
   "source": [
    "history = model.fit(\n",
    "    X_train = X_train, \n",
    "    y_train = y_train_encoded,\n",
    "    optimizer = optimizer,\n",
    "    loss_fn = loss_fn,\n",
    "    X_valid = X_valid,\n",
    "    y_valid = y_valid_encoded,\n",
    "    batch_size = batch_size,\n",
    "    epochs = epochs,\n",
    "    metrics=[metrics.accuracy]\n",
    ")"
   ]
  },
  {
   "cell_type": "code",
   "execution_count": 12,
   "metadata": {},
   "outputs": [
    {
     "data": {
      "image/png": "[encoded data removed]",
      "text/plain": [
       "<Figure size 1000x600 with 1 Axes>"
      ]
     },
     "metadata": {},
     "output_type": "display_data"
    }
   ],
   "source": [
    "# Plot the training and validation loss\n",
    "utils.plot_history(history[\"train\"][\"loss\"], history[\"valid\"][\"loss\"], \"Training and Validation Loss\", \"Epoch\", \"Loss\")"
   ]
  },
  {
   "cell_type": "markdown",
   "metadata": {},
   "source": [
    "### Model evaluation"
   ]
  },
  {
   "cell_type": "code",
   "execution_count": 13,
   "metadata": {},
   "outputs": [],
   "source": [
    "# Predict the labels\n",
    "predictions = model(X_test)\n",
    "\n",
    "# Apply the argmax function to the predictions\n",
    "predictions = np.argmax(predictions, axis=1)"
   ]
  },
  {
   "cell_type": "code",
   "execution_count": 14,
   "metadata": {},
   "outputs": [
    {
     "name": "stdout",
     "output_type": "stream",
     "text": [
      "Accuracy: 0.97\n"
     ]
    }
   ],
   "source": [
    "# Compute the accuracy\n",
    "accuracy = metrics.accuracy(predictions, y_test)\n",
    "\n",
    "# Print the accuracy\n",
    "print(f\"Accuracy: {accuracy:.2f}\")"
   ]
  }
 ],
 "metadata": {
  "kernelspec": {
   "display_name": "venv",
   "language": "python",
   "name": "python3"
  },
  "language_info": {
   "codemirror_mode": {
    "name": "ipython",
    "version": 3
   },
   "file_extension": ".py",
   "mimetype": "text/x-python",
   "name": "python",
   "nbconvert_exporter": "python",
   "pygments_lexer": "ipython3",
   "version": "3.12.7"
  }
 },
 "nbformat": 4,
 "nbformat_minor": 2
}
