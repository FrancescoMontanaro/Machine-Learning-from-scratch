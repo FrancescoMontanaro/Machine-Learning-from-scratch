{
 "cells": [
  {
   "cell_type": "code",
   "execution_count": 1,
   "metadata": {},
   "outputs": [],
   "source": [
    "import sys\n",
    "import numpy as np\n",
    "import matplotlib.pyplot as plt\n",
    "from sklearn.datasets import load_digits\n",
    "\n",
    "# Add the path to the custom library to the system path\n",
    "sys.path.append('..')\n",
    "\n",
    "# Import the module from the custom library\n",
    "from src import Model\n",
    "from src import layers\n",
    "from src import Tensor\n",
    "from src import metrics\n",
    "from src import callbacks\n",
    "from src import optimizers\n",
    "from src import activations\n",
    "from src import loss_functions\n",
    "from src.core.utils import data_analysis\n",
    "from src.core.utils import data_processing"
   ]
  },
  {
   "cell_type": "markdown",
   "metadata": {},
   "source": [
    "### Constants and Hyperparameters"
   ]
  },
  {
   "cell_type": "code",
   "execution_count": 2,
   "metadata": {},
   "outputs": [],
   "source": [
    "train_test_split_pct = 0.2 # Percentage of samples to use for testing\n",
    "train_valid_split = 0.2 # Percentage of samples to use for validation\n",
    "learning_rate = 1e-4 # Learning rate for the optimizer\n",
    "batch_size = 16 # Number of samples to use for each batch\n",
    "epochs = 300 # Number of epochs to train the model\n",
    "seed = 1234 # Seed for reproducibility"
   ]
  },
  {
   "cell_type": "code",
   "execution_count": 3,
   "metadata": {},
   "outputs": [],
   "source": [
    "# Set the seed for reproducibility\n",
    "np.random.seed(seed)"
   ]
  },
  {
   "cell_type": "markdown",
   "metadata": {},
   "source": [
    "### Data loading"
   ]
  },
  {
   "cell_type": "code",
   "execution_count": 4,
   "metadata": {},
   "outputs": [
    {
     "name": "stdout",
     "output_type": "stream",
     "text": [
      "Number of classes: 10\n",
      "Training set: (1151, 64) (1151,)\n",
      "Validation set: (287, 64) (287,)\n",
      "Testing set: (359, 64) (359,)\n"
     ]
    }
   ],
   "source": [
    "# Load the digits dataset\n",
    "digits = load_digits()\n",
    "\n",
    "# Extract the number of classes in the dataset\n",
    "num_classes = len(np.unique(digits['target'])) # type: ignore\n",
    "\n",
    "# Extract the input and output data\n",
    "data = Tensor(data=digits.get(\"data\", [])) # type: ignore\n",
    "labels = Tensor(data=digits.get(\"target\", []), dtype=np.int8) # type: ignore\n",
    "\n",
    "# Split the dataset into training, validation, and testing sets\n",
    "X_train, X_test, y_train, y_test = data_processing.split_data((data, labels), train_test_split_pct, shuffle=True)\n",
    "X_train, X_valid, y_train, y_valid = data_processing.split_data((X_train, y_train), train_valid_split, shuffle=True)\n",
    "\n",
    "# Print the dataset information\n",
    "print(\"Number of classes:\", num_classes)\n",
    "print('Training set:', X_train.shape(), y_train.shape())\n",
    "print('Validation set:', X_valid.shape(), y_valid.shape())\n",
    "print('Testing set:', X_test.shape(), y_test.shape())"
   ]
  },
  {
   "cell_type": "markdown",
   "metadata": {},
   "source": [
    "### Data Preprocessing"
   ]
  },
  {
   "cell_type": "code",
   "execution_count": 5,
   "metadata": {},
   "outputs": [],
   "source": [
    "# Normalization\n",
    "def normalize(X: Tensor) -> Tensor:\n",
    "    \"\"\"\n",
    "    Normalize the input data by dividing by the maximum value in the training set.\n",
    "    \n",
    "    Parameters:\n",
    "    - X (Tensor): The input data to normalize\n",
    "    \n",
    "    Returns:\n",
    "    - Tensor: The normalized input data\n",
    "    \"\"\"\n",
    "    \n",
    "    # Normalize the input data\n",
    "    return X / 255.0\n",
    "\n",
    "# Normalize the input data\n",
    "X_train = normalize(X_train)\n",
    "X_valid = normalize(X_valid)\n",
    "X_test = normalize(X_test)"
   ]
  },
  {
   "cell_type": "code",
   "execution_count": 6,
   "metadata": {},
   "outputs": [
    {
     "name": "stdout",
     "output_type": "stream",
     "text": [
      "Sample target value: 3\n",
      "One-hot encoded value: Tensor([0 0 0 1 0 0 0 0 0 0], shape=(10,), dtype=int8)\n"
     ]
    }
   ],
   "source": [
    "# Convert the target values to one-hot encoded vectors\n",
    "y_train_encoded = data_processing.one_hot_encoding(y=y_train, n_classes=num_classes)\n",
    "y_valid_encoded = data_processing.one_hot_encoding(y=y_valid, n_classes=num_classes)\n",
    "\n",
    "# Print one sample encoding\n",
    "print(\"Sample target value:\", y_train[0].data)\n",
    "print(\"One-hot encoded value:\", y_train_encoded[0])"
   ]
  },
  {
   "cell_type": "markdown",
   "metadata": {},
   "source": [
    "### Data visualization"
   ]
  },
  {
   "cell_type": "code",
   "execution_count": 7,
   "metadata": {},
   "outputs": [
    {
     "data": {
      "image/png": "[encoded data removed]",
      "text/plain": [
       "<Figure size 2000x500 with 10 Axes>"
      ]
     },
     "metadata": {},
     "output_type": "display_data"
    }
   ],
   "source": [
    "def plot_samples(samples: list[np.ndarray], labels: list[np.ndarray]) -> None:\n",
    "    \"\"\"\n",
    "    Plot the samples in a grid.\n",
    "    \n",
    "    Parameters:\n",
    "    - samples (list[np.ndarray]): The samples to plot\n",
    "    - labels (list[np.ndarray]): The labels of the samples\n",
    "    \"\"\"\n",
    "    \n",
    "    reshaped_samples = []\n",
    "    \n",
    "    # Iterate over the samples\n",
    "    for sample in samples:\n",
    "        # Compute the new shape\n",
    "        new_shape = np.sqrt(sample.shape).astype(int)[0]\n",
    "        \n",
    "        # Reshape the sample\n",
    "        sample = sample.reshape(new_shape, new_shape)\n",
    "        \n",
    "        # Append the reshaped sample\n",
    "        reshaped_samples.append(sample)\n",
    "        \n",
    "    # Plot the samples in a grid\n",
    "    _, axes = plt.subplots(1, len(samples), figsize=(20, 5))\n",
    "    for i, ax in enumerate(axes):\n",
    "        ax.imshow(reshaped_samples[i], cmap='gray')\n",
    "        ax.set_title(f'Label: {labels[i]}')\n",
    "        ax.axis('off')\n",
    "        \n",
    "        \n",
    "# Plot the first 10 samples\n",
    "plot_samples(list(X_train.data[:10]), list(y_train.data[:10]))"
   ]
  },
  {
   "cell_type": "markdown",
   "metadata": {},
   "source": [
    "### Building the model"
   ]
  },
  {
   "cell_type": "code",
   "execution_count": 8,
   "metadata": {},
   "outputs": [],
   "source": [
    "\n",
    "model = Model(\n",
    "    name = \"Digits Classifier\",\n",
    "    modules = [\n",
    "        layers.Dense(num_units=24, activation=activations.ReLU()),\n",
    "        layers.BatchNormalization(),\n",
    "        layers.Dropout(rate=0.1),\n",
    "        layers.Dense(num_units=32, activation=activations.ReLU()),\n",
    "        layers.Dropout(rate=0.1),\n",
    "        layers.Dense(num_units=12, activation=activations.Tanh()),\n",
    "        layers.Dropout(rate=0.1),\n",
    "        layers.Dense(num_units=num_classes, activation=activations.Softmax())\n",
    "    ]\n",
    ")\n",
    "\n",
    "# Initialize the optimizer\n",
    "optimizer = optimizers.Adam(learning_rate=learning_rate)\n",
    "\n",
    "# Initialize the loss function\n",
    "loss_fn = loss_functions.CategoricalCrossEntropy()"
   ]
  },
  {
   "cell_type": "code",
   "execution_count": 9,
   "metadata": {},
   "outputs": [],
   "source": [
    "# Call the model with a first batch to initialize the weights\n",
    "# This is not necessary, but it is useful to know the input size\n",
    "model(X_train[:batch_size]);"
   ]
  },
  {
   "cell_type": "code",
   "execution_count": 10,
   "metadata": {},
   "outputs": [
    {
     "name": "stdout",
     "output_type": "stream",
     "text": [
      "\n",
      "Digits Classifier (ID: 0)\n",
      "\n",
      "--------------------------------------------------------------------------------\n",
      "Module (type)                           Output Shape        Trainable params #  \n",
      "================================================================================\n",
      "dense_1 (Dense)                         (16, 24)            1560                \n",
      "--------------------------------------------------------------------------------\n",
      "batch_normalization_2                   \n",
      "(BatchNormalization)                    (16, 24)            48                  \n",
      "--------------------------------------------------------------------------------\n",
      "dropout_3 (Dropout)                     (16, 24)            0                   \n",
      "--------------------------------------------------------------------------------\n",
      "dense_4 (Dense)                         (16, 32)            800                 \n",
      "--------------------------------------------------------------------------------\n",
      "dropout_5 (Dropout)                     (16, 32)            0                   \n",
      "--------------------------------------------------------------------------------\n",
      "dense_6 (Dense)                         (16, 12)            396                 \n",
      "--------------------------------------------------------------------------------\n",
      "dropout_7 (Dropout)                     (16, 12)            0                   \n",
      "--------------------------------------------------------------------------------\n",
      "dense_8 (Dense)                         (16, 10)            130                 \n",
      "================================================================================\n",
      "Total trainable parameters: 2934\n",
      "--------------------------------------------------------------------------------\n"
     ]
    }
   ],
   "source": [
    "# Display the model summary\n",
    "model.summary()"
   ]
  },
  {
   "cell_type": "markdown",
   "metadata": {},
   "source": [
    "### Training the model"
   ]
  },
  {
   "cell_type": "code",
   "execution_count": 11,
   "metadata": {},
   "outputs": [
    {
     "name": "stdout",
     "output_type": "stream",
     "text": [
      "Epoch 1/300 --> loss: 2.2843 - accuracy: 0.1234 | Validation loss: 2.2854 - Validation accuracy: 0.1537                     \n",
      "Epoch 2/300 --> loss: 2.2338 - accuracy: 0.2052 | Validation loss: 2.2011 - Validation accuracy: 0.2894                     \n",
      "Epoch 3/300 --> loss: 2.1891 - accuracy: 0.2805 | Validation loss: 2.1491 - Validation accuracy: 0.3486                     \n",
      "Epoch 4/300 --> loss: 2.1446 - accuracy: 0.3500 | Validation loss: 2.0930 - Validation accuracy: 0.4181                     \n",
      "Epoch 5/300 --> loss: 2.0876 - accuracy: 0.4186 | Validation loss: 2.0362 - Validation accuracy: 0.4704                     \n",
      "Epoch 6/300 --> loss: 2.0341 - accuracy: 0.4753 | Validation loss: 1.9728 - Validation accuracy: 0.5088                     \n",
      "Epoch 7/300 --> loss: 1.9675 - accuracy: 0.5170 | Validation loss: 1.9088 - Validation accuracy: 0.5262                     \n",
      "Epoch 8/300 --> loss: 1.9180 - accuracy: 0.5204 | Validation loss: 1.8480 - Validation accuracy: 0.5440                     \n",
      "Epoch 9/300 --> loss: 1.8566 - accuracy: 0.5481 | Validation loss: 1.7877 - Validation accuracy: 0.5685                     \n",
      "Epoch 10/300 --> loss: 1.7971 - accuracy: 0.5747 | Validation loss: 1.7191 - Validation accuracy: 0.5755                     \n",
      "Epoch 11/300 --> loss: 1.7468 - accuracy: 0.5656 | Validation loss: 1.6567 - Validation accuracy: 0.5928                     \n",
      "Epoch 12/300 --> loss: 1.6757 - accuracy: 0.5899 | Validation loss: 1.6017 - Validation accuracy: 0.5963                     \n",
      "Epoch 13/300 --> loss: 1.6345 - accuracy: 0.6038 | Validation loss: 1.5488 - Validation accuracy: 0.6137                     \n",
      "Epoch 14/300 --> loss: 1.5697 - accuracy: 0.6205 | Validation loss: 1.5051 - Validation accuracy: 0.6067                     \n",
      "Epoch 15/300 --> loss: 1.5355 - accuracy: 0.6282 | Validation loss: 1.4465 - Validation accuracy: 0.6414                     \n",
      "Epoch 16/300 --> loss: 1.4873 - accuracy: 0.6490 | Validation loss: 1.3990 - Validation accuracy: 0.6588                     \n",
      "Epoch 17/300 --> loss: 1.4346 - accuracy: 0.6587 | Validation loss: 1.3617 - Validation accuracy: 0.6866                     \n",
      "Epoch 18/300 --> loss: 1.4099 - accuracy: 0.6655 | Validation loss: 1.3169 - Validation accuracy: 0.6970                     \n",
      "Epoch 19/300 --> loss: 1.3629 - accuracy: 0.6906 | Validation loss: 1.2706 - Validation accuracy: 0.7072                     \n",
      "Epoch 20/300 --> loss: 1.3304 - accuracy: 0.6899 | Validation loss: 1.2332 - Validation accuracy: 0.7109                     \n",
      "Epoch 21/300 --> loss: 1.3049 - accuracy: 0.6899 | Validation loss: 1.1949 - Validation accuracy: 0.7146                     \n",
      "Epoch 22/300 --> loss: 1.2575 - accuracy: 0.6961 | Validation loss: 1.1599 - Validation accuracy: 0.7037                     \n",
      "Epoch 23/300 --> loss: 1.2421 - accuracy: 0.7097 | Validation loss: 1.1232 - Validation accuracy: 0.7352                     \n",
      "Epoch 24/300 --> loss: 1.1865 - accuracy: 0.7157 | Validation loss: 1.0894 - Validation accuracy: 0.7493                     \n",
      "Epoch 25/300 --> loss: 1.1601 - accuracy: 0.7281 | Validation loss: 1.0603 - Validation accuracy: 0.7352                     \n",
      "Epoch 26/300 --> loss: 1.1317 - accuracy: 0.7437 | Validation loss: 1.0267 - Validation accuracy: 0.7563                     \n",
      "Epoch 27/300 --> loss: 1.1262 - accuracy: 0.7410 | Validation loss: 0.9952 - Validation accuracy: 0.7632                     \n",
      "Epoch 28/300 --> loss: 1.0800 - accuracy: 0.7672 | Validation loss: 0.9662 - Validation accuracy: 0.7738                     \n",
      "Epoch 29/300 --> loss: 1.0435 - accuracy: 0.7627 | Validation loss: 0.9426 - Validation accuracy: 0.7738                     \n",
      "Epoch 30/300 --> loss: 1.0284 - accuracy: 0.7558 | Validation loss: 0.9159 - Validation accuracy: 0.7808                     \n",
      "Epoch 31/300 --> loss: 1.0010 - accuracy: 0.7664 | Validation loss: 0.8872 - Validation accuracy: 0.7981                     \n",
      "Epoch 32/300 --> loss: 0.9663 - accuracy: 0.7906 | Validation loss: 0.8604 - Validation accuracy: 0.8051                     \n",
      "Epoch 33/300 --> loss: 0.9686 - accuracy: 0.7889 | Validation loss: 0.8427 - Validation accuracy: 0.8051                     \n",
      "Epoch 34/300 --> loss: 0.9397 - accuracy: 0.7828 | Validation loss: 0.8156 - Validation accuracy: 0.8120                     \n",
      "Epoch 35/300 --> loss: 0.9210 - accuracy: 0.7976 | Validation loss: 0.7920 - Validation accuracy: 0.8294                     \n",
      "Epoch 36/300 --> loss: 0.8818 - accuracy: 0.8209 | Validation loss: 0.7710 - Validation accuracy: 0.8259                     \n",
      "Epoch 37/300 --> loss: 0.8764 - accuracy: 0.8089 | Validation loss: 0.7513 - Validation accuracy: 0.8537                     \n",
      "Epoch 38/300 --> loss: 0.8435 - accuracy: 0.8418 | Validation loss: 0.7291 - Validation accuracy: 0.8572                     \n",
      "Epoch 39/300 --> loss: 0.8114 - accuracy: 0.8341 | Validation loss: 0.7091 - Validation accuracy: 0.8606                     \n",
      "Epoch 40/300 --> loss: 0.8022 - accuracy: 0.8444 | Validation loss: 0.6895 - Validation accuracy: 0.8606                     \n",
      "Epoch 41/300 --> loss: 0.7922 - accuracy: 0.8452 | Validation loss: 0.6726 - Validation accuracy: 0.8815                     \n",
      "Epoch 42/300 --> loss: 0.7904 - accuracy: 0.8400 | Validation loss: 0.6521 - Validation accuracy: 0.8884                     \n",
      "Epoch 43/300 --> loss: 0.7547 - accuracy: 0.8541 | Validation loss: 0.6380 - Validation accuracy: 0.8884                     \n",
      "Epoch 44/300 --> loss: 0.7374 - accuracy: 0.8697 | Validation loss: 0.6258 - Validation accuracy: 0.8884                     \n",
      "Epoch 45/300 --> loss: 0.7254 - accuracy: 0.8670 | Validation loss: 0.6079 - Validation accuracy: 0.8954                     \n",
      "Epoch 46/300 --> loss: 0.7006 - accuracy: 0.8696 | Validation loss: 0.5875 - Validation accuracy: 0.9127                     \n",
      "Epoch 47/300 --> loss: 0.6834 - accuracy: 0.8714 | Validation loss: 0.5727 - Validation accuracy: 0.9058                     \n",
      "Epoch 48/300 --> loss: 0.6898 - accuracy: 0.8810 | Validation loss: 0.5616 - Validation accuracy: 0.9162                     \n",
      "Epoch 49/300 --> loss: 0.6709 - accuracy: 0.8733 | Validation loss: 0.5457 - Validation accuracy: 0.9231                     \n",
      "Epoch 50/300 --> loss: 0.6530 - accuracy: 0.8758 | Validation loss: 0.5284 - Validation accuracy: 0.9370                     \n",
      "Epoch 51/300 --> loss: 0.6432 - accuracy: 0.8923 | Validation loss: 0.5155 - Validation accuracy: 0.9405                     \n",
      "Epoch 52/300 --> loss: 0.6221 - accuracy: 0.8958 | Validation loss: 0.4996 - Validation accuracy: 0.9509                     \n",
      "Epoch 53/300 --> loss: 0.6123 - accuracy: 0.8931 | Validation loss: 0.4932 - Validation accuracy: 0.9301                     \n",
      "Epoch 54/300 --> loss: 0.6085 - accuracy: 0.8924 | Validation loss: 0.4796 - Validation accuracy: 0.9475                     \n",
      "Epoch 55/300 --> loss: 0.5950 - accuracy: 0.9017 | Validation loss: 0.4699 - Validation accuracy: 0.9336                     \n",
      "Epoch 56/300 --> loss: 0.5732 - accuracy: 0.9019 | Validation loss: 0.4599 - Validation accuracy: 0.9509                     \n",
      "Epoch 57/300 --> loss: 0.5562 - accuracy: 0.9192 | Validation loss: 0.4419 - Validation accuracy: 0.9475                     \n",
      "Epoch 58/300 --> loss: 0.5587 - accuracy: 0.9079 | Validation loss: 0.4300 - Validation accuracy: 0.9613                     \n",
      "Epoch 59/300 --> loss: 0.5336 - accuracy: 0.9140 | Validation loss: 0.4246 - Validation accuracy: 0.9475                     \n",
      "Epoch 60/300 --> loss: 0.5435 - accuracy: 0.9035 | Validation loss: 0.4146 - Validation accuracy: 0.9509                     \n",
      "Epoch 61/300 --> loss: 0.5103 - accuracy: 0.9218 | Validation loss: 0.4078 - Validation accuracy: 0.9509                     \n",
      "Epoch 62/300 --> loss: 0.5152 - accuracy: 0.9201 | Validation loss: 0.4017 - Validation accuracy: 0.9579                     \n",
      "Epoch 63/300 --> loss: 0.4925 - accuracy: 0.9174 | Validation loss: 0.3831 - Validation accuracy: 0.9648                     \n",
      "Epoch 64/300 --> loss: 0.4969 - accuracy: 0.9149 | Validation loss: 0.3770 - Validation accuracy: 0.9544                     \n",
      "Epoch 65/300 --> loss: 0.4530 - accuracy: 0.9392 | Validation loss: 0.3704 - Validation accuracy: 0.9648                     \n",
      "Epoch 66/300 --> loss: 0.4682 - accuracy: 0.9252 | Validation loss: 0.3577 - Validation accuracy: 0.9683                     \n",
      "Epoch 67/300 --> loss: 0.4622 - accuracy: 0.9278 | Validation loss: 0.3508 - Validation accuracy: 0.9648                     \n",
      "Epoch 68/300 --> loss: 0.4374 - accuracy: 0.9278 | Validation loss: 0.3454 - Validation accuracy: 0.9683                     \n",
      "Epoch 69/300 --> loss: 0.4455 - accuracy: 0.9245 | Validation loss: 0.3385 - Validation accuracy: 0.9613                     \n",
      "Epoch 70/300 --> loss: 0.4451 - accuracy: 0.9174 | Validation loss: 0.3248 - Validation accuracy: 0.9648                     \n",
      "Epoch 71/300 --> loss: 0.4385 - accuracy: 0.9288 | Validation loss: 0.3253 - Validation accuracy: 0.9718                     \n",
      "Epoch 72/300 --> loss: 0.4381 - accuracy: 0.9183 | Validation loss: 0.3151 - Validation accuracy: 0.9683                     \n",
      "Epoch 73/300 --> loss: 0.4143 - accuracy: 0.9278 | Validation loss: 0.3066 - Validation accuracy: 0.9648                     \n",
      "Epoch 74/300 --> loss: 0.4017 - accuracy: 0.9348 | Validation loss: 0.3048 - Validation accuracy: 0.9613                     \n",
      "Epoch 75/300 --> loss: 0.3830 - accuracy: 0.9410 | Validation loss: 0.2974 - Validation accuracy: 0.9648                     \n",
      "Epoch 76/300 --> loss: 0.3951 - accuracy: 0.9383 | Validation loss: 0.2929 - Validation accuracy: 0.9648                     \n",
      "Epoch 77/300 --> loss: 0.3930 - accuracy: 0.9392 | Validation loss: 0.2832 - Validation accuracy: 0.9683                     \n",
      "Epoch 78/300 --> loss: 0.3926 - accuracy: 0.9219 | Validation loss: 0.2794 - Validation accuracy: 0.9648                     \n",
      "Epoch 79/300 --> loss: 0.3972 - accuracy: 0.9365 | Validation loss: 0.2772 - Validation accuracy: 0.9683                     \n",
      "Epoch 80/300 --> loss: 0.3695 - accuracy: 0.9436 | Validation loss: 0.2689 - Validation accuracy: 0.9683                     \n",
      "Epoch 81/300 --> loss: 0.4044 - accuracy: 0.9209 | Validation loss: 0.2585 - Validation accuracy: 0.9718                     \n",
      "Epoch 82/300 --> loss: 0.3511 - accuracy: 0.9470 | Validation loss: 0.2563 - Validation accuracy: 0.9718                     \n",
      "Epoch 83/300 --> loss: 0.3495 - accuracy: 0.9418 | Validation loss: 0.2484 - Validation accuracy: 0.9718                     \n",
      "Epoch 84/300 --> loss: 0.3537 - accuracy: 0.9374 | Validation loss: 0.2496 - Validation accuracy: 0.9683                     \n",
      "Epoch 85/300 --> loss: 0.3539 - accuracy: 0.9340 | Validation loss: 0.2440 - Validation accuracy: 0.9683                     \n",
      "Epoch 86/300 --> loss: 0.3394 - accuracy: 0.9401 | Validation loss: 0.2421 - Validation accuracy: 0.9648                     \n",
      "Epoch 87/300 --> loss: 0.3323 - accuracy: 0.9427 | Validation loss: 0.2359 - Validation accuracy: 0.9683                     \n",
      "Epoch 88/300 --> loss: 0.3261 - accuracy: 0.9401 | Validation loss: 0.2296 - Validation accuracy: 0.9683                     \n",
      "Epoch 89/300 --> loss: 0.3360 - accuracy: 0.9383 | Validation loss: 0.2260 - Validation accuracy: 0.9720                     \n",
      "Epoch 90/300 --> loss: 0.3185 - accuracy: 0.9503 | Validation loss: 0.2248 - Validation accuracy: 0.9755                     \n",
      "Epoch 91/300 --> loss: 0.2964 - accuracy: 0.9601 | Validation loss: 0.2158 - Validation accuracy: 0.9718                     \n",
      "Epoch 92/300 --> loss: 0.3251 - accuracy: 0.9391 | Validation loss: 0.2118 - Validation accuracy: 0.9718                     \n",
      "Epoch 93/300 --> loss: 0.3154 - accuracy: 0.9400 | Validation loss: 0.2112 - Validation accuracy: 0.9720                     \n",
      "Epoch 94/300 --> loss: 0.3021 - accuracy: 0.9399 | Validation loss: 0.2062 - Validation accuracy: 0.9752                     \n",
      "Epoch 95/300 --> loss: 0.3158 - accuracy: 0.9427 | Validation loss: 0.2026 - Validation accuracy: 0.9755                     \n",
      "Epoch 96/300 --> loss: 0.2975 - accuracy: 0.9444 | Validation loss: 0.2048 - Validation accuracy: 0.9685                     \n",
      "Epoch 97/300 --> loss: 0.2974 - accuracy: 0.9504 | Validation loss: 0.1973 - Validation accuracy: 0.9718                     \n",
      "Epoch 98/300 --> loss: 0.2853 - accuracy: 0.9479 | Validation loss: 0.1961 - Validation accuracy: 0.9683                     \n",
      "Epoch 99/300 --> loss: 0.2939 - accuracy: 0.9427 | Validation loss: 0.1945 - Validation accuracy: 0.9752                     \n",
      "Epoch 100/300 --> loss: 0.2700 - accuracy: 0.9521 | Validation loss: 0.1934 - Validation accuracy: 0.9718                     \n",
      "Epoch 101/300 --> loss: 0.3035 - accuracy: 0.9384 | Validation loss: 0.1861 - Validation accuracy: 0.9752                     \n",
      "Epoch 102/300 --> loss: 0.2739 - accuracy: 0.9548 | Validation loss: 0.1844 - Validation accuracy: 0.9787                     \n",
      "Epoch 103/300 --> loss: 0.2751 - accuracy: 0.9462 | Validation loss: 0.1795 - Validation accuracy: 0.9752                     \n",
      "Epoch 104/300 --> loss: 0.2741 - accuracy: 0.9453 | Validation loss: 0.1779 - Validation accuracy: 0.9683                     \n",
      "Epoch 105/300 --> loss: 0.2636 - accuracy: 0.9497 | Validation loss: 0.1767 - Validation accuracy: 0.9789                     \n",
      "Epoch 106/300 --> loss: 0.2644 - accuracy: 0.9427 | Validation loss: 0.1712 - Validation accuracy: 0.9718                     \n",
      "Epoch 107/300 --> loss: 0.2488 - accuracy: 0.9583 | Validation loss: 0.1682 - Validation accuracy: 0.9787                     \n",
      "Epoch 108/300 --> loss: 0.2527 - accuracy: 0.9566 | Validation loss: 0.1665 - Validation accuracy: 0.9752                     \n",
      "Epoch 109/300 --> loss: 0.2585 - accuracy: 0.9444 | Validation loss: 0.1647 - Validation accuracy: 0.9752                     \n",
      "Epoch 110/300 --> loss: 0.2522 - accuracy: 0.9497 | Validation loss: 0.1643 - Validation accuracy: 0.9752                     \n",
      "Epoch 111/300 --> loss: 0.2511 - accuracy: 0.9557 | Validation loss: 0.1616 - Validation accuracy: 0.9752                     \n",
      "Epoch 112/300 --> loss: 0.2515 - accuracy: 0.9566 | Validation loss: 0.1593 - Validation accuracy: 0.9787                     \n",
      "Epoch 113/300 --> loss: 0.2408 - accuracy: 0.9549 | Validation loss: 0.1582 - Validation accuracy: 0.9787                     \n",
      "Epoch 114/300 --> loss: 0.2353 - accuracy: 0.9566 | Validation loss: 0.1525 - Validation accuracy: 0.9824                     \n",
      "Epoch 115/300 --> loss: 0.2218 - accuracy: 0.9617 | Validation loss: 0.1541 - Validation accuracy: 0.9789                     \n",
      "Epoch 116/300 --> loss: 0.2331 - accuracy: 0.9539 | Validation loss: 0.1576 - Validation accuracy: 0.9755                     \n",
      "Epoch 117/300 --> loss: 0.2109 - accuracy: 0.9635 | Validation loss: 0.1526 - Validation accuracy: 0.9859                     \n",
      "Epoch 118/300 --> loss: 0.2195 - accuracy: 0.9644 | Validation loss: 0.1519 - Validation accuracy: 0.9824                     \n",
      "Epoch 119/300 --> loss: 0.2189 - accuracy: 0.9601 | Validation loss: 0.1410 - Validation accuracy: 0.9787                     \n",
      "Epoch 120/300 --> loss: 0.2250 - accuracy: 0.9531 | Validation loss: 0.1421 - Validation accuracy: 0.9824                     \n",
      "Epoch 121/300 --> loss: 0.2197 - accuracy: 0.9618 | Validation loss: 0.1390 - Validation accuracy: 0.9787                     \n",
      "Epoch 122/300 --> loss: 0.2069 - accuracy: 0.9557 | Validation loss: 0.1406 - Validation accuracy: 0.9861                     \n",
      "Epoch 123/300 --> loss: 0.2225 - accuracy: 0.9531 | Validation loss: 0.1399 - Validation accuracy: 0.9789                     \n",
      "Epoch 124/300 --> loss: 0.2012 - accuracy: 0.9601 | Validation loss: 0.1318 - Validation accuracy: 0.9822                     \n",
      "Epoch 125/300 --> loss: 0.2276 - accuracy: 0.9523 | Validation loss: 0.1357 - Validation accuracy: 0.9787                     \n",
      "Epoch 126/300 --> loss: 0.2047 - accuracy: 0.9661 | Validation loss: 0.1367 - Validation accuracy: 0.9752                     \n",
      "Epoch 127/300 --> loss: 0.2326 - accuracy: 0.9505 | Validation loss: 0.1387 - Validation accuracy: 0.9789                     \n",
      "Epoch 128/300 --> loss: 0.2059 - accuracy: 0.9557 | Validation loss: 0.1343 - Validation accuracy: 0.9752                     \n",
      "Epoch 129/300 --> loss: 0.2033 - accuracy: 0.9566 | Validation loss: 0.1262 - Validation accuracy: 0.9787                     \n",
      "Epoch 130/300 --> loss: 0.1922 - accuracy: 0.9635 | Validation loss: 0.1294 - Validation accuracy: 0.9824                     \n",
      "Epoch 131/300 --> loss: 0.2090 - accuracy: 0.9608 | Validation loss: 0.1309 - Validation accuracy: 0.9787                     \n",
      "Epoch 132/300 --> loss: 0.1878 - accuracy: 0.9678 | Validation loss: 0.1267 - Validation accuracy: 0.9787                     \n",
      "Epoch 133/300 --> loss: 0.1795 - accuracy: 0.9652 | Validation loss: 0.1263 - Validation accuracy: 0.9822                     \n",
      "Epoch 134/300 --> loss: 0.1938 - accuracy: 0.9626 | Validation loss: 0.1262 - Validation accuracy: 0.9789                     \n",
      "Epoch 135/300 --> loss: 0.1843 - accuracy: 0.9705 | Validation loss: 0.1200 - Validation accuracy: 0.9822                     \n",
      "Epoch 136/300 --> loss: 0.1889 - accuracy: 0.9617 | Validation loss: 0.1192 - Validation accuracy: 0.9859                     \n",
      "Epoch 137/300 --> loss: 0.1703 - accuracy: 0.9688 | Validation loss: 0.1203 - Validation accuracy: 0.9792                     \n",
      "Epoch 138/300 --> loss: 0.1924 - accuracy: 0.9618 | Validation loss: 0.1162 - Validation accuracy: 0.9822                     \n",
      "Epoch 139/300 --> loss: 0.1840 - accuracy: 0.9566 | Validation loss: 0.1194 - Validation accuracy: 0.9826                     \n",
      "Epoch 140/300 --> loss: 0.1936 - accuracy: 0.9618 | Validation loss: 0.1136 - Validation accuracy: 0.9824                     \n",
      "Epoch 141/300 --> loss: 0.1913 - accuracy: 0.9617 | Validation loss: 0.1086 - Validation accuracy: 0.9822                     \n",
      "Epoch 142/300 --> loss: 0.1683 - accuracy: 0.9686 | Validation loss: 0.1078 - Validation accuracy: 0.9822                     \n",
      "Epoch 143/300 --> loss: 0.1803 - accuracy: 0.9635 | Validation loss: 0.1063 - Validation accuracy: 0.9822                     \n",
      "Epoch 144/300 --> loss: 0.1782 - accuracy: 0.9608 | Validation loss: 0.1053 - Validation accuracy: 0.9896                     \n",
      "Epoch 145/300 --> loss: 0.1751 - accuracy: 0.9609 | Validation loss: 0.1065 - Validation accuracy: 0.9787                     \n",
      "Epoch 146/300 --> loss: 0.1864 - accuracy: 0.9583 | Validation loss: 0.1040 - Validation accuracy: 0.9826                     \n",
      "Epoch 147/300 --> loss: 0.1788 - accuracy: 0.9583 | Validation loss: 0.1077 - Validation accuracy: 0.9789                     \n",
      "Epoch 148/300 --> loss: 0.1668 - accuracy: 0.9688 | Validation loss: 0.1028 - Validation accuracy: 0.9789                     \n",
      "Epoch 149/300 --> loss: 0.1724 - accuracy: 0.9626 | Validation loss: 0.1028 - Validation accuracy: 0.9824                     \n",
      "Epoch 150/300 --> loss: 0.1575 - accuracy: 0.9635 | Validation loss: 0.1013 - Validation accuracy: 0.9859                     \n",
      "Epoch 151/300 --> loss: 0.1895 - accuracy: 0.9531 | Validation loss: 0.1041 - Validation accuracy: 0.9824                     \n",
      "Epoch 152/300 --> loss: 0.1796 - accuracy: 0.9626 | Validation loss: 0.1018 - Validation accuracy: 0.9755                     \n",
      "Epoch 153/300 --> loss: 0.1624 - accuracy: 0.9660 | Validation loss: 0.1016 - Validation accuracy: 0.9789                     \n",
      "Epoch 154/300 --> loss: 0.1651 - accuracy: 0.9644 | Validation loss: 0.1041 - Validation accuracy: 0.9718                     \n",
      "Epoch 155/300 --> loss: 0.1636 - accuracy: 0.9644 | Validation loss: 0.0975 - Validation accuracy: 0.9859                     \n",
      "Epoch 156/300 --> loss: 0.1658 - accuracy: 0.9626 | Validation loss: 0.1012 - Validation accuracy: 0.9789                     \n",
      "Epoch 157/300 --> loss: 0.1642 - accuracy: 0.9626 | Validation loss: 0.0969 - Validation accuracy: 0.9824                     \n",
      "Epoch 158/300 --> loss: 0.1578 - accuracy: 0.9670 | Validation loss: 0.0961 - Validation accuracy: 0.9896                     \n",
      "Epoch 159/300 --> loss: 0.1535 - accuracy: 0.9705 | Validation loss: 0.0964 - Validation accuracy: 0.9824                     \n",
      "Epoch 160/300 --> loss: 0.1408 - accuracy: 0.9722 | Validation loss: 0.0951 - Validation accuracy: 0.9752                     \n",
      "Epoch 161/300 --> loss: 0.1547 - accuracy: 0.9660 | Validation loss: 0.0973 - Validation accuracy: 0.9752                     \n",
      "Epoch 162/300 --> loss: 0.1475 - accuracy: 0.9714 | Validation loss: 0.0951 - Validation accuracy: 0.9822                     \n",
      "Epoch 163/300 --> loss: 0.1344 - accuracy: 0.9714 | Validation loss: 0.0965 - Validation accuracy: 0.9826                     \n",
      "Epoch 164/300 --> loss: 0.1544 - accuracy: 0.9696 | Validation loss: 0.0960 - Validation accuracy: 0.9859                     \n",
      "Epoch 165/300 --> loss: 0.1495 - accuracy: 0.9704 | Validation loss: 0.0973 - Validation accuracy: 0.9789                     \n",
      "Epoch 166/300 --> loss: 0.1649 - accuracy: 0.9617 | Validation loss: 0.0963 - Validation accuracy: 0.9787                     \n",
      "Epoch 167/300 --> loss: 0.1572 - accuracy: 0.9627 | Validation loss: 0.0998 - Validation accuracy: 0.9720                     \n",
      "Epoch 168/300 --> loss: 0.1244 - accuracy: 0.9756 | Validation loss: 0.0938 - Validation accuracy: 0.9824                     \n",
      "Epoch 169/300 --> loss: 0.1389 - accuracy: 0.9766 | Validation loss: 0.0891 - Validation accuracy: 0.9822                     \n",
      "Epoch 170/300 --> loss: 0.1387 - accuracy: 0.9660 | Validation loss: 0.0913 - Validation accuracy: 0.9787                     \n",
      "Epoch 171/300 --> loss: 0.1433 - accuracy: 0.9661 | Validation loss: 0.0923 - Validation accuracy: 0.9792                     \n",
      "Epoch 172/300 --> loss: 0.1419 - accuracy: 0.9653 | Validation loss: 0.0919 - Validation accuracy: 0.9752                     \n",
      "Epoch 173/300 --> loss: 0.1386 - accuracy: 0.9757 | Validation loss: 0.0861 - Validation accuracy: 0.9859                     \n",
      "Epoch 174/300 --> loss: 0.1496 - accuracy: 0.9635 | Validation loss: 0.0903 - Validation accuracy: 0.9755                     \n",
      "Epoch 175/300 --> loss: 0.1718 - accuracy: 0.9547 | Validation loss: 0.0875 - Validation accuracy: 0.9824                     \n",
      "Epoch 176/300 --> loss: 0.1298 - accuracy: 0.9713 | Validation loss: 0.0956 - Validation accuracy: 0.9792                     \n",
      "Epoch 177/300 --> loss: 0.1257 - accuracy: 0.9740 | Validation loss: 0.0899 - Validation accuracy: 0.9752                     \n",
      "Epoch 178/300 --> loss: 0.1422 - accuracy: 0.9661 | Validation loss: 0.0844 - Validation accuracy: 0.9826                     \n",
      "Epoch 179/300 --> loss: 0.1512 - accuracy: 0.9644 | Validation loss: 0.0806 - Validation accuracy: 0.9896                     \n",
      "Epoch 180/300 --> loss: 0.1421 - accuracy: 0.9652 | Validation loss: 0.0823 - Validation accuracy: 0.9856                     \n",
      "Epoch 181/300 --> loss: 0.1446 - accuracy: 0.9696 | Validation loss: 0.0890 - Validation accuracy: 0.9824                     \n",
      "Epoch 182/300 --> loss: 0.1338 - accuracy: 0.9696 | Validation loss: 0.0838 - Validation accuracy: 0.9826                     \n",
      "Epoch 183/300 --> loss: 0.1218 - accuracy: 0.9748 | Validation loss: 0.0841 - Validation accuracy: 0.9787                     \n",
      "Epoch 184/300 --> loss: 0.1386 - accuracy: 0.9687 | Validation loss: 0.0817 - Validation accuracy: 0.9822                     \n",
      "Epoch 185/300 --> loss: 0.1337 - accuracy: 0.9670 | Validation loss: 0.0833 - Validation accuracy: 0.9859                     \n",
      "Epoch 186/300 --> loss: 0.1398 - accuracy: 0.9661 | Validation loss: 0.0896 - Validation accuracy: 0.9718                     \n",
      "Epoch 187/300 --> loss: 0.1465 - accuracy: 0.9635 | Validation loss: 0.0849 - Validation accuracy: 0.9822                     \n",
      "Epoch 188/300 --> loss: 0.1384 - accuracy: 0.9705 | Validation loss: 0.0862 - Validation accuracy: 0.9824                     \n",
      "Epoch 189/300 --> loss: 0.1379 - accuracy: 0.9653 | Validation loss: 0.0803 - Validation accuracy: 0.9787                     \n",
      "Epoch 190/300 --> loss: 0.1249 - accuracy: 0.9687 | Validation loss: 0.0870 - Validation accuracy: 0.9859                     \n",
      "Epoch 191/300 --> loss: 0.1126 - accuracy: 0.9765 | Validation loss: 0.0843 - Validation accuracy: 0.9824                     \n",
      "Epoch 192/300 --> loss: 0.1275 - accuracy: 0.9748 | Validation loss: 0.0830 - Validation accuracy: 0.9822                     \n",
      "Epoch 193/300 --> loss: 0.1414 - accuracy: 0.9679 | Validation loss: 0.0772 - Validation accuracy: 0.9856                     \n",
      "Epoch 194/300 --> loss: 0.1256 - accuracy: 0.9688 | Validation loss: 0.0761 - Validation accuracy: 0.9891                     \n",
      "Epoch 195/300 --> loss: 0.1289 - accuracy: 0.9660 | Validation loss: 0.0727 - Validation accuracy: 0.9856                     \n",
      "Epoch 196/300 --> loss: 0.1267 - accuracy: 0.9722 | Validation loss: 0.0782 - Validation accuracy: 0.9824                     \n",
      "Epoch 197/300 --> loss: 0.1025 - accuracy: 0.9792 | Validation loss: 0.0724 - Validation accuracy: 0.9894                     \n",
      "Epoch 198/300 --> loss: 0.1162 - accuracy: 0.9670 | Validation loss: 0.0757 - Validation accuracy: 0.9859                     \n",
      "Epoch 199/300 --> loss: 0.1209 - accuracy: 0.9731 | Validation loss: 0.0721 - Validation accuracy: 0.9896                     \n",
      "Epoch 200/300 --> loss: 0.1355 - accuracy: 0.9679 | Validation loss: 0.0755 - Validation accuracy: 0.9824                     \n",
      "Epoch 201/300 --> loss: 0.1193 - accuracy: 0.9714 | Validation loss: 0.0749 - Validation accuracy: 0.9859                     \n",
      "Epoch 202/300 --> loss: 0.1223 - accuracy: 0.9704 | Validation loss: 0.0714 - Validation accuracy: 0.9822                     \n",
      "Epoch 203/300 --> loss: 0.1102 - accuracy: 0.9722 | Validation loss: 0.0732 - Validation accuracy: 0.9787                     \n",
      "Epoch 204/300 --> loss: 0.1051 - accuracy: 0.9809 | Validation loss: 0.0710 - Validation accuracy: 0.9894                     \n",
      "Epoch 205/300 --> loss: 0.1162 - accuracy: 0.9748 | Validation loss: 0.0726 - Validation accuracy: 0.9894                     \n",
      "Epoch 206/300 --> loss: 0.1134 - accuracy: 0.9696 | Validation loss: 0.0720 - Validation accuracy: 0.9856                     \n",
      "Epoch 207/300 --> loss: 0.1241 - accuracy: 0.9686 | Validation loss: 0.0722 - Validation accuracy: 0.9824                     \n",
      "Epoch 208/300 --> loss: 0.1118 - accuracy: 0.9783 | Validation loss: 0.0712 - Validation accuracy: 0.9856                     \n",
      "Epoch 209/300 --> loss: 0.1043 - accuracy: 0.9826 | Validation loss: 0.0682 - Validation accuracy: 0.9928                     \n",
      "Epoch 210/300 --> loss: 0.1146 - accuracy: 0.9740 | Validation loss: 0.0643 - Validation accuracy: 0.9894                     \n",
      "Epoch 211/300 --> loss: 0.1310 - accuracy: 0.9661 | Validation loss: 0.0630 - Validation accuracy: 0.9894                     \n",
      "Epoch 212/300 --> loss: 0.1049 - accuracy: 0.9748 | Validation loss: 0.0800 - Validation accuracy: 0.9789                     \n",
      "Epoch 213/300 --> loss: 0.1194 - accuracy: 0.9688 | Validation loss: 0.0661 - Validation accuracy: 0.9894                     \n",
      "Epoch 214/300 --> loss: 0.1107 - accuracy: 0.9783 | Validation loss: 0.0635 - Validation accuracy: 0.9928                     \n",
      "Epoch 215/300 --> loss: 0.1060 - accuracy: 0.9766 | Validation loss: 0.0676 - Validation accuracy: 0.9824                     \n",
      "Epoch 216/300 --> loss: 0.1240 - accuracy: 0.9635 | Validation loss: 0.0633 - Validation accuracy: 0.9928                     \n",
      "Epoch 217/300 --> loss: 0.1312 - accuracy: 0.9652 | Validation loss: 0.0658 - Validation accuracy: 0.9856                     \n",
      "Epoch 218/300 --> loss: 0.1179 - accuracy: 0.9635 | Validation loss: 0.0662 - Validation accuracy: 0.9928                     \n",
      "Epoch 219/300 --> loss: 0.1080 - accuracy: 0.9766 | Validation loss: 0.0648 - Validation accuracy: 0.9928                     \n",
      "Epoch 220/300 --> loss: 0.1125 - accuracy: 0.9740 | Validation loss: 0.0668 - Validation accuracy: 0.9894                     \n",
      "Epoch 221/300 --> loss: 0.1118 - accuracy: 0.9722 | Validation loss: 0.0630 - Validation accuracy: 0.9896                     \n",
      "Epoch 222/300 --> loss: 0.1142 - accuracy: 0.9757 | Validation loss: 0.0622 - Validation accuracy: 0.9896                     \n",
      "Epoch 223/300 --> loss: 0.1305 - accuracy: 0.9696 | Validation loss: 0.0676 - Validation accuracy: 0.9824                     \n",
      "Epoch 224/300 --> loss: 0.1023 - accuracy: 0.9722 | Validation loss: 0.0667 - Validation accuracy: 0.9824                     \n",
      "Epoch 225/300 --> loss: 0.1267 - accuracy: 0.9722 | Validation loss: 0.0664 - Validation accuracy: 0.9894                     \n",
      "Epoch 226/300 --> loss: 0.1160 - accuracy: 0.9730 | Validation loss: 0.0613 - Validation accuracy: 0.9894                     \n",
      "Epoch 227/300 --> loss: 0.1014 - accuracy: 0.9783 | Validation loss: 0.0642 - Validation accuracy: 0.9859                     \n",
      "Epoch 228/300 --> loss: 0.0997 - accuracy: 0.9748 | Validation loss: 0.0593 - Validation accuracy: 0.9861                     \n",
      "Epoch 229/300 --> loss: 0.1078 - accuracy: 0.9696 | Validation loss: 0.0600 - Validation accuracy: 0.9894                     \n",
      "Epoch 230/300 --> loss: 0.1138 - accuracy: 0.9722 | Validation loss: 0.0590 - Validation accuracy: 0.9928                     \n",
      "Epoch 231/300 --> loss: 0.1042 - accuracy: 0.9740 | Validation loss: 0.0553 - Validation accuracy: 0.9894                     \n",
      "Epoch 232/300 --> loss: 0.0940 - accuracy: 0.9809 | Validation loss: 0.0591 - Validation accuracy: 0.9859                     \n",
      "Epoch 233/300 --> loss: 0.1029 - accuracy: 0.9738 | Validation loss: 0.0639 - Validation accuracy: 0.9859                     \n",
      "Epoch 234/300 --> loss: 0.1157 - accuracy: 0.9687 | Validation loss: 0.0717 - Validation accuracy: 0.9826                     \n",
      "Epoch 235/300 --> loss: 0.1023 - accuracy: 0.9722 | Validation loss: 0.0657 - Validation accuracy: 0.9824                     \n",
      "Epoch 236/300 --> loss: 0.0933 - accuracy: 0.9783 | Validation loss: 0.0631 - Validation accuracy: 0.9856                     \n",
      "Epoch 237/300 --> loss: 0.0901 - accuracy: 0.9731 | Validation loss: 0.0594 - Validation accuracy: 0.9856                     \n",
      "Epoch 238/300 --> loss: 0.0922 - accuracy: 0.9791 | Validation loss: 0.0625 - Validation accuracy: 0.9894                     \n",
      "Epoch 239/300 --> loss: 0.0785 - accuracy: 0.9861 | Validation loss: 0.0650 - Validation accuracy: 0.9859                     \n",
      "Epoch 240/300 --> loss: 0.0976 - accuracy: 0.9757 | Validation loss: 0.0650 - Validation accuracy: 0.9896                     \n",
      "Epoch 241/300 --> loss: 0.1053 - accuracy: 0.9705 | Validation loss: 0.0630 - Validation accuracy: 0.9859                     \n",
      "Early stopping: stopping training after 241 epochs.\n"
     ]
    }
   ],
   "source": [
    "history = model.fit(\n",
    "    X_train = X_train, \n",
    "    y_train = y_train_encoded,\n",
    "    optimizer = optimizer,\n",
    "    loss_fn = loss_fn,\n",
    "    X_valid = X_valid,\n",
    "    y_valid = y_valid_encoded,\n",
    "    batch_size = batch_size,\n",
    "    epochs = epochs,\n",
    "    metrics = [metrics.accuracy],\n",
    "    callbacks = [callbacks.EarlyStopping(monitor='val_loss', patience=10)]\n",
    ")"
   ]
  },
  {
   "cell_type": "code",
   "execution_count": 12,
   "metadata": {},
   "outputs": [
    {
     "data": {
      "image/png": "[encoded data removed]",
      "text/plain": [
       "<Figure size 800x400 with 1 Axes>"
      ]
     },
     "metadata": {},
     "output_type": "display_data"
    }
   ],
   "source": [
    "# Plot the training and validation loss\n",
    "data_analysis.plot_history(history[\"loss\"], history[\"val_loss\"], \"Training and Validation Loss\", \"Epoch\", \"Loss\")"
   ]
  },
  {
   "cell_type": "markdown",
   "metadata": {},
   "source": [
    "### Model evaluation"
   ]
  },
  {
   "cell_type": "code",
   "execution_count": 13,
   "metadata": {},
   "outputs": [],
   "source": [
    "# Predict the labels\n",
    "predictions = model(X_test)\n",
    "\n",
    "# Apply the argmax function to the predictions\n",
    "predictions = Tensor(np.argmax(predictions.data, axis=1), dtype=np.int8)"
   ]
  },
  {
   "cell_type": "code",
   "execution_count": 14,
   "metadata": {},
   "outputs": [
    {
     "name": "stdout",
     "output_type": "stream",
     "text": [
      "Accuracy: 0.98\n"
     ]
    },
    {
     "data": {
      "image/png": "[encoded data removed]",
      "text/plain": [
       "<Figure size 600x600 with 1 Axes>"
      ]
     },
     "metadata": {},
     "output_type": "display_data"
    }
   ],
   "source": [
    "# Compute the accuracy\n",
    "accuracy = metrics.accuracy(y_test, predictions)\n",
    "confusion_matrix = metrics.confusion_matrix(num_classes, y_test, predictions)\n",
    "\n",
    "# Print the accuracy\n",
    "print(f\"Accuracy: {accuracy.data:.2f}\")\n",
    "\n",
    "# Plot the confusion matrix\n",
    "data_analysis.plot_confusion_matrix(confusion_matrix.data)"
   ]
  }
 ],
 "metadata": {
  "kernelspec": {
   "display_name": "venv",
   "language": "python",
   "name": "python3"
  },
  "language_info": {
   "codemirror_mode": {
    "name": "ipython",
    "version": 3
   },
   "file_extension": ".py",
   "mimetype": "text/x-python",
   "name": "python",
   "nbconvert_exporter": "python",
   "pygments_lexer": "ipython3",
   "version": "3.11.11"
  }
 },
 "nbformat": 4,
 "nbformat_minor": 2
}
