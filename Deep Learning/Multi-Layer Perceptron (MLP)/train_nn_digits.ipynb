{
 "cells": [
  {
   "cell_type": "code",
   "execution_count": 1,
   "metadata": {},
   "outputs": [],
   "source": [
    "import sys\n",
    "import numpy as np\n",
    "import matplotlib.pyplot as plt\n",
    "from sklearn.datasets import load_digits\n",
    "\n",
    "# Add the path to the custom library to the system path\n",
    "sys.path.append('..')\n",
    "\n",
    "# Import the module from the custom library\n",
    "from src import utils\n",
    "from src import Model\n",
    "from src import layers\n",
    "from src import Tensor\n",
    "from src import metrics\n",
    "from src import callbacks\n",
    "from src import optimizers\n",
    "from src import activations\n",
    "from src import loss_functions"
   ]
  },
  {
   "cell_type": "markdown",
   "metadata": {},
   "source": [
    "### Constants and Hyperparameters"
   ]
  },
  {
   "cell_type": "code",
   "execution_count": 2,
   "metadata": {},
   "outputs": [],
   "source": [
    "train_test_split_pct = 0.2 # Percentage of samples to use for testing\n",
    "train_valid_split = 0.2 # Percentage of samples to use for validation\n",
    "learning_rate = 1e-4 # Learning rate for the optimizer\n",
    "batch_size = 16 # Number of samples to use for each batch\n",
    "epochs = 300 # Number of epochs to train the model\n",
    "seed = 1234 # Seed for reproducibility"
   ]
  },
  {
   "cell_type": "code",
   "execution_count": 3,
   "metadata": {},
   "outputs": [],
   "source": [
    "# Set the seed for reproducibility\n",
    "np.random.seed(seed)"
   ]
  },
  {
   "cell_type": "markdown",
   "metadata": {},
   "source": [
    "### Data loading"
   ]
  },
  {
   "cell_type": "code",
   "execution_count": null,
   "metadata": {},
   "outputs": [
    {
     "name": "stdout",
     "output_type": "stream",
     "text": [
      "Number of classes: 10\n",
      "Training set: (1151, 64) (1151,)\n",
      "Validation set: (287, 64) (287,)\n",
      "Testing set: (359, 64) (359,)\n"
     ]
    }
   ],
   "source": [
    "# Load the digits dataset\n",
    "digits = load_digits()\n",
    "\n",
    "# Extract the number of classes in the dataset\n",
    "num_classes = len(np.unique(digits['target'])) # type: ignore\n",
    "\n",
    "# Extract the input and output data\n",
    "data = Tensor(data=digits.get(\"data\", [])) # type: ignore\n",
    "labels = Tensor(data=digits.get(\"target\", []), dtype=np.int8) # type: ignore\n",
    "\n",
    "# Split the dataset into training, validation, and testing sets\n",
    "X_train, X_test, y_train, y_test = utils.split_data((data, labels), train_test_split_pct, shuffle=True) # type: ignore\n",
    "X_train, X_valid, y_train, y_valid = utils.split_data((X_train, y_train), train_valid_split, shuffle=True) # type: ignore\n",
    "\n",
    "# Print the dataset information\n",
    "print(\"Number of classes:\", num_classes)\n",
    "print('Training set:', X_train.shape(), y_train.shape())\n",
    "print('Validation set:', X_valid.shape(), y_valid.shape())\n",
    "print('Testing set:', X_test.shape(), y_test.shape())"
   ]
  },
  {
   "cell_type": "markdown",
   "metadata": {},
   "source": [
    "### Data Preprocessing"
   ]
  },
  {
   "cell_type": "code",
   "execution_count": 5,
   "metadata": {},
   "outputs": [],
   "source": [
    "# Normalization\n",
    "def normalize(X: Tensor) -> Tensor:\n",
    "    \"\"\"\n",
    "    Normalize the input data by dividing by the maximum value in the training set.\n",
    "    \n",
    "    Parameters:\n",
    "    - X (Tensor): The input data to normalize\n",
    "    \n",
    "    Returns:\n",
    "    - Tensor: The normalized input data\n",
    "    \"\"\"\n",
    "    \n",
    "    # Normalize the input data\n",
    "    return X / 255.0\n",
    "\n",
    "# Normalize the input data\n",
    "X_train = normalize(X_train)\n",
    "X_valid = normalize(X_valid)\n",
    "X_test = normalize(X_test)"
   ]
  },
  {
   "cell_type": "code",
   "execution_count": 6,
   "metadata": {},
   "outputs": [
    {
     "name": "stdout",
     "output_type": "stream",
     "text": [
      "Sample target value: 3\n",
      "One-hot encoded value: Tensor([0 0 0 1 0 0 0 0 0 0], shape=(10,), dtype=int8)\n"
     ]
    }
   ],
   "source": [
    "# Convert the target values to one-hot encoded vectors\n",
    "y_train_encoded = utils.one_hot_encoding(y=y_train, n_classes=num_classes)\n",
    "y_valid_encoded = utils.one_hot_encoding(y=y_valid, n_classes=num_classes)\n",
    "\n",
    "# Print one sample encoding\n",
    "print(\"Sample target value:\", y_train[0].data)\n",
    "print(\"One-hot encoded value:\", y_train_encoded[0])"
   ]
  },
  {
   "cell_type": "markdown",
   "metadata": {},
   "source": [
    "### Data visualization"
   ]
  },
  {
   "cell_type": "code",
   "execution_count": 7,
   "metadata": {},
   "outputs": [
    {
     "data": {
      "image/png": "[encoded data removed]",
      "text/plain": [
       "<Figure size 2000x500 with 10 Axes>"
      ]
     },
     "metadata": {},
     "output_type": "display_data"
    }
   ],
   "source": [
    "def plot_samples(samples: list[np.ndarray], labels: list[np.ndarray]) -> None:\n",
    "    \"\"\"\n",
    "    Plot the samples in a grid.\n",
    "    \n",
    "    Parameters:\n",
    "    - samples (list[np.ndarray]): The samples to plot\n",
    "    - labels (list[np.ndarray]): The labels of the samples\n",
    "    \"\"\"\n",
    "    \n",
    "    reshaped_samples = []\n",
    "    \n",
    "    # Iterate over the samples\n",
    "    for sample in samples:\n",
    "        # Compute the new shape\n",
    "        new_shape = np.sqrt(sample.shape).astype(int)[0]\n",
    "        \n",
    "        # Reshape the sample\n",
    "        sample = sample.reshape(new_shape, new_shape)\n",
    "        \n",
    "        # Append the reshaped sample\n",
    "        reshaped_samples.append(sample)\n",
    "        \n",
    "    # Plot the samples in a grid\n",
    "    _, axes = plt.subplots(1, len(samples), figsize=(20, 5))\n",
    "    for i, ax in enumerate(axes):\n",
    "        ax.imshow(reshaped_samples[i], cmap='gray')\n",
    "        ax.set_title(f'Label: {labels[i]}')\n",
    "        ax.axis('off')\n",
    "        \n",
    "        \n",
    "# Plot the first 10 samples\n",
    "plot_samples(list(X_train.data[:10]), list(y_train.data[:10]))"
   ]
  },
  {
   "cell_type": "markdown",
   "metadata": {},
   "source": [
    "### Building the model"
   ]
  },
  {
   "cell_type": "code",
   "execution_count": 8,
   "metadata": {},
   "outputs": [],
   "source": [
    "\n",
    "model = Model(\n",
    "    name = \"Digits Classifier\",\n",
    "    modules = [\n",
    "        layers.Dense(num_units=24, activation=activations.ReLU()),\n",
    "        layers.BatchNormalization(momentum=0.9),\n",
    "        layers.Dropout(rate=0.1),\n",
    "        layers.Dense(num_units=32, activation=activations.ReLU()),\n",
    "        layers.Dropout(rate=0.1),\n",
    "        layers.Dense(num_units=12, activation=activations.Tanh()),\n",
    "        layers.Dropout(rate=0.1),\n",
    "        layers.Dense(num_units=num_classes, activation=activations.Softmax())\n",
    "    ]\n",
    ")\n",
    "\n",
    "# Initialize the optimizer\n",
    "optimizer = optimizers.Adam(learning_rate=learning_rate)\n",
    "\n",
    "# Initialize the loss function\n",
    "loss_fn = loss_functions.CategoricalCrossEntropy()"
   ]
  },
  {
   "cell_type": "code",
   "execution_count": 9,
   "metadata": {},
   "outputs": [],
   "source": [
    "# Call the model with a first batch to initialize the weights\n",
    "# This is not necessary, but it is useful to know the input size\n",
    "model(X_train[:batch_size]);"
   ]
  },
  {
   "cell_type": "code",
   "execution_count": 10,
   "metadata": {},
   "outputs": [
    {
     "name": "stdout",
     "output_type": "stream",
     "text": [
      "\n",
      "Digits Classifier (ID: 0)\n",
      "\n",
      "--------------------------------------------------------------------------------\n",
      "Module (type)                           Output Shape        Trainable params #  \n",
      "================================================================================\n",
      "dense_1 (Dense)                         (16, 24)            1560                \n",
      "--------------------------------------------------------------------------------\n",
      "batch_normalization_2                   \n",
      "(BatchNormalization)                    (16, 24)            48                  \n",
      "--------------------------------------------------------------------------------\n",
      "dropout_3 (Dropout)                     (16, 24)            0                   \n",
      "--------------------------------------------------------------------------------\n",
      "dense_4 (Dense)                         (16, 32)            800                 \n",
      "--------------------------------------------------------------------------------\n",
      "dropout_5 (Dropout)                     (16, 32)            0                   \n",
      "--------------------------------------------------------------------------------\n",
      "dense_6 (Dense)                         (16, 12)            396                 \n",
      "--------------------------------------------------------------------------------\n",
      "dropout_7 (Dropout)                     (16, 12)            0                   \n",
      "--------------------------------------------------------------------------------\n",
      "dense_8 (Dense)                         (16, 10)            130                 \n",
      "================================================================================\n",
      "Total trainable parameters: 2934\n",
      "--------------------------------------------------------------------------------\n"
     ]
    }
   ],
   "source": [
    "# Display the model summary\n",
    "model.summary()"
   ]
  },
  {
   "cell_type": "markdown",
   "metadata": {},
   "source": [
    "### Training the model"
   ]
  },
  {
   "cell_type": "code",
   "execution_count": 11,
   "metadata": {},
   "outputs": [
    {
     "name": "stdout",
     "output_type": "stream",
     "text": [
      "Epoch 1/300 --> loss: 2.2843 - accuracy: 0.1224 | Validation loss: 2.2874 - Validation accuracy: 0.1397\n",
      "Epoch 2/300 --> loss: 2.2351 - accuracy: 0.2130 | Validation loss: 2.2091 - Validation accuracy: 0.2647\n",
      "Epoch 3/300 --> loss: 2.1922 - accuracy: 0.2790 | Validation loss: 2.1561 - Validation accuracy: 0.3603\n",
      "Epoch 4/300 --> loss: 2.1372 - accuracy: 0.3600 | Validation loss: 2.1046 - Validation accuracy: 0.4154\n",
      "Epoch 5/300 --> loss: 2.0868 - accuracy: 0.4217 | Validation loss: 2.0473 - Validation accuracy: 0.4596\n",
      "Epoch 6/300 --> loss: 2.0353 - accuracy: 0.4771 | Validation loss: 1.9822 - Validation accuracy: 0.4963\n",
      "Epoch 7/300 --> loss: 1.9740 - accuracy: 0.5088 | Validation loss: 1.9174 - Validation accuracy: 0.5147\n",
      "Epoch 8/300 --> loss: 1.9187 - accuracy: 0.5343 | Validation loss: 1.8657 - Validation accuracy: 0.5551\n",
      "Epoch 9/300 --> loss: 1.8654 - accuracy: 0.5519 | Validation loss: 1.7937 - Validation accuracy: 0.5662\n",
      "Epoch 10/300 --> loss: 1.8075 - accuracy: 0.5836 | Validation loss: 1.7309 - Validation accuracy: 0.5699\n",
      "Epoch 11/300 --> loss: 1.7487 - accuracy: 0.5801 | Validation loss: 1.6835 - Validation accuracy: 0.5772\n",
      "Epoch 12/300 --> loss: 1.6850 - accuracy: 0.5889 | Validation loss: 1.6230 - Validation accuracy: 0.5882\n",
      "Epoch 13/300 --> loss: 1.6366 - accuracy: 0.6065 | Validation loss: 1.5641 - Validation accuracy: 0.5993\n",
      "Epoch 14/300 --> loss: 1.5857 - accuracy: 0.6074 | Validation loss: 1.5139 - Validation accuracy: 0.6360\n",
      "Epoch 15/300 --> loss: 1.5332 - accuracy: 0.6452 | Validation loss: 1.4608 - Validation accuracy: 0.6581\n",
      "Epoch 16/300 --> loss: 1.4791 - accuracy: 0.6540 | Validation loss: 1.4155 - Validation accuracy: 0.6765\n",
      "Epoch 17/300 --> loss: 1.4505 - accuracy: 0.6532 | Validation loss: 1.3622 - Validation accuracy: 0.7059\n",
      "Epoch 18/300 --> loss: 1.4136 - accuracy: 0.6725 | Validation loss: 1.3284 - Validation accuracy: 0.6949\n",
      "Epoch 19/300 --> loss: 1.3855 - accuracy: 0.6761 | Validation loss: 1.2849 - Validation accuracy: 0.7132\n",
      "Epoch 20/300 --> loss: 1.3331 - accuracy: 0.6893 | Validation loss: 1.2424 - Validation accuracy: 0.7096\n",
      "Epoch 21/300 --> loss: 1.2944 - accuracy: 0.7016 | Validation loss: 1.2111 - Validation accuracy: 0.7132\n",
      "Epoch 22/300 --> loss: 1.2821 - accuracy: 0.6963 | Validation loss: 1.1771 - Validation accuracy: 0.7169\n",
      "Epoch 23/300 --> loss: 1.2451 - accuracy: 0.7130 | Validation loss: 1.1392 - Validation accuracy: 0.7537\n",
      "Epoch 24/300 --> loss: 1.1893 - accuracy: 0.7174 | Validation loss: 1.1066 - Validation accuracy: 0.7353\n",
      "Epoch 25/300 --> loss: 1.1707 - accuracy: 0.7183 | Validation loss: 1.0728 - Validation accuracy: 0.7647\n",
      "Epoch 26/300 --> loss: 1.1613 - accuracy: 0.7298 | Validation loss: 1.0407 - Validation accuracy: 0.7574\n",
      "Epoch 27/300 --> loss: 1.1168 - accuracy: 0.7412 | Validation loss: 1.0134 - Validation accuracy: 0.7647\n",
      "Epoch 28/300 --> loss: 1.0803 - accuracy: 0.7720 | Validation loss: 0.9842 - Validation accuracy: 0.7684\n",
      "Epoch 29/300 --> loss: 1.0772 - accuracy: 0.7465 | Validation loss: 0.9568 - Validation accuracy: 0.7794\n",
      "Epoch 30/300 --> loss: 1.0428 - accuracy: 0.7667 | Validation loss: 0.9321 - Validation accuracy: 0.7794\n",
      "Epoch 31/300 --> loss: 1.0138 - accuracy: 0.7835 | Validation loss: 0.9037 - Validation accuracy: 0.7831\n",
      "Epoch 32/300 --> loss: 1.0013 - accuracy: 0.7738 | Validation loss: 0.8767 - Validation accuracy: 0.7941\n",
      "Epoch 33/300 --> loss: 0.9700 - accuracy: 0.7676 | Validation loss: 0.8516 - Validation accuracy: 0.8088\n",
      "Epoch 34/300 --> loss: 0.9450 - accuracy: 0.7914 | Validation loss: 0.8293 - Validation accuracy: 0.8051\n",
      "Epoch 35/300 --> loss: 0.9304 - accuracy: 0.7905 | Validation loss: 0.8081 - Validation accuracy: 0.8162\n",
      "Epoch 36/300 --> loss: 0.8896 - accuracy: 0.8248 | Validation loss: 0.7884 - Validation accuracy: 0.8125\n",
      "Epoch 37/300 --> loss: 0.8787 - accuracy: 0.8125 | Validation loss: 0.7600 - Validation accuracy: 0.8456\n",
      "Epoch 38/300 --> loss: 0.8489 - accuracy: 0.8116 | Validation loss: 0.7491 - Validation accuracy: 0.8419\n",
      "Epoch 39/300 --> loss: 0.8533 - accuracy: 0.8239 | Validation loss: 0.7216 - Validation accuracy: 0.8566\n",
      "Epoch 40/300 --> loss: 0.8212 - accuracy: 0.8442 | Validation loss: 0.7119 - Validation accuracy: 0.8640\n",
      "Epoch 41/300 --> loss: 0.8094 - accuracy: 0.8336 | Validation loss: 0.6869 - Validation accuracy: 0.8824\n",
      "Epoch 42/300 --> loss: 0.7850 - accuracy: 0.8486 | Validation loss: 0.6649 - Validation accuracy: 0.8713\n",
      "Epoch 43/300 --> loss: 0.7601 - accuracy: 0.8574 | Validation loss: 0.6465 - Validation accuracy: 0.8971\n",
      "Epoch 44/300 --> loss: 0.7576 - accuracy: 0.8592 | Validation loss: 0.6348 - Validation accuracy: 0.9081\n",
      "Epoch 45/300 --> loss: 0.7300 - accuracy: 0.8653 | Validation loss: 0.6164 - Validation accuracy: 0.9191\n",
      "Epoch 46/300 --> loss: 0.7073 - accuracy: 0.8741 | Validation loss: 0.6053 - Validation accuracy: 0.9044\n",
      "Epoch 47/300 --> loss: 0.6963 - accuracy: 0.8706 | Validation loss: 0.5844 - Validation accuracy: 0.9228\n",
      "Epoch 48/300 --> loss: 0.6911 - accuracy: 0.8732 | Validation loss: 0.5701 - Validation accuracy: 0.9265\n",
      "Epoch 49/300 --> loss: 0.6945 - accuracy: 0.8688 | Validation loss: 0.5558 - Validation accuracy: 0.9449\n",
      "Epoch 50/300 --> loss: 0.6547 - accuracy: 0.8935 | Validation loss: 0.5401 - Validation accuracy: 0.9375\n",
      "Epoch 51/300 --> loss: 0.6345 - accuracy: 0.8917 | Validation loss: 0.5246 - Validation accuracy: 0.9485\n",
      "Epoch 52/300 --> loss: 0.6405 - accuracy: 0.8935 | Validation loss: 0.5107 - Validation accuracy: 0.9485\n",
      "Epoch 53/300 --> loss: 0.6356 - accuracy: 0.8838 | Validation loss: 0.4933 - Validation accuracy: 0.9559\n",
      "Epoch 54/300 --> loss: 0.6104 - accuracy: 0.8908 | Validation loss: 0.4870 - Validation accuracy: 0.9412\n",
      "Epoch 55/300 --> loss: 0.5974 - accuracy: 0.8952 | Validation loss: 0.4719 - Validation accuracy: 0.9522\n",
      "Epoch 56/300 --> loss: 0.5760 - accuracy: 0.9067 | Validation loss: 0.4596 - Validation accuracy: 0.9596\n",
      "Epoch 57/300 --> loss: 0.5544 - accuracy: 0.9155 | Validation loss: 0.4521 - Validation accuracy: 0.9522\n",
      "Epoch 58/300 --> loss: 0.5658 - accuracy: 0.9085 | Validation loss: 0.4413 - Validation accuracy: 0.9596\n",
      "Epoch 59/300 --> loss: 0.5497 - accuracy: 0.9076 | Validation loss: 0.4275 - Validation accuracy: 0.9596\n",
      "Epoch 60/300 --> loss: 0.5667 - accuracy: 0.8970 | Validation loss: 0.4167 - Validation accuracy: 0.9632\n",
      "Epoch 61/300 --> loss: 0.5403 - accuracy: 0.9111 | Validation loss: 0.4134 - Validation accuracy: 0.9632\n",
      "Epoch 62/300 --> loss: 0.5445 - accuracy: 0.9076 | Validation loss: 0.3990 - Validation accuracy: 0.9632\n",
      "Epoch 63/300 --> loss: 0.5018 - accuracy: 0.9225 | Validation loss: 0.3874 - Validation accuracy: 0.9632\n",
      "Epoch 64/300 --> loss: 0.4975 - accuracy: 0.9261 | Validation loss: 0.3863 - Validation accuracy: 0.9632\n",
      "Epoch 65/300 --> loss: 0.4934 - accuracy: 0.9190 | Validation loss: 0.3686 - Validation accuracy: 0.9669\n",
      "Epoch 66/300 --> loss: 0.4921 - accuracy: 0.9199 | Validation loss: 0.3681 - Validation accuracy: 0.9632\n",
      "Epoch 67/300 --> loss: 0.4902 - accuracy: 0.9173 | Validation loss: 0.3578 - Validation accuracy: 0.9669\n",
      "Epoch 68/300 --> loss: 0.4764 - accuracy: 0.9208 | Validation loss: 0.3525 - Validation accuracy: 0.9669\n",
      "Epoch 69/300 --> loss: 0.4498 - accuracy: 0.9234 | Validation loss: 0.3394 - Validation accuracy: 0.9669\n",
      "Epoch 70/300 --> loss: 0.4446 - accuracy: 0.9278 | Validation loss: 0.3317 - Validation accuracy: 0.9669\n",
      "Epoch 71/300 --> loss: 0.4350 - accuracy: 0.9287 | Validation loss: 0.3316 - Validation accuracy: 0.9669\n",
      "Epoch 72/300 --> loss: 0.4318 - accuracy: 0.9252 | Validation loss: 0.3185 - Validation accuracy: 0.9669\n",
      "Epoch 73/300 --> loss: 0.4312 - accuracy: 0.9243 | Validation loss: 0.3114 - Validation accuracy: 0.9706\n",
      "Epoch 74/300 --> loss: 0.3912 - accuracy: 0.9472 | Validation loss: 0.3042 - Validation accuracy: 0.9706\n",
      "Epoch 75/300 --> loss: 0.4123 - accuracy: 0.9349 | Validation loss: 0.2998 - Validation accuracy: 0.9706\n",
      "Epoch 76/300 --> loss: 0.4036 - accuracy: 0.9340 | Validation loss: 0.2902 - Validation accuracy: 0.9669\n",
      "Epoch 77/300 --> loss: 0.4042 - accuracy: 0.9340 | Validation loss: 0.2853 - Validation accuracy: 0.9706\n",
      "Epoch 78/300 --> loss: 0.3875 - accuracy: 0.9366 | Validation loss: 0.2797 - Validation accuracy: 0.9706\n",
      "Epoch 79/300 --> loss: 0.4087 - accuracy: 0.9243 | Validation loss: 0.2743 - Validation accuracy: 0.9743\n",
      "Epoch 80/300 --> loss: 0.4047 - accuracy: 0.9181 | Validation loss: 0.2675 - Validation accuracy: 0.9706\n",
      "Epoch 81/300 --> loss: 0.3728 - accuracy: 0.9357 | Validation loss: 0.2652 - Validation accuracy: 0.9743\n",
      "Epoch 82/300 --> loss: 0.3770 - accuracy: 0.9313 | Validation loss: 0.2629 - Validation accuracy: 0.9743\n",
      "Epoch 83/300 --> loss: 0.3757 - accuracy: 0.9322 | Validation loss: 0.2575 - Validation accuracy: 0.9743\n",
      "Epoch 84/300 --> loss: 0.3693 - accuracy: 0.9278 | Validation loss: 0.2525 - Validation accuracy: 0.9743\n",
      "Epoch 85/300 --> loss: 0.3581 - accuracy: 0.9393 | Validation loss: 0.2468 - Validation accuracy: 0.9779\n",
      "Epoch 86/300 --> loss: 0.3428 - accuracy: 0.9463 | Validation loss: 0.2431 - Validation accuracy: 0.9779\n",
      "Epoch 87/300 --> loss: 0.3617 - accuracy: 0.9340 | Validation loss: 0.2385 - Validation accuracy: 0.9669\n",
      "Epoch 88/300 --> loss: 0.3414 - accuracy: 0.9428 | Validation loss: 0.2345 - Validation accuracy: 0.9743\n",
      "Epoch 89/300 --> loss: 0.3331 - accuracy: 0.9401 | Validation loss: 0.2310 - Validation accuracy: 0.9743\n",
      "Epoch 90/300 --> loss: 0.3322 - accuracy: 0.9507 | Validation loss: 0.2228 - Validation accuracy: 0.9779\n",
      "Epoch 91/300 --> loss: 0.3105 - accuracy: 0.9507 | Validation loss: 0.2194 - Validation accuracy: 0.9743\n",
      "Epoch 92/300 --> loss: 0.3122 - accuracy: 0.9401 | Validation loss: 0.2254 - Validation accuracy: 0.9779\n",
      "Epoch 93/300 --> loss: 0.3008 - accuracy: 0.9454 | Validation loss: 0.2128 - Validation accuracy: 0.9779\n",
      "Epoch 94/300 --> loss: 0.3175 - accuracy: 0.9419 | Validation loss: 0.2092 - Validation accuracy: 0.9779\n",
      "Epoch 95/300 --> loss: 0.3102 - accuracy: 0.9489 | Validation loss: 0.2037 - Validation accuracy: 0.9779\n",
      "Epoch 96/300 --> loss: 0.3064 - accuracy: 0.9454 | Validation loss: 0.2059 - Validation accuracy: 0.9743\n",
      "Epoch 97/300 --> loss: 0.3071 - accuracy: 0.9410 | Validation loss: 0.1978 - Validation accuracy: 0.9779\n",
      "Epoch 98/300 --> loss: 0.3149 - accuracy: 0.9313 | Validation loss: 0.1924 - Validation accuracy: 0.9779\n",
      "Epoch 99/300 --> loss: 0.2897 - accuracy: 0.9498 | Validation loss: 0.1905 - Validation accuracy: 0.9743\n",
      "Epoch 100/300 --> loss: 0.2723 - accuracy: 0.9551 | Validation loss: 0.1961 - Validation accuracy: 0.9743\n",
      "Epoch 101/300 --> loss: 0.3079 - accuracy: 0.9313 | Validation loss: 0.1862 - Validation accuracy: 0.9779\n",
      "Epoch 102/300 --> loss: 0.2806 - accuracy: 0.9507 | Validation loss: 0.1803 - Validation accuracy: 0.9816\n",
      "Epoch 103/300 --> loss: 0.2690 - accuracy: 0.9569 | Validation loss: 0.1774 - Validation accuracy: 0.9779\n",
      "Epoch 104/300 --> loss: 0.2785 - accuracy: 0.9507 | Validation loss: 0.1789 - Validation accuracy: 0.9816\n",
      "Epoch 105/300 --> loss: 0.2698 - accuracy: 0.9516 | Validation loss: 0.1766 - Validation accuracy: 0.9779\n",
      "Epoch 106/300 --> loss: 0.2576 - accuracy: 0.9533 | Validation loss: 0.1720 - Validation accuracy: 0.9779\n",
      "Epoch 107/300 --> loss: 0.2611 - accuracy: 0.9577 | Validation loss: 0.1732 - Validation accuracy: 0.9816\n",
      "Epoch 108/300 --> loss: 0.2481 - accuracy: 0.9639 | Validation loss: 0.1702 - Validation accuracy: 0.9853\n",
      "Epoch 109/300 --> loss: 0.2623 - accuracy: 0.9560 | Validation loss: 0.1699 - Validation accuracy: 0.9779\n",
      "Epoch 110/300 --> loss: 0.2600 - accuracy: 0.9445 | Validation loss: 0.1611 - Validation accuracy: 0.9779\n",
      "Epoch 111/300 --> loss: 0.2533 - accuracy: 0.9516 | Validation loss: 0.1621 - Validation accuracy: 0.9779\n",
      "Epoch 112/300 --> loss: 0.2533 - accuracy: 0.9525 | Validation loss: 0.1620 - Validation accuracy: 0.9853\n",
      "Epoch 113/300 --> loss: 0.2309 - accuracy: 0.9577 | Validation loss: 0.1573 - Validation accuracy: 0.9816\n",
      "Epoch 114/300 --> loss: 0.2502 - accuracy: 0.9472 | Validation loss: 0.1539 - Validation accuracy: 0.9890\n",
      "Epoch 115/300 --> loss: 0.2510 - accuracy: 0.9472 | Validation loss: 0.1516 - Validation accuracy: 0.9816\n",
      "Epoch 116/300 --> loss: 0.2359 - accuracy: 0.9542 | Validation loss: 0.1435 - Validation accuracy: 0.9890\n",
      "Epoch 117/300 --> loss: 0.2499 - accuracy: 0.9428 | Validation loss: 0.1407 - Validation accuracy: 0.9890\n",
      "Epoch 118/300 --> loss: 0.2314 - accuracy: 0.9613 | Validation loss: 0.1472 - Validation accuracy: 0.9853\n",
      "Epoch 119/300 --> loss: 0.2246 - accuracy: 0.9560 | Validation loss: 0.1496 - Validation accuracy: 0.9779\n",
      "Epoch 120/300 --> loss: 0.2366 - accuracy: 0.9533 | Validation loss: 0.1396 - Validation accuracy: 0.9853\n",
      "Epoch 121/300 --> loss: 0.2292 - accuracy: 0.9516 | Validation loss: 0.1368 - Validation accuracy: 0.9853\n",
      "Epoch 122/300 --> loss: 0.2053 - accuracy: 0.9639 | Validation loss: 0.1313 - Validation accuracy: 0.9853\n",
      "Epoch 123/300 --> loss: 0.2345 - accuracy: 0.9516 | Validation loss: 0.1339 - Validation accuracy: 0.9853\n",
      "Epoch 124/300 --> loss: 0.2253 - accuracy: 0.9445 | Validation loss: 0.1328 - Validation accuracy: 0.9853\n",
      "Epoch 125/300 --> loss: 0.2341 - accuracy: 0.9525 | Validation loss: 0.1241 - Validation accuracy: 0.9853\n",
      "Epoch 126/300 --> loss: 0.2248 - accuracy: 0.9525 | Validation loss: 0.1266 - Validation accuracy: 0.9816\n",
      "Epoch 127/300 --> loss: 0.2139 - accuracy: 0.9586 | Validation loss: 0.1241 - Validation accuracy: 0.9853\n",
      "Epoch 128/300 --> loss: 0.2233 - accuracy: 0.9481 | Validation loss: 0.1218 - Validation accuracy: 0.9853\n",
      "Epoch 129/300 --> loss: 0.2208 - accuracy: 0.9472 | Validation loss: 0.1208 - Validation accuracy: 0.9853\n",
      "Epoch 130/300 --> loss: 0.2195 - accuracy: 0.9551 | Validation loss: 0.1325 - Validation accuracy: 0.9779\n",
      "Epoch 131/300 --> loss: 0.1943 - accuracy: 0.9621 | Validation loss: 0.1190 - Validation accuracy: 0.9853\n",
      "Epoch 132/300 --> loss: 0.1960 - accuracy: 0.9630 | Validation loss: 0.1140 - Validation accuracy: 0.9853\n",
      "Epoch 133/300 --> loss: 0.1934 - accuracy: 0.9639 | Validation loss: 0.1139 - Validation accuracy: 0.9853\n",
      "Epoch 134/300 --> loss: 0.1936 - accuracy: 0.9639 | Validation loss: 0.1143 - Validation accuracy: 0.9853\n",
      "Epoch 135/300 --> loss: 0.1839 - accuracy: 0.9674 | Validation loss: 0.1130 - Validation accuracy: 0.9853\n",
      "Epoch 136/300 --> loss: 0.1955 - accuracy: 0.9630 | Validation loss: 0.1108 - Validation accuracy: 0.9853\n",
      "Epoch 137/300 --> loss: 0.1823 - accuracy: 0.9657 | Validation loss: 0.1083 - Validation accuracy: 0.9853\n",
      "Epoch 138/300 --> loss: 0.1880 - accuracy: 0.9604 | Validation loss: 0.1106 - Validation accuracy: 0.9853\n",
      "Epoch 139/300 --> loss: 0.1824 - accuracy: 0.9586 | Validation loss: 0.1075 - Validation accuracy: 0.9890\n",
      "Epoch 140/300 --> loss: 0.2046 - accuracy: 0.9507 | Validation loss: 0.1059 - Validation accuracy: 0.9890\n",
      "Epoch 141/300 --> loss: 0.1798 - accuracy: 0.9621 | Validation loss: 0.1044 - Validation accuracy: 0.9890\n",
      "Epoch 142/300 --> loss: 0.1940 - accuracy: 0.9507 | Validation loss: 0.0996 - Validation accuracy: 0.9926\n",
      "Epoch 143/300 --> loss: 0.1756 - accuracy: 0.9621 | Validation loss: 0.1062 - Validation accuracy: 0.9853\n",
      "Epoch 144/300 --> loss: 0.1959 - accuracy: 0.9516 | Validation loss: 0.0992 - Validation accuracy: 0.9890\n",
      "Epoch 145/300 --> loss: 0.1698 - accuracy: 0.9674 | Validation loss: 0.1026 - Validation accuracy: 0.9853\n",
      "Epoch 146/300 --> loss: 0.1728 - accuracy: 0.9595 | Validation loss: 0.0990 - Validation accuracy: 0.9853\n",
      "Epoch 147/300 --> loss: 0.1812 - accuracy: 0.9604 | Validation loss: 0.0944 - Validation accuracy: 0.9890\n",
      "Epoch 148/300 --> loss: 0.1762 - accuracy: 0.9595 | Validation loss: 0.0947 - Validation accuracy: 0.9926\n",
      "Epoch 149/300 --> loss: 0.1888 - accuracy: 0.9569 | Validation loss: 0.0896 - Validation accuracy: 0.9890\n",
      "Epoch 150/300 --> loss: 0.1624 - accuracy: 0.9683 | Validation loss: 0.0884 - Validation accuracy: 0.9853\n",
      "Epoch 151/300 --> loss: 0.1796 - accuracy: 0.9621 | Validation loss: 0.0932 - Validation accuracy: 0.9890\n",
      "Epoch 152/300 --> loss: 0.1583 - accuracy: 0.9692 | Validation loss: 0.0925 - Validation accuracy: 0.9890\n",
      "Epoch 153/300 --> loss: 0.1694 - accuracy: 0.9613 | Validation loss: 0.0889 - Validation accuracy: 0.9853\n",
      "Epoch 154/300 --> loss: 0.1452 - accuracy: 0.9754 | Validation loss: 0.0873 - Validation accuracy: 0.9926\n",
      "Epoch 155/300 --> loss: 0.1588 - accuracy: 0.9613 | Validation loss: 0.0889 - Validation accuracy: 0.9890\n",
      "Epoch 156/300 --> loss: 0.1654 - accuracy: 0.9621 | Validation loss: 0.0856 - Validation accuracy: 0.9926\n",
      "Epoch 157/300 --> loss: 0.1669 - accuracy: 0.9639 | Validation loss: 0.0876 - Validation accuracy: 0.9890\n",
      "Epoch 158/300 --> loss: 0.1393 - accuracy: 0.9745 | Validation loss: 0.0834 - Validation accuracy: 0.9926\n",
      "Epoch 159/300 --> loss: 0.1571 - accuracy: 0.9674 | Validation loss: 0.0862 - Validation accuracy: 0.9853\n",
      "Epoch 160/300 --> loss: 0.1566 - accuracy: 0.9745 | Validation loss: 0.0850 - Validation accuracy: 0.9890\n",
      "Epoch 161/300 --> loss: 0.1725 - accuracy: 0.9613 | Validation loss: 0.0799 - Validation accuracy: 0.9926\n",
      "Epoch 162/300 --> loss: 0.1490 - accuracy: 0.9692 | Validation loss: 0.0791 - Validation accuracy: 0.9926\n",
      "Epoch 163/300 --> loss: 0.1600 - accuracy: 0.9665 | Validation loss: 0.0833 - Validation accuracy: 0.9926\n",
      "Epoch 164/300 --> loss: 0.1687 - accuracy: 0.9586 | Validation loss: 0.0795 - Validation accuracy: 0.9890\n",
      "Epoch 165/300 --> loss: 0.1579 - accuracy: 0.9639 | Validation loss: 0.0786 - Validation accuracy: 0.9963\n",
      "Epoch 166/300 --> loss: 0.1508 - accuracy: 0.9727 | Validation loss: 0.0806 - Validation accuracy: 0.9926\n",
      "Epoch 167/300 --> loss: 0.1603 - accuracy: 0.9621 | Validation loss: 0.0865 - Validation accuracy: 0.9853\n",
      "Epoch 168/300 --> loss: 0.1387 - accuracy: 0.9683 | Validation loss: 0.0772 - Validation accuracy: 0.9926\n",
      "Epoch 169/300 --> loss: 0.1595 - accuracy: 0.9648 | Validation loss: 0.0832 - Validation accuracy: 0.9890\n",
      "Epoch 170/300 --> loss: 0.1502 - accuracy: 0.9692 | Validation loss: 0.0752 - Validation accuracy: 0.9926\n",
      "Epoch 171/300 --> loss: 0.1511 - accuracy: 0.9621 | Validation loss: 0.0765 - Validation accuracy: 0.9926\n",
      "Epoch 172/300 --> loss: 0.1188 - accuracy: 0.9736 | Validation loss: 0.0764 - Validation accuracy: 0.9926\n",
      "Epoch 173/300 --> loss: 0.1290 - accuracy: 0.9736 | Validation loss: 0.0765 - Validation accuracy: 0.9853\n",
      "Epoch 174/300 --> loss: 0.1366 - accuracy: 0.9674 | Validation loss: 0.0719 - Validation accuracy: 0.9963\n",
      "Epoch 175/300 --> loss: 0.1470 - accuracy: 0.9657 | Validation loss: 0.0756 - Validation accuracy: 0.9853\n",
      "Epoch 176/300 --> loss: 0.1499 - accuracy: 0.9657 | Validation loss: 0.0700 - Validation accuracy: 0.9963\n",
      "Epoch 177/300 --> loss: 0.1372 - accuracy: 0.9727 | Validation loss: 0.0720 - Validation accuracy: 0.9890\n",
      "Epoch 178/300 --> loss: 0.1333 - accuracy: 0.9762 | Validation loss: 0.0712 - Validation accuracy: 0.9926\n",
      "Epoch 179/300 --> loss: 0.1344 - accuracy: 0.9718 | Validation loss: 0.0727 - Validation accuracy: 0.9926\n",
      "Epoch 180/300 --> loss: 0.1370 - accuracy: 0.9701 | Validation loss: 0.0706 - Validation accuracy: 0.9890\n",
      "Epoch 181/300 --> loss: 0.1421 - accuracy: 0.9665 | Validation loss: 0.0705 - Validation accuracy: 0.9963\n",
      "Epoch 182/300 --> loss: 0.1359 - accuracy: 0.9736 | Validation loss: 0.0694 - Validation accuracy: 0.9926\n",
      "Epoch 183/300 --> loss: 0.1528 - accuracy: 0.9657 | Validation loss: 0.0648 - Validation accuracy: 0.9963\n",
      "Epoch 184/300 --> loss: 0.1495 - accuracy: 0.9674 | Validation loss: 0.0666 - Validation accuracy: 0.9926\n",
      "Epoch 185/300 --> loss: 0.1219 - accuracy: 0.9692 | Validation loss: 0.0666 - Validation accuracy: 0.9963\n",
      "Epoch 186/300 --> loss: 0.1423 - accuracy: 0.9692 | Validation loss: 0.0668 - Validation accuracy: 0.9926\n",
      "Epoch 187/300 --> loss: 0.1511 - accuracy: 0.9674 | Validation loss: 0.0692 - Validation accuracy: 0.9890\n",
      "Epoch 188/300 --> loss: 0.1215 - accuracy: 0.9762 | Validation loss: 0.0675 - Validation accuracy: 0.9890\n",
      "Epoch 189/300 --> loss: 0.1361 - accuracy: 0.9639 | Validation loss: 0.0680 - Validation accuracy: 0.9853\n",
      "Epoch 190/300 --> loss: 0.1239 - accuracy: 0.9754 | Validation loss: 0.0613 - Validation accuracy: 0.9926\n",
      "Epoch 191/300 --> loss: 0.1339 - accuracy: 0.9692 | Validation loss: 0.0618 - Validation accuracy: 0.9926\n",
      "Epoch 192/300 --> loss: 0.1217 - accuracy: 0.9745 | Validation loss: 0.0651 - Validation accuracy: 0.9963\n",
      "Epoch 193/300 --> loss: 0.1528 - accuracy: 0.9604 | Validation loss: 0.0645 - Validation accuracy: 0.9926\n",
      "Epoch 194/300 --> loss: 0.1128 - accuracy: 0.9798 | Validation loss: 0.0633 - Validation accuracy: 0.9963\n",
      "Epoch 195/300 --> loss: 0.1457 - accuracy: 0.9710 | Validation loss: 0.0651 - Validation accuracy: 0.9926\n",
      "Epoch 196/300 --> loss: 0.1287 - accuracy: 0.9710 | Validation loss: 0.0657 - Validation accuracy: 0.9926\n",
      "Epoch 197/300 --> loss: 0.1211 - accuracy: 0.9692 | Validation loss: 0.0687 - Validation accuracy: 0.9890\n",
      "Epoch 198/300 --> loss: 0.1297 - accuracy: 0.9683 | Validation loss: 0.0606 - Validation accuracy: 0.9963\n",
      "Epoch 199/300 --> loss: 0.1298 - accuracy: 0.9657 | Validation loss: 0.0621 - Validation accuracy: 0.9963\n",
      "Epoch 200/300 --> loss: 0.1435 - accuracy: 0.9648 | Validation loss: 0.0621 - Validation accuracy: 0.9926\n",
      "Epoch 201/300 --> loss: 0.1114 - accuracy: 0.9736 | Validation loss: 0.0587 - Validation accuracy: 0.9963\n",
      "Epoch 202/300 --> loss: 0.1234 - accuracy: 0.9665 | Validation loss: 0.0597 - Validation accuracy: 0.9926\n",
      "Epoch 203/300 --> loss: 0.1301 - accuracy: 0.9701 | Validation loss: 0.0602 - Validation accuracy: 0.9926\n",
      "Epoch 204/300 --> loss: 0.1146 - accuracy: 0.9745 | Validation loss: 0.0632 - Validation accuracy: 0.9890\n",
      "Epoch 205/300 --> loss: 0.1247 - accuracy: 0.9736 | Validation loss: 0.0648 - Validation accuracy: 0.9890\n",
      "Epoch 206/300 --> loss: 0.1307 - accuracy: 0.9648 | Validation loss: 0.0623 - Validation accuracy: 0.9890\n",
      "Epoch 207/300 --> loss: 0.1180 - accuracy: 0.9727 | Validation loss: 0.0629 - Validation accuracy: 0.9926\n",
      "Epoch 208/300 --> loss: 0.1241 - accuracy: 0.9736 | Validation loss: 0.0616 - Validation accuracy: 0.9926\n",
      "Epoch 209/300 --> loss: 0.1311 - accuracy: 0.9701 | Validation loss: 0.0611 - Validation accuracy: 0.9963\n",
      "Epoch 210/300 --> loss: 0.1138 - accuracy: 0.9762 | Validation loss: 0.0602 - Validation accuracy: 0.9890\n",
      "Epoch 211/300 --> loss: 0.1134 - accuracy: 0.9736 | Validation loss: 0.0554 - Validation accuracy: 0.9963\n",
      "Epoch 212/300 --> loss: 0.1198 - accuracy: 0.9727 | Validation loss: 0.0592 - Validation accuracy: 0.9963\n",
      "Epoch 213/300 --> loss: 0.1367 - accuracy: 0.9665 | Validation loss: 0.0634 - Validation accuracy: 0.9853\n",
      "Epoch 214/300 --> loss: 0.1029 - accuracy: 0.9754 | Validation loss: 0.0617 - Validation accuracy: 0.9890\n",
      "Epoch 215/300 --> loss: 0.1159 - accuracy: 0.9736 | Validation loss: 0.0626 - Validation accuracy: 0.9926\n",
      "Epoch 216/300 --> loss: 0.1181 - accuracy: 0.9639 | Validation loss: 0.0578 - Validation accuracy: 0.9926\n",
      "Epoch 217/300 --> loss: 0.0997 - accuracy: 0.9798 | Validation loss: 0.0575 - Validation accuracy: 0.9890\n",
      "Epoch 218/300 --> loss: 0.1157 - accuracy: 0.9745 | Validation loss: 0.0540 - Validation accuracy: 0.9926\n",
      "Epoch 219/300 --> loss: 0.1123 - accuracy: 0.9718 | Validation loss: 0.0612 - Validation accuracy: 0.9816\n",
      "Epoch 220/300 --> loss: 0.1106 - accuracy: 0.9727 | Validation loss: 0.0558 - Validation accuracy: 0.9926\n",
      "Epoch 221/300 --> loss: 0.1222 - accuracy: 0.9727 | Validation loss: 0.0588 - Validation accuracy: 0.9926\n",
      "Epoch 222/300 --> loss: 0.1188 - accuracy: 0.9683 | Validation loss: 0.0576 - Validation accuracy: 0.9926\n",
      "Epoch 223/300 --> loss: 0.1039 - accuracy: 0.9771 | Validation loss: 0.0553 - Validation accuracy: 0.9926\n",
      "Epoch 224/300 --> loss: 0.1080 - accuracy: 0.9780 | Validation loss: 0.0568 - Validation accuracy: 0.9926\n",
      "Epoch 225/300 --> loss: 0.1069 - accuracy: 0.9762 | Validation loss: 0.0591 - Validation accuracy: 0.9926\n",
      "Epoch 226/300 --> loss: 0.0942 - accuracy: 0.9833 | Validation loss: 0.0577 - Validation accuracy: 0.9890\n",
      "Epoch 227/300 --> loss: 0.0857 - accuracy: 0.9833 | Validation loss: 0.0587 - Validation accuracy: 0.9890\n",
      "Epoch 228/300 --> loss: 0.1098 - accuracy: 0.9692 | Validation loss: 0.0566 - Validation accuracy: 0.9926\n",
      "Early stopping: stopping training after 228 epochs.\n"
     ]
    }
   ],
   "source": [
    "history = model.fit(\n",
    "    X_train = X_train, \n",
    "    y_train = y_train_encoded,\n",
    "    optimizer = optimizer,\n",
    "    loss_fn = loss_fn,\n",
    "    X_valid = X_valid,\n",
    "    y_valid = y_valid_encoded,\n",
    "    batch_size = batch_size,\n",
    "    epochs = epochs,\n",
    "    metrics = [metrics.accuracy],\n",
    "    callbacks = [callbacks.EarlyStopping(monitor='val_loss', patience=10)]\n",
    ")"
   ]
  },
  {
   "cell_type": "code",
   "execution_count": 12,
   "metadata": {},
   "outputs": [
    {
     "data": {
      "image/png": "[encoded data removed]",
      "text/plain": [
       "<Figure size 800x400 with 1 Axes>"
      ]
     },
     "metadata": {},
     "output_type": "display_data"
    }
   ],
   "source": [
    "# Plot the training and validation loss\n",
    "utils.plot_history(history[\"loss\"], history[\"val_loss\"], \"Training and Validation Loss\", \"Epoch\", \"Loss\")"
   ]
  },
  {
   "cell_type": "markdown",
   "metadata": {},
   "source": [
    "### Model evaluation"
   ]
  },
  {
   "cell_type": "code",
   "execution_count": 13,
   "metadata": {},
   "outputs": [],
   "source": [
    "# Predict the labels\n",
    "predictions = model(X_test)\n",
    "\n",
    "# Apply the argmax function to the predictions\n",
    "predictions = Tensor(np.argmax(predictions.data, axis=1), dtype=np.int8)"
   ]
  },
  {
   "cell_type": "code",
   "execution_count": 14,
   "metadata": {},
   "outputs": [
    {
     "name": "stdout",
     "output_type": "stream",
     "text": [
      "Accuracy: 0.97\n"
     ]
    },
    {
     "data": {
      "image/png": "[encoded data removed]",
      "text/plain": [
       "<Figure size 600x600 with 1 Axes>"
      ]
     },
     "metadata": {},
     "output_type": "display_data"
    }
   ],
   "source": [
    "# Compute the accuracy\n",
    "accuracy = metrics.accuracy(y_test, predictions)\n",
    "confusion_matrix = metrics.confusion_matrix(num_classes, y_test, predictions)\n",
    "\n",
    "# Print the accuracy\n",
    "print(f\"Accuracy: {accuracy.data:.2f}\")\n",
    "\n",
    "# Plot the confusion matrix\n",
    "utils.plot_confusion_matrix(confusion_matrix.data)"
   ]
  }
 ],
 "metadata": {
  "kernelspec": {
   "display_name": "venv",
   "language": "python",
   "name": "python3"
  },
  "language_info": {
   "codemirror_mode": {
    "name": "ipython",
    "version": 3
   },
   "file_extension": ".py",
   "mimetype": "text/x-python",
   "name": "python",
   "nbconvert_exporter": "python",
   "pygments_lexer": "ipython3",
   "version": "3.11.11"
  }
 },
 "nbformat": 4,
 "nbformat_minor": 2
}
