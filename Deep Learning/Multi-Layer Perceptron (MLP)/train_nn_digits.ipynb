{
 "cells": [
  {
   "cell_type": "code",
   "execution_count": 1,
   "metadata": {},
   "outputs": [],
   "source": [
    "import sys\n",
    "import numpy as np\n",
    "import matplotlib.pyplot as plt\n",
    "from sklearn.datasets import load_digits\n",
    "\n",
    "# Add the path to the custom library to the system path\n",
    "sys.path.append('..')\n",
    "\n",
    "# Import the module from the custom library\n",
    "from src.architectures.sequential import Sequential\n",
    "from src.core.utils import data_analysis, data_processing, context_manager\n",
    "from src import Tensor, layers, activations, loss_functions, optimizers, metrics, callbacks"
   ]
  },
  {
   "cell_type": "markdown",
   "metadata": {},
   "source": [
    "### Constants and Hyperparameters"
   ]
  },
  {
   "cell_type": "code",
   "execution_count": 2,
   "metadata": {},
   "outputs": [],
   "source": [
    "train_test_split_pct = 0.2 # Percentage of samples to use for testing\n",
    "train_valid_split = 0.2 # Percentage of samples to use for validation\n",
    "learning_rate = 1e-4 # Learning rate for the optimizer\n",
    "batch_size = 16 # Number of samples to use for each batch\n",
    "epochs = 300 # Number of epochs to train the model\n",
    "seed = 1234 # Seed for reproducibility"
   ]
  },
  {
   "cell_type": "code",
   "execution_count": 3,
   "metadata": {},
   "outputs": [],
   "source": [
    "# Set the seed for reproducibility\n",
    "np.random.seed(seed)"
   ]
  },
  {
   "cell_type": "markdown",
   "metadata": {},
   "source": [
    "### Data loading"
   ]
  },
  {
   "cell_type": "code",
   "execution_count": 4,
   "metadata": {},
   "outputs": [
    {
     "name": "stdout",
     "output_type": "stream",
     "text": [
      "Number of classes: 10\n",
      "Training set: (1151, 64) (1151,)\n",
      "Validation set: (287, 64) (287,)\n",
      "Testing set: (359, 64) (359,)\n"
     ]
    }
   ],
   "source": [
    "# Load the digits dataset\n",
    "digits = load_digits()\n",
    "\n",
    "# Extract the number of classes in the dataset\n",
    "num_classes = len(np.unique(digits['target'])) # type: ignore\n",
    "\n",
    "# Extract the input and output data\n",
    "data = Tensor(data=digits.get(\"data\", [])) # type: ignore\n",
    "labels = Tensor(data=digits.get(\"target\", []), dtype=np.int8) # type: ignore\n",
    "\n",
    "# Split the dataset into training, validation, and testing sets\n",
    "X_train, X_test, y_train, y_test = data_processing.split_data((data, labels), train_test_split_pct, shuffle=True)\n",
    "X_train, X_valid, y_train, y_valid = data_processing.split_data((X_train, y_train), train_valid_split, shuffle=True)\n",
    "\n",
    "# Print the dataset information\n",
    "print(\"Number of classes:\", num_classes)\n",
    "print('Training set:', X_train.shape(), y_train.shape())\n",
    "print('Validation set:', X_valid.shape(), y_valid.shape())\n",
    "print('Testing set:', X_test.shape(), y_test.shape())"
   ]
  },
  {
   "cell_type": "markdown",
   "metadata": {},
   "source": [
    "### Data Preprocessing"
   ]
  },
  {
   "cell_type": "code",
   "execution_count": 5,
   "metadata": {},
   "outputs": [],
   "source": [
    "# Normalization\n",
    "def normalize(X: Tensor) -> Tensor:\n",
    "    \"\"\"\n",
    "    Normalize the input data by dividing by the maximum value in the training set.\n",
    "    \n",
    "    Parameters:\n",
    "    - X (Tensor): The input data to normalize\n",
    "    \n",
    "    Returns:\n",
    "    - Tensor: The normalized input data\n",
    "    \"\"\"\n",
    "    \n",
    "    # Normalize the input data\n",
    "    return X / 255.0\n",
    "\n",
    "# Normalize the input data\n",
    "X_train = normalize(X_train)\n",
    "X_valid = normalize(X_valid)\n",
    "X_test = normalize(X_test)"
   ]
  },
  {
   "cell_type": "code",
   "execution_count": 6,
   "metadata": {},
   "outputs": [
    {
     "name": "stdout",
     "output_type": "stream",
     "text": [
      "Sample target value: 3\n",
      "One-hot encoded value: Tensor([0 0 0 1 0 0 0 0 0 0], shape=(10,), dtype=int8)\n"
     ]
    }
   ],
   "source": [
    "# Convert the target values to one-hot encoded vectors\n",
    "y_train_encoded = data_processing.one_hot_encoding(y=y_train, n_classes=num_classes)\n",
    "y_valid_encoded = data_processing.one_hot_encoding(y=y_valid, n_classes=num_classes)\n",
    "\n",
    "# Print one sample encoding\n",
    "print(\"Sample target value:\", y_train[0].data)\n",
    "print(\"One-hot encoded value:\", y_train_encoded[0])"
   ]
  },
  {
   "cell_type": "markdown",
   "metadata": {},
   "source": [
    "### Data visualization"
   ]
  },
  {
   "cell_type": "code",
   "execution_count": 7,
   "metadata": {},
   "outputs": [
    {
     "data": {
      "image/png": "[encoded data removed]",
      "text/plain": [
       "<Figure size 2000x500 with 10 Axes>"
      ]
     },
     "metadata": {},
     "output_type": "display_data"
    }
   ],
   "source": [
    "def plot_samples(samples: list[np.ndarray], labels: list[np.ndarray]) -> None:\n",
    "    \"\"\"\n",
    "    Plot the samples in a grid.\n",
    "    \n",
    "    Parameters:\n",
    "    - samples (list[np.ndarray]): The samples to plot\n",
    "    - labels (list[np.ndarray]): The labels of the samples\n",
    "    \"\"\"\n",
    "    \n",
    "    reshaped_samples = []\n",
    "    \n",
    "    # Iterate over the samples\n",
    "    for sample in samples:\n",
    "        # Compute the new shape\n",
    "        new_shape = np.sqrt(sample.shape).astype(int)[0]\n",
    "        \n",
    "        # Reshape the sample\n",
    "        sample = sample.reshape(new_shape, new_shape)\n",
    "        \n",
    "        # Append the reshaped sample\n",
    "        reshaped_samples.append(sample)\n",
    "        \n",
    "    # Plot the samples in a grid\n",
    "    _, axes = plt.subplots(1, len(samples), figsize=(20, 5))\n",
    "    for i, ax in enumerate(axes):\n",
    "        ax.imshow(reshaped_samples[i], cmap='gray')\n",
    "        ax.set_title(f'Label: {labels[i]}')\n",
    "        ax.axis('off')\n",
    "        \n",
    "        \n",
    "# Plot the first 10 samples\n",
    "plot_samples(list(X_train.data[:10]), list(y_train.data[:10]))"
   ]
  },
  {
   "cell_type": "markdown",
   "metadata": {},
   "source": [
    "### Building the model"
   ]
  },
  {
   "cell_type": "code",
   "execution_count": 8,
   "metadata": {},
   "outputs": [],
   "source": [
    "\n",
    "model = Sequential(\n",
    "    name = \"Digits Classifier\",\n",
    "    modules = [\n",
    "        layers.Dense(num_units=24, activation=activations.ReLU()),\n",
    "        layers.BatchNormalization(),\n",
    "        layers.Dropout(rate=0.1),\n",
    "        layers.Dense(num_units=32, activation=activations.ReLU()),\n",
    "        layers.Dropout(rate=0.1),\n",
    "        layers.Dense(num_units=12, activation=activations.Tanh()),\n",
    "        layers.Dropout(rate=0.1),\n",
    "        layers.Dense(num_units=num_classes, activation=activations.Softmax())\n",
    "    ]\n",
    ")\n",
    "\n",
    "# Initialize the optimizer\n",
    "optimizer = optimizers.Adam(learning_rate=learning_rate)\n",
    "\n",
    "# Initialize the loss function\n",
    "loss_fn = loss_functions.CategoricalCrossEntropy()"
   ]
  },
  {
   "cell_type": "markdown",
   "metadata": {},
   "source": [
    "### Initializing the model"
   ]
  },
  {
   "cell_type": "code",
   "execution_count": 9,
   "metadata": {},
   "outputs": [],
   "source": [
    "# Call the model with a first batch to initialize the weights\n",
    "# This is not necessary, but it is useful to know the input size\n",
    "\n",
    "# Disable gradient computation\n",
    "with context_manager.no_grad():\n",
    "    # Set the model in evaluation mode\n",
    "    model.eval()\n",
    "    \n",
    "    # Call the model with a batch of data to initialize it\n",
    "    model(X_train[:batch_size])"
   ]
  },
  {
   "cell_type": "code",
   "execution_count": 10,
   "metadata": {},
   "outputs": [
    {
     "name": "stdout",
     "output_type": "stream",
     "text": [
      "\n",
      "Digits Classifier\n",
      "\n",
      "-----------------------------------------------------------------------------------------------\n",
      "Module (type)                                          Output Shape        Trainable params #  \n",
      "===============================================================================================\n",
      "digits_classifier.modules[0].dense (Dense)             (16, 24)            1560                \n",
      "-----------------------------------------------------------------------------------------------\n",
      "digits_classifier.modules[1].batch_normalization  \n",
      "(BatchNormalization)                                   (16, 24)            48                  \n",
      "-----------------------------------------------------------------------------------------------\n",
      "digits_classifier.modules[2].dropout (Dropout)         (16, 24)            0                   \n",
      "-----------------------------------------------------------------------------------------------\n",
      "digits_classifier.modules[3].dense (Dense)             (16, 32)            800                 \n",
      "-----------------------------------------------------------------------------------------------\n",
      "digits_classifier.modules[4].dropout (Dropout)         (16, 32)            0                   \n",
      "-----------------------------------------------------------------------------------------------\n",
      "digits_classifier.modules[5].dense (Dense)             (16, 12)            396                 \n",
      "-----------------------------------------------------------------------------------------------\n",
      "digits_classifier.modules[6].dropout (Dropout)         (16, 12)            0                   \n",
      "-----------------------------------------------------------------------------------------------\n",
      "digits_classifier.modules[7].dense (Dense)             (16, 10)            130                 \n",
      "===============================================================================================\n",
      "Total trainable parameters: 2934\n",
      "-----------------------------------------------------------------------------------------------\n"
     ]
    }
   ],
   "source": [
    "# Display the model summary\n",
    "model.summary()"
   ]
  },
  {
   "cell_type": "markdown",
   "metadata": {},
   "source": [
    "### Training the model"
   ]
  },
  {
   "cell_type": "code",
   "execution_count": 11,
   "metadata": {},
   "outputs": [
    {
     "name": "stdout",
     "output_type": "stream",
     "text": [
      "Epoch 1/300 --> loss: 2.3055 - accuracy: 0.1208 | Validation loss: 2.2982 - Validation accuracy: 0.1639                     \n",
      "Epoch 2/300 --> loss: 2.2668 - accuracy: 0.1963 | Validation loss: 2.2489 - Validation accuracy: 0.2512                     \n",
      "Epoch 3/300 --> loss: 2.2259 - accuracy: 0.3128 | Validation loss: 2.2032 - Validation accuracy: 0.3384                     \n",
      "Epoch 4/300 --> loss: 2.1896 - accuracy: 0.3701 | Validation loss: 2.1568 - Validation accuracy: 0.4810                     \n",
      "Epoch 5/300 --> loss: 2.1431 - accuracy: 0.4485 | Validation loss: 2.0995 - Validation accuracy: 0.5266                     \n",
      "Epoch 6/300 --> loss: 2.0880 - accuracy: 0.5021 | Validation loss: 2.0410 - Validation accuracy: 0.5752                     \n",
      "Epoch 7/300 --> loss: 2.0256 - accuracy: 0.5439 | Validation loss: 1.9723 - Validation accuracy: 0.5995                     \n",
      "Epoch 8/300 --> loss: 1.9692 - accuracy: 0.5656 | Validation loss: 1.9052 - Validation accuracy: 0.6655                     \n",
      "Epoch 9/300 --> loss: 1.9007 - accuracy: 0.6004 | Validation loss: 1.8366 - Validation accuracy: 0.6933                     \n",
      "Epoch 10/300 --> loss: 1.8352 - accuracy: 0.6273 | Validation loss: 1.7697 - Validation accuracy: 0.7037                     \n",
      "Epoch 11/300 --> loss: 1.7755 - accuracy: 0.6421 | Validation loss: 1.7007 - Validation accuracy: 0.7248                     \n",
      "Epoch 12/300 --> loss: 1.6992 - accuracy: 0.6699 | Validation loss: 1.6358 - Validation accuracy: 0.7352                     \n",
      "Epoch 13/300 --> loss: 1.6493 - accuracy: 0.6839 | Validation loss: 1.5714 - Validation accuracy: 0.7421                     \n",
      "Epoch 14/300 --> loss: 1.5895 - accuracy: 0.6906 | Validation loss: 1.5140 - Validation accuracy: 0.7560                     \n",
      "Epoch 15/300 --> loss: 1.5255 - accuracy: 0.7212 | Validation loss: 1.4491 - Validation accuracy: 0.7699                     \n",
      "Epoch 16/300 --> loss: 1.4711 - accuracy: 0.7307 | Validation loss: 1.3913 - Validation accuracy: 0.7595                     \n",
      "Epoch 17/300 --> loss: 1.4156 - accuracy: 0.7367 | Validation loss: 1.3429 - Validation accuracy: 0.7907                     \n",
      "Epoch 18/300 --> loss: 1.3739 - accuracy: 0.7307 | Validation loss: 1.2938 - Validation accuracy: 0.7769                     \n",
      "Epoch 19/300 --> loss: 1.3173 - accuracy: 0.7594 | Validation loss: 1.2509 - Validation accuracy: 0.7870                     \n",
      "Epoch 20/300 --> loss: 1.2936 - accuracy: 0.7671 | Validation loss: 1.2070 - Validation accuracy: 0.8081                     \n",
      "Epoch 21/300 --> loss: 1.2303 - accuracy: 0.7775 | Validation loss: 1.1611 - Validation accuracy: 0.8113                     \n",
      "Epoch 22/300 --> loss: 1.2058 - accuracy: 0.7777 | Validation loss: 1.1311 - Validation accuracy: 0.8081                     \n",
      "Epoch 23/300 --> loss: 1.1867 - accuracy: 0.7672 | Validation loss: 1.0894 - Validation accuracy: 0.8255                     \n",
      "Epoch 24/300 --> loss: 1.1289 - accuracy: 0.8019 | Validation loss: 1.0604 - Validation accuracy: 0.8255                     \n",
      "Epoch 25/300 --> loss: 1.0900 - accuracy: 0.8063 | Validation loss: 1.0292 - Validation accuracy: 0.8289                     \n",
      "Epoch 26/300 --> loss: 1.0904 - accuracy: 0.7940 | Validation loss: 1.0028 - Validation accuracy: 0.8359                     \n",
      "Epoch 27/300 --> loss: 1.0465 - accuracy: 0.8046 | Validation loss: 0.9714 - Validation accuracy: 0.8498                     \n",
      "Epoch 28/300 --> loss: 1.0222 - accuracy: 0.8133 | Validation loss: 0.9467 - Validation accuracy: 0.8671                     \n",
      "Epoch 29/300 --> loss: 1.0120 - accuracy: 0.8272 | Validation loss: 0.9137 - Validation accuracy: 0.8394                     \n",
      "Epoch 30/300 --> loss: 0.9803 - accuracy: 0.8252 | Validation loss: 0.8872 - Validation accuracy: 0.8428                     \n",
      "Epoch 31/300 --> loss: 0.9310 - accuracy: 0.8453 | Validation loss: 0.8647 - Validation accuracy: 0.8602                     \n",
      "Epoch 32/300 --> loss: 0.9187 - accuracy: 0.8324 | Validation loss: 0.8423 - Validation accuracy: 0.8602                     \n",
      "Epoch 33/300 --> loss: 0.8963 - accuracy: 0.8392 | Validation loss: 0.8236 - Validation accuracy: 0.8637                     \n",
      "Epoch 34/300 --> loss: 0.8618 - accuracy: 0.8489 | Validation loss: 0.7987 - Validation accuracy: 0.8671                     \n",
      "Epoch 35/300 --> loss: 0.8550 - accuracy: 0.8558 | Validation loss: 0.7798 - Validation accuracy: 0.8813                     \n",
      "Epoch 36/300 --> loss: 0.8403 - accuracy: 0.8480 | Validation loss: 0.7591 - Validation accuracy: 0.8847                     \n",
      "Epoch 37/300 --> loss: 0.8174 - accuracy: 0.8575 | Validation loss: 0.7444 - Validation accuracy: 0.8882                     \n",
      "Epoch 38/300 --> loss: 0.8088 - accuracy: 0.8464 | Validation loss: 0.7232 - Validation accuracy: 0.8847                     \n",
      "Epoch 39/300 --> loss: 0.7798 - accuracy: 0.8767 | Validation loss: 0.7099 - Validation accuracy: 0.8847                     \n",
      "Epoch 40/300 --> loss: 0.7822 - accuracy: 0.8618 | Validation loss: 0.6943 - Validation accuracy: 0.8810                     \n",
      "Epoch 41/300 --> loss: 0.7576 - accuracy: 0.8663 | Validation loss: 0.6767 - Validation accuracy: 0.8917                     \n",
      "Epoch 42/300 --> loss: 0.7176 - accuracy: 0.8862 | Validation loss: 0.6647 - Validation accuracy: 0.8986                     \n",
      "Epoch 43/300 --> loss: 0.7276 - accuracy: 0.8880 | Validation loss: 0.6479 - Validation accuracy: 0.8951                     \n",
      "Epoch 44/300 --> loss: 0.7114 - accuracy: 0.8802 | Validation loss: 0.6345 - Validation accuracy: 0.9021                     \n",
      "Epoch 45/300 --> loss: 0.6946 - accuracy: 0.8810 | Validation loss: 0.6213 - Validation accuracy: 0.9021                     \n",
      "Epoch 46/300 --> loss: 0.6751 - accuracy: 0.8931 | Validation loss: 0.6062 - Validation accuracy: 0.8986                     \n",
      "Epoch 47/300 --> loss: 0.6680 - accuracy: 0.8932 | Validation loss: 0.5967 - Validation accuracy: 0.8986                     \n",
      "Epoch 48/300 --> loss: 0.6648 - accuracy: 0.8845 | Validation loss: 0.5881 - Validation accuracy: 0.9021                     \n",
      "Epoch 49/300 --> loss: 0.6464 - accuracy: 0.8905 | Validation loss: 0.5720 - Validation accuracy: 0.9090                     \n",
      "Epoch 50/300 --> loss: 0.6288 - accuracy: 0.8932 | Validation loss: 0.5600 - Validation accuracy: 0.9194                     \n",
      "Epoch 51/300 --> loss: 0.5965 - accuracy: 0.9131 | Validation loss: 0.5500 - Validation accuracy: 0.9194                     \n",
      "Epoch 52/300 --> loss: 0.6096 - accuracy: 0.9017 | Validation loss: 0.5407 - Validation accuracy: 0.9264                     \n",
      "Epoch 53/300 --> loss: 0.6184 - accuracy: 0.8948 | Validation loss: 0.5229 - Validation accuracy: 0.9264                     \n",
      "Epoch 54/300 --> loss: 0.5807 - accuracy: 0.9140 | Validation loss: 0.5178 - Validation accuracy: 0.9264                     \n",
      "Epoch 55/300 --> loss: 0.5711 - accuracy: 0.9138 | Validation loss: 0.5106 - Validation accuracy: 0.9229                     \n",
      "Epoch 56/300 --> loss: 0.5737 - accuracy: 0.9035 | Validation loss: 0.4979 - Validation accuracy: 0.9299                     \n",
      "Epoch 57/300 --> loss: 0.5419 - accuracy: 0.9071 | Validation loss: 0.4899 - Validation accuracy: 0.9333                     \n",
      "Epoch 58/300 --> loss: 0.5447 - accuracy: 0.9027 | Validation loss: 0.4833 - Validation accuracy: 0.9299                     \n",
      "Epoch 59/300 --> loss: 0.5446 - accuracy: 0.9044 | Validation loss: 0.4762 - Validation accuracy: 0.9264                     \n",
      "Epoch 60/300 --> loss: 0.5329 - accuracy: 0.9148 | Validation loss: 0.4588 - Validation accuracy: 0.9299                     \n",
      "Epoch 61/300 --> loss: 0.5291 - accuracy: 0.9174 | Validation loss: 0.4537 - Validation accuracy: 0.9368                     \n",
      "Epoch 62/300 --> loss: 0.5038 - accuracy: 0.9106 | Validation loss: 0.4470 - Validation accuracy: 0.9368                     \n",
      "Epoch 63/300 --> loss: 0.4819 - accuracy: 0.9296 | Validation loss: 0.4423 - Validation accuracy: 0.9333                     \n",
      "Epoch 64/300 --> loss: 0.4914 - accuracy: 0.9201 | Validation loss: 0.4333 - Validation accuracy: 0.9333                     \n",
      "Epoch 65/300 --> loss: 0.4897 - accuracy: 0.9106 | Validation loss: 0.4297 - Validation accuracy: 0.9333                     \n",
      "Epoch 66/300 --> loss: 0.4793 - accuracy: 0.9244 | Validation loss: 0.4203 - Validation accuracy: 0.9264                     \n",
      "Epoch 67/300 --> loss: 0.4741 - accuracy: 0.9174 | Validation loss: 0.4074 - Validation accuracy: 0.9437                     \n",
      "Epoch 68/300 --> loss: 0.4594 - accuracy: 0.9200 | Validation loss: 0.4081 - Validation accuracy: 0.9333                     \n",
      "Epoch 69/300 --> loss: 0.4551 - accuracy: 0.9193 | Validation loss: 0.4016 - Validation accuracy: 0.9368                     \n",
      "Epoch 70/300 --> loss: 0.4416 - accuracy: 0.9270 | Validation loss: 0.3938 - Validation accuracy: 0.9299                     \n",
      "Epoch 71/300 --> loss: 0.4542 - accuracy: 0.9097 | Validation loss: 0.3901 - Validation accuracy: 0.9264                     \n",
      "Epoch 72/300 --> loss: 0.4497 - accuracy: 0.9262 | Validation loss: 0.3846 - Validation accuracy: 0.9368                     \n",
      "Epoch 73/300 --> loss: 0.4063 - accuracy: 0.9418 | Validation loss: 0.3749 - Validation accuracy: 0.9403                     \n",
      "Epoch 74/300 --> loss: 0.4512 - accuracy: 0.9096 | Validation loss: 0.3739 - Validation accuracy: 0.9437                     \n",
      "Epoch 75/300 --> loss: 0.4376 - accuracy: 0.9279 | Validation loss: 0.3675 - Validation accuracy: 0.9437                     \n",
      "Epoch 76/300 --> loss: 0.4207 - accuracy: 0.9236 | Validation loss: 0.3615 - Validation accuracy: 0.9403                     \n",
      "Epoch 77/300 --> loss: 0.4078 - accuracy: 0.9358 | Validation loss: 0.3566 - Validation accuracy: 0.9437                     \n",
      "Epoch 78/300 --> loss: 0.3945 - accuracy: 0.9392 | Validation loss: 0.3486 - Validation accuracy: 0.9472                     \n",
      "Epoch 79/300 --> loss: 0.4187 - accuracy: 0.9234 | Validation loss: 0.3505 - Validation accuracy: 0.9437                     \n",
      "Epoch 80/300 --> loss: 0.3971 - accuracy: 0.9358 | Validation loss: 0.3405 - Validation accuracy: 0.9403                     \n",
      "Epoch 81/300 --> loss: 0.3768 - accuracy: 0.9375 | Validation loss: 0.3355 - Validation accuracy: 0.9472                     \n",
      "Epoch 82/300 --> loss: 0.3856 - accuracy: 0.9340 | Validation loss: 0.3309 - Validation accuracy: 0.9403                     \n",
      "Epoch 83/300 --> loss: 0.3689 - accuracy: 0.9349 | Validation loss: 0.3280 - Validation accuracy: 0.9368                     \n",
      "Epoch 84/300 --> loss: 0.3739 - accuracy: 0.9295 | Validation loss: 0.3244 - Validation accuracy: 0.9507                     \n",
      "Epoch 85/300 --> loss: 0.3784 - accuracy: 0.9279 | Validation loss: 0.3188 - Validation accuracy: 0.9437                     \n",
      "Epoch 86/300 --> loss: 0.3798 - accuracy: 0.9392 | Validation loss: 0.3153 - Validation accuracy: 0.9542                     \n",
      "Epoch 87/300 --> loss: 0.3606 - accuracy: 0.9384 | Validation loss: 0.3074 - Validation accuracy: 0.9507                     \n",
      "Epoch 88/300 --> loss: 0.3577 - accuracy: 0.9356 | Validation loss: 0.3082 - Validation accuracy: 0.9437                     \n",
      "Epoch 89/300 --> loss: 0.3634 - accuracy: 0.9418 | Validation loss: 0.2968 - Validation accuracy: 0.9576                     \n",
      "Epoch 90/300 --> loss: 0.3496 - accuracy: 0.9401 | Validation loss: 0.2961 - Validation accuracy: 0.9507                     \n",
      "Epoch 91/300 --> loss: 0.3161 - accuracy: 0.9521 | Validation loss: 0.2915 - Validation accuracy: 0.9437                     \n",
      "Epoch 92/300 --> loss: 0.3441 - accuracy: 0.9286 | Validation loss: 0.2975 - Validation accuracy: 0.9440                     \n",
      "Epoch 93/300 --> loss: 0.3285 - accuracy: 0.9487 | Validation loss: 0.2836 - Validation accuracy: 0.9613                     \n",
      "Epoch 94/300 --> loss: 0.3176 - accuracy: 0.9540 | Validation loss: 0.2832 - Validation accuracy: 0.9544                     \n",
      "Epoch 95/300 --> loss: 0.3192 - accuracy: 0.9479 | Validation loss: 0.2870 - Validation accuracy: 0.9437                     \n",
      "Epoch 96/300 --> loss: 0.3188 - accuracy: 0.9443 | Validation loss: 0.2777 - Validation accuracy: 0.9507                     \n",
      "Epoch 97/300 --> loss: 0.3266 - accuracy: 0.9427 | Validation loss: 0.2745 - Validation accuracy: 0.9544                     \n",
      "Epoch 98/300 --> loss: 0.2984 - accuracy: 0.9505 | Validation loss: 0.2694 - Validation accuracy: 0.9507                     \n",
      "Epoch 99/300 --> loss: 0.3101 - accuracy: 0.9444 | Validation loss: 0.2698 - Validation accuracy: 0.9437                     \n",
      "Epoch 100/300 --> loss: 0.2976 - accuracy: 0.9470 | Validation loss: 0.2625 - Validation accuracy: 0.9544                     \n",
      "Epoch 101/300 --> loss: 0.2935 - accuracy: 0.9496 | Validation loss: 0.2625 - Validation accuracy: 0.9507                     \n",
      "Epoch 102/300 --> loss: 0.3057 - accuracy: 0.9487 | Validation loss: 0.2569 - Validation accuracy: 0.9437                     \n",
      "Epoch 103/300 --> loss: 0.2843 - accuracy: 0.9470 | Validation loss: 0.2495 - Validation accuracy: 0.9648                     \n",
      "Epoch 104/300 --> loss: 0.3058 - accuracy: 0.9453 | Validation loss: 0.2462 - Validation accuracy: 0.9648                     \n",
      "Epoch 105/300 --> loss: 0.2924 - accuracy: 0.9487 | Validation loss: 0.2446 - Validation accuracy: 0.9613                     \n",
      "Epoch 106/300 --> loss: 0.2781 - accuracy: 0.9557 | Validation loss: 0.2456 - Validation accuracy: 0.9579                     \n",
      "Epoch 107/300 --> loss: 0.2851 - accuracy: 0.9514 | Validation loss: 0.2389 - Validation accuracy: 0.9542                     \n",
      "Epoch 108/300 --> loss: 0.2769 - accuracy: 0.9479 | Validation loss: 0.2342 - Validation accuracy: 0.9613                     \n",
      "Epoch 109/300 --> loss: 0.2846 - accuracy: 0.9523 | Validation loss: 0.2338 - Validation accuracy: 0.9613                     \n",
      "Epoch 110/300 --> loss: 0.2773 - accuracy: 0.9461 | Validation loss: 0.2331 - Validation accuracy: 0.9542                     \n",
      "Epoch 111/300 --> loss: 0.2651 - accuracy: 0.9565 | Validation loss: 0.2282 - Validation accuracy: 0.9613                     \n",
      "Epoch 112/300 --> loss: 0.2771 - accuracy: 0.9505 | Validation loss: 0.2245 - Validation accuracy: 0.9648                     \n",
      "Epoch 113/300 --> loss: 0.2789 - accuracy: 0.9410 | Validation loss: 0.2249 - Validation accuracy: 0.9613                     \n",
      "Epoch 114/300 --> loss: 0.2706 - accuracy: 0.9444 | Validation loss: 0.2228 - Validation accuracy: 0.9507                     \n",
      "Epoch 115/300 --> loss: 0.2652 - accuracy: 0.9531 | Validation loss: 0.2162 - Validation accuracy: 0.9613                     \n",
      "Epoch 116/300 --> loss: 0.2535 - accuracy: 0.9496 | Validation loss: 0.2179 - Validation accuracy: 0.9579                     \n",
      "Epoch 117/300 --> loss: 0.2672 - accuracy: 0.9487 | Validation loss: 0.2174 - Validation accuracy: 0.9472                     \n",
      "Epoch 118/300 --> loss: 0.2464 - accuracy: 0.9575 | Validation loss: 0.2101 - Validation accuracy: 0.9648                     \n",
      "Epoch 119/300 --> loss: 0.2372 - accuracy: 0.9591 | Validation loss: 0.2107 - Validation accuracy: 0.9648                     \n",
      "Epoch 120/300 --> loss: 0.2432 - accuracy: 0.9556 | Validation loss: 0.2062 - Validation accuracy: 0.9613                     \n",
      "Epoch 121/300 --> loss: 0.2472 - accuracy: 0.9566 | Validation loss: 0.2070 - Validation accuracy: 0.9648                     \n",
      "Epoch 122/300 --> loss: 0.2541 - accuracy: 0.9479 | Validation loss: 0.2046 - Validation accuracy: 0.9648                     \n",
      "Epoch 123/300 --> loss: 0.2144 - accuracy: 0.9670 | Validation loss: 0.1972 - Validation accuracy: 0.9613                     \n",
      "Epoch 124/300 --> loss: 0.2487 - accuracy: 0.9453 | Validation loss: 0.1974 - Validation accuracy: 0.9579                     \n",
      "Epoch 125/300 --> loss: 0.2192 - accuracy: 0.9670 | Validation loss: 0.1950 - Validation accuracy: 0.9613                     \n",
      "Epoch 126/300 --> loss: 0.2253 - accuracy: 0.9479 | Validation loss: 0.1947 - Validation accuracy: 0.9648                     \n",
      "Epoch 127/300 --> loss: 0.2336 - accuracy: 0.9479 | Validation loss: 0.1863 - Validation accuracy: 0.9683                     \n",
      "Epoch 128/300 --> loss: 0.2426 - accuracy: 0.9531 | Validation loss: 0.1934 - Validation accuracy: 0.9613                     \n",
      "Epoch 129/300 --> loss: 0.2271 - accuracy: 0.9618 | Validation loss: 0.1887 - Validation accuracy: 0.9544                     \n",
      "Epoch 130/300 --> loss: 0.2346 - accuracy: 0.9583 | Validation loss: 0.1874 - Validation accuracy: 0.9579                     \n",
      "Epoch 131/300 --> loss: 0.2388 - accuracy: 0.9514 | Validation loss: 0.1853 - Validation accuracy: 0.9648                     \n",
      "Epoch 132/300 --> loss: 0.2101 - accuracy: 0.9635 | Validation loss: 0.1846 - Validation accuracy: 0.9579                     \n",
      "Epoch 133/300 --> loss: 0.2385 - accuracy: 0.9496 | Validation loss: 0.1822 - Validation accuracy: 0.9648                     \n",
      "Epoch 134/300 --> loss: 0.2277 - accuracy: 0.9549 | Validation loss: 0.1802 - Validation accuracy: 0.9648                     \n",
      "Epoch 135/300 --> loss: 0.2179 - accuracy: 0.9565 | Validation loss: 0.1861 - Validation accuracy: 0.9683                     \n",
      "Epoch 136/300 --> loss: 0.2203 - accuracy: 0.9540 | Validation loss: 0.1832 - Validation accuracy: 0.9544                     \n",
      "Epoch 137/300 --> loss: 0.2084 - accuracy: 0.9635 | Validation loss: 0.1778 - Validation accuracy: 0.9648                     \n",
      "Epoch 138/300 --> loss: 0.2261 - accuracy: 0.9522 | Validation loss: 0.1757 - Validation accuracy: 0.9613                     \n",
      "Epoch 139/300 --> loss: 0.2025 - accuracy: 0.9531 | Validation loss: 0.1762 - Validation accuracy: 0.9648                     \n",
      "Epoch 140/300 --> loss: 0.2122 - accuracy: 0.9575 | Validation loss: 0.1659 - Validation accuracy: 0.9648                     \n",
      "Epoch 141/300 --> loss: 0.2005 - accuracy: 0.9601 | Validation loss: 0.1651 - Validation accuracy: 0.9648                     \n",
      "Epoch 142/300 --> loss: 0.2013 - accuracy: 0.9523 | Validation loss: 0.1669 - Validation accuracy: 0.9579                     \n",
      "Epoch 143/300 --> loss: 0.1953 - accuracy: 0.9653 | Validation loss: 0.1660 - Validation accuracy: 0.9613                     \n",
      "Epoch 144/300 --> loss: 0.2122 - accuracy: 0.9566 | Validation loss: 0.1726 - Validation accuracy: 0.9546                     \n",
      "Epoch 145/300 --> loss: 0.1975 - accuracy: 0.9652 | Validation loss: 0.1610 - Validation accuracy: 0.9613                     \n",
      "Epoch 146/300 --> loss: 0.2117 - accuracy: 0.9531 | Validation loss: 0.1624 - Validation accuracy: 0.9648                     \n",
      "Epoch 147/300 --> loss: 0.2035 - accuracy: 0.9539 | Validation loss: 0.1632 - Validation accuracy: 0.9613                     \n",
      "Epoch 148/300 --> loss: 0.1937 - accuracy: 0.9627 | Validation loss: 0.1590 - Validation accuracy: 0.9648                     \n",
      "Epoch 149/300 --> loss: 0.1826 - accuracy: 0.9644 | Validation loss: 0.1601 - Validation accuracy: 0.9613                     \n",
      "Epoch 150/300 --> loss: 0.1921 - accuracy: 0.9557 | Validation loss: 0.1591 - Validation accuracy: 0.9613                     \n",
      "Epoch 151/300 --> loss: 0.1897 - accuracy: 0.9575 | Validation loss: 0.1601 - Validation accuracy: 0.9613                     \n",
      "Epoch 152/300 --> loss: 0.1917 - accuracy: 0.9644 | Validation loss: 0.1559 - Validation accuracy: 0.9648                     \n",
      "Epoch 153/300 --> loss: 0.1823 - accuracy: 0.9644 | Validation loss: 0.1581 - Validation accuracy: 0.9648                     \n",
      "Epoch 154/300 --> loss: 0.1722 - accuracy: 0.9660 | Validation loss: 0.1571 - Validation accuracy: 0.9685                     \n",
      "Epoch 155/300 --> loss: 0.1907 - accuracy: 0.9566 | Validation loss: 0.1516 - Validation accuracy: 0.9613                     \n",
      "Epoch 156/300 --> loss: 0.1897 - accuracy: 0.9635 | Validation loss: 0.1502 - Validation accuracy: 0.9613                     \n",
      "Epoch 157/300 --> loss: 0.1828 - accuracy: 0.9634 | Validation loss: 0.1512 - Validation accuracy: 0.9648                     \n",
      "Epoch 158/300 --> loss: 0.1943 - accuracy: 0.9549 | Validation loss: 0.1490 - Validation accuracy: 0.9648                     \n",
      "Epoch 159/300 --> loss: 0.1851 - accuracy: 0.9583 | Validation loss: 0.1495 - Validation accuracy: 0.9579                     \n",
      "Epoch 160/300 --> loss: 0.1835 - accuracy: 0.9627 | Validation loss: 0.1519 - Validation accuracy: 0.9613                     \n",
      "Epoch 161/300 --> loss: 0.1717 - accuracy: 0.9609 | Validation loss: 0.1482 - Validation accuracy: 0.9613                     \n",
      "Epoch 162/300 --> loss: 0.1796 - accuracy: 0.9626 | Validation loss: 0.1506 - Validation accuracy: 0.9613                     \n",
      "Epoch 163/300 --> loss: 0.1706 - accuracy: 0.9635 | Validation loss: 0.1494 - Validation accuracy: 0.9683                     \n",
      "Epoch 164/300 --> loss: 0.1706 - accuracy: 0.9696 | Validation loss: 0.1481 - Validation accuracy: 0.9579                     \n",
      "Epoch 165/300 --> loss: 0.1689 - accuracy: 0.9686 | Validation loss: 0.1435 - Validation accuracy: 0.9648                     \n",
      "Epoch 166/300 --> loss: 0.1743 - accuracy: 0.9617 | Validation loss: 0.1480 - Validation accuracy: 0.9648                     \n",
      "Epoch 167/300 --> loss: 0.1865 - accuracy: 0.9539 | Validation loss: 0.1390 - Validation accuracy: 0.9613                     \n",
      "Epoch 168/300 --> loss: 0.1937 - accuracy: 0.9530 | Validation loss: 0.1411 - Validation accuracy: 0.9613                     \n",
      "Epoch 169/300 --> loss: 0.1679 - accuracy: 0.9592 | Validation loss: 0.1472 - Validation accuracy: 0.9613                     \n",
      "Epoch 170/300 --> loss: 0.1648 - accuracy: 0.9687 | Validation loss: 0.1434 - Validation accuracy: 0.9579                     \n",
      "Epoch 171/300 --> loss: 0.1677 - accuracy: 0.9696 | Validation loss: 0.1480 - Validation accuracy: 0.9544                     \n",
      "Epoch 172/300 --> loss: 0.1663 - accuracy: 0.9618 | Validation loss: 0.1417 - Validation accuracy: 0.9613                     \n",
      "Epoch 173/300 --> loss: 0.1543 - accuracy: 0.9670 | Validation loss: 0.1481 - Validation accuracy: 0.9509                     \n",
      "Epoch 174/300 --> loss: 0.1564 - accuracy: 0.9721 | Validation loss: 0.1367 - Validation accuracy: 0.9648                     \n",
      "Epoch 175/300 --> loss: 0.1720 - accuracy: 0.9653 | Validation loss: 0.1409 - Validation accuracy: 0.9613                     \n",
      "Epoch 176/300 --> loss: 0.1497 - accuracy: 0.9695 | Validation loss: 0.1372 - Validation accuracy: 0.9613                     \n",
      "Epoch 177/300 --> loss: 0.1435 - accuracy: 0.9757 | Validation loss: 0.1295 - Validation accuracy: 0.9648                     \n",
      "Epoch 178/300 --> loss: 0.1409 - accuracy: 0.9757 | Validation loss: 0.1328 - Validation accuracy: 0.9579                     \n",
      "Epoch 179/300 --> loss: 0.1408 - accuracy: 0.9722 | Validation loss: 0.1308 - Validation accuracy: 0.9648                     \n",
      "Epoch 180/300 --> loss: 0.1495 - accuracy: 0.9670 | Validation loss: 0.1273 - Validation accuracy: 0.9648                     \n",
      "Epoch 181/300 --> loss: 0.1472 - accuracy: 0.9705 | Validation loss: 0.1292 - Validation accuracy: 0.9683                     \n",
      "Epoch 182/300 --> loss: 0.1569 - accuracy: 0.9670 | Validation loss: 0.1339 - Validation accuracy: 0.9613                     \n",
      "Epoch 183/300 --> loss: 0.1476 - accuracy: 0.9705 | Validation loss: 0.1287 - Validation accuracy: 0.9613                     \n",
      "Epoch 184/300 --> loss: 0.1424 - accuracy: 0.9688 | Validation loss: 0.1289 - Validation accuracy: 0.9685                     \n",
      "Epoch 185/300 --> loss: 0.1492 - accuracy: 0.9652 | Validation loss: 0.1300 - Validation accuracy: 0.9613                     \n",
      "Epoch 186/300 --> loss: 0.1455 - accuracy: 0.9583 | Validation loss: 0.1303 - Validation accuracy: 0.9648                     \n",
      "Epoch 187/300 --> loss: 0.1703 - accuracy: 0.9609 | Validation loss: 0.1306 - Validation accuracy: 0.9613                     \n",
      "Epoch 188/300 --> loss: 0.1505 - accuracy: 0.9653 | Validation loss: 0.1282 - Validation accuracy: 0.9616                     \n",
      "Epoch 189/300 --> loss: 0.1422 - accuracy: 0.9678 | Validation loss: 0.1264 - Validation accuracy: 0.9685                     \n",
      "Epoch 190/300 --> loss: 0.1533 - accuracy: 0.9627 | Validation loss: 0.1279 - Validation accuracy: 0.9650                     \n",
      "Epoch 191/300 --> loss: 0.1416 - accuracy: 0.9661 | Validation loss: 0.1263 - Validation accuracy: 0.9683                     \n",
      "Epoch 192/300 --> loss: 0.1419 - accuracy: 0.9696 | Validation loss: 0.1219 - Validation accuracy: 0.9648                     \n",
      "Epoch 193/300 --> loss: 0.1349 - accuracy: 0.9705 | Validation loss: 0.1218 - Validation accuracy: 0.9613                     \n",
      "Epoch 194/300 --> loss: 0.1469 - accuracy: 0.9661 | Validation loss: 0.1247 - Validation accuracy: 0.9613                     \n",
      "Epoch 195/300 --> loss: 0.1504 - accuracy: 0.9608 | Validation loss: 0.1215 - Validation accuracy: 0.9579                     \n",
      "Epoch 196/300 --> loss: 0.1401 - accuracy: 0.9714 | Validation loss: 0.1287 - Validation accuracy: 0.9613                     \n",
      "Epoch 197/300 --> loss: 0.1354 - accuracy: 0.9696 | Validation loss: 0.1245 - Validation accuracy: 0.9613                     \n",
      "Epoch 198/300 --> loss: 0.1415 - accuracy: 0.9653 | Validation loss: 0.1180 - Validation accuracy: 0.9613                     \n",
      "Epoch 199/300 --> loss: 0.1354 - accuracy: 0.9670 | Validation loss: 0.1172 - Validation accuracy: 0.9683                     \n",
      "Epoch 200/300 --> loss: 0.1495 - accuracy: 0.9748 | Validation loss: 0.1194 - Validation accuracy: 0.9648                     \n",
      "Epoch 201/300 --> loss: 0.1534 - accuracy: 0.9627 | Validation loss: 0.1244 - Validation accuracy: 0.9613                     \n",
      "Epoch 202/300 --> loss: 0.1341 - accuracy: 0.9705 | Validation loss: 0.1274 - Validation accuracy: 0.9579                     \n",
      "Epoch 203/300 --> loss: 0.1234 - accuracy: 0.9748 | Validation loss: 0.1182 - Validation accuracy: 0.9683                     \n",
      "Epoch 204/300 --> loss: 0.1361 - accuracy: 0.9696 | Validation loss: 0.1190 - Validation accuracy: 0.9613                     \n",
      "Epoch 205/300 --> loss: 0.1388 - accuracy: 0.9722 | Validation loss: 0.1216 - Validation accuracy: 0.9683                     \n",
      "Epoch 206/300 --> loss: 0.1276 - accuracy: 0.9704 | Validation loss: 0.1153 - Validation accuracy: 0.9648                     \n",
      "Epoch 207/300 --> loss: 0.1453 - accuracy: 0.9679 | Validation loss: 0.1197 - Validation accuracy: 0.9579                     \n",
      "Epoch 208/300 --> loss: 0.1280 - accuracy: 0.9678 | Validation loss: 0.1169 - Validation accuracy: 0.9683                     \n",
      "Epoch 209/300 --> loss: 0.1207 - accuracy: 0.9678 | Validation loss: 0.1271 - Validation accuracy: 0.9755                     \n",
      "Epoch 210/300 --> loss: 0.1410 - accuracy: 0.9670 | Validation loss: 0.1208 - Validation accuracy: 0.9648                     \n",
      "Epoch 211/300 --> loss: 0.1273 - accuracy: 0.9704 | Validation loss: 0.1166 - Validation accuracy: 0.9648                     \n",
      "Epoch 212/300 --> loss: 0.1161 - accuracy: 0.9739 | Validation loss: 0.1180 - Validation accuracy: 0.9720                     \n",
      "Epoch 213/300 --> loss: 0.1176 - accuracy: 0.9722 | Validation loss: 0.1252 - Validation accuracy: 0.9579                     \n",
      "Epoch 214/300 --> loss: 0.1246 - accuracy: 0.9687 | Validation loss: 0.1203 - Validation accuracy: 0.9683                     \n",
      "Epoch 215/300 --> loss: 0.1386 - accuracy: 0.9644 | Validation loss: 0.1223 - Validation accuracy: 0.9613                     \n",
      "Epoch 216/300 --> loss: 0.1199 - accuracy: 0.9731 | Validation loss: 0.1221 - Validation accuracy: 0.9683                     \n",
      "Early stopping: stopping training after 216 epochs.\n"
     ]
    }
   ],
   "source": [
    "history = model.fit(\n",
    "    X_train = X_train, \n",
    "    y_train = y_train_encoded,\n",
    "    optimizer = optimizer,\n",
    "    loss_fn = loss_fn,\n",
    "    X_valid = X_valid,\n",
    "    y_valid = y_valid_encoded,\n",
    "    batch_size = batch_size,\n",
    "    epochs = epochs,\n",
    "    metrics = [metrics.accuracy],\n",
    "    callbacks = [callbacks.EarlyStopping(monitor='val_loss', patience=10)]\n",
    ")"
   ]
  },
  {
   "cell_type": "code",
   "execution_count": 12,
   "metadata": {},
   "outputs": [
    {
     "data": {
      "image/png": "[encoded data removed]",
      "text/plain": [
       "<Figure size 800x400 with 1 Axes>"
      ]
     },
     "metadata": {},
     "output_type": "display_data"
    }
   ],
   "source": [
    "# Plot the training and validation loss\n",
    "data_analysis.plot_history(history[\"loss\"].data, history[\"val_loss\"].data, \"Training and Validation Loss\", \"Epoch\", \"Loss\")"
   ]
  },
  {
   "cell_type": "markdown",
   "metadata": {},
   "source": [
    "### Model evaluation"
   ]
  },
  {
   "cell_type": "code",
   "execution_count": 13,
   "metadata": {},
   "outputs": [],
   "source": [
    "# Disable gradient computation\n",
    "with context_manager.no_grad():\n",
    "    # Set the model in evaluation mode\n",
    "    model.eval()\n",
    "    \n",
    "    # Compute the predictions\n",
    "    predictions = model(X_test)\n",
    "\n",
    "# Apply the argmax function to the predictions\n",
    "predictions = Tensor(np.argmax(predictions.data, axis=1), dtype=np.int8)"
   ]
  },
  {
   "cell_type": "code",
   "execution_count": 14,
   "metadata": {},
   "outputs": [
    {
     "name": "stdout",
     "output_type": "stream",
     "text": [
      "Accuracy: 0.96\n"
     ]
    },
    {
     "data": {
      "image/png": "[encoded data removed]",
      "text/plain": [
       "<Figure size 600x600 with 1 Axes>"
      ]
     },
     "metadata": {},
     "output_type": "display_data"
    }
   ],
   "source": [
    "# Compute the accuracy\n",
    "accuracy = metrics.accuracy(y_test, predictions)\n",
    "confusion_matrix = metrics.confusion_matrix(num_classes, y_test, predictions)\n",
    "\n",
    "# Print the accuracy\n",
    "print(f\"Accuracy: {accuracy.data:.2f}\")\n",
    "\n",
    "# Plot the confusion matrix\n",
    "data_analysis.plot_confusion_matrix(confusion_matrix.data)"
   ]
  }
 ],
 "metadata": {
  "kernelspec": {
   "display_name": "venv",
   "language": "python",
   "name": "python3"
  },
  "language_info": {
   "codemirror_mode": {
    "name": "ipython",
    "version": 3
   },
   "file_extension": ".py",
   "mimetype": "text/x-python",
   "name": "python",
   "nbconvert_exporter": "python",
   "pygments_lexer": "ipython3",
   "version": "3.11.11"
  }
 },
 "nbformat": 4,
 "nbformat_minor": 2
}
