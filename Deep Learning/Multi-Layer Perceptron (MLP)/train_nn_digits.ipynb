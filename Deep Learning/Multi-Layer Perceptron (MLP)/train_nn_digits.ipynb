{
 "cells": [
  {
   "cell_type": "code",
   "execution_count": 3,
   "metadata": {},
   "outputs": [],
   "source": [
    "import sys\n",
    "import numpy as np\n",
    "import matplotlib.pyplot as plt\n",
    "from sklearn.datasets import load_digits\n",
    "from sklearn.model_selection import train_test_split\n",
    "\n",
    "# Add the path to the custom library to the system path\n",
    "sys.path.append('..')\n",
    "\n",
    "# Import the module from the custom library\n",
    "from src import utils\n",
    "from src import layers\n",
    "from src import metrics\n",
    "from src import callbacks\n",
    "from src import optimizers\n",
    "from src import activations\n",
    "from src import loss_functions\n",
    "from src import FeedForward"
   ]
  },
  {
   "cell_type": "markdown",
   "metadata": {},
   "source": [
    "### Constants and Hyperparameters"
   ]
  },
  {
   "cell_type": "code",
   "execution_count": 4,
   "metadata": {},
   "outputs": [],
   "source": [
    "train_test_split_pct = 0.2 # Percentage of samples to use for testing\n",
    "train_valid_split = 0.2 # Percentage of samples to use for validation\n",
    "learning_rate = 1e-4 # Learning rate for the optimizer\n",
    "batch_size = 16 # Number of samples to use for each batch\n",
    "epochs = 300 # Number of epochs to train the model\n",
    "seed = 1234 # Seed for reproducibility"
   ]
  },
  {
   "cell_type": "code",
   "execution_count": 5,
   "metadata": {},
   "outputs": [],
   "source": [
    "# Set the seed for reproducibility\n",
    "np.random.seed(seed)"
   ]
  },
  {
   "cell_type": "markdown",
   "metadata": {},
   "source": [
    "### Data loading"
   ]
  },
  {
   "cell_type": "code",
   "execution_count": 6,
   "metadata": {},
   "outputs": [
    {
     "name": "stdout",
     "output_type": "stream",
     "text": [
      "Number of classes: 10\n",
      "Training set: (1149, 64) (1149,)\n",
      "Validation set: (288, 64) (288,)\n",
      "Testing set: (360, 64) (360,)\n"
     ]
    }
   ],
   "source": [
    "# Load the digits dataset\n",
    "digits = load_digits()\n",
    "\n",
    "# Extract the number of classes in the dataset\n",
    "num_classes = len(np.unique(digits.target)) # type: ignore\n",
    "\n",
    "# Split the dataset into training and testing sets\n",
    "X_train, X_test, y_train, y_test = train_test_split(digits.data, digits.target, test_size=train_test_split_pct, random_state=seed) # type: ignore\n",
    "\n",
    "# Split the training set into training and validation sets\n",
    "X_train, X_valid, y_train, y_valid = train_test_split(X_train, y_train, test_size=train_valid_split, random_state=seed) # type: ignore\n",
    "\n",
    "# Print the dataset information\n",
    "print(\"Number of classes:\", num_classes)\n",
    "print('Training set:', X_train.shape, y_train.shape)\n",
    "print('Validation set:', X_valid.shape, y_valid.shape)\n",
    "print('Testing set:', X_test.shape, y_test.shape)"
   ]
  },
  {
   "cell_type": "markdown",
   "metadata": {},
   "source": [
    "### Data Preprocessing"
   ]
  },
  {
   "cell_type": "code",
   "execution_count": 7,
   "metadata": {},
   "outputs": [],
   "source": [
    "# Normalization\n",
    "def normalize(X: np.ndarray) -> np.ndarray:\n",
    "    \"\"\"\n",
    "    Normalize the input data by dividing by the maximum value in the training set.\n",
    "    \n",
    "    Parameters:\n",
    "    - X (np.ndarray): The input data to normalize\n",
    "    \n",
    "    Returns:\n",
    "    - np.ndarray: The normalized input data\n",
    "    \"\"\"\n",
    "    \n",
    "    # Normalize the input data\n",
    "    return X / 255.0\n",
    "\n",
    "# Normalize the input data\n",
    "X_train = normalize(X_train)\n",
    "X_valid = normalize(X_valid)\n",
    "X_test = normalize(X_test)"
   ]
  },
  {
   "cell_type": "code",
   "execution_count": 8,
   "metadata": {},
   "outputs": [
    {
     "name": "stdout",
     "output_type": "stream",
     "text": [
      "Sample target value: 1\n",
      "One-hot encoded value: [0 1 0 0 0 0 0 0 0 0]\n"
     ]
    }
   ],
   "source": [
    "# Convert the target values to one-hot encoded vectors\n",
    "y_train_encoded = utils.one_hot_encoding(y=y_train, n_classes=num_classes)\n",
    "y_valid_encoded = utils.one_hot_encoding(y=y_valid, n_classes=num_classes)\n",
    "\n",
    "# Print one sample encoding\n",
    "print(\"Sample target value:\", y_train[0])\n",
    "print(\"One-hot encoded value:\", y_train_encoded[0])"
   ]
  },
  {
   "cell_type": "markdown",
   "metadata": {},
   "source": [
    "### Data visualization"
   ]
  },
  {
   "cell_type": "code",
   "execution_count": 9,
   "metadata": {},
   "outputs": [
    {
     "data": {
      "image/png": "[encoded data removed]",
      "text/plain": [
       "<Figure size 2000x500 with 10 Axes>"
      ]
     },
     "metadata": {},
     "output_type": "display_data"
    }
   ],
   "source": [
    "def plot_samples(samples: list[np.ndarray], labels: list[np.ndarray]) -> None:\n",
    "    \"\"\"\n",
    "    Plot the samples in a grid.\n",
    "    \n",
    "    Parameters:\n",
    "    - samples (list[np.ndarray]): The samples to plot\n",
    "    - labels (list[np.ndarray]): The labels of the samples\n",
    "    \"\"\"\n",
    "    \n",
    "    reshaped_samples = []\n",
    "    # Iterate over the samples\n",
    "    for sample in samples:\n",
    "        # Compute the new shape\n",
    "        new_shape = np.sqrt(sample.shape).astype(int)[0]\n",
    "        \n",
    "        # Reshape the sample\n",
    "        sample = sample.reshape(new_shape, new_shape)\n",
    "        \n",
    "        # Append the reshaped sample\n",
    "        reshaped_samples.append(sample)\n",
    "        \n",
    "    # Plot the samples in a grid\n",
    "    fig, axes = plt.subplots(1, len(samples), figsize=(20, 5))\n",
    "    for i, ax in enumerate(axes):\n",
    "        ax.imshow(reshaped_samples[i], cmap='gray')\n",
    "        ax.set_title(f'Label: {labels[i]}')\n",
    "        ax.axis('off')\n",
    "        \n",
    "        \n",
    "# Plot the first 10 samples\n",
    "plot_samples(list(X_train[:10]), y_train[:10])"
   ]
  },
  {
   "cell_type": "markdown",
   "metadata": {},
   "source": [
    "### Building the model"
   ]
  },
  {
   "cell_type": "code",
   "execution_count": 10,
   "metadata": {},
   "outputs": [],
   "source": [
    "\n",
    "model = FeedForward([\n",
    "    layers.Dense(num_units=24, activation=activations.ReLU()),\n",
    "    layers.BatchNormalization(momentum=0.9),\n",
    "    layers.Dropout(rate=0.1),\n",
    "    layers.Dense(num_units=32, activation=activations.ReLU()),\n",
    "    layers.Dropout(rate=0.1),\n",
    "    layers.Dense(num_units=12, activation=activations.Tanh()),\n",
    "    layers.Dropout(rate=0.1),\n",
    "    layers.Dense(num_units=num_classes, activation=activations.Softmax())\n",
    "])\n",
    "\n",
    "# Initialize the optimizer\n",
    "optimizer = optimizers.Adam(learning_rate=learning_rate)\n",
    "\n",
    "# Initialize the loss function\n",
    "loss_fn = loss_functions.CrossEntropy()"
   ]
  },
  {
   "cell_type": "code",
   "execution_count": 11,
   "metadata": {},
   "outputs": [],
   "source": [
    "# Call the model with a first batch to initialize the weights\n",
    "# This is not necessary, but it is useful to know the input size\n",
    "model(X_train[:batch_size]);"
   ]
  },
  {
   "cell_type": "code",
   "execution_count": 12,
   "metadata": {},
   "outputs": [
    {
     "name": "stdout",
     "output_type": "stream",
     "text": [
      "\n",
      "Neural Network (ID: 0)\n",
      "\n",
      "--------------------------------------------------------------------------------\n",
      "Layer (type)                            Output Shape        Trainable params #  \n",
      "================================================================================\n",
      "dense_1 (Dense)                         (16, 24)            1560                \n",
      "--------------------------------------------------------------------------------\n",
      "batch_normalization_2                   \n",
      "(BatchNormalization)                    (16, 24)            48                  \n",
      "--------------------------------------------------------------------------------\n",
      "dropout_3 (Dropout)                     (16, 24)            0                   \n",
      "--------------------------------------------------------------------------------\n",
      "dense_4 (Dense)                         (16, 32)            800                 \n",
      "--------------------------------------------------------------------------------\n",
      "dropout_5 (Dropout)                     (16, 32)            0                   \n",
      "--------------------------------------------------------------------------------\n",
      "dense_6 (Dense)                         (16, 12)            396                 \n",
      "--------------------------------------------------------------------------------\n",
      "dropout_7 (Dropout)                     (16, 12)            0                   \n",
      "--------------------------------------------------------------------------------\n",
      "dense_8 (Dense)                         (16, 10)            130                 \n",
      "================================================================================\n",
      "Total trainable parameters: 2934\n",
      "--------------------------------------------------------------------------------\n"
     ]
    }
   ],
   "source": [
    "# Display the model summary\n",
    "model.summary()"
   ]
  },
  {
   "cell_type": "markdown",
   "metadata": {},
   "source": [
    "### Training the model"
   ]
  },
  {
   "cell_type": "code",
   "execution_count": 13,
   "metadata": {},
   "outputs": [
    {
     "name": "stdout",
     "output_type": "stream",
     "text": [
      "Epoch 1/300 --> loss: 2.2874 - accuracy: 0.2463 | Validation loss: 2.2890 - Validation accuracy: 0.2743\n",
      "Epoch 2/300 --> loss: 2.2521 - accuracy: 0.3534 | Validation loss: 2.2211 - Validation accuracy: 0.3924\n",
      "Epoch 3/300 --> loss: 2.2135 - accuracy: 0.4378 | Validation loss: 2.1809 - Validation accuracy: 0.4514\n",
      "Epoch 4/300 --> loss: 2.1715 - accuracy: 0.4952 | Validation loss: 2.1301 - Validation accuracy: 0.5000\n",
      "Epoch 5/300 --> loss: 2.1269 - accuracy: 0.5283 | Validation loss: 2.0768 - Validation accuracy: 0.5208\n",
      "Epoch 6/300 --> loss: 2.0784 - accuracy: 0.5509 | Validation loss: 2.0126 - Validation accuracy: 0.5486\n",
      "Epoch 7/300 --> loss: 2.0204 - accuracy: 0.5527 | Validation loss: 1.9443 - Validation accuracy: 0.5312\n",
      "Epoch 8/300 --> loss: 1.9655 - accuracy: 0.5875 | Validation loss: 1.8802 - Validation accuracy: 0.5590\n",
      "Epoch 9/300 --> loss: 1.9011 - accuracy: 0.5718 | Validation loss: 1.8128 - Validation accuracy: 0.5417\n",
      "Epoch 10/300 --> loss: 1.8452 - accuracy: 0.5892 | Validation loss: 1.7367 - Validation accuracy: 0.5764\n",
      "Epoch 11/300 --> loss: 1.7858 - accuracy: 0.6153 | Validation loss: 1.6801 - Validation accuracy: 0.5972\n",
      "Epoch 12/300 --> loss: 1.7073 - accuracy: 0.6240 | Validation loss: 1.6078 - Validation accuracy: 0.6076\n",
      "Epoch 13/300 --> loss: 1.6550 - accuracy: 0.6458 | Validation loss: 1.5519 - Validation accuracy: 0.5938\n",
      "Epoch 14/300 --> loss: 1.5901 - accuracy: 0.6440 | Validation loss: 1.4954 - Validation accuracy: 0.6076\n",
      "Epoch 15/300 --> loss: 1.5415 - accuracy: 0.6675 | Validation loss: 1.4425 - Validation accuracy: 0.6181\n",
      "Epoch 16/300 --> loss: 1.4759 - accuracy: 0.6649 | Validation loss: 1.3891 - Validation accuracy: 0.6389\n",
      "Epoch 17/300 --> loss: 1.4404 - accuracy: 0.6684 | Validation loss: 1.3394 - Validation accuracy: 0.6458\n",
      "Epoch 18/300 --> loss: 1.3844 - accuracy: 0.6876 | Validation loss: 1.2975 - Validation accuracy: 0.6667\n",
      "Epoch 19/300 --> loss: 1.3595 - accuracy: 0.6997 | Validation loss: 1.2564 - Validation accuracy: 0.6736\n",
      "Epoch 20/300 --> loss: 1.2760 - accuracy: 0.7607 | Validation loss: 1.2139 - Validation accuracy: 0.7361\n",
      "Epoch 21/300 --> loss: 1.2624 - accuracy: 0.7755 | Validation loss: 1.1767 - Validation accuracy: 0.7361\n",
      "Epoch 22/300 --> loss: 1.2276 - accuracy: 0.7929 | Validation loss: 1.1413 - Validation accuracy: 0.7639\n",
      "Epoch 23/300 --> loss: 1.1813 - accuracy: 0.8059 | Validation loss: 1.1073 - Validation accuracy: 0.7708\n",
      "Epoch 24/300 --> loss: 1.1627 - accuracy: 0.8268 | Validation loss: 1.0680 - Validation accuracy: 0.7847\n",
      "Epoch 25/300 --> loss: 1.1240 - accuracy: 0.8468 | Validation loss: 1.0342 - Validation accuracy: 0.8056\n",
      "Epoch 26/300 --> loss: 1.1174 - accuracy: 0.8634 | Validation loss: 1.0026 - Validation accuracy: 0.8194\n",
      "Epoch 27/300 --> loss: 1.0544 - accuracy: 0.8721 | Validation loss: 0.9767 - Validation accuracy: 0.8299\n",
      "Epoch 28/300 --> loss: 1.0265 - accuracy: 0.8921 | Validation loss: 0.9407 - Validation accuracy: 0.8438\n",
      "Epoch 29/300 --> loss: 1.0109 - accuracy: 0.8938 | Validation loss: 0.9103 - Validation accuracy: 0.8611\n",
      "Epoch 30/300 --> loss: 0.9657 - accuracy: 0.8982 | Validation loss: 0.8890 - Validation accuracy: 0.8750\n",
      "Epoch 31/300 --> loss: 0.9544 - accuracy: 0.9043 | Validation loss: 0.8615 - Validation accuracy: 0.8611\n",
      "Epoch 32/300 --> loss: 0.9328 - accuracy: 0.9121 | Validation loss: 0.8326 - Validation accuracy: 0.8889\n",
      "Epoch 33/300 --> loss: 0.9165 - accuracy: 0.9164 | Validation loss: 0.8086 - Validation accuracy: 0.8889\n",
      "Epoch 34/300 --> loss: 0.9074 - accuracy: 0.9199 | Validation loss: 0.7904 - Validation accuracy: 0.8924\n",
      "Epoch 35/300 --> loss: 0.8694 - accuracy: 0.9252 | Validation loss: 0.7688 - Validation accuracy: 0.8924\n",
      "Epoch 36/300 --> loss: 0.8321 - accuracy: 0.9260 | Validation loss: 0.7503 - Validation accuracy: 0.9028\n",
      "Epoch 37/300 --> loss: 0.8215 - accuracy: 0.9330 | Validation loss: 0.7325 - Validation accuracy: 0.9028\n",
      "Epoch 38/300 --> loss: 0.8101 - accuracy: 0.9321 | Validation loss: 0.7045 - Validation accuracy: 0.9028\n",
      "Epoch 39/300 --> loss: 0.7848 - accuracy: 0.9373 | Validation loss: 0.6883 - Validation accuracy: 0.9028\n",
      "Epoch 40/300 --> loss: 0.7778 - accuracy: 0.9330 | Validation loss: 0.6779 - Validation accuracy: 0.9062\n",
      "Epoch 41/300 --> loss: 0.7357 - accuracy: 0.9382 | Validation loss: 0.6565 - Validation accuracy: 0.9132\n",
      "Epoch 42/300 --> loss: 0.7330 - accuracy: 0.9417 | Validation loss: 0.6454 - Validation accuracy: 0.9132\n",
      "Epoch 43/300 --> loss: 0.7272 - accuracy: 0.9434 | Validation loss: 0.6291 - Validation accuracy: 0.9236\n",
      "Epoch 44/300 --> loss: 0.6949 - accuracy: 0.9469 | Validation loss: 0.6120 - Validation accuracy: 0.9236\n",
      "Epoch 45/300 --> loss: 0.6930 - accuracy: 0.9460 | Validation loss: 0.5917 - Validation accuracy: 0.9167\n",
      "Epoch 46/300 --> loss: 0.6686 - accuracy: 0.9434 | Validation loss: 0.5790 - Validation accuracy: 0.9201\n",
      "Epoch 47/300 --> loss: 0.6553 - accuracy: 0.9460 | Validation loss: 0.5643 - Validation accuracy: 0.9271\n",
      "Epoch 48/300 --> loss: 0.6559 - accuracy: 0.9478 | Validation loss: 0.5489 - Validation accuracy: 0.9201\n",
      "Epoch 49/300 --> loss: 0.6273 - accuracy: 0.9469 | Validation loss: 0.5392 - Validation accuracy: 0.9306\n",
      "Epoch 50/300 --> loss: 0.6168 - accuracy: 0.9495 | Validation loss: 0.5373 - Validation accuracy: 0.9201\n",
      "Epoch 51/300 --> loss: 0.6090 - accuracy: 0.9530 | Validation loss: 0.5177 - Validation accuracy: 0.9306\n",
      "Epoch 52/300 --> loss: 0.5931 - accuracy: 0.9513 | Validation loss: 0.5047 - Validation accuracy: 0.9271\n",
      "Epoch 53/300 --> loss: 0.5806 - accuracy: 0.9487 | Validation loss: 0.4977 - Validation accuracy: 0.9375\n",
      "Epoch 54/300 --> loss: 0.5817 - accuracy: 0.9539 | Validation loss: 0.4946 - Validation accuracy: 0.9271\n",
      "Epoch 55/300 --> loss: 0.5758 - accuracy: 0.9565 | Validation loss: 0.4872 - Validation accuracy: 0.9306\n",
      "Epoch 56/300 --> loss: 0.5583 - accuracy: 0.9574 | Validation loss: 0.4762 - Validation accuracy: 0.9306\n",
      "Epoch 57/300 --> loss: 0.5755 - accuracy: 0.9591 | Validation loss: 0.4619 - Validation accuracy: 0.9410\n",
      "Epoch 58/300 --> loss: 0.5332 - accuracy: 0.9574 | Validation loss: 0.4517 - Validation accuracy: 0.9271\n",
      "Epoch 59/300 --> loss: 0.5350 - accuracy: 0.9626 | Validation loss: 0.4471 - Validation accuracy: 0.9340\n",
      "Epoch 60/300 --> loss: 0.5200 - accuracy: 0.9617 | Validation loss: 0.4432 - Validation accuracy: 0.9306\n",
      "Epoch 61/300 --> loss: 0.4926 - accuracy: 0.9600 | Validation loss: 0.4359 - Validation accuracy: 0.9340\n",
      "Epoch 62/300 --> loss: 0.5125 - accuracy: 0.9608 | Validation loss: 0.4284 - Validation accuracy: 0.9340\n",
      "Epoch 63/300 --> loss: 0.5085 - accuracy: 0.9643 | Validation loss: 0.4258 - Validation accuracy: 0.9306\n",
      "Epoch 64/300 --> loss: 0.4745 - accuracy: 0.9634 | Validation loss: 0.4148 - Validation accuracy: 0.9340\n",
      "Epoch 65/300 --> loss: 0.4870 - accuracy: 0.9634 | Validation loss: 0.4092 - Validation accuracy: 0.9306\n",
      "Epoch 66/300 --> loss: 0.4656 - accuracy: 0.9669 | Validation loss: 0.4086 - Validation accuracy: 0.9236\n",
      "Epoch 67/300 --> loss: 0.4604 - accuracy: 0.9652 | Validation loss: 0.4044 - Validation accuracy: 0.9340\n",
      "Epoch 68/300 --> loss: 0.4516 - accuracy: 0.9678 | Validation loss: 0.3881 - Validation accuracy: 0.9306\n",
      "Epoch 69/300 --> loss: 0.4551 - accuracy: 0.9661 | Validation loss: 0.3759 - Validation accuracy: 0.9375\n",
      "Epoch 70/300 --> loss: 0.4502 - accuracy: 0.9643 | Validation loss: 0.3796 - Validation accuracy: 0.9340\n",
      "Epoch 71/300 --> loss: 0.4361 - accuracy: 0.9678 | Validation loss: 0.3708 - Validation accuracy: 0.9444\n",
      "Epoch 72/300 --> loss: 0.4431 - accuracy: 0.9687 | Validation loss: 0.3711 - Validation accuracy: 0.9306\n",
      "Epoch 73/300 --> loss: 0.4365 - accuracy: 0.9687 | Validation loss: 0.3690 - Validation accuracy: 0.9340\n",
      "Epoch 74/300 --> loss: 0.4317 - accuracy: 0.9687 | Validation loss: 0.3628 - Validation accuracy: 0.9375\n",
      "Epoch 75/300 --> loss: 0.4239 - accuracy: 0.9687 | Validation loss: 0.3592 - Validation accuracy: 0.9306\n",
      "Epoch 76/300 --> loss: 0.4150 - accuracy: 0.9687 | Validation loss: 0.3470 - Validation accuracy: 0.9410\n",
      "Epoch 77/300 --> loss: 0.3895 - accuracy: 0.9695 | Validation loss: 0.3410 - Validation accuracy: 0.9444\n",
      "Epoch 78/300 --> loss: 0.4010 - accuracy: 0.9748 | Validation loss: 0.3366 - Validation accuracy: 0.9375\n",
      "Epoch 79/300 --> loss: 0.3974 - accuracy: 0.9739 | Validation loss: 0.3327 - Validation accuracy: 0.9410\n",
      "Epoch 80/300 --> loss: 0.4011 - accuracy: 0.9713 | Validation loss: 0.3341 - Validation accuracy: 0.9410\n",
      "Epoch 81/300 --> loss: 0.4062 - accuracy: 0.9791 | Validation loss: 0.3344 - Validation accuracy: 0.9340\n",
      "Epoch 82/300 --> loss: 0.3850 - accuracy: 0.9756 | Validation loss: 0.3366 - Validation accuracy: 0.9236\n",
      "Epoch 83/300 --> loss: 0.3866 - accuracy: 0.9721 | Validation loss: 0.3182 - Validation accuracy: 0.9340\n",
      "Epoch 84/300 --> loss: 0.3754 - accuracy: 0.9765 | Validation loss: 0.3146 - Validation accuracy: 0.9444\n",
      "Epoch 85/300 --> loss: 0.3857 - accuracy: 0.9756 | Validation loss: 0.3213 - Validation accuracy: 0.9375\n",
      "Epoch 86/300 --> loss: 0.3524 - accuracy: 0.9791 | Validation loss: 0.3120 - Validation accuracy: 0.9375\n",
      "Epoch 87/300 --> loss: 0.3703 - accuracy: 0.9774 | Validation loss: 0.3115 - Validation accuracy: 0.9375\n",
      "Epoch 88/300 --> loss: 0.3554 - accuracy: 0.9800 | Validation loss: 0.3155 - Validation accuracy: 0.9306\n",
      "Epoch 89/300 --> loss: 0.3782 - accuracy: 0.9809 | Validation loss: 0.3103 - Validation accuracy: 0.9340\n",
      "Epoch 90/300 --> loss: 0.3746 - accuracy: 0.9809 | Validation loss: 0.3063 - Validation accuracy: 0.9340\n",
      "Epoch 91/300 --> loss: 0.3506 - accuracy: 0.9782 | Validation loss: 0.2953 - Validation accuracy: 0.9375\n",
      "Epoch 92/300 --> loss: 0.3460 - accuracy: 0.9791 | Validation loss: 0.2961 - Validation accuracy: 0.9410\n",
      "Epoch 93/300 --> loss: 0.3714 - accuracy: 0.9782 | Validation loss: 0.2965 - Validation accuracy: 0.9375\n",
      "Epoch 94/300 --> loss: 0.3382 - accuracy: 0.9765 | Validation loss: 0.2964 - Validation accuracy: 0.9306\n",
      "Epoch 95/300 --> loss: 0.3295 - accuracy: 0.9800 | Validation loss: 0.2817 - Validation accuracy: 0.9340\n",
      "Epoch 96/300 --> loss: 0.3314 - accuracy: 0.9800 | Validation loss: 0.2870 - Validation accuracy: 0.9410\n",
      "Epoch 97/300 --> loss: 0.3283 - accuracy: 0.9800 | Validation loss: 0.2853 - Validation accuracy: 0.9479\n",
      "Epoch 98/300 --> loss: 0.3306 - accuracy: 0.9774 | Validation loss: 0.2789 - Validation accuracy: 0.9444\n",
      "Epoch 99/300 --> loss: 0.3233 - accuracy: 0.9800 | Validation loss: 0.2774 - Validation accuracy: 0.9410\n",
      "Epoch 100/300 --> loss: 0.3170 - accuracy: 0.9817 | Validation loss: 0.2733 - Validation accuracy: 0.9444\n",
      "Epoch 101/300 --> loss: 0.3367 - accuracy: 0.9800 | Validation loss: 0.2697 - Validation accuracy: 0.9375\n",
      "Epoch 102/300 --> loss: 0.3035 - accuracy: 0.9835 | Validation loss: 0.2798 - Validation accuracy: 0.9306\n",
      "Epoch 103/300 --> loss: 0.3084 - accuracy: 0.9800 | Validation loss: 0.2724 - Validation accuracy: 0.9306\n",
      "Epoch 104/300 --> loss: 0.3017 - accuracy: 0.9826 | Validation loss: 0.2646 - Validation accuracy: 0.9340\n",
      "Epoch 105/300 --> loss: 0.3054 - accuracy: 0.9826 | Validation loss: 0.2718 - Validation accuracy: 0.9375\n",
      "Epoch 106/300 --> loss: 0.3047 - accuracy: 0.9809 | Validation loss: 0.2719 - Validation accuracy: 0.9375\n",
      "Epoch 107/300 --> loss: 0.2790 - accuracy: 0.9835 | Validation loss: 0.2655 - Validation accuracy: 0.9410\n",
      "Epoch 108/300 --> loss: 0.3216 - accuracy: 0.9826 | Validation loss: 0.2636 - Validation accuracy: 0.9306\n",
      "Epoch 109/300 --> loss: 0.3097 - accuracy: 0.9843 | Validation loss: 0.2623 - Validation accuracy: 0.9306\n",
      "Epoch 110/300 --> loss: 0.2964 - accuracy: 0.9861 | Validation loss: 0.2645 - Validation accuracy: 0.9271\n",
      "Epoch 111/300 --> loss: 0.3016 - accuracy: 0.9852 | Validation loss: 0.2702 - Validation accuracy: 0.9375\n",
      "Epoch 112/300 --> loss: 0.2784 - accuracy: 0.9835 | Validation loss: 0.2718 - Validation accuracy: 0.9201\n",
      "Epoch 113/300 --> loss: 0.3083 - accuracy: 0.9843 | Validation loss: 0.2525 - Validation accuracy: 0.9236\n",
      "Epoch 114/300 --> loss: 0.2774 - accuracy: 0.9843 | Validation loss: 0.2563 - Validation accuracy: 0.9444\n",
      "Epoch 115/300 --> loss: 0.2910 - accuracy: 0.9843 | Validation loss: 0.2574 - Validation accuracy: 0.9444\n",
      "Epoch 116/300 --> loss: 0.2833 - accuracy: 0.9843 | Validation loss: 0.2518 - Validation accuracy: 0.9444\n",
      "Epoch 117/300 --> loss: 0.2404 - accuracy: 0.9843 | Validation loss: 0.2458 - Validation accuracy: 0.9340\n",
      "Epoch 118/300 --> loss: 0.2759 - accuracy: 0.9861 | Validation loss: 0.2469 - Validation accuracy: 0.9444\n",
      "Epoch 119/300 --> loss: 0.2823 - accuracy: 0.9843 | Validation loss: 0.2414 - Validation accuracy: 0.9340\n",
      "Epoch 120/300 --> loss: 0.2793 - accuracy: 0.9878 | Validation loss: 0.2425 - Validation accuracy: 0.9410\n",
      "Epoch 121/300 --> loss: 0.2556 - accuracy: 0.9852 | Validation loss: 0.2387 - Validation accuracy: 0.9375\n",
      "Epoch 122/300 --> loss: 0.2680 - accuracy: 0.9861 | Validation loss: 0.2429 - Validation accuracy: 0.9410\n",
      "Epoch 123/300 --> loss: 0.2464 - accuracy: 0.9869 | Validation loss: 0.2435 - Validation accuracy: 0.9340\n",
      "Epoch 124/300 --> loss: 0.2566 - accuracy: 0.9869 | Validation loss: 0.2392 - Validation accuracy: 0.9375\n",
      "Epoch 125/300 --> loss: 0.2683 - accuracy: 0.9869 | Validation loss: 0.2463 - Validation accuracy: 0.9410\n",
      "Epoch 126/300 --> loss: 0.2842 - accuracy: 0.9878 | Validation loss: 0.2502 - Validation accuracy: 0.9306\n",
      "Epoch 127/300 --> loss: 0.2584 - accuracy: 0.9852 | Validation loss: 0.2338 - Validation accuracy: 0.9410\n",
      "Epoch 128/300 --> loss: 0.2593 - accuracy: 0.9869 | Validation loss: 0.2383 - Validation accuracy: 0.9444\n",
      "Epoch 129/300 --> loss: 0.2703 - accuracy: 0.9852 | Validation loss: 0.2420 - Validation accuracy: 0.9410\n",
      "Epoch 130/300 --> loss: 0.2481 - accuracy: 0.9869 | Validation loss: 0.2371 - Validation accuracy: 0.9375\n",
      "Epoch 131/300 --> loss: 0.2528 - accuracy: 0.9861 | Validation loss: 0.2343 - Validation accuracy: 0.9375\n",
      "Epoch 132/300 --> loss: 0.2567 - accuracy: 0.9869 | Validation loss: 0.2302 - Validation accuracy: 0.9340\n",
      "Epoch 133/300 --> loss: 0.2547 - accuracy: 0.9887 | Validation loss: 0.2267 - Validation accuracy: 0.9479\n",
      "Epoch 134/300 --> loss: 0.2629 - accuracy: 0.9869 | Validation loss: 0.2261 - Validation accuracy: 0.9479\n",
      "Epoch 135/300 --> loss: 0.2534 - accuracy: 0.9878 | Validation loss: 0.2260 - Validation accuracy: 0.9444\n",
      "Epoch 136/300 --> loss: 0.2612 - accuracy: 0.9869 | Validation loss: 0.2226 - Validation accuracy: 0.9410\n",
      "Epoch 137/300 --> loss: 0.2594 - accuracy: 0.9878 | Validation loss: 0.2222 - Validation accuracy: 0.9444\n",
      "Epoch 138/300 --> loss: 0.2596 - accuracy: 0.9878 | Validation loss: 0.2213 - Validation accuracy: 0.9410\n",
      "Epoch 139/300 --> loss: 0.2392 - accuracy: 0.9878 | Validation loss: 0.2178 - Validation accuracy: 0.9479\n",
      "Epoch 140/300 --> loss: 0.2447 - accuracy: 0.9878 | Validation loss: 0.2241 - Validation accuracy: 0.9375\n",
      "Epoch 141/300 --> loss: 0.2369 - accuracy: 0.9904 | Validation loss: 0.2099 - Validation accuracy: 0.9375\n",
      "Epoch 142/300 --> loss: 0.2335 - accuracy: 0.9896 | Validation loss: 0.2148 - Validation accuracy: 0.9444\n",
      "Epoch 143/300 --> loss: 0.2262 - accuracy: 0.9904 | Validation loss: 0.2149 - Validation accuracy: 0.9375\n",
      "Epoch 144/300 --> loss: 0.2329 - accuracy: 0.9896 | Validation loss: 0.2135 - Validation accuracy: 0.9375\n",
      "Epoch 145/300 --> loss: 0.2234 - accuracy: 0.9887 | Validation loss: 0.2195 - Validation accuracy: 0.9375\n",
      "Epoch 146/300 --> loss: 0.2090 - accuracy: 0.9896 | Validation loss: 0.2171 - Validation accuracy: 0.9340\n",
      "Epoch 147/300 --> loss: 0.2297 - accuracy: 0.9878 | Validation loss: 0.2072 - Validation accuracy: 0.9410\n",
      "Epoch 148/300 --> loss: 0.2420 - accuracy: 0.9861 | Validation loss: 0.2153 - Validation accuracy: 0.9444\n",
      "Epoch 149/300 --> loss: 0.2433 - accuracy: 0.9887 | Validation loss: 0.2117 - Validation accuracy: 0.9375\n",
      "Epoch 150/300 --> loss: 0.2242 - accuracy: 0.9896 | Validation loss: 0.2042 - Validation accuracy: 0.9549\n",
      "Epoch 151/300 --> loss: 0.2341 - accuracy: 0.9922 | Validation loss: 0.2066 - Validation accuracy: 0.9410\n",
      "Epoch 152/300 --> loss: 0.2103 - accuracy: 0.9896 | Validation loss: 0.2038 - Validation accuracy: 0.9444\n",
      "Epoch 153/300 --> loss: 0.1999 - accuracy: 0.9913 | Validation loss: 0.2125 - Validation accuracy: 0.9375\n",
      "Epoch 154/300 --> loss: 0.2192 - accuracy: 0.9896 | Validation loss: 0.2040 - Validation accuracy: 0.9444\n",
      "Epoch 155/300 --> loss: 0.2227 - accuracy: 0.9904 | Validation loss: 0.2044 - Validation accuracy: 0.9479\n",
      "Epoch 156/300 --> loss: 0.2108 - accuracy: 0.9896 | Validation loss: 0.2040 - Validation accuracy: 0.9479\n",
      "Epoch 157/300 --> loss: 0.1936 - accuracy: 0.9904 | Validation loss: 0.2113 - Validation accuracy: 0.9444\n",
      "Epoch 158/300 --> loss: 0.2038 - accuracy: 0.9904 | Validation loss: 0.2098 - Validation accuracy: 0.9340\n",
      "Epoch 159/300 --> loss: 0.2081 - accuracy: 0.9896 | Validation loss: 0.1978 - Validation accuracy: 0.9444\n",
      "Epoch 160/300 --> loss: 0.2060 - accuracy: 0.9896 | Validation loss: 0.1949 - Validation accuracy: 0.9514\n",
      "Epoch 161/300 --> loss: 0.2035 - accuracy: 0.9896 | Validation loss: 0.1939 - Validation accuracy: 0.9514\n",
      "Epoch 162/300 --> loss: 0.2138 - accuracy: 0.9904 | Validation loss: 0.2081 - Validation accuracy: 0.9410\n",
      "Epoch 163/300 --> loss: 0.2332 - accuracy: 0.9904 | Validation loss: 0.2014 - Validation accuracy: 0.9444\n",
      "Epoch 164/300 --> loss: 0.2136 - accuracy: 0.9922 | Validation loss: 0.1984 - Validation accuracy: 0.9340\n",
      "Epoch 165/300 --> loss: 0.1870 - accuracy: 0.9913 | Validation loss: 0.2002 - Validation accuracy: 0.9410\n",
      "Epoch 166/300 --> loss: 0.1951 - accuracy: 0.9922 | Validation loss: 0.1985 - Validation accuracy: 0.9410\n",
      "Epoch 167/300 --> loss: 0.2162 - accuracy: 0.9904 | Validation loss: 0.1943 - Validation accuracy: 0.9340\n",
      "Epoch 168/300 --> loss: 0.1863 - accuracy: 0.9896 | Validation loss: 0.1933 - Validation accuracy: 0.9410\n",
      "Epoch 169/300 --> loss: 0.1975 - accuracy: 0.9904 | Validation loss: 0.1945 - Validation accuracy: 0.9410\n",
      "Epoch 170/300 --> loss: 0.1932 - accuracy: 0.9922 | Validation loss: 0.1919 - Validation accuracy: 0.9444\n",
      "Epoch 171/300 --> loss: 0.2229 - accuracy: 0.9913 | Validation loss: 0.1908 - Validation accuracy: 0.9444\n",
      "Epoch 172/300 --> loss: 0.1875 - accuracy: 0.9904 | Validation loss: 0.1938 - Validation accuracy: 0.9375\n",
      "Epoch 173/300 --> loss: 0.2155 - accuracy: 0.9904 | Validation loss: 0.1905 - Validation accuracy: 0.9479\n",
      "Epoch 174/300 --> loss: 0.1926 - accuracy: 0.9913 | Validation loss: 0.1943 - Validation accuracy: 0.9479\n",
      "Epoch 175/300 --> loss: 0.1939 - accuracy: 0.9939 | Validation loss: 0.1913 - Validation accuracy: 0.9410\n",
      "Epoch 176/300 --> loss: 0.1875 - accuracy: 0.9939 | Validation loss: 0.1900 - Validation accuracy: 0.9444\n",
      "Epoch 177/300 --> loss: 0.1884 - accuracy: 0.9904 | Validation loss: 0.1861 - Validation accuracy: 0.9375\n",
      "Epoch 178/300 --> loss: 0.1700 - accuracy: 0.9913 | Validation loss: 0.1859 - Validation accuracy: 0.9444\n",
      "Epoch 179/300 --> loss: 0.1944 - accuracy: 0.9913 | Validation loss: 0.1816 - Validation accuracy: 0.9444\n",
      "Epoch 180/300 --> loss: 0.1770 - accuracy: 0.9913 | Validation loss: 0.1827 - Validation accuracy: 0.9514\n",
      "Epoch 181/300 --> loss: 0.1766 - accuracy: 0.9913 | Validation loss: 0.1874 - Validation accuracy: 0.9444\n",
      "Epoch 182/300 --> loss: 0.1979 - accuracy: 0.9922 | Validation loss: 0.1810 - Validation accuracy: 0.9514\n",
      "Epoch 183/300 --> loss: 0.1943 - accuracy: 0.9939 | Validation loss: 0.1894 - Validation accuracy: 0.9410\n",
      "Epoch 184/300 --> loss: 0.1696 - accuracy: 0.9939 | Validation loss: 0.1883 - Validation accuracy: 0.9410\n",
      "Epoch 185/300 --> loss: 0.1941 - accuracy: 0.9939 | Validation loss: 0.1857 - Validation accuracy: 0.9375\n",
      "Epoch 186/300 --> loss: 0.1894 - accuracy: 0.9930 | Validation loss: 0.1790 - Validation accuracy: 0.9410\n",
      "Epoch 187/300 --> loss: 0.1943 - accuracy: 0.9930 | Validation loss: 0.1864 - Validation accuracy: 0.9444\n",
      "Epoch 188/300 --> loss: 0.1803 - accuracy: 0.9922 | Validation loss: 0.1817 - Validation accuracy: 0.9549\n",
      "Epoch 189/300 --> loss: 0.1775 - accuracy: 0.9930 | Validation loss: 0.1708 - Validation accuracy: 0.9514\n",
      "Epoch 190/300 --> loss: 0.1896 - accuracy: 0.9930 | Validation loss: 0.1837 - Validation accuracy: 0.9410\n",
      "Epoch 191/300 --> loss: 0.1697 - accuracy: 0.9930 | Validation loss: 0.1784 - Validation accuracy: 0.9444\n",
      "Epoch 192/300 --> loss: 0.1810 - accuracy: 0.9930 | Validation loss: 0.1884 - Validation accuracy: 0.9444\n",
      "Epoch 193/300 --> loss: 0.1709 - accuracy: 0.9922 | Validation loss: 0.1718 - Validation accuracy: 0.9444\n",
      "Epoch 194/300 --> loss: 0.1759 - accuracy: 0.9930 | Validation loss: 0.1766 - Validation accuracy: 0.9444\n",
      "Epoch 195/300 --> loss: 0.1658 - accuracy: 0.9939 | Validation loss: 0.1869 - Validation accuracy: 0.9479\n",
      "Epoch 196/300 --> loss: 0.1687 - accuracy: 0.9939 | Validation loss: 0.1851 - Validation accuracy: 0.9375\n",
      "Epoch 197/300 --> loss: 0.1583 - accuracy: 0.9939 | Validation loss: 0.1824 - Validation accuracy: 0.9479\n",
      "Epoch 198/300 --> loss: 0.1868 - accuracy: 0.9948 | Validation loss: 0.1803 - Validation accuracy: 0.9375\n",
      "Epoch 199/300 --> loss: 0.1743 - accuracy: 0.9939 | Validation loss: 0.1850 - Validation accuracy: 0.9444\n",
      "Early stopping: stopping training after 198 epochs.\n"
     ]
    }
   ],
   "source": [
    "history = model.fit(\n",
    "    X_train = X_train, \n",
    "    y_train = y_train_encoded,\n",
    "    optimizer = optimizer,\n",
    "    loss_fn = loss_fn,\n",
    "    X_valid = X_valid,\n",
    "    y_valid = y_valid_encoded,\n",
    "    batch_size = batch_size,\n",
    "    epochs = epochs,\n",
    "    metrics = [metrics.accuracy],\n",
    "    callbacks = [callbacks.EarlyStopping(monitor='val_loss', patience=10)]\n",
    ")"
   ]
  },
  {
   "cell_type": "code",
   "execution_count": 14,
   "metadata": {},
   "outputs": [
    {
     "data": {
      "image/png": "[encoded data removed]",
      "text/plain": [
       "<Figure size 800x400 with 1 Axes>"
      ]
     },
     "metadata": {},
     "output_type": "display_data"
    }
   ],
   "source": [
    "# Plot the training and validation loss\n",
    "utils.plot_history(history[\"loss\"], history[\"val_loss\"], \"Training and Validation Loss\", \"Epoch\", \"Loss\")"
   ]
  },
  {
   "cell_type": "markdown",
   "metadata": {},
   "source": [
    "### Model evaluation"
   ]
  },
  {
   "cell_type": "code",
   "execution_count": 15,
   "metadata": {},
   "outputs": [],
   "source": [
    "# Predict the labels\n",
    "predictions = model(X_test)\n",
    "\n",
    "# Apply the argmax function to the predictions\n",
    "predictions = np.argmax(predictions, axis=1)"
   ]
  },
  {
   "cell_type": "code",
   "execution_count": 16,
   "metadata": {},
   "outputs": [
    {
     "name": "stdout",
     "output_type": "stream",
     "text": [
      "Accuracy: 0.96\n"
     ]
    },
    {
     "data": {
      "image/png": "[encoded data removed]",
      "text/plain": [
       "<Figure size 600x600 with 1 Axes>"
      ]
     },
     "metadata": {},
     "output_type": "display_data"
    }
   ],
   "source": [
    "# Compute the accuracy\n",
    "accuracy = metrics.accuracy(predictions, y_test)\n",
    "confusion_matrix = metrics.confusion_matrix(num_classes, predictions, y_test)\n",
    "\n",
    "# Print the accuracy\n",
    "print(f\"Accuracy: {accuracy:.2f}\")\n",
    "\n",
    "# Plot the confusion matrix\n",
    "utils.plot_confusion_matrix(confusion_matrix)"
   ]
  }
 ],
 "metadata": {
  "kernelspec": {
   "display_name": "venv",
   "language": "python",
   "name": "python3"
  },
  "language_info": {
   "codemirror_mode": {
    "name": "ipython",
    "version": 3
   },
   "file_extension": ".py",
   "mimetype": "text/x-python",
   "name": "python",
   "nbconvert_exporter": "python",
   "pygments_lexer": "ipython3",
   "version": "3.11.11"
  }
 },
 "nbformat": 4,
 "nbformat_minor": 2
}
