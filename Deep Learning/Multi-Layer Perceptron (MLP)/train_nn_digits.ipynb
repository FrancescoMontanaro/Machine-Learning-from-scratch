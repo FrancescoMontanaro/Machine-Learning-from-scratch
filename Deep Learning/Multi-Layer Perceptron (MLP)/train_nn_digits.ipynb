{
 "cells": [
  {
   "cell_type": "code",
   "execution_count": 1,
   "metadata": {},
   "outputs": [],
   "source": [
    "import sys\n",
    "import numpy as np\n",
    "import matplotlib.pyplot as plt\n",
    "from sklearn.datasets import load_digits\n",
    "\n",
    "# Add the path to the custom library to the system path\n",
    "sys.path.append('..')\n",
    "\n",
    "# Import the module from the custom library\n",
    "from src.core.utils import data_analysis, data_processing, context_manager\n",
    "from src import Tensor, Sequential, layers, activations, loss_functions, optimizers, metrics, callbacks"
   ]
  },
  {
   "cell_type": "markdown",
   "metadata": {},
   "source": [
    "### Constants and Hyperparameters"
   ]
  },
  {
   "cell_type": "code",
   "execution_count": 2,
   "metadata": {},
   "outputs": [],
   "source": [
    "train_test_split_pct = 0.2 # Percentage of samples to use for testing\n",
    "train_valid_split = 0.2 # Percentage of samples to use for validation\n",
    "learning_rate = 1e-4 # Learning rate for the optimizer\n",
    "batch_size = 16 # Number of samples to use for each batch\n",
    "epochs = 300 # Number of epochs to train the model\n",
    "seed = 1234 # Seed for reproducibility"
   ]
  },
  {
   "cell_type": "code",
   "execution_count": 3,
   "metadata": {},
   "outputs": [],
   "source": [
    "# Set the seed for reproducibility\n",
    "np.random.seed(seed)"
   ]
  },
  {
   "cell_type": "markdown",
   "metadata": {},
   "source": [
    "### Data loading"
   ]
  },
  {
   "cell_type": "code",
   "execution_count": 4,
   "metadata": {},
   "outputs": [
    {
     "name": "stdout",
     "output_type": "stream",
     "text": [
      "Number of classes: 10\n",
      "Training set: (1151, 64) (1151,)\n",
      "Validation set: (287, 64) (287,)\n",
      "Testing set: (359, 64) (359,)\n"
     ]
    }
   ],
   "source": [
    "# Load the digits dataset\n",
    "digits = load_digits()\n",
    "\n",
    "# Extract the number of classes in the dataset\n",
    "num_classes = len(np.unique(digits['target'])) # type: ignore\n",
    "\n",
    "# Extract the input and output data\n",
    "data = Tensor(data=digits.get(\"data\", [])) # type: ignore\n",
    "labels = Tensor(data=digits.get(\"target\", []), dtype=np.int8) # type: ignore\n",
    "\n",
    "# Split the dataset into training, validation, and testing sets\n",
    "X_train, X_test, y_train, y_test = data_processing.split_data((data, labels), train_test_split_pct, shuffle=True)\n",
    "X_train, X_valid, y_train, y_valid = data_processing.split_data((X_train, y_train), train_valid_split, shuffle=True)\n",
    "\n",
    "# Print the dataset information\n",
    "print(\"Number of classes:\", num_classes)\n",
    "print('Training set:', X_train.shape(), y_train.shape())\n",
    "print('Validation set:', X_valid.shape(), y_valid.shape())\n",
    "print('Testing set:', X_test.shape(), y_test.shape())"
   ]
  },
  {
   "cell_type": "markdown",
   "metadata": {},
   "source": [
    "### Data Preprocessing"
   ]
  },
  {
   "cell_type": "code",
   "execution_count": 5,
   "metadata": {},
   "outputs": [],
   "source": [
    "# Normalization\n",
    "def normalize(X: Tensor) -> Tensor:\n",
    "    \"\"\"\n",
    "    Normalize the input data by dividing by the maximum value in the training set.\n",
    "    \n",
    "    Parameters:\n",
    "    - X (Tensor): The input data to normalize\n",
    "    \n",
    "    Returns:\n",
    "    - Tensor: The normalized input data\n",
    "    \"\"\"\n",
    "    \n",
    "    # Normalize the input data\n",
    "    return X / 255.0\n",
    "\n",
    "# Normalize the input data\n",
    "X_train = normalize(X_train)\n",
    "X_valid = normalize(X_valid)\n",
    "X_test = normalize(X_test)"
   ]
  },
  {
   "cell_type": "code",
   "execution_count": 6,
   "metadata": {},
   "outputs": [
    {
     "name": "stdout",
     "output_type": "stream",
     "text": [
      "Sample target value: 3\n",
      "One-hot encoded value: Tensor([0 0 0 1 0 0 0 0 0 0], shape=(10,), dtype=int8)\n"
     ]
    }
   ],
   "source": [
    "# Convert the target values to one-hot encoded vectors\n",
    "y_train_encoded = data_processing.one_hot_encoding(y=y_train, n_classes=num_classes)\n",
    "y_valid_encoded = data_processing.one_hot_encoding(y=y_valid, n_classes=num_classes)\n",
    "\n",
    "# Print one sample encoding\n",
    "print(\"Sample target value:\", y_train[0].data)\n",
    "print(\"One-hot encoded value:\", y_train_encoded[0])"
   ]
  },
  {
   "cell_type": "markdown",
   "metadata": {},
   "source": [
    "### Data visualization"
   ]
  },
  {
   "cell_type": "code",
   "execution_count": 7,
   "metadata": {},
   "outputs": [
    {
     "data": {
      "image/png": "[encoded data removed]",
      "text/plain": [
       "<Figure size 2000x500 with 10 Axes>"
      ]
     },
     "metadata": {},
     "output_type": "display_data"
    }
   ],
   "source": [
    "def plot_samples(samples: list[np.ndarray], labels: list[np.ndarray]) -> None:\n",
    "    \"\"\"\n",
    "    Plot the samples in a grid.\n",
    "    \n",
    "    Parameters:\n",
    "    - samples (list[np.ndarray]): The samples to plot\n",
    "    - labels (list[np.ndarray]): The labels of the samples\n",
    "    \"\"\"\n",
    "    \n",
    "    reshaped_samples = []\n",
    "    \n",
    "    # Iterate over the samples\n",
    "    for sample in samples:\n",
    "        # Compute the new shape\n",
    "        new_shape = np.sqrt(sample.shape).astype(int)[0]\n",
    "        \n",
    "        # Reshape the sample\n",
    "        sample = sample.reshape(new_shape, new_shape)\n",
    "        \n",
    "        # Append the reshaped sample\n",
    "        reshaped_samples.append(sample)\n",
    "        \n",
    "    # Plot the samples in a grid\n",
    "    _, axes = plt.subplots(1, len(samples), figsize=(20, 5))\n",
    "    for i, ax in enumerate(axes):\n",
    "        ax.imshow(reshaped_samples[i], cmap='gray')\n",
    "        ax.set_title(f'Label: {labels[i]}')\n",
    "        ax.axis('off')\n",
    "        \n",
    "        \n",
    "# Plot the first 10 samples\n",
    "plot_samples(list(X_train.data[:10]), list(y_train.data[:10]))"
   ]
  },
  {
   "cell_type": "markdown",
   "metadata": {},
   "source": [
    "### Building the model"
   ]
  },
  {
   "cell_type": "code",
   "execution_count": 8,
   "metadata": {},
   "outputs": [],
   "source": [
    "\n",
    "model = Sequential(\n",
    "    name = \"Digits Classifier\",\n",
    "    modules = [\n",
    "        layers.Dense(num_units=24, activation=activations.ReLU()),\n",
    "        layers.BatchNormalization(),\n",
    "        layers.Dropout(rate=0.1),\n",
    "        layers.Dense(num_units=32, activation=activations.ReLU()),\n",
    "        layers.Dropout(rate=0.1),\n",
    "        layers.Dense(num_units=12, activation=activations.Tanh()),\n",
    "        layers.Dropout(rate=0.1),\n",
    "        layers.Dense(num_units=num_classes, activation=activations.Softmax())\n",
    "    ]\n",
    ")\n",
    "\n",
    "# Initialize the optimizer\n",
    "optimizer = optimizers.Adam(learning_rate=learning_rate)\n",
    "\n",
    "# Initialize the loss function\n",
    "loss_fn = loss_functions.CategoricalCrossEntropy()"
   ]
  },
  {
   "cell_type": "markdown",
   "metadata": {},
   "source": [
    "### Initializing the model"
   ]
  },
  {
   "cell_type": "code",
   "execution_count": 9,
   "metadata": {},
   "outputs": [],
   "source": [
    "# Call the model with a first batch to initialize the weights\n",
    "# This is not necessary, but it is useful to know the input size\n",
    "\n",
    "# Disable gradient computation\n",
    "with context_manager.no_grad():\n",
    "    # Set the model in evaluation mode\n",
    "    model.eval()\n",
    "    \n",
    "    # Call the model with a batch of data to initialize it\n",
    "    model(X_train[:batch_size])"
   ]
  },
  {
   "cell_type": "code",
   "execution_count": 10,
   "metadata": {},
   "outputs": [
    {
     "name": "stdout",
     "output_type": "stream",
     "text": [
      "\n",
      "Digits Classifier\n",
      "\n",
      "-----------------------------------------------------------------------------------------------\n",
      "Module (type)                                          Output Shape        Trainable params #  \n",
      "===============================================================================================\n",
      "digits_classifier.modules[0].dense (Dense)             (16, 24)            1560                \n",
      "-----------------------------------------------------------------------------------------------\n",
      "digits_classifier.modules[1].batchnormalization   \n",
      "(BatchNormalization)                                   (16, 24)            48                  \n",
      "-----------------------------------------------------------------------------------------------\n",
      "digits_classifier.modules[2].dropout (Dropout)         (16, 24)            0                   \n",
      "-----------------------------------------------------------------------------------------------\n",
      "digits_classifier.modules[3].dense (Dense)             (16, 32)            800                 \n",
      "-----------------------------------------------------------------------------------------------\n",
      "digits_classifier.modules[4].dropout (Dropout)         (16, 32)            0                   \n",
      "-----------------------------------------------------------------------------------------------\n",
      "digits_classifier.modules[5].dense (Dense)             (16, 12)            396                 \n",
      "-----------------------------------------------------------------------------------------------\n",
      "digits_classifier.modules[6].dropout (Dropout)         (16, 12)            0                   \n",
      "-----------------------------------------------------------------------------------------------\n",
      "digits_classifier.modules[7].dense (Dense)             (16, 10)            130                 \n",
      "===============================================================================================\n",
      "Total trainable parameters: 2934\n",
      "-----------------------------------------------------------------------------------------------\n"
     ]
    }
   ],
   "source": [
    "# Display the model summary\n",
    "model.summary()"
   ]
  },
  {
   "cell_type": "markdown",
   "metadata": {},
   "source": [
    "### Training the model"
   ]
  },
  {
   "cell_type": "code",
   "execution_count": 11,
   "metadata": {},
   "outputs": [
    {
     "name": "stdout",
     "output_type": "stream",
     "text": [
      "Epoch 1/300 --> loss: 2.2843 - accuracy: 0.1243 | Validation loss: 2.2853 - Validation accuracy: 0.1572                     \n",
      "Epoch 2/300 --> loss: 2.2339 - accuracy: 0.2035 | Validation loss: 2.2012 - Validation accuracy: 0.2859                     \n",
      "Epoch 3/300 --> loss: 2.1892 - accuracy: 0.2814 | Validation loss: 2.1494 - Validation accuracy: 0.3486                     \n",
      "Epoch 4/300 --> loss: 2.1447 - accuracy: 0.3483 | Validation loss: 2.0928 - Validation accuracy: 0.4250                     \n",
      "Epoch 5/300 --> loss: 2.0876 - accuracy: 0.4221 | Validation loss: 2.0365 - Validation accuracy: 0.4669                     \n",
      "Epoch 6/300 --> loss: 2.0343 - accuracy: 0.4753 | Validation loss: 1.9729 - Validation accuracy: 0.5123                     \n",
      "Epoch 7/300 --> loss: 1.9678 - accuracy: 0.5178 | Validation loss: 1.9088 - Validation accuracy: 0.5227                     \n",
      "Epoch 8/300 --> loss: 1.9182 - accuracy: 0.5204 | Validation loss: 1.8480 - Validation accuracy: 0.5440                     \n",
      "Epoch 9/300 --> loss: 1.8568 - accuracy: 0.5473 | Validation loss: 1.7880 - Validation accuracy: 0.5720                     \n",
      "Epoch 10/300 --> loss: 1.7974 - accuracy: 0.5738 | Validation loss: 1.7192 - Validation accuracy: 0.5720                     \n",
      "Epoch 11/300 --> loss: 1.7471 - accuracy: 0.5682 | Validation loss: 1.6571 - Validation accuracy: 0.5928                     \n",
      "Epoch 12/300 --> loss: 1.6760 - accuracy: 0.5925 | Validation loss: 1.6022 - Validation accuracy: 0.5963                     \n",
      "Epoch 13/300 --> loss: 1.6347 - accuracy: 0.6030 | Validation loss: 1.5492 - Validation accuracy: 0.6137                     \n",
      "Epoch 14/300 --> loss: 1.5701 - accuracy: 0.6205 | Validation loss: 1.5057 - Validation accuracy: 0.6102                     \n",
      "Epoch 15/300 --> loss: 1.5359 - accuracy: 0.6299 | Validation loss: 1.4470 - Validation accuracy: 0.6414                     \n",
      "Epoch 16/300 --> loss: 1.4877 - accuracy: 0.6481 | Validation loss: 1.3995 - Validation accuracy: 0.6588                     \n",
      "Epoch 17/300 --> loss: 1.4349 - accuracy: 0.6569 | Validation loss: 1.3622 - Validation accuracy: 0.6796                     \n",
      "Epoch 18/300 --> loss: 1.4102 - accuracy: 0.6655 | Validation loss: 1.3175 - Validation accuracy: 0.7005                     \n",
      "Epoch 19/300 --> loss: 1.3634 - accuracy: 0.6889 | Validation loss: 1.2712 - Validation accuracy: 0.7106                     \n",
      "Epoch 20/300 --> loss: 1.3307 - accuracy: 0.6899 | Validation loss: 1.2342 - Validation accuracy: 0.7109                     \n",
      "Epoch 21/300 --> loss: 1.3052 - accuracy: 0.6873 | Validation loss: 1.1957 - Validation accuracy: 0.7181                     \n",
      "Epoch 22/300 --> loss: 1.2580 - accuracy: 0.6969 | Validation loss: 1.1612 - Validation accuracy: 0.7072                     \n",
      "Epoch 23/300 --> loss: 1.2421 - accuracy: 0.7097 | Validation loss: 1.1242 - Validation accuracy: 0.7315                     \n",
      "Epoch 24/300 --> loss: 1.1868 - accuracy: 0.7157 | Validation loss: 1.0899 - Validation accuracy: 0.7493                     \n",
      "Epoch 25/300 --> loss: 1.1603 - accuracy: 0.7281 | Validation loss: 1.0611 - Validation accuracy: 0.7389                     \n",
      "Epoch 26/300 --> loss: 1.1318 - accuracy: 0.7428 | Validation loss: 1.0269 - Validation accuracy: 0.7563                     \n",
      "Epoch 27/300 --> loss: 1.1263 - accuracy: 0.7402 | Validation loss: 0.9955 - Validation accuracy: 0.7597                     \n",
      "Epoch 28/300 --> loss: 1.0800 - accuracy: 0.7663 | Validation loss: 0.9668 - Validation accuracy: 0.7704                     \n",
      "Epoch 29/300 --> loss: 1.0433 - accuracy: 0.7644 | Validation loss: 0.9431 - Validation accuracy: 0.7704                     \n",
      "Epoch 30/300 --> loss: 1.0284 - accuracy: 0.7558 | Validation loss: 0.9161 - Validation accuracy: 0.7808                     \n",
      "Epoch 31/300 --> loss: 1.0009 - accuracy: 0.7664 | Validation loss: 0.8871 - Validation accuracy: 0.7947                     \n",
      "Epoch 32/300 --> loss: 0.9662 - accuracy: 0.7915 | Validation loss: 0.8602 - Validation accuracy: 0.8051                     \n",
      "Epoch 33/300 --> loss: 0.9686 - accuracy: 0.7880 | Validation loss: 0.8425 - Validation accuracy: 0.8051                     \n",
      "Epoch 34/300 --> loss: 0.9397 - accuracy: 0.7862 | Validation loss: 0.8158 - Validation accuracy: 0.8120                     \n",
      "Epoch 35/300 --> loss: 0.9211 - accuracy: 0.7976 | Validation loss: 0.7920 - Validation accuracy: 0.8294                     \n",
      "Epoch 36/300 --> loss: 0.8818 - accuracy: 0.8175 | Validation loss: 0.7708 - Validation accuracy: 0.8259                     \n",
      "Epoch 37/300 --> loss: 0.8761 - accuracy: 0.8106 | Validation loss: 0.7512 - Validation accuracy: 0.8537                     \n",
      "Epoch 38/300 --> loss: 0.8435 - accuracy: 0.8418 | Validation loss: 0.7293 - Validation accuracy: 0.8537                     \n",
      "Epoch 39/300 --> loss: 0.8113 - accuracy: 0.8341 | Validation loss: 0.7092 - Validation accuracy: 0.8606                     \n",
      "Epoch 40/300 --> loss: 0.8019 - accuracy: 0.8453 | Validation loss: 0.6895 - Validation accuracy: 0.8606                     \n",
      "Epoch 41/300 --> loss: 0.7918 - accuracy: 0.8461 | Validation loss: 0.6725 - Validation accuracy: 0.8884                     \n",
      "Epoch 42/300 --> loss: 0.7906 - accuracy: 0.8383 | Validation loss: 0.6520 - Validation accuracy: 0.8850                     \n",
      "Epoch 43/300 --> loss: 0.7545 - accuracy: 0.8541 | Validation loss: 0.6380 - Validation accuracy: 0.8850                     \n",
      "Epoch 44/300 --> loss: 0.7371 - accuracy: 0.8697 | Validation loss: 0.6252 - Validation accuracy: 0.8884                     \n",
      "Epoch 45/300 --> loss: 0.7250 - accuracy: 0.8644 | Validation loss: 0.6074 - Validation accuracy: 0.8954                     \n",
      "Epoch 46/300 --> loss: 0.7004 - accuracy: 0.8722 | Validation loss: 0.5873 - Validation accuracy: 0.9127                     \n",
      "Epoch 47/300 --> loss: 0.6828 - accuracy: 0.8714 | Validation loss: 0.5728 - Validation accuracy: 0.9058                     \n",
      "Epoch 48/300 --> loss: 0.6895 - accuracy: 0.8801 | Validation loss: 0.5613 - Validation accuracy: 0.9162                     \n",
      "Epoch 49/300 --> loss: 0.6708 - accuracy: 0.8732 | Validation loss: 0.5455 - Validation accuracy: 0.9266                     \n",
      "Epoch 50/300 --> loss: 0.6529 - accuracy: 0.8749 | Validation loss: 0.5280 - Validation accuracy: 0.9370                     \n",
      "Epoch 51/300 --> loss: 0.6427 - accuracy: 0.8931 | Validation loss: 0.5158 - Validation accuracy: 0.9405                     \n",
      "Epoch 52/300 --> loss: 0.6221 - accuracy: 0.8923 | Validation loss: 0.4994 - Validation accuracy: 0.9544                     \n",
      "Epoch 53/300 --> loss: 0.6124 - accuracy: 0.8966 | Validation loss: 0.4936 - Validation accuracy: 0.9336                     \n",
      "Epoch 54/300 --> loss: 0.6076 - accuracy: 0.8941 | Validation loss: 0.4786 - Validation accuracy: 0.9475                     \n",
      "Epoch 55/300 --> loss: 0.5944 - accuracy: 0.9025 | Validation loss: 0.4689 - Validation accuracy: 0.9405                     \n",
      "Epoch 56/300 --> loss: 0.5732 - accuracy: 0.9001 | Validation loss: 0.4596 - Validation accuracy: 0.9544                     \n",
      "Epoch 57/300 --> loss: 0.5557 - accuracy: 0.9183 | Validation loss: 0.4416 - Validation accuracy: 0.9509                     \n",
      "Epoch 58/300 --> loss: 0.5586 - accuracy: 0.9079 | Validation loss: 0.4292 - Validation accuracy: 0.9579                     \n",
      "Epoch 59/300 --> loss: 0.5332 - accuracy: 0.9149 | Validation loss: 0.4235 - Validation accuracy: 0.9475                     \n",
      "Epoch 60/300 --> loss: 0.5429 - accuracy: 0.9053 | Validation loss: 0.4141 - Validation accuracy: 0.9509                     \n",
      "Epoch 61/300 --> loss: 0.5099 - accuracy: 0.9200 | Validation loss: 0.4073 - Validation accuracy: 0.9509                     \n",
      "Epoch 62/300 --> loss: 0.5148 - accuracy: 0.9201 | Validation loss: 0.4010 - Validation accuracy: 0.9579                     \n",
      "Epoch 63/300 --> loss: 0.4923 - accuracy: 0.9217 | Validation loss: 0.3827 - Validation accuracy: 0.9648                     \n",
      "Epoch 64/300 --> loss: 0.4966 - accuracy: 0.9149 | Validation loss: 0.3769 - Validation accuracy: 0.9544                     \n",
      "Epoch 65/300 --> loss: 0.4529 - accuracy: 0.9383 | Validation loss: 0.3708 - Validation accuracy: 0.9648                     \n",
      "Epoch 66/300 --> loss: 0.4684 - accuracy: 0.9252 | Validation loss: 0.3579 - Validation accuracy: 0.9683                     \n",
      "Epoch 67/300 --> loss: 0.4620 - accuracy: 0.9287 | Validation loss: 0.3502 - Validation accuracy: 0.9648                     \n",
      "Epoch 68/300 --> loss: 0.4373 - accuracy: 0.9286 | Validation loss: 0.3450 - Validation accuracy: 0.9683                     \n",
      "Epoch 69/300 --> loss: 0.4453 - accuracy: 0.9253 | Validation loss: 0.3378 - Validation accuracy: 0.9613                     \n",
      "Epoch 70/300 --> loss: 0.4450 - accuracy: 0.9192 | Validation loss: 0.3243 - Validation accuracy: 0.9648                     \n",
      "Epoch 71/300 --> loss: 0.4387 - accuracy: 0.9296 | Validation loss: 0.3241 - Validation accuracy: 0.9718                     \n",
      "Epoch 72/300 --> loss: 0.4375 - accuracy: 0.9209 | Validation loss: 0.3142 - Validation accuracy: 0.9683                     \n",
      "Epoch 73/300 --> loss: 0.4143 - accuracy: 0.9313 | Validation loss: 0.3060 - Validation accuracy: 0.9648                     \n",
      "Epoch 74/300 --> loss: 0.4020 - accuracy: 0.9322 | Validation loss: 0.3039 - Validation accuracy: 0.9613                     \n",
      "Epoch 75/300 --> loss: 0.3822 - accuracy: 0.9427 | Validation loss: 0.2974 - Validation accuracy: 0.9648                     \n",
      "Epoch 76/300 --> loss: 0.3948 - accuracy: 0.9374 | Validation loss: 0.2924 - Validation accuracy: 0.9613                     \n",
      "Epoch 77/300 --> loss: 0.3928 - accuracy: 0.9400 | Validation loss: 0.2825 - Validation accuracy: 0.9683                     \n",
      "Epoch 78/300 --> loss: 0.3926 - accuracy: 0.9219 | Validation loss: 0.2784 - Validation accuracy: 0.9648                     \n",
      "Epoch 79/300 --> loss: 0.3973 - accuracy: 0.9348 | Validation loss: 0.2762 - Validation accuracy: 0.9683                     \n",
      "Epoch 80/300 --> loss: 0.3688 - accuracy: 0.9427 | Validation loss: 0.2687 - Validation accuracy: 0.9683                     \n",
      "Epoch 81/300 --> loss: 0.4044 - accuracy: 0.9183 | Validation loss: 0.2585 - Validation accuracy: 0.9718                     \n",
      "Epoch 82/300 --> loss: 0.3506 - accuracy: 0.9479 | Validation loss: 0.2562 - Validation accuracy: 0.9718                     \n",
      "Epoch 83/300 --> loss: 0.3492 - accuracy: 0.9410 | Validation loss: 0.2488 - Validation accuracy: 0.9718                     \n",
      "Epoch 84/300 --> loss: 0.3534 - accuracy: 0.9383 | Validation loss: 0.2490 - Validation accuracy: 0.9683                     \n",
      "Epoch 85/300 --> loss: 0.3535 - accuracy: 0.9323 | Validation loss: 0.2441 - Validation accuracy: 0.9683                     \n",
      "Epoch 86/300 --> loss: 0.3394 - accuracy: 0.9410 | Validation loss: 0.2415 - Validation accuracy: 0.9648                     \n",
      "Epoch 87/300 --> loss: 0.3323 - accuracy: 0.9418 | Validation loss: 0.2353 - Validation accuracy: 0.9683                     \n",
      "Epoch 88/300 --> loss: 0.3260 - accuracy: 0.9392 | Validation loss: 0.2293 - Validation accuracy: 0.9683                     \n",
      "Epoch 89/300 --> loss: 0.3354 - accuracy: 0.9383 | Validation loss: 0.2253 - Validation accuracy: 0.9720                     \n",
      "Epoch 90/300 --> loss: 0.3183 - accuracy: 0.9503 | Validation loss: 0.2246 - Validation accuracy: 0.9755                     \n",
      "Epoch 91/300 --> loss: 0.2961 - accuracy: 0.9601 | Validation loss: 0.2150 - Validation accuracy: 0.9755                     \n",
      "Epoch 92/300 --> loss: 0.3250 - accuracy: 0.9400 | Validation loss: 0.2119 - Validation accuracy: 0.9718                     \n",
      "Epoch 93/300 --> loss: 0.3153 - accuracy: 0.9400 | Validation loss: 0.2102 - Validation accuracy: 0.9755                     \n",
      "Epoch 94/300 --> loss: 0.3024 - accuracy: 0.9399 | Validation loss: 0.2061 - Validation accuracy: 0.9752                     \n",
      "Epoch 95/300 --> loss: 0.3158 - accuracy: 0.9444 | Validation loss: 0.2025 - Validation accuracy: 0.9755                     \n",
      "Epoch 96/300 --> loss: 0.2973 - accuracy: 0.9470 | Validation loss: 0.2047 - Validation accuracy: 0.9685                     \n",
      "Epoch 97/300 --> loss: 0.2966 - accuracy: 0.9504 | Validation loss: 0.1973 - Validation accuracy: 0.9718                     \n",
      "Epoch 98/300 --> loss: 0.2850 - accuracy: 0.9479 | Validation loss: 0.1952 - Validation accuracy: 0.9683                     \n",
      "Epoch 99/300 --> loss: 0.2937 - accuracy: 0.9436 | Validation loss: 0.1944 - Validation accuracy: 0.9752                     \n",
      "Epoch 100/300 --> loss: 0.2701 - accuracy: 0.9539 | Validation loss: 0.1932 - Validation accuracy: 0.9718                     \n",
      "Epoch 101/300 --> loss: 0.3034 - accuracy: 0.9375 | Validation loss: 0.1855 - Validation accuracy: 0.9752                     \n",
      "Epoch 102/300 --> loss: 0.2738 - accuracy: 0.9557 | Validation loss: 0.1842 - Validation accuracy: 0.9787                     \n",
      "Epoch 103/300 --> loss: 0.2746 - accuracy: 0.9444 | Validation loss: 0.1788 - Validation accuracy: 0.9752                     \n",
      "Epoch 104/300 --> loss: 0.2739 - accuracy: 0.9453 | Validation loss: 0.1772 - Validation accuracy: 0.9718                     \n",
      "Epoch 105/300 --> loss: 0.2636 - accuracy: 0.9505 | Validation loss: 0.1762 - Validation accuracy: 0.9824                     \n",
      "Epoch 106/300 --> loss: 0.2642 - accuracy: 0.9435 | Validation loss: 0.1707 - Validation accuracy: 0.9718                     \n",
      "Epoch 107/300 --> loss: 0.2482 - accuracy: 0.9575 | Validation loss: 0.1674 - Validation accuracy: 0.9752                     \n",
      "Epoch 108/300 --> loss: 0.2524 - accuracy: 0.9575 | Validation loss: 0.1661 - Validation accuracy: 0.9752                     \n",
      "Epoch 109/300 --> loss: 0.2587 - accuracy: 0.9462 | Validation loss: 0.1633 - Validation accuracy: 0.9752                     \n",
      "Epoch 110/300 --> loss: 0.2516 - accuracy: 0.9505 | Validation loss: 0.1627 - Validation accuracy: 0.9752                     \n",
      "Epoch 111/300 --> loss: 0.2513 - accuracy: 0.9557 | Validation loss: 0.1614 - Validation accuracy: 0.9752                     \n",
      "Epoch 112/300 --> loss: 0.2516 - accuracy: 0.9565 | Validation loss: 0.1593 - Validation accuracy: 0.9787                     \n",
      "Epoch 113/300 --> loss: 0.2409 - accuracy: 0.9540 | Validation loss: 0.1573 - Validation accuracy: 0.9787                     \n",
      "Epoch 114/300 --> loss: 0.2350 - accuracy: 0.9566 | Validation loss: 0.1512 - Validation accuracy: 0.9824                     \n",
      "Epoch 115/300 --> loss: 0.2217 - accuracy: 0.9609 | Validation loss: 0.1547 - Validation accuracy: 0.9789                     \n",
      "Epoch 116/300 --> loss: 0.2332 - accuracy: 0.9548 | Validation loss: 0.1569 - Validation accuracy: 0.9755                     \n",
      "Epoch 117/300 --> loss: 0.2107 - accuracy: 0.9635 | Validation loss: 0.1515 - Validation accuracy: 0.9824                     \n",
      "Epoch 118/300 --> loss: 0.2196 - accuracy: 0.9653 | Validation loss: 0.1514 - Validation accuracy: 0.9824                     \n",
      "Epoch 119/300 --> loss: 0.2186 - accuracy: 0.9618 | Validation loss: 0.1405 - Validation accuracy: 0.9787                     \n",
      "Epoch 120/300 --> loss: 0.2245 - accuracy: 0.9531 | Validation loss: 0.1417 - Validation accuracy: 0.9824                     \n",
      "Epoch 121/300 --> loss: 0.2194 - accuracy: 0.9618 | Validation loss: 0.1385 - Validation accuracy: 0.9787                     \n",
      "Epoch 122/300 --> loss: 0.2066 - accuracy: 0.9575 | Validation loss: 0.1391 - Validation accuracy: 0.9861                     \n",
      "Epoch 123/300 --> loss: 0.2225 - accuracy: 0.9566 | Validation loss: 0.1393 - Validation accuracy: 0.9789                     \n",
      "Epoch 124/300 --> loss: 0.2013 - accuracy: 0.9609 | Validation loss: 0.1307 - Validation accuracy: 0.9822                     \n",
      "Epoch 125/300 --> loss: 0.2278 - accuracy: 0.9505 | Validation loss: 0.1324 - Validation accuracy: 0.9822                     \n",
      "Epoch 126/300 --> loss: 0.2044 - accuracy: 0.9670 | Validation loss: 0.1346 - Validation accuracy: 0.9752                     \n",
      "Epoch 127/300 --> loss: 0.2325 - accuracy: 0.9505 | Validation loss: 0.1379 - Validation accuracy: 0.9789                     \n",
      "Epoch 128/300 --> loss: 0.2058 - accuracy: 0.9575 | Validation loss: 0.1334 - Validation accuracy: 0.9787                     \n",
      "Epoch 129/300 --> loss: 0.2029 - accuracy: 0.9557 | Validation loss: 0.1249 - Validation accuracy: 0.9822                     \n",
      "Epoch 130/300 --> loss: 0.1922 - accuracy: 0.9635 | Validation loss: 0.1284 - Validation accuracy: 0.9824                     \n",
      "Epoch 131/300 --> loss: 0.2089 - accuracy: 0.9609 | Validation loss: 0.1300 - Validation accuracy: 0.9787                     \n",
      "Epoch 132/300 --> loss: 0.1875 - accuracy: 0.9687 | Validation loss: 0.1257 - Validation accuracy: 0.9787                     \n",
      "Epoch 133/300 --> loss: 0.1794 - accuracy: 0.9644 | Validation loss: 0.1257 - Validation accuracy: 0.9822                     \n",
      "Epoch 134/300 --> loss: 0.1935 - accuracy: 0.9617 | Validation loss: 0.1259 - Validation accuracy: 0.9789                     \n",
      "Epoch 135/300 --> loss: 0.1842 - accuracy: 0.9705 | Validation loss: 0.1187 - Validation accuracy: 0.9822                     \n",
      "Epoch 136/300 --> loss: 0.1891 - accuracy: 0.9608 | Validation loss: 0.1179 - Validation accuracy: 0.9859                     \n",
      "Epoch 137/300 --> loss: 0.1702 - accuracy: 0.9679 | Validation loss: 0.1194 - Validation accuracy: 0.9826                     \n",
      "Epoch 138/300 --> loss: 0.1923 - accuracy: 0.9601 | Validation loss: 0.1166 - Validation accuracy: 0.9787                     \n",
      "Epoch 139/300 --> loss: 0.1836 - accuracy: 0.9557 | Validation loss: 0.1180 - Validation accuracy: 0.9826                     \n",
      "Epoch 140/300 --> loss: 0.1927 - accuracy: 0.9627 | Validation loss: 0.1130 - Validation accuracy: 0.9824                     \n",
      "Epoch 141/300 --> loss: 0.1913 - accuracy: 0.9609 | Validation loss: 0.1077 - Validation accuracy: 0.9822                     \n",
      "Epoch 142/300 --> loss: 0.1683 - accuracy: 0.9677 | Validation loss: 0.1065 - Validation accuracy: 0.9822                     \n",
      "Epoch 143/300 --> loss: 0.1795 - accuracy: 0.9609 | Validation loss: 0.1047 - Validation accuracy: 0.9859                     \n",
      "Epoch 144/300 --> loss: 0.1776 - accuracy: 0.9608 | Validation loss: 0.1040 - Validation accuracy: 0.9896                     \n",
      "Epoch 145/300 --> loss: 0.1751 - accuracy: 0.9609 | Validation loss: 0.1061 - Validation accuracy: 0.9787                     \n",
      "Epoch 146/300 --> loss: 0.1860 - accuracy: 0.9583 | Validation loss: 0.1039 - Validation accuracy: 0.9826                     \n",
      "Epoch 147/300 --> loss: 0.1786 - accuracy: 0.9601 | Validation loss: 0.1065 - Validation accuracy: 0.9826                     \n",
      "Epoch 148/300 --> loss: 0.1666 - accuracy: 0.9688 | Validation loss: 0.1020 - Validation accuracy: 0.9826                     \n",
      "Epoch 149/300 --> loss: 0.1720 - accuracy: 0.9635 | Validation loss: 0.1017 - Validation accuracy: 0.9859                     \n",
      "Epoch 150/300 --> loss: 0.1570 - accuracy: 0.9635 | Validation loss: 0.0999 - Validation accuracy: 0.9859                     \n",
      "Epoch 151/300 --> loss: 0.1893 - accuracy: 0.9549 | Validation loss: 0.1027 - Validation accuracy: 0.9824                     \n",
      "Epoch 152/300 --> loss: 0.1786 - accuracy: 0.9635 | Validation loss: 0.1009 - Validation accuracy: 0.9755                     \n",
      "Epoch 153/300 --> loss: 0.1620 - accuracy: 0.9669 | Validation loss: 0.1009 - Validation accuracy: 0.9789                     \n",
      "Epoch 154/300 --> loss: 0.1649 - accuracy: 0.9644 | Validation loss: 0.1032 - Validation accuracy: 0.9824                     \n",
      "Epoch 155/300 --> loss: 0.1637 - accuracy: 0.9635 | Validation loss: 0.0962 - Validation accuracy: 0.9859                     \n",
      "Epoch 156/300 --> loss: 0.1658 - accuracy: 0.9626 | Validation loss: 0.1008 - Validation accuracy: 0.9789                     \n",
      "Epoch 157/300 --> loss: 0.1633 - accuracy: 0.9635 | Validation loss: 0.0958 - Validation accuracy: 0.9824                     \n",
      "Epoch 158/300 --> loss: 0.1561 - accuracy: 0.9687 | Validation loss: 0.0955 - Validation accuracy: 0.9896                     \n",
      "Epoch 159/300 --> loss: 0.1551 - accuracy: 0.9670 | Validation loss: 0.0964 - Validation accuracy: 0.9824                     \n",
      "Epoch 160/300 --> loss: 0.1396 - accuracy: 0.9722 | Validation loss: 0.0947 - Validation accuracy: 0.9787                     \n",
      "Epoch 161/300 --> loss: 0.1543 - accuracy: 0.9652 | Validation loss: 0.0961 - Validation accuracy: 0.9752                     \n",
      "Epoch 162/300 --> loss: 0.1477 - accuracy: 0.9705 | Validation loss: 0.0943 - Validation accuracy: 0.9822                     \n",
      "Epoch 163/300 --> loss: 0.1340 - accuracy: 0.9705 | Validation loss: 0.0958 - Validation accuracy: 0.9861                     \n",
      "Epoch 164/300 --> loss: 0.1540 - accuracy: 0.9687 | Validation loss: 0.0954 - Validation accuracy: 0.9859                     \n",
      "Epoch 165/300 --> loss: 0.1484 - accuracy: 0.9722 | Validation loss: 0.0973 - Validation accuracy: 0.9789                     \n",
      "Epoch 166/300 --> loss: 0.1652 - accuracy: 0.9617 | Validation loss: 0.0960 - Validation accuracy: 0.9787                     \n",
      "Epoch 167/300 --> loss: 0.1564 - accuracy: 0.9635 | Validation loss: 0.0981 - Validation accuracy: 0.9720                     \n",
      "Epoch 168/300 --> loss: 0.1242 - accuracy: 0.9774 | Validation loss: 0.0925 - Validation accuracy: 0.9824                     \n",
      "Epoch 169/300 --> loss: 0.1391 - accuracy: 0.9757 | Validation loss: 0.0883 - Validation accuracy: 0.9822                     \n",
      "Epoch 170/300 --> loss: 0.1390 - accuracy: 0.9660 | Validation loss: 0.0895 - Validation accuracy: 0.9787                     \n",
      "Epoch 171/300 --> loss: 0.1432 - accuracy: 0.9653 | Validation loss: 0.0901 - Validation accuracy: 0.9861                     \n",
      "Epoch 172/300 --> loss: 0.1417 - accuracy: 0.9644 | Validation loss: 0.0906 - Validation accuracy: 0.9752                     \n",
      "Epoch 173/300 --> loss: 0.1383 - accuracy: 0.9748 | Validation loss: 0.0850 - Validation accuracy: 0.9859                     \n",
      "Epoch 174/300 --> loss: 0.1485 - accuracy: 0.9635 | Validation loss: 0.0899 - Validation accuracy: 0.9755                     \n",
      "Epoch 175/300 --> loss: 0.1718 - accuracy: 0.9539 | Validation loss: 0.0860 - Validation accuracy: 0.9752                     \n",
      "Epoch 176/300 --> loss: 0.1299 - accuracy: 0.9696 | Validation loss: 0.0947 - Validation accuracy: 0.9755                     \n",
      "Epoch 177/300 --> loss: 0.1258 - accuracy: 0.9731 | Validation loss: 0.0891 - Validation accuracy: 0.9787                     \n",
      "Epoch 178/300 --> loss: 0.1417 - accuracy: 0.9661 | Validation loss: 0.0849 - Validation accuracy: 0.9826                     \n",
      "Epoch 179/300 --> loss: 0.1513 - accuracy: 0.9626 | Validation loss: 0.0803 - Validation accuracy: 0.9931                     \n",
      "Epoch 180/300 --> loss: 0.1426 - accuracy: 0.9634 | Validation loss: 0.0815 - Validation accuracy: 0.9822                     \n",
      "Epoch 181/300 --> loss: 0.1446 - accuracy: 0.9696 | Validation loss: 0.0875 - Validation accuracy: 0.9824                     \n",
      "Epoch 182/300 --> loss: 0.1334 - accuracy: 0.9704 | Validation loss: 0.0839 - Validation accuracy: 0.9826                     \n",
      "Epoch 183/300 --> loss: 0.1215 - accuracy: 0.9739 | Validation loss: 0.0838 - Validation accuracy: 0.9787                     \n",
      "Epoch 184/300 --> loss: 0.1378 - accuracy: 0.9678 | Validation loss: 0.0811 - Validation accuracy: 0.9822                     \n",
      "Epoch 185/300 --> loss: 0.1330 - accuracy: 0.9670 | Validation loss: 0.0831 - Validation accuracy: 0.9859                     \n",
      "Epoch 186/300 --> loss: 0.1403 - accuracy: 0.9653 | Validation loss: 0.0891 - Validation accuracy: 0.9718                     \n",
      "Epoch 187/300 --> loss: 0.1467 - accuracy: 0.9609 | Validation loss: 0.0846 - Validation accuracy: 0.9822                     \n",
      "Epoch 188/300 --> loss: 0.1383 - accuracy: 0.9714 | Validation loss: 0.0852 - Validation accuracy: 0.9824                     \n",
      "Epoch 189/300 --> loss: 0.1377 - accuracy: 0.9653 | Validation loss: 0.0797 - Validation accuracy: 0.9787                     \n",
      "Epoch 190/300 --> loss: 0.1249 - accuracy: 0.9678 | Validation loss: 0.0861 - Validation accuracy: 0.9859                     \n",
      "Epoch 191/300 --> loss: 0.1115 - accuracy: 0.9765 | Validation loss: 0.0829 - Validation accuracy: 0.9824                     \n",
      "Epoch 192/300 --> loss: 0.1270 - accuracy: 0.9766 | Validation loss: 0.0811 - Validation accuracy: 0.9856                     \n",
      "Epoch 193/300 --> loss: 0.1415 - accuracy: 0.9696 | Validation loss: 0.0769 - Validation accuracy: 0.9856                     \n",
      "Epoch 194/300 --> loss: 0.1248 - accuracy: 0.9688 | Validation loss: 0.0751 - Validation accuracy: 0.9891                     \n",
      "Epoch 195/300 --> loss: 0.1284 - accuracy: 0.9660 | Validation loss: 0.0720 - Validation accuracy: 0.9894                     \n",
      "Epoch 196/300 --> loss: 0.1259 - accuracy: 0.9731 | Validation loss: 0.0778 - Validation accuracy: 0.9861                     \n",
      "Epoch 197/300 --> loss: 0.1016 - accuracy: 0.9792 | Validation loss: 0.0724 - Validation accuracy: 0.9859                     \n",
      "Epoch 198/300 --> loss: 0.1164 - accuracy: 0.9688 | Validation loss: 0.0753 - Validation accuracy: 0.9859                     \n",
      "Epoch 199/300 --> loss: 0.1206 - accuracy: 0.9731 | Validation loss: 0.0718 - Validation accuracy: 0.9931                     \n",
      "Epoch 200/300 --> loss: 0.1353 - accuracy: 0.9688 | Validation loss: 0.0755 - Validation accuracy: 0.9859                     \n",
      "Epoch 201/300 --> loss: 0.1193 - accuracy: 0.9714 | Validation loss: 0.0746 - Validation accuracy: 0.9824                     \n",
      "Epoch 202/300 --> loss: 0.1227 - accuracy: 0.9704 | Validation loss: 0.0712 - Validation accuracy: 0.9822                     \n",
      "Epoch 203/300 --> loss: 0.1102 - accuracy: 0.9714 | Validation loss: 0.0728 - Validation accuracy: 0.9822                     \n",
      "Epoch 204/300 --> loss: 0.1053 - accuracy: 0.9809 | Validation loss: 0.0704 - Validation accuracy: 0.9894                     \n",
      "Epoch 205/300 --> loss: 0.1159 - accuracy: 0.9756 | Validation loss: 0.0718 - Validation accuracy: 0.9894                     \n",
      "Epoch 206/300 --> loss: 0.1133 - accuracy: 0.9696 | Validation loss: 0.0720 - Validation accuracy: 0.9856                     \n",
      "Epoch 207/300 --> loss: 0.1243 - accuracy: 0.9695 | Validation loss: 0.0718 - Validation accuracy: 0.9824                     \n",
      "Epoch 208/300 --> loss: 0.1111 - accuracy: 0.9792 | Validation loss: 0.0699 - Validation accuracy: 0.9856                     \n",
      "Epoch 209/300 --> loss: 0.1034 - accuracy: 0.9818 | Validation loss: 0.0674 - Validation accuracy: 0.9928                     \n",
      "Epoch 210/300 --> loss: 0.1146 - accuracy: 0.9740 | Validation loss: 0.0642 - Validation accuracy: 0.9928                     \n",
      "Epoch 211/300 --> loss: 0.1301 - accuracy: 0.9661 | Validation loss: 0.0635 - Validation accuracy: 0.9894                     \n",
      "Epoch 212/300 --> loss: 0.1057 - accuracy: 0.9757 | Validation loss: 0.0803 - Validation accuracy: 0.9789                     \n",
      "Epoch 213/300 --> loss: 0.1188 - accuracy: 0.9705 | Validation loss: 0.0664 - Validation accuracy: 0.9894                     \n",
      "Epoch 214/300 --> loss: 0.1100 - accuracy: 0.9809 | Validation loss: 0.0625 - Validation accuracy: 0.9928                     \n",
      "Epoch 215/300 --> loss: 0.1070 - accuracy: 0.9757 | Validation loss: 0.0670 - Validation accuracy: 0.9824                     \n",
      "Epoch 216/300 --> loss: 0.1241 - accuracy: 0.9644 | Validation loss: 0.0628 - Validation accuracy: 0.9894                     \n",
      "Epoch 217/300 --> loss: 0.1313 - accuracy: 0.9661 | Validation loss: 0.0654 - Validation accuracy: 0.9856                     \n",
      "Epoch 218/300 --> loss: 0.1182 - accuracy: 0.9627 | Validation loss: 0.0652 - Validation accuracy: 0.9928                     \n",
      "Epoch 219/300 --> loss: 0.1081 - accuracy: 0.9774 | Validation loss: 0.0636 - Validation accuracy: 0.9928                     \n",
      "Epoch 220/300 --> loss: 0.1121 - accuracy: 0.9748 | Validation loss: 0.0662 - Validation accuracy: 0.9894                     \n",
      "Epoch 221/300 --> loss: 0.1119 - accuracy: 0.9714 | Validation loss: 0.0622 - Validation accuracy: 0.9896                     \n",
      "Epoch 222/300 --> loss: 0.1137 - accuracy: 0.9757 | Validation loss: 0.0622 - Validation accuracy: 0.9931                     \n",
      "Epoch 223/300 --> loss: 0.1307 - accuracy: 0.9670 | Validation loss: 0.0695 - Validation accuracy: 0.9824                     \n",
      "Epoch 224/300 --> loss: 0.1019 - accuracy: 0.9740 | Validation loss: 0.0666 - Validation accuracy: 0.9789                     \n",
      "Epoch 225/300 --> loss: 0.1262 - accuracy: 0.9731 | Validation loss: 0.0659 - Validation accuracy: 0.9894                     \n",
      "Epoch 226/300 --> loss: 0.1159 - accuracy: 0.9713 | Validation loss: 0.0601 - Validation accuracy: 0.9894                     \n",
      "Epoch 227/300 --> loss: 0.1014 - accuracy: 0.9783 | Validation loss: 0.0647 - Validation accuracy: 0.9859                     \n",
      "Epoch 228/300 --> loss: 0.0993 - accuracy: 0.9748 | Validation loss: 0.0605 - Validation accuracy: 0.9896                     \n",
      "Epoch 229/300 --> loss: 0.1078 - accuracy: 0.9704 | Validation loss: 0.0588 - Validation accuracy: 0.9894                     \n",
      "Epoch 230/300 --> loss: 0.1127 - accuracy: 0.9722 | Validation loss: 0.0574 - Validation accuracy: 0.9928                     \n",
      "Epoch 231/300 --> loss: 0.1040 - accuracy: 0.9731 | Validation loss: 0.0553 - Validation accuracy: 0.9894                     \n",
      "Epoch 232/300 --> loss: 0.0967 - accuracy: 0.9792 | Validation loss: 0.0570 - Validation accuracy: 0.9859                     \n",
      "Epoch 233/300 --> loss: 0.1004 - accuracy: 0.9747 | Validation loss: 0.0634 - Validation accuracy: 0.9859                     \n",
      "Epoch 234/300 --> loss: 0.1154 - accuracy: 0.9670 | Validation loss: 0.0704 - Validation accuracy: 0.9826                     \n",
      "Epoch 235/300 --> loss: 0.1023 - accuracy: 0.9740 | Validation loss: 0.0651 - Validation accuracy: 0.9824                     \n",
      "Epoch 236/300 --> loss: 0.0932 - accuracy: 0.9783 | Validation loss: 0.0621 - Validation accuracy: 0.9856                     \n",
      "Epoch 237/300 --> loss: 0.0902 - accuracy: 0.9740 | Validation loss: 0.0593 - Validation accuracy: 0.9856                     \n",
      "Epoch 238/300 --> loss: 0.0921 - accuracy: 0.9782 | Validation loss: 0.0613 - Validation accuracy: 0.9894                     \n",
      "Epoch 239/300 --> loss: 0.0780 - accuracy: 0.9861 | Validation loss: 0.0633 - Validation accuracy: 0.9859                     \n",
      "Epoch 240/300 --> loss: 0.0972 - accuracy: 0.9757 | Validation loss: 0.0648 - Validation accuracy: 0.9896                     \n",
      "Epoch 241/300 --> loss: 0.1049 - accuracy: 0.9722 | Validation loss: 0.0620 - Validation accuracy: 0.9894                     \n",
      "Early stopping: stopping training after 241 epochs.\n"
     ]
    }
   ],
   "source": [
    "history = model.fit(\n",
    "    X_train = X_train, \n",
    "    y_train = y_train_encoded,\n",
    "    optimizer = optimizer,\n",
    "    loss_fn = loss_fn,\n",
    "    X_valid = X_valid,\n",
    "    y_valid = y_valid_encoded,\n",
    "    batch_size = batch_size,\n",
    "    epochs = epochs,\n",
    "    metrics = [metrics.accuracy],\n",
    "    callbacks = [callbacks.EarlyStopping(monitor='val_loss', patience=10)]\n",
    ")"
   ]
  },
  {
   "cell_type": "code",
   "execution_count": 12,
   "metadata": {},
   "outputs": [
    {
     "data": {
      "image/png": "[encoded data removed]",
      "text/plain": [
       "<Figure size 800x400 with 1 Axes>"
      ]
     },
     "metadata": {},
     "output_type": "display_data"
    }
   ],
   "source": [
    "# Plot the training and validation loss\n",
    "data_analysis.plot_history(history[\"loss\"].data, history[\"val_loss\"].data, \"Training and Validation Loss\", \"Epoch\", \"Loss\")"
   ]
  },
  {
   "cell_type": "markdown",
   "metadata": {},
   "source": [
    "### Model evaluation"
   ]
  },
  {
   "cell_type": "code",
   "execution_count": 13,
   "metadata": {},
   "outputs": [],
   "source": [
    "# Disable gradient computation\n",
    "with context_manager.no_grad():\n",
    "    # Set the model in evaluation mode\n",
    "    model.eval()\n",
    "    \n",
    "    # Compute the predictions\n",
    "    predictions = model(X_test)\n",
    "\n",
    "# Apply the argmax function to the predictions\n",
    "predictions = Tensor(np.argmax(predictions.data, axis=1), dtype=np.int8)"
   ]
  },
  {
   "cell_type": "code",
   "execution_count": 14,
   "metadata": {},
   "outputs": [
    {
     "name": "stdout",
     "output_type": "stream",
     "text": [
      "Accuracy: 0.98\n"
     ]
    },
    {
     "data": {
      "image/png": "[encoded data removed]",
      "text/plain": [
       "<Figure size 600x600 with 1 Axes>"
      ]
     },
     "metadata": {},
     "output_type": "display_data"
    }
   ],
   "source": [
    "# Compute the accuracy\n",
    "accuracy = metrics.accuracy(y_test, predictions)\n",
    "confusion_matrix = metrics.confusion_matrix(num_classes, y_test, predictions)\n",
    "\n",
    "# Print the accuracy\n",
    "print(f\"Accuracy: {accuracy.data:.2f}\")\n",
    "\n",
    "# Plot the confusion matrix\n",
    "data_analysis.plot_confusion_matrix(confusion_matrix.data)"
   ]
  }
 ],
 "metadata": {
  "kernelspec": {
   "display_name": "venv",
   "language": "python",
   "name": "python3"
  },
  "language_info": {
   "codemirror_mode": {
    "name": "ipython",
    "version": 3
   },
   "file_extension": ".py",
   "mimetype": "text/x-python",
   "name": "python",
   "nbconvert_exporter": "python",
   "pygments_lexer": "ipython3",
   "version": "3.11.11"
  }
 },
 "nbformat": 4,
 "nbformat_minor": 2
}
