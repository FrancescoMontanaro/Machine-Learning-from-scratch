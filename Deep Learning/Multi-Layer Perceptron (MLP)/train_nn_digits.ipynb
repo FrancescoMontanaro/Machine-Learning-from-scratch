{
 "cells": [
  {
   "cell_type": "code",
   "execution_count": 1,
   "metadata": {},
   "outputs": [],
   "source": [
    "import sys\n",
    "import numpy as np\n",
    "import matplotlib.pyplot as plt\n",
    "from sklearn.datasets import load_digits\n",
    "from sklearn.model_selection import train_test_split\n",
    "\n",
    "# Add the path to the custom library to the system path\n",
    "sys.path.append('..')\n",
    "\n",
    "# Import the module from the custom library\n",
    "from src import utils\n",
    "from src import Model\n",
    "from src import layers\n",
    "from src import metrics\n",
    "from src import callbacks\n",
    "from src import optimizers\n",
    "from src import activations\n",
    "from src import loss_functions"
   ]
  },
  {
   "cell_type": "markdown",
   "metadata": {},
   "source": [
    "### Constants and Hyperparameters"
   ]
  },
  {
   "cell_type": "code",
   "execution_count": 2,
   "metadata": {},
   "outputs": [],
   "source": [
    "train_test_split_pct = 0.2 # Percentage of samples to use for testing\n",
    "train_valid_split = 0.2 # Percentage of samples to use for validation\n",
    "learning_rate = 1e-4 # Learning rate for the optimizer\n",
    "batch_size = 16 # Number of samples to use for each batch\n",
    "epochs = 300 # Number of epochs to train the model\n",
    "seed = 1234 # Seed for reproducibility"
   ]
  },
  {
   "cell_type": "code",
   "execution_count": 3,
   "metadata": {},
   "outputs": [],
   "source": [
    "# Set the seed for reproducibility\n",
    "np.random.seed(seed)"
   ]
  },
  {
   "cell_type": "markdown",
   "metadata": {},
   "source": [
    "### Data loading"
   ]
  },
  {
   "cell_type": "code",
   "execution_count": 4,
   "metadata": {},
   "outputs": [
    {
     "name": "stdout",
     "output_type": "stream",
     "text": [
      "Number of classes: 10\n",
      "Training set: (1149, 64) (1149,)\n",
      "Validation set: (288, 64) (288,)\n",
      "Testing set: (360, 64) (360,)\n"
     ]
    }
   ],
   "source": [
    "# Load the digits dataset\n",
    "digits = load_digits()\n",
    "\n",
    "# Extract the number of classes in the dataset\n",
    "num_classes = len(np.unique(digits.target)) # type: ignore\n",
    "\n",
    "# Split the dataset into training and testing sets\n",
    "X_train, X_test, y_train, y_test = train_test_split(digits.data, digits.target, test_size=train_test_split_pct, random_state=seed) # type: ignore\n",
    "\n",
    "# Split the training set into training and validation sets\n",
    "X_train, X_valid, y_train, y_valid = train_test_split(X_train, y_train, test_size=train_valid_split, random_state=seed) # type: ignore\n",
    "\n",
    "# Print the dataset information\n",
    "print(\"Number of classes:\", num_classes)\n",
    "print('Training set:', X_train.shape, y_train.shape)\n",
    "print('Validation set:', X_valid.shape, y_valid.shape)\n",
    "print('Testing set:', X_test.shape, y_test.shape)"
   ]
  },
  {
   "cell_type": "markdown",
   "metadata": {},
   "source": [
    "### Data Preprocessing"
   ]
  },
  {
   "cell_type": "code",
   "execution_count": 5,
   "metadata": {},
   "outputs": [],
   "source": [
    "# Normalization\n",
    "def normalize(X: np.ndarray) -> np.ndarray:\n",
    "    \"\"\"\n",
    "    Normalize the input data by dividing by the maximum value in the training set.\n",
    "    \n",
    "    Parameters:\n",
    "    - X (np.ndarray): The input data to normalize\n",
    "    \n",
    "    Returns:\n",
    "    - np.ndarray: The normalized input data\n",
    "    \"\"\"\n",
    "    \n",
    "    # Normalize the input data\n",
    "    return X / 255.0\n",
    "\n",
    "# Normalize the input data\n",
    "X_train = normalize(X_train)\n",
    "X_valid = normalize(X_valid)\n",
    "X_test = normalize(X_test)"
   ]
  },
  {
   "cell_type": "code",
   "execution_count": 6,
   "metadata": {},
   "outputs": [
    {
     "name": "stdout",
     "output_type": "stream",
     "text": [
      "Sample target value: 1\n",
      "One-hot encoded value: [0 1 0 0 0 0 0 0 0 0]\n"
     ]
    }
   ],
   "source": [
    "# Convert the target values to one-hot encoded vectors\n",
    "y_train_encoded = utils.one_hot_encoding(y=y_train, n_classes=num_classes)\n",
    "y_valid_encoded = utils.one_hot_encoding(y=y_valid, n_classes=num_classes)\n",
    "\n",
    "# Print one sample encoding\n",
    "print(\"Sample target value:\", y_train[0])\n",
    "print(\"One-hot encoded value:\", y_train_encoded[0])"
   ]
  },
  {
   "cell_type": "markdown",
   "metadata": {},
   "source": [
    "### Data visualization"
   ]
  },
  {
   "cell_type": "code",
   "execution_count": 7,
   "metadata": {},
   "outputs": [
    {
     "data": {
      "image/png": "[encoded data removed]",
      "text/plain": [
       "<Figure size 2000x500 with 10 Axes>"
      ]
     },
     "metadata": {},
     "output_type": "display_data"
    }
   ],
   "source": [
    "def plot_samples(samples: list[np.ndarray], labels: list[np.ndarray]) -> None:\n",
    "    \"\"\"\n",
    "    Plot the samples in a grid.\n",
    "    \n",
    "    Parameters:\n",
    "    - samples (list[np.ndarray]): The samples to plot\n",
    "    - labels (list[np.ndarray]): The labels of the samples\n",
    "    \"\"\"\n",
    "    \n",
    "    reshaped_samples = []\n",
    "    # Iterate over the samples\n",
    "    for sample in samples:\n",
    "        # Compute the new shape\n",
    "        new_shape = np.sqrt(sample.shape).astype(int)[0]\n",
    "        \n",
    "        # Reshape the sample\n",
    "        sample = sample.reshape(new_shape, new_shape)\n",
    "        \n",
    "        # Append the reshaped sample\n",
    "        reshaped_samples.append(sample)\n",
    "        \n",
    "    # Plot the samples in a grid\n",
    "    fig, axes = plt.subplots(1, len(samples), figsize=(20, 5))\n",
    "    for i, ax in enumerate(axes):\n",
    "        ax.imshow(reshaped_samples[i], cmap='gray')\n",
    "        ax.set_title(f'Label: {labels[i]}')\n",
    "        ax.axis('off')\n",
    "        \n",
    "        \n",
    "# Plot the first 10 samples\n",
    "plot_samples(list(X_train[:10]), y_train[:10])"
   ]
  },
  {
   "cell_type": "markdown",
   "metadata": {},
   "source": [
    "### Building the model"
   ]
  },
  {
   "cell_type": "code",
   "execution_count": 8,
   "metadata": {},
   "outputs": [],
   "source": [
    "\n",
    "model = Model([\n",
    "    layers.Dense(num_units=24, activation=activations.ReLU()),\n",
    "    layers.BatchNormalization(momentum=0.9),\n",
    "    layers.Dropout(rate=0.1),\n",
    "    layers.Dense(num_units=32, activation=activations.ReLU()),\n",
    "    layers.Dropout(rate=0.1),\n",
    "    layers.Dense(num_units=12, activation=activations.Tanh()),\n",
    "    layers.Dropout(rate=0.1),\n",
    "    layers.Dense(num_units=num_classes, activation=activations.Softmax())\n",
    "])\n",
    "\n",
    "# Initialize the optimizer\n",
    "optimizer = optimizers.Adam(learning_rate=learning_rate)\n",
    "\n",
    "# Initialize the loss function\n",
    "loss_fn = loss_functions.CrossEntropy()"
   ]
  },
  {
   "cell_type": "code",
   "execution_count": 9,
   "metadata": {},
   "outputs": [],
   "source": [
    "# Call the model with a first batch to initialize the weights\n",
    "# This is not necessary, but it is useful to know the input size\n",
    "model(X_train[:batch_size]);"
   ]
  },
  {
   "cell_type": "code",
   "execution_count": 10,
   "metadata": {},
   "outputs": [
    {
     "name": "stdout",
     "output_type": "stream",
     "text": [
      "\n",
      "Model (ID: 0)\n",
      "\n",
      "--------------------------------------------------------------------------------\n",
      "Module (type)                           Output Shape        Trainable params #  \n",
      "================================================================================\n",
      "dense_1 (Dense)                         (16, 24)            1560                \n",
      "--------------------------------------------------------------------------------\n",
      "batch_normalization_2                   \n",
      "(BatchNormalization)                    (16, 24)            48                  \n",
      "--------------------------------------------------------------------------------\n",
      "dropout_3 (Dropout)                     (16, 24)            0                   \n",
      "--------------------------------------------------------------------------------\n",
      "dense_4 (Dense)                         (16, 32)            800                 \n",
      "--------------------------------------------------------------------------------\n",
      "dropout_5 (Dropout)                     (16, 32)            0                   \n",
      "--------------------------------------------------------------------------------\n",
      "dense_6 (Dense)                         (16, 12)            396                 \n",
      "--------------------------------------------------------------------------------\n",
      "dropout_7 (Dropout)                     (16, 12)            0                   \n",
      "--------------------------------------------------------------------------------\n",
      "dense_8 (Dense)                         (16, 10)            130                 \n",
      "================================================================================\n",
      "Total trainable parameters: 2934\n",
      "--------------------------------------------------------------------------------\n"
     ]
    }
   ],
   "source": [
    "# Display the model summary\n",
    "model.summary()"
   ]
  },
  {
   "cell_type": "markdown",
   "metadata": {},
   "source": [
    "### Training the model"
   ]
  },
  {
   "cell_type": "code",
   "execution_count": 11,
   "metadata": {},
   "outputs": [
    {
     "name": "stdout",
     "output_type": "stream",
     "text": [
      "Epoch 1/300 --> loss: 2.2874 - accuracy: 0.1558 | Validation loss: 2.2890 - Validation accuracy: 0.2743\n",
      "Epoch 2/300 --> loss: 2.2467 - accuracy: 0.2342 | Validation loss: 2.2188 - Validation accuracy: 0.4028\n",
      "Epoch 3/300 --> loss: 2.2149 - accuracy: 0.3063 | Validation loss: 2.1790 - Validation accuracy: 0.4618\n",
      "Epoch 4/300 --> loss: 2.1746 - accuracy: 0.3864 | Validation loss: 2.1312 - Validation accuracy: 0.5000\n",
      "Epoch 5/300 --> loss: 2.1329 - accuracy: 0.4305 | Validation loss: 2.0843 - Validation accuracy: 0.5139\n",
      "Epoch 6/300 --> loss: 2.0813 - accuracy: 0.4621 | Validation loss: 2.0158 - Validation accuracy: 0.5451\n",
      "Epoch 7/300 --> loss: 2.0275 - accuracy: 0.4868 | Validation loss: 1.9474 - Validation accuracy: 0.5278\n",
      "Epoch 8/300 --> loss: 1.9738 - accuracy: 0.5009 | Validation loss: 1.8834 - Validation accuracy: 0.5243\n",
      "Epoch 9/300 --> loss: 1.8939 - accuracy: 0.5079 | Validation loss: 1.8092 - Validation accuracy: 0.5590\n",
      "Epoch 10/300 --> loss: 1.8480 - accuracy: 0.5141 | Validation loss: 1.7459 - Validation accuracy: 0.5868\n",
      "Epoch 11/300 --> loss: 1.7795 - accuracy: 0.5458 | Validation loss: 1.6775 - Validation accuracy: 0.5799\n",
      "Epoch 12/300 --> loss: 1.7164 - accuracy: 0.5537 | Validation loss: 1.6156 - Validation accuracy: 0.6181\n",
      "Epoch 13/300 --> loss: 1.6440 - accuracy: 0.5819 | Validation loss: 1.5533 - Validation accuracy: 0.6111\n",
      "Epoch 14/300 --> loss: 1.5837 - accuracy: 0.6092 | Validation loss: 1.4905 - Validation accuracy: 0.6389\n",
      "Epoch 15/300 --> loss: 1.5365 - accuracy: 0.5977 | Validation loss: 1.4410 - Validation accuracy: 0.6389\n",
      "Epoch 16/300 --> loss: 1.4821 - accuracy: 0.6136 | Validation loss: 1.3922 - Validation accuracy: 0.6701\n",
      "Epoch 17/300 --> loss: 1.4326 - accuracy: 0.6259 | Validation loss: 1.3410 - Validation accuracy: 0.6632\n",
      "Epoch 18/300 --> loss: 1.3796 - accuracy: 0.6426 | Validation loss: 1.2994 - Validation accuracy: 0.6493\n",
      "Epoch 19/300 --> loss: 1.3512 - accuracy: 0.6452 | Validation loss: 1.2602 - Validation accuracy: 0.6979\n",
      "Epoch 20/300 --> loss: 1.3032 - accuracy: 0.6673 | Validation loss: 1.2237 - Validation accuracy: 0.6910\n",
      "Epoch 21/300 --> loss: 1.2600 - accuracy: 0.6954 | Validation loss: 1.1808 - Validation accuracy: 0.7153\n",
      "Epoch 22/300 --> loss: 1.2190 - accuracy: 0.7042 | Validation loss: 1.1533 - Validation accuracy: 0.7292\n",
      "Epoch 23/300 --> loss: 1.1876 - accuracy: 0.7210 | Validation loss: 1.1137 - Validation accuracy: 0.7743\n",
      "Epoch 24/300 --> loss: 1.1551 - accuracy: 0.7298 | Validation loss: 1.0824 - Validation accuracy: 0.7986\n",
      "Epoch 25/300 --> loss: 1.1159 - accuracy: 0.7606 | Validation loss: 1.0474 - Validation accuracy: 0.8056\n",
      "Epoch 26/300 --> loss: 1.0954 - accuracy: 0.7667 | Validation loss: 1.0179 - Validation accuracy: 0.8090\n",
      "Epoch 27/300 --> loss: 1.0692 - accuracy: 0.7641 | Validation loss: 0.9846 - Validation accuracy: 0.8264\n",
      "Epoch 28/300 --> loss: 1.0451 - accuracy: 0.7755 | Validation loss: 0.9549 - Validation accuracy: 0.8368\n",
      "Epoch 29/300 --> loss: 1.0111 - accuracy: 0.7905 | Validation loss: 0.9344 - Validation accuracy: 0.8611\n",
      "Epoch 30/300 --> loss: 0.9827 - accuracy: 0.8046 | Validation loss: 0.9041 - Validation accuracy: 0.8507\n",
      "Epoch 31/300 --> loss: 0.9637 - accuracy: 0.8028 | Validation loss: 0.8856 - Validation accuracy: 0.8750\n",
      "Epoch 32/300 --> loss: 0.9510 - accuracy: 0.8160 | Validation loss: 0.8622 - Validation accuracy: 0.8750\n",
      "Epoch 33/300 --> loss: 0.9142 - accuracy: 0.8275 | Validation loss: 0.8264 - Validation accuracy: 0.8819\n",
      "Epoch 34/300 --> loss: 0.9083 - accuracy: 0.8319 | Validation loss: 0.8143 - Validation accuracy: 0.8889\n",
      "Epoch 35/300 --> loss: 0.8874 - accuracy: 0.8310 | Validation loss: 0.7868 - Validation accuracy: 0.8889\n",
      "Epoch 36/300 --> loss: 0.8512 - accuracy: 0.8468 | Validation loss: 0.7639 - Validation accuracy: 0.8958\n",
      "Epoch 37/300 --> loss: 0.8285 - accuracy: 0.8477 | Validation loss: 0.7452 - Validation accuracy: 0.8924\n",
      "Epoch 38/300 --> loss: 0.8174 - accuracy: 0.8609 | Validation loss: 0.7183 - Validation accuracy: 0.9062\n",
      "Epoch 39/300 --> loss: 0.7933 - accuracy: 0.8627 | Validation loss: 0.7066 - Validation accuracy: 0.9097\n",
      "Epoch 40/300 --> loss: 0.7637 - accuracy: 0.8803 | Validation loss: 0.6858 - Validation accuracy: 0.9132\n",
      "Epoch 41/300 --> loss: 0.7597 - accuracy: 0.8750 | Validation loss: 0.6677 - Validation accuracy: 0.9167\n",
      "Epoch 42/300 --> loss: 0.7431 - accuracy: 0.8847 | Validation loss: 0.6525 - Validation accuracy: 0.9201\n",
      "Epoch 43/300 --> loss: 0.7269 - accuracy: 0.8900 | Validation loss: 0.6398 - Validation accuracy: 0.9167\n",
      "Epoch 44/300 --> loss: 0.7124 - accuracy: 0.8926 | Validation loss: 0.6161 - Validation accuracy: 0.9306\n",
      "Epoch 45/300 --> loss: 0.6930 - accuracy: 0.8794 | Validation loss: 0.6125 - Validation accuracy: 0.9236\n",
      "Epoch 46/300 --> loss: 0.6569 - accuracy: 0.8952 | Validation loss: 0.5994 - Validation accuracy: 0.9271\n",
      "Epoch 47/300 --> loss: 0.6758 - accuracy: 0.8882 | Validation loss: 0.5757 - Validation accuracy: 0.9306\n",
      "Epoch 48/300 --> loss: 0.6547 - accuracy: 0.8891 | Validation loss: 0.5741 - Validation accuracy: 0.9340\n",
      "Epoch 49/300 --> loss: 0.6323 - accuracy: 0.8926 | Validation loss: 0.5639 - Validation accuracy: 0.9201\n",
      "Epoch 50/300 --> loss: 0.6313 - accuracy: 0.9023 | Validation loss: 0.5413 - Validation accuracy: 0.9306\n",
      "Epoch 51/300 --> loss: 0.5957 - accuracy: 0.9058 | Validation loss: 0.5317 - Validation accuracy: 0.9236\n",
      "Epoch 52/300 --> loss: 0.6179 - accuracy: 0.8979 | Validation loss: 0.5195 - Validation accuracy: 0.9271\n",
      "Epoch 53/300 --> loss: 0.6102 - accuracy: 0.9058 | Validation loss: 0.5262 - Validation accuracy: 0.9306\n",
      "Epoch 54/300 --> loss: 0.6029 - accuracy: 0.8988 | Validation loss: 0.5137 - Validation accuracy: 0.9201\n",
      "Epoch 55/300 --> loss: 0.5770 - accuracy: 0.9040 | Validation loss: 0.4945 - Validation accuracy: 0.9306\n",
      "Epoch 56/300 --> loss: 0.5583 - accuracy: 0.9173 | Validation loss: 0.4827 - Validation accuracy: 0.9340\n",
      "Epoch 57/300 --> loss: 0.5527 - accuracy: 0.9067 | Validation loss: 0.4774 - Validation accuracy: 0.9375\n",
      "Epoch 58/300 --> loss: 0.5254 - accuracy: 0.9252 | Validation loss: 0.4727 - Validation accuracy: 0.9375\n",
      "Epoch 59/300 --> loss: 0.5403 - accuracy: 0.9085 | Validation loss: 0.4607 - Validation accuracy: 0.9271\n",
      "Epoch 60/300 --> loss: 0.5298 - accuracy: 0.9199 | Validation loss: 0.4532 - Validation accuracy: 0.9306\n",
      "Epoch 61/300 --> loss: 0.4957 - accuracy: 0.9225 | Validation loss: 0.4478 - Validation accuracy: 0.9375\n",
      "Epoch 62/300 --> loss: 0.5232 - accuracy: 0.9067 | Validation loss: 0.4447 - Validation accuracy: 0.9340\n",
      "Epoch 63/300 --> loss: 0.5161 - accuracy: 0.9155 | Validation loss: 0.4328 - Validation accuracy: 0.9375\n",
      "Epoch 64/300 --> loss: 0.4762 - accuracy: 0.9296 | Validation loss: 0.4258 - Validation accuracy: 0.9306\n",
      "Epoch 65/300 --> loss: 0.5088 - accuracy: 0.9093 | Validation loss: 0.4198 - Validation accuracy: 0.9375\n",
      "Epoch 66/300 --> loss: 0.4810 - accuracy: 0.9357 | Validation loss: 0.4207 - Validation accuracy: 0.9306\n",
      "Epoch 67/300 --> loss: 0.4889 - accuracy: 0.9111 | Validation loss: 0.4139 - Validation accuracy: 0.9306\n",
      "Epoch 68/300 --> loss: 0.4650 - accuracy: 0.9217 | Validation loss: 0.4117 - Validation accuracy: 0.9340\n",
      "Epoch 69/300 --> loss: 0.4884 - accuracy: 0.9155 | Validation loss: 0.4128 - Validation accuracy: 0.9236\n",
      "Epoch 70/300 --> loss: 0.4501 - accuracy: 0.9313 | Validation loss: 0.4025 - Validation accuracy: 0.9306\n",
      "Epoch 71/300 --> loss: 0.4671 - accuracy: 0.9252 | Validation loss: 0.3986 - Validation accuracy: 0.9271\n",
      "Epoch 72/300 --> loss: 0.4430 - accuracy: 0.9305 | Validation loss: 0.3822 - Validation accuracy: 0.9201\n",
      "Epoch 73/300 --> loss: 0.4488 - accuracy: 0.9269 | Validation loss: 0.3886 - Validation accuracy: 0.9306\n",
      "Epoch 74/300 --> loss: 0.4332 - accuracy: 0.9410 | Validation loss: 0.3842 - Validation accuracy: 0.9340\n",
      "Epoch 75/300 --> loss: 0.4372 - accuracy: 0.9261 | Validation loss: 0.3754 - Validation accuracy: 0.9306\n",
      "Epoch 76/300 --> loss: 0.4277 - accuracy: 0.9243 | Validation loss: 0.3730 - Validation accuracy: 0.9236\n",
      "Epoch 77/300 --> loss: 0.4106 - accuracy: 0.9357 | Validation loss: 0.3701 - Validation accuracy: 0.9306\n",
      "Epoch 78/300 --> loss: 0.4251 - accuracy: 0.9208 | Validation loss: 0.3633 - Validation accuracy: 0.9340\n",
      "Epoch 79/300 --> loss: 0.4009 - accuracy: 0.9322 | Validation loss: 0.3584 - Validation accuracy: 0.9306\n",
      "Epoch 80/300 --> loss: 0.3937 - accuracy: 0.9366 | Validation loss: 0.3526 - Validation accuracy: 0.9271\n",
      "Epoch 81/300 --> loss: 0.4183 - accuracy: 0.9208 | Validation loss: 0.3531 - Validation accuracy: 0.9306\n",
      "Epoch 82/300 --> loss: 0.3986 - accuracy: 0.9340 | Validation loss: 0.3496 - Validation accuracy: 0.9306\n",
      "Epoch 83/300 --> loss: 0.3995 - accuracy: 0.9384 | Validation loss: 0.3403 - Validation accuracy: 0.9340\n",
      "Epoch 84/300 --> loss: 0.3978 - accuracy: 0.9217 | Validation loss: 0.3420 - Validation accuracy: 0.9410\n",
      "Epoch 85/300 --> loss: 0.3886 - accuracy: 0.9269 | Validation loss: 0.3315 - Validation accuracy: 0.9375\n",
      "Epoch 86/300 --> loss: 0.3782 - accuracy: 0.9340 | Validation loss: 0.3399 - Validation accuracy: 0.9271\n",
      "Epoch 87/300 --> loss: 0.3746 - accuracy: 0.9331 | Validation loss: 0.3211 - Validation accuracy: 0.9375\n",
      "Epoch 88/300 --> loss: 0.3796 - accuracy: 0.9393 | Validation loss: 0.3218 - Validation accuracy: 0.9306\n",
      "Epoch 89/300 --> loss: 0.3420 - accuracy: 0.9454 | Validation loss: 0.3245 - Validation accuracy: 0.9340\n",
      "Epoch 90/300 --> loss: 0.3476 - accuracy: 0.9445 | Validation loss: 0.3186 - Validation accuracy: 0.9375\n",
      "Epoch 91/300 --> loss: 0.3665 - accuracy: 0.9252 | Validation loss: 0.3139 - Validation accuracy: 0.9410\n",
      "Epoch 92/300 --> loss: 0.3517 - accuracy: 0.9428 | Validation loss: 0.3195 - Validation accuracy: 0.9271\n",
      "Epoch 93/300 --> loss: 0.3727 - accuracy: 0.9305 | Validation loss: 0.3097 - Validation accuracy: 0.9271\n",
      "Epoch 94/300 --> loss: 0.3432 - accuracy: 0.9401 | Validation loss: 0.3001 - Validation accuracy: 0.9306\n",
      "Epoch 95/300 --> loss: 0.3591 - accuracy: 0.9261 | Validation loss: 0.3043 - Validation accuracy: 0.9271\n",
      "Epoch 96/300 --> loss: 0.3522 - accuracy: 0.9322 | Validation loss: 0.3082 - Validation accuracy: 0.9306\n",
      "Epoch 97/300 --> loss: 0.3733 - accuracy: 0.9217 | Validation loss: 0.3103 - Validation accuracy: 0.9306\n",
      "Epoch 98/300 --> loss: 0.3505 - accuracy: 0.9384 | Validation loss: 0.3132 - Validation accuracy: 0.9306\n",
      "Epoch 99/300 --> loss: 0.3486 - accuracy: 0.9305 | Validation loss: 0.2982 - Validation accuracy: 0.9340\n",
      "Epoch 100/300 --> loss: 0.3175 - accuracy: 0.9472 | Validation loss: 0.3012 - Validation accuracy: 0.9306\n",
      "Epoch 101/300 --> loss: 0.3266 - accuracy: 0.9349 | Validation loss: 0.2982 - Validation accuracy: 0.9271\n",
      "Epoch 102/300 --> loss: 0.3342 - accuracy: 0.9419 | Validation loss: 0.2906 - Validation accuracy: 0.9375\n",
      "Epoch 103/300 --> loss: 0.3036 - accuracy: 0.9516 | Validation loss: 0.2758 - Validation accuracy: 0.9375\n",
      "Epoch 104/300 --> loss: 0.3111 - accuracy: 0.9445 | Validation loss: 0.2929 - Validation accuracy: 0.9236\n",
      "Epoch 105/300 --> loss: 0.3136 - accuracy: 0.9419 | Validation loss: 0.2808 - Validation accuracy: 0.9340\n",
      "Epoch 106/300 --> loss: 0.3091 - accuracy: 0.9419 | Validation loss: 0.2757 - Validation accuracy: 0.9410\n",
      "Epoch 107/300 --> loss: 0.2868 - accuracy: 0.9595 | Validation loss: 0.2734 - Validation accuracy: 0.9479\n",
      "Epoch 108/300 --> loss: 0.2885 - accuracy: 0.9586 | Validation loss: 0.2681 - Validation accuracy: 0.9514\n",
      "Epoch 109/300 --> loss: 0.2947 - accuracy: 0.9507 | Validation loss: 0.2726 - Validation accuracy: 0.9375\n",
      "Epoch 110/300 --> loss: 0.3118 - accuracy: 0.9401 | Validation loss: 0.2750 - Validation accuracy: 0.9410\n",
      "Epoch 111/300 --> loss: 0.2994 - accuracy: 0.9437 | Validation loss: 0.2753 - Validation accuracy: 0.9375\n",
      "Epoch 112/300 --> loss: 0.2802 - accuracy: 0.9533 | Validation loss: 0.2619 - Validation accuracy: 0.9306\n",
      "Epoch 113/300 --> loss: 0.3032 - accuracy: 0.9516 | Validation loss: 0.2697 - Validation accuracy: 0.9375\n",
      "Epoch 114/300 --> loss: 0.2893 - accuracy: 0.9489 | Validation loss: 0.2709 - Validation accuracy: 0.9306\n",
      "Epoch 115/300 --> loss: 0.2850 - accuracy: 0.9489 | Validation loss: 0.2642 - Validation accuracy: 0.9306\n",
      "Epoch 116/300 --> loss: 0.2755 - accuracy: 0.9498 | Validation loss: 0.2606 - Validation accuracy: 0.9410\n",
      "Epoch 117/300 --> loss: 0.2893 - accuracy: 0.9445 | Validation loss: 0.2553 - Validation accuracy: 0.9271\n",
      "Epoch 118/300 --> loss: 0.2805 - accuracy: 0.9507 | Validation loss: 0.2587 - Validation accuracy: 0.9375\n",
      "Epoch 119/300 --> loss: 0.2777 - accuracy: 0.9445 | Validation loss: 0.2563 - Validation accuracy: 0.9340\n",
      "Epoch 120/300 --> loss: 0.2768 - accuracy: 0.9481 | Validation loss: 0.2653 - Validation accuracy: 0.9340\n",
      "Epoch 121/300 --> loss: 0.2637 - accuracy: 0.9507 | Validation loss: 0.2570 - Validation accuracy: 0.9340\n",
      "Epoch 122/300 --> loss: 0.2937 - accuracy: 0.9428 | Validation loss: 0.2466 - Validation accuracy: 0.9340\n",
      "Epoch 123/300 --> loss: 0.2816 - accuracy: 0.9463 | Validation loss: 0.2415 - Validation accuracy: 0.9410\n",
      "Epoch 124/300 --> loss: 0.2713 - accuracy: 0.9525 | Validation loss: 0.2562 - Validation accuracy: 0.9410\n",
      "Epoch 125/300 --> loss: 0.2696 - accuracy: 0.9454 | Validation loss: 0.2508 - Validation accuracy: 0.9375\n",
      "Epoch 126/300 --> loss: 0.2539 - accuracy: 0.9507 | Validation loss: 0.2471 - Validation accuracy: 0.9375\n",
      "Epoch 127/300 --> loss: 0.2488 - accuracy: 0.9569 | Validation loss: 0.2637 - Validation accuracy: 0.9271\n",
      "Epoch 128/300 --> loss: 0.2563 - accuracy: 0.9569 | Validation loss: 0.2520 - Validation accuracy: 0.9410\n",
      "Epoch 129/300 --> loss: 0.2686 - accuracy: 0.9507 | Validation loss: 0.2452 - Validation accuracy: 0.9375\n",
      "Epoch 130/300 --> loss: 0.2537 - accuracy: 0.9507 | Validation loss: 0.2427 - Validation accuracy: 0.9375\n",
      "Epoch 131/300 --> loss: 0.2646 - accuracy: 0.9472 | Validation loss: 0.2402 - Validation accuracy: 0.9375\n",
      "Epoch 132/300 --> loss: 0.2466 - accuracy: 0.9560 | Validation loss: 0.2346 - Validation accuracy: 0.9306\n",
      "Epoch 133/300 --> loss: 0.2577 - accuracy: 0.9533 | Validation loss: 0.2349 - Validation accuracy: 0.9444\n",
      "Epoch 134/300 --> loss: 0.2516 - accuracy: 0.9533 | Validation loss: 0.2366 - Validation accuracy: 0.9340\n",
      "Epoch 135/300 --> loss: 0.2516 - accuracy: 0.9498 | Validation loss: 0.2326 - Validation accuracy: 0.9306\n",
      "Epoch 136/300 --> loss: 0.2427 - accuracy: 0.9428 | Validation loss: 0.2243 - Validation accuracy: 0.9410\n",
      "Epoch 137/300 --> loss: 0.2356 - accuracy: 0.9569 | Validation loss: 0.2312 - Validation accuracy: 0.9444\n",
      "Epoch 138/300 --> loss: 0.2531 - accuracy: 0.9498 | Validation loss: 0.2304 - Validation accuracy: 0.9444\n",
      "Epoch 139/300 --> loss: 0.2579 - accuracy: 0.9472 | Validation loss: 0.2392 - Validation accuracy: 0.9340\n",
      "Epoch 140/300 --> loss: 0.2330 - accuracy: 0.9551 | Validation loss: 0.2166 - Validation accuracy: 0.9444\n",
      "Epoch 141/300 --> loss: 0.2300 - accuracy: 0.9569 | Validation loss: 0.2199 - Validation accuracy: 0.9444\n",
      "Epoch 142/300 --> loss: 0.2275 - accuracy: 0.9577 | Validation loss: 0.2281 - Validation accuracy: 0.9514\n",
      "Epoch 143/300 --> loss: 0.2390 - accuracy: 0.9533 | Validation loss: 0.2204 - Validation accuracy: 0.9444\n",
      "Epoch 144/300 --> loss: 0.2293 - accuracy: 0.9507 | Validation loss: 0.2172 - Validation accuracy: 0.9410\n",
      "Epoch 145/300 --> loss: 0.2365 - accuracy: 0.9560 | Validation loss: 0.2198 - Validation accuracy: 0.9410\n",
      "Epoch 146/300 --> loss: 0.2312 - accuracy: 0.9454 | Validation loss: 0.2106 - Validation accuracy: 0.9444\n",
      "Epoch 147/300 --> loss: 0.2448 - accuracy: 0.9525 | Validation loss: 0.2110 - Validation accuracy: 0.9479\n",
      "Epoch 148/300 --> loss: 0.2523 - accuracy: 0.9472 | Validation loss: 0.2122 - Validation accuracy: 0.9375\n",
      "Epoch 149/300 --> loss: 0.2206 - accuracy: 0.9533 | Validation loss: 0.2022 - Validation accuracy: 0.9444\n",
      "Epoch 150/300 --> loss: 0.2212 - accuracy: 0.9577 | Validation loss: 0.2012 - Validation accuracy: 0.9444\n",
      "Epoch 151/300 --> loss: 0.2377 - accuracy: 0.9569 | Validation loss: 0.2194 - Validation accuracy: 0.9479\n",
      "Epoch 152/300 --> loss: 0.2202 - accuracy: 0.9595 | Validation loss: 0.2197 - Validation accuracy: 0.9444\n",
      "Epoch 153/300 --> loss: 0.2067 - accuracy: 0.9630 | Validation loss: 0.2125 - Validation accuracy: 0.9410\n",
      "Epoch 154/300 --> loss: 0.2277 - accuracy: 0.9560 | Validation loss: 0.2115 - Validation accuracy: 0.9410\n",
      "Epoch 155/300 --> loss: 0.2392 - accuracy: 0.9525 | Validation loss: 0.2136 - Validation accuracy: 0.9444\n",
      "Epoch 156/300 --> loss: 0.2286 - accuracy: 0.9498 | Validation loss: 0.2048 - Validation accuracy: 0.9410\n",
      "Epoch 157/300 --> loss: 0.2409 - accuracy: 0.9454 | Validation loss: 0.2156 - Validation accuracy: 0.9375\n",
      "Epoch 158/300 --> loss: 0.2234 - accuracy: 0.9525 | Validation loss: 0.2153 - Validation accuracy: 0.9340\n",
      "Epoch 159/300 --> loss: 0.2286 - accuracy: 0.9551 | Validation loss: 0.1977 - Validation accuracy: 0.9479\n",
      "Epoch 160/300 --> loss: 0.2272 - accuracy: 0.9560 | Validation loss: 0.2050 - Validation accuracy: 0.9444\n",
      "Epoch 161/300 --> loss: 0.1958 - accuracy: 0.9604 | Validation loss: 0.2092 - Validation accuracy: 0.9410\n",
      "Epoch 162/300 --> loss: 0.2050 - accuracy: 0.9560 | Validation loss: 0.2052 - Validation accuracy: 0.9444\n",
      "Epoch 163/300 --> loss: 0.1875 - accuracy: 0.9710 | Validation loss: 0.1969 - Validation accuracy: 0.9444\n",
      "Epoch 164/300 --> loss: 0.1928 - accuracy: 0.9657 | Validation loss: 0.2031 - Validation accuracy: 0.9444\n",
      "Epoch 165/300 --> loss: 0.2009 - accuracy: 0.9595 | Validation loss: 0.2046 - Validation accuracy: 0.9479\n",
      "Epoch 166/300 --> loss: 0.2081 - accuracy: 0.9604 | Validation loss: 0.2037 - Validation accuracy: 0.9410\n",
      "Epoch 167/300 --> loss: 0.2050 - accuracy: 0.9595 | Validation loss: 0.2158 - Validation accuracy: 0.9444\n",
      "Epoch 168/300 --> loss: 0.1983 - accuracy: 0.9604 | Validation loss: 0.1996 - Validation accuracy: 0.9479\n",
      "Epoch 169/300 --> loss: 0.2117 - accuracy: 0.9542 | Validation loss: 0.2044 - Validation accuracy: 0.9375\n",
      "Epoch 170/300 --> loss: 0.1869 - accuracy: 0.9595 | Validation loss: 0.1983 - Validation accuracy: 0.9514\n",
      "Epoch 171/300 --> loss: 0.1947 - accuracy: 0.9586 | Validation loss: 0.1997 - Validation accuracy: 0.9479\n",
      "Epoch 172/300 --> loss: 0.2011 - accuracy: 0.9586 | Validation loss: 0.2036 - Validation accuracy: 0.9479\n",
      "Epoch 173/300 --> loss: 0.2066 - accuracy: 0.9595 | Validation loss: 0.1990 - Validation accuracy: 0.9410\n",
      "Early stopping: stopping training after 173 epochs.\n"
     ]
    }
   ],
   "source": [
    "history = model.fit(\n",
    "    X_train = X_train, \n",
    "    y_train = y_train_encoded,\n",
    "    optimizer = optimizer,\n",
    "    loss_fn = loss_fn,\n",
    "    X_valid = X_valid,\n",
    "    y_valid = y_valid_encoded,\n",
    "    batch_size = batch_size,\n",
    "    epochs = epochs,\n",
    "    metrics = [metrics.accuracy],\n",
    "    callbacks = [callbacks.EarlyStopping(monitor='val_loss', patience=10)]\n",
    ")"
   ]
  },
  {
   "cell_type": "code",
   "execution_count": 12,
   "metadata": {},
   "outputs": [
    {
     "data": {
      "image/png": "[encoded data removed]",
      "text/plain": [
       "<Figure size 800x400 with 1 Axes>"
      ]
     },
     "metadata": {},
     "output_type": "display_data"
    }
   ],
   "source": [
    "# Plot the training and validation loss\n",
    "utils.plot_history(history[\"loss\"], history[\"val_loss\"], \"Training and Validation Loss\", \"Epoch\", \"Loss\")"
   ]
  },
  {
   "cell_type": "markdown",
   "metadata": {},
   "source": [
    "### Model evaluation"
   ]
  },
  {
   "cell_type": "code",
   "execution_count": 13,
   "metadata": {},
   "outputs": [],
   "source": [
    "# Predict the labels\n",
    "predictions = model(X_test)\n",
    "\n",
    "# Apply the argmax function to the predictions\n",
    "predictions = np.argmax(predictions, axis=1)"
   ]
  },
  {
   "cell_type": "code",
   "execution_count": 14,
   "metadata": {},
   "outputs": [
    {
     "name": "stdout",
     "output_type": "stream",
     "text": [
      "Accuracy: 0.96\n"
     ]
    },
    {
     "data": {
      "image/png": "[encoded data removed]",
      "text/plain": [
       "<Figure size 600x600 with 1 Axes>"
      ]
     },
     "metadata": {},
     "output_type": "display_data"
    }
   ],
   "source": [
    "# Compute the accuracy\n",
    "accuracy = metrics.accuracy(predictions, y_test)\n",
    "confusion_matrix = metrics.confusion_matrix(num_classes, predictions, y_test)\n",
    "\n",
    "# Print the accuracy\n",
    "print(f\"Accuracy: {accuracy:.2f}\")\n",
    "\n",
    "# Plot the confusion matrix\n",
    "utils.plot_confusion_matrix(confusion_matrix)"
   ]
  }
 ],
 "metadata": {
  "kernelspec": {
   "display_name": "venv",
   "language": "python",
   "name": "python3"
  },
  "language_info": {
   "codemirror_mode": {
    "name": "ipython",
    "version": 3
   },
   "file_extension": ".py",
   "mimetype": "text/x-python",
   "name": "python",
   "nbconvert_exporter": "python",
   "pygments_lexer": "ipython3",
   "version": "3.11.11"
  }
 },
 "nbformat": 4,
 "nbformat_minor": 2
}
