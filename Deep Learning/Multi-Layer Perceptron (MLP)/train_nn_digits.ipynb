{
 "cells": [
  {
   "cell_type": "code",
   "execution_count": 1,
   "metadata": {},
   "outputs": [],
   "source": [
    "import sys\n",
    "import numpy as np\n",
    "import matplotlib.pyplot as plt\n",
    "from sklearn.datasets import load_digits\n",
    "\n",
    "# Add the path to the custom library to the system path\n",
    "sys.path.append('..')\n",
    "\n",
    "# Import the module from the custom library\n",
    "from src import utils\n",
    "from src import Model\n",
    "from src import layers\n",
    "from src import Tensor\n",
    "from src import metrics\n",
    "from src import callbacks\n",
    "from src import optimizers\n",
    "from src import activations\n",
    "from src import loss_functions"
   ]
  },
  {
   "cell_type": "markdown",
   "metadata": {},
   "source": [
    "### Constants and Hyperparameters"
   ]
  },
  {
   "cell_type": "code",
   "execution_count": 2,
   "metadata": {},
   "outputs": [],
   "source": [
    "train_test_split_pct = 0.2 # Percentage of samples to use for testing\n",
    "train_valid_split = 0.2 # Percentage of samples to use for validation\n",
    "learning_rate = 1e-4 # Learning rate for the optimizer\n",
    "batch_size = 16 # Number of samples to use for each batch\n",
    "epochs = 300 # Number of epochs to train the model\n",
    "seed = 1234 # Seed for reproducibility"
   ]
  },
  {
   "cell_type": "code",
   "execution_count": 3,
   "metadata": {},
   "outputs": [],
   "source": [
    "# Set the seed for reproducibility\n",
    "np.random.seed(seed)"
   ]
  },
  {
   "cell_type": "markdown",
   "metadata": {},
   "source": [
    "### Data loading"
   ]
  },
  {
   "cell_type": "code",
   "execution_count": null,
   "metadata": {},
   "outputs": [
    {
     "name": "stdout",
     "output_type": "stream",
     "text": [
      "Number of classes: 10\n",
      "Training set: (1151, 64) (1151,)\n",
      "Validation set: (287, 64) (287,)\n",
      "Testing set: (359, 64) (359,)\n"
     ]
    }
   ],
   "source": [
    "# Load the digits dataset\n",
    "digits = load_digits()\n",
    "\n",
    "# Extract the number of classes in the dataset\n",
    "num_classes = len(np.unique(digits['target'])) # type: ignore\n",
    "\n",
    "# Extract the input and output data\n",
    "data = Tensor(data=digits.get(\"data\", [])) # type: ignore\n",
    "labels = Tensor(data=digits.get(\"target\", []), dtype=np.int8) # type: ignore\n",
    "\n",
    "# Split the dataset into training, validation, and testing sets\n",
    "X_train, X_test, y_train, y_test = utils.split_data((data, labels), train_test_split_pct, shuffle=True)\n",
    "X_train, X_valid, y_train, y_valid = utils.split_data((X_train, y_train), train_valid_split, shuffle=True)\n",
    "\n",
    "# Print the dataset information\n",
    "print(\"Number of classes:\", num_classes)\n",
    "print('Training set:', X_train.shape(), y_train.shape())\n",
    "print('Validation set:', X_valid.shape(), y_valid.shape())\n",
    "print('Testing set:', X_test.shape(), y_test.shape())"
   ]
  },
  {
   "cell_type": "markdown",
   "metadata": {},
   "source": [
    "### Data Preprocessing"
   ]
  },
  {
   "cell_type": "code",
   "execution_count": 5,
   "metadata": {},
   "outputs": [],
   "source": [
    "# Normalization\n",
    "def normalize(X: Tensor) -> Tensor:\n",
    "    \"\"\"\n",
    "    Normalize the input data by dividing by the maximum value in the training set.\n",
    "    \n",
    "    Parameters:\n",
    "    - X (Tensor): The input data to normalize\n",
    "    \n",
    "    Returns:\n",
    "    - Tensor: The normalized input data\n",
    "    \"\"\"\n",
    "    \n",
    "    # Normalize the input data\n",
    "    return X / 255.0\n",
    "\n",
    "# Normalize the input data\n",
    "X_train = normalize(X_train)\n",
    "X_valid = normalize(X_valid)\n",
    "X_test = normalize(X_test)"
   ]
  },
  {
   "cell_type": "code",
   "execution_count": 6,
   "metadata": {},
   "outputs": [
    {
     "name": "stdout",
     "output_type": "stream",
     "text": [
      "Sample target value: 3\n",
      "One-hot encoded value: Tensor([0 0 0 1 0 0 0 0 0 0], shape=(10,), dtype=int8)\n"
     ]
    }
   ],
   "source": [
    "# Convert the target values to one-hot encoded vectors\n",
    "y_train_encoded = utils.one_hot_encoding(y=y_train, n_classes=num_classes)\n",
    "y_valid_encoded = utils.one_hot_encoding(y=y_valid, n_classes=num_classes)\n",
    "\n",
    "# Print one sample encoding\n",
    "print(\"Sample target value:\", y_train[0].data)\n",
    "print(\"One-hot encoded value:\", y_train_encoded[0])"
   ]
  },
  {
   "cell_type": "markdown",
   "metadata": {},
   "source": [
    "### Data visualization"
   ]
  },
  {
   "cell_type": "code",
   "execution_count": 7,
   "metadata": {},
   "outputs": [
    {
     "data": {
      "image/png": "[encoded data removed]",
      "text/plain": [
       "<Figure size 2000x500 with 10 Axes>"
      ]
     },
     "metadata": {},
     "output_type": "display_data"
    }
   ],
   "source": [
    "def plot_samples(samples: list[np.ndarray], labels: list[np.ndarray]) -> None:\n",
    "    \"\"\"\n",
    "    Plot the samples in a grid.\n",
    "    \n",
    "    Parameters:\n",
    "    - samples (list[np.ndarray]): The samples to plot\n",
    "    - labels (list[np.ndarray]): The labels of the samples\n",
    "    \"\"\"\n",
    "    \n",
    "    reshaped_samples = []\n",
    "    \n",
    "    # Iterate over the samples\n",
    "    for sample in samples:\n",
    "        # Compute the new shape\n",
    "        new_shape = np.sqrt(sample.shape).astype(int)[0]\n",
    "        \n",
    "        # Reshape the sample\n",
    "        sample = sample.reshape(new_shape, new_shape)\n",
    "        \n",
    "        # Append the reshaped sample\n",
    "        reshaped_samples.append(sample)\n",
    "        \n",
    "    # Plot the samples in a grid\n",
    "    _, axes = plt.subplots(1, len(samples), figsize=(20, 5))\n",
    "    for i, ax in enumerate(axes):\n",
    "        ax.imshow(reshaped_samples[i], cmap='gray')\n",
    "        ax.set_title(f'Label: {labels[i]}')\n",
    "        ax.axis('off')\n",
    "        \n",
    "        \n",
    "# Plot the first 10 samples\n",
    "plot_samples(list(X_train.data[:10]), list(y_train.data[:10]))"
   ]
  },
  {
   "cell_type": "markdown",
   "metadata": {},
   "source": [
    "### Building the model"
   ]
  },
  {
   "cell_type": "code",
   "execution_count": 8,
   "metadata": {},
   "outputs": [],
   "source": [
    "\n",
    "model = Model(\n",
    "    name = \"Digits Classifier\",\n",
    "    modules = [\n",
    "        layers.Dense(num_units=24, activation=activations.ReLU()),\n",
    "        layers.BatchNormalization(momentum=0.9),\n",
    "        layers.Dropout(rate=0.1),\n",
    "        layers.Dense(num_units=32, activation=activations.ReLU()),\n",
    "        layers.Dropout(rate=0.1),\n",
    "        layers.Dense(num_units=12, activation=activations.Tanh()),\n",
    "        layers.Dropout(rate=0.1),\n",
    "        layers.Dense(num_units=num_classes, activation=activations.Softmax())\n",
    "    ]\n",
    ")\n",
    "\n",
    "# Initialize the optimizer\n",
    "optimizer = optimizers.Adam(learning_rate=learning_rate)\n",
    "\n",
    "# Initialize the loss function\n",
    "loss_fn = loss_functions.CategoricalCrossEntropy()"
   ]
  },
  {
   "cell_type": "code",
   "execution_count": 9,
   "metadata": {},
   "outputs": [],
   "source": [
    "# Call the model with a first batch to initialize the weights\n",
    "# This is not necessary, but it is useful to know the input size\n",
    "model(X_train[:batch_size]);"
   ]
  },
  {
   "cell_type": "code",
   "execution_count": 10,
   "metadata": {},
   "outputs": [
    {
     "name": "stdout",
     "output_type": "stream",
     "text": [
      "\n",
      "Digits Classifier (ID: 0)\n",
      "\n",
      "--------------------------------------------------------------------------------\n",
      "Module (type)                           Output Shape        Trainable params #  \n",
      "================================================================================\n",
      "dense_1 (Dense)                         (16, 24)            1560                \n",
      "--------------------------------------------------------------------------------\n",
      "batch_normalization_2                   \n",
      "(BatchNormalization)                    (16, 24)            48                  \n",
      "--------------------------------------------------------------------------------\n",
      "dropout_3 (Dropout)                     (16, 24)            0                   \n",
      "--------------------------------------------------------------------------------\n",
      "dense_4 (Dense)                         (16, 32)            800                 \n",
      "--------------------------------------------------------------------------------\n",
      "dropout_5 (Dropout)                     (16, 32)            0                   \n",
      "--------------------------------------------------------------------------------\n",
      "dense_6 (Dense)                         (16, 12)            396                 \n",
      "--------------------------------------------------------------------------------\n",
      "dropout_7 (Dropout)                     (16, 12)            0                   \n",
      "--------------------------------------------------------------------------------\n",
      "dense_8 (Dense)                         (16, 10)            130                 \n",
      "================================================================================\n",
      "Total trainable parameters: 2934\n",
      "--------------------------------------------------------------------------------\n"
     ]
    }
   ],
   "source": [
    "# Display the model summary\n",
    "model.summary()"
   ]
  },
  {
   "cell_type": "markdown",
   "metadata": {},
   "source": [
    "### Training the model"
   ]
  },
  {
   "cell_type": "code",
   "execution_count": 11,
   "metadata": {},
   "outputs": [
    {
     "name": "stdout",
     "output_type": "stream",
     "text": [
      "Epoch 1/300 --> loss: 2.2843 - accuracy: 0.1234 | Validation loss: 2.2854 - Validation accuracy: 0.1537\n",
      "Epoch 2/300 --> loss: 2.2339 - accuracy: 0.2052 | Validation loss: 2.2012 - Validation accuracy: 0.2894\n",
      "Epoch 3/300 --> loss: 2.1892 - accuracy: 0.2805 | Validation loss: 2.1493 - Validation accuracy: 0.3486\n",
      "Epoch 4/300 --> loss: 2.1447 - accuracy: 0.3509 | Validation loss: 2.0931 - Validation accuracy: 0.4181\n",
      "Epoch 5/300 --> loss: 2.0877 - accuracy: 0.4160 | Validation loss: 2.0366 - Validation accuracy: 0.4738\n",
      "Epoch 6/300 --> loss: 2.0342 - accuracy: 0.4727 | Validation loss: 1.9729 - Validation accuracy: 0.5053\n",
      "Epoch 7/300 --> loss: 1.9676 - accuracy: 0.5161 | Validation loss: 1.9087 - Validation accuracy: 0.5296\n",
      "Epoch 8/300 --> loss: 1.9181 - accuracy: 0.5212 | Validation loss: 1.8477 - Validation accuracy: 0.5405\n",
      "Epoch 9/300 --> loss: 1.8567 - accuracy: 0.5490 | Validation loss: 1.7878 - Validation accuracy: 0.5685\n",
      "Epoch 10/300 --> loss: 1.7970 - accuracy: 0.5764 | Validation loss: 1.7195 - Validation accuracy: 0.5755\n",
      "Epoch 11/300 --> loss: 1.7469 - accuracy: 0.5708 | Validation loss: 1.6567 - Validation accuracy: 0.5928\n",
      "Epoch 12/300 --> loss: 1.6757 - accuracy: 0.5934 | Validation loss: 1.6018 - Validation accuracy: 0.5963\n",
      "Epoch 13/300 --> loss: 1.6344 - accuracy: 0.6064 | Validation loss: 1.5487 - Validation accuracy: 0.6137\n",
      "Epoch 14/300 --> loss: 1.5698 - accuracy: 0.6205 | Validation loss: 1.5053 - Validation accuracy: 0.6102\n",
      "Epoch 15/300 --> loss: 1.5356 - accuracy: 0.6299 | Validation loss: 1.4467 - Validation accuracy: 0.6414\n",
      "Epoch 16/300 --> loss: 1.4874 - accuracy: 0.6490 | Validation loss: 1.3989 - Validation accuracy: 0.6553\n",
      "Epoch 17/300 --> loss: 1.4344 - accuracy: 0.6586 | Validation loss: 1.3615 - Validation accuracy: 0.6866\n",
      "Epoch 18/300 --> loss: 1.4098 - accuracy: 0.6664 | Validation loss: 1.3167 - Validation accuracy: 0.7074\n",
      "Epoch 19/300 --> loss: 1.3628 - accuracy: 0.6889 | Validation loss: 1.2704 - Validation accuracy: 0.7106\n",
      "Epoch 20/300 --> loss: 1.3301 - accuracy: 0.6891 | Validation loss: 1.2334 - Validation accuracy: 0.7109\n",
      "Epoch 21/300 --> loss: 1.3045 - accuracy: 0.6890 | Validation loss: 1.1947 - Validation accuracy: 0.7218\n",
      "Epoch 22/300 --> loss: 1.2573 - accuracy: 0.6969 | Validation loss: 1.1598 - Validation accuracy: 0.7074\n",
      "Epoch 23/300 --> loss: 1.2414 - accuracy: 0.7089 | Validation loss: 1.1231 - Validation accuracy: 0.7280\n",
      "Epoch 24/300 --> loss: 1.1861 - accuracy: 0.7157 | Validation loss: 1.0892 - Validation accuracy: 0.7493\n",
      "Epoch 25/300 --> loss: 1.1595 - accuracy: 0.7281 | Validation loss: 1.0599 - Validation accuracy: 0.7389\n",
      "Epoch 26/300 --> loss: 1.1312 - accuracy: 0.7437 | Validation loss: 1.0261 - Validation accuracy: 0.7563\n",
      "Epoch 27/300 --> loss: 1.1256 - accuracy: 0.7392 | Validation loss: 0.9945 - Validation accuracy: 0.7597\n",
      "Epoch 28/300 --> loss: 1.0794 - accuracy: 0.7672 | Validation loss: 0.9657 - Validation accuracy: 0.7738\n",
      "Epoch 29/300 --> loss: 1.0427 - accuracy: 0.7635 | Validation loss: 0.9425 - Validation accuracy: 0.7738\n",
      "Epoch 30/300 --> loss: 1.0277 - accuracy: 0.7550 | Validation loss: 0.9156 - Validation accuracy: 0.7808\n",
      "Epoch 31/300 --> loss: 1.0005 - accuracy: 0.7655 | Validation loss: 0.8870 - Validation accuracy: 0.7912\n",
      "Epoch 32/300 --> loss: 0.9656 - accuracy: 0.7906 | Validation loss: 0.8601 - Validation accuracy: 0.8051\n",
      "Epoch 33/300 --> loss: 0.9678 - accuracy: 0.7854 | Validation loss: 0.8424 - Validation accuracy: 0.8051\n",
      "Epoch 34/300 --> loss: 0.9391 - accuracy: 0.7836 | Validation loss: 0.8156 - Validation accuracy: 0.8120\n",
      "Epoch 35/300 --> loss: 0.9204 - accuracy: 0.7976 | Validation loss: 0.7919 - Validation accuracy: 0.8294\n",
      "Epoch 36/300 --> loss: 0.8813 - accuracy: 0.8166 | Validation loss: 0.7710 - Validation accuracy: 0.8259\n",
      "Epoch 37/300 --> loss: 0.8756 - accuracy: 0.8106 | Validation loss: 0.7510 - Validation accuracy: 0.8502\n",
      "Epoch 38/300 --> loss: 0.8428 - accuracy: 0.8427 | Validation loss: 0.7284 - Validation accuracy: 0.8502\n",
      "Epoch 39/300 --> loss: 0.8108 - accuracy: 0.8341 | Validation loss: 0.7089 - Validation accuracy: 0.8572\n",
      "Epoch 40/300 --> loss: 0.8015 - accuracy: 0.8444 | Validation loss: 0.6892 - Validation accuracy: 0.8606\n",
      "Epoch 41/300 --> loss: 0.7917 - accuracy: 0.8435 | Validation loss: 0.6724 - Validation accuracy: 0.8815\n",
      "Epoch 42/300 --> loss: 0.7898 - accuracy: 0.8374 | Validation loss: 0.6518 - Validation accuracy: 0.8884\n",
      "Epoch 43/300 --> loss: 0.7541 - accuracy: 0.8532 | Validation loss: 0.6373 - Validation accuracy: 0.8884\n",
      "Epoch 44/300 --> loss: 0.7367 - accuracy: 0.8679 | Validation loss: 0.6250 - Validation accuracy: 0.8884\n",
      "Epoch 45/300 --> loss: 0.7247 - accuracy: 0.8661 | Validation loss: 0.6067 - Validation accuracy: 0.8954\n",
      "Epoch 46/300 --> loss: 0.7000 - accuracy: 0.8722 | Validation loss: 0.5873 - Validation accuracy: 0.9127\n",
      "Epoch 47/300 --> loss: 0.6825 - accuracy: 0.8696 | Validation loss: 0.5729 - Validation accuracy: 0.9093\n",
      "Epoch 48/300 --> loss: 0.6891 - accuracy: 0.8818 | Validation loss: 0.5615 - Validation accuracy: 0.9231\n",
      "Epoch 49/300 --> loss: 0.6703 - accuracy: 0.8741 | Validation loss: 0.5448 - Validation accuracy: 0.9266\n",
      "Epoch 50/300 --> loss: 0.6523 - accuracy: 0.8758 | Validation loss: 0.5281 - Validation accuracy: 0.9405\n",
      "Epoch 51/300 --> loss: 0.6428 - accuracy: 0.8896 | Validation loss: 0.5155 - Validation accuracy: 0.9405\n",
      "Epoch 52/300 --> loss: 0.6215 - accuracy: 0.8958 | Validation loss: 0.4997 - Validation accuracy: 0.9544\n",
      "Epoch 53/300 --> loss: 0.6118 - accuracy: 0.8966 | Validation loss: 0.4932 - Validation accuracy: 0.9370\n",
      "Epoch 54/300 --> loss: 0.6077 - accuracy: 0.8915 | Validation loss: 0.4787 - Validation accuracy: 0.9475\n",
      "Epoch 55/300 --> loss: 0.5942 - accuracy: 0.9008 | Validation loss: 0.4688 - Validation accuracy: 0.9370\n",
      "Epoch 56/300 --> loss: 0.5727 - accuracy: 0.9001 | Validation loss: 0.4594 - Validation accuracy: 0.9544\n",
      "Epoch 57/300 --> loss: 0.5556 - accuracy: 0.9192 | Validation loss: 0.4416 - Validation accuracy: 0.9475\n",
      "Epoch 58/300 --> loss: 0.5581 - accuracy: 0.9097 | Validation loss: 0.4296 - Validation accuracy: 0.9613\n",
      "Epoch 59/300 --> loss: 0.5331 - accuracy: 0.9166 | Validation loss: 0.4240 - Validation accuracy: 0.9475\n",
      "Epoch 60/300 --> loss: 0.5427 - accuracy: 0.9061 | Validation loss: 0.4143 - Validation accuracy: 0.9509\n",
      "Epoch 61/300 --> loss: 0.5099 - accuracy: 0.9218 | Validation loss: 0.4072 - Validation accuracy: 0.9509\n",
      "Epoch 62/300 --> loss: 0.5145 - accuracy: 0.9201 | Validation loss: 0.4006 - Validation accuracy: 0.9579\n",
      "Epoch 63/300 --> loss: 0.4921 - accuracy: 0.9191 | Validation loss: 0.3824 - Validation accuracy: 0.9648\n",
      "Epoch 64/300 --> loss: 0.4965 - accuracy: 0.9140 | Validation loss: 0.3768 - Validation accuracy: 0.9544\n",
      "Epoch 65/300 --> loss: 0.4526 - accuracy: 0.9400 | Validation loss: 0.3705 - Validation accuracy: 0.9648\n",
      "Epoch 66/300 --> loss: 0.4679 - accuracy: 0.9252 | Validation loss: 0.3572 - Validation accuracy: 0.9648\n",
      "Epoch 67/300 --> loss: 0.4613 - accuracy: 0.9278 | Validation loss: 0.3503 - Validation accuracy: 0.9648\n",
      "Epoch 68/300 --> loss: 0.4373 - accuracy: 0.9286 | Validation loss: 0.3447 - Validation accuracy: 0.9683\n",
      "Epoch 69/300 --> loss: 0.4450 - accuracy: 0.9245 | Validation loss: 0.3380 - Validation accuracy: 0.9648\n",
      "Epoch 70/300 --> loss: 0.4444 - accuracy: 0.9192 | Validation loss: 0.3245 - Validation accuracy: 0.9613\n",
      "Epoch 71/300 --> loss: 0.4379 - accuracy: 0.9288 | Validation loss: 0.3247 - Validation accuracy: 0.9718\n",
      "Epoch 72/300 --> loss: 0.4380 - accuracy: 0.9201 | Validation loss: 0.3148 - Validation accuracy: 0.9683\n",
      "Epoch 73/300 --> loss: 0.4139 - accuracy: 0.9313 | Validation loss: 0.3054 - Validation accuracy: 0.9648\n",
      "Epoch 74/300 --> loss: 0.4016 - accuracy: 0.9348 | Validation loss: 0.3043 - Validation accuracy: 0.9613\n",
      "Epoch 75/300 --> loss: 0.3820 - accuracy: 0.9410 | Validation loss: 0.2969 - Validation accuracy: 0.9648\n",
      "Epoch 76/300 --> loss: 0.3942 - accuracy: 0.9357 | Validation loss: 0.2926 - Validation accuracy: 0.9648\n",
      "Epoch 77/300 --> loss: 0.3925 - accuracy: 0.9392 | Validation loss: 0.2828 - Validation accuracy: 0.9683\n",
      "Epoch 78/300 --> loss: 0.3919 - accuracy: 0.9219 | Validation loss: 0.2779 - Validation accuracy: 0.9648\n",
      "Epoch 79/300 --> loss: 0.3969 - accuracy: 0.9374 | Validation loss: 0.2760 - Validation accuracy: 0.9683\n",
      "Epoch 80/300 --> loss: 0.3685 - accuracy: 0.9436 | Validation loss: 0.2684 - Validation accuracy: 0.9683\n",
      "Epoch 81/300 --> loss: 0.4046 - accuracy: 0.9192 | Validation loss: 0.2584 - Validation accuracy: 0.9718\n",
      "Epoch 82/300 --> loss: 0.3506 - accuracy: 0.9479 | Validation loss: 0.2561 - Validation accuracy: 0.9718\n",
      "Epoch 83/300 --> loss: 0.3488 - accuracy: 0.9410 | Validation loss: 0.2486 - Validation accuracy: 0.9718\n",
      "Epoch 84/300 --> loss: 0.3534 - accuracy: 0.9365 | Validation loss: 0.2487 - Validation accuracy: 0.9683\n",
      "Epoch 85/300 --> loss: 0.3534 - accuracy: 0.9323 | Validation loss: 0.2433 - Validation accuracy: 0.9683\n",
      "Epoch 86/300 --> loss: 0.3387 - accuracy: 0.9418 | Validation loss: 0.2421 - Validation accuracy: 0.9648\n",
      "Epoch 87/300 --> loss: 0.3317 - accuracy: 0.9427 | Validation loss: 0.2355 - Validation accuracy: 0.9683\n",
      "Epoch 88/300 --> loss: 0.3255 - accuracy: 0.9401 | Validation loss: 0.2292 - Validation accuracy: 0.9683\n",
      "Epoch 89/300 --> loss: 0.3353 - accuracy: 0.9383 | Validation loss: 0.2250 - Validation accuracy: 0.9720\n",
      "Epoch 90/300 --> loss: 0.3177 - accuracy: 0.9503 | Validation loss: 0.2257 - Validation accuracy: 0.9755\n",
      "Epoch 91/300 --> loss: 0.2964 - accuracy: 0.9575 | Validation loss: 0.2159 - Validation accuracy: 0.9718\n",
      "Epoch 92/300 --> loss: 0.3241 - accuracy: 0.9400 | Validation loss: 0.2117 - Validation accuracy: 0.9718\n",
      "Epoch 93/300 --> loss: 0.3154 - accuracy: 0.9383 | Validation loss: 0.2105 - Validation accuracy: 0.9720\n",
      "Epoch 94/300 --> loss: 0.3016 - accuracy: 0.9399 | Validation loss: 0.2054 - Validation accuracy: 0.9752\n",
      "Epoch 95/300 --> loss: 0.3154 - accuracy: 0.9436 | Validation loss: 0.2025 - Validation accuracy: 0.9755\n",
      "Epoch 96/300 --> loss: 0.2966 - accuracy: 0.9470 | Validation loss: 0.2047 - Validation accuracy: 0.9685\n",
      "Epoch 97/300 --> loss: 0.2965 - accuracy: 0.9487 | Validation loss: 0.1975 - Validation accuracy: 0.9718\n",
      "Epoch 98/300 --> loss: 0.2844 - accuracy: 0.9488 | Validation loss: 0.1959 - Validation accuracy: 0.9720\n",
      "Epoch 99/300 --> loss: 0.2937 - accuracy: 0.9427 | Validation loss: 0.1947 - Validation accuracy: 0.9752\n",
      "Epoch 100/300 --> loss: 0.2695 - accuracy: 0.9539 | Validation loss: 0.1930 - Validation accuracy: 0.9718\n",
      "Epoch 101/300 --> loss: 0.3030 - accuracy: 0.9384 | Validation loss: 0.1857 - Validation accuracy: 0.9752\n",
      "Epoch 102/300 --> loss: 0.2736 - accuracy: 0.9548 | Validation loss: 0.1844 - Validation accuracy: 0.9787\n",
      "Epoch 103/300 --> loss: 0.2747 - accuracy: 0.9453 | Validation loss: 0.1790 - Validation accuracy: 0.9752\n",
      "Epoch 104/300 --> loss: 0.2735 - accuracy: 0.9444 | Validation loss: 0.1772 - Validation accuracy: 0.9683\n",
      "Epoch 105/300 --> loss: 0.2630 - accuracy: 0.9531 | Validation loss: 0.1752 - Validation accuracy: 0.9718\n",
      "Epoch 106/300 --> loss: 0.2635 - accuracy: 0.9427 | Validation loss: 0.1704 - Validation accuracy: 0.9752\n",
      "Epoch 107/300 --> loss: 0.2483 - accuracy: 0.9592 | Validation loss: 0.1674 - Validation accuracy: 0.9787\n",
      "Epoch 108/300 --> loss: 0.2524 - accuracy: 0.9566 | Validation loss: 0.1658 - Validation accuracy: 0.9787\n",
      "Epoch 109/300 --> loss: 0.2579 - accuracy: 0.9453 | Validation loss: 0.1633 - Validation accuracy: 0.9787\n",
      "Epoch 110/300 --> loss: 0.2517 - accuracy: 0.9514 | Validation loss: 0.1626 - Validation accuracy: 0.9752\n",
      "Epoch 111/300 --> loss: 0.2507 - accuracy: 0.9557 | Validation loss: 0.1614 - Validation accuracy: 0.9752\n",
      "Epoch 112/300 --> loss: 0.2508 - accuracy: 0.9565 | Validation loss: 0.1588 - Validation accuracy: 0.9787\n",
      "Epoch 113/300 --> loss: 0.2402 - accuracy: 0.9540 | Validation loss: 0.1575 - Validation accuracy: 0.9787\n",
      "Epoch 114/300 --> loss: 0.2345 - accuracy: 0.9566 | Validation loss: 0.1515 - Validation accuracy: 0.9824\n",
      "Epoch 115/300 --> loss: 0.2217 - accuracy: 0.9617 | Validation loss: 0.1535 - Validation accuracy: 0.9789\n",
      "Epoch 116/300 --> loss: 0.2328 - accuracy: 0.9565 | Validation loss: 0.1570 - Validation accuracy: 0.9755\n",
      "Epoch 117/300 --> loss: 0.2105 - accuracy: 0.9627 | Validation loss: 0.1515 - Validation accuracy: 0.9859\n",
      "Epoch 118/300 --> loss: 0.2188 - accuracy: 0.9644 | Validation loss: 0.1513 - Validation accuracy: 0.9824\n",
      "Epoch 119/300 --> loss: 0.2183 - accuracy: 0.9618 | Validation loss: 0.1407 - Validation accuracy: 0.9787\n",
      "Epoch 120/300 --> loss: 0.2242 - accuracy: 0.9523 | Validation loss: 0.1415 - Validation accuracy: 0.9824\n",
      "Epoch 121/300 --> loss: 0.2193 - accuracy: 0.9609 | Validation loss: 0.1382 - Validation accuracy: 0.9787\n",
      "Epoch 122/300 --> loss: 0.2062 - accuracy: 0.9575 | Validation loss: 0.1390 - Validation accuracy: 0.9861\n",
      "Epoch 123/300 --> loss: 0.2224 - accuracy: 0.9549 | Validation loss: 0.1392 - Validation accuracy: 0.9789\n",
      "Epoch 124/300 --> loss: 0.2009 - accuracy: 0.9609 | Validation loss: 0.1311 - Validation accuracy: 0.9822\n",
      "Epoch 125/300 --> loss: 0.2271 - accuracy: 0.9531 | Validation loss: 0.1328 - Validation accuracy: 0.9787\n",
      "Epoch 126/300 --> loss: 0.2038 - accuracy: 0.9678 | Validation loss: 0.1342 - Validation accuracy: 0.9752\n",
      "Epoch 127/300 --> loss: 0.2322 - accuracy: 0.9505 | Validation loss: 0.1378 - Validation accuracy: 0.9789\n",
      "Epoch 128/300 --> loss: 0.2053 - accuracy: 0.9583 | Validation loss: 0.1333 - Validation accuracy: 0.9787\n",
      "Epoch 129/300 --> loss: 0.2029 - accuracy: 0.9557 | Validation loss: 0.1249 - Validation accuracy: 0.9822\n",
      "Epoch 130/300 --> loss: 0.1918 - accuracy: 0.9627 | Validation loss: 0.1282 - Validation accuracy: 0.9824\n",
      "Epoch 131/300 --> loss: 0.2088 - accuracy: 0.9600 | Validation loss: 0.1295 - Validation accuracy: 0.9787\n",
      "Epoch 132/300 --> loss: 0.1869 - accuracy: 0.9687 | Validation loss: 0.1256 - Validation accuracy: 0.9787\n",
      "Epoch 133/300 --> loss: 0.1787 - accuracy: 0.9661 | Validation loss: 0.1251 - Validation accuracy: 0.9822\n",
      "Epoch 134/300 --> loss: 0.1927 - accuracy: 0.9626 | Validation loss: 0.1257 - Validation accuracy: 0.9789\n",
      "Epoch 135/300 --> loss: 0.1837 - accuracy: 0.9705 | Validation loss: 0.1187 - Validation accuracy: 0.9822\n",
      "Epoch 136/300 --> loss: 0.1888 - accuracy: 0.9634 | Validation loss: 0.1182 - Validation accuracy: 0.9859\n",
      "Epoch 137/300 --> loss: 0.1695 - accuracy: 0.9688 | Validation loss: 0.1196 - Validation accuracy: 0.9792\n",
      "Epoch 138/300 --> loss: 0.1920 - accuracy: 0.9635 | Validation loss: 0.1156 - Validation accuracy: 0.9822\n",
      "Epoch 139/300 --> loss: 0.1836 - accuracy: 0.9575 | Validation loss: 0.1181 - Validation accuracy: 0.9792\n",
      "Epoch 140/300 --> loss: 0.1930 - accuracy: 0.9618 | Validation loss: 0.1127 - Validation accuracy: 0.9824\n",
      "Epoch 141/300 --> loss: 0.1912 - accuracy: 0.9583 | Validation loss: 0.1076 - Validation accuracy: 0.9822\n",
      "Epoch 142/300 --> loss: 0.1677 - accuracy: 0.9677 | Validation loss: 0.1065 - Validation accuracy: 0.9822\n",
      "Epoch 143/300 --> loss: 0.1794 - accuracy: 0.9609 | Validation loss: 0.1053 - Validation accuracy: 0.9822\n",
      "Epoch 144/300 --> loss: 0.1780 - accuracy: 0.9608 | Validation loss: 0.1037 - Validation accuracy: 0.9896\n",
      "Epoch 145/300 --> loss: 0.1745 - accuracy: 0.9617 | Validation loss: 0.1060 - Validation accuracy: 0.9787\n",
      "Epoch 146/300 --> loss: 0.1858 - accuracy: 0.9583 | Validation loss: 0.1042 - Validation accuracy: 0.9861\n",
      "Epoch 147/300 --> loss: 0.1779 - accuracy: 0.9583 | Validation loss: 0.1080 - Validation accuracy: 0.9792\n",
      "Epoch 148/300 --> loss: 0.1669 - accuracy: 0.9688 | Validation loss: 0.1022 - Validation accuracy: 0.9826\n",
      "Epoch 149/300 --> loss: 0.1718 - accuracy: 0.9635 | Validation loss: 0.1022 - Validation accuracy: 0.9859\n",
      "Epoch 150/300 --> loss: 0.1568 - accuracy: 0.9635 | Validation loss: 0.1006 - Validation accuracy: 0.9859\n",
      "Epoch 151/300 --> loss: 0.1886 - accuracy: 0.9540 | Validation loss: 0.1019 - Validation accuracy: 0.9824\n",
      "Epoch 152/300 --> loss: 0.1793 - accuracy: 0.9644 | Validation loss: 0.1006 - Validation accuracy: 0.9755\n",
      "Epoch 153/300 --> loss: 0.1612 - accuracy: 0.9678 | Validation loss: 0.1005 - Validation accuracy: 0.9789\n",
      "Epoch 154/300 --> loss: 0.1647 - accuracy: 0.9653 | Validation loss: 0.1034 - Validation accuracy: 0.9755\n",
      "Epoch 155/300 --> loss: 0.1636 - accuracy: 0.9644 | Validation loss: 0.0965 - Validation accuracy: 0.9859\n",
      "Epoch 156/300 --> loss: 0.1655 - accuracy: 0.9617 | Validation loss: 0.1006 - Validation accuracy: 0.9789\n",
      "Epoch 157/300 --> loss: 0.1639 - accuracy: 0.9617 | Validation loss: 0.0959 - Validation accuracy: 0.9824\n",
      "Epoch 158/300 --> loss: 0.1567 - accuracy: 0.9678 | Validation loss: 0.0956 - Validation accuracy: 0.9896\n",
      "Epoch 159/300 --> loss: 0.1544 - accuracy: 0.9696 | Validation loss: 0.0951 - Validation accuracy: 0.9824\n",
      "Epoch 160/300 --> loss: 0.1396 - accuracy: 0.9731 | Validation loss: 0.0941 - Validation accuracy: 0.9787\n",
      "Epoch 161/300 --> loss: 0.1535 - accuracy: 0.9669 | Validation loss: 0.0965 - Validation accuracy: 0.9752\n",
      "Epoch 162/300 --> loss: 0.1476 - accuracy: 0.9705 | Validation loss: 0.0940 - Validation accuracy: 0.9822\n",
      "Epoch 163/300 --> loss: 0.1336 - accuracy: 0.9722 | Validation loss: 0.0950 - Validation accuracy: 0.9861\n",
      "Epoch 164/300 --> loss: 0.1538 - accuracy: 0.9687 | Validation loss: 0.0947 - Validation accuracy: 0.9859\n",
      "Epoch 165/300 --> loss: 0.1495 - accuracy: 0.9704 | Validation loss: 0.0962 - Validation accuracy: 0.9789\n",
      "Epoch 166/300 --> loss: 0.1641 - accuracy: 0.9626 | Validation loss: 0.0955 - Validation accuracy: 0.9787\n",
      "Epoch 167/300 --> loss: 0.1565 - accuracy: 0.9644 | Validation loss: 0.0968 - Validation accuracy: 0.9755\n",
      "Epoch 168/300 --> loss: 0.1236 - accuracy: 0.9756 | Validation loss: 0.0921 - Validation accuracy: 0.9824\n",
      "Epoch 169/300 --> loss: 0.1387 - accuracy: 0.9748 | Validation loss: 0.0885 - Validation accuracy: 0.9822\n",
      "Epoch 170/300 --> loss: 0.1390 - accuracy: 0.9634 | Validation loss: 0.0895 - Validation accuracy: 0.9787\n",
      "Epoch 171/300 --> loss: 0.1440 - accuracy: 0.9644 | Validation loss: 0.0909 - Validation accuracy: 0.9826\n",
      "Epoch 172/300 --> loss: 0.1415 - accuracy: 0.9661 | Validation loss: 0.0915 - Validation accuracy: 0.9752\n",
      "Epoch 173/300 --> loss: 0.1384 - accuracy: 0.9757 | Validation loss: 0.0853 - Validation accuracy: 0.9859\n",
      "Epoch 174/300 --> loss: 0.1490 - accuracy: 0.9635 | Validation loss: 0.0890 - Validation accuracy: 0.9755\n",
      "Epoch 175/300 --> loss: 0.1712 - accuracy: 0.9547 | Validation loss: 0.0858 - Validation accuracy: 0.9824\n",
      "Epoch 176/300 --> loss: 0.1296 - accuracy: 0.9722 | Validation loss: 0.0939 - Validation accuracy: 0.9792\n",
      "Epoch 177/300 --> loss: 0.1254 - accuracy: 0.9740 | Validation loss: 0.0889 - Validation accuracy: 0.9752\n",
      "Epoch 178/300 --> loss: 0.1419 - accuracy: 0.9661 | Validation loss: 0.0837 - Validation accuracy: 0.9826\n",
      "Epoch 179/300 --> loss: 0.1512 - accuracy: 0.9626 | Validation loss: 0.0801 - Validation accuracy: 0.9861\n",
      "Epoch 180/300 --> loss: 0.1420 - accuracy: 0.9643 | Validation loss: 0.0819 - Validation accuracy: 0.9856\n",
      "Epoch 181/300 --> loss: 0.1450 - accuracy: 0.9696 | Validation loss: 0.0884 - Validation accuracy: 0.9824\n",
      "Epoch 182/300 --> loss: 0.1331 - accuracy: 0.9704 | Validation loss: 0.0835 - Validation accuracy: 0.9826\n",
      "Epoch 183/300 --> loss: 0.1214 - accuracy: 0.9756 | Validation loss: 0.0836 - Validation accuracy: 0.9787\n",
      "Epoch 184/300 --> loss: 0.1374 - accuracy: 0.9670 | Validation loss: 0.0814 - Validation accuracy: 0.9822\n",
      "Epoch 185/300 --> loss: 0.1330 - accuracy: 0.9679 | Validation loss: 0.0826 - Validation accuracy: 0.9859\n",
      "Epoch 186/300 --> loss: 0.1411 - accuracy: 0.9644 | Validation loss: 0.0896 - Validation accuracy: 0.9752\n",
      "Epoch 187/300 --> loss: 0.1471 - accuracy: 0.9626 | Validation loss: 0.0841 - Validation accuracy: 0.9787\n",
      "Epoch 188/300 --> loss: 0.1375 - accuracy: 0.9705 | Validation loss: 0.0852 - Validation accuracy: 0.9824\n",
      "Epoch 189/300 --> loss: 0.1374 - accuracy: 0.9644 | Validation loss: 0.0797 - Validation accuracy: 0.9787\n",
      "Epoch 190/300 --> loss: 0.1246 - accuracy: 0.9687 | Validation loss: 0.0854 - Validation accuracy: 0.9859\n",
      "Epoch 191/300 --> loss: 0.1115 - accuracy: 0.9765 | Validation loss: 0.0834 - Validation accuracy: 0.9824\n",
      "Epoch 192/300 --> loss: 0.1271 - accuracy: 0.9757 | Validation loss: 0.0815 - Validation accuracy: 0.9822\n",
      "Epoch 193/300 --> loss: 0.1411 - accuracy: 0.9679 | Validation loss: 0.0754 - Validation accuracy: 0.9856\n",
      "Epoch 194/300 --> loss: 0.1244 - accuracy: 0.9670 | Validation loss: 0.0741 - Validation accuracy: 0.9856\n",
      "Epoch 195/300 --> loss: 0.1292 - accuracy: 0.9660 | Validation loss: 0.0717 - Validation accuracy: 0.9894\n",
      "Epoch 196/300 --> loss: 0.1253 - accuracy: 0.9722 | Validation loss: 0.0768 - Validation accuracy: 0.9861\n",
      "Epoch 197/300 --> loss: 0.1019 - accuracy: 0.9792 | Validation loss: 0.0723 - Validation accuracy: 0.9859\n",
      "Epoch 198/300 --> loss: 0.1163 - accuracy: 0.9688 | Validation loss: 0.0753 - Validation accuracy: 0.9859\n",
      "Epoch 199/300 --> loss: 0.1197 - accuracy: 0.9731 | Validation loss: 0.0715 - Validation accuracy: 0.9896\n",
      "Epoch 200/300 --> loss: 0.1361 - accuracy: 0.9670 | Validation loss: 0.0748 - Validation accuracy: 0.9859\n",
      "Epoch 201/300 --> loss: 0.1196 - accuracy: 0.9731 | Validation loss: 0.0738 - Validation accuracy: 0.9859\n",
      "Epoch 202/300 --> loss: 0.1221 - accuracy: 0.9704 | Validation loss: 0.0715 - Validation accuracy: 0.9856\n",
      "Epoch 203/300 --> loss: 0.1102 - accuracy: 0.9714 | Validation loss: 0.0724 - Validation accuracy: 0.9822\n",
      "Epoch 204/300 --> loss: 0.1049 - accuracy: 0.9818 | Validation loss: 0.0700 - Validation accuracy: 0.9894\n",
      "Epoch 205/300 --> loss: 0.1157 - accuracy: 0.9765 | Validation loss: 0.0717 - Validation accuracy: 0.9894\n",
      "Epoch 206/300 --> loss: 0.1128 - accuracy: 0.9696 | Validation loss: 0.0723 - Validation accuracy: 0.9856\n",
      "Epoch 207/300 --> loss: 0.1240 - accuracy: 0.9695 | Validation loss: 0.0703 - Validation accuracy: 0.9824\n",
      "Epoch 208/300 --> loss: 0.1110 - accuracy: 0.9792 | Validation loss: 0.0695 - Validation accuracy: 0.9894\n",
      "Epoch 209/300 --> loss: 0.1041 - accuracy: 0.9800 | Validation loss: 0.0672 - Validation accuracy: 0.9928\n",
      "Epoch 210/300 --> loss: 0.1143 - accuracy: 0.9740 | Validation loss: 0.0628 - Validation accuracy: 0.9928\n",
      "Epoch 211/300 --> loss: 0.1303 - accuracy: 0.9661 | Validation loss: 0.0621 - Validation accuracy: 0.9894\n",
      "Epoch 212/300 --> loss: 0.1051 - accuracy: 0.9766 | Validation loss: 0.0790 - Validation accuracy: 0.9789\n",
      "Epoch 213/300 --> loss: 0.1192 - accuracy: 0.9696 | Validation loss: 0.0656 - Validation accuracy: 0.9894\n",
      "Epoch 214/300 --> loss: 0.1101 - accuracy: 0.9800 | Validation loss: 0.0621 - Validation accuracy: 0.9928\n",
      "Epoch 215/300 --> loss: 0.1064 - accuracy: 0.9766 | Validation loss: 0.0657 - Validation accuracy: 0.9824\n",
      "Epoch 216/300 --> loss: 0.1233 - accuracy: 0.9653 | Validation loss: 0.0627 - Validation accuracy: 0.9928\n",
      "Epoch 217/300 --> loss: 0.1314 - accuracy: 0.9661 | Validation loss: 0.0653 - Validation accuracy: 0.9822\n",
      "Epoch 218/300 --> loss: 0.1176 - accuracy: 0.9644 | Validation loss: 0.0650 - Validation accuracy: 0.9928\n",
      "Epoch 219/300 --> loss: 0.1081 - accuracy: 0.9766 | Validation loss: 0.0635 - Validation accuracy: 0.9894\n",
      "Epoch 220/300 --> loss: 0.1124 - accuracy: 0.9748 | Validation loss: 0.0665 - Validation accuracy: 0.9894\n",
      "Epoch 221/300 --> loss: 0.1119 - accuracy: 0.9731 | Validation loss: 0.0624 - Validation accuracy: 0.9896\n",
      "Epoch 222/300 --> loss: 0.1139 - accuracy: 0.9766 | Validation loss: 0.0625 - Validation accuracy: 0.9896\n",
      "Epoch 223/300 --> loss: 0.1304 - accuracy: 0.9670 | Validation loss: 0.0673 - Validation accuracy: 0.9824\n",
      "Epoch 224/300 --> loss: 0.1011 - accuracy: 0.9731 | Validation loss: 0.0655 - Validation accuracy: 0.9789\n",
      "Early stopping: stopping training after 224 epochs.\n"
     ]
    }
   ],
   "source": [
    "history = model.fit(\n",
    "    X_train = X_train, \n",
    "    y_train = y_train_encoded,\n",
    "    optimizer = optimizer,\n",
    "    loss_fn = loss_fn,\n",
    "    X_valid = X_valid,\n",
    "    y_valid = y_valid_encoded,\n",
    "    batch_size = batch_size,\n",
    "    epochs = epochs,\n",
    "    metrics = [metrics.accuracy],\n",
    "    callbacks = [callbacks.EarlyStopping(monitor='val_loss', patience=10)]\n",
    ")"
   ]
  },
  {
   "cell_type": "code",
   "execution_count": 12,
   "metadata": {},
   "outputs": [
    {
     "data": {
      "image/png": "[encoded data removed]",
      "text/plain": [
       "<Figure size 800x400 with 1 Axes>"
      ]
     },
     "metadata": {},
     "output_type": "display_data"
    }
   ],
   "source": [
    "# Plot the training and validation loss\n",
    "utils.plot_history(history[\"loss\"], history[\"val_loss\"], \"Training and Validation Loss\", \"Epoch\", \"Loss\")"
   ]
  },
  {
   "cell_type": "markdown",
   "metadata": {},
   "source": [
    "### Model evaluation"
   ]
  },
  {
   "cell_type": "code",
   "execution_count": 13,
   "metadata": {},
   "outputs": [],
   "source": [
    "# Predict the labels\n",
    "predictions = model(X_test)\n",
    "\n",
    "# Apply the argmax function to the predictions\n",
    "predictions = Tensor(np.argmax(predictions.data, axis=1), dtype=np.int8)"
   ]
  },
  {
   "cell_type": "code",
   "execution_count": 14,
   "metadata": {},
   "outputs": [
    {
     "name": "stdout",
     "output_type": "stream",
     "text": [
      "Accuracy: 0.98\n"
     ]
    },
    {
     "data": {
      "image/png": "[encoded data removed]",
      "text/plain": [
       "<Figure size 600x600 with 1 Axes>"
      ]
     },
     "metadata": {},
     "output_type": "display_data"
    }
   ],
   "source": [
    "# Compute the accuracy\n",
    "accuracy = metrics.accuracy(y_test, predictions)\n",
    "confusion_matrix = metrics.confusion_matrix(num_classes, y_test, predictions)\n",
    "\n",
    "# Print the accuracy\n",
    "print(f\"Accuracy: {accuracy.data:.2f}\")\n",
    "\n",
    "# Plot the confusion matrix\n",
    "utils.plot_confusion_matrix(confusion_matrix.data)"
   ]
  }
 ],
 "metadata": {
  "kernelspec": {
   "display_name": "venv",
   "language": "python",
   "name": "python3"
  },
  "language_info": {
   "codemirror_mode": {
    "name": "ipython",
    "version": 3
   },
   "file_extension": ".py",
   "mimetype": "text/x-python",
   "name": "python",
   "nbconvert_exporter": "python",
   "pygments_lexer": "ipython3",
   "version": "3.11.11"
  }
 },
 "nbformat": 4,
 "nbformat_minor": 2
}
