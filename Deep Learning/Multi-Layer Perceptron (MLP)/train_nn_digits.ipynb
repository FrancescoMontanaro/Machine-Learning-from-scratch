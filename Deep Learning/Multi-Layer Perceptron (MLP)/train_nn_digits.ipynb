{
 "cells": [
  {
   "cell_type": "code",
   "execution_count": null,
   "metadata": {},
   "outputs": [],
   "source": [
    "import sys\n",
    "import numpy as np\n",
    "import matplotlib.pyplot as plt\n",
    "from sklearn.datasets import load_digits\n",
    "\n",
    "# Add the path to the custom library to the system path\n",
    "sys.path.append('..')\n",
    "\n",
    "# Import the module from the custom library\n",
    "from src import Model\n",
    "from src import layers\n",
    "from src import Tensor\n",
    "from src import metrics\n",
    "from src import callbacks\n",
    "from src import optimizers\n",
    "from src import activations\n",
    "from src import loss_functions\n",
    "from src.core.utils import data_analysis\n",
    "from src.core.utils import data_processing"
   ]
  },
  {
   "cell_type": "markdown",
   "metadata": {},
   "source": [
    "### Constants and Hyperparameters"
   ]
  },
  {
   "cell_type": "code",
   "execution_count": 4,
   "metadata": {},
   "outputs": [],
   "source": [
    "train_test_split_pct = 0.2 # Percentage of samples to use for testing\n",
    "train_valid_split = 0.2 # Percentage of samples to use for validation\n",
    "learning_rate = 1e-4 # Learning rate for the optimizer\n",
    "batch_size = 16 # Number of samples to use for each batch\n",
    "epochs = 300 # Number of epochs to train the model\n",
    "seed = 1234 # Seed for reproducibility"
   ]
  },
  {
   "cell_type": "code",
   "execution_count": 5,
   "metadata": {},
   "outputs": [],
   "source": [
    "# Set the seed for reproducibility\n",
    "np.random.seed(seed)"
   ]
  },
  {
   "cell_type": "markdown",
   "metadata": {},
   "source": [
    "### Data loading"
   ]
  },
  {
   "cell_type": "code",
   "execution_count": null,
   "metadata": {},
   "outputs": [
    {
     "name": "stdout",
     "output_type": "stream",
     "text": [
      "Number of classes: 10\n",
      "Training set: (1151, 64) (1151,)\n",
      "Validation set: (287, 64) (287,)\n",
      "Testing set: (359, 64) (359,)\n"
     ]
    }
   ],
   "source": [
    "# Load the digits dataset\n",
    "digits = load_digits()\n",
    "\n",
    "# Extract the number of classes in the dataset\n",
    "num_classes = len(np.unique(digits['target'])) # type: ignore\n",
    "\n",
    "# Extract the input and output data\n",
    "data = Tensor(data=digits.get(\"data\", [])) # type: ignore\n",
    "labels = Tensor(data=digits.get(\"target\", []), dtype=np.int8) # type: ignore\n",
    "\n",
    "# Split the dataset into training, validation, and testing sets\n",
    "X_train, X_test, y_train, y_test = data_processing.split_data((data, labels), train_test_split_pct, shuffle=True)\n",
    "X_train, X_valid, y_train, y_valid = data_processing.split_data((X_train, y_train), train_valid_split, shuffle=True)\n",
    "\n",
    "# Print the dataset information\n",
    "print(\"Number of classes:\", num_classes)\n",
    "print('Training set:', X_train.shape(), y_train.shape())\n",
    "print('Validation set:', X_valid.shape(), y_valid.shape())\n",
    "print('Testing set:', X_test.shape(), y_test.shape())"
   ]
  },
  {
   "cell_type": "markdown",
   "metadata": {},
   "source": [
    "### Data Preprocessing"
   ]
  },
  {
   "cell_type": "code",
   "execution_count": 7,
   "metadata": {},
   "outputs": [],
   "source": [
    "# Normalization\n",
    "def normalize(X: Tensor) -> Tensor:\n",
    "    \"\"\"\n",
    "    Normalize the input data by dividing by the maximum value in the training set.\n",
    "    \n",
    "    Parameters:\n",
    "    - X (Tensor): The input data to normalize\n",
    "    \n",
    "    Returns:\n",
    "    - Tensor: The normalized input data\n",
    "    \"\"\"\n",
    "    \n",
    "    # Normalize the input data\n",
    "    return X / 255.0\n",
    "\n",
    "# Normalize the input data\n",
    "X_train = normalize(X_train)\n",
    "X_valid = normalize(X_valid)\n",
    "X_test = normalize(X_test)"
   ]
  },
  {
   "cell_type": "code",
   "execution_count": null,
   "metadata": {},
   "outputs": [
    {
     "name": "stdout",
     "output_type": "stream",
     "text": [
      "Sample target value: 3\n",
      "One-hot encoded value: Tensor([0 0 0 1 0 0 0 0 0 0], shape=(10,), dtype=int8)\n"
     ]
    }
   ],
   "source": [
    "# Convert the target values to one-hot encoded vectors\n",
    "y_train_encoded = data_processing.one_hot_encoding(y=y_train, n_classes=num_classes)\n",
    "y_valid_encoded = data_processing.one_hot_encoding(y=y_valid, n_classes=num_classes)\n",
    "\n",
    "# Print one sample encoding\n",
    "print(\"Sample target value:\", y_train[0].data)\n",
    "print(\"One-hot encoded value:\", y_train_encoded[0])"
   ]
  },
  {
   "cell_type": "markdown",
   "metadata": {},
   "source": [
    "### Data visualization"
   ]
  },
  {
   "cell_type": "code",
   "execution_count": 9,
   "metadata": {},
   "outputs": [
    {
     "data": {
      "image/png": "[encoded data removed]",
      "text/plain": [
       "<Figure size 2000x500 with 10 Axes>"
      ]
     },
     "metadata": {},
     "output_type": "display_data"
    }
   ],
   "source": [
    "def plot_samples(samples: list[np.ndarray], labels: list[np.ndarray]) -> None:\n",
    "    \"\"\"\n",
    "    Plot the samples in a grid.\n",
    "    \n",
    "    Parameters:\n",
    "    - samples (list[np.ndarray]): The samples to plot\n",
    "    - labels (list[np.ndarray]): The labels of the samples\n",
    "    \"\"\"\n",
    "    \n",
    "    reshaped_samples = []\n",
    "    \n",
    "    # Iterate over the samples\n",
    "    for sample in samples:\n",
    "        # Compute the new shape\n",
    "        new_shape = np.sqrt(sample.shape).astype(int)[0]\n",
    "        \n",
    "        # Reshape the sample\n",
    "        sample = sample.reshape(new_shape, new_shape)\n",
    "        \n",
    "        # Append the reshaped sample\n",
    "        reshaped_samples.append(sample)\n",
    "        \n",
    "    # Plot the samples in a grid\n",
    "    _, axes = plt.subplots(1, len(samples), figsize=(20, 5))\n",
    "    for i, ax in enumerate(axes):\n",
    "        ax.imshow(reshaped_samples[i], cmap='gray')\n",
    "        ax.set_title(f'Label: {labels[i]}')\n",
    "        ax.axis('off')\n",
    "        \n",
    "        \n",
    "# Plot the first 10 samples\n",
    "plot_samples(list(X_train.data[:10]), list(y_train.data[:10]))"
   ]
  },
  {
   "cell_type": "markdown",
   "metadata": {},
   "source": [
    "### Building the model"
   ]
  },
  {
   "cell_type": "code",
   "execution_count": 10,
   "metadata": {},
   "outputs": [],
   "source": [
    "\n",
    "model = Model(\n",
    "    name = \"Digits Classifier\",\n",
    "    modules = [\n",
    "        layers.Dense(num_units=24, activation=activations.ReLU()),\n",
    "        layers.BatchNormalization(),\n",
    "        layers.Dropout(rate=0.1),\n",
    "        layers.Dense(num_units=32, activation=activations.ReLU()),\n",
    "        layers.Dropout(rate=0.1),\n",
    "        layers.Dense(num_units=12, activation=activations.Tanh()),\n",
    "        layers.Dropout(rate=0.1),\n",
    "        layers.Dense(num_units=num_classes, activation=activations.Softmax())\n",
    "    ]\n",
    ")\n",
    "\n",
    "# Initialize the optimizer\n",
    "optimizer = optimizers.Adam(learning_rate=learning_rate)\n",
    "\n",
    "# Initialize the loss function\n",
    "loss_fn = loss_functions.CategoricalCrossEntropy()"
   ]
  },
  {
   "cell_type": "code",
   "execution_count": 11,
   "metadata": {},
   "outputs": [],
   "source": [
    "# Call the model with a first batch to initialize the weights\n",
    "# This is not necessary, but it is useful to know the input size\n",
    "model(X_train[:batch_size]);"
   ]
  },
  {
   "cell_type": "code",
   "execution_count": 12,
   "metadata": {},
   "outputs": [
    {
     "name": "stdout",
     "output_type": "stream",
     "text": [
      "\n",
      "Digits Classifier (ID: 0)\n",
      "\n",
      "--------------------------------------------------------------------------------\n",
      "Module (type)                           Output Shape        Trainable params #  \n",
      "================================================================================\n",
      "dense_1 (Dense)                         (16, 24)            1560                \n",
      "--------------------------------------------------------------------------------\n",
      "batch_normalization_2                   \n",
      "(BatchNormalization)                    (16, 24)            48                  \n",
      "--------------------------------------------------------------------------------\n",
      "dropout_3 (Dropout)                     (16, 24)            0                   \n",
      "--------------------------------------------------------------------------------\n",
      "dense_4 (Dense)                         (16, 32)            800                 \n",
      "--------------------------------------------------------------------------------\n",
      "dropout_5 (Dropout)                     (16, 32)            0                   \n",
      "--------------------------------------------------------------------------------\n",
      "dense_6 (Dense)                         (16, 12)            396                 \n",
      "--------------------------------------------------------------------------------\n",
      "dropout_7 (Dropout)                     (16, 12)            0                   \n",
      "--------------------------------------------------------------------------------\n",
      "dense_8 (Dense)                         (16, 10)            130                 \n",
      "================================================================================\n",
      "Total trainable parameters: 2934\n",
      "--------------------------------------------------------------------------------\n"
     ]
    }
   ],
   "source": [
    "# Display the model summary\n",
    "model.summary()"
   ]
  },
  {
   "cell_type": "markdown",
   "metadata": {},
   "source": [
    "### Training the model"
   ]
  },
  {
   "cell_type": "code",
   "execution_count": 13,
   "metadata": {},
   "outputs": [
    {
     "name": "stdout",
     "output_type": "stream",
     "text": [
      "Epoch 1/300 --> loss: 2.2843 - accuracy: 0.1234 | Validation loss: 2.2854 - Validation accuracy: 0.1537                     \n",
      "Epoch 2/300 --> loss: 2.2339 - accuracy: 0.2052 | Validation loss: 2.2012 - Validation accuracy: 0.2928                     \n",
      "Epoch 3/300 --> loss: 2.1891 - accuracy: 0.2796 | Validation loss: 2.1493 - Validation accuracy: 0.3486                     \n",
      "Epoch 4/300 --> loss: 2.1446 - accuracy: 0.3491 | Validation loss: 2.0930 - Validation accuracy: 0.4181                     \n",
      "Epoch 5/300 --> loss: 2.0876 - accuracy: 0.4204 | Validation loss: 2.0366 - Validation accuracy: 0.4704                     \n",
      "Epoch 6/300 --> loss: 2.0342 - accuracy: 0.4744 | Validation loss: 1.9727 - Validation accuracy: 0.5123                     \n",
      "Epoch 7/300 --> loss: 1.9676 - accuracy: 0.5170 | Validation loss: 1.9091 - Validation accuracy: 0.5296                     \n",
      "Epoch 8/300 --> loss: 1.9182 - accuracy: 0.5212 | Validation loss: 1.8486 - Validation accuracy: 0.5475                     \n",
      "Epoch 9/300 --> loss: 1.8570 - accuracy: 0.5481 | Validation loss: 1.7878 - Validation accuracy: 0.5685                     \n",
      "Epoch 10/300 --> loss: 1.7973 - accuracy: 0.5764 | Validation loss: 1.7195 - Validation accuracy: 0.5755                     \n",
      "Epoch 11/300 --> loss: 1.7471 - accuracy: 0.5682 | Validation loss: 1.6571 - Validation accuracy: 0.5894                     \n",
      "Epoch 12/300 --> loss: 1.6760 - accuracy: 0.5917 | Validation loss: 1.6024 - Validation accuracy: 0.5963                     \n",
      "Epoch 13/300 --> loss: 1.6348 - accuracy: 0.6047 | Validation loss: 1.5491 - Validation accuracy: 0.6137                     \n",
      "Epoch 14/300 --> loss: 1.5700 - accuracy: 0.6222 | Validation loss: 1.5056 - Validation accuracy: 0.6032                     \n",
      "Epoch 15/300 --> loss: 1.5358 - accuracy: 0.6291 | Validation loss: 1.4469 - Validation accuracy: 0.6414                     \n",
      "Epoch 16/300 --> loss: 1.4876 - accuracy: 0.6481 | Validation loss: 1.3995 - Validation accuracy: 0.6553                     \n",
      "Epoch 17/300 --> loss: 1.4347 - accuracy: 0.6595 | Validation loss: 1.3620 - Validation accuracy: 0.6866                     \n",
      "Epoch 18/300 --> loss: 1.4100 - accuracy: 0.6681 | Validation loss: 1.3172 - Validation accuracy: 0.7039                     \n",
      "Epoch 19/300 --> loss: 1.3630 - accuracy: 0.6863 | Validation loss: 1.2708 - Validation accuracy: 0.7072                     \n",
      "Epoch 20/300 --> loss: 1.3302 - accuracy: 0.6908 | Validation loss: 1.2335 - Validation accuracy: 0.7109                     \n",
      "Epoch 21/300 --> loss: 1.3049 - accuracy: 0.6863 | Validation loss: 1.1950 - Validation accuracy: 0.7146                     \n",
      "Epoch 22/300 --> loss: 1.2574 - accuracy: 0.6978 | Validation loss: 1.1600 - Validation accuracy: 0.7106                     \n",
      "Epoch 23/300 --> loss: 1.2414 - accuracy: 0.7123 | Validation loss: 1.1231 - Validation accuracy: 0.7315                     \n",
      "Epoch 24/300 --> loss: 1.1862 - accuracy: 0.7157 | Validation loss: 1.0890 - Validation accuracy: 0.7493                     \n",
      "Epoch 25/300 --> loss: 1.1596 - accuracy: 0.7298 | Validation loss: 1.0600 - Validation accuracy: 0.7458                     \n",
      "Epoch 26/300 --> loss: 1.1312 - accuracy: 0.7454 | Validation loss: 1.0262 - Validation accuracy: 0.7563                     \n",
      "Epoch 27/300 --> loss: 1.1257 - accuracy: 0.7410 | Validation loss: 0.9946 - Validation accuracy: 0.7597                     \n",
      "Epoch 28/300 --> loss: 1.0794 - accuracy: 0.7672 | Validation loss: 0.9659 - Validation accuracy: 0.7738                     \n",
      "Epoch 29/300 --> loss: 1.0427 - accuracy: 0.7635 | Validation loss: 0.9422 - Validation accuracy: 0.7738                     \n",
      "Epoch 30/300 --> loss: 1.0276 - accuracy: 0.7541 | Validation loss: 0.9158 - Validation accuracy: 0.7808                     \n",
      "Epoch 31/300 --> loss: 1.0003 - accuracy: 0.7655 | Validation loss: 0.8868 - Validation accuracy: 0.7947                     \n",
      "Epoch 32/300 --> loss: 0.9656 - accuracy: 0.7916 | Validation loss: 0.8597 - Validation accuracy: 0.8051                     \n",
      "Epoch 33/300 --> loss: 0.9677 - accuracy: 0.7872 | Validation loss: 0.8417 - Validation accuracy: 0.8086                     \n",
      "Epoch 34/300 --> loss: 0.9390 - accuracy: 0.7845 | Validation loss: 0.8150 - Validation accuracy: 0.8120                     \n",
      "Epoch 35/300 --> loss: 0.9203 - accuracy: 0.7985 | Validation loss: 0.7913 - Validation accuracy: 0.8294                     \n",
      "Epoch 36/300 --> loss: 0.8809 - accuracy: 0.8201 | Validation loss: 0.7702 - Validation accuracy: 0.8259                     \n",
      "Epoch 37/300 --> loss: 0.8754 - accuracy: 0.8080 | Validation loss: 0.7510 - Validation accuracy: 0.8537                     \n",
      "Epoch 38/300 --> loss: 0.8425 - accuracy: 0.8427 | Validation loss: 0.7276 - Validation accuracy: 0.8537                     \n",
      "Epoch 39/300 --> loss: 0.8104 - accuracy: 0.8350 | Validation loss: 0.7081 - Validation accuracy: 0.8606                     \n",
      "Epoch 40/300 --> loss: 0.8011 - accuracy: 0.8435 | Validation loss: 0.6884 - Validation accuracy: 0.8606                     \n",
      "Epoch 41/300 --> loss: 0.7910 - accuracy: 0.8452 | Validation loss: 0.6718 - Validation accuracy: 0.8884                     \n",
      "Epoch 42/300 --> loss: 0.7893 - accuracy: 0.8400 | Validation loss: 0.6509 - Validation accuracy: 0.8884                     \n",
      "Epoch 43/300 --> loss: 0.7537 - accuracy: 0.8532 | Validation loss: 0.6369 - Validation accuracy: 0.8884                     \n",
      "Epoch 44/300 --> loss: 0.7362 - accuracy: 0.8679 | Validation loss: 0.6241 - Validation accuracy: 0.8884                     \n",
      "Epoch 45/300 --> loss: 0.7242 - accuracy: 0.8661 | Validation loss: 0.6065 - Validation accuracy: 0.8988                     \n",
      "Epoch 46/300 --> loss: 0.6995 - accuracy: 0.8705 | Validation loss: 0.5861 - Validation accuracy: 0.9127                     \n",
      "Epoch 47/300 --> loss: 0.6820 - accuracy: 0.8714 | Validation loss: 0.5717 - Validation accuracy: 0.9093                     \n",
      "Epoch 48/300 --> loss: 0.6885 - accuracy: 0.8810 | Validation loss: 0.5603 - Validation accuracy: 0.9197                     \n",
      "Epoch 49/300 --> loss: 0.6700 - accuracy: 0.8733 | Validation loss: 0.5439 - Validation accuracy: 0.9336                     \n",
      "Epoch 50/300 --> loss: 0.6518 - accuracy: 0.8767 | Validation loss: 0.5269 - Validation accuracy: 0.9405                     \n",
      "Epoch 51/300 --> loss: 0.6424 - accuracy: 0.8906 | Validation loss: 0.5142 - Validation accuracy: 0.9405                     \n",
      "Epoch 52/300 --> loss: 0.6212 - accuracy: 0.8949 | Validation loss: 0.4979 - Validation accuracy: 0.9544                     \n",
      "Epoch 53/300 --> loss: 0.6113 - accuracy: 0.8948 | Validation loss: 0.4919 - Validation accuracy: 0.9301                     \n",
      "Epoch 54/300 --> loss: 0.6071 - accuracy: 0.8898 | Validation loss: 0.4781 - Validation accuracy: 0.9440                     \n",
      "Epoch 55/300 --> loss: 0.5941 - accuracy: 0.9008 | Validation loss: 0.4677 - Validation accuracy: 0.9370                     \n",
      "Epoch 56/300 --> loss: 0.5723 - accuracy: 0.9036 | Validation loss: 0.4582 - Validation accuracy: 0.9544                     \n",
      "Epoch 57/300 --> loss: 0.5549 - accuracy: 0.9209 | Validation loss: 0.4408 - Validation accuracy: 0.9440                     \n",
      "Epoch 58/300 --> loss: 0.5577 - accuracy: 0.9097 | Validation loss: 0.4289 - Validation accuracy: 0.9613                     \n",
      "Epoch 59/300 --> loss: 0.5326 - accuracy: 0.9140 | Validation loss: 0.4235 - Validation accuracy: 0.9509                     \n",
      "Epoch 60/300 --> loss: 0.5422 - accuracy: 0.9053 | Validation loss: 0.4132 - Validation accuracy: 0.9509                     \n",
      "Epoch 61/300 --> loss: 0.5094 - accuracy: 0.9226 | Validation loss: 0.4066 - Validation accuracy: 0.9509                     \n",
      "Epoch 62/300 --> loss: 0.5145 - accuracy: 0.9192 | Validation loss: 0.4001 - Validation accuracy: 0.9579                     \n",
      "Epoch 63/300 --> loss: 0.4917 - accuracy: 0.9174 | Validation loss: 0.3823 - Validation accuracy: 0.9648                     \n",
      "Epoch 64/300 --> loss: 0.4964 - accuracy: 0.9157 | Validation loss: 0.3759 - Validation accuracy: 0.9579                     \n",
      "Epoch 65/300 --> loss: 0.4524 - accuracy: 0.9374 | Validation loss: 0.3695 - Validation accuracy: 0.9648                     \n",
      "Epoch 66/300 --> loss: 0.4675 - accuracy: 0.9252 | Validation loss: 0.3565 - Validation accuracy: 0.9648                     \n",
      "Epoch 67/300 --> loss: 0.4609 - accuracy: 0.9304 | Validation loss: 0.3494 - Validation accuracy: 0.9648                     \n",
      "Epoch 68/300 --> loss: 0.4365 - accuracy: 0.9286 | Validation loss: 0.3444 - Validation accuracy: 0.9683                     \n",
      "Epoch 69/300 --> loss: 0.4448 - accuracy: 0.9253 | Validation loss: 0.3374 - Validation accuracy: 0.9648                     \n",
      "Epoch 70/300 --> loss: 0.4439 - accuracy: 0.9192 | Validation loss: 0.3240 - Validation accuracy: 0.9648                     \n",
      "Epoch 71/300 --> loss: 0.4373 - accuracy: 0.9296 | Validation loss: 0.3244 - Validation accuracy: 0.9718                     \n",
      "Epoch 72/300 --> loss: 0.4372 - accuracy: 0.9192 | Validation loss: 0.3140 - Validation accuracy: 0.9683                     \n",
      "Epoch 73/300 --> loss: 0.4140 - accuracy: 0.9295 | Validation loss: 0.3049 - Validation accuracy: 0.9648                     \n",
      "Epoch 74/300 --> loss: 0.4012 - accuracy: 0.9348 | Validation loss: 0.3033 - Validation accuracy: 0.9613                     \n",
      "Epoch 75/300 --> loss: 0.3819 - accuracy: 0.9392 | Validation loss: 0.2963 - Validation accuracy: 0.9613                     \n",
      "Epoch 76/300 --> loss: 0.3940 - accuracy: 0.9366 | Validation loss: 0.2916 - Validation accuracy: 0.9613                     \n",
      "Epoch 77/300 --> loss: 0.3923 - accuracy: 0.9409 | Validation loss: 0.2821 - Validation accuracy: 0.9683                     \n",
      "Epoch 78/300 --> loss: 0.3918 - accuracy: 0.9227 | Validation loss: 0.2780 - Validation accuracy: 0.9648                     \n",
      "Epoch 79/300 --> loss: 0.3970 - accuracy: 0.9374 | Validation loss: 0.2758 - Validation accuracy: 0.9683                     \n",
      "Epoch 80/300 --> loss: 0.3686 - accuracy: 0.9418 | Validation loss: 0.2682 - Validation accuracy: 0.9683                     \n",
      "Epoch 81/300 --> loss: 0.4043 - accuracy: 0.9201 | Validation loss: 0.2580 - Validation accuracy: 0.9718                     \n",
      "Epoch 82/300 --> loss: 0.3506 - accuracy: 0.9488 | Validation loss: 0.2553 - Validation accuracy: 0.9718                     \n",
      "Epoch 83/300 --> loss: 0.3491 - accuracy: 0.9418 | Validation loss: 0.2482 - Validation accuracy: 0.9718                     \n",
      "Epoch 84/300 --> loss: 0.3531 - accuracy: 0.9374 | Validation loss: 0.2486 - Validation accuracy: 0.9683                     \n",
      "Epoch 85/300 --> loss: 0.3536 - accuracy: 0.9323 | Validation loss: 0.2433 - Validation accuracy: 0.9683                     \n",
      "Epoch 86/300 --> loss: 0.3390 - accuracy: 0.9418 | Validation loss: 0.2413 - Validation accuracy: 0.9648                     \n",
      "Epoch 87/300 --> loss: 0.3314 - accuracy: 0.9427 | Validation loss: 0.2354 - Validation accuracy: 0.9683                     \n",
      "Epoch 88/300 --> loss: 0.3257 - accuracy: 0.9401 | Validation loss: 0.2293 - Validation accuracy: 0.9683                     \n",
      "Epoch 89/300 --> loss: 0.3353 - accuracy: 0.9374 | Validation loss: 0.2250 - Validation accuracy: 0.9720                     \n",
      "Epoch 90/300 --> loss: 0.3181 - accuracy: 0.9495 | Validation loss: 0.2246 - Validation accuracy: 0.9755                     \n",
      "Epoch 91/300 --> loss: 0.2959 - accuracy: 0.9592 | Validation loss: 0.2151 - Validation accuracy: 0.9718                     \n",
      "Epoch 92/300 --> loss: 0.3247 - accuracy: 0.9409 | Validation loss: 0.2114 - Validation accuracy: 0.9718                     \n",
      "Epoch 93/300 --> loss: 0.3146 - accuracy: 0.9392 | Validation loss: 0.2104 - Validation accuracy: 0.9720                     \n",
      "Epoch 94/300 --> loss: 0.3014 - accuracy: 0.9399 | Validation loss: 0.2052 - Validation accuracy: 0.9752                     \n",
      "Epoch 95/300 --> loss: 0.3157 - accuracy: 0.9436 | Validation loss: 0.2020 - Validation accuracy: 0.9755                     \n",
      "Epoch 96/300 --> loss: 0.2968 - accuracy: 0.9470 | Validation loss: 0.2050 - Validation accuracy: 0.9685                     \n",
      "Epoch 97/300 --> loss: 0.2965 - accuracy: 0.9495 | Validation loss: 0.1973 - Validation accuracy: 0.9718                     \n",
      "Epoch 98/300 --> loss: 0.2848 - accuracy: 0.9479 | Validation loss: 0.1955 - Validation accuracy: 0.9683                     \n",
      "Epoch 99/300 --> loss: 0.2939 - accuracy: 0.9427 | Validation loss: 0.1942 - Validation accuracy: 0.9752                     \n",
      "Epoch 100/300 --> loss: 0.2695 - accuracy: 0.9530 | Validation loss: 0.1927 - Validation accuracy: 0.9718                     \n",
      "Epoch 101/300 --> loss: 0.3032 - accuracy: 0.9366 | Validation loss: 0.1856 - Validation accuracy: 0.9752                     \n",
      "Epoch 102/300 --> loss: 0.2740 - accuracy: 0.9557 | Validation loss: 0.1840 - Validation accuracy: 0.9787                     \n",
      "Epoch 103/300 --> loss: 0.2747 - accuracy: 0.9462 | Validation loss: 0.1791 - Validation accuracy: 0.9752                     \n",
      "Epoch 104/300 --> loss: 0.2735 - accuracy: 0.9453 | Validation loss: 0.1773 - Validation accuracy: 0.9683                     \n",
      "Epoch 105/300 --> loss: 0.2637 - accuracy: 0.9497 | Validation loss: 0.1754 - Validation accuracy: 0.9789                     \n",
      "Epoch 106/300 --> loss: 0.2636 - accuracy: 0.9427 | Validation loss: 0.1704 - Validation accuracy: 0.9752                     \n",
      "Epoch 107/300 --> loss: 0.2492 - accuracy: 0.9583 | Validation loss: 0.1675 - Validation accuracy: 0.9787                     \n",
      "Epoch 108/300 --> loss: 0.2524 - accuracy: 0.9566 | Validation loss: 0.1659 - Validation accuracy: 0.9752                     \n",
      "Epoch 109/300 --> loss: 0.2587 - accuracy: 0.9453 | Validation loss: 0.1635 - Validation accuracy: 0.9752                     \n",
      "Epoch 110/300 --> loss: 0.2514 - accuracy: 0.9514 | Validation loss: 0.1624 - Validation accuracy: 0.9752                     \n",
      "Epoch 111/300 --> loss: 0.2511 - accuracy: 0.9557 | Validation loss: 0.1615 - Validation accuracy: 0.9752                     \n",
      "Epoch 112/300 --> loss: 0.2513 - accuracy: 0.9557 | Validation loss: 0.1590 - Validation accuracy: 0.9787                     \n",
      "Epoch 113/300 --> loss: 0.2402 - accuracy: 0.9549 | Validation loss: 0.1572 - Validation accuracy: 0.9787                     \n",
      "Epoch 114/300 --> loss: 0.2352 - accuracy: 0.9557 | Validation loss: 0.1513 - Validation accuracy: 0.9824                     \n",
      "Epoch 115/300 --> loss: 0.2214 - accuracy: 0.9609 | Validation loss: 0.1548 - Validation accuracy: 0.9826                     \n",
      "Epoch 116/300 --> loss: 0.2328 - accuracy: 0.9557 | Validation loss: 0.1575 - Validation accuracy: 0.9755                     \n",
      "Epoch 117/300 --> loss: 0.2105 - accuracy: 0.9635 | Validation loss: 0.1516 - Validation accuracy: 0.9859                     \n",
      "Epoch 118/300 --> loss: 0.2196 - accuracy: 0.9653 | Validation loss: 0.1515 - Validation accuracy: 0.9824                     \n",
      "Epoch 119/300 --> loss: 0.2186 - accuracy: 0.9618 | Validation loss: 0.1408 - Validation accuracy: 0.9787                     \n",
      "Epoch 120/300 --> loss: 0.2243 - accuracy: 0.9557 | Validation loss: 0.1419 - Validation accuracy: 0.9859                     \n",
      "Epoch 121/300 --> loss: 0.2194 - accuracy: 0.9627 | Validation loss: 0.1385 - Validation accuracy: 0.9787                     \n",
      "Epoch 122/300 --> loss: 0.2066 - accuracy: 0.9566 | Validation loss: 0.1392 - Validation accuracy: 0.9861                     \n",
      "Epoch 123/300 --> loss: 0.2228 - accuracy: 0.9566 | Validation loss: 0.1390 - Validation accuracy: 0.9752                     \n",
      "Epoch 124/300 --> loss: 0.2012 - accuracy: 0.9601 | Validation loss: 0.1307 - Validation accuracy: 0.9822                     \n",
      "Epoch 125/300 --> loss: 0.2277 - accuracy: 0.9514 | Validation loss: 0.1327 - Validation accuracy: 0.9787                     \n",
      "Epoch 126/300 --> loss: 0.2045 - accuracy: 0.9670 | Validation loss: 0.1350 - Validation accuracy: 0.9752                     \n",
      "Epoch 127/300 --> loss: 0.2326 - accuracy: 0.9505 | Validation loss: 0.1378 - Validation accuracy: 0.9789                     \n",
      "Epoch 128/300 --> loss: 0.2059 - accuracy: 0.9566 | Validation loss: 0.1325 - Validation accuracy: 0.9752                     \n",
      "Epoch 129/300 --> loss: 0.2030 - accuracy: 0.9557 | Validation loss: 0.1249 - Validation accuracy: 0.9787                     \n",
      "Epoch 130/300 --> loss: 0.1922 - accuracy: 0.9618 | Validation loss: 0.1283 - Validation accuracy: 0.9824                     \n",
      "Epoch 131/300 --> loss: 0.2090 - accuracy: 0.9609 | Validation loss: 0.1302 - Validation accuracy: 0.9787                     \n",
      "Epoch 132/300 --> loss: 0.1870 - accuracy: 0.9687 | Validation loss: 0.1258 - Validation accuracy: 0.9752                     \n",
      "Epoch 133/300 --> loss: 0.1792 - accuracy: 0.9635 | Validation loss: 0.1253 - Validation accuracy: 0.9822                     \n",
      "Epoch 134/300 --> loss: 0.1937 - accuracy: 0.9608 | Validation loss: 0.1259 - Validation accuracy: 0.9789                     \n",
      "Epoch 135/300 --> loss: 0.1844 - accuracy: 0.9705 | Validation loss: 0.1187 - Validation accuracy: 0.9822                     \n",
      "Epoch 136/300 --> loss: 0.1887 - accuracy: 0.9608 | Validation loss: 0.1181 - Validation accuracy: 0.9859                     \n",
      "Epoch 137/300 --> loss: 0.1706 - accuracy: 0.9688 | Validation loss: 0.1196 - Validation accuracy: 0.9792                     \n",
      "Epoch 138/300 --> loss: 0.1921 - accuracy: 0.9609 | Validation loss: 0.1166 - Validation accuracy: 0.9822                     \n",
      "Epoch 139/300 --> loss: 0.1839 - accuracy: 0.9557 | Validation loss: 0.1181 - Validation accuracy: 0.9792                     \n",
      "Epoch 140/300 --> loss: 0.1932 - accuracy: 0.9635 | Validation loss: 0.1133 - Validation accuracy: 0.9824                     \n",
      "Epoch 141/300 --> loss: 0.1912 - accuracy: 0.9600 | Validation loss: 0.1069 - Validation accuracy: 0.9822                     \n",
      "Epoch 142/300 --> loss: 0.1678 - accuracy: 0.9668 | Validation loss: 0.1066 - Validation accuracy: 0.9822                     \n",
      "Epoch 143/300 --> loss: 0.1801 - accuracy: 0.9618 | Validation loss: 0.1048 - Validation accuracy: 0.9859                     \n",
      "Epoch 144/300 --> loss: 0.1778 - accuracy: 0.9608 | Validation loss: 0.1043 - Validation accuracy: 0.9896                     \n",
      "Epoch 145/300 --> loss: 0.1747 - accuracy: 0.9617 | Validation loss: 0.1059 - Validation accuracy: 0.9787                     \n",
      "Epoch 146/300 --> loss: 0.1862 - accuracy: 0.9591 | Validation loss: 0.1028 - Validation accuracy: 0.9826                     \n",
      "Epoch 147/300 --> loss: 0.1788 - accuracy: 0.9575 | Validation loss: 0.1068 - Validation accuracy: 0.9826                     \n",
      "Epoch 148/300 --> loss: 0.1676 - accuracy: 0.9696 | Validation loss: 0.1027 - Validation accuracy: 0.9826                     \n",
      "Epoch 149/300 --> loss: 0.1723 - accuracy: 0.9644 | Validation loss: 0.1016 - Validation accuracy: 0.9859                     \n",
      "Epoch 150/300 --> loss: 0.1573 - accuracy: 0.9627 | Validation loss: 0.1006 - Validation accuracy: 0.9896                     \n",
      "Epoch 151/300 --> loss: 0.1885 - accuracy: 0.9540 | Validation loss: 0.1025 - Validation accuracy: 0.9824                     \n",
      "Epoch 152/300 --> loss: 0.1791 - accuracy: 0.9644 | Validation loss: 0.1012 - Validation accuracy: 0.9755                     \n",
      "Epoch 153/300 --> loss: 0.1618 - accuracy: 0.9669 | Validation loss: 0.1003 - Validation accuracy: 0.9789                     \n",
      "Epoch 154/300 --> loss: 0.1650 - accuracy: 0.9653 | Validation loss: 0.1030 - Validation accuracy: 0.9789                     \n",
      "Epoch 155/300 --> loss: 0.1637 - accuracy: 0.9661 | Validation loss: 0.0960 - Validation accuracy: 0.9859                     \n",
      "Epoch 156/300 --> loss: 0.1661 - accuracy: 0.9626 | Validation loss: 0.1000 - Validation accuracy: 0.9789                     \n",
      "Epoch 157/300 --> loss: 0.1633 - accuracy: 0.9626 | Validation loss: 0.0958 - Validation accuracy: 0.9824                     \n",
      "Epoch 158/300 --> loss: 0.1574 - accuracy: 0.9661 | Validation loss: 0.0955 - Validation accuracy: 0.9861                     \n",
      "Epoch 159/300 --> loss: 0.1538 - accuracy: 0.9696 | Validation loss: 0.0950 - Validation accuracy: 0.9859                     \n",
      "Epoch 160/300 --> loss: 0.1401 - accuracy: 0.9722 | Validation loss: 0.0942 - Validation accuracy: 0.9787                     \n",
      "Epoch 161/300 --> loss: 0.1541 - accuracy: 0.9669 | Validation loss: 0.0963 - Validation accuracy: 0.9752                     \n",
      "Epoch 162/300 --> loss: 0.1478 - accuracy: 0.9705 | Validation loss: 0.0942 - Validation accuracy: 0.9822                     \n",
      "Epoch 163/300 --> loss: 0.1338 - accuracy: 0.9722 | Validation loss: 0.0955 - Validation accuracy: 0.9861                     \n",
      "Epoch 164/300 --> loss: 0.1541 - accuracy: 0.9704 | Validation loss: 0.0951 - Validation accuracy: 0.9859                     \n",
      "Epoch 165/300 --> loss: 0.1488 - accuracy: 0.9704 | Validation loss: 0.0971 - Validation accuracy: 0.9789                     \n",
      "Epoch 166/300 --> loss: 0.1648 - accuracy: 0.9617 | Validation loss: 0.0959 - Validation accuracy: 0.9787                     \n",
      "Epoch 167/300 --> loss: 0.1575 - accuracy: 0.9635 | Validation loss: 0.0979 - Validation accuracy: 0.9755                     \n",
      "Epoch 168/300 --> loss: 0.1244 - accuracy: 0.9756 | Validation loss: 0.0935 - Validation accuracy: 0.9824                     \n",
      "Epoch 169/300 --> loss: 0.1390 - accuracy: 0.9757 | Validation loss: 0.0883 - Validation accuracy: 0.9859                     \n",
      "Epoch 170/300 --> loss: 0.1384 - accuracy: 0.9670 | Validation loss: 0.0898 - Validation accuracy: 0.9787                     \n",
      "Epoch 171/300 --> loss: 0.1439 - accuracy: 0.9653 | Validation loss: 0.0909 - Validation accuracy: 0.9792                     \n",
      "Epoch 172/300 --> loss: 0.1417 - accuracy: 0.9661 | Validation loss: 0.0907 - Validation accuracy: 0.9752                     \n",
      "Epoch 173/300 --> loss: 0.1385 - accuracy: 0.9757 | Validation loss: 0.0854 - Validation accuracy: 0.9859                     \n",
      "Epoch 174/300 --> loss: 0.1492 - accuracy: 0.9618 | Validation loss: 0.0907 - Validation accuracy: 0.9755                     \n",
      "Epoch 175/300 --> loss: 0.1721 - accuracy: 0.9547 | Validation loss: 0.0862 - Validation accuracy: 0.9787                     \n",
      "Epoch 176/300 --> loss: 0.1301 - accuracy: 0.9714 | Validation loss: 0.0942 - Validation accuracy: 0.9755                     \n",
      "Epoch 177/300 --> loss: 0.1259 - accuracy: 0.9740 | Validation loss: 0.0892 - Validation accuracy: 0.9752                     \n",
      "Epoch 178/300 --> loss: 0.1424 - accuracy: 0.9670 | Validation loss: 0.0842 - Validation accuracy: 0.9826                     \n",
      "Epoch 179/300 --> loss: 0.1512 - accuracy: 0.9635 | Validation loss: 0.0798 - Validation accuracy: 0.9931                     \n",
      "Epoch 180/300 --> loss: 0.1427 - accuracy: 0.9652 | Validation loss: 0.0812 - Validation accuracy: 0.9856                     \n",
      "Epoch 181/300 --> loss: 0.1456 - accuracy: 0.9687 | Validation loss: 0.0864 - Validation accuracy: 0.9824                     \n",
      "Epoch 182/300 --> loss: 0.1338 - accuracy: 0.9687 | Validation loss: 0.0815 - Validation accuracy: 0.9826                     \n",
      "Epoch 183/300 --> loss: 0.1224 - accuracy: 0.9748 | Validation loss: 0.0828 - Validation accuracy: 0.9787                     \n",
      "Epoch 184/300 --> loss: 0.1377 - accuracy: 0.9670 | Validation loss: 0.0813 - Validation accuracy: 0.9787                     \n",
      "Epoch 185/300 --> loss: 0.1330 - accuracy: 0.9670 | Validation loss: 0.0822 - Validation accuracy: 0.9859                     \n",
      "Epoch 186/300 --> loss: 0.1405 - accuracy: 0.9644 | Validation loss: 0.0883 - Validation accuracy: 0.9752                     \n",
      "Epoch 187/300 --> loss: 0.1477 - accuracy: 0.9617 | Validation loss: 0.0834 - Validation accuracy: 0.9822                     \n",
      "Epoch 188/300 --> loss: 0.1385 - accuracy: 0.9696 | Validation loss: 0.0844 - Validation accuracy: 0.9824                     \n",
      "Epoch 189/300 --> loss: 0.1376 - accuracy: 0.9653 | Validation loss: 0.0791 - Validation accuracy: 0.9822                     \n",
      "Epoch 190/300 --> loss: 0.1252 - accuracy: 0.9696 | Validation loss: 0.0855 - Validation accuracy: 0.9822                     \n",
      "Epoch 191/300 --> loss: 0.1126 - accuracy: 0.9756 | Validation loss: 0.0830 - Validation accuracy: 0.9824                     \n",
      "Epoch 192/300 --> loss: 0.1274 - accuracy: 0.9748 | Validation loss: 0.0812 - Validation accuracy: 0.9856                     \n",
      "Epoch 193/300 --> loss: 0.1419 - accuracy: 0.9661 | Validation loss: 0.0752 - Validation accuracy: 0.9856                     \n",
      "Epoch 194/300 --> loss: 0.1254 - accuracy: 0.9670 | Validation loss: 0.0736 - Validation accuracy: 0.9891                     \n",
      "Epoch 195/300 --> loss: 0.1292 - accuracy: 0.9669 | Validation loss: 0.0712 - Validation accuracy: 0.9856                     \n",
      "Epoch 196/300 --> loss: 0.1264 - accuracy: 0.9722 | Validation loss: 0.0768 - Validation accuracy: 0.9824                     \n",
      "Epoch 197/300 --> loss: 0.1024 - accuracy: 0.9800 | Validation loss: 0.0714 - Validation accuracy: 0.9859                     \n",
      "Epoch 198/300 --> loss: 0.1161 - accuracy: 0.9688 | Validation loss: 0.0748 - Validation accuracy: 0.9859                     \n",
      "Epoch 199/300 --> loss: 0.1198 - accuracy: 0.9722 | Validation loss: 0.0705 - Validation accuracy: 0.9931                     \n",
      "Epoch 200/300 --> loss: 0.1374 - accuracy: 0.9670 | Validation loss: 0.0752 - Validation accuracy: 0.9859                     \n",
      "Epoch 201/300 --> loss: 0.1193 - accuracy: 0.9714 | Validation loss: 0.0740 - Validation accuracy: 0.9859                     \n",
      "Epoch 202/300 --> loss: 0.1227 - accuracy: 0.9695 | Validation loss: 0.0711 - Validation accuracy: 0.9822                     \n",
      "Epoch 203/300 --> loss: 0.1103 - accuracy: 0.9714 | Validation loss: 0.0732 - Validation accuracy: 0.9787                     \n",
      "Epoch 204/300 --> loss: 0.1058 - accuracy: 0.9809 | Validation loss: 0.0703 - Validation accuracy: 0.9894                     \n",
      "Epoch 205/300 --> loss: 0.1161 - accuracy: 0.9756 | Validation loss: 0.0720 - Validation accuracy: 0.9894                     \n",
      "Epoch 206/300 --> loss: 0.1132 - accuracy: 0.9696 | Validation loss: 0.0718 - Validation accuracy: 0.9856                     \n",
      "Epoch 207/300 --> loss: 0.1227 - accuracy: 0.9686 | Validation loss: 0.0716 - Validation accuracy: 0.9824                     \n",
      "Epoch 208/300 --> loss: 0.1114 - accuracy: 0.9783 | Validation loss: 0.0705 - Validation accuracy: 0.9856                     \n",
      "Epoch 209/300 --> loss: 0.1038 - accuracy: 0.9809 | Validation loss: 0.0668 - Validation accuracy: 0.9928                     \n",
      "Epoch 210/300 --> loss: 0.1146 - accuracy: 0.9740 | Validation loss: 0.0633 - Validation accuracy: 0.9928                     \n",
      "Epoch 211/300 --> loss: 0.1297 - accuracy: 0.9652 | Validation loss: 0.0625 - Validation accuracy: 0.9894                     \n",
      "Epoch 212/300 --> loss: 0.1053 - accuracy: 0.9757 | Validation loss: 0.0783 - Validation accuracy: 0.9789                     \n",
      "Epoch 213/300 --> loss: 0.1195 - accuracy: 0.9696 | Validation loss: 0.0655 - Validation accuracy: 0.9894                     \n",
      "Epoch 214/300 --> loss: 0.1096 - accuracy: 0.9800 | Validation loss: 0.0620 - Validation accuracy: 0.9928                     \n",
      "Epoch 215/300 --> loss: 0.1068 - accuracy: 0.9757 | Validation loss: 0.0662 - Validation accuracy: 0.9824                     \n",
      "Epoch 216/300 --> loss: 0.1244 - accuracy: 0.9635 | Validation loss: 0.0621 - Validation accuracy: 0.9928                     \n",
      "Epoch 217/300 --> loss: 0.1314 - accuracy: 0.9652 | Validation loss: 0.0651 - Validation accuracy: 0.9856                     \n",
      "Epoch 218/300 --> loss: 0.1194 - accuracy: 0.9644 | Validation loss: 0.0653 - Validation accuracy: 0.9928                     \n",
      "Epoch 219/300 --> loss: 0.1078 - accuracy: 0.9757 | Validation loss: 0.0630 - Validation accuracy: 0.9928                     \n",
      "Epoch 220/300 --> loss: 0.1131 - accuracy: 0.9731 | Validation loss: 0.0658 - Validation accuracy: 0.9894                     \n",
      "Epoch 221/300 --> loss: 0.1125 - accuracy: 0.9714 | Validation loss: 0.0613 - Validation accuracy: 0.9859                     \n",
      "Epoch 222/300 --> loss: 0.1144 - accuracy: 0.9757 | Validation loss: 0.0617 - Validation accuracy: 0.9896                     \n",
      "Epoch 223/300 --> loss: 0.1304 - accuracy: 0.9670 | Validation loss: 0.0683 - Validation accuracy: 0.9824                     \n",
      "Epoch 224/300 --> loss: 0.1021 - accuracy: 0.9740 | Validation loss: 0.0650 - Validation accuracy: 0.9859                     \n",
      "Epoch 225/300 --> loss: 0.1269 - accuracy: 0.9722 | Validation loss: 0.0647 - Validation accuracy: 0.9894                     \n",
      "Epoch 226/300 --> loss: 0.1154 - accuracy: 0.9722 | Validation loss: 0.0589 - Validation accuracy: 0.9894                     \n",
      "Epoch 227/300 --> loss: 0.1025 - accuracy: 0.9766 | Validation loss: 0.0619 - Validation accuracy: 0.9894                     \n",
      "Epoch 228/300 --> loss: 0.0980 - accuracy: 0.9756 | Validation loss: 0.0582 - Validation accuracy: 0.9861                     \n",
      "Epoch 229/300 --> loss: 0.1082 - accuracy: 0.9696 | Validation loss: 0.0576 - Validation accuracy: 0.9894                     \n",
      "Epoch 230/300 --> loss: 0.1134 - accuracy: 0.9696 | Validation loss: 0.0584 - Validation accuracy: 0.9928                     \n",
      "Epoch 231/300 --> loss: 0.1047 - accuracy: 0.9731 | Validation loss: 0.0542 - Validation accuracy: 0.9894                     \n",
      "Epoch 232/300 --> loss: 0.0953 - accuracy: 0.9800 | Validation loss: 0.0566 - Validation accuracy: 0.9859                     \n",
      "Epoch 233/300 --> loss: 0.1019 - accuracy: 0.9747 | Validation loss: 0.0620 - Validation accuracy: 0.9859                     \n",
      "Epoch 234/300 --> loss: 0.1165 - accuracy: 0.9678 | Validation loss: 0.0696 - Validation accuracy: 0.9826                     \n",
      "Epoch 235/300 --> loss: 0.1029 - accuracy: 0.9722 | Validation loss: 0.0635 - Validation accuracy: 0.9824                     \n",
      "Epoch 236/300 --> loss: 0.0925 - accuracy: 0.9792 | Validation loss: 0.0615 - Validation accuracy: 0.9856                     \n",
      "Epoch 237/300 --> loss: 0.0893 - accuracy: 0.9731 | Validation loss: 0.0589 - Validation accuracy: 0.9856                     \n",
      "Epoch 238/300 --> loss: 0.0916 - accuracy: 0.9791 | Validation loss: 0.0615 - Validation accuracy: 0.9859                     \n",
      "Epoch 239/300 --> loss: 0.0781 - accuracy: 0.9861 | Validation loss: 0.0636 - Validation accuracy: 0.9859                     \n",
      "Epoch 240/300 --> loss: 0.0973 - accuracy: 0.9774 | Validation loss: 0.0639 - Validation accuracy: 0.9896                     \n",
      "Epoch 241/300 --> loss: 0.1049 - accuracy: 0.9705 | Validation loss: 0.0611 - Validation accuracy: 0.9894                     \n",
      "Early stopping: stopping training after 241 epochs.\n"
     ]
    }
   ],
   "source": [
    "history = model.fit(\n",
    "    X_train = X_train, \n",
    "    y_train = y_train_encoded,\n",
    "    optimizer = optimizer,\n",
    "    loss_fn = loss_fn,\n",
    "    X_valid = X_valid,\n",
    "    y_valid = y_valid_encoded,\n",
    "    batch_size = batch_size,\n",
    "    epochs = epochs,\n",
    "    metrics = [metrics.accuracy],\n",
    "    callbacks = [callbacks.EarlyStopping(monitor='val_loss', patience=10)]\n",
    ")"
   ]
  },
  {
   "cell_type": "code",
   "execution_count": null,
   "metadata": {},
   "outputs": [
    {
     "data": {
      "image/png": "[encoded data removed]",
      "text/plain": [
       "<Figure size 800x400 with 1 Axes>"
      ]
     },
     "metadata": {},
     "output_type": "display_data"
    }
   ],
   "source": [
    "# Plot the training and validation loss\n",
    "data_analysis.plot_history(history[\"loss\"], history[\"val_loss\"], \"Training and Validation Loss\", \"Epoch\", \"Loss\")"
   ]
  },
  {
   "cell_type": "markdown",
   "metadata": {},
   "source": [
    "### Model evaluation"
   ]
  },
  {
   "cell_type": "code",
   "execution_count": 15,
   "metadata": {},
   "outputs": [],
   "source": [
    "# Predict the labels\n",
    "predictions = model(X_test)\n",
    "\n",
    "# Apply the argmax function to the predictions\n",
    "predictions = Tensor(np.argmax(predictions.data, axis=1), dtype=np.int8)"
   ]
  },
  {
   "cell_type": "code",
   "execution_count": null,
   "metadata": {},
   "outputs": [
    {
     "name": "stdout",
     "output_type": "stream",
     "text": [
      "Accuracy: 0.98\n"
     ]
    },
    {
     "data": {
      "image/png": "[encoded data removed]",
      "text/plain": [
       "<Figure size 600x600 with 1 Axes>"
      ]
     },
     "metadata": {},
     "output_type": "display_data"
    }
   ],
   "source": [
    "# Compute the accuracy\n",
    "accuracy = metrics.accuracy(y_test, predictions)\n",
    "confusion_matrix = metrics.confusion_matrix(num_classes, y_test, predictions)\n",
    "\n",
    "# Print the accuracy\n",
    "print(f\"Accuracy: {accuracy.data:.2f}\")\n",
    "\n",
    "# Plot the confusion matrix\n",
    "data_analysis.plot_confusion_matrix(confusion_matrix.data)"
   ]
  }
 ],
 "metadata": {
  "kernelspec": {
   "display_name": "venv",
   "language": "python",
   "name": "python3"
  },
  "language_info": {
   "codemirror_mode": {
    "name": "ipython",
    "version": 3
   },
   "file_extension": ".py",
   "mimetype": "text/x-python",
   "name": "python",
   "nbconvert_exporter": "python",
   "pygments_lexer": "ipython3",
   "version": "3.11.11"
  }
 },
 "nbformat": 4,
 "nbformat_minor": 2
}
