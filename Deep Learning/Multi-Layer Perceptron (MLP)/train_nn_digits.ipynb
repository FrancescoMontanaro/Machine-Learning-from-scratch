{
 "cells": [
  {
   "cell_type": "code",
   "execution_count": 1,
   "metadata": {},
   "outputs": [],
   "source": [
    "import sys\n",
    "import numpy as np\n",
    "import matplotlib.pyplot as plt\n",
    "from sklearn.datasets import load_digits\n",
    "\n",
    "# Add the path to the custom library to the system path\n",
    "sys.path.append('..')\n",
    "\n",
    "# Import the module from the custom library\n",
    "from src import utils\n",
    "from src import Model\n",
    "from src import layers\n",
    "from src import Tensor\n",
    "from src import metrics\n",
    "from src import callbacks\n",
    "from src import optimizers\n",
    "from src import activations\n",
    "from src import loss_functions"
   ]
  },
  {
   "cell_type": "markdown",
   "metadata": {},
   "source": [
    "### Constants and Hyperparameters"
   ]
  },
  {
   "cell_type": "code",
   "execution_count": 2,
   "metadata": {},
   "outputs": [],
   "source": [
    "train_test_split_pct = 0.2 # Percentage of samples to use for testing\n",
    "train_valid_split = 0.2 # Percentage of samples to use for validation\n",
    "learning_rate = 1e-4 # Learning rate for the optimizer\n",
    "batch_size = 16 # Number of samples to use for each batch\n",
    "epochs = 300 # Number of epochs to train the model\n",
    "seed = 1234 # Seed for reproducibility"
   ]
  },
  {
   "cell_type": "code",
   "execution_count": 3,
   "metadata": {},
   "outputs": [],
   "source": [
    "# Set the seed for reproducibility\n",
    "np.random.seed(seed)"
   ]
  },
  {
   "cell_type": "markdown",
   "metadata": {},
   "source": [
    "### Data loading"
   ]
  },
  {
   "cell_type": "code",
   "execution_count": 4,
   "metadata": {},
   "outputs": [
    {
     "name": "stdout",
     "output_type": "stream",
     "text": [
      "Number of classes: 10\n",
      "Training set: (1151, 64) (1151,)\n",
      "Validation set: (287, 64) (287,)\n",
      "Testing set: (359, 64) (359,)\n"
     ]
    }
   ],
   "source": [
    "# Load the digits dataset\n",
    "digits = load_digits()\n",
    "\n",
    "# Extract the number of classes in the dataset\n",
    "num_classes = len(np.unique(digits['target'])) # type: ignore\n",
    "\n",
    "# Extract the input and output data\n",
    "data = Tensor(data=digits.get(\"data\", [])) # type: ignore\n",
    "labels = Tensor(data=digits.get(\"target\", []), dtype=np.int8) # type: ignore\n",
    "\n",
    "# Split the dataset into training, validation, and testing sets\n",
    "X_train, X_test, y_train, y_test = utils.split_data((data, labels), train_test_split_pct, shuffle=True)\n",
    "X_train, X_valid, y_train, y_valid = utils.split_data((X_train, y_train), train_valid_split, shuffle=True)\n",
    "\n",
    "# Print the dataset information\n",
    "print(\"Number of classes:\", num_classes)\n",
    "print('Training set:', X_train.shape(), y_train.shape())\n",
    "print('Validation set:', X_valid.shape(), y_valid.shape())\n",
    "print('Testing set:', X_test.shape(), y_test.shape())"
   ]
  },
  {
   "cell_type": "markdown",
   "metadata": {},
   "source": [
    "### Data Preprocessing"
   ]
  },
  {
   "cell_type": "code",
   "execution_count": 5,
   "metadata": {},
   "outputs": [],
   "source": [
    "# Normalization\n",
    "def normalize(X: Tensor) -> Tensor:\n",
    "    \"\"\"\n",
    "    Normalize the input data by dividing by the maximum value in the training set.\n",
    "    \n",
    "    Parameters:\n",
    "    - X (Tensor): The input data to normalize\n",
    "    \n",
    "    Returns:\n",
    "    - Tensor: The normalized input data\n",
    "    \"\"\"\n",
    "    \n",
    "    # Normalize the input data\n",
    "    return X / 255.0\n",
    "\n",
    "# Normalize the input data\n",
    "X_train = normalize(X_train)\n",
    "X_valid = normalize(X_valid)\n",
    "X_test = normalize(X_test)"
   ]
  },
  {
   "cell_type": "code",
   "execution_count": 6,
   "metadata": {},
   "outputs": [
    {
     "name": "stdout",
     "output_type": "stream",
     "text": [
      "Sample target value: 3\n",
      "One-hot encoded value: Tensor([0 0 0 1 0 0 0 0 0 0], shape=(10,), dtype=int8)\n"
     ]
    }
   ],
   "source": [
    "# Convert the target values to one-hot encoded vectors\n",
    "y_train_encoded = utils.one_hot_encoding(y=y_train, n_classes=num_classes)\n",
    "y_valid_encoded = utils.one_hot_encoding(y=y_valid, n_classes=num_classes)\n",
    "\n",
    "# Print one sample encoding\n",
    "print(\"Sample target value:\", y_train[0].data)\n",
    "print(\"One-hot encoded value:\", y_train_encoded[0])"
   ]
  },
  {
   "cell_type": "markdown",
   "metadata": {},
   "source": [
    "### Data visualization"
   ]
  },
  {
   "cell_type": "code",
   "execution_count": 7,
   "metadata": {},
   "outputs": [
    {
     "data": {
      "image/png": "[encoded data removed]",
      "text/plain": [
       "<Figure size 2000x500 with 10 Axes>"
      ]
     },
     "metadata": {},
     "output_type": "display_data"
    }
   ],
   "source": [
    "def plot_samples(samples: list[np.ndarray], labels: list[np.ndarray]) -> None:\n",
    "    \"\"\"\n",
    "    Plot the samples in a grid.\n",
    "    \n",
    "    Parameters:\n",
    "    - samples (list[np.ndarray]): The samples to plot\n",
    "    - labels (list[np.ndarray]): The labels of the samples\n",
    "    \"\"\"\n",
    "    \n",
    "    reshaped_samples = []\n",
    "    \n",
    "    # Iterate over the samples\n",
    "    for sample in samples:\n",
    "        # Compute the new shape\n",
    "        new_shape = np.sqrt(sample.shape).astype(int)[0]\n",
    "        \n",
    "        # Reshape the sample\n",
    "        sample = sample.reshape(new_shape, new_shape)\n",
    "        \n",
    "        # Append the reshaped sample\n",
    "        reshaped_samples.append(sample)\n",
    "        \n",
    "    # Plot the samples in a grid\n",
    "    _, axes = plt.subplots(1, len(samples), figsize=(20, 5))\n",
    "    for i, ax in enumerate(axes):\n",
    "        ax.imshow(reshaped_samples[i], cmap='gray')\n",
    "        ax.set_title(f'Label: {labels[i]}')\n",
    "        ax.axis('off')\n",
    "        \n",
    "        \n",
    "# Plot the first 10 samples\n",
    "plot_samples(list(X_train.data[:10]), list(y_train.data[:10]))"
   ]
  },
  {
   "cell_type": "markdown",
   "metadata": {},
   "source": [
    "### Building the model"
   ]
  },
  {
   "cell_type": "code",
   "execution_count": 8,
   "metadata": {},
   "outputs": [],
   "source": [
    "\n",
    "model = Model(\n",
    "    name = \"Digits Classifier\",\n",
    "    modules = [\n",
    "        layers.Dense(num_units=24, activation=activations.ReLU()),\n",
    "        layers.BatchNormalization(momentum=0.9),\n",
    "        layers.Dropout(rate=0.1),\n",
    "        layers.Dense(num_units=32, activation=activations.ReLU()),\n",
    "        layers.Dropout(rate=0.1),\n",
    "        layers.Dense(num_units=12, activation=activations.Tanh()),\n",
    "        layers.Dropout(rate=0.1),\n",
    "        layers.Dense(num_units=num_classes, activation=activations.Softmax())\n",
    "    ]\n",
    ")\n",
    "\n",
    "# Initialize the optimizer\n",
    "optimizer = optimizers.Adam(learning_rate=learning_rate)\n",
    "\n",
    "# Initialize the loss function\n",
    "loss_fn = loss_functions.CategoricalCrossEntropy()"
   ]
  },
  {
   "cell_type": "code",
   "execution_count": 9,
   "metadata": {},
   "outputs": [],
   "source": [
    "# Call the model with a first batch to initialize the weights\n",
    "# This is not necessary, but it is useful to know the input size\n",
    "model(X_train[:batch_size]);"
   ]
  },
  {
   "cell_type": "code",
   "execution_count": 10,
   "metadata": {},
   "outputs": [
    {
     "name": "stdout",
     "output_type": "stream",
     "text": [
      "\n",
      "Digits Classifier (ID: 0)\n",
      "\n",
      "--------------------------------------------------------------------------------\n",
      "Module (type)                           Output Shape        Trainable params #  \n",
      "================================================================================\n",
      "dense_1 (Dense)                         (16, 24)            1560                \n",
      "--------------------------------------------------------------------------------\n",
      "batch_normalization_2                   \n",
      "(BatchNormalization)                    (16, 24)            48                  \n",
      "--------------------------------------------------------------------------------\n",
      "dropout_3 (Dropout)                     (16, 24)            0                   \n",
      "--------------------------------------------------------------------------------\n",
      "dense_4 (Dense)                         (16, 32)            800                 \n",
      "--------------------------------------------------------------------------------\n",
      "dropout_5 (Dropout)                     (16, 32)            0                   \n",
      "--------------------------------------------------------------------------------\n",
      "dense_6 (Dense)                         (16, 12)            396                 \n",
      "--------------------------------------------------------------------------------\n",
      "dropout_7 (Dropout)                     (16, 12)            0                   \n",
      "--------------------------------------------------------------------------------\n",
      "dense_8 (Dense)                         (16, 10)            130                 \n",
      "================================================================================\n",
      "Total trainable parameters: 2934\n",
      "--------------------------------------------------------------------------------\n"
     ]
    }
   ],
   "source": [
    "# Display the model summary\n",
    "model.summary()"
   ]
  },
  {
   "cell_type": "markdown",
   "metadata": {},
   "source": [
    "### Training the model"
   ]
  },
  {
   "cell_type": "code",
   "execution_count": 11,
   "metadata": {},
   "outputs": [
    {
     "name": "stdout",
     "output_type": "stream",
     "text": [
      "Epoch 1/300 --> loss: 2.2845 - accuracy: 0.1252 | Validation loss: 2.2854 - Validation accuracy: 0.1537                     \n",
      "Epoch 2/300 --> loss: 2.2352 - accuracy: 0.2052 | Validation loss: 2.2032 - Validation accuracy: 0.2894                     \n",
      "Epoch 3/300 --> loss: 2.1913 - accuracy: 0.2805 | Validation loss: 2.1525 - Validation accuracy: 0.3486                     \n",
      "Epoch 4/300 --> loss: 2.1475 - accuracy: 0.3483 | Validation loss: 2.0970 - Validation accuracy: 0.4181                     \n",
      "Epoch 5/300 --> loss: 2.0915 - accuracy: 0.4212 | Validation loss: 2.0412 - Validation accuracy: 0.4634                     \n",
      "Epoch 6/300 --> loss: 2.0387 - accuracy: 0.4762 | Validation loss: 1.9784 - Validation accuracy: 0.5123                     \n",
      "Epoch 7/300 --> loss: 1.9727 - accuracy: 0.5144 | Validation loss: 1.9151 - Validation accuracy: 0.5227                     \n",
      "Epoch 8/300 --> loss: 1.9235 - accuracy: 0.5186 | Validation loss: 1.8546 - Validation accuracy: 0.5405                     \n",
      "Epoch 9/300 --> loss: 1.8625 - accuracy: 0.5455 | Validation loss: 1.7945 - Validation accuracy: 0.5616                     \n",
      "Epoch 10/300 --> loss: 1.8030 - accuracy: 0.5720 | Validation loss: 1.7257 - Validation accuracy: 0.5720                     \n",
      "Epoch 11/300 --> loss: 1.7525 - accuracy: 0.5682 | Validation loss: 1.6631 - Validation accuracy: 0.5894                     \n",
      "Epoch 12/300 --> loss: 1.6814 - accuracy: 0.5856 | Validation loss: 1.6086 - Validation accuracy: 0.5963                     \n",
      "Epoch 13/300 --> loss: 1.6399 - accuracy: 0.6030 | Validation loss: 1.5547 - Validation accuracy: 0.6067                     \n",
      "Epoch 14/300 --> loss: 1.5750 - accuracy: 0.6170 | Validation loss: 1.5110 - Validation accuracy: 0.6067                     \n",
      "Epoch 15/300 --> loss: 1.5402 - accuracy: 0.6282 | Validation loss: 1.4522 - Validation accuracy: 0.6449                     \n",
      "Epoch 16/300 --> loss: 1.4920 - accuracy: 0.6464 | Validation loss: 1.4042 - Validation accuracy: 0.6553                     \n",
      "Epoch 17/300 --> loss: 1.4388 - accuracy: 0.6578 | Validation loss: 1.3667 - Validation accuracy: 0.6796                     \n",
      "Epoch 18/300 --> loss: 1.4139 - accuracy: 0.6655 | Validation loss: 1.3215 - Validation accuracy: 0.7005                     \n",
      "Epoch 19/300 --> loss: 1.3669 - accuracy: 0.6872 | Validation loss: 1.2754 - Validation accuracy: 0.7074                     \n",
      "Epoch 20/300 --> loss: 1.3341 - accuracy: 0.6882 | Validation loss: 1.2378 - Validation accuracy: 0.7074                     \n",
      "Epoch 21/300 --> loss: 1.3088 - accuracy: 0.6863 | Validation loss: 1.1992 - Validation accuracy: 0.7146                     \n",
      "Epoch 22/300 --> loss: 1.2612 - accuracy: 0.6943 | Validation loss: 1.1645 - Validation accuracy: 0.7037                     \n",
      "Epoch 23/300 --> loss: 1.2454 - accuracy: 0.7115 | Validation loss: 1.1277 - Validation accuracy: 0.7317                     \n",
      "Epoch 24/300 --> loss: 1.1903 - accuracy: 0.7140 | Validation loss: 1.0932 - Validation accuracy: 0.7493                     \n",
      "Epoch 25/300 --> loss: 1.1637 - accuracy: 0.7246 | Validation loss: 1.0646 - Validation accuracy: 0.7352                     \n",
      "Epoch 26/300 --> loss: 1.1354 - accuracy: 0.7420 | Validation loss: 1.0304 - Validation accuracy: 0.7563                     \n",
      "Epoch 27/300 --> loss: 1.1300 - accuracy: 0.7375 | Validation loss: 0.9988 - Validation accuracy: 0.7597                     \n",
      "Epoch 28/300 --> loss: 1.0836 - accuracy: 0.7663 | Validation loss: 0.9701 - Validation accuracy: 0.7704                     \n",
      "Epoch 29/300 --> loss: 1.0471 - accuracy: 0.7583 | Validation loss: 0.9462 - Validation accuracy: 0.7738                     \n",
      "Epoch 30/300 --> loss: 1.0318 - accuracy: 0.7576 | Validation loss: 0.9196 - Validation accuracy: 0.7808                     \n",
      "Epoch 31/300 --> loss: 1.0041 - accuracy: 0.7629 | Validation loss: 0.8911 - Validation accuracy: 0.8016                     \n",
      "Epoch 32/300 --> loss: 0.9699 - accuracy: 0.7898 | Validation loss: 0.8633 - Validation accuracy: 0.8016                     \n",
      "Epoch 33/300 --> loss: 0.9719 - accuracy: 0.7880 | Validation loss: 0.8458 - Validation accuracy: 0.8051                     \n",
      "Epoch 34/300 --> loss: 0.9428 - accuracy: 0.7854 | Validation loss: 0.8196 - Validation accuracy: 0.8086                     \n",
      "Epoch 35/300 --> loss: 0.9242 - accuracy: 0.7959 | Validation loss: 0.7946 - Validation accuracy: 0.8294                     \n",
      "Epoch 36/300 --> loss: 0.8848 - accuracy: 0.8253 | Validation loss: 0.7739 - Validation accuracy: 0.8225                     \n",
      "Epoch 37/300 --> loss: 0.8794 - accuracy: 0.8080 | Validation loss: 0.7539 - Validation accuracy: 0.8537                     \n",
      "Epoch 38/300 --> loss: 0.8462 - accuracy: 0.8410 | Validation loss: 0.7318 - Validation accuracy: 0.8537                     \n",
      "Epoch 39/300 --> loss: 0.8144 - accuracy: 0.8332 | Validation loss: 0.7121 - Validation accuracy: 0.8572                     \n",
      "Epoch 40/300 --> loss: 0.8054 - accuracy: 0.8392 | Validation loss: 0.6919 - Validation accuracy: 0.8606                     \n",
      "Epoch 41/300 --> loss: 0.7952 - accuracy: 0.8434 | Validation loss: 0.6758 - Validation accuracy: 0.8850                     \n",
      "Epoch 42/300 --> loss: 0.7932 - accuracy: 0.8365 | Validation loss: 0.6552 - Validation accuracy: 0.8884                     \n",
      "Epoch 43/300 --> loss: 0.7579 - accuracy: 0.8524 | Validation loss: 0.6410 - Validation accuracy: 0.8815                     \n",
      "Epoch 44/300 --> loss: 0.7401 - accuracy: 0.8679 | Validation loss: 0.6287 - Validation accuracy: 0.8884                     \n",
      "Epoch 45/300 --> loss: 0.7281 - accuracy: 0.8644 | Validation loss: 0.6106 - Validation accuracy: 0.8919                     \n",
      "Epoch 46/300 --> loss: 0.7037 - accuracy: 0.8679 | Validation loss: 0.5908 - Validation accuracy: 0.9093                     \n",
      "Epoch 47/300 --> loss: 0.6862 - accuracy: 0.8722 | Validation loss: 0.5764 - Validation accuracy: 0.9058                     \n",
      "Epoch 48/300 --> loss: 0.6925 - accuracy: 0.8784 | Validation loss: 0.5634 - Validation accuracy: 0.9197                     \n",
      "Epoch 49/300 --> loss: 0.6742 - accuracy: 0.8750 | Validation loss: 0.5490 - Validation accuracy: 0.9336                     \n",
      "Epoch 50/300 --> loss: 0.6558 - accuracy: 0.8749 | Validation loss: 0.5316 - Validation accuracy: 0.9405                     \n",
      "Epoch 51/300 --> loss: 0.6465 - accuracy: 0.8897 | Validation loss: 0.5180 - Validation accuracy: 0.9440                     \n",
      "Epoch 52/300 --> loss: 0.6250 - accuracy: 0.8966 | Validation loss: 0.5019 - Validation accuracy: 0.9544                     \n",
      "Epoch 53/300 --> loss: 0.6154 - accuracy: 0.8957 | Validation loss: 0.4957 - Validation accuracy: 0.9336                     \n",
      "Epoch 54/300 --> loss: 0.6106 - accuracy: 0.8915 | Validation loss: 0.4829 - Validation accuracy: 0.9509                     \n",
      "Epoch 55/300 --> loss: 0.5976 - accuracy: 0.9017 | Validation loss: 0.4716 - Validation accuracy: 0.9405                     \n",
      "Epoch 56/300 --> loss: 0.5760 - accuracy: 0.9010 | Validation loss: 0.4620 - Validation accuracy: 0.9509                     \n",
      "Epoch 57/300 --> loss: 0.5590 - accuracy: 0.9192 | Validation loss: 0.4445 - Validation accuracy: 0.9475                     \n",
      "Epoch 58/300 --> loss: 0.5619 - accuracy: 0.9071 | Validation loss: 0.4327 - Validation accuracy: 0.9544                     \n",
      "Epoch 59/300 --> loss: 0.5365 - accuracy: 0.9114 | Validation loss: 0.4272 - Validation accuracy: 0.9475                     \n",
      "Epoch 60/300 --> loss: 0.5465 - accuracy: 0.9044 | Validation loss: 0.4169 - Validation accuracy: 0.9544                     \n",
      "Epoch 61/300 --> loss: 0.5132 - accuracy: 0.9183 | Validation loss: 0.4106 - Validation accuracy: 0.9509                     \n",
      "Epoch 62/300 --> loss: 0.5184 - accuracy: 0.9201 | Validation loss: 0.4040 - Validation accuracy: 0.9579                     \n",
      "Epoch 63/300 --> loss: 0.4958 - accuracy: 0.9174 | Validation loss: 0.3852 - Validation accuracy: 0.9648                     \n",
      "Epoch 64/300 --> loss: 0.5000 - accuracy: 0.9131 | Validation loss: 0.3792 - Validation accuracy: 0.9544                     \n",
      "Epoch 65/300 --> loss: 0.4561 - accuracy: 0.9383 | Validation loss: 0.3722 - Validation accuracy: 0.9683                     \n",
      "Epoch 66/300 --> loss: 0.4708 - accuracy: 0.9234 | Validation loss: 0.3600 - Validation accuracy: 0.9683                     \n",
      "Epoch 67/300 --> loss: 0.4644 - accuracy: 0.9287 | Validation loss: 0.3529 - Validation accuracy: 0.9648                     \n",
      "Epoch 68/300 --> loss: 0.4398 - accuracy: 0.9269 | Validation loss: 0.3476 - Validation accuracy: 0.9683                     \n",
      "Epoch 69/300 --> loss: 0.4480 - accuracy: 0.9245 | Validation loss: 0.3402 - Validation accuracy: 0.9613                     \n",
      "Epoch 70/300 --> loss: 0.4478 - accuracy: 0.9166 | Validation loss: 0.3270 - Validation accuracy: 0.9613                     \n",
      "Epoch 71/300 --> loss: 0.4406 - accuracy: 0.9288 | Validation loss: 0.3274 - Validation accuracy: 0.9718                     \n",
      "Epoch 72/300 --> loss: 0.4411 - accuracy: 0.9183 | Validation loss: 0.3171 - Validation accuracy: 0.9683                     \n",
      "Epoch 73/300 --> loss: 0.4169 - accuracy: 0.9296 | Validation loss: 0.3078 - Validation accuracy: 0.9648                     \n",
      "Epoch 74/300 --> loss: 0.4038 - accuracy: 0.9331 | Validation loss: 0.3066 - Validation accuracy: 0.9613                     \n",
      "Epoch 75/300 --> loss: 0.3852 - accuracy: 0.9410 | Validation loss: 0.2990 - Validation accuracy: 0.9613                     \n",
      "Epoch 76/300 --> loss: 0.3971 - accuracy: 0.9383 | Validation loss: 0.2937 - Validation accuracy: 0.9613                     \n",
      "Epoch 77/300 --> loss: 0.3956 - accuracy: 0.9383 | Validation loss: 0.2856 - Validation accuracy: 0.9648                     \n",
      "Epoch 78/300 --> loss: 0.3958 - accuracy: 0.9219 | Validation loss: 0.2811 - Validation accuracy: 0.9683                     \n",
      "Epoch 79/300 --> loss: 0.3998 - accuracy: 0.9356 | Validation loss: 0.2792 - Validation accuracy: 0.9683                     \n",
      "Epoch 80/300 --> loss: 0.3722 - accuracy: 0.9401 | Validation loss: 0.2708 - Validation accuracy: 0.9683                     \n",
      "Epoch 81/300 --> loss: 0.4065 - accuracy: 0.9201 | Validation loss: 0.2606 - Validation accuracy: 0.9683                     \n",
      "Epoch 82/300 --> loss: 0.3528 - accuracy: 0.9470 | Validation loss: 0.2582 - Validation accuracy: 0.9718                     \n",
      "Epoch 83/300 --> loss: 0.3518 - accuracy: 0.9410 | Validation loss: 0.2505 - Validation accuracy: 0.9718                     \n",
      "Epoch 84/300 --> loss: 0.3567 - accuracy: 0.9356 | Validation loss: 0.2517 - Validation accuracy: 0.9718                     \n",
      "Epoch 85/300 --> loss: 0.3559 - accuracy: 0.9340 | Validation loss: 0.2462 - Validation accuracy: 0.9683                     \n",
      "Epoch 86/300 --> loss: 0.3417 - accuracy: 0.9401 | Validation loss: 0.2440 - Validation accuracy: 0.9613                     \n",
      "Epoch 87/300 --> loss: 0.3341 - accuracy: 0.9410 | Validation loss: 0.2379 - Validation accuracy: 0.9683                     \n",
      "Epoch 88/300 --> loss: 0.3289 - accuracy: 0.9410 | Validation loss: 0.2312 - Validation accuracy: 0.9683                     \n",
      "Epoch 89/300 --> loss: 0.3384 - accuracy: 0.9383 | Validation loss: 0.2271 - Validation accuracy: 0.9683                     \n",
      "Epoch 90/300 --> loss: 0.3205 - accuracy: 0.9486 | Validation loss: 0.2261 - Validation accuracy: 0.9683                     \n",
      "Epoch 91/300 --> loss: 0.2978 - accuracy: 0.9601 | Validation loss: 0.2176 - Validation accuracy: 0.9720                     \n",
      "Epoch 92/300 --> loss: 0.3268 - accuracy: 0.9383 | Validation loss: 0.2139 - Validation accuracy: 0.9718                     \n",
      "Epoch 93/300 --> loss: 0.3172 - accuracy: 0.9374 | Validation loss: 0.2127 - Validation accuracy: 0.9720                     \n",
      "Epoch 94/300 --> loss: 0.3038 - accuracy: 0.9373 | Validation loss: 0.2071 - Validation accuracy: 0.9720                     \n",
      "Epoch 95/300 --> loss: 0.3178 - accuracy: 0.9410 | Validation loss: 0.2039 - Validation accuracy: 0.9720                     \n",
      "Epoch 96/300 --> loss: 0.2990 - accuracy: 0.9462 | Validation loss: 0.2065 - Validation accuracy: 0.9685                     \n",
      "Epoch 97/300 --> loss: 0.2999 - accuracy: 0.9495 | Validation loss: 0.1992 - Validation accuracy: 0.9755                     \n",
      "Epoch 98/300 --> loss: 0.2868 - accuracy: 0.9488 | Validation loss: 0.1974 - Validation accuracy: 0.9720                     \n",
      "Epoch 99/300 --> loss: 0.2953 - accuracy: 0.9444 | Validation loss: 0.1971 - Validation accuracy: 0.9718                     \n",
      "Epoch 100/300 --> loss: 0.2719 - accuracy: 0.9539 | Validation loss: 0.1954 - Validation accuracy: 0.9718                     \n",
      "Epoch 101/300 --> loss: 0.3052 - accuracy: 0.9375 | Validation loss: 0.1887 - Validation accuracy: 0.9752                     \n",
      "Epoch 102/300 --> loss: 0.2754 - accuracy: 0.9539 | Validation loss: 0.1871 - Validation accuracy: 0.9787                     \n",
      "Epoch 103/300 --> loss: 0.2768 - accuracy: 0.9462 | Validation loss: 0.1805 - Validation accuracy: 0.9752                     \n",
      "Epoch 104/300 --> loss: 0.2747 - accuracy: 0.9444 | Validation loss: 0.1797 - Validation accuracy: 0.9683                     \n",
      "Epoch 105/300 --> loss: 0.2648 - accuracy: 0.9479 | Validation loss: 0.1781 - Validation accuracy: 0.9720                     \n",
      "Epoch 106/300 --> loss: 0.2661 - accuracy: 0.9418 | Validation loss: 0.1728 - Validation accuracy: 0.9718                     \n",
      "Epoch 107/300 --> loss: 0.2502 - accuracy: 0.9583 | Validation loss: 0.1700 - Validation accuracy: 0.9787                     \n",
      "Epoch 108/300 --> loss: 0.2539 - accuracy: 0.9575 | Validation loss: 0.1688 - Validation accuracy: 0.9752                     \n",
      "Epoch 109/300 --> loss: 0.2598 - accuracy: 0.9462 | Validation loss: 0.1660 - Validation accuracy: 0.9752                     \n",
      "Epoch 110/300 --> loss: 0.2544 - accuracy: 0.9514 | Validation loss: 0.1653 - Validation accuracy: 0.9752                     \n",
      "Epoch 111/300 --> loss: 0.2528 - accuracy: 0.9549 | Validation loss: 0.1630 - Validation accuracy: 0.9752                     \n",
      "Epoch 112/300 --> loss: 0.2528 - accuracy: 0.9565 | Validation loss: 0.1610 - Validation accuracy: 0.9787                     \n",
      "Epoch 113/300 --> loss: 0.2418 - accuracy: 0.9549 | Validation loss: 0.1603 - Validation accuracy: 0.9787                     \n",
      "Epoch 114/300 --> loss: 0.2360 - accuracy: 0.9540 | Validation loss: 0.1537 - Validation accuracy: 0.9824                     \n",
      "Epoch 115/300 --> loss: 0.2236 - accuracy: 0.9617 | Validation loss: 0.1564 - Validation accuracy: 0.9826                     \n",
      "Epoch 116/300 --> loss: 0.2349 - accuracy: 0.9548 | Validation loss: 0.1592 - Validation accuracy: 0.9755                     \n",
      "Epoch 117/300 --> loss: 0.2122 - accuracy: 0.9627 | Validation loss: 0.1532 - Validation accuracy: 0.9752                     \n",
      "Epoch 118/300 --> loss: 0.2198 - accuracy: 0.9661 | Validation loss: 0.1544 - Validation accuracy: 0.9755                     \n",
      "Epoch 119/300 --> loss: 0.2200 - accuracy: 0.9627 | Validation loss: 0.1438 - Validation accuracy: 0.9787                     \n",
      "Epoch 120/300 --> loss: 0.2254 - accuracy: 0.9540 | Validation loss: 0.1450 - Validation accuracy: 0.9789                     \n",
      "Epoch 121/300 --> loss: 0.2209 - accuracy: 0.9609 | Validation loss: 0.1406 - Validation accuracy: 0.9787                     \n",
      "Epoch 122/300 --> loss: 0.2084 - accuracy: 0.9566 | Validation loss: 0.1417 - Validation accuracy: 0.9861                     \n",
      "Epoch 123/300 --> loss: 0.2239 - accuracy: 0.9540 | Validation loss: 0.1403 - Validation accuracy: 0.9789                     \n",
      "Epoch 124/300 --> loss: 0.2026 - accuracy: 0.9618 | Validation loss: 0.1323 - Validation accuracy: 0.9859                     \n",
      "Epoch 125/300 --> loss: 0.2293 - accuracy: 0.9531 | Validation loss: 0.1357 - Validation accuracy: 0.9787                     \n",
      "Epoch 126/300 --> loss: 0.2051 - accuracy: 0.9670 | Validation loss: 0.1357 - Validation accuracy: 0.9752                     \n",
      "Epoch 127/300 --> loss: 0.2332 - accuracy: 0.9513 | Validation loss: 0.1400 - Validation accuracy: 0.9789                     \n",
      "Epoch 128/300 --> loss: 0.2069 - accuracy: 0.9566 | Validation loss: 0.1350 - Validation accuracy: 0.9752                     \n",
      "Epoch 129/300 --> loss: 0.2037 - accuracy: 0.9575 | Validation loss: 0.1266 - Validation accuracy: 0.9822                     \n",
      "Epoch 130/300 --> loss: 0.1929 - accuracy: 0.9601 | Validation loss: 0.1288 - Validation accuracy: 0.9824                     \n",
      "Epoch 131/300 --> loss: 0.2092 - accuracy: 0.9609 | Validation loss: 0.1309 - Validation accuracy: 0.9787                     \n",
      "Epoch 132/300 --> loss: 0.1881 - accuracy: 0.9678 | Validation loss: 0.1271 - Validation accuracy: 0.9787                     \n",
      "Epoch 133/300 --> loss: 0.1799 - accuracy: 0.9652 | Validation loss: 0.1269 - Validation accuracy: 0.9822                     \n",
      "Epoch 134/300 --> loss: 0.1945 - accuracy: 0.9608 | Validation loss: 0.1269 - Validation accuracy: 0.9789                     \n",
      "Epoch 135/300 --> loss: 0.1846 - accuracy: 0.9714 | Validation loss: 0.1205 - Validation accuracy: 0.9822                     \n",
      "Epoch 136/300 --> loss: 0.1895 - accuracy: 0.9600 | Validation loss: 0.1196 - Validation accuracy: 0.9859                     \n",
      "Epoch 137/300 --> loss: 0.1708 - accuracy: 0.9688 | Validation loss: 0.1216 - Validation accuracy: 0.9792                     \n",
      "Epoch 138/300 --> loss: 0.1938 - accuracy: 0.9601 | Validation loss: 0.1169 - Validation accuracy: 0.9822                     \n",
      "Epoch 139/300 --> loss: 0.1849 - accuracy: 0.9566 | Validation loss: 0.1200 - Validation accuracy: 0.9792                     \n",
      "Epoch 140/300 --> loss: 0.1938 - accuracy: 0.9635 | Validation loss: 0.1132 - Validation accuracy: 0.9824                     \n",
      "Epoch 141/300 --> loss: 0.1908 - accuracy: 0.9617 | Validation loss: 0.1085 - Validation accuracy: 0.9822                     \n",
      "Epoch 142/300 --> loss: 0.1685 - accuracy: 0.9686 | Validation loss: 0.1090 - Validation accuracy: 0.9822                     \n",
      "Epoch 143/300 --> loss: 0.1807 - accuracy: 0.9618 | Validation loss: 0.1077 - Validation accuracy: 0.9822                     \n",
      "Epoch 144/300 --> loss: 0.1792 - accuracy: 0.9600 | Validation loss: 0.1069 - Validation accuracy: 0.9896                     \n",
      "Epoch 145/300 --> loss: 0.1752 - accuracy: 0.9626 | Validation loss: 0.1073 - Validation accuracy: 0.9787                     \n",
      "Epoch 146/300 --> loss: 0.1873 - accuracy: 0.9574 | Validation loss: 0.1050 - Validation accuracy: 0.9789                     \n",
      "Epoch 147/300 --> loss: 0.1788 - accuracy: 0.9592 | Validation loss: 0.1083 - Validation accuracy: 0.9861                     \n",
      "Epoch 148/300 --> loss: 0.1677 - accuracy: 0.9696 | Validation loss: 0.1039 - Validation accuracy: 0.9792                     \n",
      "Epoch 149/300 --> loss: 0.1726 - accuracy: 0.9635 | Validation loss: 0.1036 - Validation accuracy: 0.9787                     \n",
      "Epoch 150/300 --> loss: 0.1578 - accuracy: 0.9635 | Validation loss: 0.1024 - Validation accuracy: 0.9861                     \n",
      "Epoch 151/300 --> loss: 0.1900 - accuracy: 0.9531 | Validation loss: 0.1036 - Validation accuracy: 0.9824                     \n",
      "Epoch 152/300 --> loss: 0.1800 - accuracy: 0.9635 | Validation loss: 0.1032 - Validation accuracy: 0.9755                     \n",
      "Epoch 153/300 --> loss: 0.1626 - accuracy: 0.9678 | Validation loss: 0.1019 - Validation accuracy: 0.9789                     \n",
      "Epoch 154/300 --> loss: 0.1661 - accuracy: 0.9653 | Validation loss: 0.1057 - Validation accuracy: 0.9718                     \n",
      "Epoch 155/300 --> loss: 0.1640 - accuracy: 0.9653 | Validation loss: 0.0988 - Validation accuracy: 0.9859                     \n",
      "Epoch 156/300 --> loss: 0.1673 - accuracy: 0.9635 | Validation loss: 0.1022 - Validation accuracy: 0.9789                     \n",
      "Epoch 157/300 --> loss: 0.1642 - accuracy: 0.9644 | Validation loss: 0.0971 - Validation accuracy: 0.9824                     \n",
      "Epoch 158/300 --> loss: 0.1574 - accuracy: 0.9704 | Validation loss: 0.0971 - Validation accuracy: 0.9861                     \n",
      "Epoch 159/300 --> loss: 0.1546 - accuracy: 0.9705 | Validation loss: 0.0964 - Validation accuracy: 0.9824                     \n",
      "Epoch 160/300 --> loss: 0.1415 - accuracy: 0.9722 | Validation loss: 0.0958 - Validation accuracy: 0.9752                     \n",
      "Epoch 161/300 --> loss: 0.1553 - accuracy: 0.9643 | Validation loss: 0.0967 - Validation accuracy: 0.9787                     \n",
      "Epoch 162/300 --> loss: 0.1469 - accuracy: 0.9696 | Validation loss: 0.0965 - Validation accuracy: 0.9787                     \n",
      "Epoch 163/300 --> loss: 0.1351 - accuracy: 0.9705 | Validation loss: 0.0983 - Validation accuracy: 0.9826                     \n",
      "Epoch 164/300 --> loss: 0.1548 - accuracy: 0.9687 | Validation loss: 0.0965 - Validation accuracy: 0.9859                     \n",
      "Epoch 165/300 --> loss: 0.1494 - accuracy: 0.9722 | Validation loss: 0.0987 - Validation accuracy: 0.9755                     \n",
      "Epoch 166/300 --> loss: 0.1653 - accuracy: 0.9609 | Validation loss: 0.0971 - Validation accuracy: 0.9752                     \n",
      "Epoch 167/300 --> loss: 0.1554 - accuracy: 0.9627 | Validation loss: 0.0991 - Validation accuracy: 0.9720                     \n",
      "Epoch 168/300 --> loss: 0.1241 - accuracy: 0.9765 | Validation loss: 0.0938 - Validation accuracy: 0.9824                     \n",
      "Epoch 169/300 --> loss: 0.1386 - accuracy: 0.9757 | Validation loss: 0.0891 - Validation accuracy: 0.9822                     \n",
      "Epoch 170/300 --> loss: 0.1400 - accuracy: 0.9643 | Validation loss: 0.0914 - Validation accuracy: 0.9787                     \n",
      "Epoch 171/300 --> loss: 0.1432 - accuracy: 0.9653 | Validation loss: 0.0918 - Validation accuracy: 0.9826                     \n",
      "Epoch 172/300 --> loss: 0.1425 - accuracy: 0.9670 | Validation loss: 0.0926 - Validation accuracy: 0.9752                     \n",
      "Epoch 173/300 --> loss: 0.1391 - accuracy: 0.9748 | Validation loss: 0.0867 - Validation accuracy: 0.9859                     \n",
      "Epoch 174/300 --> loss: 0.1496 - accuracy: 0.9601 | Validation loss: 0.0918 - Validation accuracy: 0.9755                     \n",
      "Epoch 175/300 --> loss: 0.1728 - accuracy: 0.9539 | Validation loss: 0.0882 - Validation accuracy: 0.9824                     \n",
      "Epoch 176/300 --> loss: 0.1307 - accuracy: 0.9713 | Validation loss: 0.0970 - Validation accuracy: 0.9755                     \n",
      "Epoch 177/300 --> loss: 0.1255 - accuracy: 0.9748 | Validation loss: 0.0905 - Validation accuracy: 0.9752                     \n",
      "Epoch 178/300 --> loss: 0.1427 - accuracy: 0.9653 | Validation loss: 0.0856 - Validation accuracy: 0.9826                     \n",
      "Epoch 179/300 --> loss: 0.1511 - accuracy: 0.9635 | Validation loss: 0.0818 - Validation accuracy: 0.9861                     \n",
      "Epoch 180/300 --> loss: 0.1430 - accuracy: 0.9652 | Validation loss: 0.0827 - Validation accuracy: 0.9787                     \n",
      "Epoch 181/300 --> loss: 0.1461 - accuracy: 0.9687 | Validation loss: 0.0892 - Validation accuracy: 0.9824                     \n",
      "Epoch 182/300 --> loss: 0.1332 - accuracy: 0.9704 | Validation loss: 0.0838 - Validation accuracy: 0.9789                     \n",
      "Epoch 183/300 --> loss: 0.1226 - accuracy: 0.9739 | Validation loss: 0.0852 - Validation accuracy: 0.9787                     \n",
      "Epoch 184/300 --> loss: 0.1388 - accuracy: 0.9670 | Validation loss: 0.0824 - Validation accuracy: 0.9787                     \n",
      "Epoch 185/300 --> loss: 0.1333 - accuracy: 0.9679 | Validation loss: 0.0842 - Validation accuracy: 0.9822                     \n",
      "Epoch 186/300 --> loss: 0.1399 - accuracy: 0.9653 | Validation loss: 0.0895 - Validation accuracy: 0.9718                     \n",
      "Epoch 187/300 --> loss: 0.1483 - accuracy: 0.9609 | Validation loss: 0.0849 - Validation accuracy: 0.9856                     \n",
      "Epoch 188/300 --> loss: 0.1384 - accuracy: 0.9714 | Validation loss: 0.0852 - Validation accuracy: 0.9789                     \n",
      "Epoch 189/300 --> loss: 0.1381 - accuracy: 0.9644 | Validation loss: 0.0812 - Validation accuracy: 0.9822                     \n",
      "Epoch 190/300 --> loss: 0.1253 - accuracy: 0.9678 | Validation loss: 0.0878 - Validation accuracy: 0.9822                     \n",
      "Epoch 191/300 --> loss: 0.1126 - accuracy: 0.9765 | Validation loss: 0.0855 - Validation accuracy: 0.9755                     \n",
      "Epoch 192/300 --> loss: 0.1281 - accuracy: 0.9740 | Validation loss: 0.0840 - Validation accuracy: 0.9787                     \n",
      "Epoch 193/300 --> loss: 0.1418 - accuracy: 0.9696 | Validation loss: 0.0777 - Validation accuracy: 0.9891                     \n",
      "Epoch 194/300 --> loss: 0.1254 - accuracy: 0.9679 | Validation loss: 0.0767 - Validation accuracy: 0.9856                     \n",
      "Epoch 195/300 --> loss: 0.1287 - accuracy: 0.9669 | Validation loss: 0.0741 - Validation accuracy: 0.9894                     \n",
      "Epoch 196/300 --> loss: 0.1272 - accuracy: 0.9731 | Validation loss: 0.0797 - Validation accuracy: 0.9824                     \n",
      "Epoch 197/300 --> loss: 0.1031 - accuracy: 0.9800 | Validation loss: 0.0742 - Validation accuracy: 0.9894                     \n",
      "Epoch 198/300 --> loss: 0.1164 - accuracy: 0.9688 | Validation loss: 0.0762 - Validation accuracy: 0.9859                     \n",
      "Epoch 199/300 --> loss: 0.1215 - accuracy: 0.9740 | Validation loss: 0.0729 - Validation accuracy: 0.9931                     \n",
      "Epoch 200/300 --> loss: 0.1362 - accuracy: 0.9670 | Validation loss: 0.0776 - Validation accuracy: 0.9824                     \n",
      "Epoch 201/300 --> loss: 0.1188 - accuracy: 0.9731 | Validation loss: 0.0752 - Validation accuracy: 0.9859                     \n",
      "Epoch 202/300 --> loss: 0.1233 - accuracy: 0.9686 | Validation loss: 0.0727 - Validation accuracy: 0.9787                     \n",
      "Epoch 203/300 --> loss: 0.1109 - accuracy: 0.9731 | Validation loss: 0.0751 - Validation accuracy: 0.9787                     \n",
      "Epoch 204/300 --> loss: 0.1058 - accuracy: 0.9809 | Validation loss: 0.0729 - Validation accuracy: 0.9894                     \n",
      "Epoch 205/300 --> loss: 0.1165 - accuracy: 0.9756 | Validation loss: 0.0742 - Validation accuracy: 0.9894                     \n",
      "Epoch 206/300 --> loss: 0.1137 - accuracy: 0.9688 | Validation loss: 0.0744 - Validation accuracy: 0.9856                     \n",
      "Epoch 207/300 --> loss: 0.1252 - accuracy: 0.9695 | Validation loss: 0.0741 - Validation accuracy: 0.9859                     \n",
      "Epoch 208/300 --> loss: 0.1125 - accuracy: 0.9774 | Validation loss: 0.0730 - Validation accuracy: 0.9856                     \n",
      "Epoch 209/300 --> loss: 0.1044 - accuracy: 0.9800 | Validation loss: 0.0687 - Validation accuracy: 0.9928                     \n",
      "Epoch 210/300 --> loss: 0.1145 - accuracy: 0.9731 | Validation loss: 0.0661 - Validation accuracy: 0.9928                     \n",
      "Epoch 211/300 --> loss: 0.1312 - accuracy: 0.9644 | Validation loss: 0.0657 - Validation accuracy: 0.9894                     \n",
      "Epoch 212/300 --> loss: 0.1056 - accuracy: 0.9757 | Validation loss: 0.0810 - Validation accuracy: 0.9789                     \n",
      "Epoch 213/300 --> loss: 0.1191 - accuracy: 0.9696 | Validation loss: 0.0667 - Validation accuracy: 0.9894                     \n",
      "Epoch 214/300 --> loss: 0.1104 - accuracy: 0.9792 | Validation loss: 0.0640 - Validation accuracy: 0.9928                     \n",
      "Epoch 215/300 --> loss: 0.1071 - accuracy: 0.9766 | Validation loss: 0.0677 - Validation accuracy: 0.9824                     \n",
      "Epoch 216/300 --> loss: 0.1240 - accuracy: 0.9644 | Validation loss: 0.0636 - Validation accuracy: 0.9894                     \n",
      "Epoch 217/300 --> loss: 0.1314 - accuracy: 0.9644 | Validation loss: 0.0672 - Validation accuracy: 0.9822                     \n",
      "Epoch 218/300 --> loss: 0.1192 - accuracy: 0.9644 | Validation loss: 0.0662 - Validation accuracy: 0.9928                     \n",
      "Epoch 219/300 --> loss: 0.1086 - accuracy: 0.9774 | Validation loss: 0.0652 - Validation accuracy: 0.9928                     \n",
      "Epoch 220/300 --> loss: 0.1134 - accuracy: 0.9731 | Validation loss: 0.0674 - Validation accuracy: 0.9894                     \n",
      "Epoch 221/300 --> loss: 0.1121 - accuracy: 0.9722 | Validation loss: 0.0620 - Validation accuracy: 0.9894                     \n",
      "Epoch 222/300 --> loss: 0.1140 - accuracy: 0.9757 | Validation loss: 0.0639 - Validation accuracy: 0.9894                     \n",
      "Epoch 223/300 --> loss: 0.1328 - accuracy: 0.9635 | Validation loss: 0.0707 - Validation accuracy: 0.9856                     \n",
      "Epoch 224/300 --> loss: 0.1031 - accuracy: 0.9722 | Validation loss: 0.0672 - Validation accuracy: 0.9824                     \n",
      "Epoch 225/300 --> loss: 0.1271 - accuracy: 0.9722 | Validation loss: 0.0665 - Validation accuracy: 0.9894                     \n",
      "Epoch 226/300 --> loss: 0.1165 - accuracy: 0.9704 | Validation loss: 0.0609 - Validation accuracy: 0.9928                     \n",
      "Epoch 227/300 --> loss: 0.1007 - accuracy: 0.9792 | Validation loss: 0.0664 - Validation accuracy: 0.9859                     \n",
      "Epoch 228/300 --> loss: 0.1013 - accuracy: 0.9730 | Validation loss: 0.0607 - Validation accuracy: 0.9896                     \n",
      "Epoch 229/300 --> loss: 0.1066 - accuracy: 0.9713 | Validation loss: 0.0620 - Validation accuracy: 0.9894                     \n",
      "Epoch 230/300 --> loss: 0.1148 - accuracy: 0.9696 | Validation loss: 0.0593 - Validation accuracy: 0.9894                     \n",
      "Epoch 231/300 --> loss: 0.1043 - accuracy: 0.9731 | Validation loss: 0.0547 - Validation accuracy: 0.9928                     \n",
      "Epoch 232/300 --> loss: 0.0945 - accuracy: 0.9792 | Validation loss: 0.0589 - Validation accuracy: 0.9894                     \n",
      "Epoch 233/300 --> loss: 0.1035 - accuracy: 0.9756 | Validation loss: 0.0644 - Validation accuracy: 0.9894                     \n",
      "Epoch 234/300 --> loss: 0.1155 - accuracy: 0.9687 | Validation loss: 0.0713 - Validation accuracy: 0.9826                     \n",
      "Epoch 235/300 --> loss: 0.1019 - accuracy: 0.9740 | Validation loss: 0.0669 - Validation accuracy: 0.9824                     \n",
      "Epoch 236/300 --> loss: 0.0928 - accuracy: 0.9809 | Validation loss: 0.0639 - Validation accuracy: 0.9856                     \n",
      "Epoch 237/300 --> loss: 0.0898 - accuracy: 0.9757 | Validation loss: 0.0626 - Validation accuracy: 0.9856                     \n",
      "Epoch 238/300 --> loss: 0.0924 - accuracy: 0.9782 | Validation loss: 0.0651 - Validation accuracy: 0.9856                     \n",
      "Epoch 239/300 --> loss: 0.0791 - accuracy: 0.9835 | Validation loss: 0.0657 - Validation accuracy: 0.9894                     \n",
      "Epoch 240/300 --> loss: 0.0986 - accuracy: 0.9748 | Validation loss: 0.0650 - Validation accuracy: 0.9894                     \n",
      "Epoch 241/300 --> loss: 0.1056 - accuracy: 0.9705 | Validation loss: 0.0619 - Validation accuracy: 0.9859                     \n",
      "Early stopping: stopping training after 241 epochs.\n"
     ]
    }
   ],
   "source": [
    "history = model.fit(\n",
    "    X_train = X_train, \n",
    "    y_train = y_train_encoded,\n",
    "    optimizer = optimizer,\n",
    "    loss_fn = loss_fn,\n",
    "    X_valid = X_valid,\n",
    "    y_valid = y_valid_encoded,\n",
    "    batch_size = batch_size,\n",
    "    epochs = epochs,\n",
    "    metrics = [metrics.accuracy],\n",
    "    callbacks = [callbacks.EarlyStopping(monitor='val_loss', patience=10)]\n",
    ")"
   ]
  },
  {
   "cell_type": "code",
   "execution_count": 12,
   "metadata": {},
   "outputs": [
    {
     "data": {
      "image/png": "[encoded data removed]",
      "text/plain": [
       "<Figure size 800x400 with 1 Axes>"
      ]
     },
     "metadata": {},
     "output_type": "display_data"
    }
   ],
   "source": [
    "# Plot the training and validation loss\n",
    "utils.plot_history(history[\"loss\"], history[\"val_loss\"], \"Training and Validation Loss\", \"Epoch\", \"Loss\")"
   ]
  },
  {
   "cell_type": "markdown",
   "metadata": {},
   "source": [
    "### Model evaluation"
   ]
  },
  {
   "cell_type": "code",
   "execution_count": 13,
   "metadata": {},
   "outputs": [],
   "source": [
    "# Predict the labels\n",
    "predictions = model(X_test)\n",
    "\n",
    "# Apply the argmax function to the predictions\n",
    "predictions = Tensor(np.argmax(predictions.data, axis=1), dtype=np.int8)"
   ]
  },
  {
   "cell_type": "code",
   "execution_count": 14,
   "metadata": {},
   "outputs": [
    {
     "name": "stdout",
     "output_type": "stream",
     "text": [
      "Accuracy: 0.98\n"
     ]
    },
    {
     "data": {
      "image/png": "[encoded data removed]",
      "text/plain": [
       "<Figure size 600x600 with 1 Axes>"
      ]
     },
     "metadata": {},
     "output_type": "display_data"
    }
   ],
   "source": [
    "# Compute the accuracy\n",
    "accuracy = metrics.accuracy(y_test, predictions)\n",
    "confusion_matrix = metrics.confusion_matrix(num_classes, y_test, predictions)\n",
    "\n",
    "# Print the accuracy\n",
    "print(f\"Accuracy: {accuracy.data:.2f}\")\n",
    "\n",
    "# Plot the confusion matrix\n",
    "utils.plot_confusion_matrix(confusion_matrix.data)"
   ]
  }
 ],
 "metadata": {
  "kernelspec": {
   "display_name": "venv",
   "language": "python",
   "name": "python3"
  },
  "language_info": {
   "codemirror_mode": {
    "name": "ipython",
    "version": 3
   },
   "file_extension": ".py",
   "mimetype": "text/x-python",
   "name": "python",
   "nbconvert_exporter": "python",
   "pygments_lexer": "ipython3",
   "version": "3.11.11"
  }
 },
 "nbformat": 4,
 "nbformat_minor": 2
}
