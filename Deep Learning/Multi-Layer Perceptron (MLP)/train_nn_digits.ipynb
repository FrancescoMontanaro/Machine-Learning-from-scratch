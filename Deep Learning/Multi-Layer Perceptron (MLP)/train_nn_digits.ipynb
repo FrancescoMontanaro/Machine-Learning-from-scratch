{
 "cells": [
  {
   "cell_type": "code",
   "execution_count": 1,
   "metadata": {},
   "outputs": [],
   "source": [
    "import sys\n",
    "import numpy as np\n",
    "import matplotlib.pyplot as plt\n",
    "from sklearn.datasets import load_digits\n",
    "\n",
    "# Add the path to the custom library to the system path\n",
    "sys.path.append('..')\n",
    "\n",
    "# Import the module from the custom library\n",
    "from src.core.utils import data_analysis, data_processing, context_manager\n",
    "from src import Tensor, Sequential, layers, activations, loss_functions, optimizers, metrics, callbacks"
   ]
  },
  {
   "cell_type": "markdown",
   "metadata": {},
   "source": [
    "### Constants and Hyperparameters"
   ]
  },
  {
   "cell_type": "code",
   "execution_count": 2,
   "metadata": {},
   "outputs": [],
   "source": [
    "train_test_split_pct = 0.2 # Percentage of samples to use for testing\n",
    "train_valid_split = 0.2 # Percentage of samples to use for validation\n",
    "learning_rate = 1e-4 # Learning rate for the optimizer\n",
    "batch_size = 16 # Number of samples to use for each batch\n",
    "epochs = 300 # Number of epochs to train the model\n",
    "seed = 1234 # Seed for reproducibility"
   ]
  },
  {
   "cell_type": "code",
   "execution_count": 3,
   "metadata": {},
   "outputs": [],
   "source": [
    "# Set the seed for reproducibility\n",
    "np.random.seed(seed)"
   ]
  },
  {
   "cell_type": "markdown",
   "metadata": {},
   "source": [
    "### Data loading"
   ]
  },
  {
   "cell_type": "code",
   "execution_count": 4,
   "metadata": {},
   "outputs": [
    {
     "name": "stdout",
     "output_type": "stream",
     "text": [
      "Number of classes: 10\n",
      "Training set: (1151, 64) (1151,)\n",
      "Validation set: (287, 64) (287,)\n",
      "Testing set: (359, 64) (359,)\n"
     ]
    }
   ],
   "source": [
    "# Load the digits dataset\n",
    "digits = load_digits()\n",
    "\n",
    "# Extract the number of classes in the dataset\n",
    "num_classes = len(np.unique(digits['target'])) # type: ignore\n",
    "\n",
    "# Extract the input and output data\n",
    "data = Tensor(data=digits.get(\"data\", [])) # type: ignore\n",
    "labels = Tensor(data=digits.get(\"target\", []), dtype=np.int8) # type: ignore\n",
    "\n",
    "# Split the dataset into training, validation, and testing sets\n",
    "X_train, X_test, y_train, y_test = data_processing.split_data((data, labels), train_test_split_pct, shuffle=True)\n",
    "X_train, X_valid, y_train, y_valid = data_processing.split_data((X_train, y_train), train_valid_split, shuffle=True)\n",
    "\n",
    "# Print the dataset information\n",
    "print(\"Number of classes:\", num_classes)\n",
    "print('Training set:', X_train.shape(), y_train.shape())\n",
    "print('Validation set:', X_valid.shape(), y_valid.shape())\n",
    "print('Testing set:', X_test.shape(), y_test.shape())"
   ]
  },
  {
   "cell_type": "markdown",
   "metadata": {},
   "source": [
    "### Data Preprocessing"
   ]
  },
  {
   "cell_type": "code",
   "execution_count": 5,
   "metadata": {},
   "outputs": [],
   "source": [
    "# Normalization\n",
    "def normalize(X: Tensor) -> Tensor:\n",
    "    \"\"\"\n",
    "    Normalize the input data by dividing by the maximum value in the training set.\n",
    "    \n",
    "    Parameters:\n",
    "    - X (Tensor): The input data to normalize\n",
    "    \n",
    "    Returns:\n",
    "    - Tensor: The normalized input data\n",
    "    \"\"\"\n",
    "    \n",
    "    # Normalize the input data\n",
    "    return X / 255.0\n",
    "\n",
    "# Normalize the input data\n",
    "X_train = normalize(X_train)\n",
    "X_valid = normalize(X_valid)\n",
    "X_test = normalize(X_test)"
   ]
  },
  {
   "cell_type": "code",
   "execution_count": 6,
   "metadata": {},
   "outputs": [
    {
     "name": "stdout",
     "output_type": "stream",
     "text": [
      "Sample target value: 3\n",
      "One-hot encoded value: Tensor([0 0 0 1 0 0 0 0 0 0], shape=(10,), dtype=int8)\n"
     ]
    }
   ],
   "source": [
    "# Convert the target values to one-hot encoded vectors\n",
    "y_train_encoded = data_processing.one_hot_encoding(y=y_train, n_classes=num_classes)\n",
    "y_valid_encoded = data_processing.one_hot_encoding(y=y_valid, n_classes=num_classes)\n",
    "\n",
    "# Print one sample encoding\n",
    "print(\"Sample target value:\", y_train[0].data)\n",
    "print(\"One-hot encoded value:\", y_train_encoded[0])"
   ]
  },
  {
   "cell_type": "markdown",
   "metadata": {},
   "source": [
    "### Data visualization"
   ]
  },
  {
   "cell_type": "code",
   "execution_count": 7,
   "metadata": {},
   "outputs": [
    {
     "data": {
      "image/png": "[encoded data removed]",
      "text/plain": [
       "<Figure size 2000x500 with 10 Axes>"
      ]
     },
     "metadata": {},
     "output_type": "display_data"
    }
   ],
   "source": [
    "def plot_samples(samples: list[np.ndarray], labels: list[np.ndarray]) -> None:\n",
    "    \"\"\"\n",
    "    Plot the samples in a grid.\n",
    "    \n",
    "    Parameters:\n",
    "    - samples (list[np.ndarray]): The samples to plot\n",
    "    - labels (list[np.ndarray]): The labels of the samples\n",
    "    \"\"\"\n",
    "    \n",
    "    reshaped_samples = []\n",
    "    \n",
    "    # Iterate over the samples\n",
    "    for sample in samples:\n",
    "        # Compute the new shape\n",
    "        new_shape = np.sqrt(sample.shape).astype(int)[0]\n",
    "        \n",
    "        # Reshape the sample\n",
    "        sample = sample.reshape(new_shape, new_shape)\n",
    "        \n",
    "        # Append the reshaped sample\n",
    "        reshaped_samples.append(sample)\n",
    "        \n",
    "    # Plot the samples in a grid\n",
    "    _, axes = plt.subplots(1, len(samples), figsize=(20, 5))\n",
    "    for i, ax in enumerate(axes):\n",
    "        ax.imshow(reshaped_samples[i], cmap='gray')\n",
    "        ax.set_title(f'Label: {labels[i]}')\n",
    "        ax.axis('off')\n",
    "        \n",
    "        \n",
    "# Plot the first 10 samples\n",
    "plot_samples(list(X_train.data[:10]), list(y_train.data[:10]))"
   ]
  },
  {
   "cell_type": "markdown",
   "metadata": {},
   "source": [
    "### Building the model"
   ]
  },
  {
   "cell_type": "code",
   "execution_count": 8,
   "metadata": {},
   "outputs": [],
   "source": [
    "\n",
    "model = Sequential(\n",
    "    name = \"Digits Classifier\",\n",
    "    modules = [\n",
    "        layers.Dense(num_units=24, activation=activations.ReLU()),\n",
    "        layers.BatchNormalization(),\n",
    "        layers.Dropout(rate=0.1),\n",
    "        layers.Dense(num_units=32, activation=activations.ReLU()),\n",
    "        layers.Dropout(rate=0.1),\n",
    "        layers.Dense(num_units=12, activation=activations.Tanh()),\n",
    "        layers.Dropout(rate=0.1),\n",
    "        layers.Dense(num_units=num_classes, activation=activations.Softmax())\n",
    "    ]\n",
    ")\n",
    "\n",
    "# Initialize the optimizer\n",
    "optimizer = optimizers.Adam(learning_rate=learning_rate)\n",
    "\n",
    "# Initialize the loss function\n",
    "loss_fn = loss_functions.CategoricalCrossEntropy()"
   ]
  },
  {
   "cell_type": "markdown",
   "metadata": {},
   "source": [
    "### Initializing the model"
   ]
  },
  {
   "cell_type": "code",
   "execution_count": 9,
   "metadata": {},
   "outputs": [],
   "source": [
    "# Call the model with a first batch to initialize the weights\n",
    "# This is not necessary, but it is useful to know the input size\n",
    "\n",
    "# Disable gradient computation\n",
    "with context_manager.no_grad():\n",
    "    # Set the model in evaluation mode\n",
    "    model.eval()\n",
    "    \n",
    "    # Call the model with a batch of data to initialize it\n",
    "    model(X_train[:batch_size])"
   ]
  },
  {
   "cell_type": "code",
   "execution_count": 10,
   "metadata": {},
   "outputs": [
    {
     "name": "stdout",
     "output_type": "stream",
     "text": [
      "\n",
      "Digits Classifier\n",
      "\n",
      "------------------------------------------------------------------------------------------\n",
      "Module (type)                                     Output Shape        Trainable params #  \n",
      "==========================================================================================\n",
      "digits_classifier.modules.0 (Dense)               (16, 24)            1560                \n",
      "------------------------------------------------------------------------------------------\n",
      "digits_classifier.modules.1 (BatchNormalization)  (16, 24)            48                  \n",
      "------------------------------------------------------------------------------------------\n",
      "digits_classifier.modules.2 (Dropout)             (16, 24)            0                   \n",
      "------------------------------------------------------------------------------------------\n",
      "digits_classifier.modules.3 (Dense)               (16, 32)            800                 \n",
      "------------------------------------------------------------------------------------------\n",
      "digits_classifier.modules.4 (Dropout)             (16, 32)            0                   \n",
      "------------------------------------------------------------------------------------------\n",
      "digits_classifier.modules.5 (Dense)               (16, 12)            396                 \n",
      "------------------------------------------------------------------------------------------\n",
      "digits_classifier.modules.6 (Dropout)             (16, 12)            0                   \n",
      "------------------------------------------------------------------------------------------\n",
      "digits_classifier.modules.7 (Dense)               (16, 10)            130                 \n",
      "==========================================================================================\n",
      "Total trainable parameters: 2934\n",
      "------------------------------------------------------------------------------------------\n"
     ]
    }
   ],
   "source": [
    "# Display the model summary\n",
    "model.summary()"
   ]
  },
  {
   "cell_type": "markdown",
   "metadata": {},
   "source": [
    "### Training the model"
   ]
  },
  {
   "cell_type": "code",
   "execution_count": 11,
   "metadata": {},
   "outputs": [
    {
     "name": "stdout",
     "output_type": "stream",
     "text": [
      "Epoch 1/300 --> loss: 2.2843 - accuracy: 0.1234 | Validation loss: 2.2854 - Validation accuracy: 0.1537                     \n",
      "Epoch 2/300 --> loss: 2.2339 - accuracy: 0.2052 | Validation loss: 2.2013 - Validation accuracy: 0.2931                     \n",
      "Epoch 3/300 --> loss: 2.1892 - accuracy: 0.2805 | Validation loss: 2.1494 - Validation accuracy: 0.3451                     \n",
      "Epoch 4/300 --> loss: 2.1446 - accuracy: 0.3509 | Validation loss: 2.0930 - Validation accuracy: 0.4181                     \n",
      "Epoch 5/300 --> loss: 2.0876 - accuracy: 0.4169 | Validation loss: 2.0367 - Validation accuracy: 0.4704                     \n",
      "Epoch 6/300 --> loss: 2.0341 - accuracy: 0.4736 | Validation loss: 1.9729 - Validation accuracy: 0.5123                     \n",
      "Epoch 7/300 --> loss: 1.9676 - accuracy: 0.5161 | Validation loss: 1.9086 - Validation accuracy: 0.5262                     \n",
      "Epoch 8/300 --> loss: 1.9180 - accuracy: 0.5212 | Validation loss: 1.8481 - Validation accuracy: 0.5440                     \n",
      "Epoch 9/300 --> loss: 1.8566 - accuracy: 0.5499 | Validation loss: 1.7878 - Validation accuracy: 0.5685                     \n",
      "Epoch 10/300 --> loss: 1.7971 - accuracy: 0.5747 | Validation loss: 1.7188 - Validation accuracy: 0.5720                     \n",
      "Epoch 11/300 --> loss: 1.7469 - accuracy: 0.5700 | Validation loss: 1.6567 - Validation accuracy: 0.5928                     \n",
      "Epoch 12/300 --> loss: 1.6758 - accuracy: 0.5908 | Validation loss: 1.6021 - Validation accuracy: 0.5963                     \n",
      "Epoch 13/300 --> loss: 1.6345 - accuracy: 0.6056 | Validation loss: 1.5488 - Validation accuracy: 0.6137                     \n",
      "Epoch 14/300 --> loss: 1.5697 - accuracy: 0.6214 | Validation loss: 1.5052 - Validation accuracy: 0.6102                     \n",
      "Epoch 15/300 --> loss: 1.5355 - accuracy: 0.6317 | Validation loss: 1.4466 - Validation accuracy: 0.6414                     \n",
      "Epoch 16/300 --> loss: 1.4872 - accuracy: 0.6481 | Validation loss: 1.3988 - Validation accuracy: 0.6588                     \n",
      "Epoch 17/300 --> loss: 1.4345 - accuracy: 0.6586 | Validation loss: 1.3616 - Validation accuracy: 0.6866                     \n",
      "Epoch 18/300 --> loss: 1.4098 - accuracy: 0.6664 | Validation loss: 1.3171 - Validation accuracy: 0.7039                     \n",
      "Epoch 19/300 --> loss: 1.3629 - accuracy: 0.6880 | Validation loss: 1.2705 - Validation accuracy: 0.7106                     \n",
      "Epoch 20/300 --> loss: 1.3303 - accuracy: 0.6908 | Validation loss: 1.2335 - Validation accuracy: 0.7144                     \n",
      "Epoch 21/300 --> loss: 1.3049 - accuracy: 0.6881 | Validation loss: 1.1951 - Validation accuracy: 0.7181                     \n",
      "Epoch 22/300 --> loss: 1.2575 - accuracy: 0.6961 | Validation loss: 1.1599 - Validation accuracy: 0.7072                     \n",
      "Epoch 23/300 --> loss: 1.2418 - accuracy: 0.7124 | Validation loss: 1.1233 - Validation accuracy: 0.7280                     \n",
      "Epoch 24/300 --> loss: 1.1865 - accuracy: 0.7140 | Validation loss: 1.0891 - Validation accuracy: 0.7493                     \n",
      "Epoch 25/300 --> loss: 1.1600 - accuracy: 0.7298 | Validation loss: 1.0605 - Validation accuracy: 0.7456                     \n",
      "Epoch 26/300 --> loss: 1.1315 - accuracy: 0.7446 | Validation loss: 1.0266 - Validation accuracy: 0.7563                     \n",
      "Epoch 27/300 --> loss: 1.1259 - accuracy: 0.7402 | Validation loss: 0.9950 - Validation accuracy: 0.7597                     \n",
      "Epoch 28/300 --> loss: 1.0797 - accuracy: 0.7681 | Validation loss: 0.9664 - Validation accuracy: 0.7669                     \n",
      "Epoch 29/300 --> loss: 1.0432 - accuracy: 0.7618 | Validation loss: 0.9429 - Validation accuracy: 0.7738                     \n",
      "Epoch 30/300 --> loss: 1.0282 - accuracy: 0.7550 | Validation loss: 0.9160 - Validation accuracy: 0.7808                     \n",
      "Epoch 31/300 --> loss: 1.0006 - accuracy: 0.7646 | Validation loss: 0.8872 - Validation accuracy: 0.7981                     \n",
      "Epoch 32/300 --> loss: 0.9662 - accuracy: 0.7907 | Validation loss: 0.8600 - Validation accuracy: 0.8016                     \n",
      "Epoch 33/300 --> loss: 0.9682 - accuracy: 0.7898 | Validation loss: 0.8422 - Validation accuracy: 0.8016                     \n",
      "Epoch 34/300 --> loss: 0.9395 - accuracy: 0.7845 | Validation loss: 0.8156 - Validation accuracy: 0.8120                     \n",
      "Epoch 35/300 --> loss: 0.9209 - accuracy: 0.7985 | Validation loss: 0.7917 - Validation accuracy: 0.8294                     \n",
      "Epoch 36/300 --> loss: 0.8815 - accuracy: 0.8218 | Validation loss: 0.7707 - Validation accuracy: 0.8259                     \n",
      "Epoch 37/300 --> loss: 0.8761 - accuracy: 0.8071 | Validation loss: 0.7513 - Validation accuracy: 0.8572                     \n",
      "Epoch 38/300 --> loss: 0.8431 - accuracy: 0.8427 | Validation loss: 0.7285 - Validation accuracy: 0.8502                     \n",
      "Epoch 39/300 --> loss: 0.8110 - accuracy: 0.8341 | Validation loss: 0.7087 - Validation accuracy: 0.8606                     \n",
      "Epoch 40/300 --> loss: 0.8021 - accuracy: 0.8444 | Validation loss: 0.6891 - Validation accuracy: 0.8606                     \n",
      "Epoch 41/300 --> loss: 0.7919 - accuracy: 0.8452 | Validation loss: 0.6723 - Validation accuracy: 0.8850                     \n",
      "Epoch 42/300 --> loss: 0.7901 - accuracy: 0.8391 | Validation loss: 0.6515 - Validation accuracy: 0.8884                     \n",
      "Epoch 43/300 --> loss: 0.7544 - accuracy: 0.8541 | Validation loss: 0.6367 - Validation accuracy: 0.8815                     \n",
      "Epoch 44/300 --> loss: 0.7370 - accuracy: 0.8697 | Validation loss: 0.6253 - Validation accuracy: 0.8884                     \n",
      "Epoch 45/300 --> loss: 0.7250 - accuracy: 0.8661 | Validation loss: 0.6071 - Validation accuracy: 0.8954                     \n",
      "Epoch 46/300 --> loss: 0.7002 - accuracy: 0.8722 | Validation loss: 0.5872 - Validation accuracy: 0.9127                     \n",
      "Epoch 47/300 --> loss: 0.6829 - accuracy: 0.8714 | Validation loss: 0.5722 - Validation accuracy: 0.9093                     \n",
      "Epoch 48/300 --> loss: 0.6891 - accuracy: 0.8818 | Validation loss: 0.5605 - Validation accuracy: 0.9162                     \n",
      "Epoch 49/300 --> loss: 0.6702 - accuracy: 0.8741 | Validation loss: 0.5448 - Validation accuracy: 0.9266                     \n",
      "Epoch 50/300 --> loss: 0.6528 - accuracy: 0.8758 | Validation loss: 0.5277 - Validation accuracy: 0.9405                     \n",
      "Epoch 51/300 --> loss: 0.6429 - accuracy: 0.8923 | Validation loss: 0.5145 - Validation accuracy: 0.9405                     \n",
      "Epoch 52/300 --> loss: 0.6216 - accuracy: 0.8932 | Validation loss: 0.4985 - Validation accuracy: 0.9544                     \n",
      "Epoch 53/300 --> loss: 0.6121 - accuracy: 0.8975 | Validation loss: 0.4926 - Validation accuracy: 0.9301                     \n",
      "Epoch 54/300 --> loss: 0.6075 - accuracy: 0.8906 | Validation loss: 0.4785 - Validation accuracy: 0.9544                     \n",
      "Epoch 55/300 --> loss: 0.5943 - accuracy: 0.9025 | Validation loss: 0.4675 - Validation accuracy: 0.9405                     \n",
      "Epoch 56/300 --> loss: 0.5729 - accuracy: 0.9010 | Validation loss: 0.4576 - Validation accuracy: 0.9509                     \n",
      "Epoch 57/300 --> loss: 0.5556 - accuracy: 0.9183 | Validation loss: 0.4405 - Validation accuracy: 0.9509                     \n",
      "Epoch 58/300 --> loss: 0.5584 - accuracy: 0.9071 | Validation loss: 0.4286 - Validation accuracy: 0.9613                     \n",
      "Epoch 59/300 --> loss: 0.5332 - accuracy: 0.9131 | Validation loss: 0.4230 - Validation accuracy: 0.9475                     \n",
      "Epoch 60/300 --> loss: 0.5429 - accuracy: 0.9044 | Validation loss: 0.4133 - Validation accuracy: 0.9509                     \n",
      "Epoch 61/300 --> loss: 0.5096 - accuracy: 0.9218 | Validation loss: 0.4066 - Validation accuracy: 0.9509                     \n",
      "Epoch 62/300 --> loss: 0.5147 - accuracy: 0.9201 | Validation loss: 0.3997 - Validation accuracy: 0.9579                     \n",
      "Epoch 63/300 --> loss: 0.4925 - accuracy: 0.9226 | Validation loss: 0.3817 - Validation accuracy: 0.9648                     \n",
      "Epoch 64/300 --> loss: 0.4966 - accuracy: 0.9149 | Validation loss: 0.3757 - Validation accuracy: 0.9544                     \n",
      "Epoch 65/300 --> loss: 0.4527 - accuracy: 0.9400 | Validation loss: 0.3697 - Validation accuracy: 0.9683                     \n",
      "Epoch 66/300 --> loss: 0.4680 - accuracy: 0.9243 | Validation loss: 0.3563 - Validation accuracy: 0.9683                     \n",
      "Epoch 67/300 --> loss: 0.4618 - accuracy: 0.9278 | Validation loss: 0.3494 - Validation accuracy: 0.9648                     \n",
      "Epoch 68/300 --> loss: 0.4368 - accuracy: 0.9278 | Validation loss: 0.3437 - Validation accuracy: 0.9683                     \n",
      "Epoch 69/300 --> loss: 0.4456 - accuracy: 0.9245 | Validation loss: 0.3368 - Validation accuracy: 0.9613                     \n",
      "Epoch 70/300 --> loss: 0.4445 - accuracy: 0.9183 | Validation loss: 0.3235 - Validation accuracy: 0.9648                     \n",
      "Epoch 71/300 --> loss: 0.4385 - accuracy: 0.9296 | Validation loss: 0.3230 - Validation accuracy: 0.9718                     \n",
      "Epoch 72/300 --> loss: 0.4373 - accuracy: 0.9192 | Validation loss: 0.3131 - Validation accuracy: 0.9683                     \n",
      "Epoch 73/300 --> loss: 0.4142 - accuracy: 0.9296 | Validation loss: 0.3048 - Validation accuracy: 0.9648                     \n",
      "Epoch 74/300 --> loss: 0.4013 - accuracy: 0.9340 | Validation loss: 0.3033 - Validation accuracy: 0.9613                     \n",
      "Epoch 75/300 --> loss: 0.3823 - accuracy: 0.9418 | Validation loss: 0.2961 - Validation accuracy: 0.9648                     \n",
      "Epoch 76/300 --> loss: 0.3944 - accuracy: 0.9374 | Validation loss: 0.2909 - Validation accuracy: 0.9613                     \n",
      "Epoch 77/300 --> loss: 0.3923 - accuracy: 0.9400 | Validation loss: 0.2820 - Validation accuracy: 0.9683                     \n",
      "Epoch 78/300 --> loss: 0.3923 - accuracy: 0.9219 | Validation loss: 0.2770 - Validation accuracy: 0.9683                     \n",
      "Epoch 79/300 --> loss: 0.3972 - accuracy: 0.9391 | Validation loss: 0.2747 - Validation accuracy: 0.9683                     \n",
      "Epoch 80/300 --> loss: 0.3692 - accuracy: 0.9418 | Validation loss: 0.2675 - Validation accuracy: 0.9683                     \n",
      "Epoch 81/300 --> loss: 0.4045 - accuracy: 0.9201 | Validation loss: 0.2572 - Validation accuracy: 0.9718                     \n",
      "Epoch 82/300 --> loss: 0.3501 - accuracy: 0.9479 | Validation loss: 0.2550 - Validation accuracy: 0.9718                     \n",
      "Epoch 83/300 --> loss: 0.3491 - accuracy: 0.9418 | Validation loss: 0.2477 - Validation accuracy: 0.9718                     \n",
      "Epoch 84/300 --> loss: 0.3537 - accuracy: 0.9365 | Validation loss: 0.2474 - Validation accuracy: 0.9683                     \n",
      "Epoch 85/300 --> loss: 0.3530 - accuracy: 0.9323 | Validation loss: 0.2425 - Validation accuracy: 0.9683                     \n",
      "Epoch 86/300 --> loss: 0.3389 - accuracy: 0.9410 | Validation loss: 0.2408 - Validation accuracy: 0.9648                     \n",
      "Epoch 87/300 --> loss: 0.3315 - accuracy: 0.9436 | Validation loss: 0.2345 - Validation accuracy: 0.9683                     \n",
      "Epoch 88/300 --> loss: 0.3255 - accuracy: 0.9410 | Validation loss: 0.2284 - Validation accuracy: 0.9683                     \n",
      "Epoch 89/300 --> loss: 0.3355 - accuracy: 0.9383 | Validation loss: 0.2243 - Validation accuracy: 0.9720                     \n",
      "Epoch 90/300 --> loss: 0.3178 - accuracy: 0.9521 | Validation loss: 0.2234 - Validation accuracy: 0.9755                     \n",
      "Epoch 91/300 --> loss: 0.2955 - accuracy: 0.9583 | Validation loss: 0.2141 - Validation accuracy: 0.9718                     \n",
      "Epoch 92/300 --> loss: 0.3244 - accuracy: 0.9400 | Validation loss: 0.2103 - Validation accuracy: 0.9718                     \n",
      "Epoch 93/300 --> loss: 0.3151 - accuracy: 0.9391 | Validation loss: 0.2088 - Validation accuracy: 0.9720                     \n",
      "Epoch 94/300 --> loss: 0.3014 - accuracy: 0.9399 | Validation loss: 0.2042 - Validation accuracy: 0.9718                     \n",
      "Epoch 95/300 --> loss: 0.3157 - accuracy: 0.9418 | Validation loss: 0.2010 - Validation accuracy: 0.9755                     \n",
      "Epoch 96/300 --> loss: 0.2964 - accuracy: 0.9462 | Validation loss: 0.2033 - Validation accuracy: 0.9685                     \n",
      "Epoch 97/300 --> loss: 0.2968 - accuracy: 0.9504 | Validation loss: 0.1962 - Validation accuracy: 0.9718                     \n",
      "Epoch 98/300 --> loss: 0.2849 - accuracy: 0.9488 | Validation loss: 0.1946 - Validation accuracy: 0.9683                     \n",
      "Epoch 99/300 --> loss: 0.2934 - accuracy: 0.9436 | Validation loss: 0.1940 - Validation accuracy: 0.9752                     \n",
      "Epoch 100/300 --> loss: 0.2700 - accuracy: 0.9530 | Validation loss: 0.1925 - Validation accuracy: 0.9718                     \n",
      "Epoch 101/300 --> loss: 0.3033 - accuracy: 0.9375 | Validation loss: 0.1850 - Validation accuracy: 0.9752                     \n",
      "Epoch 102/300 --> loss: 0.2733 - accuracy: 0.9557 | Validation loss: 0.1824 - Validation accuracy: 0.9787                     \n",
      "Epoch 103/300 --> loss: 0.2743 - accuracy: 0.9436 | Validation loss: 0.1780 - Validation accuracy: 0.9752                     \n",
      "Epoch 104/300 --> loss: 0.2735 - accuracy: 0.9453 | Validation loss: 0.1763 - Validation accuracy: 0.9718                     \n",
      "Epoch 105/300 --> loss: 0.2632 - accuracy: 0.9523 | Validation loss: 0.1749 - Validation accuracy: 0.9755                     \n",
      "Epoch 106/300 --> loss: 0.2639 - accuracy: 0.9435 | Validation loss: 0.1694 - Validation accuracy: 0.9752                     \n",
      "Epoch 107/300 --> loss: 0.2483 - accuracy: 0.9583 | Validation loss: 0.1666 - Validation accuracy: 0.9752                     \n",
      "Epoch 108/300 --> loss: 0.2527 - accuracy: 0.9566 | Validation loss: 0.1643 - Validation accuracy: 0.9787                     \n",
      "Epoch 109/300 --> loss: 0.2580 - accuracy: 0.9444 | Validation loss: 0.1621 - Validation accuracy: 0.9752                     \n",
      "Epoch 110/300 --> loss: 0.2516 - accuracy: 0.9505 | Validation loss: 0.1614 - Validation accuracy: 0.9752                     \n",
      "Epoch 111/300 --> loss: 0.2514 - accuracy: 0.9566 | Validation loss: 0.1599 - Validation accuracy: 0.9752                     \n",
      "Epoch 112/300 --> loss: 0.2514 - accuracy: 0.9574 | Validation loss: 0.1580 - Validation accuracy: 0.9787                     \n",
      "Epoch 113/300 --> loss: 0.2405 - accuracy: 0.9531 | Validation loss: 0.1569 - Validation accuracy: 0.9787                     \n",
      "Epoch 114/300 --> loss: 0.2344 - accuracy: 0.9557 | Validation loss: 0.1505 - Validation accuracy: 0.9824                     \n",
      "Epoch 115/300 --> loss: 0.2214 - accuracy: 0.9644 | Validation loss: 0.1526 - Validation accuracy: 0.9789                     \n",
      "Epoch 116/300 --> loss: 0.2333 - accuracy: 0.9557 | Validation loss: 0.1559 - Validation accuracy: 0.9755                     \n",
      "Epoch 117/300 --> loss: 0.2113 - accuracy: 0.9627 | Validation loss: 0.1506 - Validation accuracy: 0.9824                     \n",
      "Epoch 118/300 --> loss: 0.2188 - accuracy: 0.9653 | Validation loss: 0.1515 - Validation accuracy: 0.9789                     \n",
      "Epoch 119/300 --> loss: 0.2181 - accuracy: 0.9635 | Validation loss: 0.1401 - Validation accuracy: 0.9787                     \n",
      "Epoch 120/300 --> loss: 0.2243 - accuracy: 0.9531 | Validation loss: 0.1410 - Validation accuracy: 0.9824                     \n",
      "Epoch 121/300 --> loss: 0.2191 - accuracy: 0.9618 | Validation loss: 0.1377 - Validation accuracy: 0.9787                     \n",
      "Epoch 122/300 --> loss: 0.2062 - accuracy: 0.9601 | Validation loss: 0.1383 - Validation accuracy: 0.9861                     \n",
      "Epoch 123/300 --> loss: 0.2227 - accuracy: 0.9566 | Validation loss: 0.1381 - Validation accuracy: 0.9752                     \n",
      "Epoch 124/300 --> loss: 0.2005 - accuracy: 0.9601 | Validation loss: 0.1298 - Validation accuracy: 0.9822                     \n",
      "Epoch 125/300 --> loss: 0.2280 - accuracy: 0.9514 | Validation loss: 0.1334 - Validation accuracy: 0.9822                     \n",
      "Epoch 126/300 --> loss: 0.2030 - accuracy: 0.9678 | Validation loss: 0.1343 - Validation accuracy: 0.9752                     \n",
      "Epoch 127/300 --> loss: 0.2325 - accuracy: 0.9522 | Validation loss: 0.1373 - Validation accuracy: 0.9789                     \n",
      "Epoch 128/300 --> loss: 0.2056 - accuracy: 0.9575 | Validation loss: 0.1324 - Validation accuracy: 0.9787                     \n",
      "Epoch 129/300 --> loss: 0.2027 - accuracy: 0.9566 | Validation loss: 0.1239 - Validation accuracy: 0.9787                     \n",
      "Epoch 130/300 --> loss: 0.1921 - accuracy: 0.9627 | Validation loss: 0.1263 - Validation accuracy: 0.9824                     \n",
      "Epoch 131/300 --> loss: 0.2091 - accuracy: 0.9600 | Validation loss: 0.1283 - Validation accuracy: 0.9787                     \n",
      "Epoch 132/300 --> loss: 0.1867 - accuracy: 0.9687 | Validation loss: 0.1241 - Validation accuracy: 0.9787                     \n",
      "Epoch 133/300 --> loss: 0.1785 - accuracy: 0.9635 | Validation loss: 0.1244 - Validation accuracy: 0.9822                     \n",
      "Epoch 134/300 --> loss: 0.1928 - accuracy: 0.9617 | Validation loss: 0.1242 - Validation accuracy: 0.9789                     \n",
      "Epoch 135/300 --> loss: 0.1839 - accuracy: 0.9714 | Validation loss: 0.1172 - Validation accuracy: 0.9822                     \n",
      "Epoch 136/300 --> loss: 0.1887 - accuracy: 0.9626 | Validation loss: 0.1164 - Validation accuracy: 0.9859                     \n",
      "Epoch 137/300 --> loss: 0.1699 - accuracy: 0.9679 | Validation loss: 0.1188 - Validation accuracy: 0.9826                     \n",
      "Epoch 138/300 --> loss: 0.1922 - accuracy: 0.9618 | Validation loss: 0.1147 - Validation accuracy: 0.9822                     \n",
      "Epoch 139/300 --> loss: 0.1831 - accuracy: 0.9566 | Validation loss: 0.1171 - Validation accuracy: 0.9826                     \n",
      "Epoch 140/300 --> loss: 0.1923 - accuracy: 0.9627 | Validation loss: 0.1122 - Validation accuracy: 0.9824                     \n",
      "Epoch 141/300 --> loss: 0.1912 - accuracy: 0.9591 | Validation loss: 0.1068 - Validation accuracy: 0.9822                     \n",
      "Epoch 142/300 --> loss: 0.1672 - accuracy: 0.9668 | Validation loss: 0.1069 - Validation accuracy: 0.9822                     \n",
      "Epoch 143/300 --> loss: 0.1796 - accuracy: 0.9618 | Validation loss: 0.1046 - Validation accuracy: 0.9859                     \n",
      "Epoch 144/300 --> loss: 0.1775 - accuracy: 0.9600 | Validation loss: 0.1032 - Validation accuracy: 0.9896                     \n",
      "Epoch 145/300 --> loss: 0.1748 - accuracy: 0.9609 | Validation loss: 0.1054 - Validation accuracy: 0.9787                     \n",
      "Epoch 146/300 --> loss: 0.1859 - accuracy: 0.9583 | Validation loss: 0.1028 - Validation accuracy: 0.9826                     \n",
      "Epoch 147/300 --> loss: 0.1786 - accuracy: 0.9583 | Validation loss: 0.1063 - Validation accuracy: 0.9789                     \n",
      "Epoch 148/300 --> loss: 0.1668 - accuracy: 0.9688 | Validation loss: 0.1005 - Validation accuracy: 0.9789                     \n",
      "Epoch 149/300 --> loss: 0.1717 - accuracy: 0.9626 | Validation loss: 0.1010 - Validation accuracy: 0.9859                     \n",
      "Epoch 150/300 --> loss: 0.1569 - accuracy: 0.9627 | Validation loss: 0.0987 - Validation accuracy: 0.9896                     \n",
      "Epoch 151/300 --> loss: 0.1890 - accuracy: 0.9540 | Validation loss: 0.1007 - Validation accuracy: 0.9824                     \n",
      "Epoch 152/300 --> loss: 0.1783 - accuracy: 0.9617 | Validation loss: 0.0998 - Validation accuracy: 0.9755                     \n",
      "Epoch 153/300 --> loss: 0.1611 - accuracy: 0.9678 | Validation loss: 0.0997 - Validation accuracy: 0.9824                     \n",
      "Epoch 154/300 --> loss: 0.1646 - accuracy: 0.9644 | Validation loss: 0.1024 - Validation accuracy: 0.9752                     \n",
      "Epoch 155/300 --> loss: 0.1630 - accuracy: 0.9670 | Validation loss: 0.0959 - Validation accuracy: 0.9859                     \n",
      "Epoch 156/300 --> loss: 0.1653 - accuracy: 0.9644 | Validation loss: 0.0994 - Validation accuracy: 0.9824                     \n",
      "Epoch 157/300 --> loss: 0.1632 - accuracy: 0.9626 | Validation loss: 0.0952 - Validation accuracy: 0.9824                     \n",
      "Epoch 158/300 --> loss: 0.1565 - accuracy: 0.9688 | Validation loss: 0.0946 - Validation accuracy: 0.9896                     \n",
      "Epoch 159/300 --> loss: 0.1538 - accuracy: 0.9714 | Validation loss: 0.0947 - Validation accuracy: 0.9824                     \n",
      "Epoch 160/300 --> loss: 0.1396 - accuracy: 0.9731 | Validation loss: 0.0940 - Validation accuracy: 0.9787                     \n",
      "Epoch 161/300 --> loss: 0.1544 - accuracy: 0.9643 | Validation loss: 0.0949 - Validation accuracy: 0.9752                     \n",
      "Epoch 162/300 --> loss: 0.1472 - accuracy: 0.9705 | Validation loss: 0.0928 - Validation accuracy: 0.9856                     \n",
      "Epoch 163/300 --> loss: 0.1334 - accuracy: 0.9722 | Validation loss: 0.0950 - Validation accuracy: 0.9861                     \n",
      "Epoch 164/300 --> loss: 0.1536 - accuracy: 0.9687 | Validation loss: 0.0946 - Validation accuracy: 0.9859                     \n",
      "Epoch 165/300 --> loss: 0.1473 - accuracy: 0.9730 | Validation loss: 0.0960 - Validation accuracy: 0.9789                     \n",
      "Epoch 166/300 --> loss: 0.1645 - accuracy: 0.9609 | Validation loss: 0.0948 - Validation accuracy: 0.9787                     \n",
      "Epoch 167/300 --> loss: 0.1552 - accuracy: 0.9644 | Validation loss: 0.0974 - Validation accuracy: 0.9720                     \n",
      "Epoch 168/300 --> loss: 0.1243 - accuracy: 0.9765 | Validation loss: 0.0910 - Validation accuracy: 0.9824                     \n",
      "Epoch 169/300 --> loss: 0.1382 - accuracy: 0.9766 | Validation loss: 0.0873 - Validation accuracy: 0.9822                     \n",
      "Epoch 170/300 --> loss: 0.1392 - accuracy: 0.9660 | Validation loss: 0.0884 - Validation accuracy: 0.9787                     \n",
      "Epoch 171/300 --> loss: 0.1422 - accuracy: 0.9653 | Validation loss: 0.0897 - Validation accuracy: 0.9826                     \n",
      "Epoch 172/300 --> loss: 0.1407 - accuracy: 0.9670 | Validation loss: 0.0887 - Validation accuracy: 0.9752                     \n",
      "Epoch 173/300 --> loss: 0.1377 - accuracy: 0.9757 | Validation loss: 0.0834 - Validation accuracy: 0.9859                     \n",
      "Epoch 174/300 --> loss: 0.1483 - accuracy: 0.9635 | Validation loss: 0.0877 - Validation accuracy: 0.9755                     \n",
      "Epoch 175/300 --> loss: 0.1716 - accuracy: 0.9547 | Validation loss: 0.0845 - Validation accuracy: 0.9824                     \n",
      "Epoch 176/300 --> loss: 0.1292 - accuracy: 0.9722 | Validation loss: 0.0921 - Validation accuracy: 0.9755                     \n",
      "Epoch 177/300 --> loss: 0.1253 - accuracy: 0.9740 | Validation loss: 0.0874 - Validation accuracy: 0.9752                     \n",
      "Epoch 178/300 --> loss: 0.1417 - accuracy: 0.9661 | Validation loss: 0.0825 - Validation accuracy: 0.9826                     \n",
      "Epoch 179/300 --> loss: 0.1510 - accuracy: 0.9644 | Validation loss: 0.0788 - Validation accuracy: 0.9931                     \n",
      "Epoch 180/300 --> loss: 0.1414 - accuracy: 0.9652 | Validation loss: 0.0802 - Validation accuracy: 0.9822                     \n",
      "Epoch 181/300 --> loss: 0.1452 - accuracy: 0.9696 | Validation loss: 0.0853 - Validation accuracy: 0.9824                     \n",
      "Epoch 182/300 --> loss: 0.1338 - accuracy: 0.9687 | Validation loss: 0.0804 - Validation accuracy: 0.9826                     \n",
      "Epoch 183/300 --> loss: 0.1216 - accuracy: 0.9748 | Validation loss: 0.0815 - Validation accuracy: 0.9787                     \n",
      "Epoch 184/300 --> loss: 0.1372 - accuracy: 0.9678 | Validation loss: 0.0795 - Validation accuracy: 0.9787                     \n",
      "Epoch 185/300 --> loss: 0.1324 - accuracy: 0.9670 | Validation loss: 0.0815 - Validation accuracy: 0.9859                     \n",
      "Epoch 186/300 --> loss: 0.1400 - accuracy: 0.9635 | Validation loss: 0.0877 - Validation accuracy: 0.9718                     \n",
      "Epoch 187/300 --> loss: 0.1461 - accuracy: 0.9617 | Validation loss: 0.0828 - Validation accuracy: 0.9822                     \n",
      "Epoch 188/300 --> loss: 0.1373 - accuracy: 0.9705 | Validation loss: 0.0830 - Validation accuracy: 0.9824                     \n",
      "Epoch 189/300 --> loss: 0.1369 - accuracy: 0.9661 | Validation loss: 0.0780 - Validation accuracy: 0.9822                     \n",
      "Epoch 190/300 --> loss: 0.1244 - accuracy: 0.9687 | Validation loss: 0.0845 - Validation accuracy: 0.9822                     \n",
      "Epoch 191/300 --> loss: 0.1111 - accuracy: 0.9774 | Validation loss: 0.0814 - Validation accuracy: 0.9824                     \n",
      "Epoch 192/300 --> loss: 0.1267 - accuracy: 0.9748 | Validation loss: 0.0805 - Validation accuracy: 0.9856                     \n",
      "Epoch 193/300 --> loss: 0.1414 - accuracy: 0.9705 | Validation loss: 0.0747 - Validation accuracy: 0.9856                     \n",
      "Epoch 194/300 --> loss: 0.1242 - accuracy: 0.9688 | Validation loss: 0.0735 - Validation accuracy: 0.9891                     \n",
      "Epoch 195/300 --> loss: 0.1280 - accuracy: 0.9660 | Validation loss: 0.0709 - Validation accuracy: 0.9856                     \n",
      "Epoch 196/300 --> loss: 0.1258 - accuracy: 0.9731 | Validation loss: 0.0759 - Validation accuracy: 0.9824                     \n",
      "Epoch 197/300 --> loss: 0.1024 - accuracy: 0.9792 | Validation loss: 0.0706 - Validation accuracy: 0.9894                     \n",
      "Epoch 198/300 --> loss: 0.1165 - accuracy: 0.9670 | Validation loss: 0.0737 - Validation accuracy: 0.9859                     \n",
      "Epoch 199/300 --> loss: 0.1204 - accuracy: 0.9731 | Validation loss: 0.0693 - Validation accuracy: 0.9965                     \n",
      "Epoch 200/300 --> loss: 0.1355 - accuracy: 0.9688 | Validation loss: 0.0737 - Validation accuracy: 0.9859                     \n",
      "Epoch 201/300 --> loss: 0.1186 - accuracy: 0.9740 | Validation loss: 0.0722 - Validation accuracy: 0.9859                     \n",
      "Epoch 202/300 --> loss: 0.1229 - accuracy: 0.9704 | Validation loss: 0.0699 - Validation accuracy: 0.9822                     \n",
      "Epoch 203/300 --> loss: 0.1098 - accuracy: 0.9722 | Validation loss: 0.0716 - Validation accuracy: 0.9822                     \n",
      "Epoch 204/300 --> loss: 0.1047 - accuracy: 0.9818 | Validation loss: 0.0691 - Validation accuracy: 0.9894                     \n",
      "Epoch 205/300 --> loss: 0.1155 - accuracy: 0.9765 | Validation loss: 0.0704 - Validation accuracy: 0.9894                     \n",
      "Epoch 206/300 --> loss: 0.1124 - accuracy: 0.9705 | Validation loss: 0.0706 - Validation accuracy: 0.9856                     \n",
      "Epoch 207/300 --> loss: 0.1243 - accuracy: 0.9686 | Validation loss: 0.0700 - Validation accuracy: 0.9859                     \n",
      "Epoch 208/300 --> loss: 0.1118 - accuracy: 0.9774 | Validation loss: 0.0686 - Validation accuracy: 0.9891                     \n",
      "Epoch 209/300 --> loss: 0.1042 - accuracy: 0.9809 | Validation loss: 0.0657 - Validation accuracy: 0.9928                     \n",
      "Epoch 210/300 --> loss: 0.1144 - accuracy: 0.9748 | Validation loss: 0.0616 - Validation accuracy: 0.9928                     \n",
      "Epoch 211/300 --> loss: 0.1300 - accuracy: 0.9652 | Validation loss: 0.0617 - Validation accuracy: 0.9928                     \n",
      "Epoch 212/300 --> loss: 0.1045 - accuracy: 0.9757 | Validation loss: 0.0785 - Validation accuracy: 0.9789                     \n",
      "Epoch 213/300 --> loss: 0.1184 - accuracy: 0.9705 | Validation loss: 0.0647 - Validation accuracy: 0.9894                     \n",
      "Epoch 214/300 --> loss: 0.1104 - accuracy: 0.9809 | Validation loss: 0.0617 - Validation accuracy: 0.9928                     \n",
      "Epoch 215/300 --> loss: 0.1071 - accuracy: 0.9757 | Validation loss: 0.0641 - Validation accuracy: 0.9824                     \n",
      "Epoch 216/300 --> loss: 0.1238 - accuracy: 0.9635 | Validation loss: 0.0614 - Validation accuracy: 0.9928                     \n",
      "Epoch 217/300 --> loss: 0.1315 - accuracy: 0.9661 | Validation loss: 0.0640 - Validation accuracy: 0.9856                     \n",
      "Epoch 218/300 --> loss: 0.1187 - accuracy: 0.9635 | Validation loss: 0.0642 - Validation accuracy: 0.9928                     \n",
      "Epoch 219/300 --> loss: 0.1078 - accuracy: 0.9766 | Validation loss: 0.0621 - Validation accuracy: 0.9928                     \n",
      "Epoch 220/300 --> loss: 0.1121 - accuracy: 0.9731 | Validation loss: 0.0657 - Validation accuracy: 0.9894                     \n",
      "Epoch 221/300 --> loss: 0.1112 - accuracy: 0.9714 | Validation loss: 0.0604 - Validation accuracy: 0.9965                     \n",
      "Epoch 222/300 --> loss: 0.1146 - accuracy: 0.9731 | Validation loss: 0.0604 - Validation accuracy: 0.9931                     \n",
      "Epoch 223/300 --> loss: 0.1321 - accuracy: 0.9644 | Validation loss: 0.0679 - Validation accuracy: 0.9822                     \n",
      "Epoch 224/300 --> loss: 0.1023 - accuracy: 0.9731 | Validation loss: 0.0635 - Validation accuracy: 0.9824                     \n",
      "Epoch 225/300 --> loss: 0.1272 - accuracy: 0.9731 | Validation loss: 0.0641 - Validation accuracy: 0.9894                     \n",
      "Epoch 226/300 --> loss: 0.1161 - accuracy: 0.9722 | Validation loss: 0.0584 - Validation accuracy: 0.9928                     \n",
      "Epoch 227/300 --> loss: 0.1008 - accuracy: 0.9783 | Validation loss: 0.0622 - Validation accuracy: 0.9859                     \n",
      "Epoch 228/300 --> loss: 0.0989 - accuracy: 0.9748 | Validation loss: 0.0570 - Validation accuracy: 0.9896                     \n",
      "Epoch 229/300 --> loss: 0.1072 - accuracy: 0.9704 | Validation loss: 0.0571 - Validation accuracy: 0.9894                     \n",
      "Epoch 230/300 --> loss: 0.1132 - accuracy: 0.9714 | Validation loss: 0.0564 - Validation accuracy: 0.9928                     \n",
      "Epoch 231/300 --> loss: 0.1030 - accuracy: 0.9748 | Validation loss: 0.0530 - Validation accuracy: 0.9928                     \n",
      "Epoch 232/300 --> loss: 0.0961 - accuracy: 0.9792 | Validation loss: 0.0539 - Validation accuracy: 0.9894                     \n",
      "Epoch 233/300 --> loss: 0.1014 - accuracy: 0.9738 | Validation loss: 0.0619 - Validation accuracy: 0.9894                     \n",
      "Epoch 234/300 --> loss: 0.1162 - accuracy: 0.9687 | Validation loss: 0.0697 - Validation accuracy: 0.9826                     \n",
      "Epoch 235/300 --> loss: 0.1019 - accuracy: 0.9731 | Validation loss: 0.0636 - Validation accuracy: 0.9824                     \n",
      "Epoch 236/300 --> loss: 0.0920 - accuracy: 0.9800 | Validation loss: 0.0618 - Validation accuracy: 0.9856                     \n",
      "Epoch 237/300 --> loss: 0.0900 - accuracy: 0.9740 | Validation loss: 0.0599 - Validation accuracy: 0.9856                     \n",
      "Epoch 238/300 --> loss: 0.0919 - accuracy: 0.9791 | Validation loss: 0.0623 - Validation accuracy: 0.9856                     \n",
      "Epoch 239/300 --> loss: 0.0790 - accuracy: 0.9818 | Validation loss: 0.0630 - Validation accuracy: 0.9894                     \n",
      "Epoch 240/300 --> loss: 0.0979 - accuracy: 0.9740 | Validation loss: 0.0620 - Validation accuracy: 0.9894                     \n",
      "Epoch 241/300 --> loss: 0.1046 - accuracy: 0.9731 | Validation loss: 0.0597 - Validation accuracy: 0.9894                     \n",
      "Early stopping: stopping training after 241 epochs.\n"
     ]
    }
   ],
   "source": [
    "history = model.fit(\n",
    "    X_train = X_train, \n",
    "    y_train = y_train_encoded,\n",
    "    optimizer = optimizer,\n",
    "    loss_fn = loss_fn,\n",
    "    X_valid = X_valid,\n",
    "    y_valid = y_valid_encoded,\n",
    "    batch_size = batch_size,\n",
    "    epochs = epochs,\n",
    "    metrics = [metrics.accuracy],\n",
    "    callbacks = [callbacks.EarlyStopping(monitor='val_loss', patience=10)]\n",
    ")"
   ]
  },
  {
   "cell_type": "code",
   "execution_count": 12,
   "metadata": {},
   "outputs": [
    {
     "data": {
      "image/png": "[encoded data removed]",
      "text/plain": [
       "<Figure size 800x400 with 1 Axes>"
      ]
     },
     "metadata": {},
     "output_type": "display_data"
    }
   ],
   "source": [
    "# Plot the training and validation loss\n",
    "data_analysis.plot_history(history[\"loss\"], history[\"val_loss\"], \"Training and Validation Loss\", \"Epoch\", \"Loss\")"
   ]
  },
  {
   "cell_type": "markdown",
   "metadata": {},
   "source": [
    "### Model evaluation"
   ]
  },
  {
   "cell_type": "code",
   "execution_count": 13,
   "metadata": {},
   "outputs": [],
   "source": [
    "# Disable gradient computation\n",
    "with context_manager.no_grad():\n",
    "    # Set the model in evaluation mode\n",
    "    model.eval()\n",
    "    \n",
    "    # Compute the predictions\n",
    "    predictions = model(X_test)\n",
    "\n",
    "# Apply the argmax function to the predictions\n",
    "predictions = Tensor(np.argmax(predictions.data, axis=1), dtype=np.int8)"
   ]
  },
  {
   "cell_type": "code",
   "execution_count": 14,
   "metadata": {},
   "outputs": [
    {
     "name": "stdout",
     "output_type": "stream",
     "text": [
      "Accuracy: 0.98\n"
     ]
    },
    {
     "data": {
      "image/png": "[encoded data removed]",
      "text/plain": [
       "<Figure size 600x600 with 1 Axes>"
      ]
     },
     "metadata": {},
     "output_type": "display_data"
    }
   ],
   "source": [
    "# Compute the accuracy\n",
    "accuracy = metrics.accuracy(y_test, predictions)\n",
    "confusion_matrix = metrics.confusion_matrix(num_classes, y_test, predictions)\n",
    "\n",
    "# Print the accuracy\n",
    "print(f\"Accuracy: {accuracy.data:.2f}\")\n",
    "\n",
    "# Plot the confusion matrix\n",
    "data_analysis.plot_confusion_matrix(confusion_matrix.data)"
   ]
  }
 ],
 "metadata": {
  "kernelspec": {
   "display_name": "venv",
   "language": "python",
   "name": "python3"
  },
  "language_info": {
   "codemirror_mode": {
    "name": "ipython",
    "version": 3
   },
   "file_extension": ".py",
   "mimetype": "text/x-python",
   "name": "python",
   "nbconvert_exporter": "python",
   "pygments_lexer": "ipython3",
   "version": "3.11.11"
  }
 },
 "nbformat": 4,
 "nbformat_minor": 2
}
