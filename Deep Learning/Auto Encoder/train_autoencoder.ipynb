{
 "cells": [
  {
   "cell_type": "code",
   "execution_count": 1,
   "metadata": {},
   "outputs": [],
   "source": [
    "import sys\n",
    "import numpy as np\n",
    "import tensorflow as tf\n",
    "from typing import Optional\n",
    "import matplotlib.pyplot as plt\n",
    "from sklearn.model_selection import train_test_split\n",
    "\n",
    "# Add the path to the custom library to the system path\n",
    "sys.path.append('..')\n",
    "\n",
    "# Import the module from the custom library\n",
    "from src import utils\n",
    "from src import Model\n",
    "from src import layers\n",
    "from src import callbacks\n",
    "from src import optimizers\n",
    "from src import activations\n",
    "from src import loss_functions"
   ]
  },
  {
   "cell_type": "markdown",
   "metadata": {},
   "source": [
    "### Constants and hyperparameters"
   ]
  },
  {
   "cell_type": "code",
   "execution_count": 2,
   "metadata": {},
   "outputs": [],
   "source": [
    "n_samples = 1000 # Number of samples to generate\n",
    "train_test_split_pct = 0.2 # Percentage of samples to use for testing\n",
    "train_valid_split = 0.2 # Percentage of samples to use for validation\n",
    "learning_rate = 1e-03 # Learning rate for the optimizer\n",
    "batch_size = 512 # Number of samples to use for each batch\n",
    "epochs = 300 # Number of epochs to train the model\n",
    "seed = 1234 # Seed for reproducibility\n",
    "data_noise = 0.15 # Noise to add to the data"
   ]
  },
  {
   "cell_type": "code",
   "execution_count": 3,
   "metadata": {},
   "outputs": [],
   "source": [
    "# Set the seed for reproducibility\n",
    "np.random.seed(seed)"
   ]
  },
  {
   "cell_type": "markdown",
   "metadata": {},
   "source": [
    "### Data loading"
   ]
  },
  {
   "cell_type": "code",
   "execution_count": 4,
   "metadata": {},
   "outputs": [
    {
     "name": "stdout",
     "output_type": "stream",
     "text": [
      "Number of classes: 10\n",
      "Training set: (48000, 28, 28, 1) (48000,)\n",
      "Validation set: (12000, 28, 28, 1) (12000,)\n",
      "Testing set: (10000, 28, 28, 1) (10000,)\n"
     ]
    }
   ],
   "source": [
    "# Load the dataset\n",
    "(X_train, y_train), (X_test, y_test) = tf.keras.datasets.mnist.load_data() # type: ignore\n",
    "\n",
    "# Add a channel dimension to the images\n",
    "X_train = np.expand_dims(X_train, axis=-1) # type: ignore\n",
    "X_test = np.expand_dims(X_test, axis=-1) # type: ignore\n",
    "\n",
    "# Extract the number of classes in the dataset\n",
    "num_classes = len(np.unique(y_train)) # type: ignore\n",
    "\n",
    "# Split the training set into training and validation sets\n",
    "X_train, X_valid, y_train, y_valid = train_test_split(X_train, y_train, test_size=train_valid_split, random_state=seed) # type: ignore\n",
    "\n",
    "# Print the dataset information\n",
    "print(\"Number of classes:\", num_classes)\n",
    "print('Training set:', X_train.shape, y_train.shape)\n",
    "print('Validation set:', X_valid.shape, y_valid.shape)\n",
    "print('Testing set:', X_test.shape, y_test.shape)"
   ]
  },
  {
   "cell_type": "markdown",
   "metadata": {},
   "source": [
    "### Data processing"
   ]
  },
  {
   "cell_type": "code",
   "execution_count": 5,
   "metadata": {},
   "outputs": [],
   "source": [
    "# Normalization\n",
    "def normalize(X: np.ndarray) -> np.ndarray:\n",
    "    \"\"\"\n",
    "    Normalize the input data by dividing by the maximum value in the training set.\n",
    "    \n",
    "    Parameters:\n",
    "    - X (np.ndarray): The input data to normalize\n",
    "\n",
    "    Returns:\n",
    "    - np.ndarray: The normalized input data\n",
    "    \"\"\"\n",
    "    \n",
    "    # Normalize the input data\n",
    "    return X / 255.0\n",
    "\n",
    "# Normalize the input data\n",
    "X_train = normalize(X_train)\n",
    "X_valid = normalize(X_valid)\n",
    "X_test = normalize(X_test)"
   ]
  },
  {
   "cell_type": "code",
   "execution_count": 6,
   "metadata": {},
   "outputs": [],
   "source": [
    "# Flatten the input data\n",
    "X_train_flatten = X_train.reshape(X_train.shape[0], -1)\n",
    "X_valid_flatten = X_valid.reshape(X_valid.shape[0], -1)\n",
    "X_test_flatten = X_test.reshape(X_test.shape[0], -1)"
   ]
  },
  {
   "cell_type": "markdown",
   "metadata": {},
   "source": [
    "### Data visualization"
   ]
  },
  {
   "cell_type": "code",
   "execution_count": 7,
   "metadata": {},
   "outputs": [
    {
     "data": {
      "image/png": "[encoded data removed]",
      "text/plain": [
       "<Figure size 2000x500 with 10 Axes>"
      ]
     },
     "metadata": {},
     "output_type": "display_data"
    }
   ],
   "source": [
    "def plot_samples(samples: list[np.ndarray], labels: Optional[list[np.ndarray]] = None) -> None:\n",
    "    \"\"\"\n",
    "    Plot the samples in a grid.\n",
    "    \n",
    "    Parameters:\n",
    "    - samples (list[np.ndarray]): The samples to plot\n",
    "    - labels (list[np.ndarray]): The labels of the samples\n",
    "    \"\"\"\n",
    "        \n",
    "    # Plot the samples in a grid\n",
    "    _, axes = plt.subplots(1, len(samples), figsize=(20, 5))\n",
    "    \n",
    "    # Ensure axes is always iterable\n",
    "    if len(samples) == 1:\n",
    "        axes = [axes]\n",
    "        \n",
    "    # Iterate through the samples\n",
    "    for i, ax in enumerate(axes):\n",
    "        ax.imshow(samples[i], cmap='gray')\n",
    "        ax.axis('off')\n",
    "        if isinstance(labels, np.ndarray): \n",
    "            ax.set_title(f'Label: {labels[i]}')\n",
    "        \n",
    "# Plot the first 10 samples\n",
    "plot_samples(list(X_train[:10]), y_train[:10])"
   ]
  },
  {
   "cell_type": "code",
   "execution_count": null,
   "metadata": {},
   "outputs": [],
   "source": [
    "# Define the dimension of the latent space\n",
    "latent_dim = 32\n",
    "\n",
    "# Create the encoder\n",
    "encoder = Model(\n",
    "    name = 'Encoder',\n",
    "    modules = [\n",
    "        layers.Input(shape=X_train_flatten.shape[1:]),\n",
    "        layers.Dense(num_units=128, activation=activations.ReLU()),\n",
    "        layers.Dense(num_units=64, activation=activations.ReLU()),\n",
    "        layers.Dense(num_units=latent_dim, activation=activations.ReLU(), name='Latent'),\n",
    "    ]\n",
    ")\n",
    "\n",
    "# Create the decoder\n",
    "decoder = Model(\n",
    "    name = 'Decoder',\n",
    "    modules = [\n",
    "        layers.Input(shape=(latent_dim,), name='Latent'),\n",
    "        layers.Dense(num_units=64, activation=activations.ReLU()),\n",
    "        layers.Dense(num_units=128, activation=activations.ReLU()),\n",
    "        layers.Dense(num_units=X_train_flatten.shape[1], activation=activations.Sigmoid())\n",
    "    ]\n",
    ")\n",
    "\n",
    "# Create the auto-encoder\n",
    "autoencoder = Model(\n",
    "    name = 'Autoencoder',\n",
    "    modules = [\n",
    "        encoder,\n",
    "        decoder\n",
    "    ]\n",
    ")\n",
    "\n",
    "# Initialize the optimizer\n",
    "optimizer = optimizers.Adam(learning_rate)\n",
    "\n",
    "# Initialize the loss function\n",
    "loss_fn = loss_functions.BinaryCrossEntropy()"
   ]
  },
  {
   "cell_type": "code",
   "execution_count": 9,
   "metadata": {},
   "outputs": [],
   "source": [
    "# Call the model with a first batch to initialize the weights\n",
    "# This is not necessary, but it is useful to know the input size\n",
    "autoencoder(X_train_flatten[:batch_size]);"
   ]
  },
  {
   "cell_type": "code",
   "execution_count": 10,
   "metadata": {},
   "outputs": [
    {
     "name": "stdout",
     "output_type": "stream",
     "text": [
      "\n",
      "Encoder (ID: 0)\n",
      "\n",
      "--------------------------------------------------------------------------------\n",
      "Module (type)                           Output Shape        Trainable params #  \n",
      "================================================================================\n",
      "input_1 (Input)                         (512, 784)          0                   \n",
      "--------------------------------------------------------------------------------\n",
      "dense_2 (Dense)                         (512, 128)          100480              \n",
      "--------------------------------------------------------------------------------\n",
      "dense_3 (Dense)                         (512, 64)           8256                \n",
      "--------------------------------------------------------------------------------\n",
      "Latent (Dense)                          (512, 32)           2080                \n",
      "================================================================================\n",
      "Total trainable parameters: 110816\n",
      "--------------------------------------------------------------------------------\n",
      "\n",
      "Decoder (ID: 1)\n",
      "\n",
      "--------------------------------------------------------------------------------\n",
      "Module (type)                           Output Shape        Trainable params #  \n",
      "================================================================================\n",
      "Latent (Input)                          (512, 32)           0                   \n",
      "--------------------------------------------------------------------------------\n",
      "dense_2 (Dense)                         (512, 64)           2112                \n",
      "--------------------------------------------------------------------------------\n",
      "dense_3 (Dense)                         (512, 128)          8320                \n",
      "--------------------------------------------------------------------------------\n",
      "dense_4 (Dense)                         (512, 784)          101136              \n",
      "================================================================================\n",
      "Total trainable parameters: 111568\n",
      "--------------------------------------------------------------------------------\n",
      "\n",
      "Autoencoder (ID: 2)\n",
      "\n",
      "--------------------------------------------------------------------------------\n",
      "Module (type)                           Output Shape        Trainable params #  \n",
      "================================================================================\n",
      "Encoder (Model)                         (512, 32)           110816              \n",
      "--------------------------------------------------------------------------------\n",
      "Decoder (Model)                         (512, 784)          111568              \n",
      "================================================================================\n",
      "Total trainable parameters: 222384\n",
      "--------------------------------------------------------------------------------\n"
     ]
    }
   ],
   "source": [
    "# Display the encoder summary\n",
    "encoder.summary()\n",
    "\n",
    "# Display the decoder summary\n",
    "decoder.summary()\n",
    "\n",
    "# Display the model summary\n",
    "autoencoder.summary()"
   ]
  },
  {
   "cell_type": "markdown",
   "metadata": {},
   "source": [
    "### Training the model"
   ]
  },
  {
   "cell_type": "code",
   "execution_count": 11,
   "metadata": {},
   "outputs": [
    {
     "name": "stdout",
     "output_type": "stream",
     "text": [
      "Epoch 1/300 --> loss: 0.0978  | Validation loss: 0.0709 \n",
      "Epoch 2/300 --> loss: 0.0680  | Validation loss: 0.0631 \n",
      "Epoch 3/300 --> loss: 0.0580  | Validation loss: 0.0519 \n",
      "Epoch 4/300 --> loss: 0.0465  | Validation loss: 0.0417 \n",
      "Epoch 5/300 --> loss: 0.0377  | Validation loss: 0.0347 \n",
      "Epoch 6/300 --> loss: 0.0327  | Validation loss: 0.0309 \n",
      "Epoch 7/300 --> loss: 0.0298  | Validation loss: 0.0291 \n",
      "Epoch 8/300 --> loss: 0.0283  | Validation loss: 0.0277 \n",
      "Epoch 9/300 --> loss: 0.0269  | Validation loss: 0.0261 \n",
      "Epoch 10/300 --> loss: 0.0252  | Validation loss: 0.0246 \n",
      "Epoch 11/300 --> loss: 0.0240  | Validation loss: 0.0238 \n",
      "Epoch 12/300 --> loss: 0.0232  | Validation loss: 0.0230 \n",
      "Epoch 13/300 --> loss: 0.0225  | Validation loss: 0.0223 \n",
      "Epoch 14/300 --> loss: 0.0217  | Validation loss: 0.0215 \n",
      "Epoch 15/300 --> loss: 0.0210  | Validation loss: 0.0208 \n",
      "Epoch 16/300 --> loss: 0.0203  | Validation loss: 0.0201 \n",
      "Epoch 17/300 --> loss: 0.0197  | Validation loss: 0.0196 \n",
      "Epoch 18/300 --> loss: 0.0192  | Validation loss: 0.0191 \n",
      "Epoch 19/300 --> loss: 0.0187  | Validation loss: 0.0187 \n",
      "Epoch 20/300 --> loss: 0.0182  | Validation loss: 0.0182 \n",
      "Epoch 21/300 --> loss: 0.0178  | Validation loss: 0.0177 \n",
      "Epoch 22/300 --> loss: 0.0174  | Validation loss: 0.0174 \n",
      "Epoch 23/300 --> loss: 0.0171  | Validation loss: 0.0171 \n",
      "Epoch 24/300 --> loss: 0.0168  | Validation loss: 0.0168 \n",
      "Epoch 25/300 --> loss: 0.0165  | Validation loss: 0.0167 \n",
      "Epoch 26/300 --> loss: 0.0163  | Validation loss: 0.0165 \n",
      "Epoch 27/300 --> loss: 0.0161  | Validation loss: 0.0163 \n",
      "Epoch 28/300 --> loss: 0.0159  | Validation loss: 0.0160 \n",
      "Epoch 29/300 --> loss: 0.0156  | Validation loss: 0.0158 \n",
      "Epoch 30/300 --> loss: 0.0154  | Validation loss: 0.0156 \n",
      "Epoch 31/300 --> loss: 0.0151  | Validation loss: 0.0153 \n",
      "Epoch 32/300 --> loss: 0.0149  | Validation loss: 0.0151 \n",
      "Epoch 33/300 --> loss: 0.0147  | Validation loss: 0.0150 \n",
      "Epoch 34/300 --> loss: 0.0145  | Validation loss: 0.0147 \n",
      "Epoch 35/300 --> loss: 0.0143  | Validation loss: 0.0146 \n",
      "Epoch 36/300 --> loss: 0.0141  | Validation loss: 0.0143 \n",
      "Epoch 37/300 --> loss: 0.0139  | Validation loss: 0.0141 \n",
      "Epoch 38/300 --> loss: 0.0137  | Validation loss: 0.0139 \n",
      "Epoch 39/300 --> loss: 0.0136  | Validation loss: 0.0137 \n",
      "Epoch 40/300 --> loss: 0.0133  | Validation loss: 0.0136 \n",
      "Epoch 41/300 --> loss: 0.0131  | Validation loss: 0.0133 \n",
      "Epoch 42/300 --> loss: 0.0130  | Validation loss: 0.0132 \n",
      "Epoch 43/300 --> loss: 0.0128  | Validation loss: 0.0129 \n",
      "Epoch 44/300 --> loss: 0.0126  | Validation loss: 0.0128 \n",
      "Epoch 45/300 --> loss: 0.0125  | Validation loss: 0.0127 \n",
      "Epoch 46/300 --> loss: 0.0124  | Validation loss: 0.0125 \n",
      "Epoch 47/300 --> loss: 0.0122  | Validation loss: 0.0126 \n",
      "Epoch 48/300 --> loss: 0.0121  | Validation loss: 0.0124 \n",
      "Epoch 49/300 --> loss: 0.0120  | Validation loss: 0.0122 \n",
      "Epoch 50/300 --> loss: 0.0119  | Validation loss: 0.0122 \n",
      "Epoch 51/300 --> loss: 0.0118  | Validation loss: 0.0121 \n",
      "Epoch 52/300 --> loss: 0.0117  | Validation loss: 0.0121 \n",
      "Epoch 53/300 --> loss: 0.0116  | Validation loss: 0.0118 \n",
      "Epoch 54/300 --> loss: 0.0115  | Validation loss: 0.0118 \n",
      "Epoch 55/300 --> loss: 0.0114  | Validation loss: 0.0117 \n",
      "Epoch 56/300 --> loss: 0.0114  | Validation loss: 0.0116 \n",
      "Epoch 57/300 --> loss: 0.0113  | Validation loss: 0.0115 \n",
      "Epoch 58/300 --> loss: 0.0112  | Validation loss: 0.0114 \n",
      "Epoch 59/300 --> loss: 0.0111  | Validation loss: 0.0114 \n",
      "Epoch 60/300 --> loss: 0.0110  | Validation loss: 0.0113 \n",
      "Epoch 61/300 --> loss: 0.0110  | Validation loss: 0.0112 \n",
      "Epoch 62/300 --> loss: 0.0109  | Validation loss: 0.0111 \n",
      "Epoch 63/300 --> loss: 0.0108  | Validation loss: 0.0110 \n",
      "Epoch 64/300 --> loss: 0.0107  | Validation loss: 0.0110 \n",
      "Epoch 65/300 --> loss: 0.0106  | Validation loss: 0.0109 \n",
      "Epoch 66/300 --> loss: 0.0106  | Validation loss: 0.0109 \n",
      "Epoch 67/300 --> loss: 0.0105  | Validation loss: 0.0108 \n",
      "Epoch 68/300 --> loss: 0.0104  | Validation loss: 0.0107 \n",
      "Epoch 69/300 --> loss: 0.0104  | Validation loss: 0.0106 \n",
      "Epoch 70/300 --> loss: 0.0103  | Validation loss: 0.0106 \n",
      "Epoch 71/300 --> loss: 0.0102  | Validation loss: 0.0106 \n",
      "Epoch 72/300 --> loss: 0.0102  | Validation loss: 0.0105 \n",
      "Epoch 73/300 --> loss: 0.0102  | Validation loss: 0.0104 \n",
      "Epoch 74/300 --> loss: 0.0101  | Validation loss: 0.0104 \n",
      "Epoch 75/300 --> loss: 0.0100  | Validation loss: 0.0103 \n",
      "Epoch 76/300 --> loss: 0.0100  | Validation loss: 0.0103 \n",
      "Epoch 77/300 --> loss: 0.0099  | Validation loss: 0.0102 \n",
      "Epoch 78/300 --> loss: 0.0099  | Validation loss: 0.0102 \n",
      "Epoch 79/300 --> loss: 0.0098  | Validation loss: 0.0101 \n",
      "Epoch 80/300 --> loss: 0.0098  | Validation loss: 0.0101 \n",
      "Epoch 81/300 --> loss: 0.0098  | Validation loss: 0.0100 \n",
      "Epoch 82/300 --> loss: 0.0097  | Validation loss: 0.0100 \n",
      "Epoch 83/300 --> loss: 0.0097  | Validation loss: 0.0100 \n",
      "Epoch 84/300 --> loss: 0.0096  | Validation loss: 0.0100 \n",
      "Epoch 85/300 --> loss: 0.0096  | Validation loss: 0.0099 \n",
      "Epoch 86/300 --> loss: 0.0095  | Validation loss: 0.0098 \n",
      "Epoch 87/300 --> loss: 0.0095  | Validation loss: 0.0098 \n",
      "Epoch 88/300 --> loss: 0.0094  | Validation loss: 0.0097 \n",
      "Epoch 89/300 --> loss: 0.0094  | Validation loss: 0.0097 \n",
      "Epoch 90/300 --> loss: 0.0094  | Validation loss: 0.0096 \n",
      "Epoch 91/300 --> loss: 0.0093  | Validation loss: 0.0096 \n",
      "Epoch 92/300 --> loss: 0.0093  | Validation loss: 0.0096 \n",
      "Epoch 93/300 --> loss: 0.0093  | Validation loss: 0.0096 \n",
      "Epoch 94/300 --> loss: 0.0092  | Validation loss: 0.0095 \n",
      "Epoch 95/300 --> loss: 0.0091  | Validation loss: 0.0095 \n",
      "Epoch 96/300 --> loss: 0.0091  | Validation loss: 0.0094 \n",
      "Epoch 97/300 --> loss: 0.0091  | Validation loss: 0.0094 \n",
      "Epoch 98/300 --> loss: 0.0090  | Validation loss: 0.0094 \n",
      "Epoch 99/300 --> loss: 0.0090  | Validation loss: 0.0094 \n",
      "Epoch 100/300 --> loss: 0.0090  | Validation loss: 0.0094 \n",
      "Epoch 101/300 --> loss: 0.0090  | Validation loss: 0.0093 \n",
      "Epoch 102/300 --> loss: 0.0089  | Validation loss: 0.0093 \n",
      "Epoch 103/300 --> loss: 0.0089  | Validation loss: 0.0093 \n",
      "Epoch 104/300 --> loss: 0.0089  | Validation loss: 0.0092 \n",
      "Epoch 105/300 --> loss: 0.0089  | Validation loss: 0.0092 \n",
      "Epoch 106/300 --> loss: 0.0088  | Validation loss: 0.0093 \n",
      "Epoch 107/300 --> loss: 0.0088  | Validation loss: 0.0092 \n",
      "Epoch 108/300 --> loss: 0.0088  | Validation loss: 0.0091 \n",
      "Epoch 109/300 --> loss: 0.0088  | Validation loss: 0.0091 \n",
      "Epoch 110/300 --> loss: 0.0088  | Validation loss: 0.0091 \n",
      "Epoch 111/300 --> loss: 0.0087  | Validation loss: 0.0091 \n",
      "Epoch 112/300 --> loss: 0.0087  | Validation loss: 0.0091 \n",
      "Epoch 113/300 --> loss: 0.0087  | Validation loss: 0.0090 \n",
      "Epoch 114/300 --> loss: 0.0087  | Validation loss: 0.0091 \n",
      "Epoch 115/300 --> loss: 0.0087  | Validation loss: 0.0090 \n",
      "Epoch 116/300 --> loss: 0.0086  | Validation loss: 0.0090 \n",
      "Epoch 117/300 --> loss: 0.0086  | Validation loss: 0.0090 \n",
      "Epoch 118/300 --> loss: 0.0086  | Validation loss: 0.0090 \n",
      "Epoch 119/300 --> loss: 0.0086  | Validation loss: 0.0090 \n",
      "Epoch 120/300 --> loss: 0.0086  | Validation loss: 0.0089 \n",
      "Epoch 121/300 --> loss: 0.0086  | Validation loss: 0.0089 \n",
      "Epoch 122/300 --> loss: 0.0085  | Validation loss: 0.0089 \n",
      "Epoch 123/300 --> loss: 0.0085  | Validation loss: 0.0089 \n",
      "Epoch 124/300 --> loss: 0.0085  | Validation loss: 0.0089 \n",
      "Epoch 125/300 --> loss: 0.0085  | Validation loss: 0.0088 \n",
      "Epoch 126/300 --> loss: 0.0085  | Validation loss: 0.0089 \n",
      "Epoch 127/300 --> loss: 0.0085  | Validation loss: 0.0088 \n",
      "Epoch 128/300 --> loss: 0.0085  | Validation loss: 0.0088 \n",
      "Epoch 129/300 --> loss: 0.0084  | Validation loss: 0.0088 \n",
      "Epoch 130/300 --> loss: 0.0084  | Validation loss: 0.0088 \n",
      "Epoch 131/300 --> loss: 0.0084  | Validation loss: 0.0087 \n",
      "Epoch 132/300 --> loss: 0.0084  | Validation loss: 0.0088 \n",
      "Epoch 133/300 --> loss: 0.0084  | Validation loss: 0.0087 \n",
      "Epoch 134/300 --> loss: 0.0084  | Validation loss: 0.0088 \n",
      "Epoch 135/300 --> loss: 0.0084  | Validation loss: 0.0087 \n",
      "Epoch 136/300 --> loss: 0.0083  | Validation loss: 0.0087 \n",
      "Epoch 137/300 --> loss: 0.0083  | Validation loss: 0.0087 \n",
      "Epoch 138/300 --> loss: 0.0083  | Validation loss: 0.0087 \n",
      "Epoch 139/300 --> loss: 0.0083  | Validation loss: 0.0086 \n",
      "Epoch 140/300 --> loss: 0.0083  | Validation loss: 0.0087 \n",
      "Epoch 141/300 --> loss: 0.0083  | Validation loss: 0.0086 \n",
      "Epoch 142/300 --> loss: 0.0082  | Validation loss: 0.0086 \n",
      "Epoch 143/300 --> loss: 0.0082  | Validation loss: 0.0086 \n",
      "Epoch 144/300 --> loss: 0.0082  | Validation loss: 0.0087 \n",
      "Epoch 145/300 --> loss: 0.0082  | Validation loss: 0.0086 \n",
      "Epoch 146/300 --> loss: 0.0082  | Validation loss: 0.0086 \n",
      "Epoch 147/300 --> loss: 0.0082  | Validation loss: 0.0086 \n",
      "Epoch 148/300 --> loss: 0.0081  | Validation loss: 0.0085 \n",
      "Epoch 149/300 --> loss: 0.0081  | Validation loss: 0.0085 \n",
      "Epoch 150/300 --> loss: 0.0081  | Validation loss: 0.0085 \n",
      "Epoch 151/300 --> loss: 0.0081  | Validation loss: 0.0085 \n",
      "Epoch 152/300 --> loss: 0.0081  | Validation loss: 0.0084 \n",
      "Epoch 153/300 --> loss: 0.0081  | Validation loss: 0.0085 \n",
      "Epoch 154/300 --> loss: 0.0081  | Validation loss: 0.0084 \n",
      "Epoch 155/300 --> loss: 0.0081  | Validation loss: 0.0084 \n",
      "Epoch 156/300 --> loss: 0.0080  | Validation loss: 0.0085 \n",
      "Epoch 157/300 --> loss: 0.0080  | Validation loss: 0.0085 \n",
      "Early stopping: stopping training after 157 epochs.\n"
     ]
    }
   ],
   "source": [
    "history = autoencoder.fit(\n",
    "    X_train = X_train_flatten,\n",
    "    y_train = X_train_flatten,\n",
    "    optimizer = optimizer,\n",
    "    loss_fn = loss_fn,\n",
    "    X_valid = X_valid_flatten,\n",
    "    y_valid = X_valid_flatten,\n",
    "    batch_size = batch_size,\n",
    "    epochs = epochs,\n",
    "    callbacks = [callbacks.EarlyStopping(monitor='val_loss', patience=5)]\n",
    ")"
   ]
  },
  {
   "cell_type": "code",
   "execution_count": 12,
   "metadata": {},
   "outputs": [
    {
     "data": {
      "image/png": "[encoded data removed]",
      "text/plain": [
       "<Figure size 800x400 with 1 Axes>"
      ]
     },
     "metadata": {},
     "output_type": "display_data"
    }
   ],
   "source": [
    "# Plot the training and validation loss\n",
    "utils.plot_history(history[\"loss\"], history[\"val_loss\"], \"Training and Validation Loss\", \"Epoch\", \"Loss\")"
   ]
  },
  {
   "cell_type": "markdown",
   "metadata": {},
   "source": [
    "### Inference"
   ]
  },
  {
   "cell_type": "code",
   "execution_count": 13,
   "metadata": {},
   "outputs": [],
   "source": [
    "# Compute the statistics of the latent space\n",
    "latent_train = encoder(X_train_flatten)\n",
    "latent_mean = np.mean(latent_train, axis=0)\n",
    "latent_std = np.std(latent_train, axis=0)"
   ]
  },
  {
   "cell_type": "code",
   "execution_count": 14,
   "metadata": {},
   "outputs": [],
   "source": [
    "def sample_latent(num_samples: int = 1) -> np.ndarray:\n",
    "    \"\"\"\n",
    "    Function to sample n random vectors from the latent space.\n",
    "    \n",
    "    Parameters:\n",
    "    - num_samples (int): The number of samples to generate\n",
    "    \n",
    "    Returns:\n",
    "    - np.ndarray: The samples generated from the latent space\n",
    "    \"\"\"\n",
    "    \n",
    "    # Sample the latent space\n",
    "    return np.random.normal(latent_mean, latent_std, (num_samples, latent_dim))"
   ]
  },
  {
   "cell_type": "code",
   "execution_count": 15,
   "metadata": {},
   "outputs": [
    {
     "data": {
      "image/png": "[encoded data removed]",
      "text/plain": [
       "<Figure size 2000x500 with 10 Axes>"
      ]
     },
     "metadata": {},
     "output_type": "display_data"
    }
   ],
   "source": [
    "# Sample one random vector from the latent space\n",
    "samples = sample_latent(num_samples=10)\n",
    "\n",
    "# Decode the sample to generate a new image\n",
    "decoded_imges = decoder(samples)\n",
    "\n",
    "# Reshape the image to the original shape\n",
    "decoded_imges = decoded_imges.reshape(-1, 28, 28, 1)\n",
    "\n",
    "# Plot the generated image\n",
    "plot_samples(list(decoded_imges))"
   ]
  }
 ],
 "metadata": {
  "kernelspec": {
   "display_name": "venv",
   "language": "python",
   "name": "python3"
  },
  "language_info": {
   "codemirror_mode": {
    "name": "ipython",
    "version": 3
   },
   "file_extension": ".py",
   "mimetype": "text/x-python",
   "name": "python",
   "nbconvert_exporter": "python",
   "pygments_lexer": "ipython3",
   "version": "3.11.11"
  }
 },
 "nbformat": 4,
 "nbformat_minor": 2
}
