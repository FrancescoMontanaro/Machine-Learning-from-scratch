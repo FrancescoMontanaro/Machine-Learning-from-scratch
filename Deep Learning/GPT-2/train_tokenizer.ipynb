{
 "cells": [
  {
   "cell_type": "code",
   "execution_count": null,
   "metadata": {},
   "outputs": [],
   "source": [
    "import os\n",
    "import sys\n",
    "\n",
    "# Add parent directory to path\n",
    "sys.path.append(os.path.join(os.getcwd(), \"..\"))\n",
    "\n",
    "from common.src.utils import load_txt_file\n",
    "from common.src.tokenizer import Tokenizer"
   ]
  },
  {
   "cell_type": "markdown",
   "metadata": {},
   "source": [
    "### Constants and hyperparameters"
   ]
  },
  {
   "cell_type": "code",
   "execution_count": null,
   "metadata": {},
   "outputs": [],
   "source": [
    "# Constants\n",
    "save_state = True # Save the state of the tokenizer into a file\n",
    "dataset_path = os.path.join(os.getcwd(), 'dataset', 'input.txt') # Path to the training dataset\n",
    "output_path = os.path.join(os.getcwd(), 'checkpoints', 'tokenizer.json') # Path into which the tokenized parameters will be saved\n"
   ]
  },
  {
   "cell_type": "code",
   "execution_count": null,
   "metadata": {},
   "outputs": [],
   "source": [
    "# Hyperparameters\n",
    "vocab_size = 50257 # The size of the vocabulary\n",
    "validation_samples = 0 # Number of samples to use for validation"
   ]
  },
  {
   "cell_type": "markdown",
   "metadata": {},
   "source": [
    "### Data loading"
   ]
  },
  {
   "cell_type": "code",
   "execution_count": null,
   "metadata": {},
   "outputs": [],
   "source": [
    "# Load the text file\n",
    "text = load_txt_file(dataset_path)\n",
    "\n",
    "# Split the text into training and validation sets\n",
    "training_text = text[:(len(text) - validation_samples if len(text) > validation_samples else -1)]\n",
    "validation_text = text[-validation_samples:]\n",
    "\n",
    "# Print the number of samples in each set\n",
    "print(f\"Training text length: {len(training_text)}\")\n",
    "print(f\"Validation text length: {len(validation_text)}\")"
   ]
  },
  {
   "cell_type": "markdown",
   "metadata": {},
   "source": [
    "### Tokenizer"
   ]
  },
  {
   "cell_type": "code",
   "execution_count": null,
   "metadata": {},
   "outputs": [],
   "source": [
    "# Instantiate the tokenizer\n",
    "tokenizer = Tokenizer()"
   ]
  },
  {
   "cell_type": "markdown",
   "metadata": {},
   "source": [
    "### Training the tokenizer"
   ]
  },
  {
   "cell_type": "code",
   "execution_count": null,
   "metadata": {},
   "outputs": [],
   "source": [
    "    \n",
    "# Train the tokenizer\n",
    "tokenizer.train(text=training_text, vocab_size=vocab_size)"
   ]
  },
  {
   "cell_type": "code",
   "execution_count": null,
   "metadata": {},
   "outputs": [],
   "source": [
    "# Check if the state of the tokenizer should be saved\n",
    "if save_state:\n",
    "    # Save the state of the tokenizer\n",
    "    tokenizer.save_state(output_path)"
   ]
  },
  {
   "cell_type": "markdown",
   "metadata": {},
   "source": [
    "### Evaluation"
   ]
  },
  {
   "cell_type": "code",
   "execution_count": null,
   "metadata": {},
   "outputs": [],
   "source": [
    "# Encoding the text\n",
    "encoded_text = tokenizer.encode(validation_text)\n",
    "\n",
    "# Decoding the text\n",
    "decoded_text = tokenizer.decode(encoded_text)\n",
    "\n",
    "# Print the original text\n",
    "print(f\"Original text\")\n",
    "print(\"-------------\")\n",
    "print(validation_text)\n",
    "\n",
    "# Print the encoded text\n",
    "print(\"\\nEncoded text\")\n",
    "print(\"------------\")\n",
    "print(encoded_text)\n",
    "\n",
    "# Print the decoded text\n",
    "print(\"\\nDecoded text\")\n",
    "print(\"------------\")\n",
    "print(decoded_text)"
   ]
  }
 ],
 "metadata": {
  "kernelspec": {
   "display_name": "venv",
   "language": "python",
   "name": "python3"
  },
  "language_info": {
   "codemirror_mode": {
    "name": "ipython",
    "version": 3
   },
   "file_extension": ".py",
   "mimetype": "text/x-python",
   "name": "python",
   "nbconvert_exporter": "python",
   "pygments_lexer": "ipython3",
   "version": "3.11.10"
  }
 },
 "nbformat": 4,
 "nbformat_minor": 2
}
