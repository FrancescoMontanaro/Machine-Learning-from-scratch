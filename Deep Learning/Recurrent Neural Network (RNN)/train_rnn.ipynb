{
 "cells": [
  {
   "cell_type": "code",
   "execution_count": 1,
   "id": "e7ea2880",
   "metadata": {},
   "outputs": [],
   "source": [
    "import os\n",
    "import sys\n",
    "import csv\n",
    "import numpy as np\n",
    "\n",
    "# Add the path to the custom library to the system path\n",
    "sys.path.append('..')\n",
    "\n",
    "# Import the module from the custom library\n",
    "from src.core.utils.constants import EPSILON\n",
    "from src.architectures.sequential import Sequential\n",
    "from src.core.utils import data_analysis, data_processing, context_manager\n",
    "from src import Tensor, layers, loss_functions, optimizers, metrics, callbacks"
   ]
  },
  {
   "cell_type": "markdown",
   "id": "cbb80b57",
   "metadata": {},
   "source": [
    "### Constants and Hyperparameters"
   ]
  },
  {
   "cell_type": "code",
   "execution_count": 2,
   "id": "2704080e",
   "metadata": {},
   "outputs": [],
   "source": [
    "# Path to where the model will be saved\n",
    "model_path = os.path.join(os.getcwd(), 'checkpoints', 'weather_prediction')\n",
    "dataset_path = os.path.join(os.getcwd(), 'dataset', 'weather.csv')"
   ]
  },
  {
   "cell_type": "code",
   "execution_count": 3,
   "id": "4f018245",
   "metadata": {},
   "outputs": [],
   "source": [
    "train_test_split_pct = 0.2 # Percentage of samples to use for testing\n",
    "train_valid_split = 0.2 # Percentage of samples to use for validation\n",
    "learning_rate = 3e-4 # Learning rate for the optimizer\n",
    "batch_size = 16 # Number of samples to use for each batch\n",
    "epochs = 50 # Number of epochs to train the model\n",
    "seq_len = 24 # Length of the input sequences\n",
    "seed = 1234 # Seed for reproducibility"
   ]
  },
  {
   "cell_type": "code",
   "execution_count": 4,
   "id": "94940658",
   "metadata": {},
   "outputs": [],
   "source": [
    "# Set the seed for reproducibility\n",
    "np.random.seed(seed)"
   ]
  },
  {
   "cell_type": "markdown",
   "id": "43cd02fa",
   "metadata": {},
   "source": [
    "### Data loading"
   ]
  },
  {
   "cell_type": "code",
   "execution_count": 5,
   "id": "48c41c0e",
   "metadata": {},
   "outputs": [],
   "source": [
    "# Load the dataset\n",
    "def load_weather_data(file_path: str) -> list[dict]:\n",
    "    \"\"\"\n",
    "    Load weather data from a CSV file.\n",
    "    \n",
    "    Parameters:\n",
    "    - file_path: str, path to the CSV file\n",
    "    \n",
    "    Returns:\n",
    "    - data: list[dict], list of dictionaries containing the weather data\n",
    "    \"\"\"\n",
    "    \n",
    "    # Read the CSV file\n",
    "    with open(file_path, 'r') as file:\n",
    "        # Create a CSV reader object\n",
    "        reader = csv.DictReader(file)\n",
    "        \n",
    "        # Iterate over the rows in the CSV file\n",
    "        return [row for row in reader]"
   ]
  },
  {
   "cell_type": "code",
   "execution_count": 6,
   "id": "faa34ba9",
   "metadata": {},
   "outputs": [],
   "source": [
    "def build_sequences(data: list[dict], input_keys: list[str], label_keys: list[str], seq_length: int) -> tuple[np.ndarray, np.ndarray]:\n",
    "    \"\"\"\n",
    "    Build sequences of weather data for training the model.\n",
    "    \n",
    "    Parameters:\n",
    "    - data: list[dict], list of dictionaries containing the data\n",
    "    - input_keys: list[str], keys to use as input features\n",
    "    - label_keys: list[str], keys to use as labels\n",
    "    - seq_length: int, length of the input sequences\n",
    "    \n",
    "    Returns:\n",
    "    - tuple[np.ndarray, np.ndarray], tuple containing the input features and labels\n",
    "    \"\"\"\n",
    "    \n",
    "    # Initialize lists to hold the features and labels\n",
    "    features = []\n",
    "    labels = []\n",
    "\n",
    "    # Iterate over the weather data to create sequences\n",
    "    for i in range(len(data) - seq_length):\n",
    "        # Create a sequence of input features\n",
    "        seq = []\n",
    "        \n",
    "        # Iterate over the sequence length to build the input features\n",
    "        for j in range(seq_length):\n",
    "            # Get the sample at the current index\n",
    "            sample = data[i + j]\n",
    "            \n",
    "            # Convert the sample to a float, defaulting to 0.0 if empty and append to the sequence\n",
    "            seq.append([float(sample[k]) if sample[k] != '' else 0.0 for k in input_keys])\n",
    "        \n",
    "        # Get the label for the current sequence\n",
    "        label_sample = data[i + seq_length]\n",
    "        \n",
    "        # Convert the label to a float, defaulting to 0.0 if empty\n",
    "        label = [float(label_sample[k]) if label_sample[k] != '' else 0.0 for k in label_keys]\n",
    "        \n",
    "        # Append the sequence and label to the respective lists\n",
    "        features.append(seq)\n",
    "        labels.append(label)\n",
    "\n",
    "    # Convert the features and labels to numpy arrays\n",
    "    return np.array(features, dtype=np.float32), np.array(labels, dtype=np.float32)"
   ]
  },
  {
   "cell_type": "code",
   "execution_count": 7,
   "id": "3b3a9dc3",
   "metadata": {},
   "outputs": [],
   "source": [
    "# Load the weather data\n",
    "weather_data = load_weather_data(dataset_path)"
   ]
  },
  {
   "cell_type": "code",
   "execution_count": 8,
   "id": "fca8ba76",
   "metadata": {},
   "outputs": [
    {
     "name": "stdout",
     "output_type": "stream",
     "text": [
      "Training set: (8631, 24, 3) (8631, 1)\n",
      "Validation set: (2157, 24, 3) (2157, 1)\n",
      "Testing set: (2697, 24, 3) (2697, 1)\n"
     ]
    }
   ],
   "source": [
    "# Build sequences of input features and labels\n",
    "features, labels = build_sequences(\n",
    "    data = weather_data,\n",
    "    input_keys = ['tmax', 'tmin', 'rain'],\n",
    "    label_keys = ['tmax_tomorrow'],\n",
    "    seq_length = seq_len\n",
    ")\n",
    "\n",
    "# Convert features and labels to Tensor objects\n",
    "features = Tensor(np.array(features, dtype=np.float32))\n",
    "labels = Tensor(np.array(labels, dtype=np.float32))\n",
    "\n",
    "# Split the dataset into training, validation, and testing sets\n",
    "X_train, X_test, y_train, y_test = data_processing.split_data((features, labels), train_test_split_pct, shuffle=True)\n",
    "X_train, X_valid, y_train, y_valid = data_processing.split_data((X_train, y_train), train_valid_split, shuffle=True)\n",
    "\n",
    "# Print the dataset information\n",
    "print('Training set:', X_train.shape(), y_train.shape())\n",
    "print('Validation set:', X_valid.shape(), y_valid.shape())\n",
    "print('Testing set:', X_test.shape(), y_test.shape())"
   ]
  },
  {
   "cell_type": "markdown",
   "id": "56f31a7b",
   "metadata": {},
   "source": [
    "### Data preprocessing"
   ]
  },
  {
   "cell_type": "code",
   "execution_count": 9,
   "id": "53b6daeb",
   "metadata": {},
   "outputs": [],
   "source": [
    "def compute_normalization_stats(X: Tensor) -> tuple[np.ndarray, np.ndarray]:\n",
    "    \"\"\"\n",
    "    Computes the mean and standard deviation for each feature across all samples and all time steps.\n",
    "\n",
    "    Parameters:\n",
    "    - X (Tensor): Input tensor of shape (N, T, F)\n",
    "\n",
    "    Returns:\n",
    "    - mean (np.ndarray): Feature-wise mean, shape (F,)\n",
    "    - std (np.ndarray): Feature-wise std, shape (F,)\n",
    "    \"\"\"\n",
    "    \n",
    "    # Reshape the tensor to collapse the N and T dimensions\n",
    "    data = X.data.reshape(-1, X.shape()[-1])\n",
    "    \n",
    "    # Compute the mean and standard deviation for each feature\n",
    "    mean = data.mean(axis=0)\n",
    "    std = data.std(axis=0) + EPSILON\n",
    "    \n",
    "    # Return the mean and standard deviation\n",
    "    return mean, std"
   ]
  },
  {
   "cell_type": "code",
   "execution_count": 10,
   "id": "913d2c3b",
   "metadata": {},
   "outputs": [],
   "source": [
    "def normalize_data(X: Tensor, mean: np.ndarray, std: np.ndarray) -> Tensor:\n",
    "    \"\"\"\n",
    "    Applies z-score normalization using precomputed mean and std.\n",
    "\n",
    "    Parameters:\n",
    "    - X (Tensor): Input tensor of shape (N, T, F)\n",
    "    - mean (np.ndarray): Feature-wise mean, shape (F,)\n",
    "    - std (np.ndarray): Feature-wise std, shape (F,)\n",
    "\n",
    "    Returns:\n",
    "    - Tensor: Normalized tensor\n",
    "    \"\"\"\n",
    "    \n",
    "    # Normalize the data using the mean and std\n",
    "    norm_data = (X.data - mean) / std\n",
    "    \n",
    "    # Return a new Tensor object with the normalized data\n",
    "    return Tensor(norm_data)"
   ]
  },
  {
   "cell_type": "code",
   "execution_count": 11,
   "id": "c25dcbb6",
   "metadata": {},
   "outputs": [],
   "source": [
    "# Compute normalization statistics for the training data\n",
    "mean, std = compute_normalization_stats(X_train)\n",
    "\n",
    "# Normalize the training, validation, and testing data\n",
    "X_train = normalize_data(X_train, mean, std)\n",
    "X_valid = normalize_data(X_valid, mean, std)\n",
    "X_test = normalize_data(X_test, mean, std)"
   ]
  },
  {
   "cell_type": "markdown",
   "id": "a6c3964f",
   "metadata": {},
   "source": [
    "### Building the model"
   ]
  },
  {
   "cell_type": "code",
   "execution_count": 12,
   "id": "076b233f",
   "metadata": {},
   "outputs": [],
   "source": [
    "# Instantiating the model\n",
    "model = Sequential(\n",
    "    name = \"Weather Prediction Model\",\n",
    "    modules = [\n",
    "        layers.RNN(\n",
    "            num_layers = 8,\n",
    "            num_units = 64,\n",
    "            dropout = 0.1,\n",
    "        ),\n",
    "        layers.LayerNormalization(),\n",
    "        layers.Dense(num_units=y_train.shape()[-1])\n",
    "    ]\n",
    ")\n",
    "\n",
    "# Initialize the optimizer\n",
    "optimizer = optimizers.Adam(learning_rate=learning_rate)\n",
    "\n",
    "# Initialize the loss function\n",
    "loss_fn = loss_functions.MeanSquareError()"
   ]
  },
  {
   "cell_type": "markdown",
   "id": "7482733b",
   "metadata": {},
   "source": [
    "### Initializing the model"
   ]
  },
  {
   "cell_type": "code",
   "execution_count": 13,
   "id": "4a7b16c0",
   "metadata": {},
   "outputs": [],
   "source": [
    "# Call the model with a first batch to initialize the weights\n",
    "# This is not necessary, but it is useful to know the input size\n",
    "\n",
    "# Disable gradient computation\n",
    "with context_manager.no_grad():\n",
    "    # Set the model in evaluation mode\n",
    "    model.eval()\n",
    "    \n",
    "    # Call the model with a batch of data to initialize it\n",
    "    out = model(X_train[:batch_size])"
   ]
  },
  {
   "cell_type": "code",
   "execution_count": 14,
   "id": "480a7006",
   "metadata": {},
   "outputs": [
    {
     "name": "stdout",
     "output_type": "stream",
     "text": [
      "Weather Prediction Model (Sequential) [output_shape=(16, 1), params=62849]\n",
      "└── weather_prediction_model.modules (ModuleList) [output_shape=(16, 1), params=62849]\n",
      "    ├── module_list.0 (RNN) [output_shape=(16, 64), params=62656]\n",
      "    │   └── rnn.dropout_layer (Dropout) [output_shape=(16, 64), params=0]\n",
      "    ├── module_list.1 (LayerNormalization) [output_shape=(16, 64), params=128]\n",
      "    └── module_list.2 (Dense) [output_shape=(16, 1), params=65]\n"
     ]
    }
   ],
   "source": [
    "# Display the model summary\n",
    "model.summary(recursive=True)"
   ]
  },
  {
   "cell_type": "markdown",
   "id": "79d1962b",
   "metadata": {},
   "source": [
    "### Training the model"
   ]
  },
  {
   "cell_type": "code",
   "execution_count": 15,
   "id": "6223eff8",
   "metadata": {},
   "outputs": [
    {
     "name": "stdout",
     "output_type": "stream",
     "text": [
      "Epoch 1/50 --> loss: 3123.9720 | Validation loss: 2134.7034                                                   \n",
      "Epoch 2/50 --> loss: 1299.4012 | Validation loss: 598.2453                                                   \n",
      "Epoch 3/50 --> loss: 292.4505 | Validation loss: 113.6101                                                   \n",
      "Epoch 4/50 --> loss: 85.0505 | Validation loss: 71.6382                                                   \n",
      "Epoch 5/50 --> loss: 72.4998 | Validation loss: 70.7774                                                   \n",
      "Epoch 6/50 --> loss: 104.1985 | Validation loss: 70.5950                                                   \n",
      "Epoch 7/50 --> loss: 54.6285 | Validation loss: 42.3090                                                   \n",
      "Epoch 8/50 --> loss: 42.6778 | Validation loss: 40.9956                                                   \n",
      "Epoch 9/50 --> loss: 41.2421 | Validation loss: 40.4289                                                   \n",
      "Epoch 10/50 --> loss: 39.8986 | Validation loss: 38.6829                                                   \n",
      "Epoch 11/50 --> loss: 39.8606 | Validation loss: 38.4501                                                   \n",
      "Epoch 12/50 --> loss: 39.2124 | Validation loss: 41.8308                                                   \n",
      "Epoch 13/50 --> loss: 38.9617 | Validation loss: 38.3082                                                   \n",
      "Epoch 14/50 --> loss: 39.1883 | Validation loss: 38.1544                                                   \n",
      "Epoch 15/50 --> loss: 38.5098 | Validation loss: 38.4289                                                   \n",
      "Epoch 16/50 --> loss: 38.5680 | Validation loss: 41.2333                                                   \n",
      "Epoch 17/50 --> loss: 38.6432 | Validation loss: 39.7671                                                   \n",
      "Epoch 18/50 --> loss: 38.7285 | Validation loss: 39.2429                                                   \n",
      "Epoch 19/50 --> loss: 38.3151 | Validation loss: 37.5869                                                   \n",
      "Epoch 20/50 --> loss: 38.1857 | Validation loss: 37.6886                                                   \n",
      "Epoch 21/50 --> loss: 38.0589 | Validation loss: 38.4882                                                   \n",
      "Epoch 22/50 --> loss: 38.2273 | Validation loss: 38.5293                                                   \n",
      "Epoch 23/50 --> loss: 42.5673 | Validation loss: 37.8523                                                   \n",
      "Epoch 24/50 --> loss: 38.7516 | Validation loss: 37.5010                                                   \n",
      "Epoch 25/50 --> loss: 38.3313 | Validation loss: 37.1258                                                   \n",
      "Epoch 26/50 --> loss: 38.3668 | Validation loss: 37.8140                                                   \n",
      "Epoch 27/50 --> loss: 38.3288 | Validation loss: 37.5154                                                   \n",
      "Epoch 28/50 --> loss: 38.1807 | Validation loss: 37.1768                                                   \n",
      "Epoch 29/50 --> loss: 37.7704 | Validation loss: 37.8181                                                   \n",
      "Epoch 30/50 --> loss: 37.9471 | Validation loss: 38.5936                                                   \n",
      "Early stopping: stopping training after 30 epochs.\n"
     ]
    }
   ],
   "source": [
    "history = model.fit(\n",
    "    X_train = X_train, \n",
    "    y_train = y_train,\n",
    "    optimizer = optimizer,\n",
    "    loss_fn = loss_fn,\n",
    "    X_valid = X_valid,\n",
    "    y_valid = y_valid,\n",
    "    batch_size = batch_size,\n",
    "    epochs = epochs,\n",
    "    callbacks = [callbacks.EarlyStopping(monitor='val_loss', patience=5)]\n",
    ")"
   ]
  },
  {
   "cell_type": "code",
   "execution_count": 16,
   "id": "149cbbdd",
   "metadata": {},
   "outputs": [],
   "source": [
    "# Save the model\n",
    "model.save(model_path)"
   ]
  },
  {
   "cell_type": "code",
   "execution_count": 17,
   "id": "55e2bf51",
   "metadata": {},
   "outputs": [
    {
     "data": {
      "image/png": "[encoded data removed]",
      "text/plain": [
       "<Figure size 800x400 with 1 Axes>"
      ]
     },
     "metadata": {},
     "output_type": "display_data"
    }
   ],
   "source": [
    "# Plot the training and validation loss\n",
    "data_analysis.plot_history(model.history[\"loss\"].data, model.history[\"val_loss\"].data, \"Training and Validation Loss\", \"Epoch\", \"Loss\")"
   ]
  },
  {
   "cell_type": "markdown",
   "id": "aeda5d37",
   "metadata": {},
   "source": [
    "### Evaluation"
   ]
  },
  {
   "cell_type": "code",
   "execution_count": 18,
   "id": "06b43ae3",
   "metadata": {},
   "outputs": [],
   "source": [
    "# Disable gradient computation\n",
    "with context_manager.no_grad():\n",
    "    # Set the model in evaluation mode\n",
    "    model.eval()\n",
    "    \n",
    "    # Compute the predictions\n",
    "    predictions = model(X_test)"
   ]
  },
  {
   "cell_type": "code",
   "execution_count": 19,
   "id": "3b06448a",
   "metadata": {},
   "outputs": [
    {
     "name": "stdout",
     "output_type": "stream",
     "text": [
      "Mean Absolute Error: 4.2687235\n"
     ]
    }
   ],
   "source": [
    "# Calculate the mean absolute error\n",
    "mae = metrics.mean_absolute_error(y_test, predictions)\n",
    "\n",
    "# Print the mean absolute error\n",
    "print(\"Mean Absolute Error:\", mae.data)"
   ]
  }
 ],
 "metadata": {
  "kernelspec": {
   "display_name": "venv",
   "language": "python",
   "name": "python3"
  },
  "language_info": {
   "codemirror_mode": {
    "name": "ipython",
    "version": 3
   },
   "file_extension": ".py",
   "mimetype": "text/x-python",
   "name": "python",
   "nbconvert_exporter": "python",
   "pygments_lexer": "ipython3",
   "version": "3.11.12"
  }
 },
 "nbformat": 4,
 "nbformat_minor": 5
}
