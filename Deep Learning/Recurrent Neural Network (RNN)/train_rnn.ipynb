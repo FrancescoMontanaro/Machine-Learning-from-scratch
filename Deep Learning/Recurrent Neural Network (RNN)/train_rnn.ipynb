{
 "cells": [
  {
   "cell_type": "code",
   "execution_count": 1,
   "id": "e7ea2880",
   "metadata": {},
   "outputs": [],
   "source": [
    "\n",
    "import os\n",
    "import sys\n",
    "import csv\n",
    "import numpy as np\n",
    "from typing import Literal\n",
    "import matplotlib.pyplot as plt\n",
    "import matplotlib.dates as mdates\n",
    "from datetime import datetime, timedelta\n",
    "\n",
    "# Add the path to the custom library to the system path\n",
    "sys.path.append('..')\n",
    "\n",
    "# Import the module from the custom library\n",
    "from src.core.utils.constants import EPSILON\n",
    "from src.architectures.auto_regressive import SequentialAutoRegressive\n",
    "from src.core.utils import data_analysis, data_processing, context_manager\n",
    "from src import Tensor, layers, loss_functions, optimizers, metrics, callbacks"
   ]
  },
  {
   "cell_type": "markdown",
   "id": "cbb80b57",
   "metadata": {},
   "source": [
    "### Constants and Hyperparameters"
   ]
  },
  {
   "cell_type": "code",
   "execution_count": 2,
   "id": "2704080e",
   "metadata": {},
   "outputs": [],
   "source": [
    "# Path to where the model will be saved\n",
    "model_path = os.path.join(os.getcwd(), 'checkpoints', 'stock_prediction_rnn')\n",
    "dataset_path = os.path.join(os.getcwd(), 'dataset', 'SPX.csv')"
   ]
  },
  {
   "cell_type": "code",
   "execution_count": null,
   "id": "4f018245",
   "metadata": {},
   "outputs": [],
   "source": [
    "train_test_split_pct = 0.2 # Percentage of samples to use for testing\n",
    "train_valid_split = 0.2 # Percentage of samples to use for validation\n",
    "learning_rate = 3e-4 # Learning rate for the optimizer\n",
    "batch_size = 16 # Number of samples to use for each batch\n",
    "epochs = 50 # Number of epochs to train the model\n",
    "seq_len = 8 # Length of the input sequences\n",
    "seed = 1234 # Seed for reproducibility"
   ]
  },
  {
   "cell_type": "code",
   "execution_count": 4,
   "id": "94940658",
   "metadata": {},
   "outputs": [],
   "source": [
    "# Set the seed for reproducibility\n",
    "np.random.seed(seed)"
   ]
  },
  {
   "cell_type": "markdown",
   "id": "43cd02fa",
   "metadata": {},
   "source": [
    "### Data loading"
   ]
  },
  {
   "cell_type": "code",
   "execution_count": 5,
   "id": "48c41c0e",
   "metadata": {},
   "outputs": [],
   "source": [
    "# Load the dataset\n",
    "def load_data(file_path: str) -> list[dict]:\n",
    "    \"\"\"\n",
    "    Load data from a CSV file.\n",
    "    \n",
    "    Parameters:\n",
    "    - file_path: str, path to the CSV file\n",
    "    \n",
    "    Returns:\n",
    "    - data: list[dict], list of dictionaries containing the data\n",
    "    \"\"\"\n",
    "    \n",
    "    # Read the CSV file\n",
    "    with open(file_path, 'r') as file:\n",
    "        # Create a CSV reader object\n",
    "        reader = csv.DictReader(file)\n",
    "        \n",
    "        # Iterate over the rows in the CSV file\n",
    "        return [row for row in reader]"
   ]
  },
  {
   "cell_type": "code",
   "execution_count": null,
   "id": "faa34ba9",
   "metadata": {},
   "outputs": [],
   "source": [
    "\n",
    "def build_sequences(data: list[dict], features_keys: list[str], seq_length: int) -> tuple[np.ndarray, np.ndarray]:\n",
    "    \"\"\"\n",
    "    Build sequences of data for training the model.\n",
    "    \n",
    "    Parameters:\n",
    "    - data: list[dict], list of dictionaries containing the data\n",
    "    - features_keys: list[str], keys to use as input features\n",
    "    - seq_length: int, length of the input sequences\n",
    "    \n",
    "    Returns:\n",
    "    - tuple[np.ndarray, np.ndarray], tuple containing the input features and labels\n",
    "    \"\"\"\n",
    "    \n",
    "    # Create a list to hold the sequences and labels\n",
    "    x, y = [], []\n",
    "    \n",
    "    # Iterate over the data to create sequences\n",
    "    for i in range(len(data) - seq_length):\n",
    "        # Build the window of data\n",
    "        seq = [\n",
    "            [float(data[j][k]) if data[j][k] != \"\" else 0.0\n",
    "            for k in features_keys]\n",
    "            for j in range(i, i + seq_length)\n",
    "        ]\n",
    "        \n",
    "        # Build the target value\n",
    "        tgt = [\n",
    "            float(data[i + seq_length][k]) if data[i + seq_length][k] != \"\" else 0.0\n",
    "            for k in features_keys\n",
    "        ]\n",
    "        \n",
    "        # Append the sequence and target to the lists\n",
    "        x.append(seq)\n",
    "        y.append(tgt)\n",
    "\n",
    "    # Convert the lists to numpy arrays\n",
    "    return (\n",
    "        np.array(x, dtype=np.float32),\n",
    "        np.array(y, dtype=np.float32)\n",
    "    )"
   ]
  },
  {
   "cell_type": "code",
   "execution_count": 7,
   "id": "3b3a9dc3",
   "metadata": {},
   "outputs": [],
   "source": [
    "# Load the data\n",
    "data = load_data(dataset_path)"
   ]
  },
  {
   "cell_type": "code",
   "execution_count": 8,
   "id": "fca8ba76",
   "metadata": {},
   "outputs": [
    {
     "name": "stdout",
     "output_type": "stream",
     "text": [
      "Training set: (14922, 8, 5) (14922, 5)\n",
      "Validation set: (3730, 8, 5) (3730, 5)\n",
      "Testing set: (4663, 8, 5) (4663, 5)\n"
     ]
    }
   ],
   "source": [
    "# Build sequences of input features and labels\n",
    "features, labels = build_sequences(\n",
    "    data = data,\n",
    "    features_keys = ['Open', 'High', 'Low', 'Close', 'Volume'],\n",
    "    seq_length = seq_len\n",
    ")\n",
    "\n",
    "# Convert features and labels to Tensor objects\n",
    "features = Tensor(np.array(features, dtype=np.float32))\n",
    "labels = Tensor(np.array(labels, dtype=np.float32))\n",
    "\n",
    "# Split the dataset into training, validation, and testing sets\n",
    "X_train, X_test, y_train, y_test = data_processing.split_data((features, labels), train_test_split_pct, shuffle=True)\n",
    "X_train, X_valid, y_train, y_valid = data_processing.split_data((X_train, y_train), train_valid_split, shuffle=True)\n",
    "\n",
    "# Print the dataset information\n",
    "print('Training set:', X_train.shape(), y_train.shape())\n",
    "print('Validation set:', X_valid.shape(), y_valid.shape())\n",
    "print('Testing set:', X_test.shape(), y_test.shape())"
   ]
  },
  {
   "cell_type": "markdown",
   "id": "3fb55cbb",
   "metadata": {},
   "source": [
    "### Data visualization"
   ]
  },
  {
   "cell_type": "code",
   "execution_count": 9,
   "id": "bd7e093c",
   "metadata": {},
   "outputs": [],
   "source": [
    "def reduce_by_mean(arr: np.ndarray, group_size: int) -> np.ndarray:\n",
    "    \"\"\"\n",
    "    Reduce an array by taking the mean of each group of elements.\n",
    "    \n",
    "    Parameters:\n",
    "    - arr: np.ndarray, input array to reduce\n",
    "    - group_size: int, size of each group to take the mean of\n",
    "    \n",
    "    Returns:\n",
    "    - np.ndarray, reduced array with the mean of each group\n",
    "    \"\"\"\n",
    "    \n",
    "    # Extract the shape of the array\n",
    "    n = len(arr)\n",
    "    \n",
    "    # Check if the group size is valid\n",
    "    if group_size <= 0 or n < group_size:\n",
    "        # Raise an error if the group size is invalid\n",
    "        raise ValueError(\"Group size must be positive and less than or equal to the length of the array.\")\n",
    "    \n",
    "    # Trim the array to a multiple of the group size\n",
    "    trimmed_length = n - (n % group_size)\n",
    "    \n",
    "    # Reshape the array to group the elements and take the mean of each group\n",
    "    return arr[:trimmed_length].reshape(-1, group_size).mean(axis=1)"
   ]
  },
  {
   "cell_type": "code",
   "execution_count": 10,
   "id": "852d98d7",
   "metadata": {},
   "outputs": [],
   "source": [
    "def plot_data(arr: np.ndarray, start_date: str, end_date: str, x_freq: int = 1, freq_locator: Literal[\"year\", \"day\"] = \"year\") -> None:\n",
    "    \"\"\"\n",
    "    Plot the given array using matplotlib.\n",
    "    \n",
    "    Parameters:\n",
    "    - arr: np.ndarray, input array to plot\n",
    "    - start_date: str, start date for the x-axis\n",
    "    - end_date: str, end date for the x-axis\n",
    "    - x_freq: int, frequency of the x-axis ticks\n",
    "    - freq_locator: str, frequency locator for the x-axis ticks (\"year\" or \"day\")\n",
    "    \"\"\"\n",
    "    \n",
    "    # Convert the start and end dates to datetime objects\n",
    "    start_dt = datetime.strptime(start_date, \"%Y-%m-%d\")\n",
    "    end_dt = datetime.strptime(end_date, \"%Y-%m-%d\")\n",
    "    \n",
    "    # Calculate the total number of seconds between the start and end dates\n",
    "    total_seconds = (end_dt - start_dt).total_seconds()\n",
    "    \n",
    "    # Calculate the step size in seconds for each element in the array\n",
    "    step_seconds = total_seconds / (len(arr) - 1)\n",
    "    \n",
    "    # Create a list of dates for the x-axis\n",
    "    dates = np.array([start_dt + timedelta(seconds=i * step_seconds) for i in range(len(arr))])\n",
    "    \n",
    "    # Create a figure and axis\n",
    "    fig, ax = plt.subplots(figsize=(10, 4))\n",
    "    \n",
    "    # Plot the array against the dates\n",
    "    ax.plot(dates, arr)\n",
    "    \n",
    "    # Set the axis labels and title\n",
    "    ax.set_title('S&P 500')\n",
    "    ax.set_xlabel('Date')\n",
    "    ax.set_ylabel('Price')\n",
    "    ax.grid(True)\n",
    "    \n",
    "    # Set the x-axis major locator and formatter\n",
    "    locator = mdates.YearLocator(base=x_freq) if freq_locator == \"year\" else mdates.DayLocator(interval=x_freq)\n",
    "    formatter = mdates.DateFormatter('%Y') if freq_locator == \"year\" else mdates.DateFormatter('%Y-%m-%d')\n",
    "    ax.xaxis.set_major_locator(locator)\n",
    "    ax.xaxis.set_major_formatter(formatter)\n",
    "    fig.autofmt_xdate()\n",
    "    \n",
    "    # Show the plot\n",
    "    plt.tight_layout()\n",
    "    plt.show()"
   ]
  },
  {
   "cell_type": "code",
   "execution_count": 11,
   "id": "7ecf0319",
   "metadata": {},
   "outputs": [
    {
     "data": {
      "image/png": "[encoded data removed]",
      "text/plain": [
       "<Figure size 1000x400 with 1 Axes>"
      ]
     },
     "metadata": {},
     "output_type": "display_data"
    }
   ],
   "source": [
    "# Extract the close prices from the data\n",
    "close_prices = np.array([float(sample['Close']) if sample['Close'] != '' else 0.0 for sample in data])\n",
    "\n",
    "# Reduce the close prices by taking the mean of each group of 24 elements\n",
    "close_prices = reduce_by_mean(close_prices, seq_len)\n",
    "\n",
    "# Plot the reduced close prices\n",
    "plot_data(close_prices, data[0]['Date'], data[-1]['Date'], x_freq=5)"
   ]
  },
  {
   "cell_type": "markdown",
   "id": "56f31a7b",
   "metadata": {},
   "source": [
    "### Data preprocessing"
   ]
  },
  {
   "cell_type": "code",
   "execution_count": 12,
   "id": "53b6daeb",
   "metadata": {},
   "outputs": [],
   "source": [
    "def compute_normalization_stats(X: Tensor) -> tuple[np.ndarray, np.ndarray, np.ndarray, np.ndarray]:\n",
    "    \"\"\"\n",
    "    Computes the mean and standard deviation for each feature across all samples and all time steps.\n",
    "\n",
    "    Parameters:\n",
    "    - X (Tensor): Input tensor of shape (N, T, F)\n",
    "\n",
    "    Returns:\n",
    "    - mean (np.ndarray): Feature-wise mean, shape (F,)\n",
    "    - std (np.ndarray): Feature-wise std, shape (F,)\n",
    "    - min (np.ndarray): Feature-wise min, shape (F,)\n",
    "    - max (np.ndarray): Feature-wise max, shape (F,)\n",
    "    \"\"\"\n",
    "    \n",
    "    # Reshape the tensor to collapse the N and T dimensions\n",
    "    data = X.data.reshape(-1, X.shape()[-1])\n",
    "    \n",
    "    # Compute the mean and standard deviation for each feature\n",
    "    mean = data.mean(axis=0)\n",
    "    std = data.std(axis=0) + EPSILON\n",
    "    min = data.min(axis=0)\n",
    "    max = data.max(axis=0)\n",
    "    \n",
    "    # Return the mean and standard deviation\n",
    "    return mean, std, min, max"
   ]
  },
  {
   "cell_type": "code",
   "execution_count": 13,
   "id": "913d2c3b",
   "metadata": {},
   "outputs": [],
   "source": [
    "def z_score_normaliation(X: Tensor, mean: np.ndarray, std: np.ndarray) -> Tensor:\n",
    "    \"\"\"\n",
    "    Applies z-score normalization using precomputed mean and std.\n",
    "\n",
    "    Parameters:\n",
    "    - X (Tensor): Input tensor of shape (N, T, F)\n",
    "    - mean (np.ndarray): Feature-wise mean, shape (F,)\n",
    "    - std (np.ndarray): Feature-wise std, shape (F,)\n",
    "\n",
    "    Returns:\n",
    "    - Tensor: Normalized tensor\n",
    "    \"\"\"\n",
    "    \n",
    "    # Normalize the data using the mean and std\n",
    "    norm_data = (X.data - mean) / std\n",
    "    \n",
    "    # Return a new Tensor object with the normalized data\n",
    "    return Tensor(norm_data)\n",
    "\n",
    "\n",
    "def min_max_normalization(X: Tensor, min: np.ndarray, max: np.ndarray) -> Tensor:\n",
    "    \"\"\"\n",
    "    Applies min-max normalization using precomputed min and max.\n",
    "\n",
    "    Parameters:\n",
    "    - X (Tensor): Input tensor of shape (N, T, F)\n",
    "    - min (np.ndarray): Feature-wise min, shape (F,)\n",
    "    - max (np.ndarray): Feature-wise max, shape (F,)\n",
    "\n",
    "    Returns:\n",
    "    - Tensor: Normalized tensor\n",
    "    \"\"\"\n",
    "    \n",
    "    # Normalize the data using the min and max\n",
    "    norm_data = (X.data - min) / (max - min)\n",
    "    \n",
    "    # Return a new Tensor object with the normalized data\n",
    "    return Tensor(norm_data)"
   ]
  },
  {
   "cell_type": "code",
   "execution_count": 14,
   "id": "bade7eaf",
   "metadata": {},
   "outputs": [],
   "source": [
    "def z_score_denormaliation(X: Tensor, mean: np.ndarray, std: np.ndarray) -> Tensor:\n",
    "    \"\"\"\n",
    "    Applies z-score denormalization using precomputed mean and std.\n",
    "\n",
    "    Parameters:\n",
    "    - X (Tensor): Input tensor of shape (N, T, F)\n",
    "    - mean (np.ndarray): Feature-wise mean, shape (F,)\n",
    "    - std (np.ndarray): Feature-wise std, shape (F,)\n",
    "\n",
    "    Returns:\n",
    "    - Tensor: Denormalized tensor\n",
    "    \"\"\"\n",
    "    \n",
    "    # Denormalize the data using the mean and std\n",
    "    denorm_data = X.data * std + mean\n",
    "    \n",
    "    # Return a new Tensor object with the denormalized data\n",
    "    return Tensor(denorm_data)\n",
    "\n",
    "\n",
    "def min_max_denormaliation(X: Tensor, min: np.ndarray, max: np.ndarray) -> Tensor:\n",
    "    \"\"\"\n",
    "    Applies min-max denormalization using precomputed min and max.\n",
    "\n",
    "    Parameters:\n",
    "    - X (Tensor): Input tensor of shape (N, T, F)\n",
    "    - min (np.ndarray): Feature-wise min, shape (F,)\n",
    "    - max (np.ndarray): Feature-wise max, shape (F,)\n",
    "\n",
    "    Returns:\n",
    "    - Tensor: Denormalized tensor\n",
    "    \"\"\"\n",
    "    \n",
    "    # Denormalize the data using the min and max\n",
    "    denorm_data = X.data * (max - min) + min\n",
    "    \n",
    "    # Return a new Tensor object with the denormalized data\n",
    "    return Tensor(denorm_data)"
   ]
  },
  {
   "cell_type": "code",
   "execution_count": 15,
   "id": "c25dcbb6",
   "metadata": {},
   "outputs": [],
   "source": [
    "# Compute normalization statistics for the training data\n",
    "mean, std, min, max = compute_normalization_stats(X_train)\n",
    "\n",
    "# Normalize the training, validation, and testing data\n",
    "X_train = min_max_normalization(X_train, min, max)\n",
    "X_valid = min_max_normalization(X_valid, min, max)\n",
    "X_test = min_max_normalization(X_test, min, max)\n",
    "\n",
    "# Normalize the labels using min-max normalization\n",
    "y_train = min_max_normalization(y_train, min, max)\n",
    "y_valid = min_max_normalization(y_valid, min, max)\n",
    "y_test = min_max_normalization(y_test, min, max)"
   ]
  },
  {
   "cell_type": "markdown",
   "id": "a6c3964f",
   "metadata": {},
   "source": [
    "### Building the model"
   ]
  },
  {
   "cell_type": "code",
   "execution_count": 16,
   "id": "076b233f",
   "metadata": {},
   "outputs": [],
   "source": [
    "# Instantiating the model\n",
    "model = SequentialAutoRegressive(\n",
    "    name = \"Stock prediction model\",\n",
    "    sequence_length = seq_len,\n",
    "    modules = [\n",
    "        layers.RNN(num_layers=8, num_units=64, dropout=0.1),\n",
    "        layers.LayerNormalization(),\n",
    "        layers.Dense(32),\n",
    "        layers.BatchNormalization(),\n",
    "        layers.Dropout(0.1),\n",
    "        layers.Dense(num_units=X_train.shape()[-1]),\n",
    "    ]\n",
    ")\n",
    "\n",
    "# Initialize the optimizer\n",
    "optimizer = optimizers.Adam(learning_rate=learning_rate)\n",
    "\n",
    "# Initialize the loss function\n",
    "loss_fn = loss_functions.MeanSquareError()"
   ]
  },
  {
   "cell_type": "markdown",
   "id": "7482733b",
   "metadata": {},
   "source": [
    "### Initializing the model"
   ]
  },
  {
   "cell_type": "code",
   "execution_count": 17,
   "id": "4a7b16c0",
   "metadata": {},
   "outputs": [],
   "source": [
    "# Call the model with a first batch to initialize the weights\n",
    "# This is not necessary, but it is useful to know the input size\n",
    "\n",
    "# Disable gradient computation\n",
    "with context_manager.no_grad():\n",
    "    # Set the model in evaluation mode\n",
    "    model.eval()\n",
    "    \n",
    "    # Call the model with a batch of data to initialize it\n",
    "    out = model(X_train[:batch_size])"
   ]
  },
  {
   "cell_type": "code",
   "execution_count": 18,
   "id": "480a7006",
   "metadata": {},
   "outputs": [
    {
     "name": "stdout",
     "output_type": "stream",
     "text": [
      "Stock prediction model (SequentialAutoRegressive) [output_shape=(16, 5), params=65221]\n",
      "└── stock_prediction_model.modules (ModuleList) [output_shape=(16, 5), params=65221]\n",
      "    ├── module_list.0 (RNN) [output_shape=(16, 64), params=62784]\n",
      "    │   └── rnn.dropout_layer (Dropout) [output_shape=(16, 64), params=0]\n",
      "    ├── module_list.1 (LayerNormalization) [output_shape=(16, 64), params=128]\n",
      "    ├── module_list.2 (Dense) [output_shape=(16, 32), params=2080]\n",
      "    ├── module_list.3 (BatchNormalization) [output_shape=(16, 32), params=64]\n",
      "    ├── module_list.4 (Dropout) [output_shape=(16, 32), params=0]\n",
      "    └── module_list.5 (Dense) [output_shape=(16, 5), params=165]\n"
     ]
    }
   ],
   "source": [
    "# Display the model summary\n",
    "model.summary(recursive=True)"
   ]
  },
  {
   "cell_type": "markdown",
   "id": "79d1962b",
   "metadata": {},
   "source": [
    "### Training the model"
   ]
  },
  {
   "cell_type": "code",
   "execution_count": 19,
   "id": "6223eff8",
   "metadata": {},
   "outputs": [
    {
     "name": "stdout",
     "output_type": "stream",
     "text": [
      "Epoch 1/50 --> loss: 0.0372 - mean absolute error: 0.1334 | Validation loss: 0.0011 - Validation mean absolute error: 0.0234         \n",
      "Epoch 2/50 --> loss: 0.0142 - mean absolute error: 0.0832 | Validation loss: 0.0009 - Validation mean absolute error: 0.0223         \n",
      "Epoch 3/50 --> loss: 0.0075 - mean absolute error: 0.0609 | Validation loss: 0.0014 - Validation mean absolute error: 0.0209         \n",
      "Epoch 4/50 --> loss: 0.0051 - mean absolute error: 0.0509 | Validation loss: 0.0011 - Validation mean absolute error: 0.0177         \n",
      "Epoch 5/50 --> loss: 0.0042 - mean absolute error: 0.0468 | Validation loss: 0.0006 - Validation mean absolute error: 0.0130         \n",
      "Epoch 6/50 --> loss: 0.0037 - mean absolute error: 0.0447 | Validation loss: 0.0018 - Validation mean absolute error: 0.0221         \n",
      "Epoch 7/50 --> loss: 0.0038 - mean absolute error: 0.0450 | Validation loss: 0.0014 - Validation mean absolute error: 0.0283         \n",
      "Epoch 8/50 --> loss: 0.0035 - mean absolute error: 0.0441 | Validation loss: 0.0010 - Validation mean absolute error: 0.0231         \n",
      "Epoch 9/50 --> loss: 0.0034 - mean absolute error: 0.0431 | Validation loss: 0.0049 - Validation mean absolute error: 0.0328         \n",
      "Epoch 10/50 --> loss: 0.0035 - mean absolute error: 0.0436 | Validation loss: 0.0005 - Validation mean absolute error: 0.0135         \n",
      "Epoch 11/50 --> loss: 0.0033 - mean absolute error: 0.0421 | Validation loss: 0.0004 - Validation mean absolute error: 0.0106         \n",
      "Epoch 12/50 --> loss: 0.0034 - mean absolute error: 0.0430 | Validation loss: 0.0004 - Validation mean absolute error: 0.0109         \n",
      "Epoch 13/50 --> loss: 0.0037 - mean absolute error: 0.0461 | Validation loss: 0.0003 - Validation mean absolute error: 0.0078         \n",
      "Epoch 14/50 --> loss: 0.0031 - mean absolute error: 0.0417 | Validation loss: 0.0003 - Validation mean absolute error: 0.0085         \n",
      "Epoch 15/50 --> loss: 0.0034 - mean absolute error: 0.0434 | Validation loss: 0.0007 - Validation mean absolute error: 0.0220         \n",
      "Epoch 16/50 --> loss: 0.0033 - mean absolute error: 0.0430 | Validation loss: 0.0007 - Validation mean absolute error: 0.0161         \n",
      "Epoch 17/50 --> loss: 0.0032 - mean absolute error: 0.0427 | Validation loss: 0.0005 - Validation mean absolute error: 0.0149         \n",
      "Epoch 18/50 --> loss: 0.0033 - mean absolute error: 0.0434 | Validation loss: 0.0023 - Validation mean absolute error: 0.0273         \n",
      "Epoch 19/50 --> loss: 0.0032 - mean absolute error: 0.0426 | Validation loss: 0.0003 - Validation mean absolute error: 0.0073         \n",
      "Epoch 20/50 --> loss: 0.0033 - mean absolute error: 0.0431 | Validation loss: 0.0012 - Validation mean absolute error: 0.0261         \n",
      "Epoch 21/50 --> loss: 0.0033 - mean absolute error: 0.0433 | Validation loss: 0.0004 - Validation mean absolute error: 0.0136         \n",
      "Epoch 22/50 --> loss: 0.0032 - mean absolute error: 0.0427 | Validation loss: 0.0006 - Validation mean absolute error: 0.0186         \n",
      "Epoch 23/50 --> loss: 0.0034 - mean absolute error: 0.0437 | Validation loss: 0.0006 - Validation mean absolute error: 0.0183         \n",
      "Early stopping: stopping training after 23 epochs.\n"
     ]
    }
   ],
   "source": [
    "history = model.fit(\n",
    "    epochs = epochs,\n",
    "    X_train = X_train, \n",
    "    y_train = y_train,\n",
    "    loss_fn = loss_fn,\n",
    "    X_valid = X_valid,\n",
    "    y_valid = y_valid,\n",
    "    optimizer = optimizer,\n",
    "    batch_size = batch_size,\n",
    "    metrics = [metrics.mean_absolute_error],\n",
    "    callbacks = [callbacks.EarlyStopping(monitor='val_loss', patience=10)]\n",
    ")"
   ]
  },
  {
   "cell_type": "code",
   "execution_count": 20,
   "id": "149cbbdd",
   "metadata": {},
   "outputs": [],
   "source": [
    "# Save the model\n",
    "model.save(model_path)"
   ]
  },
  {
   "cell_type": "code",
   "execution_count": 21,
   "id": "55e2bf51",
   "metadata": {},
   "outputs": [
    {
     "data": {
      "image/png": "[encoded data removed]",
      "text/plain": [
       "<Figure size 800x400 with 1 Axes>"
      ]
     },
     "metadata": {},
     "output_type": "display_data"
    }
   ],
   "source": [
    "# Plot the training and validation loss\n",
    "data_analysis.plot_history(model.history[\"loss\"].data, model.history[\"val_loss\"].data, \"Training and Validation Loss\", \"Epoch\", \"Loss\")"
   ]
  },
  {
   "cell_type": "markdown",
   "id": "aeda5d37",
   "metadata": {},
   "source": [
    "### Evaluation"
   ]
  },
  {
   "cell_type": "code",
   "execution_count": 22,
   "id": "06b43ae3",
   "metadata": {},
   "outputs": [],
   "source": [
    "# Disable gradient computation\n",
    "with context_manager.no_grad():\n",
    "    # Set the model in evaluation mode\n",
    "    model.eval()\n",
    "    \n",
    "    # Compute the predictions\n",
    "    predictions = model(X_test)"
   ]
  },
  {
   "cell_type": "code",
   "execution_count": 23,
   "id": "3b06448a",
   "metadata": {},
   "outputs": [
    {
     "name": "stdout",
     "output_type": "stream",
     "text": [
      "Mean Absolute Error: 60.868942\n"
     ]
    }
   ],
   "source": [
    "\n",
    "# Denormalize the predictions and the true values\n",
    "predictions = min_max_denormaliation(predictions, min, max)\n",
    "y_test = min_max_denormaliation(y_test, min, max)\n",
    "\n",
    "# Extract only the close prices from the predictions and the true values\n",
    "close_prices_pred = predictions[:, 3]\n",
    "close_prices_true = y_test[:, 3]\n",
    "\n",
    "# Calculate the mean absolute error\n",
    "mae = metrics.mean_absolute_error(close_prices_pred, close_prices_true)\n",
    "\n",
    "# Print the mean absolute error\n",
    "print(\"Mean Absolute Error:\", mae.to_numpy())"
   ]
  },
  {
   "cell_type": "markdown",
   "id": "01794937",
   "metadata": {},
   "source": [
    "### Inference"
   ]
  },
  {
   "cell_type": "code",
   "execution_count": 24,
   "id": "2990cfca",
   "metadata": {},
   "outputs": [],
   "source": [
    "# Take a random sequence from the test set\n",
    "idx = np.random.randint(0, len(X_test.data) - 1)\n",
    "test_seq = X_test[idx:idx + 1]\n",
    "\n",
    "# Define the number of steps to generate\n",
    "num_generation_steps = 8\n",
    "\n",
    "# Autoregressive generation\n",
    "out_seq = model.autoregressive_generation(x=test_seq, num_steps=num_generation_steps)\n",
    "\n",
    "if not isinstance(out_seq, Tensor):\n",
    "    # If the output is a generator, convert it to a list\n",
    "    generated_sequence = model.concat_generation(out_seq)\n",
    "else:\n",
    "    # If the output is a tensor, convert it to a numpy array\n",
    "    generated_sequence = out_seq\n",
    "\n",
    "# Denormalize the generated sequence\n",
    "generated_sequence = min_max_denormaliation(generated_sequence, min, max)"
   ]
  },
  {
   "cell_type": "code",
   "execution_count": 25,
   "id": "a604369a",
   "metadata": {},
   "outputs": [
    {
     "data": {
      "image/png": "[encoded data removed]",
      "text/plain": [
       "<Figure size 1000x400 with 1 Axes>"
      ]
     },
     "metadata": {},
     "output_type": "display_data"
    }
   ],
   "source": [
    "# Plot the generated sequence\n",
    "plot_data(generated_sequence.to_numpy()[0, :, 3], data[idx]['Date'], data[idx + num_generation_steps]['Date'], x_freq=1, freq_locator=\"day\")"
   ]
  }
 ],
 "metadata": {
  "kernelspec": {
   "display_name": "venv",
   "language": "python",
   "name": "python3"
  },
  "language_info": {
   "codemirror_mode": {
    "name": "ipython",
    "version": 3
   },
   "file_extension": ".py",
   "mimetype": "text/x-python",
   "name": "python",
   "nbconvert_exporter": "python",
   "pygments_lexer": "ipython3",
   "version": "3.11.12"
  }
 },
 "nbformat": 4,
 "nbformat_minor": 5
}
