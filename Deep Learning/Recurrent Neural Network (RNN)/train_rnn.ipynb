{
 "cells": [
  {
   "cell_type": "code",
   "execution_count": 1,
   "id": "e7ea2880",
   "metadata": {},
   "outputs": [],
   "source": [
    "\n",
    "import os\n",
    "import sys\n",
    "import csv\n",
    "import numpy as np\n",
    "from typing import Literal\n",
    "import matplotlib.pyplot as plt\n",
    "import matplotlib.dates as mdates\n",
    "from datetime import datetime, timedelta\n",
    "\n",
    "# Add the path to the custom library to the system path\n",
    "sys.path.append('..')\n",
    "\n",
    "# Import the module from the custom library\n",
    "from src.architectures.auto_regressive import SequentialAutoRegressive\n",
    "from src.core.utils import data_analysis, data_processing, context_manager\n",
    "from src import Tensor, layers, loss_functions, activations, optimizers, metrics, callbacks"
   ]
  },
  {
   "cell_type": "markdown",
   "id": "cbb80b57",
   "metadata": {},
   "source": [
    "### Constants and Hyperparameters"
   ]
  },
  {
   "cell_type": "code",
   "execution_count": 2,
   "id": "2704080e",
   "metadata": {},
   "outputs": [],
   "source": [
    "# Path to where the model will be saved\n",
    "model_path = os.path.join(os.getcwd(), 'checkpoints', 'stock_prediction_rnn')\n",
    "dataset_path = os.path.join(os.getcwd(), 'dataset', 'SPX.csv')\n",
    "\n",
    "# Define the feature and target columns\n",
    "feature_columns = ['Open', 'High', 'Low', 'Close']\n",
    "close_price_idx = feature_columns.index('Close')"
   ]
  },
  {
   "cell_type": "code",
   "execution_count": 3,
   "id": "4f018245",
   "metadata": {},
   "outputs": [],
   "source": [
    "shuffle_data = True # Whether to shuffle the data before splitting\n",
    "train_test_split_pct = 0.2 # Percentage of samples to use for testing\n",
    "train_valid_split = 0.2 # Percentage of samples to use for validation\n",
    "learning_rate = 3e-4 # Learning rate for the optimizer\n",
    "batch_size = 32 # Number of samples to use for each batch\n",
    "epochs = 50 # Number of epochs to train the model\n",
    "seq_len = 24 # Length of the input sequences\n",
    "seed = 1234 # Seed for reproducibility"
   ]
  },
  {
   "cell_type": "code",
   "execution_count": 4,
   "id": "94940658",
   "metadata": {},
   "outputs": [],
   "source": [
    "# Set the seed for reproducibility\n",
    "np.random.seed(seed)"
   ]
  },
  {
   "cell_type": "markdown",
   "id": "43cd02fa",
   "metadata": {},
   "source": [
    "### Data loading"
   ]
  },
  {
   "cell_type": "code",
   "execution_count": 5,
   "id": "48c41c0e",
   "metadata": {},
   "outputs": [],
   "source": [
    "# Load the dataset\n",
    "def load_data(file_path: str) -> list[dict]:\n",
    "    \"\"\"\n",
    "    Load data from a CSV file.\n",
    "    \n",
    "    Parameters:\n",
    "    - file_path: str, path to the CSV file\n",
    "    \n",
    "    Returns:\n",
    "    - data: list[dict], list of dictionaries containing the data\n",
    "    \"\"\"\n",
    "    \n",
    "    # Read the CSV file\n",
    "    with open(file_path, 'r') as file:\n",
    "        # Create a CSV reader object\n",
    "        reader = csv.DictReader(file)\n",
    "        \n",
    "        # Iterate over the rows in the CSV file\n",
    "        return [row for row in reader]"
   ]
  },
  {
   "cell_type": "code",
   "execution_count": 6,
   "id": "3b3a9dc3",
   "metadata": {},
   "outputs": [],
   "source": [
    "# Load the data\n",
    "data = load_data(dataset_path)\n",
    "\n",
    "# Extract the feature and date columns\n",
    "features = np.array([[np.float32(data[j][k]) for k in feature_columns] for j in range(len(data))])\n",
    "dates = np.array([data[j]['Date'] for j in range(len(data))])"
   ]
  },
  {
   "cell_type": "markdown",
   "id": "c220550e",
   "metadata": {},
   "source": [
    "### Data visualization"
   ]
  },
  {
   "cell_type": "code",
   "execution_count": 7,
   "id": "a4d02473",
   "metadata": {},
   "outputs": [],
   "source": [
    "def reduce_by_mean(arr: np.ndarray, group_size: int) -> np.ndarray:\n",
    "    \"\"\"\n",
    "    Reduce an array by taking the mean of each group of elements.\n",
    "    \n",
    "    Parameters:\n",
    "    - arr: np.ndarray, input array to reduce\n",
    "    - group_size: int, size of each group to take the mean of\n",
    "    \n",
    "    Returns:\n",
    "    - np.ndarray, reduced array with the mean of each group\n",
    "    \"\"\"\n",
    "    \n",
    "    # Extract the shape of the array\n",
    "    n = len(arr)\n",
    "    \n",
    "    # Check if the group size is valid\n",
    "    if group_size <= 0 or n < group_size:\n",
    "        # Raise an error if the group size is invalid\n",
    "        raise ValueError(\"Group size must be positive and less than or equal to the length of the array.\")\n",
    "    \n",
    "    # Trim the array to a multiple of the group size\n",
    "    trimmed_length = n - (n % group_size)\n",
    "    \n",
    "    # Reshape the array to group the elements and take the mean of each group\n",
    "    return arr[:trimmed_length].reshape(-1, group_size).mean(axis=1)"
   ]
  },
  {
   "cell_type": "code",
   "execution_count": 8,
   "id": "b7548877",
   "metadata": {},
   "outputs": [],
   "source": [
    "def plot_data(arr: np.ndarray, start_date: str, end_date: str, x_freq: int = 1, freq_locator: Literal[\"year\", \"day\"] = \"year\") -> None:\n",
    "    \"\"\"\n",
    "    Plot the given array using matplotlib.\n",
    "    \n",
    "    Parameters:\n",
    "    - arr: np.ndarray, input array to plot\n",
    "    - start_date: str, start date for the x-axis\n",
    "    - end_date: str, end date for the x-axis\n",
    "    - x_freq: int, frequency of the x-axis ticks\n",
    "    - freq_locator: str, frequency locator for the x-axis ticks (\"year\" or \"day\")\n",
    "    \"\"\"\n",
    "    \n",
    "    # Convert the start and end dates to datetime objects\n",
    "    start_dt = datetime.strptime(start_date, \"%Y-%m-%d\")\n",
    "    end_dt = datetime.strptime(end_date, \"%Y-%m-%d\")\n",
    "    \n",
    "    # Calculate the total number of seconds between the start and end dates\n",
    "    total_seconds = (end_dt - start_dt).total_seconds()\n",
    "    \n",
    "    # Calculate the step size in seconds for each element in the array\n",
    "    step_seconds = total_seconds / (len(arr) - 1)\n",
    "    \n",
    "    # Create a list of dates for the x-axis\n",
    "    dates = np.array([start_dt + timedelta(seconds=i * step_seconds) for i in range(len(arr))])\n",
    "    \n",
    "    # Create a figure and axis\n",
    "    fig, ax = plt.subplots(figsize=(10, 4))\n",
    "    \n",
    "    # Plot the array against the dates\n",
    "    ax.plot(dates, arr)\n",
    "    \n",
    "    # Set the axis labels and title\n",
    "    ax.set_title('S&P 500')\n",
    "    ax.set_xlabel('Date')\n",
    "    ax.set_ylabel('Price')\n",
    "    ax.grid(True)\n",
    "    \n",
    "    # Set the x-axis major locator and formatter\n",
    "    locator = mdates.YearLocator(base=x_freq) if freq_locator == \"year\" else mdates.DayLocator(interval=x_freq)\n",
    "    formatter = mdates.DateFormatter('%Y') if freq_locator == \"year\" else mdates.DateFormatter('%Y-%m-%d')\n",
    "    ax.xaxis.set_major_locator(locator)\n",
    "    ax.xaxis.set_major_formatter(formatter)\n",
    "    fig.autofmt_xdate()\n",
    "    \n",
    "    # Show the plot\n",
    "    plt.tight_layout()\n",
    "    plt.show()"
   ]
  },
  {
   "cell_type": "code",
   "execution_count": 9,
   "id": "1cb16c32",
   "metadata": {},
   "outputs": [
    {
     "data": {
      "image/png": "[encoded data removed]",
      "text/plain": [
       "<Figure size 1000x400 with 1 Axes>"
      ]
     },
     "metadata": {},
     "output_type": "display_data"
    }
   ],
   "source": [
    "# Extract the close prices from the data\n",
    "close_prices = features[:, close_price_idx]\n",
    "\n",
    "# Reduce the close prices by taking the mean of each group of sequence length\n",
    "close_prices = reduce_by_mean(close_prices, seq_len)\n",
    "\n",
    "# Plot the reduced close prices\n",
    "plot_data(close_prices, dates[0], dates[-1], x_freq=5)"
   ]
  },
  {
   "cell_type": "markdown",
   "id": "2d26f953",
   "metadata": {},
   "source": [
    "### Data preprocessing"
   ]
  },
  {
   "cell_type": "code",
   "execution_count": 10,
   "id": "5e50c923",
   "metadata": {},
   "outputs": [],
   "source": [
    "def build_sequences(features: np.ndarray, seq_length: int) -> tuple[Tensor, Tensor]:\n",
    "    \"\"\"\n",
    "    Build sequences of data for training the model.\n",
    "    \n",
    "    Parameters:\n",
    "    - features: np.ndarray, array of features to use for training\n",
    "    - seq_length: int, length of the input sequences\n",
    "    \n",
    "    Returns:\n",
    "    - tuple[Tensor, Tensor], tuple containing the input features and labels\n",
    "    \"\"\"\n",
    "    \n",
    "    # Create a list to hold the sequences and labels\n",
    "    x, y = [], []\n",
    "    \n",
    "    # Iterate over the data to create sequences\n",
    "    for i in range(seq_length, len(features)):\n",
    "        # Append the sequence and target to the lists\n",
    "        x.append(features[i-seq_length:i,:])\n",
    "        y.append(features[i,:])\n",
    "\n",
    "    # Convert the lists to numpy arrays\n",
    "    return (\n",
    "        Tensor(np.array(x, dtype=np.float32)),\n",
    "        Tensor(np.array(y, dtype=np.float32))\n",
    "    )"
   ]
  },
  {
   "cell_type": "code",
   "execution_count": 11,
   "id": "94e34428",
   "metadata": {},
   "outputs": [
    {
     "name": "stdout",
     "output_type": "stream",
     "text": [
      "Training set: (14912, 24, 4) (14912, 4)\n",
      "Validation set: (3728, 24, 4) (3728, 4)\n",
      "Testing set: (4659, 24, 4) (4659, 4)\n"
     ]
    }
   ],
   "source": [
    "# Build sequences of input features and labels\n",
    "features, targets = build_sequences(\n",
    "    features = features,\n",
    "    seq_length = seq_len\n",
    ")\n",
    "\n",
    "# Split the dataset into training, validation, and testing sets\n",
    "X_train, X_test, y_train, y_test = data_processing.split_data((features, targets), train_test_split_pct, shuffle=shuffle_data)\n",
    "X_train, X_valid, y_train, y_valid = data_processing.split_data((X_train, y_train), train_valid_split, shuffle=shuffle_data)\n",
    "\n",
    "# Print the dataset information\n",
    "print('Training set:', X_train.shape(), y_train.shape())\n",
    "print('Validation set:', X_valid.shape(), y_valid.shape())\n",
    "print('Testing set:', X_test.shape(), y_test.shape())"
   ]
  },
  {
   "cell_type": "markdown",
   "id": "617b85c2",
   "metadata": {},
   "source": [
    "## Data normalization"
   ]
  },
  {
   "cell_type": "code",
   "execution_count": 12,
   "id": "b9d8c387",
   "metadata": {},
   "outputs": [],
   "source": [
    "def compute_normalization_stats(X: np.ndarray) -> tuple[np.ndarray, np.ndarray, np.ndarray, np.ndarray]:\n",
    "    \"\"\"\n",
    "    Computes the mean and standard deviation for each feature across all samples and all time steps.\n",
    "\n",
    "    Parameters:\n",
    "    - X (np.ndarray): Input tensor of shape (N, T, F)\n",
    "\n",
    "    Returns:\n",
    "    - mean (np.ndarray): Feature-wise mean, shape (F,)\n",
    "    - std (np.ndarray): Feature-wise std, shape (F,)\n",
    "    - min (np.ndarray): Feature-wise min, shape (F,)\n",
    "    - max (np.ndarray): Feature-wise max, shape (F,)\n",
    "    \"\"\"\n",
    "    \n",
    "    # Compute the mean and standard deviation for each feature\n",
    "    mean = X.mean(axis=(0, 1))\n",
    "    std = X.std(axis=(0, 1))\n",
    "    min = X.min(axis=(0, 1))\n",
    "    max = X.max(axis=(0, 1))\n",
    "    \n",
    "    # Return the mean and standard deviation\n",
    "    return mean, std, min, max"
   ]
  },
  {
   "cell_type": "code",
   "execution_count": 13,
   "id": "8155cd31",
   "metadata": {},
   "outputs": [],
   "source": [
    "def min_max_normalization(X: np.ndarray, min: np.ndarray, max: np.ndarray) -> np.ndarray:\n",
    "    \"\"\"\n",
    "    Applies min-max normalization using precomputed min and max.\n",
    "\n",
    "    Parameters:\n",
    "    - X (np.ndarray): Input tensor of shape (N, T, F)\n",
    "    - min (np.ndarray): Feature-wise min, shape (F,)\n",
    "    - max (np.ndarray): Feature-wise max, shape (F,)\n",
    "\n",
    "    Returns:\n",
    "    - np.ndarray: Normalized array of the same shape as X\n",
    "    \"\"\"\n",
    "    \n",
    "    # Normalize the data using the min and max\n",
    "    norm_data = (X - min) / (max - min)\n",
    "    \n",
    "    # Return a new Tensor object with the normalized data\n",
    "    return norm_data\n",
    "\n",
    "def min_max_denormaliation(X: np.ndarray, min: np.ndarray, max: np.ndarray) -> np.ndarray:\n",
    "    \"\"\"\n",
    "    Applies min-max denormalization using precomputed min and max.\n",
    "\n",
    "    Parameters:\n",
    "    - X (np.ndarray): Input tensor of shape (N, T, F)\n",
    "    - min (np.ndarray): Feature-wise min, shape (F,)\n",
    "    - max (np.ndarray): Feature-wise max, shape (F,)\n",
    "\n",
    "    Returns:\n",
    "    - np.ndarray: Denormalized array of the same shape as X\n",
    "    \"\"\"\n",
    "    \n",
    "    # Denormalize the data using the min and max\n",
    "    denorm_data = X * (max - min) + min\n",
    "    \n",
    "    # Return a new Tensor object with the denormalized data\n",
    "    return denorm_data"
   ]
  },
  {
   "cell_type": "code",
   "execution_count": 14,
   "id": "2bc76b4a",
   "metadata": {},
   "outputs": [],
   "source": [
    "# Compute normalization statistics for the training data\n",
    "mean, std, min, max = compute_normalization_stats(X_train.to_numpy())\n",
    "\n",
    "# Normalize the features\n",
    "X_train.data = min_max_normalization(X_train.to_numpy(), min, max)\n",
    "X_valid.data = min_max_normalization(X_valid.to_numpy(), min, max)\n",
    "X_test.data = min_max_normalization(X_test.to_numpy(), min, max)\n",
    "\n",
    "# Normalize the targets\n",
    "y_train.data = min_max_normalization(y_train.to_numpy(), min, max)\n",
    "y_valid.data = min_max_normalization(y_valid.to_numpy(), min, max)\n",
    "y_test.data = min_max_normalization(y_test.to_numpy(), min, max)"
   ]
  },
  {
   "cell_type": "markdown",
   "id": "a6c3964f",
   "metadata": {},
   "source": [
    "### Building the model"
   ]
  },
  {
   "cell_type": "code",
   "execution_count": 15,
   "id": "076b233f",
   "metadata": {},
   "outputs": [],
   "source": [
    "# Instantiating the model\n",
    "model = SequentialAutoRegressive(\n",
    "    name = \"Stock prediction model\",\n",
    "    sequence_length = seq_len,\n",
    "    modules = [\n",
    "        layers.RNN(num_layers=4, num_units=48, dropout=0.1),\n",
    "        layers.LayerNormalization(),\n",
    "        layers.Dense(num_units=X_train.shape()[-1], activation=activations.ReLU()),\n",
    "    ]\n",
    ")\n",
    "\n",
    "# Initialize the optimizer\n",
    "optimizer = optimizers.Adam(learning_rate=learning_rate)\n",
    "\n",
    "# Initialize the loss function\n",
    "loss_fn = loss_functions.MeanSquareError()"
   ]
  },
  {
   "cell_type": "markdown",
   "id": "7482733b",
   "metadata": {},
   "source": [
    "### Initializing the model"
   ]
  },
  {
   "cell_type": "code",
   "execution_count": 16,
   "id": "4a7b16c0",
   "metadata": {},
   "outputs": [],
   "source": [
    "# Call the model with a first batch to initialize the weights\n",
    "# This is not necessary, but it is useful to know the input size\n",
    "\n",
    "# Disable gradient computation\n",
    "with context_manager.no_grad():\n",
    "    # Set the model in evaluation mode\n",
    "    model.eval()\n",
    "    \n",
    "    # Call the model with a batch of data to initialize it\n",
    "    out = model(X_train[:batch_size])"
   ]
  },
  {
   "cell_type": "code",
   "execution_count": 17,
   "id": "480a7006",
   "metadata": {},
   "outputs": [
    {
     "name": "stdout",
     "output_type": "stream",
     "text": [
      "Stock prediction model (SequentialAutoRegressive) [output_shape=(32, 4), params=16996]\n",
      "└── stock_prediction_model.modules (ModuleList) [output_shape=(32, 4), params=16996]\n",
      "    ├── module_list.0 (RNN) [output_shape=(32, 48), params=16704]\n",
      "    │   └── rnn.dropout_layer (Dropout) [output_shape=(32, 48), params=0]\n",
      "    ├── module_list.1 (LayerNormalization) [output_shape=(32, 48), params=96]\n",
      "    └── module_list.2 (Dense) [output_shape=(32, 4), params=196]\n"
     ]
    }
   ],
   "source": [
    "# Display the model summary\n",
    "model.summary(recursive=True)"
   ]
  },
  {
   "cell_type": "markdown",
   "id": "79d1962b",
   "metadata": {},
   "source": [
    "### Training the model"
   ]
  },
  {
   "cell_type": "code",
   "execution_count": 18,
   "id": "6223eff8",
   "metadata": {},
   "outputs": [
    {
     "name": "stdout",
     "output_type": "stream",
     "text": [
      "Epoch 1/50 --> loss: 0.014705 - mean absolute error: 0.061491 | Valid loss: 0.0016073 - Valid mean absolute error: 0.027196            \n",
      "Epoch 2/50 --> loss: 0.0021835 - mean absolute error: 0.031053 | Valid loss: 0.0007085 - Valid mean absolute error: 0.019237            \n",
      "Epoch 3/50 --> loss: 0.001269 - mean absolute error: 0.024683 | Valid loss: 0.00051641 - Valid mean absolute error: 0.016308            \n",
      "Epoch 4/50 --> loss: 0.00093196 - mean absolute error: 0.021545 | Valid loss: 0.00042187 - Valid mean absolute error: 0.015165            \n",
      "Epoch 5/50 --> loss: 0.00073854 - mean absolute error: 0.019368 | Valid loss: 0.00031056 - Valid mean absolute error: 0.012863            \n",
      "Epoch 6/50 --> loss: 0.00063947 - mean absolute error: 0.018271 | Valid loss: 0.00031171 - Valid mean absolute error: 0.012945            \n",
      "Epoch 7/50 --> loss: 0.00053324 - mean absolute error: 0.016558 | Valid loss: 0.00023622 - Valid mean absolute error: 0.011199            \n",
      "Epoch 8/50 --> loss: 0.00044282 - mean absolute error: 0.014576 | Valid loss: 0.00017962 - Valid mean absolute error: 0.0096959           \n",
      "Epoch 9/50 --> loss: 0.00037401 - mean absolute error: 0.013054 | Valid loss: 0.00013647 - Valid mean absolute error: 0.0072727           \n",
      "Epoch 10/50 --> loss: 0.0003017 - mean absolute error: 0.011604 | Valid loss: 0.00020164 - Valid mean absolute error: 0.0098461           \n",
      "Epoch 11/50 --> loss: 0.00028052 - mean absolute error: 0.011071 | Valid loss: 0.00014303 - Valid mean absolute error: 0.0083323           \n",
      "Epoch 12/50 --> loss: 0.00025174 - mean absolute error: 0.01037 | Valid loss: 0.00012941 - Valid mean absolute error: 0.0072977           \n",
      "Epoch 13/50 --> loss: 0.00024318 - mean absolute error: 0.010091 | Valid loss: 9.4489e-05 - Valid mean absolute error: 0.0057572           \n",
      "Epoch 14/50 --> loss: 0.0002168 - mean absolute error: 0.0095306 | Valid loss: 0.00011063 - Valid mean absolute error: 0.0070418           \n",
      "Epoch 15/50 --> loss: 0.00022064 - mean absolute error: 0.0095562 | Valid loss: 0.000131 - Valid mean absolute error: 0.0072312           \n",
      "Epoch 16/50 --> loss: 0.00019942 - mean absolute error: 0.0089876 | Valid loss: 0.00022494 - Valid mean absolute error: 0.011695            \n",
      "Epoch 17/50 --> loss: 0.00018714 - mean absolute error: 0.0086367 | Valid loss: 0.00013493 - Valid mean absolute error: 0.0071806           \n",
      "Epoch 18/50 --> loss: 0.00016675 - mean absolute error: 0.0081968 | Valid loss: 8.7727e-05 - Valid mean absolute error: 0.0054466           \n",
      "Epoch 19/50 --> loss: 0.0001843 - mean absolute error: 0.0085152 | Valid loss: 0.00012791 - Valid mean absolute error: 0.0088855           \n",
      "Epoch 20/50 --> loss: 0.0001692 - mean absolute error: 0.0081739 | Valid loss: 0.0001806 - Valid mean absolute error: 0.0096694           \n",
      "Epoch 21/50 --> loss: 0.00017499 - mean absolute error: 0.0084708 | Valid loss: 7.3881e-05 - Valid mean absolute error: 0.0050098           \n",
      "Epoch 22/50 --> loss: 0.00015904 - mean absolute error: 0.0080258 | Valid loss: 0.00022113 - Valid mean absolute error: 0.011964            \n",
      "Epoch 23/50 --> loss: 0.00016723 - mean absolute error: 0.0080725 | Valid loss: 0.00013048 - Valid mean absolute error: 0.0064704           \n",
      "Epoch 24/50 --> loss: 0.0001378 - mean absolute error: 0.0072706 | Valid loss: 0.00014644 - Valid mean absolute error: 0.0083456           \n",
      "Epoch 25/50 --> loss: 0.00014815 - mean absolute error: 0.0077862 | Valid loss: 8.2362e-05 - Valid mean absolute error: 0.0053429           \n",
      "Epoch 26/50 --> loss: 0.00013675 - mean absolute error: 0.0073334 | Valid loss: 7.4592e-05 - Valid mean absolute error: 0.0050475           \n",
      "Epoch 27/50 --> loss: 0.00012642 - mean absolute error: 0.0070016 | Valid loss: 0.00012424 - Valid mean absolute error: 0.0064999           \n",
      "Epoch 28/50 --> loss: 0.00012214 - mean absolute error: 0.0069448 | Valid loss: 0.00010502 - Valid mean absolute error: 0.0067623           \n",
      "Epoch 29/50 --> loss: 0.00012055 - mean absolute error: 0.0068468 | Valid loss: 0.0001456 - Valid mean absolute error: 0.0086682           \n",
      "Epoch 30/50 --> loss: 0.00013321 - mean absolute error: 0.0073811 | Valid loss: 7.8201e-05 - Valid mean absolute error: 0.0049051           \n",
      "Epoch 31/50 --> loss: 0.00012596 - mean absolute error: 0.0070175 | Valid loss: 7.5015e-05 - Valid mean absolute error: 0.0052276           \n",
      "Early stopping: stopping training after 31 epochs.\n"
     ]
    }
   ],
   "source": [
    "history = model.fit(\n",
    "    epochs = epochs,\n",
    "    X_train = X_train, \n",
    "    y_train = y_train,\n",
    "    loss_fn = loss_fn,\n",
    "    X_valid = X_valid,\n",
    "    y_valid = y_valid,\n",
    "    optimizer = optimizer,\n",
    "    batch_size = batch_size,\n",
    "    shuffle = shuffle_data,\n",
    "    metrics = [metrics.mean_absolute_error],\n",
    "    callbacks = [callbacks.EarlyStopping(monitor='val_loss', patience=10)]\n",
    ")"
   ]
  },
  {
   "cell_type": "code",
   "execution_count": 19,
   "id": "149cbbdd",
   "metadata": {},
   "outputs": [],
   "source": [
    "# Save the model\n",
    "model.save(model_path)"
   ]
  },
  {
   "cell_type": "code",
   "execution_count": 20,
   "id": "55e2bf51",
   "metadata": {},
   "outputs": [
    {
     "data": {
      "image/png": "[encoded data removed]",
      "text/plain": [
       "<Figure size 800x400 with 1 Axes>"
      ]
     },
     "metadata": {},
     "output_type": "display_data"
    }
   ],
   "source": [
    "# Plot the training and validation loss\n",
    "data_analysis.plot_history(\n",
    "    train_loss = history[\"loss\"], \n",
    "    valid_loss = history[\"val_loss\"], \n",
    "    title = \"Training and Validation Loss\", \n",
    "    xlabel = \"Epoch\",\n",
    "    ylabel = \"Loss\"\n",
    ")"
   ]
  },
  {
   "cell_type": "markdown",
   "id": "aeda5d37",
   "metadata": {},
   "source": [
    "### Evaluation"
   ]
  },
  {
   "cell_type": "code",
   "execution_count": 21,
   "id": "06b43ae3",
   "metadata": {},
   "outputs": [],
   "source": [
    "# Disable gradient computation\n",
    "with context_manager.no_grad():\n",
    "    # Set the model in evaluation mode\n",
    "    model.eval()\n",
    "    \n",
    "    # Compute the predictions\n",
    "    predictions = model(X_test)"
   ]
  },
  {
   "cell_type": "code",
   "execution_count": 22,
   "id": "3b06448a",
   "metadata": {},
   "outputs": [
    {
     "name": "stdout",
     "output_type": "stream",
     "text": [
      "Mean Absolute Error: 17.110645\n"
     ]
    }
   ],
   "source": [
    "\n",
    "# Denormalize the predictions and the true values\n",
    "predictions = Tensor(min_max_denormaliation(predictions.to_numpy(), min, max))\n",
    "y_test = Tensor(min_max_denormaliation(y_test.to_numpy(), min, max))\n",
    "\n",
    "# Extract only the close prices from the predictions and the true values\n",
    "close_prices_pred = predictions[:, close_price_idx]\n",
    "close_prices_true = y_test[:, close_price_idx]\n",
    "\n",
    "# Calculate the mean absolute error\n",
    "mae = metrics.mean_absolute_error(close_prices_pred, close_prices_true)\n",
    "\n",
    "# Print the mean absolute error\n",
    "print(\"Mean Absolute Error:\", mae.to_numpy())"
   ]
  },
  {
   "cell_type": "markdown",
   "id": "01794937",
   "metadata": {},
   "source": [
    "### Inference"
   ]
  },
  {
   "cell_type": "code",
   "execution_count": 31,
   "id": "2990cfca",
   "metadata": {},
   "outputs": [],
   "source": [
    "\n",
    "# Define the number of steps to generate and\n",
    "# take a random sequence from the features set\n",
    "num_generation_steps = 8\n",
    "idx = np.random.randint(0, len(features.data) - 1)\n",
    "\n",
    "# Select a random sequence from the features set and normalize it\n",
    "input_seq = Tensor(min_max_normalization(features[idx:idx + 1].to_numpy(), min, max))\n",
    "\n",
    "# Autoregressive generation\n",
    "out_seq = model.autoregressive_generation(x=input_seq, num_steps=num_generation_steps)\n",
    "\n",
    "# If the output is a generator, convert it to a list\n",
    "out = model.concat_generation(out_seq) if not isinstance(out_seq, Tensor) else out_seq\n",
    "    \n",
    "# Concatenate the generated sequence with the input sequence and denormalize them\n",
    "generated_sequence = Tensor(min_max_denormaliation(np.concatenate((input_seq.to_numpy(), out.to_numpy()), axis=1), min, max))"
   ]
  },
  {
   "cell_type": "code",
   "execution_count": 32,
   "id": "a604369a",
   "metadata": {},
   "outputs": [
    {
     "data": {
      "image/png": "[encoded data removed]",
      "text/plain": [
       "<Figure size 1000x400 with 1 Axes>"
      ]
     },
     "metadata": {},
     "output_type": "display_data"
    }
   ],
   "source": [
    "# Plot the generated sequence\n",
    "plot_data(generated_sequence.to_numpy()[0, :, close_price_idx], dates[idx], dates[idx + num_generation_steps], x_freq=1, freq_locator=\"day\")"
   ]
  }
 ],
 "metadata": {
  "kernelspec": {
   "display_name": "venv",
   "language": "python",
   "name": "python3"
  },
  "language_info": {
   "codemirror_mode": {
    "name": "ipython",
    "version": 3
   },
   "file_extension": ".py",
   "mimetype": "text/x-python",
   "name": "python",
   "nbconvert_exporter": "python",
   "pygments_lexer": "ipython3",
   "version": "3.11.12"
  }
 },
 "nbformat": 4,
 "nbformat_minor": 5
}
