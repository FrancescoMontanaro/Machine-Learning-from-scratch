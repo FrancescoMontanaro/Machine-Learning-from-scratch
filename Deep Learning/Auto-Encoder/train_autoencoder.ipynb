{
 "cells": [
  {
   "cell_type": "code",
   "execution_count": 1,
   "metadata": {},
   "outputs": [],
   "source": [
    "import sys\n",
    "import numpy as np\n",
    "from keras import datasets\n",
    "from typing import Optional\n",
    "import matplotlib.pyplot as plt\n",
    "\n",
    "# Add the path to the custom library to the system path\n",
    "sys.path.append('..')\n",
    "\n",
    "# Import the module from the custom library\n",
    "from src.core.utils import data_analysis, data_processing, context_manager\n",
    "from src import Tensor, Sequential, layers, activations, loss_functions, optimizers, callbacks"
   ]
  },
  {
   "cell_type": "markdown",
   "metadata": {},
   "source": [
    "### Constants and hyperparameters"
   ]
  },
  {
   "cell_type": "code",
   "execution_count": 2,
   "metadata": {},
   "outputs": [],
   "source": [
    "n_samples = 1000 # Number of samples to generate\n",
    "train_test_split_pct = 0.2 # Percentage of samples to use for testing\n",
    "learning_rate = 1e-03 # Learning rate for the optimizer\n",
    "batch_size = 512 # Number of samples to use for each batch\n",
    "epochs = 200 # Number of epochs to train the model\n",
    "seed = 1234 # Seed for reproducibility\n",
    "data_noise = 0.15 # Noise to add to the data"
   ]
  },
  {
   "cell_type": "code",
   "execution_count": 3,
   "metadata": {},
   "outputs": [],
   "source": [
    "# Set the seed for reproducibility\n",
    "np.random.seed(seed)"
   ]
  },
  {
   "cell_type": "markdown",
   "metadata": {},
   "source": [
    "### Data loading"
   ]
  },
  {
   "cell_type": "code",
   "execution_count": 4,
   "metadata": {},
   "outputs": [
    {
     "name": "stdout",
     "output_type": "stream",
     "text": [
      "Number of classes: 10\n",
      "Training set: (48000, 28, 28, 1) (48000,)\n",
      "Testing set: (12000, 28, 28, 1) (12000,)\n"
     ]
    }
   ],
   "source": [
    "# Load the dataset\n",
    "(train_images, train_labels), (test_images, test_labels) = datasets.mnist.load_data()\n",
    "\n",
    "# Add the channel dimension to the images\n",
    "train_images = np.expand_dims(train_images, axis=-1)\n",
    "test_images = np.expand_dims(test_images, axis=-1)\n",
    "\n",
    "# Extract the number of classes in the dataset\n",
    "num_classes = len(np.unique(train_labels))    \n",
    "\n",
    "# Convert the lists to numpy arrays\n",
    "X_train = Tensor(np.array(train_images))\n",
    "y_train = Tensor(np.array(train_labels), dtype=np.int8)\n",
    "X_test = Tensor(np.array(test_images))\n",
    "y_test = Tensor(np.array(test_labels), dtype=np.int8)\n",
    "\n",
    "# Split the training set into training, validation and testing sets\n",
    "X_train, X_test, y_train, y_test = data_processing.split_data(data=(X_train, y_train), split_pct=train_test_split_pct, shuffle=True)\n",
    "\n",
    "# Print the dataset information\n",
    "print(\"Number of classes:\", num_classes)\n",
    "print('Training set:', X_train.shape(), y_train.shape())\n",
    "print('Testing set:', X_test.shape(), y_test.shape())"
   ]
  },
  {
   "cell_type": "markdown",
   "metadata": {},
   "source": [
    "### Data processing"
   ]
  },
  {
   "cell_type": "code",
   "execution_count": 5,
   "metadata": {},
   "outputs": [],
   "source": [
    "# Normalization\n",
    "def normalize(X: Tensor) -> Tensor:\n",
    "    \"\"\"\n",
    "    Normalize the input data by dividing by the maximum value in the training set.\n",
    "    \n",
    "    Parameters:\n",
    "    - X (Tensor): The input data to normalize\n",
    "    \n",
    "    Returns:\n",
    "    - Tensor: The normalized input data\n",
    "    \"\"\"\n",
    "    \n",
    "    # Normalize the input data\n",
    "    return X / 255.0\n",
    "\n",
    "# Normalize the input data\n",
    "X_train = normalize(X_train)\n",
    "X_test = normalize(X_test)"
   ]
  },
  {
   "cell_type": "code",
   "execution_count": 6,
   "metadata": {},
   "outputs": [],
   "source": [
    "# Flatten the input data\n",
    "X_train_flatten = X_train.reshape((X_train.shape()[0], -1))\n",
    "X_test_flatten = X_test.reshape((X_test.shape()[0], -1))"
   ]
  },
  {
   "cell_type": "markdown",
   "metadata": {},
   "source": [
    "### Data visualization"
   ]
  },
  {
   "cell_type": "code",
   "execution_count": 7,
   "metadata": {},
   "outputs": [
    {
     "data": {
      "image/png": "[encoded data removed]",
      "text/plain": [
       "<Figure size 2000x500 with 10 Axes>"
      ]
     },
     "metadata": {},
     "output_type": "display_data"
    }
   ],
   "source": [
    "def plot_samples(samples: list[np.ndarray], labels: Optional[list[np.ndarray]] = None) -> None:\n",
    "    \"\"\"\n",
    "    Plot the samples in a grid.\n",
    "    \n",
    "    Parameters:\n",
    "    - samples (list[np.ndarray]): The samples to plot\n",
    "    - labels (list[np.ndarray]): The labels of the samples\n",
    "    \"\"\"\n",
    "        \n",
    "    # Plot the samples in a grid\n",
    "    _, axes = plt.subplots(1, len(samples), figsize=(20, 5))\n",
    "    \n",
    "    # Ensure axes is always iterable\n",
    "    if len(samples) == 1:\n",
    "        axes = [axes]\n",
    "        \n",
    "    # Iterate through the samples\n",
    "    for i, ax in enumerate(axes):\n",
    "        ax.imshow(samples[i], cmap='gray')\n",
    "        ax.axis('off')\n",
    "        if isinstance(labels, np.ndarray): \n",
    "            ax.set_title(f'Label: {labels[i]}')\n",
    "        \n",
    "# Plot the first 10 samples\n",
    "plot_samples(list(X_train.data[:10]), list(y_train.data[:10]))"
   ]
  },
  {
   "cell_type": "code",
   "execution_count": 8,
   "metadata": {},
   "outputs": [],
   "source": [
    "# Define the dimension of the latent space\n",
    "latent_dim = 32\n",
    "\n",
    "# Create the encoder\n",
    "encoder = Sequential(\n",
    "    name = 'Encoder',\n",
    "    modules = [\n",
    "        layers.Input(shape=X_train_flatten.shape()[1:]),\n",
    "        layers.Dense(num_units=128, activation=activations.ReLU()),\n",
    "        layers.Dense(num_units=64, activation=activations.ReLU()),\n",
    "        layers.Dense(num_units=latent_dim, activation=activations.ReLU(), name='Latent'),\n",
    "    ]\n",
    ")\n",
    "\n",
    "# Create the decoder\n",
    "decoder = Sequential(\n",
    "    name = 'Decoder',\n",
    "    modules = [\n",
    "        layers.Input(shape=(latent_dim,), name='Latent'),\n",
    "        layers.Dense(num_units=64, activation=activations.ReLU()),\n",
    "        layers.Dense(num_units=128, activation=activations.ReLU()),\n",
    "        layers.Dense(num_units=X_train_flatten.shape()[1], activation=activations.Sigmoid())\n",
    "    ]\n",
    ")\n",
    "\n",
    "# Create the auto-encoder\n",
    "autoencoder = Sequential(\n",
    "    name = 'Autoencoder',\n",
    "    modules = [\n",
    "        encoder,\n",
    "        decoder\n",
    "    ]\n",
    ")\n",
    "\n",
    "# Initialize the optimizer\n",
    "optimizer = optimizers.Adam(learning_rate)\n",
    "\n",
    "# Initialize the loss function\n",
    "loss_fn = loss_functions.BinaryCrossEntropy()"
   ]
  },
  {
   "cell_type": "markdown",
   "metadata": {},
   "source": [
    "### Initializing the model"
   ]
  },
  {
   "cell_type": "code",
   "execution_count": 9,
   "metadata": {},
   "outputs": [],
   "source": [
    "# Call the model with a first batch to initialize the weights\n",
    "# This is not necessary, but it is useful to know the input size\n",
    "\n",
    "# Disable gradient computation\n",
    "with context_manager.no_grad():\n",
    "    # Set the model in evaluation mode\n",
    "    autoencoder.eval()\n",
    "    \n",
    "    # Call the model with a batch of data to initialize it\n",
    "    autoencoder(X_train_flatten[:batch_size])"
   ]
  },
  {
   "cell_type": "code",
   "execution_count": 10,
   "metadata": {},
   "outputs": [
    {
     "name": "stdout",
     "output_type": "stream",
     "text": [
      "\n",
      "autoencoder.modules[0].encoder\n",
      "\n",
      "-----------------------------------------------------------------------------------------------\n",
      "Module (type)                                          Output Shape        Trainable params #  \n",
      "===============================================================================================\n",
      "encoder.modules[0].input (Input)                       (512, 784)          0                   \n",
      "-----------------------------------------------------------------------------------------------\n",
      "encoder.modules[1].dense (Dense)                       (512, 128)          100480              \n",
      "-----------------------------------------------------------------------------------------------\n",
      "encoder.modules[2].dense (Dense)                       (512, 64)           8256                \n",
      "-----------------------------------------------------------------------------------------------\n",
      "encoder.modules[3].latent (Dense)                      (512, 32)           2080                \n",
      "===============================================================================================\n",
      "Total trainable parameters: 110816\n",
      "-----------------------------------------------------------------------------------------------\n",
      "\n",
      "autoencoder.modules[1].decoder\n",
      "\n",
      "-----------------------------------------------------------------------------------------------\n",
      "Module (type)                                          Output Shape        Trainable params #  \n",
      "===============================================================================================\n",
      "decoder.modules[0].latent (Input)                      (512, 32)           0                   \n",
      "-----------------------------------------------------------------------------------------------\n",
      "decoder.modules[1].dense (Dense)                       (512, 64)           2112                \n",
      "-----------------------------------------------------------------------------------------------\n",
      "decoder.modules[2].dense (Dense)                       (512, 128)          8320                \n",
      "-----------------------------------------------------------------------------------------------\n",
      "decoder.modules[3].dense (Dense)                       (512, 784)          101136              \n",
      "===============================================================================================\n",
      "Total trainable parameters: 111568\n",
      "-----------------------------------------------------------------------------------------------\n",
      "\n",
      "Autoencoder\n",
      "\n",
      "-----------------------------------------------------------------------------------------------\n",
      "Module (type)                                          Output Shape        Trainable params #  \n",
      "===============================================================================================\n",
      "autoencoder.modules[0].encoder (Sequential)            (512, 32)           110816              \n",
      "-----------------------------------------------------------------------------------------------\n",
      "autoencoder.modules[1].decoder (Sequential)            (512, 784)          111568              \n",
      "===============================================================================================\n",
      "Total trainable parameters: 222384\n",
      "-----------------------------------------------------------------------------------------------\n"
     ]
    }
   ],
   "source": [
    "# Display the encoder summary\n",
    "encoder.summary()\n",
    "\n",
    "# Display the decoder summary\n",
    "decoder.summary()\n",
    "\n",
    "# Display the model summary\n",
    "autoencoder.summary()"
   ]
  },
  {
   "cell_type": "markdown",
   "metadata": {},
   "source": [
    "### Training the model"
   ]
  },
  {
   "cell_type": "code",
   "execution_count": 11,
   "metadata": {},
   "outputs": [
    {
     "name": "stdout",
     "output_type": "stream",
     "text": [
      "Epoch 1/200 --> loss: 0.3484  | Validation loss: 0.2634                                                   \n",
      "Epoch 2/200 --> loss: 0.2554  | Validation loss: 0.2461                                                   \n",
      "Epoch 3/200 --> loss: 0.2389  | Validation loss: 0.2314                                                   \n",
      "Epoch 4/200 --> loss: 0.2131  | Validation loss: 0.1955                                                   \n",
      "Epoch 5/200 --> loss: 0.1817  | Validation loss: 0.1711                                                   \n",
      "Epoch 6/200 --> loss: 0.1661  | Validation loss: 0.1610                                                   \n",
      "Epoch 7/200 --> loss: 0.1580  | Validation loss: 0.1549                                                   \n",
      "Epoch 8/200 --> loss: 0.1525  | Validation loss: 0.1502                                                   \n",
      "Epoch 9/200 --> loss: 0.1485  | Validation loss: 0.1467                                                   \n",
      "Epoch 10/200 --> loss: 0.1451  | Validation loss: 0.1433                                                   \n",
      "Epoch 11/200 --> loss: 0.1421  | Validation loss: 0.1405                                                   \n",
      "Epoch 12/200 (52.13%) | 189 tensors in memory | 10.93 ms/step --> loss: 0.1359"
     ]
    },
    {
     "ename": "KeyboardInterrupt",
     "evalue": "",
     "output_type": "error",
     "traceback": [
      "\u001b[0;31m---------------------------------------------------------------------------\u001b[0m",
      "\u001b[0;31mKeyboardInterrupt\u001b[0m                         Traceback (most recent call last)",
      "Cell \u001b[0;32mIn[11], line 1\u001b[0m\n\u001b[0;32m----> 1\u001b[0m history \u001b[38;5;241m=\u001b[39m \u001b[43mautoencoder\u001b[49m\u001b[38;5;241;43m.\u001b[39;49m\u001b[43mfit\u001b[49m\u001b[43m(\u001b[49m\n\u001b[1;32m      2\u001b[0m \u001b[43m    \u001b[49m\u001b[43mX_train\u001b[49m\u001b[43m \u001b[49m\u001b[38;5;241;43m=\u001b[39;49m\u001b[43m \u001b[49m\u001b[43mX_train_flatten\u001b[49m\u001b[43m,\u001b[49m\n\u001b[1;32m      3\u001b[0m \u001b[43m    \u001b[49m\u001b[43my_train\u001b[49m\u001b[43m \u001b[49m\u001b[38;5;241;43m=\u001b[39;49m\u001b[43m \u001b[49m\u001b[43mX_train_flatten\u001b[49m\u001b[43m,\u001b[49m\n\u001b[1;32m      4\u001b[0m \u001b[43m    \u001b[49m\u001b[43moptimizer\u001b[49m\u001b[43m \u001b[49m\u001b[38;5;241;43m=\u001b[39;49m\u001b[43m \u001b[49m\u001b[43moptimizer\u001b[49m\u001b[43m,\u001b[49m\n\u001b[1;32m      5\u001b[0m \u001b[43m    \u001b[49m\u001b[43mloss_fn\u001b[49m\u001b[43m \u001b[49m\u001b[38;5;241;43m=\u001b[39;49m\u001b[43m \u001b[49m\u001b[43mloss_fn\u001b[49m\u001b[43m,\u001b[49m\n\u001b[1;32m      6\u001b[0m \u001b[43m    \u001b[49m\u001b[43mX_valid\u001b[49m\u001b[43m \u001b[49m\u001b[38;5;241;43m=\u001b[39;49m\u001b[43m \u001b[49m\u001b[43mX_test_flatten\u001b[49m\u001b[43m,\u001b[49m\n\u001b[1;32m      7\u001b[0m \u001b[43m    \u001b[49m\u001b[43my_valid\u001b[49m\u001b[43m \u001b[49m\u001b[38;5;241;43m=\u001b[39;49m\u001b[43m \u001b[49m\u001b[43mX_test_flatten\u001b[49m\u001b[43m,\u001b[49m\n\u001b[1;32m      8\u001b[0m \u001b[43m    \u001b[49m\u001b[43mbatch_size\u001b[49m\u001b[43m \u001b[49m\u001b[38;5;241;43m=\u001b[39;49m\u001b[43m \u001b[49m\u001b[43mbatch_size\u001b[49m\u001b[43m,\u001b[49m\n\u001b[1;32m      9\u001b[0m \u001b[43m    \u001b[49m\u001b[43mepochs\u001b[49m\u001b[43m \u001b[49m\u001b[38;5;241;43m=\u001b[39;49m\u001b[43m \u001b[49m\u001b[43mepochs\u001b[49m\u001b[43m,\u001b[49m\n\u001b[1;32m     10\u001b[0m \u001b[43m    \u001b[49m\u001b[43mcallbacks\u001b[49m\u001b[43m \u001b[49m\u001b[38;5;241;43m=\u001b[39;49m\u001b[43m \u001b[49m\u001b[43m[\u001b[49m\u001b[43mcallbacks\u001b[49m\u001b[38;5;241;43m.\u001b[39;49m\u001b[43mEarlyStopping\u001b[49m\u001b[43m(\u001b[49m\u001b[43mmonitor\u001b[49m\u001b[38;5;241;43m=\u001b[39;49m\u001b[38;5;124;43m'\u001b[39;49m\u001b[38;5;124;43mval_loss\u001b[39;49m\u001b[38;5;124;43m'\u001b[39;49m\u001b[43m,\u001b[49m\u001b[43m \u001b[49m\u001b[43mpatience\u001b[49m\u001b[38;5;241;43m=\u001b[39;49m\u001b[38;5;241;43m5\u001b[39;49m\u001b[43m)\u001b[49m\u001b[43m]\u001b[49m\n\u001b[1;32m     11\u001b[0m \u001b[43m)\u001b[49m\n",
      "File \u001b[0;32m~/Documents/Machine-Learning-from-scratch/Deep Learning/Auto-Encoder/../src/core/sequential.py:193\u001b[0m, in \u001b[0;36mSequential.fit\u001b[0;34m(self, X_train, y_train, X_valid, y_valid, optimizer, loss_fn, batch_size, gradient_accumulation_steps, epochs, metrics, callbacks)\u001b[0m\n\u001b[1;32m    191\u001b[0m elapsed_time \u001b[38;5;241m+\u001b[39m\u001b[38;5;241m=\u001b[39m (end_time \u001b[38;5;241m-\u001b[39m start_time) \u001b[38;5;66;03m# Update the elapsed time\u001b[39;00m\n\u001b[1;32m    192\u001b[0m ms_per_step \u001b[38;5;241m=\u001b[39m elapsed_time \u001b[38;5;241m/\u001b[39m (training_step \u001b[38;5;241m+\u001b[39m \u001b[38;5;241m1\u001b[39m) \u001b[38;5;241m*\u001b[39m \u001b[38;5;241m1000\u001b[39m \u001b[38;5;66;03m# Compute the milliseconds per step\u001b[39;00m\n\u001b[0;32m--> 193\u001b[0m tensors_in_memory \u001b[38;5;241m=\u001b[39m \u001b[38;5;28mlen\u001b[39m(\u001b[43m[\u001b[49m\u001b[43mt\u001b[49m\u001b[43m \u001b[49m\u001b[38;5;28;43;01mfor\u001b[39;49;00m\u001b[43m \u001b[49m\u001b[43mt\u001b[49m\u001b[43m \u001b[49m\u001b[38;5;129;43;01min\u001b[39;49;00m\u001b[43m \u001b[49m\u001b[43mgc\u001b[49m\u001b[38;5;241;43m.\u001b[39;49m\u001b[43mget_objects\u001b[49m\u001b[43m(\u001b[49m\u001b[43m)\u001b[49m\u001b[43m \u001b[49m\u001b[38;5;28;43;01mif\u001b[39;49;00m\u001b[43m \u001b[49m\u001b[38;5;28;43misinstance\u001b[39;49m\u001b[43m(\u001b[49m\u001b[43mt\u001b[49m\u001b[43m,\u001b[49m\u001b[43m \u001b[49m\u001b[43mTensor\u001b[49m\u001b[43m)\u001b[49m\u001b[43m]\u001b[49m) \u001b[38;5;66;03m# Compute the number of tensors in memory\u001b[39;00m\n\u001b[1;32m    195\u001b[0m \u001b[38;5;66;03m# Display epoch progress\u001b[39;00m\n\u001b[1;32m    196\u001b[0m \u001b[38;5;28mprint\u001b[39m(\u001b[38;5;124mf\u001b[39m\u001b[38;5;124m\"\u001b[39m\u001b[38;5;130;01m\\r\u001b[39;00m\u001b[38;5;124mEpoch \u001b[39m\u001b[38;5;132;01m{\u001b[39;00m\u001b[38;5;28mself\u001b[39m\u001b[38;5;241m.\u001b[39mepoch\u001b[38;5;250m \u001b[39m\u001b[38;5;241m+\u001b[39m\u001b[38;5;250m \u001b[39m\u001b[38;5;241m1\u001b[39m\u001b[38;5;132;01m}\u001b[39;00m\u001b[38;5;124m/\u001b[39m\u001b[38;5;132;01m{\u001b[39;00mepochs\u001b[38;5;132;01m}\u001b[39;00m\u001b[38;5;124m (\u001b[39m\u001b[38;5;132;01m{\u001b[39;00m\u001b[38;5;28mround\u001b[39m((((training_step\u001b[38;5;250m \u001b[39m\u001b[38;5;241m+\u001b[39m\u001b[38;5;250m \u001b[39m\u001b[38;5;241m1\u001b[39m)\u001b[38;5;241m/\u001b[39mn_training_steps)\u001b[38;5;241m*\u001b[39m\u001b[38;5;241m100\u001b[39m),\u001b[38;5;250m \u001b[39m\u001b[38;5;241m2\u001b[39m)\u001b[38;5;132;01m}\u001b[39;00m\u001b[38;5;124m%) | \u001b[39m\u001b[38;5;132;01m{\u001b[39;00mtensors_in_memory\u001b[38;5;132;01m}\u001b[39;00m\u001b[38;5;124m tensors in memory | \u001b[39m\u001b[38;5;132;01m{\u001b[39;00m\u001b[38;5;28mround\u001b[39m(ms_per_step,\u001b[38;5;250m \u001b[39m\u001b[38;5;241m2\u001b[39m)\u001b[38;5;132;01m}\u001b[39;00m\u001b[38;5;124m ms/step --> loss: \u001b[39m\u001b[38;5;132;01m{\u001b[39;00mtraining_loss\u001b[38;5;241m.\u001b[39mdata\u001b[38;5;132;01m:\u001b[39;00m\u001b[38;5;124m.4f\u001b[39m\u001b[38;5;132;01m}\u001b[39;00m\u001b[38;5;124m\"\u001b[39m, end\u001b[38;5;241m=\u001b[39m\u001b[38;5;124m\"\u001b[39m\u001b[38;5;124m\"\u001b[39m)\n",
      "File \u001b[0;32m~/Documents/Machine-Learning-from-scratch/Deep Learning/Auto-Encoder/../src/core/sequential.py:193\u001b[0m, in \u001b[0;36m<listcomp>\u001b[0;34m(.0)\u001b[0m\n\u001b[1;32m    191\u001b[0m elapsed_time \u001b[38;5;241m+\u001b[39m\u001b[38;5;241m=\u001b[39m (end_time \u001b[38;5;241m-\u001b[39m start_time) \u001b[38;5;66;03m# Update the elapsed time\u001b[39;00m\n\u001b[1;32m    192\u001b[0m ms_per_step \u001b[38;5;241m=\u001b[39m elapsed_time \u001b[38;5;241m/\u001b[39m (training_step \u001b[38;5;241m+\u001b[39m \u001b[38;5;241m1\u001b[39m) \u001b[38;5;241m*\u001b[39m \u001b[38;5;241m1000\u001b[39m \u001b[38;5;66;03m# Compute the milliseconds per step\u001b[39;00m\n\u001b[0;32m--> 193\u001b[0m tensors_in_memory \u001b[38;5;241m=\u001b[39m \u001b[38;5;28mlen\u001b[39m([t \u001b[38;5;28;01mfor\u001b[39;00m t \u001b[38;5;129;01min\u001b[39;00m gc\u001b[38;5;241m.\u001b[39mget_objects() \u001b[38;5;28;01mif\u001b[39;00m \u001b[38;5;28misinstance\u001b[39m(t, Tensor)]) \u001b[38;5;66;03m# Compute the number of tensors in memory\u001b[39;00m\n\u001b[1;32m    195\u001b[0m \u001b[38;5;66;03m# Display epoch progress\u001b[39;00m\n\u001b[1;32m    196\u001b[0m \u001b[38;5;28mprint\u001b[39m(\u001b[38;5;124mf\u001b[39m\u001b[38;5;124m\"\u001b[39m\u001b[38;5;130;01m\\r\u001b[39;00m\u001b[38;5;124mEpoch \u001b[39m\u001b[38;5;132;01m{\u001b[39;00m\u001b[38;5;28mself\u001b[39m\u001b[38;5;241m.\u001b[39mepoch\u001b[38;5;250m \u001b[39m\u001b[38;5;241m+\u001b[39m\u001b[38;5;250m \u001b[39m\u001b[38;5;241m1\u001b[39m\u001b[38;5;132;01m}\u001b[39;00m\u001b[38;5;124m/\u001b[39m\u001b[38;5;132;01m{\u001b[39;00mepochs\u001b[38;5;132;01m}\u001b[39;00m\u001b[38;5;124m (\u001b[39m\u001b[38;5;132;01m{\u001b[39;00m\u001b[38;5;28mround\u001b[39m((((training_step\u001b[38;5;250m \u001b[39m\u001b[38;5;241m+\u001b[39m\u001b[38;5;250m \u001b[39m\u001b[38;5;241m1\u001b[39m)\u001b[38;5;241m/\u001b[39mn_training_steps)\u001b[38;5;241m*\u001b[39m\u001b[38;5;241m100\u001b[39m),\u001b[38;5;250m \u001b[39m\u001b[38;5;241m2\u001b[39m)\u001b[38;5;132;01m}\u001b[39;00m\u001b[38;5;124m%) | \u001b[39m\u001b[38;5;132;01m{\u001b[39;00mtensors_in_memory\u001b[38;5;132;01m}\u001b[39;00m\u001b[38;5;124m tensors in memory | \u001b[39m\u001b[38;5;132;01m{\u001b[39;00m\u001b[38;5;28mround\u001b[39m(ms_per_step,\u001b[38;5;250m \u001b[39m\u001b[38;5;241m2\u001b[39m)\u001b[38;5;132;01m}\u001b[39;00m\u001b[38;5;124m ms/step --> loss: \u001b[39m\u001b[38;5;132;01m{\u001b[39;00mtraining_loss\u001b[38;5;241m.\u001b[39mdata\u001b[38;5;132;01m:\u001b[39;00m\u001b[38;5;124m.4f\u001b[39m\u001b[38;5;132;01m}\u001b[39;00m\u001b[38;5;124m\"\u001b[39m, end\u001b[38;5;241m=\u001b[39m\u001b[38;5;124m\"\u001b[39m\u001b[38;5;124m\"\u001b[39m)\n",
      "\u001b[0;31mKeyboardInterrupt\u001b[0m: "
     ]
    }
   ],
   "source": [
    "history = autoencoder.fit(\n",
    "    X_train = X_train_flatten,\n",
    "    y_train = X_train_flatten,\n",
    "    optimizer = optimizer,\n",
    "    loss_fn = loss_fn,\n",
    "    X_valid = X_test_flatten,\n",
    "    y_valid = X_test_flatten,\n",
    "    batch_size = batch_size,\n",
    "    epochs = epochs,\n",
    "    callbacks = [callbacks.EarlyStopping(monitor='val_loss', patience=5)]\n",
    ")"
   ]
  },
  {
   "cell_type": "code",
   "execution_count": null,
   "metadata": {},
   "outputs": [],
   "source": [
    "# Plot the training and validation loss\n",
    "data_analysis.plot_history(history[\"loss\"], history[\"val_loss\"], \"Training and Validation Loss\", \"Epoch\", \"Loss\")"
   ]
  },
  {
   "cell_type": "markdown",
   "metadata": {},
   "source": [
    "### Inference"
   ]
  },
  {
   "cell_type": "code",
   "execution_count": null,
   "metadata": {},
   "outputs": [],
   "source": [
    "# Disable gradient computation\n",
    "with context_manager.no_grad():\n",
    "    # Set the model in evaluation mode\n",
    "    encoder.eval()\n",
    "    \n",
    "    # Execute the encoder on the whole training set\n",
    "    latent_train = encoder(\n",
    "        x = X_train_flatten,\n",
    "        batch_size = batch_size,\n",
    "        verbose = True\n",
    "    )\n",
    "\n",
    "# Extract the mean and standard deviation of the latent space\n",
    "latent_mean = np.mean(latent_train.data, axis=0)\n",
    "latent_std = np.std(latent_train.data, axis=0)"
   ]
  },
  {
   "cell_type": "code",
   "execution_count": null,
   "metadata": {},
   "outputs": [],
   "source": [
    "def sample_latent(num_samples: int = 1) -> np.ndarray:\n",
    "    \"\"\"\n",
    "    Function to sample n random vectors from the latent space.\n",
    "    \n",
    "    Parameters:\n",
    "    - num_samples (int): The number of samples to generate\n",
    "    \n",
    "    Returns:\n",
    "    - np.ndarray: The samples generated from the latent space\n",
    "    \"\"\"\n",
    "    \n",
    "    # Sample the latent space\n",
    "    return np.random.normal(latent_mean, latent_std, (num_samples, latent_dim))"
   ]
  },
  {
   "cell_type": "code",
   "execution_count": null,
   "metadata": {},
   "outputs": [],
   "source": [
    "# Sample one random vector from the latent space\n",
    "samples = sample_latent(num_samples=10)\n",
    "\n",
    "# Convert the samples to a tensor\n",
    "samples = Tensor(samples)\n",
    "\n",
    "# Disable gradient computation\n",
    "with context_manager.no_grad():\n",
    "    # Set the model in evaluation mode\n",
    "    decoder.eval()\n",
    "    \n",
    "    # Decode the sample to generate a new image\n",
    "    decoded_imges = decoder(samples)\n",
    "\n",
    "# Reshape the image to the original shape\n",
    "decoded_imges = decoded_imges.reshape((-1, *X_train.shape()[1:]))\n",
    "\n",
    "# Plot the generated image\n",
    "plot_samples(list(decoded_imges.data))"
   ]
  }
 ],
 "metadata": {
  "kernelspec": {
   "display_name": "venv",
   "language": "python",
   "name": "python3"
  },
  "language_info": {
   "codemirror_mode": {
    "name": "ipython",
    "version": 3
   },
   "file_extension": ".py",
   "mimetype": "text/x-python",
   "name": "python",
   "nbconvert_exporter": "python",
   "pygments_lexer": "ipython3",
   "version": "3.11.11"
  }
 },
 "nbformat": 4,
 "nbformat_minor": 2
}
