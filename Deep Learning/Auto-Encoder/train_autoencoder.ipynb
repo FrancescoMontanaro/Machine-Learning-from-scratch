{
 "cells": [
  {
   "cell_type": "code",
   "execution_count": null,
   "metadata": {},
   "outputs": [],
   "source": [
    "import sys\n",
    "import numpy as np\n",
    "from keras import datasets\n",
    "from typing import Optional\n",
    "import matplotlib.pyplot as plt\n",
    "\n",
    "# Add the path to the custom library to the system path\n",
    "sys.path.append('..')\n",
    "\n",
    "# Import the module from the custom library\n",
    "from src import Model\n",
    "from src import layers\n",
    "from src import Tensor\n",
    "from src import callbacks\n",
    "from src import optimizers\n",
    "from src import activations\n",
    "from src import loss_functions\n",
    "from src.core.utils import data_analysis\n",
    "from src.core.utils import data_processing"
   ]
  },
  {
   "cell_type": "markdown",
   "metadata": {},
   "source": [
    "### Constants and hyperparameters"
   ]
  },
  {
   "cell_type": "code",
   "execution_count": 2,
   "metadata": {},
   "outputs": [],
   "source": [
    "n_samples = 1000 # Number of samples to generate\n",
    "train_test_split_pct = 0.2 # Percentage of samples to use for testing\n",
    "learning_rate = 1e-03 # Learning rate for the optimizer\n",
    "batch_size = 512 # Number of samples to use for each batch\n",
    "epochs = 200 # Number of epochs to train the model\n",
    "seed = 1234 # Seed for reproducibility\n",
    "data_noise = 0.15 # Noise to add to the data"
   ]
  },
  {
   "cell_type": "code",
   "execution_count": 3,
   "metadata": {},
   "outputs": [],
   "source": [
    "# Set the seed for reproducibility\n",
    "np.random.seed(seed)"
   ]
  },
  {
   "cell_type": "markdown",
   "metadata": {},
   "source": [
    "### Data loading"
   ]
  },
  {
   "cell_type": "code",
   "execution_count": null,
   "metadata": {},
   "outputs": [
    {
     "name": "stdout",
     "output_type": "stream",
     "text": [
      "Number of classes: 10\n",
      "Training set: (48000, 28, 28, 1) (48000,)\n",
      "Testing set: (12000, 28, 28, 1) (12000,)\n"
     ]
    }
   ],
   "source": [
    "# Load the dataset\n",
    "(train_images, train_labels), (test_images, test_labels) = datasets.mnist.load_data()\n",
    "\n",
    "# Add the channel dimension to the images\n",
    "train_images = np.expand_dims(train_images, axis=-1)\n",
    "test_images = np.expand_dims(test_images, axis=-1)\n",
    "\n",
    "# Extract the number of classes in the dataset\n",
    "num_classes = len(np.unique(train_labels))    \n",
    "\n",
    "# Convert the lists to numpy arrays\n",
    "X_train = Tensor(np.array(train_images))\n",
    "y_train = Tensor(np.array(train_labels), dtype=np.int8)\n",
    "X_test = Tensor(np.array(test_images))\n",
    "y_test = Tensor(np.array(test_labels), dtype=np.int8)\n",
    "\n",
    "# Split the training set into training, validation and testing sets\n",
    "X_train, X_test, y_train, y_test = data_processing.split_data(data=(X_train, y_train), split_pct=train_test_split_pct, shuffle=True)\n",
    "\n",
    "# Print the dataset information\n",
    "print(\"Number of classes:\", num_classes)\n",
    "print('Training set:', X_train.shape(), y_train.shape())\n",
    "print('Testing set:', X_test.shape(), y_test.shape())"
   ]
  },
  {
   "cell_type": "markdown",
   "metadata": {},
   "source": [
    "### Data processing"
   ]
  },
  {
   "cell_type": "code",
   "execution_count": 5,
   "metadata": {},
   "outputs": [],
   "source": [
    "# Normalization\n",
    "def normalize(X: Tensor) -> Tensor:\n",
    "    \"\"\"\n",
    "    Normalize the input data by dividing by the maximum value in the training set.\n",
    "    \n",
    "    Parameters:\n",
    "    - X (Tensor): The input data to normalize\n",
    "    \n",
    "    Returns:\n",
    "    - Tensor: The normalized input data\n",
    "    \"\"\"\n",
    "    \n",
    "    # Normalize the input data\n",
    "    return X / 255.0\n",
    "\n",
    "# Normalize the input data\n",
    "X_train = normalize(X_train)\n",
    "X_test = normalize(X_test)"
   ]
  },
  {
   "cell_type": "code",
   "execution_count": 6,
   "metadata": {},
   "outputs": [],
   "source": [
    "# Flatten the input data\n",
    "X_train_flatten = X_train.reshape((X_train.shape()[0], -1))\n",
    "X_test_flatten = X_test.reshape((X_test.shape()[0], -1))"
   ]
  },
  {
   "cell_type": "markdown",
   "metadata": {},
   "source": [
    "### Data visualization"
   ]
  },
  {
   "cell_type": "code",
   "execution_count": 7,
   "metadata": {},
   "outputs": [
    {
     "data": {
      "image/png": "[encoded data removed]",
      "text/plain": [
       "<Figure size 2000x500 with 10 Axes>"
      ]
     },
     "metadata": {},
     "output_type": "display_data"
    }
   ],
   "source": [
    "def plot_samples(samples: list[np.ndarray], labels: Optional[list[np.ndarray]] = None) -> None:\n",
    "    \"\"\"\n",
    "    Plot the samples in a grid.\n",
    "    \n",
    "    Parameters:\n",
    "    - samples (list[np.ndarray]): The samples to plot\n",
    "    - labels (list[np.ndarray]): The labels of the samples\n",
    "    \"\"\"\n",
    "        \n",
    "    # Plot the samples in a grid\n",
    "    _, axes = plt.subplots(1, len(samples), figsize=(20, 5))\n",
    "    \n",
    "    # Ensure axes is always iterable\n",
    "    if len(samples) == 1:\n",
    "        axes = [axes]\n",
    "        \n",
    "    # Iterate through the samples\n",
    "    for i, ax in enumerate(axes):\n",
    "        ax.imshow(samples[i], cmap='gray')\n",
    "        ax.axis('off')\n",
    "        if isinstance(labels, np.ndarray): \n",
    "            ax.set_title(f'Label: {labels[i]}')\n",
    "        \n",
    "# Plot the first 10 samples\n",
    "plot_samples(list(X_train.data[:10]), list(y_train.data[:10]))"
   ]
  },
  {
   "cell_type": "code",
   "execution_count": 8,
   "metadata": {},
   "outputs": [],
   "source": [
    "# Define the dimension of the latent space\n",
    "latent_dim = 32\n",
    "\n",
    "# Create the encoder\n",
    "encoder = Model(\n",
    "    name = 'Encoder',\n",
    "    modules = [\n",
    "        layers.Input(shape=X_train_flatten.shape()[1:]),\n",
    "        layers.Dense(num_units=128, activation=activations.ReLU()),\n",
    "        layers.Dense(num_units=64, activation=activations.ReLU()),\n",
    "        layers.Dense(num_units=latent_dim, activation=activations.ReLU(), name='Latent'),\n",
    "    ]\n",
    ")\n",
    "\n",
    "# Create the decoder\n",
    "decoder = Model(\n",
    "    name = 'Decoder',\n",
    "    modules = [\n",
    "        layers.Input(shape=(latent_dim,), name='Latent'),\n",
    "        layers.Dense(num_units=64, activation=activations.ReLU()),\n",
    "        layers.Dense(num_units=128, activation=activations.ReLU()),\n",
    "        layers.Dense(num_units=X_train_flatten.shape()[1], activation=activations.Sigmoid())\n",
    "    ]\n",
    ")\n",
    "\n",
    "# Create the auto-encoder\n",
    "autoencoder = Model(\n",
    "    name = 'Autoencoder',\n",
    "    modules = [\n",
    "        encoder,\n",
    "        decoder\n",
    "    ]\n",
    ")\n",
    "\n",
    "# Initialize the optimizer\n",
    "optimizer = optimizers.Adam(learning_rate)\n",
    "\n",
    "# Initialize the loss function\n",
    "loss_fn = loss_functions.BinaryCrossEntropy()"
   ]
  },
  {
   "cell_type": "code",
   "execution_count": 9,
   "metadata": {},
   "outputs": [],
   "source": [
    "# Call the model with a first batch to initialize the weights\n",
    "# This is not necessary, but it is useful to know the input size\n",
    "autoencoder(X_train_flatten[:batch_size]);"
   ]
  },
  {
   "cell_type": "code",
   "execution_count": 10,
   "metadata": {},
   "outputs": [
    {
     "name": "stdout",
     "output_type": "stream",
     "text": [
      "\n",
      "Encoder (ID: 0)\n",
      "\n",
      "--------------------------------------------------------------------------------\n",
      "Module (type)                           Output Shape        Trainable params #  \n",
      "================================================================================\n",
      "input_1 (Input)                         (512, 784)          0                   \n",
      "--------------------------------------------------------------------------------\n",
      "dense_2 (Dense)                         (512, 128)          100480              \n",
      "--------------------------------------------------------------------------------\n",
      "dense_3 (Dense)                         (512, 64)           8256                \n",
      "--------------------------------------------------------------------------------\n",
      "Latent (Dense)                          (512, 32)           2080                \n",
      "================================================================================\n",
      "Total trainable parameters: 110816\n",
      "--------------------------------------------------------------------------------\n",
      "\n",
      "Decoder (ID: 1)\n",
      "\n",
      "--------------------------------------------------------------------------------\n",
      "Module (type)                           Output Shape        Trainable params #  \n",
      "================================================================================\n",
      "Latent (Input)                          (512, 32)           0                   \n",
      "--------------------------------------------------------------------------------\n",
      "dense_2 (Dense)                         (512, 64)           2112                \n",
      "--------------------------------------------------------------------------------\n",
      "dense_3 (Dense)                         (512, 128)          8320                \n",
      "--------------------------------------------------------------------------------\n",
      "dense_4 (Dense)                         (512, 784)          101136              \n",
      "================================================================================\n",
      "Total trainable parameters: 111568\n",
      "--------------------------------------------------------------------------------\n",
      "\n",
      "Autoencoder (ID: 2)\n",
      "\n",
      "--------------------------------------------------------------------------------\n",
      "Module (type)                           Output Shape        Trainable params #  \n",
      "================================================================================\n",
      "Encoder (Model)                         (512, 32)           110816              \n",
      "--------------------------------------------------------------------------------\n",
      "Decoder (Model)                         (512, 784)          111568              \n",
      "================================================================================\n",
      "Total trainable parameters: 222384\n",
      "--------------------------------------------------------------------------------\n"
     ]
    }
   ],
   "source": [
    "# Display the encoder summary\n",
    "encoder.summary()\n",
    "\n",
    "# Display the decoder summary\n",
    "decoder.summary()\n",
    "\n",
    "# Display the model summary\n",
    "autoencoder.summary()"
   ]
  },
  {
   "cell_type": "markdown",
   "metadata": {},
   "source": [
    "### Training the model"
   ]
  },
  {
   "cell_type": "code",
   "execution_count": 11,
   "metadata": {},
   "outputs": [
    {
     "name": "stdout",
     "output_type": "stream",
     "text": [
      "Epoch 1/200 --> loss: 0.3484  | Validation loss: 0.2634                                                   \n",
      "Epoch 2/200 --> loss: 0.2554  | Validation loss: 0.2461                                                   \n",
      "Epoch 3/200 --> loss: 0.2389  | Validation loss: 0.2314                                                   \n",
      "Epoch 4/200 --> loss: 0.2131  | Validation loss: 0.1955                                                   \n",
      "Epoch 5/200 --> loss: 0.1817  | Validation loss: 0.1711                                                   \n",
      "Epoch 6/200 --> loss: 0.1661  | Validation loss: 0.1610                                                   \n",
      "Epoch 7/200 --> loss: 0.1580  | Validation loss: 0.1549                                                   \n",
      "Epoch 8/200 --> loss: 0.1525  | Validation loss: 0.1502                                                   \n",
      "Epoch 9/200 --> loss: 0.1485  | Validation loss: 0.1467                                                   \n",
      "Epoch 10/200 --> loss: 0.1451  | Validation loss: 0.1433                                                   \n",
      "Epoch 11/200 --> loss: 0.1421  | Validation loss: 0.1405                                                   \n",
      "Epoch 12/200 --> loss: 0.1395  | Validation loss: 0.1380                                                   \n",
      "Epoch 13/200 --> loss: 0.1371  | Validation loss: 0.1358                                                   \n",
      "Epoch 14/200 --> loss: 0.1349  | Validation loss: 0.1335                                                   \n",
      "Epoch 15/200 --> loss: 0.1327  | Validation loss: 0.1315                                                   \n",
      "Epoch 16/200 --> loss: 0.1306  | Validation loss: 0.1294                                                   \n",
      "Epoch 17/200 --> loss: 0.1288  | Validation loss: 0.1277                                                   \n",
      "Epoch 18/200 --> loss: 0.1270  | Validation loss: 0.1260                                                   \n",
      "Epoch 19/200 --> loss: 0.1253  | Validation loss: 0.1245                                                   \n",
      "Epoch 20/200 --> loss: 0.1236  | Validation loss: 0.1230                                                   \n",
      "Epoch 21/200 --> loss: 0.1223  | Validation loss: 0.1215                                                   \n",
      "Epoch 22/200 --> loss: 0.1209  | Validation loss: 0.1202                                                   \n",
      "Epoch 23/200 --> loss: 0.1196  | Validation loss: 0.1189                                                   \n",
      "Epoch 24/200 --> loss: 0.1183  | Validation loss: 0.1178                                                   \n",
      "Epoch 25/200 --> loss: 0.1170  | Validation loss: 0.1166                                                   \n",
      "Epoch 26/200 --> loss: 0.1161  | Validation loss: 0.1157                                                   \n",
      "Epoch 27/200 --> loss: 0.1150  | Validation loss: 0.1148                                                   \n",
      "Epoch 28/200 --> loss: 0.1140  | Validation loss: 0.1137                                                   \n",
      "Epoch 29/200 --> loss: 0.1132  | Validation loss: 0.1131                                                   \n",
      "Epoch 30/200 --> loss: 0.1125  | Validation loss: 0.1122                                                   \n",
      "Epoch 31/200 --> loss: 0.1116  | Validation loss: 0.1115                                                   \n",
      "Epoch 32/200 --> loss: 0.1109  | Validation loss: 0.1112                                                   \n",
      "Epoch 33/200 --> loss: 0.1104  | Validation loss: 0.1104                                                   \n",
      "Epoch 34/200 --> loss: 0.1098  | Validation loss: 0.1099                                                   \n",
      "Epoch 35/200 --> loss: 0.1093  | Validation loss: 0.1094                                                   \n",
      "Epoch 36/200 --> loss: 0.1088  | Validation loss: 0.1092                                                   \n",
      "Epoch 37/200 --> loss: 0.1084  | Validation loss: 0.1085                                                   \n",
      "Epoch 38/200 --> loss: 0.1079  | Validation loss: 0.1082                                                   \n",
      "Epoch 39/200 --> loss: 0.1075  | Validation loss: 0.1076                                                   \n",
      "Epoch 40/200 --> loss: 0.1071  | Validation loss: 0.1074                                                   \n",
      "Epoch 41/200 --> loss: 0.1067  | Validation loss: 0.1069                                                   \n",
      "Epoch 42/200 --> loss: 0.1063  | Validation loss: 0.1067                                                   \n",
      "Epoch 43/200 --> loss: 0.1060  | Validation loss: 0.1063                                                   \n",
      "Epoch 44/200 --> loss: 0.1057  | Validation loss: 0.1060                                                   \n",
      "Epoch 45/200 --> loss: 0.1053  | Validation loss: 0.1057                                                   \n",
      "Epoch 46/200 --> loss: 0.1049  | Validation loss: 0.1054                                                   \n",
      "Epoch 47/200 --> loss: 0.1047  | Validation loss: 0.1050                                                   \n",
      "Epoch 48/200 --> loss: 0.1043  | Validation loss: 0.1052                                                   \n",
      "Epoch 49/200 --> loss: 0.1039  | Validation loss: 0.1042                                                   \n",
      "Epoch 50/200 --> loss: 0.1036  | Validation loss: 0.1040                                                   \n",
      "Epoch 51/200 --> loss: 0.1033  | Validation loss: 0.1037                                                   \n",
      "Epoch 52/200 --> loss: 0.1029  | Validation loss: 0.1033                                                   \n",
      "Epoch 53/200 --> loss: 0.1025  | Validation loss: 0.1030                                                   \n",
      "Epoch 54/200 --> loss: 0.1022  | Validation loss: 0.1026                                                   \n",
      "Epoch 55/200 --> loss: 0.1019  | Validation loss: 0.1025                                                   \n",
      "Epoch 56/200 --> loss: 0.1015  | Validation loss: 0.1020                                                   \n",
      "Epoch 57/200 --> loss: 0.1012  | Validation loss: 0.1015                                                   \n",
      "Epoch 58/200 --> loss: 0.1008  | Validation loss: 0.1013                                                   \n",
      "Epoch 59/200 --> loss: 0.1005  | Validation loss: 0.1010                                                   \n",
      "Epoch 60/200 --> loss: 0.1002  | Validation loss: 0.1006                                                   \n",
      "Epoch 61/200 --> loss: 0.0999  | Validation loss: 0.1006                                                   \n",
      "Epoch 62/200 --> loss: 0.0996  | Validation loss: 0.1004                                                   \n",
      "Epoch 63/200 --> loss: 0.0994  | Validation loss: 0.0998                                                   \n",
      "Epoch 64/200 --> loss: 0.0991  | Validation loss: 0.0999                                                   \n",
      "Epoch 65/200 --> loss: 0.0989  | Validation loss: 0.0994                                                   \n",
      "Epoch 66/200 --> loss: 0.0987  | Validation loss: 0.0994                                                   \n",
      "Epoch 67/200 --> loss: 0.0985  | Validation loss: 0.0991                                                   \n",
      "Epoch 68/200 --> loss: 0.0982  | Validation loss: 0.0988                                                   \n",
      "Epoch 69/200 --> loss: 0.0981  | Validation loss: 0.0987                                                   \n",
      "Epoch 70/200 --> loss: 0.0979  | Validation loss: 0.0986                                                   \n",
      "Epoch 71/200 --> loss: 0.0976  | Validation loss: 0.0982                                                   \n",
      "Epoch 72/200 --> loss: 0.0974  | Validation loss: 0.0982                                                   \n",
      "Epoch 73/200 --> loss: 0.0973  | Validation loss: 0.0979                                                   \n",
      "Epoch 74/200 --> loss: 0.0970  | Validation loss: 0.0978                                                   \n",
      "Epoch 75/200 --> loss: 0.0968  | Validation loss: 0.0976                                                   \n",
      "Epoch 76/200 --> loss: 0.0966  | Validation loss: 0.0973                                                   \n",
      "Epoch 77/200 --> loss: 0.0964  | Validation loss: 0.0974                                                   \n",
      "Epoch 78/200 --> loss: 0.0963  | Validation loss: 0.0968                                                   \n",
      "Epoch 79/200 --> loss: 0.0961  | Validation loss: 0.0967                                                   \n",
      "Epoch 80/200 --> loss: 0.0959  | Validation loss: 0.0966                                                   \n",
      "Epoch 81/200 --> loss: 0.0958  | Validation loss: 0.0965                                                   \n",
      "Epoch 82/200 --> loss: 0.0956  | Validation loss: 0.0962                                                   \n",
      "Epoch 83/200 --> loss: 0.0955  | Validation loss: 0.0963                                                   \n",
      "Epoch 84/200 --> loss: 0.0953  | Validation loss: 0.0959                                                   \n",
      "Epoch 85/200 --> loss: 0.0952  | Validation loss: 0.0959                                                   \n",
      "Epoch 86/200 --> loss: 0.0951  | Validation loss: 0.0960                                                   \n",
      "Epoch 87/200 --> loss: 0.0949  | Validation loss: 0.0956                                                   \n",
      "Epoch 88/200 --> loss: 0.0948  | Validation loss: 0.0956                                                   \n",
      "Epoch 89/200 --> loss: 0.0947  | Validation loss: 0.0955                                                   \n",
      "Epoch 90/200 --> loss: 0.0946  | Validation loss: 0.0956                                                   \n",
      "Epoch 91/200 --> loss: 0.0944  | Validation loss: 0.0952                                                   \n",
      "Epoch 92/200 --> loss: 0.0944  | Validation loss: 0.0950                                                   \n",
      "Epoch 93/200 --> loss: 0.0942  | Validation loss: 0.0950                                                   \n",
      "Epoch 94/200 --> loss: 0.0941  | Validation loss: 0.0949                                                   \n",
      "Epoch 95/200 --> loss: 0.0939  | Validation loss: 0.0949                                                   \n",
      "Epoch 96/200 --> loss: 0.0938  | Validation loss: 0.0945                                                   \n",
      "Epoch 97/200 --> loss: 0.0937  | Validation loss: 0.0944                                                   \n",
      "Epoch 98/200 --> loss: 0.0936  | Validation loss: 0.0943                                                   \n",
      "Epoch 99/200 --> loss: 0.0935  | Validation loss: 0.0943                                                   \n",
      "Epoch 100/200 --> loss: 0.0933  | Validation loss: 0.0941                                                   \n",
      "Epoch 101/200 --> loss: 0.0932  | Validation loss: 0.0939                                                   \n",
      "Epoch 102/200 --> loss: 0.0931  | Validation loss: 0.0939                                                   \n",
      "Epoch 103/200 --> loss: 0.0929  | Validation loss: 0.0938                                                   \n",
      "Epoch 104/200 --> loss: 0.0929  | Validation loss: 0.0936                                                   \n",
      "Epoch 105/200 --> loss: 0.0927  | Validation loss: 0.0934                                                   \n",
      "Epoch 106/200 --> loss: 0.0926  | Validation loss: 0.0934                                                   \n",
      "Epoch 107/200 --> loss: 0.0925  | Validation loss: 0.0932                                                   \n",
      "Epoch 108/200 --> loss: 0.0923  | Validation loss: 0.0931                                                   \n",
      "Epoch 109/200 --> loss: 0.0921  | Validation loss: 0.0929                                                   \n",
      "Epoch 110/200 --> loss: 0.0920  | Validation loss: 0.0929                                                   \n",
      "Epoch 111/200 --> loss: 0.0919  | Validation loss: 0.0927                                                   \n",
      "Epoch 112/200 --> loss: 0.0918  | Validation loss: 0.0925                                                   \n",
      "Epoch 113/200 --> loss: 0.0917  | Validation loss: 0.0926                                                   \n",
      "Epoch 114/200 --> loss: 0.0917  | Validation loss: 0.0924                                                   \n",
      "Epoch 115/200 --> loss: 0.0915  | Validation loss: 0.0924                                                   \n",
      "Epoch 116/200 --> loss: 0.0914  | Validation loss: 0.0923                                                   \n",
      "Epoch 117/200 --> loss: 0.0913  | Validation loss: 0.0921                                                   \n",
      "Epoch 118/200 --> loss: 0.0913  | Validation loss: 0.0920                                                   \n",
      "Epoch 119/200 --> loss: 0.0911  | Validation loss: 0.0918                                                   \n",
      "Epoch 120/200 --> loss: 0.0910  | Validation loss: 0.0917                                                   \n",
      "Epoch 121/200 --> loss: 0.0910  | Validation loss: 0.0918                                                   \n",
      "Epoch 122/200 --> loss: 0.0909  | Validation loss: 0.0916                                                   \n",
      "Epoch 123/200 --> loss: 0.0908  | Validation loss: 0.0918                                                   \n",
      "Epoch 124/200 --> loss: 0.0907  | Validation loss: 0.0916                                                   \n",
      "Epoch 125/200 --> loss: 0.0907  | Validation loss: 0.0915                                                   \n",
      "Epoch 126/200 --> loss: 0.0906  | Validation loss: 0.0915                                                   \n",
      "Epoch 127/200 --> loss: 0.0905  | Validation loss: 0.0913                                                   \n",
      "Epoch 128/200 --> loss: 0.0904  | Validation loss: 0.0913                                                   \n",
      "Epoch 129/200 --> loss: 0.0904  | Validation loss: 0.0913                                                   \n",
      "Epoch 130/200 --> loss: 0.0903  | Validation loss: 0.0911                                                   \n",
      "Epoch 131/200 --> loss: 0.0903  | Validation loss: 0.0911                                                   \n",
      "Epoch 132/200 --> loss: 0.0902  | Validation loss: 0.0910                                                   \n",
      "Epoch 133/200 --> loss: 0.0901  | Validation loss: 0.0913                                                   \n",
      "Epoch 134/200 --> loss: 0.0901  | Validation loss: 0.0909                                                   \n",
      "Epoch 135/200 --> loss: 0.0901  | Validation loss: 0.0911                                                   \n",
      "Epoch 136/200 --> loss: 0.0900  | Validation loss: 0.0907                                                   \n",
      "Epoch 137/200 --> loss: 0.0899  | Validation loss: 0.0908                                                   \n",
      "Epoch 138/200 --> loss: 0.0899  | Validation loss: 0.0906                                                   \n",
      "Epoch 139/200 --> loss: 0.0898  | Validation loss: 0.0906                                                   \n",
      "Epoch 140/200 --> loss: 0.0897  | Validation loss: 0.0905                                                   \n",
      "Epoch 141/200 --> loss: 0.0897  | Validation loss: 0.0905                                                   \n",
      "Epoch 142/200 --> loss: 0.0897  | Validation loss: 0.0906                                                   \n",
      "Epoch 143/200 --> loss: 0.0897  | Validation loss: 0.0906                                                   \n",
      "Epoch 144/200 --> loss: 0.0896  | Validation loss: 0.0905                                                   \n",
      "Epoch 145/200 --> loss: 0.0895  | Validation loss: 0.0904                                                   \n",
      "Epoch 146/200 --> loss: 0.0895  | Validation loss: 0.0904                                                   \n",
      "Epoch 147/200 --> loss: 0.0894  | Validation loss: 0.0904                                                   \n",
      "Epoch 148/200 --> loss: 0.0894  | Validation loss: 0.0904                                                   \n",
      "Epoch 149/200 --> loss: 0.0894  | Validation loss: 0.0901                                                   \n",
      "Epoch 150/200 --> loss: 0.0893  | Validation loss: 0.0903                                                   \n",
      "Epoch 151/200 --> loss: 0.0893  | Validation loss: 0.0903                                                   \n",
      "Epoch 152/200 --> loss: 0.0893  | Validation loss: 0.0901                                                   \n",
      "Epoch 153/200 --> loss: 0.0892  | Validation loss: 0.0901                                                   \n",
      "Epoch 154/200 --> loss: 0.0892  | Validation loss: 0.0901                                                   \n",
      "Epoch 155/200 --> loss: 0.0891  | Validation loss: 0.0900                                                   \n",
      "Epoch 156/200 --> loss: 0.0891  | Validation loss: 0.0900                                                   \n",
      "Epoch 157/200 --> loss: 0.0890  | Validation loss: 0.0898                                                   \n",
      "Epoch 158/200 --> loss: 0.0890  | Validation loss: 0.0900                                                   \n",
      "Epoch 159/200 --> loss: 0.0890  | Validation loss: 0.0898                                                   \n",
      "Epoch 160/200 --> loss: 0.0889  | Validation loss: 0.0899                                                   \n",
      "Epoch 161/200 --> loss: 0.0890  | Validation loss: 0.0899                                                   \n",
      "Epoch 162/200 --> loss: 0.0889  | Validation loss: 0.0898                                                   \n",
      "Epoch 163/200 --> loss: 0.0889  | Validation loss: 0.0897                                                   \n",
      "Epoch 164/200 --> loss: 0.0888  | Validation loss: 0.0897                                                   \n",
      "Epoch 165/200 --> loss: 0.0888  | Validation loss: 0.0896                                                   \n",
      "Epoch 166/200 --> loss: 0.0888  | Validation loss: 0.0897                                                   \n",
      "Epoch 167/200 --> loss: 0.0888  | Validation loss: 0.0896                                                   \n",
      "Epoch 168/200 --> loss: 0.0887  | Validation loss: 0.0896                                                   \n",
      "Epoch 169/200 --> loss: 0.0887  | Validation loss: 0.0896                                                   \n",
      "Epoch 170/200 --> loss: 0.0886  | Validation loss: 0.0895                                                   \n",
      "Epoch 171/200 --> loss: 0.0887  | Validation loss: 0.0896                                                   \n",
      "Epoch 172/200 --> loss: 0.0886  | Validation loss: 0.0895                                                   \n",
      "Epoch 173/200 --> loss: 0.0886  | Validation loss: 0.0894                                                   \n",
      "Epoch 174/200 --> loss: 0.0886  | Validation loss: 0.0895                                                   \n",
      "Epoch 175/200 --> loss: 0.0886  | Validation loss: 0.0894                                                   \n",
      "Epoch 176/200 --> loss: 0.0885  | Validation loss: 0.0894                                                   \n",
      "Epoch 177/200 --> loss: 0.0885  | Validation loss: 0.0893                                                   \n",
      "Epoch 178/200 --> loss: 0.0884  | Validation loss: 0.0893                                                   \n",
      "Epoch 179/200 --> loss: 0.0884  | Validation loss: 0.0894                                                   \n",
      "Epoch 180/200 --> loss: 0.0884  | Validation loss: 0.0895                                                   \n",
      "Epoch 181/200 --> loss: 0.0884  | Validation loss: 0.0893                                                   \n",
      "Epoch 182/200 --> loss: 0.0883  | Validation loss: 0.0895                                                   \n",
      "Epoch 183/200 --> loss: 0.0883  | Validation loss: 0.0893                                                   \n",
      "Epoch 184/200 --> loss: 0.0883  | Validation loss: 0.0893                                                   \n",
      "Epoch 185/200 --> loss: 0.0883  | Validation loss: 0.0894                                                   \n",
      "Epoch 186/200 --> loss: 0.0882  | Validation loss: 0.0892                                                   \n",
      "Epoch 187/200 --> loss: 0.0882  | Validation loss: 0.0893                                                   \n",
      "Epoch 188/200 --> loss: 0.0882  | Validation loss: 0.0892                                                   \n",
      "Epoch 189/200 --> loss: 0.0882  | Validation loss: 0.0893                                                   \n",
      "Epoch 190/200 --> loss: 0.0882  | Validation loss: 0.0891                                                   \n",
      "Epoch 191/200 --> loss: 0.0882  | Validation loss: 0.0891                                                   \n",
      "Epoch 192/200 --> loss: 0.0881  | Validation loss: 0.0892                                                   \n",
      "Epoch 193/200 --> loss: 0.0881  | Validation loss: 0.0891                                                   \n",
      "Epoch 194/200 --> loss: 0.0881  | Validation loss: 0.0893                                                   \n",
      "Epoch 195/200 --> loss: 0.0881  | Validation loss: 0.0890                                                   \n",
      "Epoch 196/200 --> loss: 0.0880  | Validation loss: 0.0891                                                   \n",
      "Epoch 197/200 --> loss: 0.0880  | Validation loss: 0.0891                                                   \n",
      "Epoch 198/200 --> loss: 0.0881  | Validation loss: 0.0891                                                   \n",
      "Epoch 199/200 --> loss: 0.0880  | Validation loss: 0.0891                                                   \n",
      "Epoch 200/200 --> loss: 0.0880  | Validation loss: 0.0890                                                   \n"
     ]
    }
   ],
   "source": [
    "history = autoencoder.fit(\n",
    "    X_train = X_train_flatten,\n",
    "    y_train = X_train_flatten,\n",
    "    optimizer = optimizer,\n",
    "    loss_fn = loss_fn,\n",
    "    X_valid = X_test_flatten,\n",
    "    y_valid = X_test_flatten,\n",
    "    batch_size = batch_size,\n",
    "    epochs = epochs,\n",
    "    callbacks = [callbacks.EarlyStopping(monitor='val_loss', patience=5)]\n",
    ")"
   ]
  },
  {
   "cell_type": "code",
   "execution_count": null,
   "metadata": {},
   "outputs": [
    {
     "data": {
      "image/png": "[encoded data removed]",
      "text/plain": [
       "<Figure size 800x400 with 1 Axes>"
      ]
     },
     "metadata": {},
     "output_type": "display_data"
    }
   ],
   "source": [
    "# Plot the training and validation loss\n",
    "data_analysis.plot_history(history[\"loss\"], history[\"val_loss\"], \"Training and Validation Loss\", \"Epoch\", \"Loss\")"
   ]
  },
  {
   "cell_type": "markdown",
   "metadata": {},
   "source": [
    "### Inference"
   ]
  },
  {
   "cell_type": "code",
   "execution_count": null,
   "metadata": {},
   "outputs": [],
   "source": [
    "# Execute the encoder on the whole training set\n",
    "latent_train = encoder(\n",
    "    x = X_train_flatten,\n",
    "    batch_size = batch_size,\n",
    "    verbose = True\n",
    ")\n",
    "\n",
    "# Extract the mean and standard deviation of the latent space\n",
    "latent_mean = np.mean(latent_train.data, axis=0)\n",
    "latent_std = np.std(latent_train.data, axis=0)"
   ]
  },
  {
   "cell_type": "code",
   "execution_count": 14,
   "metadata": {},
   "outputs": [],
   "source": [
    "def sample_latent(num_samples: int = 1) -> np.ndarray:\n",
    "    \"\"\"\n",
    "    Function to sample n random vectors from the latent space.\n",
    "    \n",
    "    Parameters:\n",
    "    - num_samples (int): The number of samples to generate\n",
    "    \n",
    "    Returns:\n",
    "    - np.ndarray: The samples generated from the latent space\n",
    "    \"\"\"\n",
    "    \n",
    "    # Sample the latent space\n",
    "    return np.random.normal(latent_mean, latent_std, (num_samples, latent_dim))"
   ]
  },
  {
   "cell_type": "code",
   "execution_count": 15,
   "metadata": {},
   "outputs": [
    {
     "data": {
      "image/png": "[encoded data removed]",
      "text/plain": [
       "<Figure size 2000x500 with 10 Axes>"
      ]
     },
     "metadata": {},
     "output_type": "display_data"
    }
   ],
   "source": [
    "# Sample one random vector from the latent space\n",
    "samples = sample_latent(num_samples=10)\n",
    "\n",
    "# Convert the samples to a tensor\n",
    "samples = Tensor(samples)\n",
    "\n",
    "# Decode the sample to generate a new image\n",
    "decoded_imges = decoder(samples)\n",
    "\n",
    "# Reshape the image to the original shape\n",
    "decoded_imges = decoded_imges.reshape((-1, *X_train.shape()[1:]))\n",
    "\n",
    "# Plot the generated image\n",
    "plot_samples(list(decoded_imges.data))"
   ]
  }
 ],
 "metadata": {
  "kernelspec": {
   "display_name": "venv",
   "language": "python",
   "name": "python3"
  },
  "language_info": {
   "codemirror_mode": {
    "name": "ipython",
    "version": 3
   },
   "file_extension": ".py",
   "mimetype": "text/x-python",
   "name": "python",
   "nbconvert_exporter": "python",
   "pygments_lexer": "ipython3",
   "version": "3.11.11"
  }
 },
 "nbformat": 4,
 "nbformat_minor": 2
}
