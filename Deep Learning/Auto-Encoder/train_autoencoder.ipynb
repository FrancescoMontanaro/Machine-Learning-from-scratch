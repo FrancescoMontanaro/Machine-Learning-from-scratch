{
 "cells": [
  {
   "cell_type": "code",
   "execution_count": 1,
   "metadata": {},
   "outputs": [],
   "source": [
    "import sys\n",
    "import numpy as np\n",
    "import tensorflow as tf\n",
    "from typing import Optional\n",
    "import matplotlib.pyplot as plt\n",
    "\n",
    "# Add the path to the custom library to the system path\n",
    "sys.path.append('..')\n",
    "\n",
    "# Import the module from the custom library\n",
    "from src import utils\n",
    "from src import Model\n",
    "from src import layers\n",
    "from src import callbacks\n",
    "from src import optimizers\n",
    "from src import activations\n",
    "from src import loss_functions"
   ]
  },
  {
   "cell_type": "markdown",
   "metadata": {},
   "source": [
    "### Constants and hyperparameters"
   ]
  },
  {
   "cell_type": "code",
   "execution_count": 2,
   "metadata": {},
   "outputs": [],
   "source": [
    "n_samples = 1000 # Number of samples to generate\n",
    "train_test_split_pct = 0.2 # Percentage of samples to use for testing\n",
    "learning_rate = 1e-03 # Learning rate for the optimizer\n",
    "batch_size = 512 # Number of samples to use for each batch\n",
    "epochs = 200 # Number of epochs to train the model\n",
    "seed = 1234 # Seed for reproducibility\n",
    "data_noise = 0.15 # Noise to add to the data"
   ]
  },
  {
   "cell_type": "code",
   "execution_count": 3,
   "metadata": {},
   "outputs": [],
   "source": [
    "# Set the seed for reproducibility\n",
    "np.random.seed(seed)"
   ]
  },
  {
   "cell_type": "markdown",
   "metadata": {},
   "source": [
    "### Data loading"
   ]
  },
  {
   "cell_type": "code",
   "execution_count": 4,
   "metadata": {},
   "outputs": [
    {
     "name": "stdout",
     "output_type": "stream",
     "text": [
      "Number of classes: 10\n",
      "Training set: (60000, 28, 28, 1) (60000,)\n",
      "Test set: (10000, 28, 28, 1) (10000,)\n"
     ]
    }
   ],
   "source": [
    "# Load the dataset\n",
    "(X_train, y_train), (X_test, y_test) = tf.keras.datasets.mnist.load_data() # type: ignore\n",
    "\n",
    "# Add a channel dimension to the images\n",
    "X_train = np.expand_dims(X_train, axis=-1) # type: ignore\n",
    "X_test = np.expand_dims(X_test, axis=-1) # type: ignore\n",
    "\n",
    "# Extract the number of classes in the dataset\n",
    "num_classes = len(np.unique(y_train)) # type: ignore\n",
    "\n",
    "# Print the dataset information\n",
    "print(\"Number of classes:\", num_classes)\n",
    "print('Training set:', X_train.shape, y_train.shape)\n",
    "print('Test set:', X_test.shape, y_test.shape)"
   ]
  },
  {
   "cell_type": "markdown",
   "metadata": {},
   "source": [
    "### Data processing"
   ]
  },
  {
   "cell_type": "code",
   "execution_count": 5,
   "metadata": {},
   "outputs": [],
   "source": [
    "# Normalization\n",
    "def normalize(X: np.ndarray) -> np.ndarray:\n",
    "    \"\"\"\n",
    "    Normalize the input data by dividing by the maximum value in the training set.\n",
    "    \n",
    "    Parameters:\n",
    "    - X (np.ndarray): The input data to normalize\n",
    "\n",
    "    Returns:\n",
    "    - np.ndarray: The normalized input data\n",
    "    \"\"\"\n",
    "    \n",
    "    # Normalize the input data\n",
    "    return X / 255.0\n",
    "\n",
    "# Normalize the input data\n",
    "X_train = normalize(X_train)\n",
    "X_test = normalize(X_test)"
   ]
  },
  {
   "cell_type": "code",
   "execution_count": 6,
   "metadata": {},
   "outputs": [],
   "source": [
    "# Flatten the input data\n",
    "X_train_flatten = X_train.reshape(X_train.shape[0], -1)\n",
    "X_test_flatten = X_test.reshape(X_test.shape[0], -1)"
   ]
  },
  {
   "cell_type": "markdown",
   "metadata": {},
   "source": [
    "### Data visualization"
   ]
  },
  {
   "cell_type": "code",
   "execution_count": 7,
   "metadata": {},
   "outputs": [
    {
     "data": {
      "image/png": "[encoded data removed]",
      "text/plain": [
       "<Figure size 2000x500 with 10 Axes>"
      ]
     },
     "metadata": {},
     "output_type": "display_data"
    }
   ],
   "source": [
    "def plot_samples(samples: list[np.ndarray], labels: Optional[list[np.ndarray]] = None) -> None:\n",
    "    \"\"\"\n",
    "    Plot the samples in a grid.\n",
    "    \n",
    "    Parameters:\n",
    "    - samples (list[np.ndarray]): The samples to plot\n",
    "    - labels (list[np.ndarray]): The labels of the samples\n",
    "    \"\"\"\n",
    "        \n",
    "    # Plot the samples in a grid\n",
    "    _, axes = plt.subplots(1, len(samples), figsize=(20, 5))\n",
    "    \n",
    "    # Ensure axes is always iterable\n",
    "    if len(samples) == 1:\n",
    "        axes = [axes]\n",
    "        \n",
    "    # Iterate through the samples\n",
    "    for i, ax in enumerate(axes):\n",
    "        ax.imshow(samples[i], cmap='gray')\n",
    "        ax.axis('off')\n",
    "        if isinstance(labels, np.ndarray): \n",
    "            ax.set_title(f'Label: {labels[i]}')\n",
    "        \n",
    "# Plot the first 10 samples\n",
    "plot_samples(list(X_train[:10]), y_train[:10])"
   ]
  },
  {
   "cell_type": "code",
   "execution_count": 8,
   "metadata": {},
   "outputs": [],
   "source": [
    "# Define the dimension of the latent space\n",
    "latent_dim = 32\n",
    "\n",
    "# Create the encoder\n",
    "encoder = Model(\n",
    "    name = 'Encoder',\n",
    "    modules = [\n",
    "        layers.Input(shape=X_train_flatten.shape[1:]),\n",
    "        layers.Dense(num_units=128, activation=activations.ReLU()),\n",
    "        layers.Dense(num_units=64, activation=activations.ReLU()),\n",
    "        layers.Dense(num_units=latent_dim, activation=activations.ReLU(), name='Latent'),\n",
    "    ]\n",
    ")\n",
    "\n",
    "# Create the decoder\n",
    "decoder = Model(\n",
    "    name = 'Decoder',\n",
    "    modules = [\n",
    "        layers.Input(shape=(latent_dim,), name='Latent'),\n",
    "        layers.Dense(num_units=64, activation=activations.ReLU()),\n",
    "        layers.Dense(num_units=128, activation=activations.ReLU()),\n",
    "        layers.Dense(num_units=X_train_flatten.shape[1], activation=activations.Sigmoid())\n",
    "    ]\n",
    ")\n",
    "\n",
    "# Create the auto-encoder\n",
    "autoencoder = Model(\n",
    "    name = 'Autoencoder',\n",
    "    modules = [\n",
    "        encoder,\n",
    "        decoder\n",
    "    ]\n",
    ")\n",
    "\n",
    "# Initialize the optimizer\n",
    "optimizer = optimizers.Adam(learning_rate)\n",
    "\n",
    "# Initialize the loss function\n",
    "loss_fn = loss_functions.BinaryCrossEntropy()"
   ]
  },
  {
   "cell_type": "code",
   "execution_count": 9,
   "metadata": {},
   "outputs": [],
   "source": [
    "# Call the model with a first batch to initialize the weights\n",
    "# This is not necessary, but it is useful to know the input size\n",
    "autoencoder(X_train_flatten[:batch_size]);"
   ]
  },
  {
   "cell_type": "code",
   "execution_count": 10,
   "metadata": {},
   "outputs": [
    {
     "name": "stdout",
     "output_type": "stream",
     "text": [
      "\n",
      "Encoder (ID: 0)\n",
      "\n",
      "--------------------------------------------------------------------------------\n",
      "Module (type)                           Output Shape        Trainable params #  \n",
      "================================================================================\n",
      "input_1 (Input)                         (512, 784)          0                   \n",
      "--------------------------------------------------------------------------------\n",
      "dense_2 (Dense)                         (512, 128)          100480              \n",
      "--------------------------------------------------------------------------------\n",
      "dense_3 (Dense)                         (512, 64)           8256                \n",
      "--------------------------------------------------------------------------------\n",
      "Latent (Dense)                          (512, 32)           2080                \n",
      "================================================================================\n",
      "Total trainable parameters: 110816\n",
      "--------------------------------------------------------------------------------\n",
      "\n",
      "Decoder (ID: 1)\n",
      "\n",
      "--------------------------------------------------------------------------------\n",
      "Module (type)                           Output Shape        Trainable params #  \n",
      "================================================================================\n",
      "Latent (Input)                          (512, 32)           0                   \n",
      "--------------------------------------------------------------------------------\n",
      "dense_2 (Dense)                         (512, 64)           2112                \n",
      "--------------------------------------------------------------------------------\n",
      "dense_3 (Dense)                         (512, 128)          8320                \n",
      "--------------------------------------------------------------------------------\n",
      "dense_4 (Dense)                         (512, 784)          101136              \n",
      "================================================================================\n",
      "Total trainable parameters: 111568\n",
      "--------------------------------------------------------------------------------\n",
      "\n",
      "Autoencoder (ID: 2)\n",
      "\n",
      "--------------------------------------------------------------------------------\n",
      "Module (type)                           Output Shape        Trainable params #  \n",
      "================================================================================\n",
      "Encoder (Model)                         (512, 32)           110816              \n",
      "--------------------------------------------------------------------------------\n",
      "Decoder (Model)                         (512, 784)          111568              \n",
      "================================================================================\n",
      "Total trainable parameters: 222384\n",
      "--------------------------------------------------------------------------------\n"
     ]
    }
   ],
   "source": [
    "# Display the encoder summary\n",
    "encoder.summary()\n",
    "\n",
    "# Display the decoder summary\n",
    "decoder.summary()\n",
    "\n",
    "# Display the model summary\n",
    "autoencoder.summary()"
   ]
  },
  {
   "cell_type": "markdown",
   "metadata": {},
   "source": [
    "### Training the model"
   ]
  },
  {
   "cell_type": "code",
   "execution_count": 11,
   "metadata": {},
   "outputs": [
    {
     "name": "stdout",
     "output_type": "stream",
     "text": [
      "Epoch 1/200 --> loss: 0.5067  | Validation loss: 0.3994 \n",
      "Epoch 2/200 --> loss: 0.3900  | Validation loss: 0.3663 \n",
      "Epoch 3/200 --> loss: 0.3238  | Validation loss: 0.2826 \n",
      "Epoch 4/200 --> loss: 0.2643  | Validation loss: 0.2473 \n",
      "Epoch 5/200 --> loss: 0.2395  | Validation loss: 0.2302 \n",
      "Epoch 6/200 --> loss: 0.2280  | Validation loss: 0.2222 \n",
      "Epoch 7/200 --> loss: 0.2208  | Validation loss: 0.2152 \n",
      "Epoch 8/200 --> loss: 0.2142  | Validation loss: 0.2095 \n",
      "Epoch 9/200 --> loss: 0.2082  | Validation loss: 0.2034 \n",
      "Epoch 10/200 --> loss: 0.2030  | Validation loss: 0.1988 \n",
      "Epoch 11/200 --> loss: 0.1985  | Validation loss: 0.1947 \n",
      "Epoch 12/200 --> loss: 0.1944  | Validation loss: 0.1901 \n",
      "Epoch 13/200 --> loss: 0.1906  | Validation loss: 0.1872 \n",
      "Epoch 14/200 --> loss: 0.1877  | Validation loss: 0.1847 \n",
      "Epoch 15/200 --> loss: 0.1851  | Validation loss: 0.1818 \n",
      "Epoch 16/200 --> loss: 0.1828  | Validation loss: 0.1800 \n",
      "Epoch 17/200 --> loss: 0.1807  | Validation loss: 0.1781 \n",
      "Epoch 18/200 --> loss: 0.1787  | Validation loss: 0.1756 \n",
      "Epoch 19/200 --> loss: 0.1764  | Validation loss: 0.1734 \n",
      "Epoch 20/200 --> loss: 0.1746  | Validation loss: 0.1716 \n",
      "Epoch 21/200 --> loss: 0.1727  | Validation loss: 0.1701 \n",
      "Epoch 22/200 --> loss: 0.1712  | Validation loss: 0.1684 \n",
      "Epoch 23/200 --> loss: 0.1697  | Validation loss: 0.1671 \n",
      "Epoch 24/200 --> loss: 0.1682  | Validation loss: 0.1656 \n",
      "Epoch 25/200 --> loss: 0.1668  | Validation loss: 0.1644 \n",
      "Epoch 26/200 --> loss: 0.1653  | Validation loss: 0.1628 \n",
      "Epoch 27/200 --> loss: 0.1639  | Validation loss: 0.1613 \n",
      "Epoch 28/200 --> loss: 0.1625  | Validation loss: 0.1601 \n",
      "Epoch 29/200 --> loss: 0.1612  | Validation loss: 0.1586 \n",
      "Epoch 30/200 --> loss: 0.1600  | Validation loss: 0.1579 \n",
      "Epoch 31/200 --> loss: 0.1590  | Validation loss: 0.1569 \n",
      "Epoch 32/200 --> loss: 0.1580  | Validation loss: 0.1557 \n",
      "Epoch 33/200 --> loss: 0.1569  | Validation loss: 0.1546 \n",
      "Epoch 34/200 --> loss: 0.1560  | Validation loss: 0.1544 \n",
      "Epoch 35/200 --> loss: 0.1551  | Validation loss: 0.1529 \n",
      "Epoch 36/200 --> loss: 0.1545  | Validation loss: 0.1523 \n",
      "Epoch 37/200 --> loss: 0.1538  | Validation loss: 0.1518 \n",
      "Epoch 38/200 --> loss: 0.1531  | Validation loss: 0.1512 \n",
      "Epoch 39/200 --> loss: 0.1523  | Validation loss: 0.1509 \n",
      "Epoch 40/200 --> loss: 0.1519  | Validation loss: 0.1502 \n",
      "Epoch 41/200 --> loss: 0.1513  | Validation loss: 0.1496 \n",
      "Epoch 42/200 --> loss: 0.1509  | Validation loss: 0.1494 \n",
      "Epoch 43/200 --> loss: 0.1504  | Validation loss: 0.1488 \n",
      "Epoch 44/200 --> loss: 0.1499  | Validation loss: 0.1486 \n",
      "Epoch 45/200 --> loss: 0.1495  | Validation loss: 0.1483 \n",
      "Epoch 46/200 --> loss: 0.1491  | Validation loss: 0.1475 \n",
      "Epoch 47/200 --> loss: 0.1486  | Validation loss: 0.1473 \n",
      "Epoch 48/200 --> loss: 0.1481  | Validation loss: 0.1469 \n",
      "Epoch 49/200 --> loss: 0.1478  | Validation loss: 0.1464 \n",
      "Epoch 50/200 --> loss: 0.1473  | Validation loss: 0.1458 \n",
      "Epoch 51/200 --> loss: 0.1469  | Validation loss: 0.1458 \n",
      "Epoch 52/200 --> loss: 0.1465  | Validation loss: 0.1451 \n",
      "Epoch 53/200 --> loss: 0.1461  | Validation loss: 0.1448 \n",
      "Epoch 54/200 --> loss: 0.1458  | Validation loss: 0.1447 \n",
      "Epoch 55/200 --> loss: 0.1455  | Validation loss: 0.1443 \n",
      "Epoch 56/200 --> loss: 0.1451  | Validation loss: 0.1440 \n",
      "Epoch 57/200 --> loss: 0.1449  | Validation loss: 0.1437 \n",
      "Epoch 58/200 --> loss: 0.1446  | Validation loss: 0.1433 \n",
      "Epoch 59/200 --> loss: 0.1443  | Validation loss: 0.1433 \n",
      "Epoch 60/200 --> loss: 0.1440  | Validation loss: 0.1428 \n",
      "Epoch 61/200 --> loss: 0.1437  | Validation loss: 0.1429 \n",
      "Epoch 62/200 --> loss: 0.1433  | Validation loss: 0.1427 \n",
      "Epoch 63/200 --> loss: 0.1430  | Validation loss: 0.1419 \n",
      "Epoch 64/200 --> loss: 0.1427  | Validation loss: 0.1414 \n",
      "Epoch 65/200 --> loss: 0.1423  | Validation loss: 0.1412 \n",
      "Epoch 66/200 --> loss: 0.1421  | Validation loss: 0.1411 \n",
      "Epoch 67/200 --> loss: 0.1418  | Validation loss: 0.1408 \n",
      "Epoch 68/200 --> loss: 0.1416  | Validation loss: 0.1406 \n",
      "Epoch 69/200 --> loss: 0.1413  | Validation loss: 0.1403 \n",
      "Epoch 70/200 --> loss: 0.1410  | Validation loss: 0.1399 \n",
      "Epoch 71/200 --> loss: 0.1409  | Validation loss: 0.1398 \n",
      "Epoch 72/200 --> loss: 0.1407  | Validation loss: 0.1394 \n",
      "Epoch 73/200 --> loss: 0.1404  | Validation loss: 0.1395 \n",
      "Epoch 74/200 --> loss: 0.1403  | Validation loss: 0.1389 \n",
      "Epoch 75/200 --> loss: 0.1400  | Validation loss: 0.1389 \n",
      "Epoch 76/200 --> loss: 0.1398  | Validation loss: 0.1388 \n",
      "Epoch 77/200 --> loss: 0.1395  | Validation loss: 0.1384 \n",
      "Epoch 78/200 --> loss: 0.1393  | Validation loss: 0.1384 \n",
      "Epoch 79/200 --> loss: 0.1393  | Validation loss: 0.1382 \n",
      "Epoch 80/200 --> loss: 0.1389  | Validation loss: 0.1377 \n",
      "Epoch 81/200 --> loss: 0.1387  | Validation loss: 0.1377 \n",
      "Epoch 82/200 --> loss: 0.1385  | Validation loss: 0.1374 \n",
      "Epoch 83/200 --> loss: 0.1383  | Validation loss: 0.1372 \n",
      "Epoch 84/200 --> loss: 0.1380  | Validation loss: 0.1368 \n",
      "Epoch 85/200 --> loss: 0.1378  | Validation loss: 0.1368 \n",
      "Epoch 86/200 --> loss: 0.1377  | Validation loss: 0.1365 \n",
      "Epoch 87/200 --> loss: 0.1375  | Validation loss: 0.1363 \n",
      "Epoch 88/200 --> loss: 0.1372  | Validation loss: 0.1361 \n",
      "Epoch 89/200 --> loss: 0.1371  | Validation loss: 0.1360 \n",
      "Epoch 90/200 --> loss: 0.1369  | Validation loss: 0.1358 \n",
      "Epoch 91/200 --> loss: 0.1368  | Validation loss: 0.1359 \n",
      "Epoch 92/200 --> loss: 0.1366  | Validation loss: 0.1354 \n",
      "Epoch 93/200 --> loss: 0.1364  | Validation loss: 0.1355 \n",
      "Epoch 94/200 --> loss: 0.1363  | Validation loss: 0.1352 \n",
      "Epoch 95/200 --> loss: 0.1362  | Validation loss: 0.1350 \n",
      "Epoch 96/200 --> loss: 0.1359  | Validation loss: 0.1347 \n",
      "Epoch 97/200 --> loss: 0.1358  | Validation loss: 0.1346 \n",
      "Epoch 98/200 --> loss: 0.1356  | Validation loss: 0.1345 \n",
      "Epoch 99/200 --> loss: 0.1354  | Validation loss: 0.1344 \n",
      "Epoch 100/200 --> loss: 0.1353  | Validation loss: 0.1343 \n",
      "Epoch 101/200 --> loss: 0.1351  | Validation loss: 0.1342 \n",
      "Epoch 102/200 --> loss: 0.1350  | Validation loss: 0.1341 \n",
      "Epoch 103/200 --> loss: 0.1349  | Validation loss: 0.1343 \n",
      "Epoch 104/200 --> loss: 0.1347  | Validation loss: 0.1337 \n",
      "Epoch 105/200 --> loss: 0.1346  | Validation loss: 0.1336 \n",
      "Epoch 106/200 --> loss: 0.1343  | Validation loss: 0.1336 \n",
      "Epoch 107/200 --> loss: 0.1342  | Validation loss: 0.1332 \n",
      "Epoch 108/200 --> loss: 0.1340  | Validation loss: 0.1331 \n",
      "Epoch 109/200 --> loss: 0.1340  | Validation loss: 0.1330 \n",
      "Epoch 110/200 --> loss: 0.1338  | Validation loss: 0.1329 \n",
      "Epoch 111/200 --> loss: 0.1337  | Validation loss: 0.1329 \n",
      "Epoch 112/200 --> loss: 0.1335  | Validation loss: 0.1326 \n",
      "Epoch 113/200 --> loss: 0.1333  | Validation loss: 0.1326 \n",
      "Epoch 114/200 --> loss: 0.1333  | Validation loss: 0.1324 \n",
      "Epoch 115/200 --> loss: 0.1331  | Validation loss: 0.1323 \n",
      "Epoch 116/200 --> loss: 0.1330  | Validation loss: 0.1323 \n",
      "Epoch 117/200 --> loss: 0.1329  | Validation loss: 0.1320 \n",
      "Epoch 118/200 --> loss: 0.1327  | Validation loss: 0.1318 \n",
      "Epoch 119/200 --> loss: 0.1326  | Validation loss: 0.1317 \n",
      "Epoch 120/200 --> loss: 0.1325  | Validation loss: 0.1316 \n",
      "Epoch 121/200 --> loss: 0.1324  | Validation loss: 0.1315 \n",
      "Epoch 122/200 --> loss: 0.1324  | Validation loss: 0.1316 \n",
      "Epoch 123/200 --> loss: 0.1321  | Validation loss: 0.1312 \n",
      "Epoch 124/200 --> loss: 0.1321  | Validation loss: 0.1311 \n",
      "Epoch 125/200 --> loss: 0.1320  | Validation loss: 0.1313 \n",
      "Epoch 126/200 --> loss: 0.1319  | Validation loss: 0.1310 \n",
      "Epoch 127/200 --> loss: 0.1318  | Validation loss: 0.1310 \n",
      "Epoch 128/200 --> loss: 0.1317  | Validation loss: 0.1309 \n",
      "Epoch 129/200 --> loss: 0.1316  | Validation loss: 0.1309 \n",
      "Epoch 130/200 --> loss: 0.1315  | Validation loss: 0.1306 \n",
      "Epoch 131/200 --> loss: 0.1315  | Validation loss: 0.1309 \n",
      "Epoch 132/200 --> loss: 0.1314  | Validation loss: 0.1307 \n",
      "Epoch 133/200 --> loss: 0.1313  | Validation loss: 0.1304 \n",
      "Epoch 134/200 --> loss: 0.1312  | Validation loss: 0.1303 \n",
      "Epoch 135/200 --> loss: 0.1311  | Validation loss: 0.1305 \n",
      "Epoch 136/200 --> loss: 0.1311  | Validation loss: 0.1303 \n",
      "Epoch 137/200 --> loss: 0.1310  | Validation loss: 0.1302 \n",
      "Epoch 138/200 --> loss: 0.1309  | Validation loss: 0.1303 \n",
      "Epoch 139/200 --> loss: 0.1309  | Validation loss: 0.1301 \n",
      "Epoch 140/200 --> loss: 0.1309  | Validation loss: 0.1302 \n",
      "Epoch 141/200 --> loss: 0.1308  | Validation loss: 0.1303 \n",
      "Epoch 142/200 --> loss: 0.1307  | Validation loss: 0.1301 \n",
      "Epoch 143/200 --> loss: 0.1307  | Validation loss: 0.1301 \n",
      "Epoch 144/200 --> loss: 0.1306  | Validation loss: 0.1301 \n",
      "Epoch 145/200 --> loss: 0.1306  | Validation loss: 0.1298 \n",
      "Epoch 146/200 --> loss: 0.1305  | Validation loss: 0.1299 \n",
      "Epoch 147/200 --> loss: 0.1304  | Validation loss: 0.1296 \n",
      "Epoch 148/200 --> loss: 0.1303  | Validation loss: 0.1297 \n",
      "Epoch 149/200 --> loss: 0.1304  | Validation loss: 0.1300 \n",
      "Epoch 150/200 --> loss: 0.1303  | Validation loss: 0.1296 \n",
      "Epoch 151/200 --> loss: 0.1302  | Validation loss: 0.1294 \n",
      "Epoch 152/200 --> loss: 0.1302  | Validation loss: 0.1295 \n",
      "Epoch 153/200 --> loss: 0.1302  | Validation loss: 0.1295 \n",
      "Epoch 154/200 --> loss: 0.1301  | Validation loss: 0.1296 \n",
      "Epoch 155/200 --> loss: 0.1301  | Validation loss: 0.1293 \n",
      "Epoch 156/200 --> loss: 0.1300  | Validation loss: 0.1296 \n",
      "Epoch 157/200 --> loss: 0.1300  | Validation loss: 0.1294 \n",
      "Epoch 158/200 --> loss: 0.1300  | Validation loss: 0.1290 \n",
      "Epoch 159/200 --> loss: 0.1299  | Validation loss: 0.1292 \n",
      "Epoch 160/200 --> loss: 0.1299  | Validation loss: 0.1296 \n",
      "Epoch 161/200 --> loss: 0.1298  | Validation loss: 0.1290 \n",
      "Epoch 162/200 --> loss: 0.1297  | Validation loss: 0.1293 \n",
      "Epoch 163/200 --> loss: 0.1297  | Validation loss: 0.1290 \n",
      "Epoch 164/200 --> loss: 0.1297  | Validation loss: 0.1293 \n",
      "Epoch 165/200 --> loss: 0.1297  | Validation loss: 0.1292 \n",
      "Epoch 166/200 --> loss: 0.1296  | Validation loss: 0.1289 \n",
      "Epoch 167/200 --> loss: 0.1296  | Validation loss: 0.1292 \n",
      "Epoch 168/200 --> loss: 0.1295  | Validation loss: 0.1291 \n",
      "Epoch 169/200 --> loss: 0.1296  | Validation loss: 0.1289 \n",
      "Epoch 170/200 --> loss: 0.1295  | Validation loss: 0.1290 \n",
      "Epoch 171/200 --> loss: 0.1294  | Validation loss: 0.1290 \n",
      "Early stopping: stopping training after 171 epochs.\n"
     ]
    }
   ],
   "source": [
    "history = autoencoder.fit(\n",
    "    X_train = X_train_flatten,\n",
    "    y_train = X_train_flatten,\n",
    "    optimizer = optimizer,\n",
    "    loss_fn = loss_fn,\n",
    "    X_valid = X_test_flatten,\n",
    "    y_valid = X_test_flatten,\n",
    "    batch_size = batch_size,\n",
    "    epochs = epochs,\n",
    "    callbacks = [callbacks.EarlyStopping(monitor='val_loss', patience=5)]\n",
    ")"
   ]
  },
  {
   "cell_type": "code",
   "execution_count": 12,
   "metadata": {},
   "outputs": [
    {
     "data": {
      "image/png": "[encoded data removed]",
      "text/plain": [
       "<Figure size 800x400 with 1 Axes>"
      ]
     },
     "metadata": {},
     "output_type": "display_data"
    }
   ],
   "source": [
    "# Plot the training and validation loss\n",
    "utils.plot_history(history[\"loss\"], history[\"val_loss\"], \"Training and Validation Loss\", \"Epoch\", \"Loss\")"
   ]
  },
  {
   "cell_type": "markdown",
   "metadata": {},
   "source": [
    "### Inference"
   ]
  },
  {
   "cell_type": "code",
   "execution_count": 13,
   "metadata": {},
   "outputs": [],
   "source": [
    "# Compute the statistics of the latent space\n",
    "latent_train = encoder(X_train_flatten)\n",
    "latent_mean = np.mean(latent_train, axis=0)\n",
    "latent_std = np.std(latent_train, axis=0)"
   ]
  },
  {
   "cell_type": "code",
   "execution_count": 14,
   "metadata": {},
   "outputs": [],
   "source": [
    "def sample_latent(num_samples: int = 1) -> np.ndarray:\n",
    "    \"\"\"\n",
    "    Function to sample n random vectors from the latent space.\n",
    "    \n",
    "    Parameters:\n",
    "    - num_samples (int): The number of samples to generate\n",
    "    \n",
    "    Returns:\n",
    "    - np.ndarray: The samples generated from the latent space\n",
    "    \"\"\"\n",
    "    \n",
    "    # Sample the latent space\n",
    "    return np.random.normal(latent_mean, latent_std, (num_samples, latent_dim))"
   ]
  },
  {
   "cell_type": "code",
   "execution_count": null,
   "metadata": {},
   "outputs": [
    {
     "data": {
      "image/png": "[encoded data removed]",
      "text/plain": [
       "<Figure size 2000x500 with 10 Axes>"
      ]
     },
     "metadata": {},
     "output_type": "display_data"
    }
   ],
   "source": [
    "# Sample one random vector from the latent space\n",
    "samples = sample_latent(num_samples=10)\n",
    "\n",
    "# Decode the sample to generate a new image\n",
    "decoded_imges = decoder(samples)\n",
    "\n",
    "# Reshape the image to the original shape\n",
    "decoded_imges = decoded_imges.reshape(-1, *X_train.shape[1:])\n",
    "\n",
    "# Plot the generated image\n",
    "plot_samples(list(decoded_imges))"
   ]
  }
 ],
 "metadata": {
  "kernelspec": {
   "display_name": "venv",
   "language": "python",
   "name": "python3"
  },
  "language_info": {
   "codemirror_mode": {
    "name": "ipython",
    "version": 3
   },
   "file_extension": ".py",
   "mimetype": "text/x-python",
   "name": "python",
   "nbconvert_exporter": "python",
   "pygments_lexer": "ipython3",
   "version": "3.11.11"
  }
 },
 "nbformat": 4,
 "nbformat_minor": 2
}
