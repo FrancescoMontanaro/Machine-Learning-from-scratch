{
 "cells": [
  {
   "cell_type": "code",
   "execution_count": 1,
   "metadata": {},
   "outputs": [],
   "source": [
    "import sys\n",
    "import numpy as np\n",
    "import tensorflow as tf\n",
    "from typing import Optional\n",
    "import matplotlib.pyplot as plt\n",
    "\n",
    "# Add the path to the custom library to the system path\n",
    "sys.path.append('..')\n",
    "\n",
    "# Import the module from the custom library\n",
    "from src import utils\n",
    "from src import Model\n",
    "from src import layers\n",
    "from src import callbacks\n",
    "from src import optimizers\n",
    "from src import activations\n",
    "from src import loss_functions"
   ]
  },
  {
   "cell_type": "markdown",
   "metadata": {},
   "source": [
    "### Constants and hyperparameters"
   ]
  },
  {
   "cell_type": "code",
   "execution_count": 2,
   "metadata": {},
   "outputs": [],
   "source": [
    "\n",
    "n_samples = 1000 # Number of samples to generate\n",
    "train_test_split_pct = 0.2 # Percentage of samples to use for testing\n",
    "learning_rate = 1e-03 # Learning rate for the optimizer\n",
    "batch_size = 512 # Number of samples to use for each batch\n",
    "gradient_accumulation_steps = 1 # Number of gradient accumulation steps\n",
    "epochs = 50 # Number of epochs to train the model\n",
    "seed = 1234 # Seed for reproducibility\n",
    "data_noise = 0.15 # Noise to add to the data"
   ]
  },
  {
   "cell_type": "code",
   "execution_count": 3,
   "metadata": {},
   "outputs": [],
   "source": [
    "# Set the seed for reproducibility\n",
    "np.random.seed(seed)"
   ]
  },
  {
   "cell_type": "markdown",
   "metadata": {},
   "source": [
    "### Data loading"
   ]
  },
  {
   "cell_type": "code",
   "execution_count": 4,
   "metadata": {},
   "outputs": [
    {
     "name": "stdout",
     "output_type": "stream",
     "text": [
      "Number of classes: 10\n",
      "Training set: (60000, 28, 28, 1) (60000,)\n",
      "Test set: (10000, 28, 28, 1) (10000,)\n"
     ]
    }
   ],
   "source": [
    "# Load the dataset\n",
    "(X_train, y_train), (X_test, y_test) = tf.keras.datasets.mnist.load_data() # type: ignore\n",
    "\n",
    "# Add a channel dimension to the images\n",
    "X_train = np.expand_dims(X_train, axis=-1) # type: ignore\n",
    "X_test = np.expand_dims(X_test, axis=-1) # type: ignore\n",
    "\n",
    "# Extract the number of classes in the dataset\n",
    "num_classes = len(np.unique(y_train)) # type: ignore\n",
    "\n",
    "# Print the dataset information\n",
    "print(\"Number of classes:\", num_classes)\n",
    "print('Training set:', X_train.shape, y_train.shape)\n",
    "print('Test set:', X_test.shape, y_test.shape)"
   ]
  },
  {
   "cell_type": "markdown",
   "metadata": {},
   "source": [
    "### Data processing"
   ]
  },
  {
   "cell_type": "code",
   "execution_count": 5,
   "metadata": {},
   "outputs": [],
   "source": [
    "# Normalization\n",
    "def normalize(X: np.ndarray) -> np.ndarray:\n",
    "    \"\"\"\n",
    "    Normalize the input data by dividing by the maximum value in the training set.\n",
    "    \n",
    "    Parameters:\n",
    "    - X (np.ndarray): The input data to normalize\n",
    "\n",
    "    Returns:\n",
    "    - np.ndarray: The normalized input data\n",
    "    \"\"\"\n",
    "    \n",
    "    # Normalize the input data\n",
    "    return X / 255.0\n",
    "\n",
    "# Normalize the input data\n",
    "X_train = normalize(X_train)\n",
    "X_test = normalize(X_test)"
   ]
  },
  {
   "cell_type": "markdown",
   "metadata": {},
   "source": [
    "### Data visualization"
   ]
  },
  {
   "cell_type": "code",
   "execution_count": 6,
   "metadata": {},
   "outputs": [
    {
     "data": {
      "image/png": "[encoded data removed]",
      "text/plain": [
       "<Figure size 2000x500 with 10 Axes>"
      ]
     },
     "metadata": {},
     "output_type": "display_data"
    }
   ],
   "source": [
    "def plot_samples(samples: list[np.ndarray], labels: Optional[list[np.ndarray]] = None) -> None:\n",
    "    \"\"\"\n",
    "    Plot the samples in a grid.\n",
    "    \n",
    "    Parameters:\n",
    "    - samples (list[np.ndarray]): The samples to plot\n",
    "    - labels (list[np.ndarray]): The labels of the samples\n",
    "    \"\"\"\n",
    "        \n",
    "    # Plot the samples in a grid\n",
    "    _, axes = plt.subplots(1, len(samples), figsize=(20, 5))\n",
    "    \n",
    "    # Ensure axes is always iterable\n",
    "    if len(samples) == 1:\n",
    "        axes = [axes]\n",
    "        \n",
    "    # Iterate through the samples\n",
    "    for i, ax in enumerate(axes):\n",
    "        ax.imshow(samples[i], cmap='gray')\n",
    "        ax.axis('off')\n",
    "        if isinstance(labels, np.ndarray): \n",
    "            ax.set_title(f'Label: {labels[i]}')\n",
    "        \n",
    "# Plot the first 10 samples\n",
    "plot_samples(list(X_train[:10]), y_train[:10])"
   ]
  },
  {
   "cell_type": "code",
   "execution_count": 7,
   "metadata": {},
   "outputs": [],
   "source": [
    "# Define the dimension of the latent space\n",
    "latent_dim = 32\n",
    "\n",
    "# Create the encoder\n",
    "encoder = Model(\n",
    "    name = 'Encoder',\n",
    "    modules = [\n",
    "        layers.Input(shape=X_train.shape[1:]),\n",
    "        layers.Conv2D(num_filters=16, kernel_size=(3, 3), activation=activations.ReLU(), padding='same'),\n",
    "        layers.MaxPool2D(size=(2, 2), padding='same'),\n",
    "        layers.Conv2D(num_filters=32, kernel_size=(3, 3), activation=activations.ReLU(), padding='same'),\n",
    "        layers.MaxPool2D(size=(2, 2), padding='same'),\n",
    "        layers.Flatten(),\n",
    "        layers.Dense(num_units=latent_dim, activation=activations.ReLU(), name='Latent'),\n",
    "    ]\n",
    ")\n",
    "\n",
    "# Create the decoder\n",
    "decoder = Model(\n",
    "    name = 'Decoder',\n",
    "    modules = [\n",
    "        layers.Input(shape=(latent_dim,), name='Latent'),\n",
    "        layers.Dense(num_units=7 * 7 * 32, activation=activations.ReLU()),\n",
    "        layers.Reshape(shape=(7, 7, 32)),\n",
    "        layers.Conv2D(num_filters=32, kernel_size=(3, 3), activation=activations.ReLU(), padding='same'),\n",
    "        layers.UpSampling2D(size=(2, 2)),\n",
    "        layers.Conv2D(num_filters=16, kernel_size=(3, 3), activation=activations.ReLU(), padding='same'),\n",
    "        layers.UpSampling2D(size=(2, 2)),\n",
    "        layers.Conv2D(num_filters=1, kernel_size=(3, 3), activation=activations.Sigmoid(), padding='same'),\n",
    "    ]\n",
    ")\n",
    "\n",
    "# Create the auto-encoder\n",
    "autoencoder = Model(\n",
    "    name = 'Autoencoder',\n",
    "    modules = [\n",
    "        encoder,\n",
    "        decoder\n",
    "    ]\n",
    ")\n",
    "\n",
    "# Initialize the optimizer\n",
    "optimizer = optimizers.Adam(learning_rate)\n",
    "\n",
    "# Initialize the loss function\n",
    "loss_fn = loss_functions.BinaryCrossEntropy()"
   ]
  },
  {
   "cell_type": "code",
   "execution_count": 8,
   "metadata": {},
   "outputs": [],
   "source": [
    "# Call the model with a first batch to initialize the weights\n",
    "# This is not necessary, but it is useful to know the input size\n",
    "autoencoder(X_train[:batch_size]);"
   ]
  },
  {
   "cell_type": "code",
   "execution_count": 9,
   "metadata": {},
   "outputs": [
    {
     "name": "stdout",
     "output_type": "stream",
     "text": [
      "\n",
      "Encoder (ID: 0)\n",
      "\n",
      "--------------------------------------------------------------------------------\n",
      "Module (type)                           Output Shape        Trainable params #  \n",
      "================================================================================\n",
      "input_1 (Input)                         (512, 28, 28, 1)    0                   \n",
      "--------------------------------------------------------------------------------\n",
      "conv_2_d_2 (Conv2D)                     (512, 28, 28, 16)   160                 \n",
      "--------------------------------------------------------------------------------\n",
      "max_pool_2_d_3 (MaxPool2D)              (512, 14, 14, 16)   0                   \n",
      "--------------------------------------------------------------------------------\n",
      "conv_2_d_4 (Conv2D)                     (512, 14, 14, 32)   4640                \n",
      "--------------------------------------------------------------------------------\n",
      "max_pool_2_d_5 (MaxPool2D)              (512, 7, 7, 32)     0                   \n",
      "--------------------------------------------------------------------------------\n",
      "flatten_6 (Flatten)                     (512, 1568)         0                   \n",
      "--------------------------------------------------------------------------------\n",
      "Latent (Dense)                          (512, 32)           50208               \n",
      "================================================================================\n",
      "Total trainable parameters: 55008\n",
      "--------------------------------------------------------------------------------\n",
      "\n",
      "Decoder (ID: 1)\n",
      "\n",
      "--------------------------------------------------------------------------------\n",
      "Module (type)                           Output Shape        Trainable params #  \n",
      "================================================================================\n",
      "Latent (Input)                          (512, 32)           0                   \n",
      "--------------------------------------------------------------------------------\n",
      "dense_2 (Dense)                         (512, 1568)         51744               \n",
      "--------------------------------------------------------------------------------\n",
      "reshape_3 (Reshape)                     (512, 7, 7, 32)     0                   \n",
      "--------------------------------------------------------------------------------\n",
      "conv_2_d_4 (Conv2D)                     (512, 7, 7, 32)     9248                \n",
      "--------------------------------------------------------------------------------\n",
      "up_sampling_2_d_5 (UpSampling2D)        (512, 14, 14, 32)   0                   \n",
      "--------------------------------------------------------------------------------\n",
      "conv_2_d_6 (Conv2D)                     (512, 14, 14, 16)   4624                \n",
      "--------------------------------------------------------------------------------\n",
      "up_sampling_2_d_7 (UpSampling2D)        (512, 28, 28, 16)   0                   \n",
      "--------------------------------------------------------------------------------\n",
      "conv_2_d_8 (Conv2D)                     (512, 28, 28, 1)    145                 \n",
      "================================================================================\n",
      "Total trainable parameters: 65761\n",
      "--------------------------------------------------------------------------------\n",
      "\n",
      "Autoencoder (ID: 2)\n",
      "\n",
      "--------------------------------------------------------------------------------\n",
      "Module (type)                           Output Shape        Trainable params #  \n",
      "================================================================================\n",
      "Encoder (Model)                         (512, 32)           55008               \n",
      "--------------------------------------------------------------------------------\n",
      "Decoder (Model)                         (512, 28, 28, 1)    65761               \n",
      "================================================================================\n",
      "Total trainable parameters: 120769\n",
      "--------------------------------------------------------------------------------\n"
     ]
    }
   ],
   "source": [
    "# Display the encoder summary\n",
    "encoder.summary()\n",
    "\n",
    "# Display the decoder summary\n",
    "decoder.summary()\n",
    "\n",
    "# Display the model summary\n",
    "autoencoder.summary()"
   ]
  },
  {
   "cell_type": "markdown",
   "metadata": {},
   "source": [
    "### Training the model"
   ]
  },
  {
   "cell_type": "code",
   "execution_count": 10,
   "metadata": {},
   "outputs": [
    {
     "name": "stdout",
     "output_type": "stream",
     "text": [
      "Epoch 1/50 --> loss: 0.3814  | Validation loss: 0.2385 \n",
      "Epoch 2/50 --> loss: 0.2112  | Validation loss: 0.1878 \n",
      "Epoch 3/50 --> loss: 0.1821  | Validation loss: 0.1707 \n",
      "Epoch 4/50 --> loss: 0.1695  | Validation loss: 0.1631 \n",
      "Epoch 5/50 --> loss: 0.1631  | Validation loss: 0.1573 \n",
      "Epoch 6/50 --> loss: 0.1583  | Validation loss: 0.1535 \n",
      "Epoch 7/50 --> loss: 0.1549  | Validation loss: 0.1507 \n",
      "Epoch 8/50 --> loss: 0.1518  | Validation loss: 0.1481 \n",
      "Epoch 9/50 --> loss: 0.1496  | Validation loss: 0.1461 \n",
      "Epoch 10/50 --> loss: 0.1476  | Validation loss: 0.1446 \n",
      "Epoch 11/50 --> loss: 0.1461  | Validation loss: 0.1429 \n",
      "Epoch 12/50 --> loss: 0.1446  | Validation loss: 0.1434 \n",
      "Epoch 13/50 --> loss: 0.1435  | Validation loss: 0.1403 \n",
      "Epoch 14/50 --> loss: 0.1423  | Validation loss: 0.1394 \n",
      "Epoch 15/50 --> loss: 0.1412  | Validation loss: 0.1399 \n",
      "Epoch 16/50 --> loss: 0.1406  | Validation loss: 0.1385 \n",
      "Epoch 17/50 --> loss: 0.1395  | Validation loss: 0.1376 \n",
      "Epoch 18/50 --> loss: 0.1389  | Validation loss: 0.1368 \n",
      "Epoch 19/50 --> loss: 0.1383  | Validation loss: 0.1383 \n",
      "Epoch 20/50 --> loss: 0.1377  | Validation loss: 0.1352 \n",
      "Epoch 21/50 --> loss: 0.1371  | Validation loss: 0.1355 \n",
      "Epoch 22/50 --> loss: 0.1365  | Validation loss: 0.1346 \n",
      "Epoch 23/50 --> loss: 0.1361  | Validation loss: 0.1341 \n",
      "Epoch 24/50 --> loss: 0.1357  | Validation loss: 0.1346 \n",
      "Epoch 25/50 --> loss: 0.1352  | Validation loss: 0.1339 \n",
      "Epoch 26/50 --> loss: 0.1346  | Validation loss: 0.1327 \n",
      "Epoch 27/50 --> loss: 0.1344  | Validation loss: 0.1327 \n",
      "Epoch 28/50 --> loss: 0.1341  | Validation loss: 0.1322 \n",
      "Epoch 29/50 --> loss: 0.1337  | Validation loss: 0.1319 \n",
      "Epoch 30/50 --> loss: 0.1335  | Validation loss: 0.1320 \n",
      "Epoch 31/50 --> loss: 0.1332  | Validation loss: 0.1314 \n",
      "Epoch 32/50 --> loss: 0.1327  | Validation loss: 0.1320 \n",
      "Epoch 33/50 --> loss: 0.1326  | Validation loss: 0.1306 \n",
      "Epoch 34/50 --> loss: 0.1321  | Validation loss: 0.1306 \n",
      "Epoch 35/50 --> loss: 0.1320  | Validation loss: 0.1304 \n",
      "Epoch 36/50 --> loss: 0.1318  | Validation loss: 0.1305 \n",
      "Epoch 37/50 --> loss: 0.1315  | Validation loss: 0.1302 \n",
      "Epoch 38/50 --> loss: 0.1311  | Validation loss: 0.1296 \n",
      "Epoch 39/50 --> loss: 0.1311  | Validation loss: 0.1296 \n",
      "Epoch 40/50 --> loss: 0.1308  | Validation loss: 0.1296 \n",
      "Epoch 41/50 --> loss: 0.1305  | Validation loss: 0.1291 \n",
      "Epoch 42/50 --> loss: 0.1305  | Validation loss: 0.1290 \n",
      "Epoch 43/50 --> loss: 0.1302  | Validation loss: 0.1290 \n",
      "Epoch 44/50 --> loss: 0.1300  | Validation loss: 0.1286 \n",
      "Epoch 45/50 --> loss: 0.1298  | Validation loss: 0.1299 \n",
      "Epoch 46/50 --> loss: 0.1298  | Validation loss: 0.1306 \n",
      "Epoch 47/50 --> loss: 0.1295  | Validation loss: 0.1284 \n",
      "Epoch 48/50 --> loss: 0.1293  | Validation loss: 0.1280 \n",
      "Epoch 49/50 --> loss: 0.1292  | Validation loss: 0.1276 \n",
      "Epoch 50/50 --> loss: 0.1290  | Validation loss: 0.1276 \n"
     ]
    }
   ],
   "source": [
    "history = autoencoder.fit(\n",
    "    X_train = X_train,\n",
    "    y_train = X_train,\n",
    "    optimizer = optimizer,\n",
    "    loss_fn = loss_fn,\n",
    "    X_valid = X_test,\n",
    "    y_valid = X_test,\n",
    "    batch_size = batch_size,\n",
    "    epochs = epochs,\n",
    "    gradient_accumulation_steps = gradient_accumulation_steps,\n",
    "    callbacks = [callbacks.EarlyStopping(monitor='val_loss', patience=5)]\n",
    ")"
   ]
  },
  {
   "cell_type": "code",
   "execution_count": 11,
   "metadata": {},
   "outputs": [
    {
     "data": {
      "image/png": "[encoded data removed]",
      "text/plain": [
       "<Figure size 800x400 with 1 Axes>"
      ]
     },
     "metadata": {},
     "output_type": "display_data"
    }
   ],
   "source": [
    "# Plot the training and validation loss\n",
    "utils.plot_history(autoencoder.history[\"loss\"], autoencoder.history[\"val_loss\"], \"Training and Validation Loss\", \"Epoch\", \"Loss\")"
   ]
  },
  {
   "cell_type": "markdown",
   "metadata": {},
   "source": [
    "### Inference"
   ]
  },
  {
   "cell_type": "code",
   "execution_count": 12,
   "metadata": {},
   "outputs": [
    {
     "name": "stdout",
     "output_type": "stream",
     "text": [
      "Processing batch 117/117 - 109.36 ms/step"
     ]
    }
   ],
   "source": [
    "# Execute the encoder on the whole training set\n",
    "latent_train = encoder(\n",
    "    x = X_train,\n",
    "    batch_size = batch_size,\n",
    "    verbose = True\n",
    ")\n",
    "\n",
    "# Compute the mean and standard deviation of the latent space\n",
    "latent_mean = np.mean(latent_train, axis=0)\n",
    "latent_std = np.std(latent_train, axis=0)"
   ]
  },
  {
   "cell_type": "code",
   "execution_count": 13,
   "metadata": {},
   "outputs": [],
   "source": [
    "def sample_latent(num_samples: int = 1) -> np.ndarray:\n",
    "    \"\"\"\n",
    "    Function to sample n random vectors from the latent space.\n",
    "    \n",
    "    Parameters:\n",
    "    - num_samples (int): The number of samples to generate\n",
    "    \n",
    "    Returns:\n",
    "    - np.ndarray: The samples generated from the latent space\n",
    "    \"\"\"\n",
    "    \n",
    "    # Sample the latent space\n",
    "    return np.random.normal(latent_mean, latent_std, (num_samples, latent_dim))"
   ]
  },
  {
   "cell_type": "code",
   "execution_count": 14,
   "metadata": {},
   "outputs": [
    {
     "data": {
      "image/png": "[encoded data removed]",
      "text/plain": [
       "<Figure size 2000x500 with 10 Axes>"
      ]
     },
     "metadata": {},
     "output_type": "display_data"
    }
   ],
   "source": [
    "# Sample one random vector from the latent space\n",
    "samples = sample_latent(num_samples=10)\n",
    "\n",
    "# Decode the sample to generate a new image\n",
    "decoded_imges = decoder(samples)\n",
    "\n",
    "# Reshape the image to the original shape\n",
    "decoded_imges = decoded_imges.reshape(-1, *X_train.shape[1:])\n",
    "\n",
    "# Plot the generated image\n",
    "plot_samples(list(decoded_imges))"
   ]
  }
 ],
 "metadata": {
  "kernelspec": {
   "display_name": "venv",
   "language": "python",
   "name": "python3"
  },
  "language_info": {
   "codemirror_mode": {
    "name": "ipython",
    "version": 3
   },
   "file_extension": ".py",
   "mimetype": "text/x-python",
   "name": "python",
   "nbconvert_exporter": "python",
   "pygments_lexer": "ipython3",
   "version": "3.11.11"
  }
 },
 "nbformat": 4,
 "nbformat_minor": 2
}
