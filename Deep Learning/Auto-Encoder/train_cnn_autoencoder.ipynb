{
 "cells": [
  {
   "cell_type": "code",
   "execution_count": null,
   "metadata": {},
   "outputs": [],
   "source": [
    "import sys\n",
    "import numpy as np\n",
    "from keras import datasets\n",
    "from typing import Optional\n",
    "import matplotlib.pyplot as plt\n",
    "\n",
    "# Add the path to the custom library to the system path\n",
    "sys.path.append('..')\n",
    "\n",
    "# Import the module from the custom library\n",
    "from src.architectures.sequential import Sequential\n",
    "from src.core.utils import data_analysis, data_processing, context_manager\n",
    "from src import Tensor, layers, activations, loss_functions, optimizers, callbacks"
   ]
  },
  {
   "cell_type": "markdown",
   "metadata": {},
   "source": [
    "### Constants and hyperparameters"
   ]
  },
  {
   "cell_type": "code",
   "execution_count": 2,
   "metadata": {},
   "outputs": [],
   "source": [
    "\n",
    "n_samples = 1000 # Number of samples to generate\n",
    "train_test_split_pct = 0.2 # Percentage of samples to use for testing\n",
    "learning_rate = 1e-03 # Learning rate for the optimizer\n",
    "batch_size = 512 # Number of samples to use for each batch\n",
    "gradient_accumulation_steps = 1 # Number of gradient accumulation steps\n",
    "epochs = 30 # Number of epochs to train the model\n",
    "seed = 1234 # Seed for reproducibility\n",
    "data_noise = 0.15 # Noise to add to the data"
   ]
  },
  {
   "cell_type": "code",
   "execution_count": 3,
   "metadata": {},
   "outputs": [],
   "source": [
    "# Set the seed for reproducibility\n",
    "np.random.seed(seed)"
   ]
  },
  {
   "cell_type": "markdown",
   "metadata": {},
   "source": [
    "### Data loading"
   ]
  },
  {
   "cell_type": "code",
   "execution_count": null,
   "metadata": {},
   "outputs": [
    {
     "name": "stdout",
     "output_type": "stream",
     "text": [
      "Number of classes: 10\n",
      "Training set: (48000, 28, 28, 1) (48000,)\n",
      "Testing set: (12000, 28, 28, 1) (12000,)\n"
     ]
    }
   ],
   "source": [
    "# Load the dataset\n",
    "(train_images, train_labels), (test_images, test_labels) = datasets.mnist.load_data()\n",
    "\n",
    "# Add the channel dimension to the images\n",
    "train_images = np.expand_dims(train_images, axis=-1)\n",
    "test_images = np.expand_dims(test_images, axis=-1)\n",
    "\n",
    "# Extract the number of classes in the dataset\n",
    "num_classes = len(np.unique(train_labels))    \n",
    "\n",
    "# Convert the lists to numpy arrays\n",
    "X_train = Tensor(np.array(train_images))\n",
    "y_train = Tensor(np.array(train_labels), dtype=np.int8)\n",
    "X_test = Tensor(np.array(test_images))\n",
    "y_test = Tensor(np.array(test_labels), dtype=np.int8)\n",
    "\n",
    "# Split the training set into training, validation and testing sets\n",
    "X_train, X_test, y_train, y_test = data_processing.split_data(data=(X_train, y_train), split_pct=train_test_split_pct, shuffle=True)\n",
    "\n",
    "# Print the dataset information\n",
    "print(\"Number of classes:\", num_classes)\n",
    "print('Training set:', X_train.shape(), y_train.shape())\n",
    "print('Testing set:', X_test.shape(), y_test.shape())"
   ]
  },
  {
   "cell_type": "markdown",
   "metadata": {},
   "source": [
    "### Data processing"
   ]
  },
  {
   "cell_type": "code",
   "execution_count": 5,
   "metadata": {},
   "outputs": [],
   "source": [
    "# Normalization\n",
    "def normalize(X: Tensor) -> Tensor:\n",
    "    \"\"\"\n",
    "    Normalize the input data by dividing by the maximum value in the training set.\n",
    "    \n",
    "    Parameters:\n",
    "    - X (Tensor): The input data to normalize\n",
    "    \n",
    "    Returns:\n",
    "    - Tensor: The normalized input data\n",
    "    \"\"\"\n",
    "    \n",
    "    # Normalize the input data\n",
    "    return X / 255.0\n",
    "\n",
    "# Normalize the input data\n",
    "X_train = normalize(X_train)\n",
    "X_test = normalize(X_test)"
   ]
  },
  {
   "cell_type": "markdown",
   "metadata": {},
   "source": [
    "### Data visualization"
   ]
  },
  {
   "cell_type": "code",
   "execution_count": 6,
   "metadata": {},
   "outputs": [
    {
     "data": {
      "image/png": "[encoded data removed]",
      "text/plain": [
       "<Figure size 2000x500 with 10 Axes>"
      ]
     },
     "metadata": {},
     "output_type": "display_data"
    }
   ],
   "source": [
    "def plot_samples(samples: list[np.ndarray], labels: Optional[list[np.ndarray]] = None) -> None:\n",
    "    \"\"\"\n",
    "    Plot the samples in a grid.\n",
    "    \n",
    "    Parameters:\n",
    "    - samples (list[np.ndarray]): The samples to plot\n",
    "    - labels (list[np.ndarray]): The labels of the samples\n",
    "    \"\"\"\n",
    "        \n",
    "    # Plot the samples in a grid\n",
    "    _, axes = plt.subplots(1, len(samples), figsize=(20, 5))\n",
    "    \n",
    "    # Ensure axes is always iterable\n",
    "    if len(samples) == 1:\n",
    "        axes = [axes]\n",
    "        \n",
    "    # Iterate through the samples\n",
    "    for i, ax in enumerate(axes):\n",
    "        ax.imshow(samples[i], cmap='gray')\n",
    "        ax.axis('off')\n",
    "        if isinstance(labels, np.ndarray): \n",
    "            ax.set_title(f'Label: {labels[i]}')\n",
    "        \n",
    "# Plot the first 10 samples\n",
    "plot_samples(list(X_train.data[:10]), list(y_train.data[:10]))"
   ]
  },
  {
   "cell_type": "code",
   "execution_count": null,
   "metadata": {},
   "outputs": [],
   "source": [
    "# Define the dimension of the latent space\n",
    "latent_dim = 32\n",
    "\n",
    "# Create the encoder\n",
    "encoder = Sequential(\n",
    "    name = 'Encoder',\n",
    "    modules = [\n",
    "        layers.Input(shape=X_train.shape()[1:]),\n",
    "        layers.Conv2D(num_filters=16, kernel_size=(3, 3), activation=activations.ReLU(), padding='same'),\n",
    "        layers.MaxPool2D(size=(2, 2), padding='same'),\n",
    "        layers.Conv2D(num_filters=32, kernel_size=(3, 3), activation=activations.ReLU(), padding='same'),\n",
    "        layers.MaxPool2D(size=(2, 2), padding='same'),\n",
    "        layers.Flatten(),\n",
    "        layers.Dense(num_units=latent_dim, activation=activations.ReLU(), name='Latent'),\n",
    "    ]\n",
    ")\n",
    "\n",
    "# Create the decoder\n",
    "decoder = Sequential(\n",
    "    name = 'Decoder',\n",
    "    modules = [\n",
    "        layers.Input(shape=(latent_dim,), name='Latent'),\n",
    "        layers.Dense(num_units=7 * 7 * 32, activation=activations.ReLU()),\n",
    "        layers.Reshape(shape=(7, 7, 32)),\n",
    "        layers.Conv2D(num_filters=32, kernel_size=(3, 3), activation=activations.ReLU(), padding='same'),\n",
    "        layers.UpSampling2D(size=(2, 2)),\n",
    "        layers.Conv2D(num_filters=16, kernel_size=(3, 3), activation=activations.ReLU(), padding='same'),\n",
    "        layers.UpSampling2D(size=(2, 2)),\n",
    "        layers.Conv2D(num_filters=1, kernel_size=(3, 3), activation=activations.Sigmoid(), padding='same'),\n",
    "    ]\n",
    ")\n",
    "\n",
    "# Create the auto-encoder\n",
    "autoencoder = Sequential(\n",
    "    name = 'Autoencoder',\n",
    "    modules = [\n",
    "        encoder,\n",
    "        decoder\n",
    "    ]\n",
    ")\n",
    "\n",
    "# Initialize the optimizer\n",
    "optimizer = optimizers.Adam(learning_rate)\n",
    "\n",
    "# Initialize the loss function\n",
    "loss_fn = loss_functions.BinaryCrossEntropy()"
   ]
  },
  {
   "cell_type": "markdown",
   "metadata": {},
   "source": [
    "### Initializing the model"
   ]
  },
  {
   "cell_type": "code",
   "execution_count": null,
   "metadata": {},
   "outputs": [],
   "source": [
    "# Call the model with a first batch to initialize the weights\n",
    "# This is not necessary, but it is useful to know the input size\n",
    "\n",
    "# Disable gradient computation\n",
    "with context_manager.no_grad():\n",
    "    # Set the model in evaluation mode\n",
    "    autoencoder.eval()\n",
    "    \n",
    "    # Call the model with a batch of data to initialize it\n",
    "    autoencoder(X_train[:batch_size])"
   ]
  },
  {
   "cell_type": "code",
   "execution_count": 9,
   "metadata": {},
   "outputs": [
    {
     "name": "stdout",
     "output_type": "stream",
     "text": [
      "\n",
      "Encoder (ID: 0)\n",
      "\n",
      "--------------------------------------------------------------------------------\n",
      "Module (type)                           Output Shape        Trainable params #  \n",
      "================================================================================\n",
      "input_1 (Input)                         (512, 28, 28, 1)    0                   \n",
      "--------------------------------------------------------------------------------\n",
      "conv_2_d_2 (Conv2D)                     (512, 28, 28, 16)   160                 \n",
      "--------------------------------------------------------------------------------\n",
      "max_pool_2_d_3 (MaxPool2D)              (512, 14, 14, 16)   0                   \n",
      "--------------------------------------------------------------------------------\n",
      "conv_2_d_4 (Conv2D)                     (512, 14, 14, 32)   4640                \n",
      "--------------------------------------------------------------------------------\n",
      "max_pool_2_d_5 (MaxPool2D)              (512, 7, 7, 32)     0                   \n",
      "--------------------------------------------------------------------------------\n",
      "flatten_6 (Flatten)                     (512, 1568)         0                   \n",
      "--------------------------------------------------------------------------------\n",
      "Latent (Dense)                          (512, 32)           50208               \n",
      "================================================================================\n",
      "Total trainable parameters: 55008\n",
      "--------------------------------------------------------------------------------\n",
      "\n",
      "Decoder (ID: 1)\n",
      "\n",
      "--------------------------------------------------------------------------------\n",
      "Module (type)                           Output Shape        Trainable params #  \n",
      "================================================================================\n",
      "Latent (Input)                          (512, 32)           0                   \n",
      "--------------------------------------------------------------------------------\n",
      "dense_2 (Dense)                         (512, 1568)         51744               \n",
      "--------------------------------------------------------------------------------\n",
      "reshape_3 (Reshape)                     (512, 7, 7, 32)     0                   \n",
      "--------------------------------------------------------------------------------\n",
      "conv_2_d_4 (Conv2D)                     (512, 7, 7, 32)     9248                \n",
      "--------------------------------------------------------------------------------\n",
      "up_sampling_2_d_5 (UpSampling2D)        (512, 14, 14, 32)   0                   \n",
      "--------------------------------------------------------------------------------\n",
      "conv_2_d_6 (Conv2D)                     (512, 14, 14, 16)   4624                \n",
      "--------------------------------------------------------------------------------\n",
      "up_sampling_2_d_7 (UpSampling2D)        (512, 28, 28, 16)   0                   \n",
      "--------------------------------------------------------------------------------\n",
      "conv_2_d_8 (Conv2D)                     (512, 28, 28, 1)    145                 \n",
      "================================================================================\n",
      "Total trainable parameters: 65761\n",
      "--------------------------------------------------------------------------------\n",
      "\n",
      "Autoencoder (ID: 2)\n",
      "\n",
      "--------------------------------------------------------------------------------\n",
      "Module (type)                           Output Shape        Trainable params #  \n",
      "================================================================================\n",
      "Encoder (Model)                         (512, 32)           55008               \n",
      "--------------------------------------------------------------------------------\n",
      "Decoder (Model)                         (512, 28, 28, 1)    65761               \n",
      "================================================================================\n",
      "Total trainable parameters: 120769\n",
      "--------------------------------------------------------------------------------\n"
     ]
    }
   ],
   "source": [
    "# Display the encoder summary\n",
    "encoder.summary()\n",
    "\n",
    "# Display the decoder summary\n",
    "decoder.summary()\n",
    "\n",
    "# Display the model summary\n",
    "autoencoder.summary()"
   ]
  },
  {
   "cell_type": "markdown",
   "metadata": {},
   "source": [
    "### Training the model"
   ]
  },
  {
   "cell_type": "code",
   "execution_count": null,
   "metadata": {},
   "outputs": [
    {
     "name": "stdout",
     "output_type": "stream",
     "text": [
      "Epoch 1/30 --> loss: 0.2809  | Validation loss: 0.1839                                                   \n",
      "Epoch 2/30 --> loss: 0.1496  | Validation loss: 0.1293                                                   \n",
      "Epoch 3/30 --> loss: 0.1218  | Validation loss: 0.1165                                                   \n",
      "Epoch 4/30 --> loss: 0.1112  | Validation loss: 0.1093                                                   \n",
      "Epoch 5/30 --> loss: 0.1058  | Validation loss: 0.1042                                                   \n",
      "Epoch 6/30 --> loss: 0.1024  | Validation loss: 0.1007                                                   \n",
      "Epoch 7/30 --> loss: 0.0998  | Validation loss: 0.0980                                                   \n",
      "Epoch 8/30 --> loss: 0.0976  | Validation loss: 0.0969                                                   \n",
      "Epoch 9/30 --> loss: 0.0960  | Validation loss: 0.0947                                                   \n",
      "Epoch 10/30 --> loss: 0.0946  | Validation loss: 0.0937                                                   \n",
      "Epoch 11/30 --> loss: 0.0935  | Validation loss: 0.0927                                                   \n",
      "Epoch 12/30 --> loss: 0.0925  | Validation loss: 0.0916                                                   \n",
      "Epoch 13/30 --> loss: 0.0917  | Validation loss: 0.0914                                                   \n",
      "Epoch 14/30 --> loss: 0.0911  | Validation loss: 0.0909                                                   \n",
      "Epoch 15/30 --> loss: 0.0902  | Validation loss: 0.0900                                                   \n",
      "Epoch 16/30 --> loss: 0.0896  | Validation loss: 0.0891                                                   \n",
      "Epoch 17/30 --> loss: 0.0890  | Validation loss: 0.0891                                                   \n",
      "Epoch 18/30 --> loss: 0.0888  | Validation loss: 0.0890                                                   \n",
      "Epoch 19/30 --> loss: 0.0882  | Validation loss: 0.0881                                                   \n",
      "Epoch 20/30 --> loss: 0.0878  | Validation loss: 0.0880                                                   \n",
      "Epoch 21/30 --> loss: 0.0873  | Validation loss: 0.0872                                                   \n",
      "Epoch 22/30 --> loss: 0.0872  | Validation loss: 0.0873                                                   \n",
      "Epoch 23/30 --> loss: 0.0868  | Validation loss: 0.0866                                                   \n",
      "Epoch 24/30 --> loss: 0.0863  | Validation loss: 0.0861                                                   \n",
      "Epoch 25/30 --> loss: 0.0862  | Validation loss: 0.0860                                                   \n",
      "Epoch 26/30 --> loss: 0.0859  | Validation loss: 0.0858                                                   \n",
      "Epoch 27/30 --> loss: 0.0856  | Validation loss: 0.0857                                                   \n",
      "Epoch 28/30 --> loss: 0.0854  | Validation loss: 0.0852                                                   \n",
      "Epoch 29/30 --> loss: 0.0853  | Validation loss: 0.0854                                                   \n",
      "Epoch 30/30 --> loss: 0.0850  | Validation loss: 0.0852                                                   \n"
     ]
    }
   ],
   "source": [
    "history = autoencoder.fit(\n",
    "    X_train = X_train,\n",
    "    y_train = X_train,\n",
    "    optimizer = optimizer,\n",
    "    loss_fn = loss_fn,\n",
    "    X_valid = X_test,\n",
    "    y_valid = X_test,\n",
    "    batch_size = batch_size,\n",
    "    epochs = epochs,\n",
    "    gradient_accumulation_steps = gradient_accumulation_steps,\n",
    "    callbacks = [callbacks.EarlyStopping(monitor='val_loss', patience=5)]\n",
    ")"
   ]
  },
  {
   "cell_type": "code",
   "execution_count": null,
   "metadata": {},
   "outputs": [
    {
     "data": {
      "image/png": "[encoded data removed]",
      "text/plain": [
       "<Figure size 800x400 with 1 Axes>"
      ]
     },
     "metadata": {},
     "output_type": "display_data"
    }
   ],
   "source": [
    "# Plot the training and validation loss\n",
    "data_analysis.plot_history(autoencoder.history[\"loss\"].data, autoencoder.history[\"val_loss\"].data, \"Training and Validation Loss\", \"Epoch\", \"Loss\")"
   ]
  },
  {
   "cell_type": "markdown",
   "metadata": {},
   "source": [
    "### Inference"
   ]
  },
  {
   "cell_type": "code",
   "execution_count": null,
   "metadata": {},
   "outputs": [
    {
     "name": "stdout",
     "output_type": "stream",
     "text": [
      "Processing batch 94/94 - 450.94 ms/step"
     ]
    }
   ],
   "source": [
    "# Disable gradient computation\n",
    "with context_manager.no_grad():\n",
    "    # Set the model in evaluation mode\n",
    "    encoder.eval()\n",
    "    \n",
    "    # Execute the encoder on the whole training set\n",
    "    latent_train = encoder(\n",
    "        x = X_train,\n",
    "        batch_size = batch_size,\n",
    "        verbose = True\n",
    "    )\n",
    "\n",
    "# Compute the mean and standard deviation of the latent space\n",
    "latent_mean = np.mean(latent_train.data, axis=0)\n",
    "latent_std = np.std(latent_train.data, axis=0)"
   ]
  },
  {
   "cell_type": "code",
   "execution_count": 13,
   "metadata": {},
   "outputs": [],
   "source": [
    "def sample_latent(num_samples: int = 1) -> np.ndarray:\n",
    "    \"\"\"\n",
    "    Function to sample n random vectors from the latent space.\n",
    "    \n",
    "    Parameters:\n",
    "    - num_samples (int): The number of samples to generate\n",
    "    \n",
    "    Returns:\n",
    "    - np.ndarray: The samples generated from the latent space\n",
    "    \"\"\"\n",
    "    \n",
    "    # Sample the latent space\n",
    "    return np.random.normal(latent_mean, latent_std, (num_samples, latent_dim))"
   ]
  },
  {
   "cell_type": "code",
   "execution_count": null,
   "metadata": {},
   "outputs": [
    {
     "data": {
      "image/png": "[encoded data removed]",
      "text/plain": [
       "<Figure size 2000x500 with 10 Axes>"
      ]
     },
     "metadata": {},
     "output_type": "display_data"
    }
   ],
   "source": [
    "# Sample one random vector from the latent space\n",
    "samples = sample_latent(num_samples=10)\n",
    "\n",
    "# Convert the samples to a tensor\n",
    "samples = Tensor(samples)\n",
    "\n",
    "# Disable gradient computation\n",
    "with context_manager.no_grad():\n",
    "    # Set the model in evaluation mode\n",
    "    decoder.eval()\n",
    "    \n",
    "    # Decode the sample to generate a new image\n",
    "    decoded_imges = decoder(samples)\n",
    "\n",
    "# Reshape the image to the original shape\n",
    "decoded_imges = decoded_imges.reshape((-1, *X_train.shape()[1:]))\n",
    "\n",
    "# Plot the generated image\n",
    "plot_samples(list(decoded_imges.data))"
   ]
  }
 ],
 "metadata": {
  "kernelspec": {
   "display_name": "venv",
   "language": "python",
   "name": "python3"
  },
  "language_info": {
   "codemirror_mode": {
    "name": "ipython",
    "version": 3
   },
   "file_extension": ".py",
   "mimetype": "text/x-python",
   "name": "python",
   "nbconvert_exporter": "python",
   "pygments_lexer": "ipython3",
   "version": "3.11.11"
  }
 },
 "nbformat": 4,
 "nbformat_minor": 2
}
