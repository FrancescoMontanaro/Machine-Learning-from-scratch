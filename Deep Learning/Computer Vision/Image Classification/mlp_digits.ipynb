{
 "cells": [
  {
   "cell_type": "code",
   "execution_count": null,
   "metadata": {},
   "outputs": [],
   "source": [
    "import os\n",
    "import sys\n",
    "import numpy as np\n",
    "from pathlib import Path\n",
    "import matplotlib.pyplot as plt\n",
    "from sklearn.datasets import load_digits\n",
    "\n",
    "# Add the path to the custom library to the system path\n",
    "sys.path.append(str(Path().resolve().parent.parent))\n",
    "\n",
    "# Import the module from the custom library\n",
    "from src.architectures.sequential import Sequential\n",
    "from src.core.utils import data_analysis, data_processing, context_manager\n",
    "from src import Tensor, layers, activations, loss_functions, optimizers, metrics, callbacks"
   ]
  },
  {
   "cell_type": "markdown",
   "metadata": {},
   "source": [
    "### Constants and Hyperparameters"
   ]
  },
  {
   "cell_type": "code",
   "execution_count": 3,
   "metadata": {},
   "outputs": [],
   "source": [
    "# Path to where the model will be saved\n",
    "model_path = os.path.join(os.getcwd(), 'checkpoints', 'digits_classifier')"
   ]
  },
  {
   "cell_type": "code",
   "execution_count": 4,
   "metadata": {},
   "outputs": [],
   "source": [
    "train_test_split_pct = 0.2 # Percentage of samples to use for testing\n",
    "train_valid_split = 0.2 # Percentage of samples to use for validation\n",
    "learning_rate = 1e-4 # Learning rate for the optimizer\n",
    "batch_size = 16 # Number of samples to use for each batch\n",
    "epochs = 300 # Number of epochs to train the model\n",
    "seed = 1234 # Seed for reproducibility"
   ]
  },
  {
   "cell_type": "code",
   "execution_count": 5,
   "metadata": {},
   "outputs": [],
   "source": [
    "# Set the seed for reproducibility\n",
    "np.random.seed(seed)"
   ]
  },
  {
   "cell_type": "markdown",
   "metadata": {},
   "source": [
    "### Data loading"
   ]
  },
  {
   "cell_type": "code",
   "execution_count": null,
   "metadata": {},
   "outputs": [
    {
     "name": "stdout",
     "output_type": "stream",
     "text": [
      "Number of classes: 10\n",
      "Training set: (1151, 64) (1151,)\n",
      "Validation set: (287, 64) (287,)\n",
      "Testing set: (359, 64) (359,)\n"
     ]
    }
   ],
   "source": [
    "# Load the digits dataset\n",
    "digits = load_digits()\n",
    "\n",
    "# Extract the number of classes in the dataset\n",
    "num_classes = len(np.unique(digits['target'])) # type: ignore\n",
    "\n",
    "# Extract the input and output data\n",
    "data = Tensor(data=digits.get(\"data\", [])) # type: ignore\n",
    "labels = Tensor(data=digits.get(\"target\", []), dtype=np.int8) # type: ignore\n",
    "\n",
    "# Split the dataset into training, validation, and testing sets\n",
    "X_train, X_test, y_train, y_test = data_processing.split_data((data, labels), train_test_split_pct, shuffle=True)[0]\n",
    "X_train, X_valid, y_train, y_valid = data_processing.split_data((X_train, y_train), train_valid_split, shuffle=True)[0]\n",
    "\n",
    "# Print the dataset information\n",
    "print(\"Number of classes:\", num_classes)\n",
    "print('Training set:', X_train.shape(), y_train.shape())\n",
    "print('Validation set:', X_valid.shape(), y_valid.shape())\n",
    "print('Testing set:', X_test.shape(), y_test.shape())"
   ]
  },
  {
   "cell_type": "markdown",
   "metadata": {},
   "source": [
    "### Data Preprocessing"
   ]
  },
  {
   "cell_type": "code",
   "execution_count": 7,
   "metadata": {},
   "outputs": [],
   "source": [
    "# Normalization\n",
    "def normalize(X: Tensor) -> Tensor:\n",
    "    \"\"\"\n",
    "    Normalize the input data by dividing by the maximum value in the training set.\n",
    "    \n",
    "    Parameters:\n",
    "    - X (Tensor): The input data to normalize\n",
    "    \n",
    "    Returns:\n",
    "    - Tensor: The normalized input data\n",
    "    \"\"\"\n",
    "    \n",
    "    # Normalize the input data\n",
    "    return X / 255.0\n",
    "\n",
    "# Normalize the input data\n",
    "X_train = normalize(X_train)\n",
    "X_valid = normalize(X_valid)\n",
    "X_test = normalize(X_test)"
   ]
  },
  {
   "cell_type": "code",
   "execution_count": 8,
   "metadata": {},
   "outputs": [
    {
     "name": "stdout",
     "output_type": "stream",
     "text": [
      "Sample target value: 3\n",
      "One-hot encoded value: Tensor([0 0 0 1 0 0 0 0 0 0], shape=(10,), dtype=int8)\n"
     ]
    }
   ],
   "source": [
    "# Convert the target values to one-hot encoded vectors\n",
    "y_train_encoded = data_processing.one_hot_encoding(y=y_train, n_classes=num_classes)\n",
    "y_valid_encoded = data_processing.one_hot_encoding(y=y_valid, n_classes=num_classes)\n",
    "\n",
    "# Print one sample encoding\n",
    "print(\"Sample target value:\", y_train[0].data)\n",
    "print(\"One-hot encoded value:\", y_train_encoded[0])"
   ]
  },
  {
   "cell_type": "markdown",
   "metadata": {},
   "source": [
    "### Data visualization"
   ]
  },
  {
   "cell_type": "code",
   "execution_count": 9,
   "metadata": {},
   "outputs": [
    {
     "data": {
      "image/png": "[encoded data removed]",
      "text/plain": [
       "<Figure size 2000x500 with 10 Axes>"
      ]
     },
     "metadata": {},
     "output_type": "display_data"
    }
   ],
   "source": [
    "def plot_samples(samples: list[np.ndarray], labels: list[np.ndarray]) -> None:\n",
    "    \"\"\"\n",
    "    Plot the samples in a grid.\n",
    "    \n",
    "    Parameters:\n",
    "    - samples (list[np.ndarray]): The samples to plot\n",
    "    - labels (list[np.ndarray]): The labels of the samples\n",
    "    \"\"\"\n",
    "    \n",
    "    reshaped_samples = []\n",
    "    \n",
    "    # Iterate over the samples\n",
    "    for sample in samples:\n",
    "        # Compute the new shape\n",
    "        new_shape = np.sqrt(sample.shape).astype(int)[0]\n",
    "        \n",
    "        # Reshape the sample\n",
    "        sample = sample.reshape(new_shape, new_shape)\n",
    "        \n",
    "        # Append the reshaped sample\n",
    "        reshaped_samples.append(sample)\n",
    "        \n",
    "    # Plot the samples in a grid\n",
    "    _, axes = plt.subplots(1, len(samples), figsize=(20, 5))\n",
    "    for i, ax in enumerate(axes):\n",
    "        ax.imshow(reshaped_samples[i], cmap='gray')\n",
    "        ax.set_title(f'Label: {labels[i]}')\n",
    "        ax.axis('off')\n",
    "        \n",
    "        \n",
    "# Plot the first 10 samples\n",
    "plot_samples(list(X_train.data[:10]), list(y_train.data[:10]))"
   ]
  },
  {
   "cell_type": "markdown",
   "metadata": {},
   "source": [
    "### Building the model"
   ]
  },
  {
   "cell_type": "code",
   "execution_count": 10,
   "metadata": {},
   "outputs": [],
   "source": [
    "\n",
    "model = Sequential(\n",
    "    name = \"Digits Classifier\",\n",
    "    modules = [\n",
    "        layers.Dense(num_units=24, activation=activations.ReLU()),\n",
    "        layers.BatchNormalization(),\n",
    "        layers.Dropout(rate=0.1),\n",
    "        layers.Dense(num_units=32, activation=activations.ReLU()),\n",
    "        layers.Dropout(rate=0.1),\n",
    "        layers.Dense(num_units=12, activation=activations.Tanh()),\n",
    "        layers.Dropout(rate=0.1),\n",
    "        layers.Dense(num_units=num_classes, activation=activations.Softmax())\n",
    "    ]\n",
    ")\n",
    "\n",
    "# Initialize the optimizer\n",
    "optimizer = optimizers.Adam(learning_rate=learning_rate)\n",
    "\n",
    "# Initialize the loss function\n",
    "loss_fn = loss_functions.CategoricalCrossEntropy()"
   ]
  },
  {
   "cell_type": "markdown",
   "metadata": {},
   "source": [
    "### Initializing the model"
   ]
  },
  {
   "cell_type": "code",
   "execution_count": 11,
   "metadata": {},
   "outputs": [],
   "source": [
    "# Call the model with a first batch to initialize the weights\n",
    "# This is not necessary, but it is useful to know the input size\n",
    "\n",
    "# Disable gradient computation\n",
    "with context_manager.no_grad():\n",
    "    # Set the model in evaluation mode\n",
    "    model.eval()\n",
    "    \n",
    "    # Call the model with a batch of data to initialize it\n",
    "    model(X_train[:batch_size])"
   ]
  },
  {
   "cell_type": "code",
   "execution_count": 18,
   "metadata": {},
   "outputs": [
    {
     "name": "stdout",
     "output_type": "stream",
     "text": [
      "\n",
      "Digits Classifier\n",
      "\n",
      "-----------------------------------------------------------------------------------------------\n",
      "Module (type)                                          Output Shape        Trainable params #  \n",
      "===============================================================================================\n",
      "digits_classifier.modules (ModuleList)                 (359, 10)           2934                \n",
      "===============================================================================================\n",
      "Total trainable parameters: 2934\n",
      "-----------------------------------------------------------------------------------------------\n",
      "\n",
      "digits_classifier.modules\n",
      "\n",
      "-----------------------------------------------------------------------------------------------\n",
      "Module (type)                                          Output Shape        Trainable params #  \n",
      "===============================================================================================\n",
      "module_list.0 (Dense)                                  (359, 24)           1560                \n",
      "-----------------------------------------------------------------------------------------------\n",
      "module_list.1 (BatchNormalization)                     (359, 24)           48                  \n",
      "-----------------------------------------------------------------------------------------------\n",
      "module_list.2 (Dropout)                                (359, 24)           0                   \n",
      "-----------------------------------------------------------------------------------------------\n",
      "module_list.3 (Dense)                                  (359, 32)           800                 \n",
      "-----------------------------------------------------------------------------------------------\n",
      "module_list.4 (Dropout)                                (359, 32)           0                   \n",
      "-----------------------------------------------------------------------------------------------\n",
      "module_list.5 (Dense)                                  (359, 12)           396                 \n",
      "-----------------------------------------------------------------------------------------------\n",
      "module_list.6 (Dropout)                                (359, 12)           0                   \n",
      "-----------------------------------------------------------------------------------------------\n",
      "module_list.7 (Dense)                                  (359, 10)           130                 \n",
      "===============================================================================================\n",
      "Total trainable parameters: 2934\n",
      "-----------------------------------------------------------------------------------------------\n"
     ]
    }
   ],
   "source": [
    "# Display the model summary\n",
    "model.summary()\n",
    "model.modules.summary()"
   ]
  },
  {
   "cell_type": "markdown",
   "metadata": {},
   "source": [
    "### Training the model"
   ]
  },
  {
   "cell_type": "code",
   "execution_count": 13,
   "metadata": {},
   "outputs": [
    {
     "name": "stdout",
     "output_type": "stream",
     "text": [
      "Epoch 1/300 --> loss: 2.3055 - accuracy: 0.1208 | Validation loss: 2.2982 - Validation accuracy: 0.1604                     \n",
      "Epoch 2/300 --> loss: 2.2668 - accuracy: 0.1954 | Validation loss: 2.2488 - Validation accuracy: 0.2477                     \n",
      "Epoch 3/300 --> loss: 2.2259 - accuracy: 0.3154 | Validation loss: 2.2033 - Validation accuracy: 0.3384                     \n",
      "Epoch 4/300 --> loss: 2.1897 - accuracy: 0.3683 | Validation loss: 2.1570 - Validation accuracy: 0.4847                     \n",
      "Epoch 5/300 --> loss: 2.1431 - accuracy: 0.4476 | Validation loss: 2.0997 - Validation accuracy: 0.5231                     \n",
      "Epoch 6/300 --> loss: 2.0881 - accuracy: 0.5030 | Validation loss: 2.0412 - Validation accuracy: 0.5752                     \n",
      "Epoch 7/300 --> loss: 2.0256 - accuracy: 0.5431 | Validation loss: 1.9723 - Validation accuracy: 0.5995                     \n",
      "Epoch 8/300 --> loss: 1.9693 - accuracy: 0.5622 | Validation loss: 1.9053 - Validation accuracy: 0.6655                     \n",
      "Epoch 9/300 --> loss: 1.9007 - accuracy: 0.5995 | Validation loss: 1.8369 - Validation accuracy: 0.6898                     \n",
      "Epoch 10/300 --> loss: 1.8352 - accuracy: 0.6264 | Validation loss: 1.7699 - Validation accuracy: 0.7037                     \n",
      "Epoch 11/300 --> loss: 1.7755 - accuracy: 0.6403 | Validation loss: 1.7009 - Validation accuracy: 0.7248                     \n",
      "Epoch 12/300 --> loss: 1.6992 - accuracy: 0.6682 | Validation loss: 1.6359 - Validation accuracy: 0.7317                     \n",
      "Epoch 13/300 --> loss: 1.6493 - accuracy: 0.6848 | Validation loss: 1.5717 - Validation accuracy: 0.7421                     \n",
      "Epoch 14/300 --> loss: 1.5895 - accuracy: 0.6906 | Validation loss: 1.5141 - Validation accuracy: 0.7560                     \n",
      "Epoch 15/300 --> loss: 1.5255 - accuracy: 0.7203 | Validation loss: 1.4496 - Validation accuracy: 0.7699                     \n",
      "Epoch 16/300 --> loss: 1.4711 - accuracy: 0.7341 | Validation loss: 1.3915 - Validation accuracy: 0.7630                     \n",
      "Epoch 17/300 --> loss: 1.4156 - accuracy: 0.7359 | Validation loss: 1.3430 - Validation accuracy: 0.7873                     \n",
      "Epoch 18/300 --> loss: 1.3738 - accuracy: 0.7324 | Validation loss: 1.2937 - Validation accuracy: 0.7838                     \n",
      "Epoch 19/300 --> loss: 1.3172 - accuracy: 0.7585 | Validation loss: 1.2508 - Validation accuracy: 0.7870                     \n",
      "Epoch 20/300 --> loss: 1.2934 - accuracy: 0.7671 | Validation loss: 1.2071 - Validation accuracy: 0.8081                     \n",
      "Epoch 21/300 --> loss: 1.2304 - accuracy: 0.7775 | Validation loss: 1.1612 - Validation accuracy: 0.8113                     \n",
      "Epoch 22/300 --> loss: 1.2058 - accuracy: 0.7768 | Validation loss: 1.1311 - Validation accuracy: 0.8081                     \n",
      "Epoch 23/300 --> loss: 1.1868 - accuracy: 0.7646 | Validation loss: 1.0892 - Validation accuracy: 0.8255                     \n",
      "Epoch 24/300 --> loss: 1.1289 - accuracy: 0.8019 | Validation loss: 1.0604 - Validation accuracy: 0.8220                     \n",
      "Epoch 25/300 --> loss: 1.0901 - accuracy: 0.8063 | Validation loss: 1.0288 - Validation accuracy: 0.8359                     \n",
      "Epoch 26/300 --> loss: 1.0903 - accuracy: 0.7949 | Validation loss: 1.0036 - Validation accuracy: 0.8359                     \n",
      "Epoch 27/300 --> loss: 1.0467 - accuracy: 0.8054 | Validation loss: 0.9713 - Validation accuracy: 0.8498                     \n",
      "Epoch 28/300 --> loss: 1.0223 - accuracy: 0.8124 | Validation loss: 0.9461 - Validation accuracy: 0.8671                     \n",
      "Epoch 29/300 --> loss: 1.0122 - accuracy: 0.8281 | Validation loss: 0.9140 - Validation accuracy: 0.8394                     \n",
      "Epoch 30/300 --> loss: 0.9806 - accuracy: 0.8261 | Validation loss: 0.8875 - Validation accuracy: 0.8498                     \n",
      "Epoch 31/300 --> loss: 0.9312 - accuracy: 0.8462 | Validation loss: 0.8646 - Validation accuracy: 0.8602                     \n",
      "Epoch 32/300 --> loss: 0.9189 - accuracy: 0.8315 | Validation loss: 0.8426 - Validation accuracy: 0.8602                     \n",
      "Epoch 33/300 --> loss: 0.8966 - accuracy: 0.8392 | Validation loss: 0.8240 - Validation accuracy: 0.8637                     \n",
      "Epoch 34/300 --> loss: 0.8618 - accuracy: 0.8480 | Validation loss: 0.7991 - Validation accuracy: 0.8706                     \n",
      "Epoch 35/300 --> loss: 0.8551 - accuracy: 0.8558 | Validation loss: 0.7802 - Validation accuracy: 0.8813                     \n",
      "Epoch 36/300 --> loss: 0.8405 - accuracy: 0.8488 | Validation loss: 0.7593 - Validation accuracy: 0.8847                     \n",
      "Epoch 37/300 --> loss: 0.8175 - accuracy: 0.8583 | Validation loss: 0.7446 - Validation accuracy: 0.8882                     \n",
      "Epoch 38/300 --> loss: 0.8087 - accuracy: 0.8472 | Validation loss: 0.7234 - Validation accuracy: 0.8882                     \n",
      "Epoch 39/300 --> loss: 0.7800 - accuracy: 0.8784 | Validation loss: 0.7096 - Validation accuracy: 0.8847                     \n",
      "Epoch 40/300 --> loss: 0.7828 - accuracy: 0.8618 | Validation loss: 0.6946 - Validation accuracy: 0.8810                     \n",
      "Epoch 41/300 --> loss: 0.7581 - accuracy: 0.8655 | Validation loss: 0.6764 - Validation accuracy: 0.8917                     \n",
      "Epoch 42/300 --> loss: 0.7177 - accuracy: 0.8888 | Validation loss: 0.6648 - Validation accuracy: 0.8986                     \n",
      "Epoch 43/300 --> loss: 0.7278 - accuracy: 0.8872 | Validation loss: 0.6478 - Validation accuracy: 0.8951                     \n",
      "Epoch 44/300 --> loss: 0.7116 - accuracy: 0.8802 | Validation loss: 0.6347 - Validation accuracy: 0.9021                     \n",
      "Epoch 45/300 --> loss: 0.6948 - accuracy: 0.8818 | Validation loss: 0.6211 - Validation accuracy: 0.9021                     \n",
      "Epoch 46/300 --> loss: 0.6756 - accuracy: 0.8913 | Validation loss: 0.6067 - Validation accuracy: 0.9021                     \n",
      "Epoch 47/300 --> loss: 0.6682 - accuracy: 0.8932 | Validation loss: 0.5976 - Validation accuracy: 0.9021                     \n",
      "Epoch 48/300 --> loss: 0.6651 - accuracy: 0.8854 | Validation loss: 0.5883 - Validation accuracy: 0.9021                     \n",
      "Epoch 49/300 --> loss: 0.6467 - accuracy: 0.8922 | Validation loss: 0.5717 - Validation accuracy: 0.9125                     \n",
      "Epoch 50/300 --> loss: 0.6290 - accuracy: 0.8914 | Validation loss: 0.5605 - Validation accuracy: 0.9194                     \n",
      "Epoch 51/300 --> loss: 0.5966 - accuracy: 0.9140 | Validation loss: 0.5503 - Validation accuracy: 0.9194                     \n",
      "Epoch 52/300 --> loss: 0.6099 - accuracy: 0.9017 | Validation loss: 0.5404 - Validation accuracy: 0.9264                     \n",
      "Epoch 53/300 --> loss: 0.6185 - accuracy: 0.8940 | Validation loss: 0.5236 - Validation accuracy: 0.9264                     \n",
      "Epoch 54/300 --> loss: 0.5809 - accuracy: 0.9149 | Validation loss: 0.5177 - Validation accuracy: 0.9264                     \n",
      "Epoch 55/300 --> loss: 0.5713 - accuracy: 0.9147 | Validation loss: 0.5108 - Validation accuracy: 0.9229                     \n",
      "Epoch 56/300 --> loss: 0.5738 - accuracy: 0.9018 | Validation loss: 0.4986 - Validation accuracy: 0.9299                     \n",
      "Epoch 57/300 --> loss: 0.5417 - accuracy: 0.9097 | Validation loss: 0.4901 - Validation accuracy: 0.9333                     \n",
      "Epoch 58/300 --> loss: 0.5447 - accuracy: 0.9027 | Validation loss: 0.4839 - Validation accuracy: 0.9299                     \n",
      "Epoch 59/300 --> loss: 0.5447 - accuracy: 0.9044 | Validation loss: 0.4764 - Validation accuracy: 0.9264                     \n",
      "Epoch 60/300 --> loss: 0.5328 - accuracy: 0.9139 | Validation loss: 0.4591 - Validation accuracy: 0.9299                     \n",
      "Epoch 61/300 --> loss: 0.5294 - accuracy: 0.9200 | Validation loss: 0.4539 - Validation accuracy: 0.9368                     \n",
      "Epoch 62/300 --> loss: 0.5039 - accuracy: 0.9115 | Validation loss: 0.4468 - Validation accuracy: 0.9368                     \n",
      "Epoch 63/300 --> loss: 0.4822 - accuracy: 0.9296 | Validation loss: 0.4429 - Validation accuracy: 0.9403                     \n",
      "Epoch 64/300 --> loss: 0.4913 - accuracy: 0.9201 | Validation loss: 0.4335 - Validation accuracy: 0.9333                     \n",
      "Epoch 65/300 --> loss: 0.4900 - accuracy: 0.9097 | Validation loss: 0.4297 - Validation accuracy: 0.9333                     \n",
      "Epoch 66/300 --> loss: 0.4794 - accuracy: 0.9244 | Validation loss: 0.4203 - Validation accuracy: 0.9299                     \n",
      "Epoch 67/300 --> loss: 0.4744 - accuracy: 0.9191 | Validation loss: 0.4075 - Validation accuracy: 0.9403                     \n",
      "Epoch 68/300 --> loss: 0.4596 - accuracy: 0.9200 | Validation loss: 0.4085 - Validation accuracy: 0.9333                     \n",
      "Epoch 69/300 --> loss: 0.4551 - accuracy: 0.9193 | Validation loss: 0.4021 - Validation accuracy: 0.9368                     \n",
      "Epoch 70/300 --> loss: 0.4413 - accuracy: 0.9271 | Validation loss: 0.3942 - Validation accuracy: 0.9299                     \n",
      "Epoch 71/300 --> loss: 0.4544 - accuracy: 0.9088 | Validation loss: 0.3905 - Validation accuracy: 0.9229                     \n",
      "Epoch 72/300 --> loss: 0.4496 - accuracy: 0.9262 | Validation loss: 0.3847 - Validation accuracy: 0.9368                     \n",
      "Epoch 73/300 --> loss: 0.4062 - accuracy: 0.9453 | Validation loss: 0.3755 - Validation accuracy: 0.9368                     \n",
      "Epoch 74/300 --> loss: 0.4513 - accuracy: 0.9113 | Validation loss: 0.3736 - Validation accuracy: 0.9437                     \n",
      "Epoch 75/300 --> loss: 0.4380 - accuracy: 0.9288 | Validation loss: 0.3673 - Validation accuracy: 0.9437                     \n",
      "Epoch 76/300 --> loss: 0.4202 - accuracy: 0.9245 | Validation loss: 0.3620 - Validation accuracy: 0.9368                     \n",
      "Epoch 77/300 --> loss: 0.4077 - accuracy: 0.9366 | Validation loss: 0.3572 - Validation accuracy: 0.9368                     \n",
      "Epoch 78/300 --> loss: 0.3947 - accuracy: 0.9392 | Validation loss: 0.3491 - Validation accuracy: 0.9437                     \n",
      "Epoch 79/300 --> loss: 0.4184 - accuracy: 0.9242 | Validation loss: 0.3498 - Validation accuracy: 0.9437                     \n",
      "Epoch 80/300 --> loss: 0.3963 - accuracy: 0.9375 | Validation loss: 0.3410 - Validation accuracy: 0.9403                     \n",
      "Epoch 81/300 --> loss: 0.3770 - accuracy: 0.9358 | Validation loss: 0.3354 - Validation accuracy: 0.9437                     \n",
      "Epoch 82/300 --> loss: 0.3857 - accuracy: 0.9349 | Validation loss: 0.3309 - Validation accuracy: 0.9437                     \n",
      "Epoch 83/300 --> loss: 0.3691 - accuracy: 0.9332 | Validation loss: 0.3280 - Validation accuracy: 0.9403                     \n",
      "Epoch 84/300 --> loss: 0.3740 - accuracy: 0.9304 | Validation loss: 0.3246 - Validation accuracy: 0.9472                     \n",
      "Epoch 85/300 --> loss: 0.3786 - accuracy: 0.9314 | Validation loss: 0.3195 - Validation accuracy: 0.9437                     \n",
      "Epoch 86/300 --> loss: 0.3799 - accuracy: 0.9358 | Validation loss: 0.3155 - Validation accuracy: 0.9542                     \n",
      "Epoch 87/300 --> loss: 0.3608 - accuracy: 0.9375 | Validation loss: 0.3077 - Validation accuracy: 0.9507                     \n",
      "Epoch 88/300 --> loss: 0.3575 - accuracy: 0.9373 | Validation loss: 0.3076 - Validation accuracy: 0.9437                     \n",
      "Epoch 89/300 --> loss: 0.3638 - accuracy: 0.9418 | Validation loss: 0.2970 - Validation accuracy: 0.9576                     \n",
      "Epoch 90/300 --> loss: 0.3491 - accuracy: 0.9401 | Validation loss: 0.2963 - Validation accuracy: 0.9507                     \n",
      "Epoch 91/300 --> loss: 0.3162 - accuracy: 0.9530 | Validation loss: 0.2913 - Validation accuracy: 0.9437                     \n",
      "Epoch 92/300 --> loss: 0.3436 - accuracy: 0.9286 | Validation loss: 0.2974 - Validation accuracy: 0.9440                     \n",
      "Epoch 93/300 --> loss: 0.3284 - accuracy: 0.9479 | Validation loss: 0.2837 - Validation accuracy: 0.9613                     \n",
      "Epoch 94/300 --> loss: 0.3176 - accuracy: 0.9549 | Validation loss: 0.2845 - Validation accuracy: 0.9509                     \n",
      "Epoch 95/300 --> loss: 0.3187 - accuracy: 0.9479 | Validation loss: 0.2863 - Validation accuracy: 0.9437                     \n",
      "Epoch 96/300 --> loss: 0.3187 - accuracy: 0.9443 | Validation loss: 0.2776 - Validation accuracy: 0.9507                     \n",
      "Epoch 97/300 --> loss: 0.3265 - accuracy: 0.9436 | Validation loss: 0.2746 - Validation accuracy: 0.9509                     \n",
      "Epoch 98/300 --> loss: 0.2983 - accuracy: 0.9505 | Validation loss: 0.2696 - Validation accuracy: 0.9507                     \n",
      "Epoch 99/300 --> loss: 0.3093 - accuracy: 0.9436 | Validation loss: 0.2703 - Validation accuracy: 0.9437                     \n",
      "Epoch 100/300 --> loss: 0.2977 - accuracy: 0.9488 | Validation loss: 0.2631 - Validation accuracy: 0.9507                     \n",
      "Epoch 101/300 --> loss: 0.2937 - accuracy: 0.9505 | Validation loss: 0.2631 - Validation accuracy: 0.9472                     \n",
      "Epoch 102/300 --> loss: 0.3051 - accuracy: 0.9496 | Validation loss: 0.2560 - Validation accuracy: 0.9437                     \n",
      "Epoch 103/300 --> loss: 0.2840 - accuracy: 0.9470 | Validation loss: 0.2494 - Validation accuracy: 0.9613                     \n",
      "Epoch 104/300 --> loss: 0.3051 - accuracy: 0.9461 | Validation loss: 0.2468 - Validation accuracy: 0.9613                     \n",
      "Epoch 105/300 --> loss: 0.2924 - accuracy: 0.9479 | Validation loss: 0.2451 - Validation accuracy: 0.9544                     \n",
      "Epoch 106/300 --> loss: 0.2784 - accuracy: 0.9557 | Validation loss: 0.2463 - Validation accuracy: 0.9579                     \n",
      "Epoch 107/300 --> loss: 0.2853 - accuracy: 0.9497 | Validation loss: 0.2396 - Validation accuracy: 0.9542                     \n",
      "Epoch 108/300 --> loss: 0.2769 - accuracy: 0.9462 | Validation loss: 0.2344 - Validation accuracy: 0.9613                     \n",
      "Epoch 109/300 --> loss: 0.2841 - accuracy: 0.9514 | Validation loss: 0.2345 - Validation accuracy: 0.9613                     \n",
      "Epoch 110/300 --> loss: 0.2769 - accuracy: 0.9487 | Validation loss: 0.2335 - Validation accuracy: 0.9576                     \n",
      "Epoch 111/300 --> loss: 0.2652 - accuracy: 0.9565 | Validation loss: 0.2279 - Validation accuracy: 0.9613                     \n",
      "Epoch 112/300 --> loss: 0.2772 - accuracy: 0.9505 | Validation loss: 0.2255 - Validation accuracy: 0.9613                     \n",
      "Epoch 113/300 --> loss: 0.2781 - accuracy: 0.9418 | Validation loss: 0.2263 - Validation accuracy: 0.9613                     \n",
      "Epoch 114/300 --> loss: 0.2704 - accuracy: 0.9470 | Validation loss: 0.2236 - Validation accuracy: 0.9507                     \n",
      "Epoch 115/300 --> loss: 0.2653 - accuracy: 0.9531 | Validation loss: 0.2172 - Validation accuracy: 0.9613                     \n",
      "Epoch 116/300 --> loss: 0.2533 - accuracy: 0.9514 | Validation loss: 0.2189 - Validation accuracy: 0.9613                     \n",
      "Epoch 117/300 --> loss: 0.2667 - accuracy: 0.9479 | Validation loss: 0.2183 - Validation accuracy: 0.9507                     \n",
      "Epoch 118/300 --> loss: 0.2455 - accuracy: 0.9583 | Validation loss: 0.2111 - Validation accuracy: 0.9648                     \n",
      "Epoch 119/300 --> loss: 0.2374 - accuracy: 0.9609 | Validation loss: 0.2112 - Validation accuracy: 0.9648                     \n",
      "Epoch 120/300 --> loss: 0.2434 - accuracy: 0.9538 | Validation loss: 0.2066 - Validation accuracy: 0.9648                     \n",
      "Epoch 121/300 --> loss: 0.2470 - accuracy: 0.9566 | Validation loss: 0.2076 - Validation accuracy: 0.9611                     \n",
      "Epoch 122/300 --> loss: 0.2540 - accuracy: 0.9497 | Validation loss: 0.2050 - Validation accuracy: 0.9648                     \n",
      "Epoch 123/300 --> loss: 0.2147 - accuracy: 0.9661 | Validation loss: 0.1973 - Validation accuracy: 0.9613                     \n",
      "Epoch 124/300 --> loss: 0.2485 - accuracy: 0.9435 | Validation loss: 0.1984 - Validation accuracy: 0.9544                     \n",
      "Epoch 125/300 --> loss: 0.2191 - accuracy: 0.9678 | Validation loss: 0.1958 - Validation accuracy: 0.9613                     \n",
      "Epoch 126/300 --> loss: 0.2254 - accuracy: 0.9487 | Validation loss: 0.1958 - Validation accuracy: 0.9613                     \n",
      "Epoch 127/300 --> loss: 0.2335 - accuracy: 0.9488 | Validation loss: 0.1871 - Validation accuracy: 0.9683                     \n",
      "Epoch 128/300 --> loss: 0.2422 - accuracy: 0.9531 | Validation loss: 0.1940 - Validation accuracy: 0.9613                     \n",
      "Epoch 129/300 --> loss: 0.2274 - accuracy: 0.9592 | Validation loss: 0.1894 - Validation accuracy: 0.9544                     \n",
      "Epoch 130/300 --> loss: 0.2351 - accuracy: 0.9566 | Validation loss: 0.1886 - Validation accuracy: 0.9579                     \n",
      "Epoch 131/300 --> loss: 0.2395 - accuracy: 0.9497 | Validation loss: 0.1865 - Validation accuracy: 0.9648                     \n",
      "Epoch 132/300 --> loss: 0.2099 - accuracy: 0.9635 | Validation loss: 0.1857 - Validation accuracy: 0.9613                     \n",
      "Epoch 133/300 --> loss: 0.2379 - accuracy: 0.9505 | Validation loss: 0.1824 - Validation accuracy: 0.9648                     \n",
      "Epoch 134/300 --> loss: 0.2275 - accuracy: 0.9531 | Validation loss: 0.1803 - Validation accuracy: 0.9648                     \n",
      "Epoch 135/300 --> loss: 0.2173 - accuracy: 0.9557 | Validation loss: 0.1866 - Validation accuracy: 0.9683                     \n",
      "Epoch 136/300 --> loss: 0.2201 - accuracy: 0.9540 | Validation loss: 0.1845 - Validation accuracy: 0.9544                     \n",
      "Epoch 137/300 --> loss: 0.2078 - accuracy: 0.9627 | Validation loss: 0.1786 - Validation accuracy: 0.9648                     \n",
      "Epoch 138/300 --> loss: 0.2271 - accuracy: 0.9513 | Validation loss: 0.1758 - Validation accuracy: 0.9648                     \n",
      "Epoch 139/300 --> loss: 0.2020 - accuracy: 0.9531 | Validation loss: 0.1770 - Validation accuracy: 0.9648                     \n",
      "Epoch 140/300 --> loss: 0.2118 - accuracy: 0.9575 | Validation loss: 0.1670 - Validation accuracy: 0.9648                     \n",
      "Epoch 141/300 --> loss: 0.2006 - accuracy: 0.9609 | Validation loss: 0.1670 - Validation accuracy: 0.9648                     \n",
      "Epoch 142/300 --> loss: 0.2008 - accuracy: 0.9549 | Validation loss: 0.1679 - Validation accuracy: 0.9648                     \n",
      "Epoch 143/300 --> loss: 0.1946 - accuracy: 0.9644 | Validation loss: 0.1676 - Validation accuracy: 0.9613                     \n",
      "Epoch 144/300 --> loss: 0.2123 - accuracy: 0.9575 | Validation loss: 0.1730 - Validation accuracy: 0.9546                     \n",
      "Epoch 145/300 --> loss: 0.1973 - accuracy: 0.9644 | Validation loss: 0.1623 - Validation accuracy: 0.9579                     \n",
      "Epoch 146/300 --> loss: 0.2118 - accuracy: 0.9539 | Validation loss: 0.1638 - Validation accuracy: 0.9648                     \n",
      "Epoch 147/300 --> loss: 0.2033 - accuracy: 0.9548 | Validation loss: 0.1649 - Validation accuracy: 0.9613                     \n",
      "Epoch 148/300 --> loss: 0.1934 - accuracy: 0.9618 | Validation loss: 0.1606 - Validation accuracy: 0.9648                     \n",
      "Epoch 149/300 --> loss: 0.1822 - accuracy: 0.9644 | Validation loss: 0.1602 - Validation accuracy: 0.9613                     \n",
      "Epoch 150/300 --> loss: 0.1915 - accuracy: 0.9566 | Validation loss: 0.1605 - Validation accuracy: 0.9613                     \n",
      "Epoch 151/300 --> loss: 0.1888 - accuracy: 0.9592 | Validation loss: 0.1612 - Validation accuracy: 0.9613                     \n",
      "Epoch 152/300 --> loss: 0.1909 - accuracy: 0.9618 | Validation loss: 0.1559 - Validation accuracy: 0.9648                     \n",
      "Epoch 153/300 --> loss: 0.1823 - accuracy: 0.9635 | Validation loss: 0.1601 - Validation accuracy: 0.9648                     \n",
      "Epoch 154/300 --> loss: 0.1728 - accuracy: 0.9661 | Validation loss: 0.1596 - Validation accuracy: 0.9650                     \n",
      "Epoch 155/300 --> loss: 0.1902 - accuracy: 0.9566 | Validation loss: 0.1531 - Validation accuracy: 0.9613                     \n",
      "Epoch 156/300 --> loss: 0.1889 - accuracy: 0.9617 | Validation loss: 0.1517 - Validation accuracy: 0.9613                     \n",
      "Epoch 157/300 --> loss: 0.1828 - accuracy: 0.9644 | Validation loss: 0.1515 - Validation accuracy: 0.9648                     \n",
      "Epoch 158/300 --> loss: 0.1942 - accuracy: 0.9557 | Validation loss: 0.1506 - Validation accuracy: 0.9683                     \n",
      "Epoch 159/300 --> loss: 0.1847 - accuracy: 0.9583 | Validation loss: 0.1500 - Validation accuracy: 0.9613                     \n",
      "Epoch 160/300 --> loss: 0.1837 - accuracy: 0.9653 | Validation loss: 0.1527 - Validation accuracy: 0.9613                     \n",
      "Epoch 161/300 --> loss: 0.1710 - accuracy: 0.9609 | Validation loss: 0.1480 - Validation accuracy: 0.9613                     \n",
      "Epoch 162/300 --> loss: 0.1797 - accuracy: 0.9626 | Validation loss: 0.1514 - Validation accuracy: 0.9648                     \n",
      "Epoch 163/300 --> loss: 0.1706 - accuracy: 0.9644 | Validation loss: 0.1512 - Validation accuracy: 0.9683                     \n",
      "Epoch 164/300 --> loss: 0.1704 - accuracy: 0.9696 | Validation loss: 0.1492 - Validation accuracy: 0.9579                     \n",
      "Epoch 165/300 --> loss: 0.1684 - accuracy: 0.9678 | Validation loss: 0.1449 - Validation accuracy: 0.9648                     \n",
      "Epoch 166/300 --> loss: 0.1738 - accuracy: 0.9635 | Validation loss: 0.1488 - Validation accuracy: 0.9648                     \n",
      "Epoch 167/300 --> loss: 0.1855 - accuracy: 0.9548 | Validation loss: 0.1407 - Validation accuracy: 0.9613                     \n",
      "Epoch 168/300 --> loss: 0.1933 - accuracy: 0.9512 | Validation loss: 0.1422 - Validation accuracy: 0.9613                     \n",
      "Epoch 169/300 --> loss: 0.1679 - accuracy: 0.9592 | Validation loss: 0.1499 - Validation accuracy: 0.9613                     \n",
      "Epoch 170/300 --> loss: 0.1655 - accuracy: 0.9678 | Validation loss: 0.1446 - Validation accuracy: 0.9579                     \n",
      "Epoch 171/300 --> loss: 0.1672 - accuracy: 0.9696 | Validation loss: 0.1499 - Validation accuracy: 0.9544                     \n",
      "Epoch 172/300 --> loss: 0.1660 - accuracy: 0.9618 | Validation loss: 0.1441 - Validation accuracy: 0.9581                     \n",
      "Epoch 173/300 --> loss: 0.1545 - accuracy: 0.9670 | Validation loss: 0.1495 - Validation accuracy: 0.9509                     \n",
      "Epoch 174/300 --> loss: 0.1565 - accuracy: 0.9704 | Validation loss: 0.1361 - Validation accuracy: 0.9648                     \n",
      "Epoch 175/300 --> loss: 0.1718 - accuracy: 0.9653 | Validation loss: 0.1411 - Validation accuracy: 0.9613                     \n",
      "Epoch 176/300 --> loss: 0.1493 - accuracy: 0.9678 | Validation loss: 0.1376 - Validation accuracy: 0.9613                     \n",
      "Epoch 177/300 --> loss: 0.1439 - accuracy: 0.9757 | Validation loss: 0.1295 - Validation accuracy: 0.9648                     \n",
      "Epoch 178/300 --> loss: 0.1412 - accuracy: 0.9757 | Validation loss: 0.1348 - Validation accuracy: 0.9579                     \n",
      "Epoch 179/300 --> loss: 0.1413 - accuracy: 0.9704 | Validation loss: 0.1331 - Validation accuracy: 0.9648                     \n",
      "Epoch 180/300 --> loss: 0.1494 - accuracy: 0.9661 | Validation loss: 0.1285 - Validation accuracy: 0.9648                     \n",
      "Epoch 181/300 --> loss: 0.1469 - accuracy: 0.9714 | Validation loss: 0.1295 - Validation accuracy: 0.9683                     \n",
      "Epoch 182/300 --> loss: 0.1568 - accuracy: 0.9661 | Validation loss: 0.1349 - Validation accuracy: 0.9579                     \n",
      "Epoch 183/300 --> loss: 0.1465 - accuracy: 0.9722 | Validation loss: 0.1290 - Validation accuracy: 0.9613                     \n",
      "Epoch 184/300 --> loss: 0.1423 - accuracy: 0.9696 | Validation loss: 0.1298 - Validation accuracy: 0.9685                     \n",
      "Epoch 185/300 --> loss: 0.1491 - accuracy: 0.9626 | Validation loss: 0.1307 - Validation accuracy: 0.9613                     \n",
      "Epoch 186/300 --> loss: 0.1454 - accuracy: 0.9583 | Validation loss: 0.1314 - Validation accuracy: 0.9648                     \n",
      "Epoch 187/300 --> loss: 0.1702 - accuracy: 0.9600 | Validation loss: 0.1305 - Validation accuracy: 0.9613                     \n",
      "Epoch 188/300 --> loss: 0.1500 - accuracy: 0.9653 | Validation loss: 0.1287 - Validation accuracy: 0.9616                     \n",
      "Epoch 189/300 --> loss: 0.1422 - accuracy: 0.9687 | Validation loss: 0.1268 - Validation accuracy: 0.9685                     \n",
      "Epoch 190/300 --> loss: 0.1534 - accuracy: 0.9627 | Validation loss: 0.1277 - Validation accuracy: 0.9650                     \n",
      "Epoch 191/300 --> loss: 0.1413 - accuracy: 0.9678 | Validation loss: 0.1257 - Validation accuracy: 0.9683                     \n",
      "Epoch 192/300 --> loss: 0.1416 - accuracy: 0.9687 | Validation loss: 0.1224 - Validation accuracy: 0.9648                     \n",
      "Epoch 193/300 --> loss: 0.1353 - accuracy: 0.9705 | Validation loss: 0.1231 - Validation accuracy: 0.9613                     \n",
      "Epoch 194/300 --> loss: 0.1462 - accuracy: 0.9670 | Validation loss: 0.1255 - Validation accuracy: 0.9613                     \n",
      "Epoch 195/300 --> loss: 0.1497 - accuracy: 0.9608 | Validation loss: 0.1219 - Validation accuracy: 0.9613                     \n",
      "Epoch 196/300 --> loss: 0.1398 - accuracy: 0.9722 | Validation loss: 0.1287 - Validation accuracy: 0.9579                     \n",
      "Epoch 197/300 --> loss: 0.1354 - accuracy: 0.9705 | Validation loss: 0.1266 - Validation accuracy: 0.9613                     \n",
      "Epoch 198/300 --> loss: 0.1415 - accuracy: 0.9679 | Validation loss: 0.1199 - Validation accuracy: 0.9613                     \n",
      "Epoch 199/300 --> loss: 0.1352 - accuracy: 0.9670 | Validation loss: 0.1179 - Validation accuracy: 0.9648                     \n",
      "Epoch 200/300 --> loss: 0.1501 - accuracy: 0.9740 | Validation loss: 0.1204 - Validation accuracy: 0.9648                     \n",
      "Epoch 201/300 --> loss: 0.1531 - accuracy: 0.9627 | Validation loss: 0.1261 - Validation accuracy: 0.9579                     \n",
      "Epoch 202/300 --> loss: 0.1336 - accuracy: 0.9696 | Validation loss: 0.1284 - Validation accuracy: 0.9579                     \n",
      "Epoch 203/300 --> loss: 0.1234 - accuracy: 0.9748 | Validation loss: 0.1178 - Validation accuracy: 0.9683                     \n",
      "Epoch 204/300 --> loss: 0.1370 - accuracy: 0.9696 | Validation loss: 0.1193 - Validation accuracy: 0.9648                     \n",
      "Epoch 205/300 --> loss: 0.1382 - accuracy: 0.9740 | Validation loss: 0.1236 - Validation accuracy: 0.9720                     \n",
      "Epoch 206/300 --> loss: 0.1279 - accuracy: 0.9704 | Validation loss: 0.1163 - Validation accuracy: 0.9683                     \n",
      "Epoch 207/300 --> loss: 0.1453 - accuracy: 0.9679 | Validation loss: 0.1230 - Validation accuracy: 0.9613                     \n",
      "Epoch 208/300 --> loss: 0.1280 - accuracy: 0.9687 | Validation loss: 0.1176 - Validation accuracy: 0.9648                     \n",
      "Epoch 209/300 --> loss: 0.1201 - accuracy: 0.9687 | Validation loss: 0.1271 - Validation accuracy: 0.9755                     \n",
      "Epoch 210/300 --> loss: 0.1403 - accuracy: 0.9670 | Validation loss: 0.1208 - Validation accuracy: 0.9613                     \n",
      "Epoch 211/300 --> loss: 0.1279 - accuracy: 0.9704 | Validation loss: 0.1186 - Validation accuracy: 0.9613                     \n",
      "Epoch 212/300 --> loss: 0.1164 - accuracy: 0.9739 | Validation loss: 0.1198 - Validation accuracy: 0.9720                     \n",
      "Epoch 213/300 --> loss: 0.1173 - accuracy: 0.9731 | Validation loss: 0.1273 - Validation accuracy: 0.9579                     \n",
      "Epoch 214/300 --> loss: 0.1240 - accuracy: 0.9696 | Validation loss: 0.1225 - Validation accuracy: 0.9683                     \n",
      "Epoch 215/300 --> loss: 0.1385 - accuracy: 0.9661 | Validation loss: 0.1252 - Validation accuracy: 0.9613                     \n",
      "Epoch 216/300 --> loss: 0.1192 - accuracy: 0.9722 | Validation loss: 0.1230 - Validation accuracy: 0.9683                     \n",
      "Early stopping: stopping training after 216 epochs.\n"
     ]
    }
   ],
   "source": [
    "history = model.fit(\n",
    "    X_train = X_train, \n",
    "    y_train = y_train_encoded,\n",
    "    optimizer = optimizer,\n",
    "    loss_fn = loss_fn,\n",
    "    X_valid = X_valid,\n",
    "    y_valid = y_valid_encoded,\n",
    "    batch_size = batch_size,\n",
    "    epochs = epochs,\n",
    "    metrics = [metrics.accuracy],\n",
    "    callbacks = [callbacks.EarlyStopping(monitor='val_loss', patience=10)]\n",
    ")"
   ]
  },
  {
   "cell_type": "code",
   "execution_count": 14,
   "metadata": {},
   "outputs": [],
   "source": [
    "# Save the model\n",
    "model.save(model_path)"
   ]
  },
  {
   "cell_type": "code",
   "execution_count": null,
   "metadata": {},
   "outputs": [
    {
     "data": {
      "image/png": "[encoded data removed]",
      "text/plain": [
       "<Figure size 800x400 with 1 Axes>"
      ]
     },
     "metadata": {},
     "output_type": "display_data"
    }
   ],
   "source": [
    "# Plot the training and validation loss\n",
    "data_analysis.plot_history(\n",
    "    train_loss = history[\"loss\"], \n",
    "    valid_loss = history[\"val_loss\"], \n",
    "    title = \"Training and Validation Loss\", \n",
    "    xlabel = \"Epoch\", \n",
    "    ylabel = \"Loss\"\n",
    ")"
   ]
  },
  {
   "cell_type": "markdown",
   "metadata": {},
   "source": [
    "### Evaluation"
   ]
  },
  {
   "cell_type": "code",
   "execution_count": 16,
   "metadata": {},
   "outputs": [],
   "source": [
    "# Disable gradient computation\n",
    "with context_manager.no_grad():\n",
    "    # Set the model in evaluation mode\n",
    "    model.eval()\n",
    "    \n",
    "    # Compute the predictions\n",
    "    predictions = model(X_test)\n",
    "\n",
    "# Apply the argmax function to the predictions\n",
    "predictions = Tensor(np.argmax(predictions.data, axis=1), dtype=np.int8)"
   ]
  },
  {
   "cell_type": "code",
   "execution_count": null,
   "metadata": {},
   "outputs": [
    {
     "name": "stdout",
     "output_type": "stream",
     "text": [
      "Accuracy: 0.96\n"
     ]
    },
    {
     "data": {
      "image/png": "[encoded data removed]",
      "text/plain": [
       "<Figure size 600x600 with 1 Axes>"
      ]
     },
     "metadata": {},
     "output_type": "display_data"
    }
   ],
   "source": [
    "# Compute the accuracy\n",
    "accuracy = metrics.accuracy(y_test, predictions)\n",
    "confusion_matrix = metrics.confusion_matrix(num_classes, y_test, predictions)\n",
    "\n",
    "# Print the accuracy\n",
    "print(f\"Accuracy: {accuracy.data:.2f}\")\n",
    "\n",
    "# Plot the confusion matrix\n",
    "data_analysis.plot_confusion_matrix(confusion_matrix)"
   ]
  }
 ],
 "metadata": {
  "kernelspec": {
   "display_name": "venv",
   "language": "python",
   "name": "python3"
  },
  "language_info": {
   "codemirror_mode": {
    "name": "ipython",
    "version": 3
   },
   "file_extension": ".py",
   "mimetype": "text/x-python",
   "name": "python",
   "nbconvert_exporter": "python",
   "pygments_lexer": "ipython3",
   "version": "3.11.13"
  }
 },
 "nbformat": 4,
 "nbformat_minor": 2
}
